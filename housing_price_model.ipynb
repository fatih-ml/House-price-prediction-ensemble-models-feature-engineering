{
 "cells": [
  {
   "cell_type": "markdown",
   "id": "b8c91ec7-d815-45e6-a2eb-23d739f4075c",
   "metadata": {},
   "source": [
    "# House Prices - Advanced Regression Techniques\n",
    "## Predict sales prices and practice feature engineering, RFs, and gradient boosting"
   ]
  },
  {
   "cell_type": "markdown",
   "id": "54e9d148-8f82-4623-9b18-b0b08f73bf3d",
   "metadata": {},
   "source": [
    "# 1. Introduction"
   ]
  },
  {
   "cell_type": "markdown",
   "id": "ddc6f291-ffb9-4499-b7c4-dbebf8bcebb1",
   "metadata": {},
   "source": [
    "\r\n",
    "\r\n",
    "Welcome to my Jupyter notebook for the Kaggle competition \"House Prices - Advanced Regression Techniques\". In this competition, the goal is to predict the sale prices of homes based on a variety of features. This project provides an opportunity to practice advanced regression techniques, feature engineering, and model evaluation.\n",
    "\r\n",
    "### Objective\r\n",
    "\r\n",
    "The objective of this competition is to develop a regression model that accurately predicts the sale prices of houses. To achieve this, we'll perform exploratory data analysis, preprocess the dataset, engineer relevant features, train various regression models, and evaluate their performace.\r\n",
    "\r\n",
    "### Dataset Overview\r\n",
    "\r\n",
    "The dataset provided for this competition contains information about various attributes of residential homes. It includes features such as square footage, number of bedrooms, location, and more. Additionally, the dataset contains the target variable, which is the sale price of eac house.\r\n",
    "\r\n",
    "### Tools and Libraries Used\r\n",
    "\r\n",
    "- Python\r\n",
    "- Pandas for data manipulation\r\n",
    "- Matplotlib and Seaborn for data visualization\r\n",
    "- Scikit-learn for model building and evaluation\r\n",
    "\r\n",
    "Now, let's start by loading and exploring the dataset to gain a better understanding of the features and their relationships with the target variable.\r\n"
   ]
  },
  {
   "cell_type": "markdown",
   "id": "b2b75b77-5d59-43ce-817f-c4c8942dcf19",
   "metadata": {},
   "source": [
    "# 2. Data Exploration and Preprocessing"
   ]
  },
  {
   "cell_type": "markdown",
   "id": "e30c5df2-2339-4e28-bfcc-06231623ec7f",
   "metadata": {},
   "source": [
    "## Loading the dataset"
   ]
  },
  {
   "cell_type": "code",
   "execution_count": 59,
   "id": "8d74c253-b3be-4986-828a-ba816550e9b0",
   "metadata": {
    "execution": {
     "iopub.execute_input": "2023-10-09T14:21:06.175010Z",
     "iopub.status.busy": "2023-10-09T14:21:06.173498Z",
     "iopub.status.idle": "2023-10-09T14:21:06.192711Z",
     "shell.execute_reply": "2023-10-09T14:21:06.191557Z",
     "shell.execute_reply.started": "2023-10-09T14:21:06.175010Z"
    }
   },
   "outputs": [],
   "source": [
    "import pandas as pd\n",
    "import numpy as np\n",
    "import matplotlib.pyplot as plt\n",
    "import seaborn as sns\n",
    "import warnings\n",
    "warnings.filterwarnings('ignore')"
   ]
  },
  {
   "cell_type": "code",
   "execution_count": 60,
   "id": "7267fd8e-7baf-44d0-9d3d-456d03c7f4a2",
   "metadata": {
    "execution": {
     "iopub.execute_input": "2023-10-09T14:21:06.193217Z",
     "iopub.status.busy": "2023-10-09T14:21:06.193217Z",
     "iopub.status.idle": "2023-10-09T14:21:06.208412Z",
     "shell.execute_reply": "2023-10-09T14:21:06.208412Z",
     "shell.execute_reply.started": "2023-10-09T14:21:06.193217Z"
    }
   },
   "outputs": [],
   "source": [
    "#pd.set_option('display.max_rows', None)\n",
    "pd.set_option('display.max_columns', None)"
   ]
  },
  {
   "cell_type": "code",
   "execution_count": 61,
   "id": "7ae0f8e7-1aab-494c-8817-852c69ee7057",
   "metadata": {
    "execution": {
     "iopub.execute_input": "2023-10-09T14:21:06.211115Z",
     "iopub.status.busy": "2023-10-09T14:21:06.209881Z",
     "iopub.status.idle": "2023-10-09T14:21:06.250234Z",
     "shell.execute_reply": "2023-10-09T14:21:06.249835Z",
     "shell.execute_reply.started": "2023-10-09T14:21:06.211115Z"
    }
   },
   "outputs": [
    {
     "name": "stdout",
     "output_type": "stream",
     "text": [
      "(1460, 81)\n",
      "(1459, 80)\n"
     ]
    }
   ],
   "source": [
    "df_train = pd.read_csv('data_downloaded/train.csv')\n",
    "df_test = pd.read_csv('data_downloaded/test.csv')\n",
    "\n",
    "print(df_train.shape)\n",
    "print(df_test.shape)"
   ]
  },
  {
   "cell_type": "code",
   "execution_count": 62,
   "id": "335ff604-9b20-4e73-89b0-dc0a2c3c4067",
   "metadata": {
    "execution": {
     "iopub.execute_input": "2023-10-09T14:21:06.251983Z",
     "iopub.status.busy": "2023-10-09T14:21:06.251983Z",
     "iopub.status.idle": "2023-10-09T14:21:06.266700Z",
     "shell.execute_reply": "2023-10-09T14:21:06.266030Z",
     "shell.execute_reply.started": "2023-10-09T14:21:06.251983Z"
    }
   },
   "outputs": [
    {
     "name": "stdout",
     "output_type": "stream",
     "text": [
      "(2919, 81)\n"
     ]
    }
   ],
   "source": [
    "df_merge = pd.concat([df_train, df_test], ignore_index=True)\n",
    "print(df_merge.shape)"
   ]
  },
  {
   "cell_type": "markdown",
   "id": "5e91a443-ef7a-4ffc-acf9-d8460c72abc9",
   "metadata": {},
   "source": [
    "## Exploring the dataset"
   ]
  },
  {
   "cell_type": "code",
   "execution_count": 63,
   "id": "efe11d10-2cf8-4ed2-9eca-79f49e0affdb",
   "metadata": {
    "execution": {
     "iopub.execute_input": "2023-10-09T14:21:06.266700Z",
     "iopub.status.busy": "2023-10-09T14:21:06.266700Z",
     "iopub.status.idle": "2023-10-09T14:21:06.322526Z",
     "shell.execute_reply": "2023-10-09T14:21:06.322526Z",
     "shell.execute_reply.started": "2023-10-09T14:21:06.266700Z"
    },
    "scrolled": true
   },
   "outputs": [
    {
     "data": {
      "text/html": [
       "<div>\n",
       "<style scoped>\n",
       "    .dataframe tbody tr th:only-of-type {\n",
       "        vertical-align: middle;\n",
       "    }\n",
       "\n",
       "    .dataframe tbody tr th {\n",
       "        vertical-align: top;\n",
       "    }\n",
       "\n",
       "    .dataframe thead th {\n",
       "        text-align: right;\n",
       "    }\n",
       "</style>\n",
       "<table border=\"1\" class=\"dataframe\">\n",
       "  <thead>\n",
       "    <tr style=\"text-align: right;\">\n",
       "      <th></th>\n",
       "      <th>Id</th>\n",
       "      <th>MSSubClass</th>\n",
       "      <th>MSZoning</th>\n",
       "      <th>LotFrontage</th>\n",
       "      <th>LotArea</th>\n",
       "      <th>Street</th>\n",
       "      <th>Alley</th>\n",
       "      <th>LotShape</th>\n",
       "      <th>LandContour</th>\n",
       "      <th>Utilities</th>\n",
       "      <th>LotConfig</th>\n",
       "      <th>LandSlope</th>\n",
       "      <th>Neighborhood</th>\n",
       "      <th>Condition1</th>\n",
       "      <th>Condition2</th>\n",
       "      <th>BldgType</th>\n",
       "      <th>HouseStyle</th>\n",
       "      <th>OverallQual</th>\n",
       "      <th>OverallCond</th>\n",
       "      <th>YearBuilt</th>\n",
       "      <th>YearRemodAdd</th>\n",
       "      <th>RoofStyle</th>\n",
       "      <th>RoofMatl</th>\n",
       "      <th>Exterior1st</th>\n",
       "      <th>Exterior2nd</th>\n",
       "      <th>MasVnrType</th>\n",
       "      <th>MasVnrArea</th>\n",
       "      <th>ExterQual</th>\n",
       "      <th>ExterCond</th>\n",
       "      <th>Foundation</th>\n",
       "      <th>BsmtQual</th>\n",
       "      <th>BsmtCond</th>\n",
       "      <th>BsmtExposure</th>\n",
       "      <th>BsmtFinType1</th>\n",
       "      <th>BsmtFinSF1</th>\n",
       "      <th>BsmtFinType2</th>\n",
       "      <th>BsmtFinSF2</th>\n",
       "      <th>BsmtUnfSF</th>\n",
       "      <th>TotalBsmtSF</th>\n",
       "      <th>Heating</th>\n",
       "      <th>HeatingQC</th>\n",
       "      <th>CentralAir</th>\n",
       "      <th>Electrical</th>\n",
       "      <th>1stFlrSF</th>\n",
       "      <th>2ndFlrSF</th>\n",
       "      <th>LowQualFinSF</th>\n",
       "      <th>GrLivArea</th>\n",
       "      <th>BsmtFullBath</th>\n",
       "      <th>BsmtHalfBath</th>\n",
       "      <th>FullBath</th>\n",
       "      <th>HalfBath</th>\n",
       "      <th>BedroomAbvGr</th>\n",
       "      <th>KitchenAbvGr</th>\n",
       "      <th>KitchenQual</th>\n",
       "      <th>TotRmsAbvGrd</th>\n",
       "      <th>Functional</th>\n",
       "      <th>Fireplaces</th>\n",
       "      <th>FireplaceQu</th>\n",
       "      <th>GarageType</th>\n",
       "      <th>GarageYrBlt</th>\n",
       "      <th>GarageFinish</th>\n",
       "      <th>GarageCars</th>\n",
       "      <th>GarageArea</th>\n",
       "      <th>GarageQual</th>\n",
       "      <th>GarageCond</th>\n",
       "      <th>PavedDrive</th>\n",
       "      <th>WoodDeckSF</th>\n",
       "      <th>OpenPorchSF</th>\n",
       "      <th>EnclosedPorch</th>\n",
       "      <th>3SsnPorch</th>\n",
       "      <th>ScreenPorch</th>\n",
       "      <th>PoolArea</th>\n",
       "      <th>PoolQC</th>\n",
       "      <th>Fence</th>\n",
       "      <th>MiscFeature</th>\n",
       "      <th>MiscVal</th>\n",
       "      <th>MoSold</th>\n",
       "      <th>YrSold</th>\n",
       "      <th>SaleType</th>\n",
       "      <th>SaleCondition</th>\n",
       "      <th>SalePrice</th>\n",
       "    </tr>\n",
       "  </thead>\n",
       "  <tbody>\n",
       "    <tr>\n",
       "      <th>0</th>\n",
       "      <td>1</td>\n",
       "      <td>60</td>\n",
       "      <td>RL</td>\n",
       "      <td>65.0</td>\n",
       "      <td>8450</td>\n",
       "      <td>Pave</td>\n",
       "      <td>NaN</td>\n",
       "      <td>Reg</td>\n",
       "      <td>Lvl</td>\n",
       "      <td>AllPub</td>\n",
       "      <td>Inside</td>\n",
       "      <td>Gtl</td>\n",
       "      <td>CollgCr</td>\n",
       "      <td>Norm</td>\n",
       "      <td>Norm</td>\n",
       "      <td>1Fam</td>\n",
       "      <td>2Story</td>\n",
       "      <td>7</td>\n",
       "      <td>5</td>\n",
       "      <td>2003</td>\n",
       "      <td>2003</td>\n",
       "      <td>Gable</td>\n",
       "      <td>CompShg</td>\n",
       "      <td>VinylSd</td>\n",
       "      <td>VinylSd</td>\n",
       "      <td>BrkFace</td>\n",
       "      <td>196.0</td>\n",
       "      <td>Gd</td>\n",
       "      <td>TA</td>\n",
       "      <td>PConc</td>\n",
       "      <td>Gd</td>\n",
       "      <td>TA</td>\n",
       "      <td>No</td>\n",
       "      <td>GLQ</td>\n",
       "      <td>706.0</td>\n",
       "      <td>Unf</td>\n",
       "      <td>0.0</td>\n",
       "      <td>150.0</td>\n",
       "      <td>856.0</td>\n",
       "      <td>GasA</td>\n",
       "      <td>Ex</td>\n",
       "      <td>Y</td>\n",
       "      <td>SBrkr</td>\n",
       "      <td>856</td>\n",
       "      <td>854</td>\n",
       "      <td>0</td>\n",
       "      <td>1710</td>\n",
       "      <td>1.0</td>\n",
       "      <td>0.0</td>\n",
       "      <td>2</td>\n",
       "      <td>1</td>\n",
       "      <td>3</td>\n",
       "      <td>1</td>\n",
       "      <td>Gd</td>\n",
       "      <td>8</td>\n",
       "      <td>Typ</td>\n",
       "      <td>0</td>\n",
       "      <td>NaN</td>\n",
       "      <td>Attchd</td>\n",
       "      <td>2003.0</td>\n",
       "      <td>RFn</td>\n",
       "      <td>2.0</td>\n",
       "      <td>548.0</td>\n",
       "      <td>TA</td>\n",
       "      <td>TA</td>\n",
       "      <td>Y</td>\n",
       "      <td>0</td>\n",
       "      <td>61</td>\n",
       "      <td>0</td>\n",
       "      <td>0</td>\n",
       "      <td>0</td>\n",
       "      <td>0</td>\n",
       "      <td>NaN</td>\n",
       "      <td>NaN</td>\n",
       "      <td>NaN</td>\n",
       "      <td>0</td>\n",
       "      <td>2</td>\n",
       "      <td>2008</td>\n",
       "      <td>WD</td>\n",
       "      <td>Normal</td>\n",
       "      <td>208500.0</td>\n",
       "    </tr>\n",
       "    <tr>\n",
       "      <th>1</th>\n",
       "      <td>2</td>\n",
       "      <td>20</td>\n",
       "      <td>RL</td>\n",
       "      <td>80.0</td>\n",
       "      <td>9600</td>\n",
       "      <td>Pave</td>\n",
       "      <td>NaN</td>\n",
       "      <td>Reg</td>\n",
       "      <td>Lvl</td>\n",
       "      <td>AllPub</td>\n",
       "      <td>FR2</td>\n",
       "      <td>Gtl</td>\n",
       "      <td>Veenker</td>\n",
       "      <td>Feedr</td>\n",
       "      <td>Norm</td>\n",
       "      <td>1Fam</td>\n",
       "      <td>1Story</td>\n",
       "      <td>6</td>\n",
       "      <td>8</td>\n",
       "      <td>1976</td>\n",
       "      <td>1976</td>\n",
       "      <td>Gable</td>\n",
       "      <td>CompShg</td>\n",
       "      <td>MetalSd</td>\n",
       "      <td>MetalSd</td>\n",
       "      <td>None</td>\n",
       "      <td>0.0</td>\n",
       "      <td>TA</td>\n",
       "      <td>TA</td>\n",
       "      <td>CBlock</td>\n",
       "      <td>Gd</td>\n",
       "      <td>TA</td>\n",
       "      <td>Gd</td>\n",
       "      <td>ALQ</td>\n",
       "      <td>978.0</td>\n",
       "      <td>Unf</td>\n",
       "      <td>0.0</td>\n",
       "      <td>284.0</td>\n",
       "      <td>1262.0</td>\n",
       "      <td>GasA</td>\n",
       "      <td>Ex</td>\n",
       "      <td>Y</td>\n",
       "      <td>SBrkr</td>\n",
       "      <td>1262</td>\n",
       "      <td>0</td>\n",
       "      <td>0</td>\n",
       "      <td>1262</td>\n",
       "      <td>0.0</td>\n",
       "      <td>1.0</td>\n",
       "      <td>2</td>\n",
       "      <td>0</td>\n",
       "      <td>3</td>\n",
       "      <td>1</td>\n",
       "      <td>TA</td>\n",
       "      <td>6</td>\n",
       "      <td>Typ</td>\n",
       "      <td>1</td>\n",
       "      <td>TA</td>\n",
       "      <td>Attchd</td>\n",
       "      <td>1976.0</td>\n",
       "      <td>RFn</td>\n",
       "      <td>2.0</td>\n",
       "      <td>460.0</td>\n",
       "      <td>TA</td>\n",
       "      <td>TA</td>\n",
       "      <td>Y</td>\n",
       "      <td>298</td>\n",
       "      <td>0</td>\n",
       "      <td>0</td>\n",
       "      <td>0</td>\n",
       "      <td>0</td>\n",
       "      <td>0</td>\n",
       "      <td>NaN</td>\n",
       "      <td>NaN</td>\n",
       "      <td>NaN</td>\n",
       "      <td>0</td>\n",
       "      <td>5</td>\n",
       "      <td>2007</td>\n",
       "      <td>WD</td>\n",
       "      <td>Normal</td>\n",
       "      <td>181500.0</td>\n",
       "    </tr>\n",
       "    <tr>\n",
       "      <th>2</th>\n",
       "      <td>3</td>\n",
       "      <td>60</td>\n",
       "      <td>RL</td>\n",
       "      <td>68.0</td>\n",
       "      <td>11250</td>\n",
       "      <td>Pave</td>\n",
       "      <td>NaN</td>\n",
       "      <td>IR1</td>\n",
       "      <td>Lvl</td>\n",
       "      <td>AllPub</td>\n",
       "      <td>Inside</td>\n",
       "      <td>Gtl</td>\n",
       "      <td>CollgCr</td>\n",
       "      <td>Norm</td>\n",
       "      <td>Norm</td>\n",
       "      <td>1Fam</td>\n",
       "      <td>2Story</td>\n",
       "      <td>7</td>\n",
       "      <td>5</td>\n",
       "      <td>2001</td>\n",
       "      <td>2002</td>\n",
       "      <td>Gable</td>\n",
       "      <td>CompShg</td>\n",
       "      <td>VinylSd</td>\n",
       "      <td>VinylSd</td>\n",
       "      <td>BrkFace</td>\n",
       "      <td>162.0</td>\n",
       "      <td>Gd</td>\n",
       "      <td>TA</td>\n",
       "      <td>PConc</td>\n",
       "      <td>Gd</td>\n",
       "      <td>TA</td>\n",
       "      <td>Mn</td>\n",
       "      <td>GLQ</td>\n",
       "      <td>486.0</td>\n",
       "      <td>Unf</td>\n",
       "      <td>0.0</td>\n",
       "      <td>434.0</td>\n",
       "      <td>920.0</td>\n",
       "      <td>GasA</td>\n",
       "      <td>Ex</td>\n",
       "      <td>Y</td>\n",
       "      <td>SBrkr</td>\n",
       "      <td>920</td>\n",
       "      <td>866</td>\n",
       "      <td>0</td>\n",
       "      <td>1786</td>\n",
       "      <td>1.0</td>\n",
       "      <td>0.0</td>\n",
       "      <td>2</td>\n",
       "      <td>1</td>\n",
       "      <td>3</td>\n",
       "      <td>1</td>\n",
       "      <td>Gd</td>\n",
       "      <td>6</td>\n",
       "      <td>Typ</td>\n",
       "      <td>1</td>\n",
       "      <td>TA</td>\n",
       "      <td>Attchd</td>\n",
       "      <td>2001.0</td>\n",
       "      <td>RFn</td>\n",
       "      <td>2.0</td>\n",
       "      <td>608.0</td>\n",
       "      <td>TA</td>\n",
       "      <td>TA</td>\n",
       "      <td>Y</td>\n",
       "      <td>0</td>\n",
       "      <td>42</td>\n",
       "      <td>0</td>\n",
       "      <td>0</td>\n",
       "      <td>0</td>\n",
       "      <td>0</td>\n",
       "      <td>NaN</td>\n",
       "      <td>NaN</td>\n",
       "      <td>NaN</td>\n",
       "      <td>0</td>\n",
       "      <td>9</td>\n",
       "      <td>2008</td>\n",
       "      <td>WD</td>\n",
       "      <td>Normal</td>\n",
       "      <td>223500.0</td>\n",
       "    </tr>\n",
       "    <tr>\n",
       "      <th>3</th>\n",
       "      <td>4</td>\n",
       "      <td>70</td>\n",
       "      <td>RL</td>\n",
       "      <td>60.0</td>\n",
       "      <td>9550</td>\n",
       "      <td>Pave</td>\n",
       "      <td>NaN</td>\n",
       "      <td>IR1</td>\n",
       "      <td>Lvl</td>\n",
       "      <td>AllPub</td>\n",
       "      <td>Corner</td>\n",
       "      <td>Gtl</td>\n",
       "      <td>Crawfor</td>\n",
       "      <td>Norm</td>\n",
       "      <td>Norm</td>\n",
       "      <td>1Fam</td>\n",
       "      <td>2Story</td>\n",
       "      <td>7</td>\n",
       "      <td>5</td>\n",
       "      <td>1915</td>\n",
       "      <td>1970</td>\n",
       "      <td>Gable</td>\n",
       "      <td>CompShg</td>\n",
       "      <td>Wd Sdng</td>\n",
       "      <td>Wd Shng</td>\n",
       "      <td>None</td>\n",
       "      <td>0.0</td>\n",
       "      <td>TA</td>\n",
       "      <td>TA</td>\n",
       "      <td>BrkTil</td>\n",
       "      <td>TA</td>\n",
       "      <td>Gd</td>\n",
       "      <td>No</td>\n",
       "      <td>ALQ</td>\n",
       "      <td>216.0</td>\n",
       "      <td>Unf</td>\n",
       "      <td>0.0</td>\n",
       "      <td>540.0</td>\n",
       "      <td>756.0</td>\n",
       "      <td>GasA</td>\n",
       "      <td>Gd</td>\n",
       "      <td>Y</td>\n",
       "      <td>SBrkr</td>\n",
       "      <td>961</td>\n",
       "      <td>756</td>\n",
       "      <td>0</td>\n",
       "      <td>1717</td>\n",
       "      <td>1.0</td>\n",
       "      <td>0.0</td>\n",
       "      <td>1</td>\n",
       "      <td>0</td>\n",
       "      <td>3</td>\n",
       "      <td>1</td>\n",
       "      <td>Gd</td>\n",
       "      <td>7</td>\n",
       "      <td>Typ</td>\n",
       "      <td>1</td>\n",
       "      <td>Gd</td>\n",
       "      <td>Detchd</td>\n",
       "      <td>1998.0</td>\n",
       "      <td>Unf</td>\n",
       "      <td>3.0</td>\n",
       "      <td>642.0</td>\n",
       "      <td>TA</td>\n",
       "      <td>TA</td>\n",
       "      <td>Y</td>\n",
       "      <td>0</td>\n",
       "      <td>35</td>\n",
       "      <td>272</td>\n",
       "      <td>0</td>\n",
       "      <td>0</td>\n",
       "      <td>0</td>\n",
       "      <td>NaN</td>\n",
       "      <td>NaN</td>\n",
       "      <td>NaN</td>\n",
       "      <td>0</td>\n",
       "      <td>2</td>\n",
       "      <td>2006</td>\n",
       "      <td>WD</td>\n",
       "      <td>Abnorml</td>\n",
       "      <td>140000.0</td>\n",
       "    </tr>\n",
       "    <tr>\n",
       "      <th>4</th>\n",
       "      <td>5</td>\n",
       "      <td>60</td>\n",
       "      <td>RL</td>\n",
       "      <td>84.0</td>\n",
       "      <td>14260</td>\n",
       "      <td>Pave</td>\n",
       "      <td>NaN</td>\n",
       "      <td>IR1</td>\n",
       "      <td>Lvl</td>\n",
       "      <td>AllPub</td>\n",
       "      <td>FR2</td>\n",
       "      <td>Gtl</td>\n",
       "      <td>NoRidge</td>\n",
       "      <td>Norm</td>\n",
       "      <td>Norm</td>\n",
       "      <td>1Fam</td>\n",
       "      <td>2Story</td>\n",
       "      <td>8</td>\n",
       "      <td>5</td>\n",
       "      <td>2000</td>\n",
       "      <td>2000</td>\n",
       "      <td>Gable</td>\n",
       "      <td>CompShg</td>\n",
       "      <td>VinylSd</td>\n",
       "      <td>VinylSd</td>\n",
       "      <td>BrkFace</td>\n",
       "      <td>350.0</td>\n",
       "      <td>Gd</td>\n",
       "      <td>TA</td>\n",
       "      <td>PConc</td>\n",
       "      <td>Gd</td>\n",
       "      <td>TA</td>\n",
       "      <td>Av</td>\n",
       "      <td>GLQ</td>\n",
       "      <td>655.0</td>\n",
       "      <td>Unf</td>\n",
       "      <td>0.0</td>\n",
       "      <td>490.0</td>\n",
       "      <td>1145.0</td>\n",
       "      <td>GasA</td>\n",
       "      <td>Ex</td>\n",
       "      <td>Y</td>\n",
       "      <td>SBrkr</td>\n",
       "      <td>1145</td>\n",
       "      <td>1053</td>\n",
       "      <td>0</td>\n",
       "      <td>2198</td>\n",
       "      <td>1.0</td>\n",
       "      <td>0.0</td>\n",
       "      <td>2</td>\n",
       "      <td>1</td>\n",
       "      <td>4</td>\n",
       "      <td>1</td>\n",
       "      <td>Gd</td>\n",
       "      <td>9</td>\n",
       "      <td>Typ</td>\n",
       "      <td>1</td>\n",
       "      <td>TA</td>\n",
       "      <td>Attchd</td>\n",
       "      <td>2000.0</td>\n",
       "      <td>RFn</td>\n",
       "      <td>3.0</td>\n",
       "      <td>836.0</td>\n",
       "      <td>TA</td>\n",
       "      <td>TA</td>\n",
       "      <td>Y</td>\n",
       "      <td>192</td>\n",
       "      <td>84</td>\n",
       "      <td>0</td>\n",
       "      <td>0</td>\n",
       "      <td>0</td>\n",
       "      <td>0</td>\n",
       "      <td>NaN</td>\n",
       "      <td>NaN</td>\n",
       "      <td>NaN</td>\n",
       "      <td>0</td>\n",
       "      <td>12</td>\n",
       "      <td>2008</td>\n",
       "      <td>WD</td>\n",
       "      <td>Normal</td>\n",
       "      <td>250000.0</td>\n",
       "    </tr>\n",
       "  </tbody>\n",
       "</table>\n",
       "</div>"
      ],
      "text/plain": [
       "   Id  MSSubClass MSZoning  LotFrontage  LotArea Street Alley LotShape  \\\n",
       "0   1          60       RL         65.0     8450   Pave   NaN      Reg   \n",
       "1   2          20       RL         80.0     9600   Pave   NaN      Reg   \n",
       "2   3          60       RL         68.0    11250   Pave   NaN      IR1   \n",
       "3   4          70       RL         60.0     9550   Pave   NaN      IR1   \n",
       "4   5          60       RL         84.0    14260   Pave   NaN      IR1   \n",
       "\n",
       "  LandContour Utilities LotConfig LandSlope Neighborhood Condition1  \\\n",
       "0         Lvl    AllPub    Inside       Gtl      CollgCr       Norm   \n",
       "1         Lvl    AllPub       FR2       Gtl      Veenker      Feedr   \n",
       "2         Lvl    AllPub    Inside       Gtl      CollgCr       Norm   \n",
       "3         Lvl    AllPub    Corner       Gtl      Crawfor       Norm   \n",
       "4         Lvl    AllPub       FR2       Gtl      NoRidge       Norm   \n",
       "\n",
       "  Condition2 BldgType HouseStyle  OverallQual  OverallCond  YearBuilt  \\\n",
       "0       Norm     1Fam     2Story            7            5       2003   \n",
       "1       Norm     1Fam     1Story            6            8       1976   \n",
       "2       Norm     1Fam     2Story            7            5       2001   \n",
       "3       Norm     1Fam     2Story            7            5       1915   \n",
       "4       Norm     1Fam     2Story            8            5       2000   \n",
       "\n",
       "   YearRemodAdd RoofStyle RoofMatl Exterior1st Exterior2nd MasVnrType  \\\n",
       "0          2003     Gable  CompShg     VinylSd     VinylSd    BrkFace   \n",
       "1          1976     Gable  CompShg     MetalSd     MetalSd       None   \n",
       "2          2002     Gable  CompShg     VinylSd     VinylSd    BrkFace   \n",
       "3          1970     Gable  CompShg     Wd Sdng     Wd Shng       None   \n",
       "4          2000     Gable  CompShg     VinylSd     VinylSd    BrkFace   \n",
       "\n",
       "   MasVnrArea ExterQual ExterCond Foundation BsmtQual BsmtCond BsmtExposure  \\\n",
       "0       196.0        Gd        TA      PConc       Gd       TA           No   \n",
       "1         0.0        TA        TA     CBlock       Gd       TA           Gd   \n",
       "2       162.0        Gd        TA      PConc       Gd       TA           Mn   \n",
       "3         0.0        TA        TA     BrkTil       TA       Gd           No   \n",
       "4       350.0        Gd        TA      PConc       Gd       TA           Av   \n",
       "\n",
       "  BsmtFinType1  BsmtFinSF1 BsmtFinType2  BsmtFinSF2  BsmtUnfSF  TotalBsmtSF  \\\n",
       "0          GLQ       706.0          Unf         0.0      150.0        856.0   \n",
       "1          ALQ       978.0          Unf         0.0      284.0       1262.0   \n",
       "2          GLQ       486.0          Unf         0.0      434.0        920.0   \n",
       "3          ALQ       216.0          Unf         0.0      540.0        756.0   \n",
       "4          GLQ       655.0          Unf         0.0      490.0       1145.0   \n",
       "\n",
       "  Heating HeatingQC CentralAir Electrical  1stFlrSF  2ndFlrSF  LowQualFinSF  \\\n",
       "0    GasA        Ex          Y      SBrkr       856       854             0   \n",
       "1    GasA        Ex          Y      SBrkr      1262         0             0   \n",
       "2    GasA        Ex          Y      SBrkr       920       866             0   \n",
       "3    GasA        Gd          Y      SBrkr       961       756             0   \n",
       "4    GasA        Ex          Y      SBrkr      1145      1053             0   \n",
       "\n",
       "   GrLivArea  BsmtFullBath  BsmtHalfBath  FullBath  HalfBath  BedroomAbvGr  \\\n",
       "0       1710           1.0           0.0         2         1             3   \n",
       "1       1262           0.0           1.0         2         0             3   \n",
       "2       1786           1.0           0.0         2         1             3   \n",
       "3       1717           1.0           0.0         1         0             3   \n",
       "4       2198           1.0           0.0         2         1             4   \n",
       "\n",
       "   KitchenAbvGr KitchenQual  TotRmsAbvGrd Functional  Fireplaces FireplaceQu  \\\n",
       "0             1          Gd             8        Typ           0         NaN   \n",
       "1             1          TA             6        Typ           1          TA   \n",
       "2             1          Gd             6        Typ           1          TA   \n",
       "3             1          Gd             7        Typ           1          Gd   \n",
       "4             1          Gd             9        Typ           1          TA   \n",
       "\n",
       "  GarageType  GarageYrBlt GarageFinish  GarageCars  GarageArea GarageQual  \\\n",
       "0     Attchd       2003.0          RFn         2.0       548.0         TA   \n",
       "1     Attchd       1976.0          RFn         2.0       460.0         TA   \n",
       "2     Attchd       2001.0          RFn         2.0       608.0         TA   \n",
       "3     Detchd       1998.0          Unf         3.0       642.0         TA   \n",
       "4     Attchd       2000.0          RFn         3.0       836.0         TA   \n",
       "\n",
       "  GarageCond PavedDrive  WoodDeckSF  OpenPorchSF  EnclosedPorch  3SsnPorch  \\\n",
       "0         TA          Y           0           61              0          0   \n",
       "1         TA          Y         298            0              0          0   \n",
       "2         TA          Y           0           42              0          0   \n",
       "3         TA          Y           0           35            272          0   \n",
       "4         TA          Y         192           84              0          0   \n",
       "\n",
       "   ScreenPorch  PoolArea PoolQC Fence MiscFeature  MiscVal  MoSold  YrSold  \\\n",
       "0            0         0    NaN   NaN         NaN        0       2    2008   \n",
       "1            0         0    NaN   NaN         NaN        0       5    2007   \n",
       "2            0         0    NaN   NaN         NaN        0       9    2008   \n",
       "3            0         0    NaN   NaN         NaN        0       2    2006   \n",
       "4            0         0    NaN   NaN         NaN        0      12    2008   \n",
       "\n",
       "  SaleType SaleCondition  SalePrice  \n",
       "0       WD        Normal   208500.0  \n",
       "1       WD        Normal   181500.0  \n",
       "2       WD        Normal   223500.0  \n",
       "3       WD       Abnorml   140000.0  \n",
       "4       WD        Normal   250000.0  "
      ]
     },
     "execution_count": 63,
     "metadata": {},
     "output_type": "execute_result"
    }
   ],
   "source": [
    "df_merge.head()"
   ]
  },
  {
   "cell_type": "markdown",
   "id": "05579e19-4bb9-4e7e-ae1a-e9db73c87a92",
   "metadata": {},
   "source": [
    "### Check for Missing Values"
   ]
  },
  {
   "cell_type": "code",
   "execution_count": 64,
   "id": "6054c4d8-706a-4131-9156-451dfd91f552",
   "metadata": {
    "execution": {
     "iopub.execute_input": "2023-10-09T14:21:06.322526Z",
     "iopub.status.busy": "2023-10-09T14:21:06.322526Z",
     "iopub.status.idle": "2023-10-09T14:21:06.363829Z",
     "shell.execute_reply": "2023-10-09T14:21:06.362822Z",
     "shell.execute_reply.started": "2023-10-09T14:21:06.322526Z"
    },
    "scrolled": true
   },
   "outputs": [
    {
     "data": {
      "text/plain": [
       "PoolQC          2909\n",
       "MiscFeature     2814\n",
       "Alley           2721\n",
       "Fence           2348\n",
       "SalePrice       1459\n",
       "                ... \n",
       "1stFlrSF           0\n",
       "2ndFlrSF           0\n",
       "LowQualFinSF       0\n",
       "GrLivArea          0\n",
       "HeatingQC          0\n",
       "Length: 81, dtype: int64"
      ]
     },
     "execution_count": 64,
     "metadata": {},
     "output_type": "execute_result"
    }
   ],
   "source": [
    "df_merge.isnull().sum().sort_values(ascending=False)"
   ]
  },
  {
   "cell_type": "markdown",
   "id": "55b6838f-6ef9-4742-92a4-15d89d351f03",
   "metadata": {
    "execution": {
     "iopub.execute_input": "2023-10-08T21:17:49.574601Z",
     "iopub.status.busy": "2023-10-08T21:17:49.574601Z",
     "iopub.status.idle": "2023-10-08T21:17:49.588441Z",
     "shell.execute_reply": "2023-10-08T21:17:49.587383Z",
     "shell.execute_reply.started": "2023-10-08T21:17:49.574601Z"
    }
   },
   "source": [
    "### For the sake of simplicity lets drop nan values having less than 25 values"
   ]
  },
  {
   "cell_type": "code",
   "execution_count": 65,
   "id": "2709a5d6-8388-488f-ad50-43712b13b892",
   "metadata": {
    "execution": {
     "iopub.execute_input": "2023-10-09T14:21:06.364907Z",
     "iopub.status.busy": "2023-10-09T14:21:06.364907Z",
     "iopub.status.idle": "2023-10-09T14:21:06.379072Z",
     "shell.execute_reply": "2023-10-09T14:21:06.379072Z",
     "shell.execute_reply.started": "2023-10-09T14:21:06.364907Z"
    }
   },
   "outputs": [],
   "source": [
    "# i want to drop nan values less then 25\n",
    "def drop_nan_lessthen(df, nan_qty):\n",
    "    '''\n",
    "    we give a df and a quantity value (integer)\n",
    "    it checks nan values for the df\n",
    "    and drop the values less then this qty amount\n",
    "    '''\n",
    "    drop_columns = []\n",
    "    nan_series = df.isnull().sum()\n",
    "    for i,v in nan_series.iteritems():\n",
    "        if v < nan_qty:\n",
    "            drop_columns.append(i)\n",
    "    df.dropna(subset=drop_columns, inplace=True)\n",
    "    return df"
   ]
  },
  {
   "cell_type": "code",
   "execution_count": 66,
   "id": "e059db4f-1f65-40f3-a799-6d481e20961e",
   "metadata": {
    "execution": {
     "iopub.execute_input": "2023-10-09T14:21:06.379072Z",
     "iopub.status.busy": "2023-10-09T14:21:06.379072Z",
     "iopub.status.idle": "2023-10-09T14:21:06.419376Z",
     "shell.execute_reply": "2023-10-09T14:21:06.419376Z",
     "shell.execute_reply.started": "2023-10-09T14:21:06.379072Z"
    }
   },
   "outputs": [],
   "source": [
    "df_merge = drop_nan_lessthen(df_merge, 25)"
   ]
  },
  {
   "cell_type": "code",
   "execution_count": 67,
   "id": "94ffa049-a1ab-4678-8d87-9babde3df056",
   "metadata": {
    "execution": {
     "iopub.execute_input": "2023-10-09T14:21:06.419376Z",
     "iopub.status.busy": "2023-10-09T14:21:06.419376Z",
     "iopub.status.idle": "2023-10-09T14:21:06.435856Z",
     "shell.execute_reply": "2023-10-09T14:21:06.435856Z",
     "shell.execute_reply.started": "2023-10-09T14:21:06.419376Z"
    }
   },
   "outputs": [
    {
     "data": {
      "text/plain": [
       "(2882, 81)"
      ]
     },
     "execution_count": 67,
     "metadata": {},
     "output_type": "execute_result"
    }
   ],
   "source": [
    "df_merge.shape"
   ]
  },
  {
   "cell_type": "code",
   "execution_count": 68,
   "id": "eaee5631-9b79-45cb-b39b-d09e253c7ec9",
   "metadata": {
    "execution": {
     "iopub.execute_input": "2023-10-09T14:21:06.435856Z",
     "iopub.status.busy": "2023-10-09T14:21:06.435856Z",
     "iopub.status.idle": "2023-10-09T14:21:06.479675Z",
     "shell.execute_reply": "2023-10-09T14:21:06.479675Z",
     "shell.execute_reply.started": "2023-10-09T14:21:06.435856Z"
    },
    "scrolled": true
   },
   "outputs": [
    {
     "data": {
      "text/plain": [
       "PoolQC          2872\n",
       "MiscFeature     2778\n",
       "Alley           2687\n",
       "Fence           2313\n",
       "SalePrice       1431\n",
       "FireplaceQu     1401\n",
       "LotFrontage      478\n",
       "GarageYrBlt      156\n",
       "GarageFinish     156\n",
       "GarageQual       156\n",
       "GarageCond       156\n",
       "GarageType       155\n",
       "BsmtExposure      77\n",
       "BsmtCond          77\n",
       "BsmtQual          76\n",
       "BsmtFinType2      75\n",
       "BsmtFinType1      74\n",
       "dtype: int64"
      ]
     },
     "execution_count": 68,
     "metadata": {},
     "output_type": "execute_result"
    }
   ],
   "source": [
    "missing_values = df_merge.isnull().sum()[df_merge.isnull().sum().sort_values(ascending=False)>25].sort_values(ascending=False)\n",
    "missing_values"
   ]
  },
  {
   "cell_type": "code",
   "execution_count": 69,
   "id": "aafeb8e0-4feb-4136-ba27-e6affe37995e",
   "metadata": {
    "execution": {
     "iopub.execute_input": "2023-10-09T14:21:06.479675Z",
     "iopub.status.busy": "2023-10-09T14:21:06.479675Z",
     "iopub.status.idle": "2023-10-09T14:21:06.717804Z",
     "shell.execute_reply": "2023-10-09T14:21:06.717804Z",
     "shell.execute_reply.started": "2023-10-09T14:21:06.479675Z"
    }
   },
   "outputs": [
    {
     "data": {
      "image/png": "[encoded data removed]",
      "text/plain": [
       "<Figure size 800x500 with 1 Axes>"
      ]
     },
     "metadata": {},
     "output_type": "display_data"
    }
   ],
   "source": [
    "plt.figure(figsize=(8,5)) \n",
    "ax = sns.barplot(x=missing_values.index, y=missing_values.values)\n",
    "\n",
    "plt.xticks(rotation=90)\n",
    "plt.xlabel('Features with Nan values')\n",
    "plt.ylabel('Nan Value Count')\n",
    "plt.title('Nan Value Counts by Features')\n",
    "\n",
    "for p in ax.patches:\n",
    "    ax.annotate(f'{p.get_height():.0f}', (p.get_x() + p.get_width() / 2., p.get_height()), ha='center', va='bottom')\n",
    "\n",
    "plt.show()"
   ]
  },
  {
   "cell_type": "markdown",
   "id": "fb11d8f0-3401-409c-a453-3cb78327569a",
   "metadata": {},
   "source": [
    "### Lets go column by column for NAN values"
   ]
  },
  {
   "cell_type": "markdown",
   "id": "46e26b77-2ae3-4dd3-bdd7-34c7267af1fc",
   "metadata": {},
   "source": [
    "**NOTE: Not every nan value is missing value:**  \n",
    "firstly we need to understand the real missing values, because some of Nan values in this dataset is not actually missing but only Nan sth like equals to 0**"
   ]
  },
  {
   "cell_type": "code",
   "execution_count": 70,
   "id": "3f5aeab5-c566-4c94-956c-e6c8d9bf69f7",
   "metadata": {
    "execution": {
     "iopub.execute_input": "2023-10-09T14:21:06.720173Z",
     "iopub.status.busy": "2023-10-09T14:21:06.718830Z",
     "iopub.status.idle": "2023-10-09T14:21:06.733925Z",
     "shell.execute_reply": "2023-10-09T14:21:06.733925Z",
     "shell.execute_reply.started": "2023-10-09T14:21:06.720173Z"
    }
   },
   "outputs": [],
   "source": [
    "replacement_dictionary = {\n",
    "                            'PoolQC'      : 'No Pool',\n",
    "                            'MiscFeature' : 'No MiscFeatures',  \n",
    "                            'Alley'       : 'No Alley Access',\n",
    "                            'Fence'       : 'No Fence',\n",
    "                            'FireplaceQu' : 'No FirePlace', \n",
    "                            'GarageFinish': 'No Garage',\n",
    "                            'GarageQual'  : 'No Garage',\n",
    "                            'GarageCond'  : 'No Garage',\n",
    "                            'GarageType'  : 'No Garage',\n",
    "                            'BsmtExposure': 'No Basement',\n",
    "                            'BsmtCond'    : 'No Basement',\n",
    "                            'BsmtQual'    : 'No Basement',\n",
    "                            'BsmtFinType2': 'No Basement',\n",
    "                            'BsmtFinType1': 'No Basement'\n",
    "}"
   ]
  },
  {
   "cell_type": "code",
   "execution_count": 71,
   "id": "7b38ae52-29a8-43c7-a403-1f0f364b34fd",
   "metadata": {
    "execution": {
     "iopub.execute_input": "2023-10-09T14:21:06.733925Z",
     "iopub.status.busy": "2023-10-09T14:21:06.733925Z",
     "iopub.status.idle": "2023-10-09T14:21:06.751236Z",
     "shell.execute_reply": "2023-10-09T14:21:06.750113Z",
     "shell.execute_reply.started": "2023-10-09T14:21:06.733925Z"
    },
    "scrolled": true
   },
   "outputs": [
    {
     "data": {
      "text/plain": [
       "['PoolQC',\n",
       " 'MiscFeature',\n",
       " 'Alley',\n",
       " 'Fence',\n",
       " 'FireplaceQu',\n",
       " 'GarageFinish',\n",
       " 'GarageQual',\n",
       " 'GarageCond',\n",
       " 'GarageType',\n",
       " 'BsmtExposure',\n",
       " 'BsmtCond',\n",
       " 'BsmtQual',\n",
       " 'BsmtFinType2',\n",
       " 'BsmtFinType1']"
      ]
     },
     "execution_count": 71,
     "metadata": {},
     "output_type": "execute_result"
    }
   ],
   "source": [
    "replacement_columns = list(replacement_dictionary.keys())\n",
    "replacement_columns"
   ]
  },
  {
   "cell_type": "code",
   "execution_count": 72,
   "id": "381cd0ed-5480-468d-b289-bbf8a0e0e43a",
   "metadata": {
    "execution": {
     "iopub.execute_input": "2023-10-09T14:21:06.751236Z",
     "iopub.status.busy": "2023-10-09T14:21:06.751236Z",
     "iopub.status.idle": "2023-10-09T14:21:06.774707Z",
     "shell.execute_reply": "2023-10-09T14:21:06.774707Z",
     "shell.execute_reply.started": "2023-10-09T14:21:06.751236Z"
    }
   },
   "outputs": [],
   "source": [
    "for col in replacement_columns:\n",
    "    df_merge[col].fillna(replacement_dictionary[col], inplace=True)"
   ]
  },
  {
   "cell_type": "code",
   "execution_count": 73,
   "id": "b217c6e2-5c0d-43aa-b023-c9acb0799dc6",
   "metadata": {
    "execution": {
     "iopub.execute_input": "2023-10-09T14:21:06.774707Z",
     "iopub.status.busy": "2023-10-09T14:21:06.774707Z",
     "iopub.status.idle": "2023-10-09T14:21:06.790013Z",
     "shell.execute_reply": "2023-10-09T14:21:06.790013Z",
     "shell.execute_reply.started": "2023-10-09T14:21:06.774707Z"
    }
   },
   "outputs": [
    {
     "data": {
      "text/plain": [
       "No Fence    2313\n",
       "MnPrv        327\n",
       "GdPrv        118\n",
       "GdWo         112\n",
       "MnWw          12\n",
       "Name: Fence, dtype: int64"
      ]
     },
     "execution_count": 73,
     "metadata": {},
     "output_type": "execute_result"
    }
   ],
   "source": [
    "# lets check an example filled Nan value\n",
    "df_merge['Fence'].value_counts()"
   ]
  },
  {
   "cell_type": "code",
   "execution_count": 74,
   "id": "155a752e-1f08-4727-aae3-bd7a8b290f25",
   "metadata": {
    "execution": {
     "iopub.execute_input": "2023-10-09T14:21:06.793146Z",
     "iopub.status.busy": "2023-10-09T14:21:06.791649Z",
     "iopub.status.idle": "2023-10-09T14:21:06.940564Z",
     "shell.execute_reply": "2023-10-09T14:21:06.940564Z",
     "shell.execute_reply.started": "2023-10-09T14:21:06.793146Z"
    }
   },
   "outputs": [
    {
     "data": {
      "image/png": "[encoded data removed]",
      "text/plain": [
       "<Figure size 800x500 with 1 Axes>"
      ]
     },
     "metadata": {},
     "output_type": "display_data"
    }
   ],
   "source": [
    "# lets check nan values now again:\n",
    "\n",
    "missing_values_new = df_merge.isnull().sum()[df_merge.isnull().sum().sort_values(ascending=False)>25].sort_values(ascending=False)\n",
    "\n",
    "plt.figure(figsize=(8,5)) \n",
    "ax = sns.barplot(x=missing_values_new.index, y=missing_values_new.values)\n",
    "\n",
    "plt.xticks(rotation=90)\n",
    "plt.xlabel('Features with Nan values')\n",
    "plt.ylabel('Nan Value Count')\n",
    "plt.title('Nan Value Counts by Features')\n",
    "\n",
    "for p in ax.patches:\n",
    "    ax.annotate(f'{p.get_height():.0f}', (p.get_x() + p.get_width() / 2., p.get_height()), ha='center', va='bottom')\n",
    "\n",
    "plt.show()\n"
   ]
  },
  {
   "cell_type": "code",
   "execution_count": 75,
   "id": "04dfea72-7bd3-431f-b368-1f45e5bf32e5",
   "metadata": {
    "execution": {
     "iopub.execute_input": "2023-10-09T14:21:06.943073Z",
     "iopub.status.busy": "2023-10-09T14:21:06.940564Z",
     "iopub.status.idle": "2023-10-09T14:21:06.955363Z",
     "shell.execute_reply": "2023-10-09T14:21:06.955363Z",
     "shell.execute_reply.started": "2023-10-09T14:21:06.943073Z"
    }
   },
   "outputs": [
    {
     "data": {
      "text/plain": [
       "0"
      ]
     },
     "execution_count": 75,
     "metadata": {},
     "output_type": "execute_result"
    }
   ],
   "source": [
    "df_train['SalePrice'].isnull().sum()"
   ]
  },
  {
   "cell_type": "markdown",
   "id": "571c39de-b35a-4102-9a0d-a85ab30dcc67",
   "metadata": {},
   "source": [
    "**that means all nan values in the sales price target is coming from df_test data which is very normal**"
   ]
  },
  {
   "cell_type": "code",
   "execution_count": 76,
   "id": "cf068795-7db0-4782-a6e8-95ee9ec1b45b",
   "metadata": {
    "execution": {
     "iopub.execute_input": "2023-10-09T14:21:06.958313Z",
     "iopub.status.busy": "2023-10-09T14:21:06.958313Z",
     "iopub.status.idle": "2023-10-09T14:21:06.972032Z",
     "shell.execute_reply": "2023-10-09T14:21:06.971022Z",
     "shell.execute_reply.started": "2023-10-09T14:21:06.958313Z"
    }
   },
   "outputs": [],
   "source": [
    "lot_front_mean = df_merge['LotFrontage'].mean()\n",
    "df_merge['LotFrontage'].fillna(lot_front_mean, inplace=True)"
   ]
  },
  {
   "cell_type": "markdown",
   "id": "32958fe3-3ee0-488c-acf1-c4d089f2536a",
   "metadata": {},
   "source": [
    "**we can fill garage year built with building year built**"
   ]
  },
  {
   "cell_type": "code",
   "execution_count": 77,
   "id": "55c2d14e-68b1-4803-9cca-0e58118f2092",
   "metadata": {
    "execution": {
     "iopub.execute_input": "2023-10-09T14:21:06.972032Z",
     "iopub.status.busy": "2023-10-09T14:21:06.972032Z",
     "iopub.status.idle": "2023-10-09T14:21:06.980410Z",
     "shell.execute_reply": "2023-10-09T14:21:06.980410Z",
     "shell.execute_reply.started": "2023-10-09T14:21:06.972032Z"
    }
   },
   "outputs": [
    {
     "data": {
      "text/plain": [
       "0.8418914005786091"
      ]
     },
     "execution_count": 77,
     "metadata": {},
     "output_type": "execute_result"
    }
   ],
   "source": [
    "df_merge['GarageYrBlt'].corr(df_merge['YearBuilt'])"
   ]
  },
  {
   "cell_type": "code",
   "execution_count": 78,
   "id": "1fe5645d-855a-4819-a526-f9e7dc35b76c",
   "metadata": {
    "execution": {
     "iopub.execute_input": "2023-10-09T14:21:06.980410Z",
     "iopub.status.busy": "2023-10-09T14:21:06.980410Z",
     "iopub.status.idle": "2023-10-09T14:21:06.996423Z",
     "shell.execute_reply": "2023-10-09T14:21:06.996423Z",
     "shell.execute_reply.started": "2023-10-09T14:21:06.980410Z"
    }
   },
   "outputs": [],
   "source": [
    "df_merge['GarageYrBlt'].fillna(df_merge['YearBuilt'], inplace=True)"
   ]
  },
  {
   "cell_type": "code",
   "execution_count": 79,
   "id": "52ba4ad3-b164-426b-b14f-4a8b6a361288",
   "metadata": {
    "execution": {
     "iopub.execute_input": "2023-10-09T14:21:06.996423Z",
     "iopub.status.busy": "2023-10-09T14:21:06.996423Z",
     "iopub.status.idle": "2023-10-09T14:21:07.028422Z",
     "shell.execute_reply": "2023-10-09T14:21:07.028422Z",
     "shell.execute_reply.started": "2023-10-09T14:21:06.996423Z"
    }
   },
   "outputs": [
    {
     "data": {
      "text/plain": [
       "0.8590579529504343"
      ]
     },
     "execution_count": 79,
     "metadata": {},
     "output_type": "execute_result"
    }
   ],
   "source": [
    "df_merge['GarageYrBlt'].corr(df_merge['YearBuilt'])"
   ]
  },
  {
   "cell_type": "code",
   "execution_count": 80,
   "id": "50f34c19-82da-427a-b2f1-98cb8651364c",
   "metadata": {
    "execution": {
     "iopub.execute_input": "2023-10-09T14:21:07.028422Z",
     "iopub.status.busy": "2023-10-09T14:21:07.028422Z",
     "iopub.status.idle": "2023-10-09T14:21:07.069134Z",
     "shell.execute_reply": "2023-10-09T14:21:07.069134Z",
     "shell.execute_reply.started": "2023-10-09T14:21:07.028422Z"
    }
   },
   "outputs": [
    {
     "data": {
      "text/plain": [
       "SalePrice     1431\n",
       "Id               0\n",
       "MSSubClass       0\n",
       "dtype: int64"
      ]
     },
     "execution_count": 80,
     "metadata": {},
     "output_type": "execute_result"
    }
   ],
   "source": [
    "df_merge.isnull().sum().nlargest(3)"
   ]
  },
  {
   "cell_type": "markdown",
   "id": "764c50ba-3aba-49fb-8e4f-daa5528e0c79",
   "metadata": {
    "execution": {
     "iopub.execute_input": "2023-10-08T23:05:41.939226Z",
     "iopub.status.busy": "2023-10-08T23:05:41.925741Z",
     "iopub.status.idle": "2023-10-08T23:05:41.952428Z",
     "shell.execute_reply": "2023-10-08T23:05:41.952428Z",
     "shell.execute_reply.started": "2023-10-08T23:05:41.939226Z"
    }
   },
   "source": [
    "## Feature Engineering Continued after handling NAN values"
   ]
  },
  {
   "cell_type": "code",
   "execution_count": 81,
   "id": "7928a1be-8a44-4054-94f4-be58ba5c7d6d",
   "metadata": {
    "execution": {
     "iopub.execute_input": "2023-10-09T14:21:07.069134Z",
     "iopub.status.busy": "2023-10-09T14:21:07.069134Z",
     "iopub.status.idle": "2023-10-09T14:21:07.085144Z",
     "shell.execute_reply": "2023-10-09T14:21:07.085144Z",
     "shell.execute_reply.started": "2023-10-09T14:21:07.069134Z"
    }
   },
   "outputs": [
    {
     "data": {
      "text/plain": [
       "(2882, 81)"
      ]
     },
     "execution_count": 81,
     "metadata": {},
     "output_type": "execute_result"
    }
   ],
   "source": [
    "df_merge.shape"
   ]
  },
  {
   "cell_type": "markdown",
   "id": "16d07fc4-55b1-435d-a752-f148706404ca",
   "metadata": {},
   "source": [
    "### Creating new Features and drop old ones"
   ]
  },
  {
   "cell_type": "markdown",
   "id": "f1282a3c-dbd8-46df-9cf1-85c3ee4c15fa",
   "metadata": {},
   "source": [
    "Combining features to create new ones is a powerful technique. For example, combining area measurements to get a \"Total Area\" feature can often provide more meaningful information. We will also use our Domain Knowledge as well"
   ]
  },
  {
   "cell_type": "markdown",
   "id": "7b538e13-66f0-4c5c-aa51-f706f790fcf3",
   "metadata": {},
   "source": [
    "__Total Area__  \n",
    "We will combine features named TotalBsmtSF (total basement square footage), 1stFlrSF (first floor square footage), and 2ndFlrSF (second floor square footage) to create a 'Total Area' feature.  \n",
    "\n",
    "- Maybe we can try to add basement sq footage with multiplying 0.5 since the basement is not as valuable as ground level footage"
   ]
  },
  {
   "cell_type": "code",
   "execution_count": 82,
   "id": "7739a3ee-764b-4172-97ec-a38672b8bafe",
   "metadata": {
    "execution": {
     "iopub.execute_input": "2023-10-09T14:21:14.565783Z",
     "iopub.status.busy": "2023-10-09T14:21:14.565783Z",
     "iopub.status.idle": "2023-10-09T14:21:14.582397Z",
     "shell.execute_reply": "2023-10-09T14:21:14.581811Z",
     "shell.execute_reply.started": "2023-10-09T14:21:14.565783Z"
    }
   },
   "outputs": [
    {
     "data": {
      "text/html": [
       "<div>\n",
       "<style scoped>\n",
       "    .dataframe tbody tr th:only-of-type {\n",
       "        vertical-align: middle;\n",
       "    }\n",
       "\n",
       "    .dataframe tbody tr th {\n",
       "        vertical-align: top;\n",
       "    }\n",
       "\n",
       "    .dataframe thead th {\n",
       "        text-align: right;\n",
       "    }\n",
       "</style>\n",
       "<table border=\"1\" class=\"dataframe\">\n",
       "  <thead>\n",
       "    <tr style=\"text-align: right;\">\n",
       "      <th></th>\n",
       "      <th>Total_Area</th>\n",
       "      <th>TotalBsmtSF</th>\n",
       "      <th>1stFlrSF</th>\n",
       "      <th>2ndFlrSF</th>\n",
       "    </tr>\n",
       "  </thead>\n",
       "  <tbody>\n",
       "    <tr>\n",
       "      <th>0</th>\n",
       "      <td>2566.0</td>\n",
       "      <td>856.0</td>\n",
       "      <td>856</td>\n",
       "      <td>854</td>\n",
       "    </tr>\n",
       "    <tr>\n",
       "      <th>1</th>\n",
       "      <td>2524.0</td>\n",
       "      <td>1262.0</td>\n",
       "      <td>1262</td>\n",
       "      <td>0</td>\n",
       "    </tr>\n",
       "    <tr>\n",
       "      <th>2</th>\n",
       "      <td>2706.0</td>\n",
       "      <td>920.0</td>\n",
       "      <td>920</td>\n",
       "      <td>866</td>\n",
       "    </tr>\n",
       "  </tbody>\n",
       "</table>\n",
       "</div>"
      ],
      "text/plain": [
       "   Total_Area  TotalBsmtSF  1stFlrSF  2ndFlrSF\n",
       "0      2566.0        856.0       856       854\n",
       "1      2524.0       1262.0      1262         0\n",
       "2      2706.0        920.0       920       866"
      ]
     },
     "execution_count": 82,
     "metadata": {},
     "output_type": "execute_result"
    }
   ],
   "source": [
    "df_merge['Total_Area'] = df_merge['TotalBsmtSF'] + df_merge['1stFlrSF'] + df_merge['2ndFlrSF']\n",
    "df_merge[['Total_Area', 'TotalBsmtSF',  '1stFlrSF', '2ndFlrSF']].head(3)"
   ]
  },
  {
   "cell_type": "code",
   "execution_count": 113,
   "id": "4d62b0bc-c7a5-4d29-8137-30c2be463aae",
   "metadata": {
    "execution": {
     "iopub.execute_input": "2023-10-09T14:23:43.703518Z",
     "iopub.status.busy": "2023-10-09T14:23:43.703518Z",
     "iopub.status.idle": "2023-10-09T14:23:43.718071Z",
     "shell.execute_reply": "2023-10-09T14:23:43.718071Z",
     "shell.execute_reply.started": "2023-10-09T14:23:43.703518Z"
    }
   },
   "outputs": [],
   "source": [
    "# i will drop these columns later, because i will need bsmt sf down when i deal with features related to basement\n",
    "#df_merge.drop(columns=['TotalBsmtSF',  '1stFlrSF', '2ndFlrSF'], inplace=True)"
   ]
  },
  {
   "cell_type": "code",
   "execution_count": 26,
   "id": "aed9ee53-ca4b-4dae-a16c-84fbb822bd10",
   "metadata": {
    "execution": {
     "iopub.execute_input": "2023-10-09T14:16:17.700415Z",
     "iopub.status.busy": "2023-10-09T14:16:17.700415Z",
     "iopub.status.idle": "2023-10-09T14:16:17.716424Z",
     "shell.execute_reply": "2023-10-09T14:16:17.716424Z",
     "shell.execute_reply.started": "2023-10-09T14:16:17.700415Z"
    }
   },
   "outputs": [
    {
     "data": {
      "text/plain": [
       "(2882, 79)"
      ]
     },
     "execution_count": 26,
     "metadata": {},
     "output_type": "execute_result"
    }
   ],
   "source": [
    "df_merge.shape"
   ]
  },
  {
   "cell_type": "markdown",
   "id": "512b8de0-85a3-42d1-bce7-168e1d48958c",
   "metadata": {},
   "source": [
    "__Total Bathrooms__"
   ]
  },
  {
   "cell_type": "markdown",
   "id": "86308097-96b5-4ca3-af07-ed26a18e49f0",
   "metadata": {},
   "source": [
    "Like in sq footage we will combine the bathrooms into a total bathroom quantity."
   ]
  },
  {
   "cell_type": "code",
   "execution_count": 83,
   "id": "97434611-22a1-4cc1-99a1-b99f9d2848d2",
   "metadata": {
    "execution": {
     "iopub.execute_input": "2023-10-09T14:21:27.254040Z",
     "iopub.status.busy": "2023-10-09T14:21:27.254040Z",
     "iopub.status.idle": "2023-10-09T14:21:27.270062Z",
     "shell.execute_reply": "2023-10-09T14:21:27.270062Z",
     "shell.execute_reply.started": "2023-10-09T14:21:27.254040Z"
    }
   },
   "outputs": [
    {
     "data": {
      "text/plain": [
       "['BsmtFullBath', 'BsmtHalfBath', 'FullBath', 'HalfBath']"
      ]
     },
     "execution_count": 83,
     "metadata": {},
     "output_type": "execute_result"
    }
   ],
   "source": [
    "bathroom_columns = [col for col in df_merge.columns if 'bath' in col.lower()]\n",
    "bathroom_columns"
   ]
  },
  {
   "cell_type": "code",
   "execution_count": 84,
   "id": "9ee52d0d-e640-40aa-a0e6-1565e564262f",
   "metadata": {
    "execution": {
     "iopub.execute_input": "2023-10-09T14:21:27.270062Z",
     "iopub.status.busy": "2023-10-09T14:21:27.270062Z",
     "iopub.status.idle": "2023-10-09T14:21:27.286081Z",
     "shell.execute_reply": "2023-10-09T14:21:27.286081Z",
     "shell.execute_reply.started": "2023-10-09T14:21:27.270062Z"
    }
   },
   "outputs": [],
   "source": [
    "df_merge['Total_Bathrooms'] = df_merge['BsmtFullBath'] + df_merge['FullBath'] + 0.5*(df_merge['BsmtHalfBath'] + df_merge['HalfBath'])"
   ]
  },
  {
   "cell_type": "code",
   "execution_count": 85,
   "id": "afacfd01-e392-4687-aada-7c939c0decf6",
   "metadata": {
    "execution": {
     "iopub.execute_input": "2023-10-09T14:21:27.286081Z",
     "iopub.status.busy": "2023-10-09T14:21:27.286081Z",
     "iopub.status.idle": "2023-10-09T14:21:27.302225Z",
     "shell.execute_reply": "2023-10-09T14:21:27.302225Z",
     "shell.execute_reply.started": "2023-10-09T14:21:27.286081Z"
    }
   },
   "outputs": [
    {
     "data": {
      "text/html": [
       "<div>\n",
       "<style scoped>\n",
       "    .dataframe tbody tr th:only-of-type {\n",
       "        vertical-align: middle;\n",
       "    }\n",
       "\n",
       "    .dataframe tbody tr th {\n",
       "        vertical-align: top;\n",
       "    }\n",
       "\n",
       "    .dataframe thead th {\n",
       "        text-align: right;\n",
       "    }\n",
       "</style>\n",
       "<table border=\"1\" class=\"dataframe\">\n",
       "  <thead>\n",
       "    <tr style=\"text-align: right;\">\n",
       "      <th></th>\n",
       "      <th>Total_Bathrooms</th>\n",
       "      <th>BsmtFullBath</th>\n",
       "      <th>BsmtHalfBath</th>\n",
       "      <th>FullBath</th>\n",
       "      <th>HalfBath</th>\n",
       "    </tr>\n",
       "  </thead>\n",
       "  <tbody>\n",
       "    <tr>\n",
       "      <th>0</th>\n",
       "      <td>3.5</td>\n",
       "      <td>1.0</td>\n",
       "      <td>0.0</td>\n",
       "      <td>2</td>\n",
       "      <td>1</td>\n",
       "    </tr>\n",
       "    <tr>\n",
       "      <th>1</th>\n",
       "      <td>2.5</td>\n",
       "      <td>0.0</td>\n",
       "      <td>1.0</td>\n",
       "      <td>2</td>\n",
       "      <td>0</td>\n",
       "    </tr>\n",
       "    <tr>\n",
       "      <th>2</th>\n",
       "      <td>3.5</td>\n",
       "      <td>1.0</td>\n",
       "      <td>0.0</td>\n",
       "      <td>2</td>\n",
       "      <td>1</td>\n",
       "    </tr>\n",
       "  </tbody>\n",
       "</table>\n",
       "</div>"
      ],
      "text/plain": [
       "   Total_Bathrooms  BsmtFullBath  BsmtHalfBath  FullBath  HalfBath\n",
       "0              3.5           1.0           0.0         2         1\n",
       "1              2.5           0.0           1.0         2         0\n",
       "2              3.5           1.0           0.0         2         1"
      ]
     },
     "execution_count": 85,
     "metadata": {},
     "output_type": "execute_result"
    }
   ],
   "source": [
    "df_merge[['Total_Bathrooms', 'BsmtFullBath', 'BsmtHalfBath', 'FullBath', 'HalfBath']].head(3)"
   ]
  },
  {
   "cell_type": "code",
   "execution_count": 86,
   "id": "e49a5d47-b915-48e7-8a53-037197155549",
   "metadata": {
    "execution": {
     "iopub.execute_input": "2023-10-09T14:21:27.304802Z",
     "iopub.status.busy": "2023-10-09T14:21:27.303739Z",
     "iopub.status.idle": "2023-10-09T14:21:27.319295Z",
     "shell.execute_reply": "2023-10-09T14:21:27.319295Z",
     "shell.execute_reply.started": "2023-10-09T14:21:27.303739Z"
    }
   },
   "outputs": [],
   "source": [
    "df_merge.drop(columns=['BsmtFullBath', 'BsmtHalfBath', 'FullBath', 'HalfBath'], inplace=True)"
   ]
  },
  {
   "cell_type": "markdown",
   "id": "eb6aa294-f0ff-4632-9c0b-68bd472047f3",
   "metadata": {
    "execution": {
     "iopub.execute_input": "2023-10-09T10:43:25.410599Z",
     "iopub.status.busy": "2023-10-09T10:43:25.410086Z",
     "iopub.status.idle": "2023-10-09T10:43:25.417606Z",
     "shell.execute_reply": "2023-10-09T10:43:25.416594Z",
     "shell.execute_reply.started": "2023-10-09T10:43:25.410599Z"
    }
   },
   "source": [
    "__Age of the house__"
   ]
  },
  {
   "cell_type": "markdown",
   "id": "ceaf160c-ce67-430a-9d45-39b4c73c1225",
   "metadata": {},
   "source": [
    "i think the age of sth is more intuitive and comparable rather than the build year sth like 1995"
   ]
  },
  {
   "cell_type": "code",
   "execution_count": 87,
   "id": "3bd1faab-eb47-464f-bb93-7df2979016e5",
   "metadata": {
    "execution": {
     "iopub.execute_input": "2023-10-09T14:21:27.320973Z",
     "iopub.status.busy": "2023-10-09T14:21:27.320973Z",
     "iopub.status.idle": "2023-10-09T14:21:27.335586Z",
     "shell.execute_reply": "2023-10-09T14:21:27.333577Z",
     "shell.execute_reply.started": "2023-10-09T14:21:27.320973Z"
    }
   },
   "outputs": [
    {
     "data": {
      "text/plain": [
       "2010"
      ]
     },
     "execution_count": 87,
     "metadata": {},
     "output_type": "execute_result"
    }
   ],
   "source": [
    "newest_blt = df_merge['YearBuilt'].max()\n",
    "newest_blt"
   ]
  },
  {
   "cell_type": "code",
   "execution_count": 88,
   "id": "8e63e40d-ba93-49d7-96e2-139a59f765ec",
   "metadata": {
    "execution": {
     "iopub.execute_input": "2023-10-09T14:21:27.341901Z",
     "iopub.status.busy": "2023-10-09T14:21:27.341901Z",
     "iopub.status.idle": "2023-10-09T14:21:27.348756Z",
     "shell.execute_reply": "2023-10-09T14:21:27.348756Z",
     "shell.execute_reply.started": "2023-10-09T14:21:27.341901Z"
    }
   },
   "outputs": [],
   "source": [
    "df_merge['Age_of_Property'] = newest_blt - df_merge['YearBuilt']"
   ]
  },
  {
   "cell_type": "code",
   "execution_count": 89,
   "id": "d19506cc-d5af-4af9-8358-3f5c8d11fc26",
   "metadata": {
    "execution": {
     "iopub.execute_input": "2023-10-09T14:21:27.350680Z",
     "iopub.status.busy": "2023-10-09T14:21:27.348756Z",
     "iopub.status.idle": "2023-10-09T14:21:27.361925Z",
     "shell.execute_reply": "2023-10-09T14:21:27.361925Z",
     "shell.execute_reply.started": "2023-10-09T14:21:27.350680Z"
    }
   },
   "outputs": [
    {
     "data": {
      "text/html": [
       "<div>\n",
       "<style scoped>\n",
       "    .dataframe tbody tr th:only-of-type {\n",
       "        vertical-align: middle;\n",
       "    }\n",
       "\n",
       "    .dataframe tbody tr th {\n",
       "        vertical-align: top;\n",
       "    }\n",
       "\n",
       "    .dataframe thead th {\n",
       "        text-align: right;\n",
       "    }\n",
       "</style>\n",
       "<table border=\"1\" class=\"dataframe\">\n",
       "  <thead>\n",
       "    <tr style=\"text-align: right;\">\n",
       "      <th></th>\n",
       "      <th>Age_of_Property</th>\n",
       "      <th>YearBuilt</th>\n",
       "    </tr>\n",
       "  </thead>\n",
       "  <tbody>\n",
       "    <tr>\n",
       "      <th>0</th>\n",
       "      <td>7</td>\n",
       "      <td>2003</td>\n",
       "    </tr>\n",
       "    <tr>\n",
       "      <th>1</th>\n",
       "      <td>34</td>\n",
       "      <td>1976</td>\n",
       "    </tr>\n",
       "    <tr>\n",
       "      <th>2</th>\n",
       "      <td>9</td>\n",
       "      <td>2001</td>\n",
       "    </tr>\n",
       "  </tbody>\n",
       "</table>\n",
       "</div>"
      ],
      "text/plain": [
       "   Age_of_Property  YearBuilt\n",
       "0                7       2003\n",
       "1               34       1976\n",
       "2                9       2001"
      ]
     },
     "execution_count": 89,
     "metadata": {},
     "output_type": "execute_result"
    }
   ],
   "source": [
    "df_merge[['Age_of_Property', 'YearBuilt']].head(3)"
   ]
  },
  {
   "cell_type": "code",
   "execution_count": 90,
   "id": "6eb728ff-cddd-476d-ad95-d4ec0cc09510",
   "metadata": {
    "execution": {
     "iopub.execute_input": "2023-10-09T14:21:27.363619Z",
     "iopub.status.busy": "2023-10-09T14:21:27.363619Z",
     "iopub.status.idle": "2023-10-09T14:21:27.371933Z",
     "shell.execute_reply": "2023-10-09T14:21:27.371933Z",
     "shell.execute_reply.started": "2023-10-09T14:21:27.363619Z"
    }
   },
   "outputs": [],
   "source": [
    "df_merge.drop(columns=['YearBuilt'], inplace=True)"
   ]
  },
  {
   "cell_type": "markdown",
   "id": "bf3058dd-9d25-4253-9926-1f11026fd9e7",
   "metadata": {
    "execution": {
     "iopub.execute_input": "2023-10-09T11:28:32.204903Z",
     "iopub.status.busy": "2023-10-09T11:28:32.204903Z",
     "iopub.status.idle": "2023-10-09T11:28:32.228329Z",
     "shell.execute_reply": "2023-10-09T11:28:32.227030Z",
     "shell.execute_reply.started": "2023-10-09T11:28:32.204903Z"
    }
   },
   "source": [
    "__Renovation Adding Date__"
   ]
  },
  {
   "cell_type": "code",
   "execution_count": 91,
   "id": "b4c7b05e-5e49-447d-bb07-c22d613645fd",
   "metadata": {
    "execution": {
     "iopub.execute_input": "2023-10-09T14:21:27.371933Z",
     "iopub.status.busy": "2023-10-09T14:21:27.371933Z",
     "iopub.status.idle": "2023-10-09T14:21:27.384727Z",
     "shell.execute_reply": "2023-10-09T14:21:27.384727Z",
     "shell.execute_reply.started": "2023-10-09T14:21:27.371933Z"
    }
   },
   "outputs": [],
   "source": [
    "df_merge['Age_of_Renovation'] = newest_blt - df_merge['YearRemodAdd']"
   ]
  },
  {
   "cell_type": "code",
   "execution_count": 92,
   "id": "a0e8b0b6-1d74-4596-b256-8ad94e18dea7",
   "metadata": {
    "execution": {
     "iopub.execute_input": "2023-10-09T14:21:27.384727Z",
     "iopub.status.busy": "2023-10-09T14:21:27.384727Z",
     "iopub.status.idle": "2023-10-09T14:21:27.401085Z",
     "shell.execute_reply": "2023-10-09T14:21:27.401085Z",
     "shell.execute_reply.started": "2023-10-09T14:21:27.384727Z"
    }
   },
   "outputs": [
    {
     "data": {
      "text/html": [
       "<div>\n",
       "<style scoped>\n",
       "    .dataframe tbody tr th:only-of-type {\n",
       "        vertical-align: middle;\n",
       "    }\n",
       "\n",
       "    .dataframe tbody tr th {\n",
       "        vertical-align: top;\n",
       "    }\n",
       "\n",
       "    .dataframe thead th {\n",
       "        text-align: right;\n",
       "    }\n",
       "</style>\n",
       "<table border=\"1\" class=\"dataframe\">\n",
       "  <thead>\n",
       "    <tr style=\"text-align: right;\">\n",
       "      <th></th>\n",
       "      <th>Age_of_Renovation</th>\n",
       "      <th>YearRemodAdd</th>\n",
       "    </tr>\n",
       "  </thead>\n",
       "  <tbody>\n",
       "    <tr>\n",
       "      <th>0</th>\n",
       "      <td>7</td>\n",
       "      <td>2003</td>\n",
       "    </tr>\n",
       "    <tr>\n",
       "      <th>1</th>\n",
       "      <td>34</td>\n",
       "      <td>1976</td>\n",
       "    </tr>\n",
       "    <tr>\n",
       "      <th>2</th>\n",
       "      <td>8</td>\n",
       "      <td>2002</td>\n",
       "    </tr>\n",
       "  </tbody>\n",
       "</table>\n",
       "</div>"
      ],
      "text/plain": [
       "   Age_of_Renovation  YearRemodAdd\n",
       "0                  7          2003\n",
       "1                 34          1976\n",
       "2                  8          2002"
      ]
     },
     "execution_count": 92,
     "metadata": {},
     "output_type": "execute_result"
    }
   ],
   "source": [
    "df_merge[['Age_of_Renovation', 'YearRemodAdd']].head(3)"
   ]
  },
  {
   "cell_type": "code",
   "execution_count": 93,
   "id": "43cdfa22-1fd9-46d0-8d40-d015dbf6ef3f",
   "metadata": {
    "execution": {
     "iopub.execute_input": "2023-10-09T14:21:27.401085Z",
     "iopub.status.busy": "2023-10-09T14:21:27.401085Z",
     "iopub.status.idle": "2023-10-09T14:21:27.417733Z",
     "shell.execute_reply": "2023-10-09T14:21:27.417733Z",
     "shell.execute_reply.started": "2023-10-09T14:21:27.401085Z"
    }
   },
   "outputs": [],
   "source": [
    "df_merge.drop(columns = ['YearRemodAdd'], inplace=True)"
   ]
  },
  {
   "cell_type": "markdown",
   "id": "7e05f5dc-df5b-4945-8efe-2891ad463a3f",
   "metadata": {
    "execution": {
     "iopub.execute_input": "2023-10-09T11:34:52.871440Z",
     "iopub.status.busy": "2023-10-09T11:34:52.871440Z",
     "iopub.status.idle": "2023-10-09T11:34:52.887967Z",
     "shell.execute_reply": "2023-10-09T11:34:52.887967Z",
     "shell.execute_reply.started": "2023-10-09T11:34:52.871440Z"
    }
   },
   "source": [
    "__Garage Columns__"
   ]
  },
  {
   "cell_type": "code",
   "execution_count": 94,
   "id": "688900e8-9f29-4972-b2c5-fcd4f341ff35",
   "metadata": {
    "execution": {
     "iopub.execute_input": "2023-10-09T14:21:27.417733Z",
     "iopub.status.busy": "2023-10-09T14:21:27.417733Z",
     "iopub.status.idle": "2023-10-09T14:21:27.425743Z",
     "shell.execute_reply": "2023-10-09T14:21:27.425743Z",
     "shell.execute_reply.started": "2023-10-09T14:21:27.417733Z"
    }
   },
   "outputs": [
    {
     "data": {
      "text/plain": [
       "['GarageType',\n",
       " 'GarageYrBlt',\n",
       " 'GarageFinish',\n",
       " 'GarageCars',\n",
       " 'GarageArea',\n",
       " 'GarageQual',\n",
       " 'GarageCond']"
      ]
     },
     "execution_count": 94,
     "metadata": {},
     "output_type": "execute_result"
    }
   ],
   "source": [
    "garage_columns = [col for col in df_merge.columns if 'garage' in col.lower()]\n",
    "garage_columns"
   ]
  },
  {
   "cell_type": "markdown",
   "id": "fec266d2-c0c5-4274-ad25-24037b757bbe",
   "metadata": {},
   "source": [
    "I want to hold GarageArea column, and create a binary value column indicating the property has a garage or not.  \n",
    "i will drop other columns  \n",
    "this is an approach coming from domain knowledge but also for simplicity  \n",
    "Later on, we can tune the model with more features"
   ]
  },
  {
   "cell_type": "code",
   "execution_count": 95,
   "id": "d4aa3f2e-c100-44a2-af2b-599c9af510e2",
   "metadata": {
    "execution": {
     "iopub.execute_input": "2023-10-09T14:21:27.428046Z",
     "iopub.status.busy": "2023-10-09T14:21:27.425743Z",
     "iopub.status.idle": "2023-10-09T14:21:27.444121Z",
     "shell.execute_reply": "2023-10-09T14:21:27.444121Z",
     "shell.execute_reply.started": "2023-10-09T14:21:27.428046Z"
    }
   },
   "outputs": [
    {
     "data": {
      "text/plain": [
       "Attchd       1698\n",
       "Detchd        773\n",
       "BuiltIn       182\n",
       "No Garage     155\n",
       "Basment        36\n",
       "2Types         23\n",
       "CarPort        15\n",
       "Name: GarageType, dtype: int64"
      ]
     },
     "execution_count": 95,
     "metadata": {},
     "output_type": "execute_result"
    }
   ],
   "source": [
    "df_merge['GarageType'].value_counts()"
   ]
  },
  {
   "cell_type": "code",
   "execution_count": 96,
   "id": "db45a97d-ecd7-4519-853b-92d469cf4a89",
   "metadata": {
    "execution": {
     "iopub.execute_input": "2023-10-09T14:21:27.448459Z",
     "iopub.status.busy": "2023-10-09T14:21:27.448459Z",
     "iopub.status.idle": "2023-10-09T14:21:27.469140Z",
     "shell.execute_reply": "2023-10-09T14:21:27.468986Z",
     "shell.execute_reply.started": "2023-10-09T14:21:27.448459Z"
    }
   },
   "outputs": [
    {
     "data": {
      "text/html": [
       "<div>\n",
       "<style scoped>\n",
       "    .dataframe tbody tr th:only-of-type {\n",
       "        vertical-align: middle;\n",
       "    }\n",
       "\n",
       "    .dataframe tbody tr th {\n",
       "        vertical-align: top;\n",
       "    }\n",
       "\n",
       "    .dataframe thead th {\n",
       "        text-align: right;\n",
       "    }\n",
       "</style>\n",
       "<table border=\"1\" class=\"dataframe\">\n",
       "  <thead>\n",
       "    <tr style=\"text-align: right;\">\n",
       "      <th></th>\n",
       "      <th>HasGarage</th>\n",
       "      <th>GarageType</th>\n",
       "    </tr>\n",
       "  </thead>\n",
       "  <tbody>\n",
       "    <tr>\n",
       "      <th>2735</th>\n",
       "      <td>1</td>\n",
       "      <td>Attchd</td>\n",
       "    </tr>\n",
       "    <tr>\n",
       "      <th>495</th>\n",
       "      <td>0</td>\n",
       "      <td>No Garage</td>\n",
       "    </tr>\n",
       "    <tr>\n",
       "      <th>1471</th>\n",
       "      <td>1</td>\n",
       "      <td>Detchd</td>\n",
       "    </tr>\n",
       "    <tr>\n",
       "      <th>2716</th>\n",
       "      <td>1</td>\n",
       "      <td>BuiltIn</td>\n",
       "    </tr>\n",
       "    <tr>\n",
       "      <th>1628</th>\n",
       "      <td>1</td>\n",
       "      <td>BuiltIn</td>\n",
       "    </tr>\n",
       "  </tbody>\n",
       "</table>\n",
       "</div>"
      ],
      "text/plain": [
       "      HasGarage GarageType\n",
       "2735          1     Attchd\n",
       "495           0  No Garage\n",
       "1471          1     Detchd\n",
       "2716          1    BuiltIn\n",
       "1628          1    BuiltIn"
      ]
     },
     "execution_count": 96,
     "metadata": {},
     "output_type": "execute_result"
    }
   ],
   "source": [
    "df_merge['HasGarage'] = (df_merge['GarageType'] != 'No Garage').astype(int)\n",
    "df_merge[['HasGarage', 'GarageType']].sample(5)"
   ]
  },
  {
   "cell_type": "code",
   "execution_count": 97,
   "id": "9a4c40a4-5d3b-45a1-b8a1-b81706b1481d",
   "metadata": {
    "execution": {
     "iopub.execute_input": "2023-10-09T14:21:27.471325Z",
     "iopub.status.busy": "2023-10-09T14:21:27.471325Z",
     "iopub.status.idle": "2023-10-09T14:21:27.481122Z",
     "shell.execute_reply": "2023-10-09T14:21:27.480541Z",
     "shell.execute_reply.started": "2023-10-09T14:21:27.471325Z"
    }
   },
   "outputs": [],
   "source": [
    "df_merge.drop(columns= ['GarageType','GarageYrBlt','GarageFinish','GarageCars','GarageQual','GarageCond'], inplace=True)"
   ]
  },
  {
   "cell_type": "code",
   "execution_count": 98,
   "id": "643eb4ba-eda1-4aa9-b864-a12b7814fee9",
   "metadata": {
    "execution": {
     "iopub.execute_input": "2023-10-09T14:21:27.482447Z",
     "iopub.status.busy": "2023-10-09T14:21:27.482447Z",
     "iopub.status.idle": "2023-10-09T14:21:27.498065Z",
     "shell.execute_reply": "2023-10-09T14:21:27.496909Z",
     "shell.execute_reply.started": "2023-10-09T14:21:27.482447Z"
    }
   },
   "outputs": [
    {
     "data": {
      "text/plain": [
       "['GarageArea', 'HasGarage']"
      ]
     },
     "execution_count": 98,
     "metadata": {},
     "output_type": "execute_result"
    }
   ],
   "source": [
    "garage_columns_final = [col for col in df_merge.columns if 'garage' in col.lower()]\n",
    "garage_columns_final"
   ]
  },
  {
   "cell_type": "markdown",
   "id": "0d056915-6330-4391-92a6-02d310150ca4",
   "metadata": {},
   "source": [
    "__Pool Column__"
   ]
  },
  {
   "cell_type": "markdown",
   "id": "40810f0f-0a5f-4218-9fb4-d9b26350e022",
   "metadata": {},
   "source": [
    "Lets also change the pool columns into a one binary feature as well, indicating whether the property has a pool or not  \n",
    "['PoolArea', 'PoolQC']"
   ]
  },
  {
   "cell_type": "code",
   "execution_count": 99,
   "id": "da533c66-dd3b-433f-ab56-48afe8007508",
   "metadata": {
    "execution": {
     "iopub.execute_input": "2023-10-09T14:21:27.498065Z",
     "iopub.status.busy": "2023-10-09T14:21:27.498065Z",
     "iopub.status.idle": "2023-10-09T14:21:27.514470Z",
     "shell.execute_reply": "2023-10-09T14:21:27.513307Z",
     "shell.execute_reply.started": "2023-10-09T14:21:27.498065Z"
    }
   },
   "outputs": [
    {
     "data": {
      "text/plain": [
       "No Pool    2872\n",
       "Ex            4\n",
       "Gd            4\n",
       "Fa            2\n",
       "Name: PoolQC, dtype: int64"
      ]
     },
     "execution_count": 99,
     "metadata": {},
     "output_type": "execute_result"
    }
   ],
   "source": [
    "df_merge['PoolQC'].value_counts()"
   ]
  },
  {
   "cell_type": "code",
   "execution_count": 100,
   "id": "bc87b4c7-4dd8-42c2-bd10-461c02833218",
   "metadata": {
    "execution": {
     "iopub.execute_input": "2023-10-09T14:21:27.516076Z",
     "iopub.status.busy": "2023-10-09T14:21:27.514470Z",
     "iopub.status.idle": "2023-10-09T14:21:27.521425Z",
     "shell.execute_reply": "2023-10-09T14:21:27.521425Z",
     "shell.execute_reply.started": "2023-10-09T14:21:27.516076Z"
    }
   },
   "outputs": [],
   "source": [
    "df_merge['HasPool'] = (df_merge['PoolQC'] != 'No Pool').astype(int)"
   ]
  },
  {
   "cell_type": "code",
   "execution_count": 101,
   "id": "d1a15a71-f00c-443b-b42b-b02d7c7f1a6d",
   "metadata": {
    "execution": {
     "iopub.execute_input": "2023-10-09T14:21:27.521425Z",
     "iopub.status.busy": "2023-10-09T14:21:27.521425Z",
     "iopub.status.idle": "2023-10-09T14:21:27.537779Z",
     "shell.execute_reply": "2023-10-09T14:21:27.537779Z",
     "shell.execute_reply.started": "2023-10-09T14:21:27.521425Z"
    }
   },
   "outputs": [
    {
     "data": {
      "text/plain": [
       "0    2872\n",
       "1      10\n",
       "Name: HasPool, dtype: int64"
      ]
     },
     "execution_count": 101,
     "metadata": {},
     "output_type": "execute_result"
    }
   ],
   "source": [
    "df_merge['HasPool'].value_counts()"
   ]
  },
  {
   "cell_type": "code",
   "execution_count": 102,
   "id": "10005b75-580e-45d7-ba36-d42fee645019",
   "metadata": {
    "execution": {
     "iopub.execute_input": "2023-10-09T14:21:27.537779Z",
     "iopub.status.busy": "2023-10-09T14:21:27.537779Z",
     "iopub.status.idle": "2023-10-09T14:21:27.553800Z",
     "shell.execute_reply": "2023-10-09T14:21:27.553800Z",
     "shell.execute_reply.started": "2023-10-09T14:21:27.537779Z"
    }
   },
   "outputs": [],
   "source": [
    "df_merge.drop(columns =['PoolArea', 'PoolQC'], inplace=True)"
   ]
  },
  {
   "cell_type": "markdown",
   "id": "6e6ea64f-37d8-413a-81b1-c01c4fbd8c14",
   "metadata": {},
   "source": [
    "__Neighborhood__"
   ]
  },
  {
   "cell_type": "markdown",
   "id": "32978160-9e46-4d45-bfda-b77b3fb80a7b",
   "metadata": {},
   "source": [
    "I want to create mean and median prices for each neighborhood and drop neighborhoods itself  \n",
    "Because generally, prices are really dependent on the neighborhood  \n",
    "We can also work with sqft prices as well"
   ]
  },
  {
   "cell_type": "code",
   "execution_count": 103,
   "id": "9327145a-8aa3-4ff8-859f-1f5da7686c37",
   "metadata": {
    "execution": {
     "iopub.execute_input": "2023-10-09T14:21:27.555310Z",
     "iopub.status.busy": "2023-10-09T14:21:27.555310Z",
     "iopub.status.idle": "2023-10-09T14:21:27.577990Z",
     "shell.execute_reply": "2023-10-09T14:21:27.577990Z",
     "shell.execute_reply.started": "2023-10-09T14:21:27.555310Z"
    },
    "scrolled": true
   },
   "outputs": [],
   "source": [
    "neighborhood_avg_price = df_merge.groupby('Neighborhood')['SalePrice'].mean().reset_index()\n",
    "neighborhood_avg_price.columns = ['Neighborhood', 'AvgHousePrice']\n",
    "\n",
    "neighborhood_median_price = df_merge.groupby('Neighborhood')['SalePrice'].median().reset_index()\n",
    "neighborhood_median_price.columns = ['Neighborhood', 'MedianHousePrice']\n",
    "\n",
    "df_merge = pd.merge(df_merge, neighborhood_avg_price, on='Neighborhood')\n",
    "df_merge = pd.merge(df_merge, neighborhood_median_price, on='Neighborhood')"
   ]
  },
  {
   "cell_type": "code",
   "execution_count": 104,
   "id": "6abd1042-8c4b-4fa3-b59b-2223b088f855",
   "metadata": {
    "execution": {
     "iopub.execute_input": "2023-10-09T14:21:27.577990Z",
     "iopub.status.busy": "2023-10-09T14:21:27.577990Z",
     "iopub.status.idle": "2023-10-09T14:21:27.602760Z",
     "shell.execute_reply": "2023-10-09T14:21:27.602760Z",
     "shell.execute_reply.started": "2023-10-09T14:21:27.577990Z"
    }
   },
   "outputs": [
    {
     "data": {
      "text/html": [
       "<div>\n",
       "<style scoped>\n",
       "    .dataframe tbody tr th:only-of-type {\n",
       "        vertical-align: middle;\n",
       "    }\n",
       "\n",
       "    .dataframe tbody tr th {\n",
       "        vertical-align: top;\n",
       "    }\n",
       "\n",
       "    .dataframe thead th {\n",
       "        text-align: right;\n",
       "    }\n",
       "</style>\n",
       "<table border=\"1\" class=\"dataframe\">\n",
       "  <thead>\n",
       "    <tr style=\"text-align: right;\">\n",
       "      <th></th>\n",
       "      <th>Neighborhood</th>\n",
       "      <th>AvgHousePrice</th>\n",
       "      <th>MedianHousePrice</th>\n",
       "    </tr>\n",
       "  </thead>\n",
       "  <tbody>\n",
       "    <tr>\n",
       "      <th>290</th>\n",
       "      <td>Crawfor</td>\n",
       "      <td>210824.740000</td>\n",
       "      <td>208550.0</td>\n",
       "    </tr>\n",
       "    <tr>\n",
       "      <th>742</th>\n",
       "      <td>Somerst</td>\n",
       "      <td>226443.566265</td>\n",
       "      <td>226700.0</td>\n",
       "    </tr>\n",
       "    <tr>\n",
       "      <th>2181</th>\n",
       "      <td>IDOTRR</td>\n",
       "      <td>100123.783784</td>\n",
       "      <td>103000.0</td>\n",
       "    </tr>\n",
       "  </tbody>\n",
       "</table>\n",
       "</div>"
      ],
      "text/plain": [
       "     Neighborhood  AvgHousePrice  MedianHousePrice\n",
       "290       Crawfor  210824.740000          208550.0\n",
       "742       Somerst  226443.566265          226700.0\n",
       "2181       IDOTRR  100123.783784          103000.0"
      ]
     },
     "execution_count": 104,
     "metadata": {},
     "output_type": "execute_result"
    }
   ],
   "source": [
    "df_merge[['Neighborhood', 'AvgHousePrice', 'MedianHousePrice']].sample(3)"
   ]
  },
  {
   "cell_type": "code",
   "execution_count": 105,
   "id": "37e8da6d-04d4-483e-ae64-ca28c930680c",
   "metadata": {
    "execution": {
     "iopub.execute_input": "2023-10-09T14:21:27.602760Z",
     "iopub.status.busy": "2023-10-09T14:21:27.602760Z",
     "iopub.status.idle": "2023-10-09T14:21:27.620399Z",
     "shell.execute_reply": "2023-10-09T14:21:27.619301Z",
     "shell.execute_reply.started": "2023-10-09T14:21:27.602760Z"
    }
   },
   "outputs": [
    {
     "name": "stdout",
     "output_type": "stream",
     "text": [
      "145847.08\n",
      "140000.0\n"
     ]
    }
   ],
   "source": [
    "# Lets double check what we have made\n",
    "print(df_merge.groupby('Neighborhood')['SalePrice'].mean().loc['NAmes'])\n",
    "print(df_merge.groupby('Neighborhood')['SalePrice'].median().loc['NAmes'])"
   ]
  },
  {
   "cell_type": "code",
   "execution_count": 106,
   "id": "5a3e81a8-e064-44fa-88f3-85ffb0ba9e0b",
   "metadata": {
    "execution": {
     "iopub.execute_input": "2023-10-09T14:21:27.620399Z",
     "iopub.status.busy": "2023-10-09T14:21:27.620399Z",
     "iopub.status.idle": "2023-10-09T14:21:27.631087Z",
     "shell.execute_reply": "2023-10-09T14:21:27.630220Z",
     "shell.execute_reply.started": "2023-10-09T14:21:27.620399Z"
    }
   },
   "outputs": [],
   "source": [
    "df_merge.drop(columns=['Neighborhood'], inplace=True)"
   ]
  },
  {
   "cell_type": "code",
   "execution_count": 107,
   "id": "32807455-8d71-4c41-adee-43a7c4c91f53",
   "metadata": {
    "execution": {
     "iopub.execute_input": "2023-10-09T14:21:27.632107Z",
     "iopub.status.busy": "2023-10-09T14:21:27.632107Z",
     "iopub.status.idle": "2023-10-09T14:21:27.646636Z",
     "shell.execute_reply": "2023-10-09T14:21:27.646132Z",
     "shell.execute_reply.started": "2023-10-09T14:21:27.632107Z"
    }
   },
   "outputs": [
    {
     "data": {
      "text/plain": [
       "(2882, 74)"
      ]
     },
     "execution_count": 107,
     "metadata": {},
     "output_type": "execute_result"
    }
   ],
   "source": [
    "df_merge.shape"
   ]
  },
  {
   "cell_type": "markdown",
   "id": "8dabac18-ab5a-4f32-9b01-abe5c03bfdb4",
   "metadata": {
    "execution": {
     "iopub.execute_input": "2023-10-09T13:24:48.382250Z",
     "iopub.status.busy": "2023-10-09T13:24:48.382250Z",
     "iopub.status.idle": "2023-10-09T13:24:48.390368Z",
     "shell.execute_reply": "2023-10-09T13:24:48.390368Z",
     "shell.execute_reply.started": "2023-10-09T13:24:48.382250Z"
    }
   },
   "source": [
    "__Basement columns__"
   ]
  },
  {
   "cell_type": "markdown",
   "id": "00c2d475-0564-4cc3-8f85-f9d75bbb0f47",
   "metadata": {},
   "source": [
    "There are many features related to basement. Lets try to combine, elminate or summmarize them"
   ]
  },
  {
   "cell_type": "code",
   "execution_count": 108,
   "id": "71da2a5f-8f08-49f6-8762-a7444b1cf0a2",
   "metadata": {
    "execution": {
     "iopub.execute_input": "2023-10-09T14:21:27.648929Z",
     "iopub.status.busy": "2023-10-09T14:21:27.646636Z",
     "iopub.status.idle": "2023-10-09T14:21:27.659791Z",
     "shell.execute_reply": "2023-10-09T14:21:27.659284Z",
     "shell.execute_reply.started": "2023-10-09T14:21:27.648929Z"
    }
   },
   "outputs": [
    {
     "data": {
      "text/plain": [
       "['BsmtQual',\n",
       " 'BsmtCond',\n",
       " 'BsmtExposure',\n",
       " 'BsmtFinType1',\n",
       " 'BsmtFinSF1',\n",
       " 'BsmtFinType2',\n",
       " 'BsmtFinSF2',\n",
       " 'BsmtUnfSF',\n",
       " 'TotalBsmtSF']"
      ]
     },
     "execution_count": 108,
     "metadata": {},
     "output_type": "execute_result"
    }
   ],
   "source": [
    "basement_columns_final = [col for col in df_merge.columns if 'bsmt' in col.lower()]\n",
    "basement_columns_final"
   ]
  },
  {
   "cell_type": "markdown",
   "id": "1353a455-c6d6-4beb-8d0b-ceb8db3c71e4",
   "metadata": {},
   "source": [
    "- I will give grades to Basement Quality, Basement Condition, Basement Exposure\n",
    "- I will combine Basement finTypes and SF into one feature having a grade\n",
    "- Then i will combine all 4 features into one feature Ovarall Basement Quality with a total grade\n",
    "- if the grade is zero - that means no basement/ but we need to check all the columns have synchronized no basement values or not\n",
    "- i will drop the remaining"
   ]
  },
  {
   "cell_type": "code",
   "execution_count": 109,
   "id": "b5601807-dc72-494b-973e-74b497c31f8f",
   "metadata": {
    "execution": {
     "iopub.execute_input": "2023-10-09T14:21:27.662027Z",
     "iopub.status.busy": "2023-10-09T14:21:27.660919Z",
     "iopub.status.idle": "2023-10-09T14:21:27.677377Z",
     "shell.execute_reply": "2023-10-09T14:21:27.677377Z",
     "shell.execute_reply.started": "2023-10-09T14:21:27.662027Z"
    }
   },
   "outputs": [],
   "source": [
    "# Define different mappings for each basement features\r",
    "bsmt_qualn_mapping = {'Ex':54, 'Gd':43, 'TA':32, 'Fa':21, 'Po':1, 'No Basement': 00}\n",
    "bsmt_cond_mapping = {'Ex': 5, 'Gd': 4, 'TA': 3, 'Fa': 2, 'Po': 1, 'No Basement': 0}\n",
    "\n",
    "bsmt_exposure_mapping = {'Gd': 4, 'Av': 3, 'Mn': 2, 'No': 1, 'No Basement': 0}\n",
    "\n",
    "bsmt_fintype_mapping = {'GLQ': 6, 'ALQ': 5, 'BLQ': 4, 'Rec': 3, 'LwQ': 2, 'Unf': 1, 'No Basement': 0}\r\n"
   ]
  },
  {
   "cell_type": "code",
   "execution_count": 130,
   "id": "f32d367f-1b28-4976-9f39-724568f709d8",
   "metadata": {
    "execution": {
     "iopub.execute_input": "2023-10-09T14:34:15.001066Z",
     "iopub.status.busy": "2023-10-09T14:34:15.001066Z",
     "iopub.status.idle": "2023-10-09T14:34:15.023584Z",
     "shell.execute_reply": "2023-10-09T14:34:15.023584Z",
     "shell.execute_reply.started": "2023-10-09T14:34:15.001066Z"
    }
   },
   "outputs": [
    {
     "data": {
      "text/html": [
       "<div>\n",
       "<style scoped>\n",
       "    .dataframe tbody tr th:only-of-type {\n",
       "        vertical-align: middle;\n",
       "    }\n",
       "\n",
       "    .dataframe tbody tr th {\n",
       "        vertical-align: top;\n",
       "    }\n",
       "\n",
       "    .dataframe thead th {\n",
       "        text-align: right;\n",
       "    }\n",
       "</style>\n",
       "<table border=\"1\" class=\"dataframe\">\n",
       "  <thead>\n",
       "    <tr style=\"text-align: right;\">\n",
       "      <th></th>\n",
       "      <th>BsmtQual</th>\n",
       "      <th>BsmtFinType1</th>\n",
       "      <th>BsmtFinSF1</th>\n",
       "      <th>BsmtFinType2</th>\n",
       "      <th>BsmtFinSF2</th>\n",
       "      <th>BsmtUnfSF</th>\n",
       "      <th>TotalBsmtSF</th>\n",
       "    </tr>\n",
       "  </thead>\n",
       "  <tbody>\n",
       "    <tr>\n",
       "      <th>2437</th>\n",
       "      <td>Ex</td>\n",
       "      <td>GLQ</td>\n",
       "      <td>1274.0</td>\n",
       "      <td>Unf</td>\n",
       "      <td>0.0</td>\n",
       "      <td>526.0</td>\n",
       "      <td>1800.0</td>\n",
       "    </tr>\n",
       "    <tr>\n",
       "      <th>2514</th>\n",
       "      <td>Gd</td>\n",
       "      <td>Unf</td>\n",
       "      <td>0.0</td>\n",
       "      <td>Unf</td>\n",
       "      <td>0.0</td>\n",
       "      <td>926.0</td>\n",
       "      <td>926.0</td>\n",
       "    </tr>\n",
       "    <tr>\n",
       "      <th>1921</th>\n",
       "      <td>TA</td>\n",
       "      <td>BLQ</td>\n",
       "      <td>1098.0</td>\n",
       "      <td>Rec</td>\n",
       "      <td>154.0</td>\n",
       "      <td>125.0</td>\n",
       "      <td>1377.0</td>\n",
       "    </tr>\n",
       "    <tr>\n",
       "      <th>1966</th>\n",
       "      <td>TA</td>\n",
       "      <td>Unf</td>\n",
       "      <td>0.0</td>\n",
       "      <td>Unf</td>\n",
       "      <td>0.0</td>\n",
       "      <td>784.0</td>\n",
       "      <td>784.0</td>\n",
       "    </tr>\n",
       "    <tr>\n",
       "      <th>330</th>\n",
       "      <td>TA</td>\n",
       "      <td>Rec</td>\n",
       "      <td>192.0</td>\n",
       "      <td>Unf</td>\n",
       "      <td>0.0</td>\n",
       "      <td>536.0</td>\n",
       "      <td>728.0</td>\n",
       "    </tr>\n",
       "  </tbody>\n",
       "</table>\n",
       "</div>"
      ],
      "text/plain": [
       "     BsmtQual BsmtFinType1  BsmtFinSF1 BsmtFinType2  BsmtFinSF2  BsmtUnfSF  \\\n",
       "2437       Ex          GLQ      1274.0          Unf         0.0      526.0   \n",
       "2514       Gd          Unf         0.0          Unf         0.0      926.0   \n",
       "1921       TA          BLQ      1098.0          Rec       154.0      125.0   \n",
       "1966       TA          Unf         0.0          Unf         0.0      784.0   \n",
       "330        TA          Rec       192.0          Unf         0.0      536.0   \n",
       "\n",
       "      TotalBsmtSF  \n",
       "2437       1800.0  \n",
       "2514        926.0  \n",
       "1921       1377.0  \n",
       "1966        784.0  \n",
       "330         728.0  "
      ]
     },
     "execution_count": 130,
     "metadata": {},
     "output_type": "execute_result"
    }
   ],
   "source": [
    "# FIRST: lest check what our data looks like for fintype columns\n",
    "\n",
    "df_merge[['BsmtQual','BsmtFinType1', 'BsmtFinSF1', 'BsmtFinType2', 'BsmtFinSF2', 'BsmtUnfSF', 'TotalBsmtSF']].sample(5)"
   ]
  },
  {
   "cell_type": "markdown",
   "id": "d6eea251-a768-4c66-a4af-5c845473367c",
   "metadata": {},
   "source": [
    "it looks like BsmtFinSF1+BsmtFinSF2+BsmtUnfSF == TotalBsmtSF  \n",
    "if type1 and type2 has unf category, the sf writes in the BsmtUnfSF\t"
   ]
  },
  {
   "cell_type": "code",
   "execution_count": 132,
   "id": "c178ffd7-d5ad-4fbf-a401-065a1a4b93c0",
   "metadata": {
    "execution": {
     "iopub.execute_input": "2023-10-09T14:37:03.277622Z",
     "iopub.status.busy": "2023-10-09T14:37:03.277622Z",
     "iopub.status.idle": "2023-10-09T14:37:03.297938Z",
     "shell.execute_reply": "2023-10-09T14:37:03.297938Z",
     "shell.execute_reply.started": "2023-10-09T14:37:03.277622Z"
    },
    "scrolled": true
   },
   "outputs": [
    {
     "data": {
      "text/plain": [
       "True    2882\n",
       "dtype: int64"
      ]
     },
     "execution_count": 132,
     "metadata": {},
     "output_type": "execute_result"
    }
   ],
   "source": [
    "# lets double check if we are right with our assumptions related to categories and sq footages calculations\n",
    "\n",
    "check_bsmt_sf = df_merge['TotalBsmtSF'] == (df_merge['BsmtFinSF1'] + df_merge['BsmtFinSF2'] + df_merge['BsmtUnfSF'])\n",
    "check_bsmt_sf.value_counts()\n",
    "\n",
    "# if all values come true, that means my hypotesis above is correct"
   ]
  },
  {
   "cell_type": "code",
   "execution_count": null,
   "id": "d7955804-41cc-4dea-bf6e-d70fee41cb45",
   "metadata": {},
   "outputs": [],
   "source": [
    "df_merge['fintype_grade_column'] = df_merge"
   ]
  },
  {
   "cell_type": "code",
   "execution_count": 134,
   "id": "6caa02c1-2c0a-4e65-b0fa-46102f1b985f",
   "metadata": {
    "execution": {
     "iopub.execute_input": "2023-10-09T14:41:25.829537Z",
     "iopub.status.busy": "2023-10-09T14:41:25.825874Z",
     "iopub.status.idle": "2023-10-09T14:41:25.842322Z",
     "shell.execute_reply": "2023-10-09T14:41:25.841817Z",
     "shell.execute_reply.started": "2023-10-09T14:41:25.829537Z"
    },
    "scrolled": true
   },
   "outputs": [],
   "source": [
    "df_merge['BsmtFinType1'] = df_merge['BsmtFinType1'].map(bsmt_fintype_mapping)\n",
    "df_merge['BsmtFinType2'] = df_merge['BsmtFinType2'].map(bsmt_fintype_mapping)"
   ]
  },
  {
   "cell_type": "code",
   "execution_count": 135,
   "id": "37a4244c-f32c-4833-af51-f4ca68ad4811",
   "metadata": {
    "execution": {
     "iopub.execute_input": "2023-10-09T14:41:39.600220Z",
     "iopub.status.busy": "2023-10-09T14:41:39.600220Z",
     "iopub.status.idle": "2023-10-09T14:41:39.655338Z",
     "shell.execute_reply": "2023-10-09T14:41:39.655338Z",
     "shell.execute_reply.started": "2023-10-09T14:41:39.600220Z"
    }
   },
   "outputs": [
    {
     "data": {
      "text/html": [
       "<div>\n",
       "<style scoped>\n",
       "    .dataframe tbody tr th:only-of-type {\n",
       "        vertical-align: middle;\n",
       "    }\n",
       "\n",
       "    .dataframe tbody tr th {\n",
       "        vertical-align: top;\n",
       "    }\n",
       "\n",
       "    .dataframe thead th {\n",
       "        text-align: right;\n",
       "    }\n",
       "</style>\n",
       "<table border=\"1\" class=\"dataframe\">\n",
       "  <thead>\n",
       "    <tr style=\"text-align: right;\">\n",
       "      <th></th>\n",
       "      <th>Id</th>\n",
       "      <th>MSSubClass</th>\n",
       "      <th>MSZoning</th>\n",
       "      <th>LotFrontage</th>\n",
       "      <th>LotArea</th>\n",
       "      <th>Street</th>\n",
       "      <th>Alley</th>\n",
       "      <th>LotShape</th>\n",
       "      <th>LandContour</th>\n",
       "      <th>Utilities</th>\n",
       "      <th>LotConfig</th>\n",
       "      <th>LandSlope</th>\n",
       "      <th>Condition1</th>\n",
       "      <th>Condition2</th>\n",
       "      <th>BldgType</th>\n",
       "      <th>HouseStyle</th>\n",
       "      <th>OverallQual</th>\n",
       "      <th>OverallCond</th>\n",
       "      <th>RoofStyle</th>\n",
       "      <th>RoofMatl</th>\n",
       "      <th>Exterior1st</th>\n",
       "      <th>Exterior2nd</th>\n",
       "      <th>MasVnrType</th>\n",
       "      <th>MasVnrArea</th>\n",
       "      <th>ExterQual</th>\n",
       "      <th>ExterCond</th>\n",
       "      <th>Foundation</th>\n",
       "      <th>BsmtQual</th>\n",
       "      <th>BsmtCond</th>\n",
       "      <th>BsmtExposure</th>\n",
       "      <th>BsmtFinType1</th>\n",
       "      <th>BsmtFinSF1</th>\n",
       "      <th>BsmtFinType2</th>\n",
       "      <th>BsmtFinSF2</th>\n",
       "      <th>BsmtUnfSF</th>\n",
       "      <th>TotalBsmtSF</th>\n",
       "      <th>Heating</th>\n",
       "      <th>HeatingQC</th>\n",
       "      <th>CentralAir</th>\n",
       "      <th>Electrical</th>\n",
       "      <th>1stFlrSF</th>\n",
       "      <th>2ndFlrSF</th>\n",
       "      <th>LowQualFinSF</th>\n",
       "      <th>GrLivArea</th>\n",
       "      <th>BedroomAbvGr</th>\n",
       "      <th>KitchenAbvGr</th>\n",
       "      <th>KitchenQual</th>\n",
       "      <th>TotRmsAbvGrd</th>\n",
       "      <th>Functional</th>\n",
       "      <th>Fireplaces</th>\n",
       "      <th>FireplaceQu</th>\n",
       "      <th>GarageArea</th>\n",
       "      <th>PavedDrive</th>\n",
       "      <th>WoodDeckSF</th>\n",
       "      <th>OpenPorchSF</th>\n",
       "      <th>EnclosedPorch</th>\n",
       "      <th>3SsnPorch</th>\n",
       "      <th>ScreenPorch</th>\n",
       "      <th>Fence</th>\n",
       "      <th>MiscFeature</th>\n",
       "      <th>MiscVal</th>\n",
       "      <th>MoSold</th>\n",
       "      <th>YrSold</th>\n",
       "      <th>SaleType</th>\n",
       "      <th>SaleCondition</th>\n",
       "      <th>SalePrice</th>\n",
       "      <th>Total_Area</th>\n",
       "      <th>Total_Bathrooms</th>\n",
       "      <th>Age_of_Property</th>\n",
       "      <th>Age_of_Renovation</th>\n",
       "      <th>HasGarage</th>\n",
       "      <th>HasPool</th>\n",
       "      <th>AvgHousePrice</th>\n",
       "      <th>MedianHousePrice</th>\n",
       "    </tr>\n",
       "  </thead>\n",
       "  <tbody>\n",
       "    <tr>\n",
       "      <th>1566</th>\n",
       "      <td>157</td>\n",
       "      <td>20</td>\n",
       "      <td>RL</td>\n",
       "      <td>60.0</td>\n",
       "      <td>7200</td>\n",
       "      <td>Pave</td>\n",
       "      <td>No Alley Access</td>\n",
       "      <td>Reg</td>\n",
       "      <td>Lvl</td>\n",
       "      <td>AllPub</td>\n",
       "      <td>Inside</td>\n",
       "      <td>Gtl</td>\n",
       "      <td>Norm</td>\n",
       "      <td>Norm</td>\n",
       "      <td>1Fam</td>\n",
       "      <td>1Story</td>\n",
       "      <td>5</td>\n",
       "      <td>7</td>\n",
       "      <td>Hip</td>\n",
       "      <td>CompShg</td>\n",
       "      <td>Wd Sdng</td>\n",
       "      <td>Wd Sdng</td>\n",
       "      <td>None</td>\n",
       "      <td>0.0</td>\n",
       "      <td>TA</td>\n",
       "      <td>TA</td>\n",
       "      <td>CBlock</td>\n",
       "      <td>No Basement</td>\n",
       "      <td>No Basement</td>\n",
       "      <td>No Basement</td>\n",
       "      <td>NaN</td>\n",
       "      <td>0.0</td>\n",
       "      <td>NaN</td>\n",
       "      <td>0.0</td>\n",
       "      <td>0.0</td>\n",
       "      <td>0.0</td>\n",
       "      <td>GasA</td>\n",
       "      <td>TA</td>\n",
       "      <td>Y</td>\n",
       "      <td>FuseF</td>\n",
       "      <td>1040</td>\n",
       "      <td>0</td>\n",
       "      <td>0</td>\n",
       "      <td>1040</td>\n",
       "      <td>2</td>\n",
       "      <td>1</td>\n",
       "      <td>TA</td>\n",
       "      <td>5</td>\n",
       "      <td>Typ</td>\n",
       "      <td>0</td>\n",
       "      <td>No FirePlace</td>\n",
       "      <td>625.0</td>\n",
       "      <td>Y</td>\n",
       "      <td>0</td>\n",
       "      <td>0</td>\n",
       "      <td>0</td>\n",
       "      <td>0</td>\n",
       "      <td>0</td>\n",
       "      <td>No Fence</td>\n",
       "      <td>No MiscFeatures</td>\n",
       "      <td>0</td>\n",
       "      <td>6</td>\n",
       "      <td>2006</td>\n",
       "      <td>WD</td>\n",
       "      <td>Normal</td>\n",
       "      <td>109500.0</td>\n",
       "      <td>1040.0</td>\n",
       "      <td>1.0</td>\n",
       "      <td>60</td>\n",
       "      <td>60</td>\n",
       "      <td>1</td>\n",
       "      <td>0</td>\n",
       "      <td>145847.080000</td>\n",
       "      <td>140000.0</td>\n",
       "    </tr>\n",
       "    <tr>\n",
       "      <th>2810</th>\n",
       "      <td>1472</td>\n",
       "      <td>160</td>\n",
       "      <td>RM</td>\n",
       "      <td>21.0</td>\n",
       "      <td>1680</td>\n",
       "      <td>Pave</td>\n",
       "      <td>No Alley Access</td>\n",
       "      <td>Reg</td>\n",
       "      <td>Lvl</td>\n",
       "      <td>AllPub</td>\n",
       "      <td>Inside</td>\n",
       "      <td>Gtl</td>\n",
       "      <td>Norm</td>\n",
       "      <td>Norm</td>\n",
       "      <td>Twnhs</td>\n",
       "      <td>2Story</td>\n",
       "      <td>6</td>\n",
       "      <td>5</td>\n",
       "      <td>Gable</td>\n",
       "      <td>CompShg</td>\n",
       "      <td>HdBoard</td>\n",
       "      <td>HdBoard</td>\n",
       "      <td>BrkFace</td>\n",
       "      <td>504.0</td>\n",
       "      <td>TA</td>\n",
       "      <td>TA</td>\n",
       "      <td>CBlock</td>\n",
       "      <td>TA</td>\n",
       "      <td>TA</td>\n",
       "      <td>No</td>\n",
       "      <td>NaN</td>\n",
       "      <td>156.0</td>\n",
       "      <td>NaN</td>\n",
       "      <td>0.0</td>\n",
       "      <td>327.0</td>\n",
       "      <td>483.0</td>\n",
       "      <td>GasA</td>\n",
       "      <td>TA</td>\n",
       "      <td>Y</td>\n",
       "      <td>SBrkr</td>\n",
       "      <td>483</td>\n",
       "      <td>504</td>\n",
       "      <td>0</td>\n",
       "      <td>987</td>\n",
       "      <td>2</td>\n",
       "      <td>1</td>\n",
       "      <td>TA</td>\n",
       "      <td>5</td>\n",
       "      <td>Typ</td>\n",
       "      <td>0</td>\n",
       "      <td>No FirePlace</td>\n",
       "      <td>264.0</td>\n",
       "      <td>Y</td>\n",
       "      <td>275</td>\n",
       "      <td>0</td>\n",
       "      <td>0</td>\n",
       "      <td>0</td>\n",
       "      <td>0</td>\n",
       "      <td>No Fence</td>\n",
       "      <td>No MiscFeatures</td>\n",
       "      <td>0</td>\n",
       "      <td>2</td>\n",
       "      <td>2010</td>\n",
       "      <td>COD</td>\n",
       "      <td>Normal</td>\n",
       "      <td>NaN</td>\n",
       "      <td>1470.0</td>\n",
       "      <td>1.5</td>\n",
       "      <td>39</td>\n",
       "      <td>39</td>\n",
       "      <td>1</td>\n",
       "      <td>0</td>\n",
       "      <td>104493.750000</td>\n",
       "      <td>106000.0</td>\n",
       "    </tr>\n",
       "    <tr>\n",
       "      <th>1217</th>\n",
       "      <td>2465</td>\n",
       "      <td>50</td>\n",
       "      <td>RL</td>\n",
       "      <td>60.0</td>\n",
       "      <td>8850</td>\n",
       "      <td>Pave</td>\n",
       "      <td>Pave</td>\n",
       "      <td>Reg</td>\n",
       "      <td>Bnk</td>\n",
       "      <td>AllPub</td>\n",
       "      <td>Inside</td>\n",
       "      <td>Gtl</td>\n",
       "      <td>Norm</td>\n",
       "      <td>Norm</td>\n",
       "      <td>1Fam</td>\n",
       "      <td>1.5Fin</td>\n",
       "      <td>6</td>\n",
       "      <td>7</td>\n",
       "      <td>Gable</td>\n",
       "      <td>CompShg</td>\n",
       "      <td>Wd Sdng</td>\n",
       "      <td>Wd Shng</td>\n",
       "      <td>None</td>\n",
       "      <td>0.0</td>\n",
       "      <td>TA</td>\n",
       "      <td>Gd</td>\n",
       "      <td>PConc</td>\n",
       "      <td>TA</td>\n",
       "      <td>TA</td>\n",
       "      <td>No</td>\n",
       "      <td>NaN</td>\n",
       "      <td>0.0</td>\n",
       "      <td>NaN</td>\n",
       "      <td>0.0</td>\n",
       "      <td>768.0</td>\n",
       "      <td>768.0</td>\n",
       "      <td>GasA</td>\n",
       "      <td>Ex</td>\n",
       "      <td>Y</td>\n",
       "      <td>SBrkr</td>\n",
       "      <td>752</td>\n",
       "      <td>624</td>\n",
       "      <td>0</td>\n",
       "      <td>1376</td>\n",
       "      <td>3</td>\n",
       "      <td>1</td>\n",
       "      <td>Gd</td>\n",
       "      <td>7</td>\n",
       "      <td>Typ</td>\n",
       "      <td>0</td>\n",
       "      <td>No FirePlace</td>\n",
       "      <td>576.0</td>\n",
       "      <td>P</td>\n",
       "      <td>0</td>\n",
       "      <td>54</td>\n",
       "      <td>144</td>\n",
       "      <td>0</td>\n",
       "      <td>0</td>\n",
       "      <td>No Fence</td>\n",
       "      <td>No MiscFeatures</td>\n",
       "      <td>0</td>\n",
       "      <td>2</td>\n",
       "      <td>2007</td>\n",
       "      <td>WD</td>\n",
       "      <td>Normal</td>\n",
       "      <td>NaN</td>\n",
       "      <td>2144.0</td>\n",
       "      <td>1.0</td>\n",
       "      <td>90</td>\n",
       "      <td>60</td>\n",
       "      <td>1</td>\n",
       "      <td>0</td>\n",
       "      <td>124834.051724</td>\n",
       "      <td>124300.0</td>\n",
       "    </tr>\n",
       "    <tr>\n",
       "      <th>228</th>\n",
       "      <td>2534</td>\n",
       "      <td>20</td>\n",
       "      <td>RL</td>\n",
       "      <td>73.0</td>\n",
       "      <td>11927</td>\n",
       "      <td>Pave</td>\n",
       "      <td>No Alley Access</td>\n",
       "      <td>Reg</td>\n",
       "      <td>Lvl</td>\n",
       "      <td>AllPub</td>\n",
       "      <td>Inside</td>\n",
       "      <td>Gtl</td>\n",
       "      <td>Norm</td>\n",
       "      <td>Norm</td>\n",
       "      <td>1Fam</td>\n",
       "      <td>1Story</td>\n",
       "      <td>8</td>\n",
       "      <td>5</td>\n",
       "      <td>Hip</td>\n",
       "      <td>CompShg</td>\n",
       "      <td>HdBoard</td>\n",
       "      <td>HdBoard</td>\n",
       "      <td>BrkFace</td>\n",
       "      <td>519.0</td>\n",
       "      <td>Gd</td>\n",
       "      <td>TA</td>\n",
       "      <td>PConc</td>\n",
       "      <td>Gd</td>\n",
       "      <td>TA</td>\n",
       "      <td>Gd</td>\n",
       "      <td>NaN</td>\n",
       "      <td>408.0</td>\n",
       "      <td>NaN</td>\n",
       "      <td>465.0</td>\n",
       "      <td>683.0</td>\n",
       "      <td>1556.0</td>\n",
       "      <td>GasA</td>\n",
       "      <td>Ex</td>\n",
       "      <td>Y</td>\n",
       "      <td>SBrkr</td>\n",
       "      <td>1592</td>\n",
       "      <td>0</td>\n",
       "      <td>0</td>\n",
       "      <td>1592</td>\n",
       "      <td>3</td>\n",
       "      <td>1</td>\n",
       "      <td>Gd</td>\n",
       "      <td>7</td>\n",
       "      <td>Typ</td>\n",
       "      <td>1</td>\n",
       "      <td>TA</td>\n",
       "      <td>484.0</td>\n",
       "      <td>Y</td>\n",
       "      <td>120</td>\n",
       "      <td>35</td>\n",
       "      <td>0</td>\n",
       "      <td>0</td>\n",
       "      <td>0</td>\n",
       "      <td>No Fence</td>\n",
       "      <td>No MiscFeatures</td>\n",
       "      <td>0</td>\n",
       "      <td>6</td>\n",
       "      <td>2007</td>\n",
       "      <td>WD</td>\n",
       "      <td>Normal</td>\n",
       "      <td>NaN</td>\n",
       "      <td>3148.0</td>\n",
       "      <td>2.0</td>\n",
       "      <td>16</td>\n",
       "      <td>15</td>\n",
       "      <td>1</td>\n",
       "      <td>0</td>\n",
       "      <td>197703.798658</td>\n",
       "      <td>196500.0</td>\n",
       "    </tr>\n",
       "    <tr>\n",
       "      <th>997</th>\n",
       "      <td>1538</td>\n",
       "      <td>70</td>\n",
       "      <td>RM</td>\n",
       "      <td>60.0</td>\n",
       "      <td>9600</td>\n",
       "      <td>Pave</td>\n",
       "      <td>Grvl</td>\n",
       "      <td>Reg</td>\n",
       "      <td>Lvl</td>\n",
       "      <td>AllPub</td>\n",
       "      <td>Corner</td>\n",
       "      <td>Gtl</td>\n",
       "      <td>Norm</td>\n",
       "      <td>Norm</td>\n",
       "      <td>1Fam</td>\n",
       "      <td>2Story</td>\n",
       "      <td>8</td>\n",
       "      <td>9</td>\n",
       "      <td>Gable</td>\n",
       "      <td>CompShg</td>\n",
       "      <td>Wd Sdng</td>\n",
       "      <td>Wd Sdng</td>\n",
       "      <td>None</td>\n",
       "      <td>0.0</td>\n",
       "      <td>Gd</td>\n",
       "      <td>Gd</td>\n",
       "      <td>BrkTil</td>\n",
       "      <td>TA</td>\n",
       "      <td>TA</td>\n",
       "      <td>No</td>\n",
       "      <td>NaN</td>\n",
       "      <td>0.0</td>\n",
       "      <td>NaN</td>\n",
       "      <td>0.0</td>\n",
       "      <td>930.0</td>\n",
       "      <td>930.0</td>\n",
       "      <td>GasW</td>\n",
       "      <td>TA</td>\n",
       "      <td>N</td>\n",
       "      <td>SBrkr</td>\n",
       "      <td>930</td>\n",
       "      <td>636</td>\n",
       "      <td>0</td>\n",
       "      <td>1566</td>\n",
       "      <td>3</td>\n",
       "      <td>1</td>\n",
       "      <td>Gd</td>\n",
       "      <td>7</td>\n",
       "      <td>Typ</td>\n",
       "      <td>0</td>\n",
       "      <td>No FirePlace</td>\n",
       "      <td>288.0</td>\n",
       "      <td>Y</td>\n",
       "      <td>54</td>\n",
       "      <td>228</td>\n",
       "      <td>246</td>\n",
       "      <td>0</td>\n",
       "      <td>0</td>\n",
       "      <td>No Fence</td>\n",
       "      <td>No MiscFeatures</td>\n",
       "      <td>0</td>\n",
       "      <td>4</td>\n",
       "      <td>2010</td>\n",
       "      <td>WD</td>\n",
       "      <td>Abnorml</td>\n",
       "      <td>NaN</td>\n",
       "      <td>2496.0</td>\n",
       "      <td>2.0</td>\n",
       "      <td>110</td>\n",
       "      <td>7</td>\n",
       "      <td>1</td>\n",
       "      <td>0</td>\n",
       "      <td>128225.300885</td>\n",
       "      <td>119000.0</td>\n",
       "    </tr>\n",
       "  </tbody>\n",
       "</table>\n",
       "</div>"
      ],
      "text/plain": [
       "        Id  MSSubClass MSZoning  LotFrontage  LotArea Street            Alley  \\\n",
       "1566   157          20       RL         60.0     7200   Pave  No Alley Access   \n",
       "2810  1472         160       RM         21.0     1680   Pave  No Alley Access   \n",
       "1217  2465          50       RL         60.0     8850   Pave             Pave   \n",
       "228   2534          20       RL         73.0    11927   Pave  No Alley Access   \n",
       "997   1538          70       RM         60.0     9600   Pave             Grvl   \n",
       "\n",
       "     LotShape LandContour Utilities LotConfig LandSlope Condition1 Condition2  \\\n",
       "1566      Reg         Lvl    AllPub    Inside       Gtl       Norm       Norm   \n",
       "2810      Reg         Lvl    AllPub    Inside       Gtl       Norm       Norm   \n",
       "1217      Reg         Bnk    AllPub    Inside       Gtl       Norm       Norm   \n",
       "228       Reg         Lvl    AllPub    Inside       Gtl       Norm       Norm   \n",
       "997       Reg         Lvl    AllPub    Corner       Gtl       Norm       Norm   \n",
       "\n",
       "     BldgType HouseStyle  OverallQual  OverallCond RoofStyle RoofMatl  \\\n",
       "1566     1Fam     1Story            5            7       Hip  CompShg   \n",
       "2810    Twnhs     2Story            6            5     Gable  CompShg   \n",
       "1217     1Fam     1.5Fin            6            7     Gable  CompShg   \n",
       "228      1Fam     1Story            8            5       Hip  CompShg   \n",
       "997      1Fam     2Story            8            9     Gable  CompShg   \n",
       "\n",
       "     Exterior1st Exterior2nd MasVnrType  MasVnrArea ExterQual ExterCond  \\\n",
       "1566     Wd Sdng     Wd Sdng       None         0.0        TA        TA   \n",
       "2810     HdBoard     HdBoard    BrkFace       504.0        TA        TA   \n",
       "1217     Wd Sdng     Wd Shng       None         0.0        TA        Gd   \n",
       "228      HdBoard     HdBoard    BrkFace       519.0        Gd        TA   \n",
       "997      Wd Sdng     Wd Sdng       None         0.0        Gd        Gd   \n",
       "\n",
       "     Foundation     BsmtQual     BsmtCond BsmtExposure  BsmtFinType1  \\\n",
       "1566     CBlock  No Basement  No Basement  No Basement           NaN   \n",
       "2810     CBlock           TA           TA           No           NaN   \n",
       "1217      PConc           TA           TA           No           NaN   \n",
       "228       PConc           Gd           TA           Gd           NaN   \n",
       "997      BrkTil           TA           TA           No           NaN   \n",
       "\n",
       "      BsmtFinSF1  BsmtFinType2  BsmtFinSF2  BsmtUnfSF  TotalBsmtSF Heating  \\\n",
       "1566         0.0           NaN         0.0        0.0          0.0    GasA   \n",
       "2810       156.0           NaN         0.0      327.0        483.0    GasA   \n",
       "1217         0.0           NaN         0.0      768.0        768.0    GasA   \n",
       "228        408.0           NaN       465.0      683.0       1556.0    GasA   \n",
       "997          0.0           NaN         0.0      930.0        930.0    GasW   \n",
       "\n",
       "     HeatingQC CentralAir Electrical  1stFlrSF  2ndFlrSF  LowQualFinSF  \\\n",
       "1566        TA          Y      FuseF      1040         0             0   \n",
       "2810        TA          Y      SBrkr       483       504             0   \n",
       "1217        Ex          Y      SBrkr       752       624             0   \n",
       "228         Ex          Y      SBrkr      1592         0             0   \n",
       "997         TA          N      SBrkr       930       636             0   \n",
       "\n",
       "      GrLivArea  BedroomAbvGr  KitchenAbvGr KitchenQual  TotRmsAbvGrd  \\\n",
       "1566       1040             2             1          TA             5   \n",
       "2810        987             2             1          TA             5   \n",
       "1217       1376             3             1          Gd             7   \n",
       "228        1592             3             1          Gd             7   \n",
       "997        1566             3             1          Gd             7   \n",
       "\n",
       "     Functional  Fireplaces   FireplaceQu  GarageArea PavedDrive  WoodDeckSF  \\\n",
       "1566        Typ           0  No FirePlace       625.0          Y           0   \n",
       "2810        Typ           0  No FirePlace       264.0          Y         275   \n",
       "1217        Typ           0  No FirePlace       576.0          P           0   \n",
       "228         Typ           1            TA       484.0          Y         120   \n",
       "997         Typ           0  No FirePlace       288.0          Y          54   \n",
       "\n",
       "      OpenPorchSF  EnclosedPorch  3SsnPorch  ScreenPorch     Fence  \\\n",
       "1566            0              0          0            0  No Fence   \n",
       "2810            0              0          0            0  No Fence   \n",
       "1217           54            144          0            0  No Fence   \n",
       "228            35              0          0            0  No Fence   \n",
       "997           228            246          0            0  No Fence   \n",
       "\n",
       "          MiscFeature  MiscVal  MoSold  YrSold SaleType SaleCondition  \\\n",
       "1566  No MiscFeatures        0       6    2006       WD        Normal   \n",
       "2810  No MiscFeatures        0       2    2010      COD        Normal   \n",
       "1217  No MiscFeatures        0       2    2007       WD        Normal   \n",
       "228   No MiscFeatures        0       6    2007       WD        Normal   \n",
       "997   No MiscFeatures        0       4    2010       WD       Abnorml   \n",
       "\n",
       "      SalePrice  Total_Area  Total_Bathrooms  Age_of_Property  \\\n",
       "1566   109500.0      1040.0              1.0               60   \n",
       "2810        NaN      1470.0              1.5               39   \n",
       "1217        NaN      2144.0              1.0               90   \n",
       "228         NaN      3148.0              2.0               16   \n",
       "997         NaN      2496.0              2.0              110   \n",
       "\n",
       "      Age_of_Renovation  HasGarage  HasPool  AvgHousePrice  MedianHousePrice  \n",
       "1566                 60          1        0  145847.080000          140000.0  \n",
       "2810                 39          1        0  104493.750000          106000.0  \n",
       "1217                 60          1        0  124834.051724          124300.0  \n",
       "228                  15          1        0  197703.798658          196500.0  \n",
       "997                   7          1        0  128225.300885          119000.0  "
      ]
     },
     "execution_count": 135,
     "metadata": {},
     "output_type": "execute_result"
    }
   ],
   "source": [
    "df_merge.sample(5)"
   ]
  },
  {
   "cell_type": "code",
   "execution_count": null,
   "id": "bec70857-8512-4675-8fdc-a6c659be049f",
   "metadata": {},
   "outputs": [],
   "source": []
  },
  {
   "cell_type": "markdown",
   "id": "cb57905e-5478-4a07-9d07-aa156f83bc85",
   "metadata": {
    "execution": {
     "iopub.execute_input": "2023-10-08T23:06:10.771223Z",
     "iopub.status.busy": "2023-10-08T23:06:10.771223Z",
     "iopub.status.idle": "2023-10-08T23:06:10.778503Z",
     "shell.execute_reply": "2023-10-08T23:06:10.777499Z",
     "shell.execute_reply.started": "2023-10-08T23:06:10.771223Z"
    }
   },
   "source": [
    "### High and Low Cardinality"
   ]
  },
  {
   "cell_type": "markdown",
   "id": "d4a4dd9a-773d-41fa-a0a8-9f2cd509b730",
   "metadata": {},
   "source": [
    "**High Cardinality:** High cardinality features (features with a large number of unique values) can sometimes introduce noise into the model. Dropping or encoding them appropriately can be a good strategy."
   ]
  },
  {
   "cell_type": "markdown",
   "id": "e8250dfa-4d43-4f6e-93ed-2d9c438db203",
   "metadata": {},
   "source": [
    "**Low Cardinality:** Low cardinality features with little variation may not contribute much information. We can Consider dropping or consolidating them."
   ]
  },
  {
   "cell_type": "code",
   "execution_count": 111,
   "id": "901580ea-7aaf-49f0-9451-db4355a3227e",
   "metadata": {
    "execution": {
     "iopub.execute_input": "2023-10-09T14:21:27.704217Z",
     "iopub.status.busy": "2023-10-09T14:21:27.701492Z",
     "iopub.status.idle": "2023-10-09T14:21:27.734509Z",
     "shell.execute_reply": "2023-10-09T14:21:27.734509Z",
     "shell.execute_reply.started": "2023-10-09T14:21:27.701492Z"
    },
    "scrolled": true
   },
   "outputs": [
    {
     "data": {
      "text/plain": [
       "Id                   2882\n",
       "LotArea              1925\n",
       "Total_Area           1484\n",
       "GrLivArea            1282\n",
       "BsmtUnfSF            1130\n",
       "1stFlrSF             1074\n",
       "TotalBsmtSF          1052\n",
       "BsmtFinSF1            986\n",
       "SalePrice             657\n",
       "2ndFlrSF              630\n",
       "GarageArea            601\n",
       "MasVnrArea            444\n",
       "WoodDeckSF            377\n",
       "BsmtFinSF2            270\n",
       "OpenPorchSF           250\n",
       "EnclosedPorch         182\n",
       "LotFrontage           128\n",
       "ScreenPorch           120\n",
       "Age_of_Property       118\n",
       "Age_of_Renovation      61\n",
       "MiscVal                37\n",
       "LowQualFinSF           35\n",
       "3SsnPorch              31\n",
       "AvgHousePrice          25\n",
       "MedianHousePrice       25\n",
       "Exterior2nd            16\n",
       "MSSubClass             16\n",
       "Exterior1st            15\n",
       "TotRmsAbvGrd           14\n",
       "MoSold                 12\n",
       "Total_Bathrooms        11\n",
       "OverallQual            10\n",
       "Condition1              9\n",
       "SaleType                9\n",
       "OverallCond             9\n",
       "Condition2              8\n",
       "HouseStyle              8\n",
       "BedroomAbvGr            8\n",
       "RoofMatl                8\n",
       "Functional              7\n",
       "BsmtFinType2            7\n",
       "BsmtFinType1            7\n",
       "FireplaceQu             6\n",
       "RoofStyle               6\n",
       "SaleCondition           6\n",
       "Foundation              6\n",
       "Heating                 6\n",
       "ExterCond               5\n",
       "LotConfig               5\n",
       "Fence                   5\n",
       "YrSold                  5\n",
       "MSZoning                5\n",
       "MiscFeature             5\n",
       "Fireplaces              5\n",
       "BldgType                5\n",
       "Electrical              5\n",
       "BsmtQual                5\n",
       "BsmtCond                5\n",
       "BsmtExposure            5\n",
       "HeatingQC               5\n",
       "KitchenAbvGr            4\n",
       "MasVnrType              4\n",
       "ExterQual               4\n",
       "LandContour             4\n",
       "LotShape                4\n",
       "KitchenQual             4\n",
       "PavedDrive              3\n",
       "Alley                   3\n",
       "LandSlope               3\n",
       "Utilities               2\n",
       "CentralAir              2\n",
       "Street                  2\n",
       "HasGarage               2\n",
       "HasPool                 2\n",
       "dtype: int64"
      ]
     },
     "execution_count": 111,
     "metadata": {},
     "output_type": "execute_result"
    }
   ],
   "source": [
    "pd.set_option('display.max_rows', None)\n",
    "df_merge.nunique().sort_values(ascending=False)"
   ]
  },
  {
   "cell_type": "markdown",
   "id": "1dd38cf0-4082-4df0-b3db-c33561e51218",
   "metadata": {},
   "source": [
    "**Firstly**, we need to drop ID column, because it has unique values and results in high cardinality  "
   ]
  },
  {
   "cell_type": "code",
   "execution_count": null,
   "id": "1812fe7d-1da8-4978-bfff-5fa34f8b5f51",
   "metadata": {},
   "outputs": [],
   "source": []
  },
  {
   "cell_type": "code",
   "execution_count": null,
   "id": "ec8a5b8f-8b89-4266-94cd-ae69caa8f48c",
   "metadata": {},
   "outputs": [],
   "source": []
  },
  {
   "cell_type": "code",
   "execution_count": null,
   "id": "6639736f-57fc-4ca0-aeb0-e6b19685275d",
   "metadata": {},
   "outputs": [],
   "source": []
  },
  {
   "cell_type": "code",
   "execution_count": null,
   "id": "215b8ea5-e388-4741-bd85-9b853602df95",
   "metadata": {},
   "outputs": [],
   "source": []
  },
  {
   "cell_type": "markdown",
   "id": "722134e8-8a20-4744-83c4-585e296842aa",
   "metadata": {},
   "source": [
    "### Multicollinearity"
   ]
  },
  {
   "cell_type": "markdown",
   "id": "9c21c2a0-caba-4a9c-9e49-8a4c3c49979e",
   "metadata": {},
   "source": [
    "**Identifying Correlated Features:** Identifying and addressing multicollinearity is crucial for regression models. Dropping one of a set of highly correlated features is a good strategy. It helps to keep the model more interpretable and efficient.  \n",
    "**\n",
    "VIF (Variance Inflation Factor)**: If you want a more quantitative approach to assess multicollinearity, you can use VIF. A high VIF score indicates a high correlation between a feature and other features in the dataset."
   ]
  },
  {
   "cell_type": "code",
   "execution_count": null,
   "id": "9fd8668b-11b3-41d1-828d-922ea8f695dd",
   "metadata": {},
   "outputs": [],
   "source": []
  },
  {
   "cell_type": "code",
   "execution_count": null,
   "id": "97c60a33-af50-4d46-b268-87cd4d6374ff",
   "metadata": {},
   "outputs": [],
   "source": []
  },
  {
   "cell_type": "code",
   "execution_count": null,
   "id": "4f75efb8-7d77-49e8-8ad8-c1ba84d1e735",
   "metadata": {},
   "outputs": [],
   "source": []
  },
  {
   "cell_type": "code",
   "execution_count": null,
   "id": "e24deaee-c479-44f8-a727-ba7822ac55d8",
   "metadata": {},
   "outputs": [],
   "source": []
  },
  {
   "cell_type": "markdown",
   "id": "aa263988-d3c6-4c62-a54b-d70cd226e39d",
   "metadata": {
    "execution": {
     "iopub.execute_input": "2023-10-01T09:34:04.733640Z",
     "iopub.status.busy": "2023-10-01T09:34:04.733640Z",
     "iopub.status.idle": "2023-10-01T09:34:04.743712Z",
     "shell.execute_reply": "2023-10-01T09:34:04.742704Z",
     "shell.execute_reply.started": "2023-10-01T09:34:04.733640Z"
    }
   },
   "source": [
    "### Visualize Distributions and Correlations"
   ]
  },
  {
   "cell_type": "code",
   "execution_count": null,
   "id": "8188c8a5-d141-4755-a6fd-b06b7fd8cc8b",
   "metadata": {},
   "outputs": [],
   "source": []
  },
  {
   "cell_type": "code",
   "execution_count": null,
   "id": "754d5a33-b3df-48bb-aec1-c0865faea610",
   "metadata": {},
   "outputs": [],
   "source": []
  },
  {
   "cell_type": "code",
   "execution_count": null,
   "id": "af8a6455-f406-4d8a-bf8c-7a73688705b5",
   "metadata": {},
   "outputs": [],
   "source": []
  },
  {
   "cell_type": "code",
   "execution_count": null,
   "id": "297243aa-2dc0-4f06-bb6f-c1bcec9523d3",
   "metadata": {},
   "outputs": [],
   "source": []
  },
  {
   "cell_type": "code",
   "execution_count": null,
   "id": "d45c261c-052a-41f8-bd96-40ba03d5f13e",
   "metadata": {},
   "outputs": [],
   "source": []
  },
  {
   "cell_type": "code",
   "execution_count": null,
   "id": "ece3b156-d974-4c80-8047-38a859ce02dd",
   "metadata": {},
   "outputs": [],
   "source": []
  },
  {
   "cell_type": "markdown",
   "id": "ed07848b-31f2-4b60-8fa0-112a7d36644a",
   "metadata": {},
   "source": [
    "### Encode categorical variables"
   ]
  },
  {
   "cell_type": "code",
   "execution_count": null,
   "id": "7e7e3f3a-11fd-4d01-84c6-143eed55fc09",
   "metadata": {},
   "outputs": [],
   "source": []
  },
  {
   "cell_type": "code",
   "execution_count": null,
   "id": "38c8d2ce-d470-4c74-adf3-ab6c7b7face2",
   "metadata": {},
   "outputs": [],
   "source": []
  },
  {
   "cell_type": "code",
   "execution_count": null,
   "id": "86276146-f6da-4800-909b-e7a05b12b360",
   "metadata": {},
   "outputs": [],
   "source": []
  },
  {
   "cell_type": "markdown",
   "id": "5ea364b6-2c9a-445a-85b6-f4899245528f",
   "metadata": {},
   "source": [
    "### Scale or normalize numerical features if needed."
   ]
  },
  {
   "cell_type": "code",
   "execution_count": null,
   "id": "f08be2fc-b6f7-4796-a7fa-a033723f68c7",
   "metadata": {},
   "outputs": [],
   "source": []
  },
  {
   "cell_type": "code",
   "execution_count": null,
   "id": "3a0d368c-c27b-47c3-986a-1d4cdf39138e",
   "metadata": {},
   "outputs": [],
   "source": []
  },
  {
   "cell_type": "code",
   "execution_count": null,
   "id": "c1ce14db-935e-42a5-9493-9ee363510760",
   "metadata": {},
   "outputs": [],
   "source": []
  },
  {
   "cell_type": "markdown",
   "id": "ff8819ad-f39b-4923-a581-d138c05cb953",
   "metadata": {},
   "source": [
    "# 3. Data Splitting"
   ]
  },
  {
   "cell_type": "markdown",
   "id": "4b5b59c5-6349-4b45-b23d-2aa736c2728a",
   "metadata": {},
   "source": [
    "# 4. Model Selection and Training"
   ]
  },
  {
   "cell_type": "markdown",
   "id": "31e4ac76-a989-4883-a047-7f2e97fa62ca",
   "metadata": {},
   "source": [
    "# 6. Model Evaluation"
   ]
  },
  {
   "cell_type": "markdown",
   "id": "89e0e95a-0f64-4ca7-b47f-23484d86042a",
   "metadata": {},
   "source": [
    "# 7. Hyperparameter Tuning (Optional)"
   ]
  },
  {
   "cell_type": "markdown",
   "id": "e8c7bce0-32b4-43cf-a61d-2caa88e834e5",
   "metadata": {},
   "source": [
    "# 8. Final Model Training and Predictions"
   ]
  },
  {
   "cell_type": "markdown",
   "id": "fa47587f-6b8e-4e7b-adf9-8e51e8a7f0b6",
   "metadata": {},
   "source": [
    "# 9. Conclusion"
   ]
  }
 ],
 "metadata": {
  "kernelspec": {
   "display_name": "Python 3 (ipykernel)",
   "language": "python",
   "name": "python3"
  },
  "language_info": {
   "codemirror_mode": {
    "name": "ipython",
    "version": 3
   },
   "file_extension": ".py",
   "mimetype": "text/x-python",
   "name": "python",
   "nbconvert_exporter": "python",
   "pygments_lexer": "ipython3",
   "version": "3.10.8"
  }
 },
 "nbformat": 4,
 "nbformat_minor": 5
}
