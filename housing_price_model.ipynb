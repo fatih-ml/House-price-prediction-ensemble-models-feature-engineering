{
 "cells": [
  {
   "cell_type": "markdown",
   "id": "b8c91ec7-d815-45e6-a2eb-23d739f4075c",
   "metadata": {},
   "source": [
    "# House Prices - Advanced Regression Techniques\n",
    "## Predict sales prices and practice feature engineering, RFs, and gradient boosting"
   ]
  },
  {
   "cell_type": "markdown",
   "id": "54e9d148-8f82-4623-9b18-b0b08f73bf3d",
   "metadata": {},
   "source": [
    "# 1. Introduction"
   ]
  },
  {
   "cell_type": "markdown",
   "id": "ddc6f291-ffb9-4499-b7c4-dbebf8bcebb1",
   "metadata": {},
   "source": [
    "\r\n",
    "\r\n",
    "Welcome to my Jupyter notebook for the Kaggle competition \"House Prices - Advanced Regression Techniques\". In this competition, the goal is to predict the sale prices of homes based on a variety of features. This project provides an opportunity to practice advanced regression techniques, feature engineering, and model evaluation.\n",
    "\r\n",
    "### Objective\r\n",
    "\r\n",
    "The objective of this competition is to develop a regression model that accurately predicts the sale prices of houses. To achieve this, we'll perform exploratory data analysis, preprocess the dataset, engineer relevant features, train various regression models, and evaluate their performace.\r\n",
    "\r\n",
    "### Dataset Overview\r\n",
    "\r\n",
    "The dataset provided for this competition contains information about various attributes of residential homes. It includes features such as square footage, number of bedrooms, location, and more. Additionally, the dataset contains the target variable, which is the sale price of eac house.\r\n",
    "\r\n",
    "### Tools and Libraries Used\r\n",
    "\r\n",
    "- Python\r\n",
    "- Pandas for data manipulation\r\n",
    "- Matplotlib and Seaborn for data visualization\r\n",
    "- Scikit-learn for model building and evaluation\r\n",
    "\r\n",
    "Now, let's start by loading and exploring the dataset to gain a better understanding of the features and their relationships with the target variable.\r\n"
   ]
  },
  {
   "cell_type": "markdown",
   "id": "b2b75b77-5d59-43ce-817f-c4c8942dcf19",
   "metadata": {},
   "source": [
    "# 2. Data Exploration and Preprocessing"
   ]
  },
  {
   "cell_type": "markdown",
   "id": "e30c5df2-2339-4e28-bfcc-06231623ec7f",
   "metadata": {},
   "source": [
    "## Loading the dataset"
   ]
  },
  {
   "cell_type": "code",
   "execution_count": 49,
   "id": "8d74c253-b3be-4986-828a-ba816550e9b0",
   "metadata": {
    "execution": {
     "iopub.execute_input": "2023-10-01T12:34:03.927060Z",
     "iopub.status.busy": "2023-10-01T12:34:03.927060Z",
     "iopub.status.idle": "2023-10-01T12:34:03.942559Z",
     "shell.execute_reply": "2023-10-01T12:34:03.941551Z",
     "shell.execute_reply.started": "2023-10-01T12:34:03.927060Z"
    }
   },
   "outputs": [],
   "source": [
    "import pandas as pd\n",
    "import numpy as np\n",
    "import matplotlib.pyplot as plt\n",
    "import seaborn as sns\n",
    "import warnings\n",
    "warnings.filterwarnings('ignore')"
   ]
  },
  {
   "cell_type": "code",
   "execution_count": 24,
   "id": "7ae0f8e7-1aab-494c-8817-852c69ee7057",
   "metadata": {
    "execution": {
     "iopub.execute_input": "2023-10-01T12:21:15.655575Z",
     "iopub.status.busy": "2023-10-01T12:21:15.655575Z",
     "iopub.status.idle": "2023-10-01T12:21:15.680263Z",
     "shell.execute_reply": "2023-10-01T12:21:15.680263Z",
     "shell.execute_reply.started": "2023-10-01T12:21:15.655575Z"
    }
   },
   "outputs": [],
   "source": [
    "df = pd.read_csv('data_downloaded/train.csv')"
   ]
  },
  {
   "cell_type": "markdown",
   "id": "5e91a443-ef7a-4ffc-acf9-d8460c72abc9",
   "metadata": {},
   "source": [
    "## Exploring the dataset"
   ]
  },
  {
   "cell_type": "code",
   "execution_count": 25,
   "id": "efe11d10-2cf8-4ed2-9eca-79f49e0affdb",
   "metadata": {
    "execution": {
     "iopub.execute_input": "2023-10-01T12:21:15.681342Z",
     "iopub.status.busy": "2023-10-01T12:21:15.681342Z",
     "iopub.status.idle": "2023-10-01T12:21:15.705189Z",
     "shell.execute_reply": "2023-10-01T12:21:15.704179Z",
     "shell.execute_reply.started": "2023-10-01T12:21:15.681342Z"
    },
    "scrolled": true
   },
   "outputs": [
    {
     "data": {
      "text/html": [
       "<div>\n",
       "<style scoped>\n",
       "    .dataframe tbody tr th:only-of-type {\n",
       "        vertical-align: middle;\n",
       "    }\n",
       "\n",
       "    .dataframe tbody tr th {\n",
       "        vertical-align: top;\n",
       "    }\n",
       "\n",
       "    .dataframe thead th {\n",
       "        text-align: right;\n",
       "    }\n",
       "</style>\n",
       "<table border=\"1\" class=\"dataframe\">\n",
       "  <thead>\n",
       "    <tr style=\"text-align: right;\">\n",
       "      <th></th>\n",
       "      <th>Id</th>\n",
       "      <th>MSSubClass</th>\n",
       "      <th>MSZoning</th>\n",
       "      <th>LotFrontage</th>\n",
       "      <th>LotArea</th>\n",
       "      <th>Street</th>\n",
       "      <th>Alley</th>\n",
       "      <th>LotShape</th>\n",
       "      <th>LandContour</th>\n",
       "      <th>Utilities</th>\n",
       "      <th>...</th>\n",
       "      <th>PoolArea</th>\n",
       "      <th>PoolQC</th>\n",
       "      <th>Fence</th>\n",
       "      <th>MiscFeature</th>\n",
       "      <th>MiscVal</th>\n",
       "      <th>MoSold</th>\n",
       "      <th>YrSold</th>\n",
       "      <th>SaleType</th>\n",
       "      <th>SaleCondition</th>\n",
       "      <th>SalePrice</th>\n",
       "    </tr>\n",
       "  </thead>\n",
       "  <tbody>\n",
       "    <tr>\n",
       "      <th>0</th>\n",
       "      <td>1</td>\n",
       "      <td>60</td>\n",
       "      <td>RL</td>\n",
       "      <td>65.0</td>\n",
       "      <td>8450</td>\n",
       "      <td>Pave</td>\n",
       "      <td>NaN</td>\n",
       "      <td>Reg</td>\n",
       "      <td>Lvl</td>\n",
       "      <td>AllPub</td>\n",
       "      <td>...</td>\n",
       "      <td>0</td>\n",
       "      <td>NaN</td>\n",
       "      <td>NaN</td>\n",
       "      <td>NaN</td>\n",
       "      <td>0</td>\n",
       "      <td>2</td>\n",
       "      <td>2008</td>\n",
       "      <td>WD</td>\n",
       "      <td>Normal</td>\n",
       "      <td>208500</td>\n",
       "    </tr>\n",
       "    <tr>\n",
       "      <th>1</th>\n",
       "      <td>2</td>\n",
       "      <td>20</td>\n",
       "      <td>RL</td>\n",
       "      <td>80.0</td>\n",
       "      <td>9600</td>\n",
       "      <td>Pave</td>\n",
       "      <td>NaN</td>\n",
       "      <td>Reg</td>\n",
       "      <td>Lvl</td>\n",
       "      <td>AllPub</td>\n",
       "      <td>...</td>\n",
       "      <td>0</td>\n",
       "      <td>NaN</td>\n",
       "      <td>NaN</td>\n",
       "      <td>NaN</td>\n",
       "      <td>0</td>\n",
       "      <td>5</td>\n",
       "      <td>2007</td>\n",
       "      <td>WD</td>\n",
       "      <td>Normal</td>\n",
       "      <td>181500</td>\n",
       "    </tr>\n",
       "    <tr>\n",
       "      <th>2</th>\n",
       "      <td>3</td>\n",
       "      <td>60</td>\n",
       "      <td>RL</td>\n",
       "      <td>68.0</td>\n",
       "      <td>11250</td>\n",
       "      <td>Pave</td>\n",
       "      <td>NaN</td>\n",
       "      <td>IR1</td>\n",
       "      <td>Lvl</td>\n",
       "      <td>AllPub</td>\n",
       "      <td>...</td>\n",
       "      <td>0</td>\n",
       "      <td>NaN</td>\n",
       "      <td>NaN</td>\n",
       "      <td>NaN</td>\n",
       "      <td>0</td>\n",
       "      <td>9</td>\n",
       "      <td>2008</td>\n",
       "      <td>WD</td>\n",
       "      <td>Normal</td>\n",
       "      <td>223500</td>\n",
       "    </tr>\n",
       "    <tr>\n",
       "      <th>3</th>\n",
       "      <td>4</td>\n",
       "      <td>70</td>\n",
       "      <td>RL</td>\n",
       "      <td>60.0</td>\n",
       "      <td>9550</td>\n",
       "      <td>Pave</td>\n",
       "      <td>NaN</td>\n",
       "      <td>IR1</td>\n",
       "      <td>Lvl</td>\n",
       "      <td>AllPub</td>\n",
       "      <td>...</td>\n",
       "      <td>0</td>\n",
       "      <td>NaN</td>\n",
       "      <td>NaN</td>\n",
       "      <td>NaN</td>\n",
       "      <td>0</td>\n",
       "      <td>2</td>\n",
       "      <td>2006</td>\n",
       "      <td>WD</td>\n",
       "      <td>Abnorml</td>\n",
       "      <td>140000</td>\n",
       "    </tr>\n",
       "    <tr>\n",
       "      <th>4</th>\n",
       "      <td>5</td>\n",
       "      <td>60</td>\n",
       "      <td>RL</td>\n",
       "      <td>84.0</td>\n",
       "      <td>14260</td>\n",
       "      <td>Pave</td>\n",
       "      <td>NaN</td>\n",
       "      <td>IR1</td>\n",
       "      <td>Lvl</td>\n",
       "      <td>AllPub</td>\n",
       "      <td>...</td>\n",
       "      <td>0</td>\n",
       "      <td>NaN</td>\n",
       "      <td>NaN</td>\n",
       "      <td>NaN</td>\n",
       "      <td>0</td>\n",
       "      <td>12</td>\n",
       "      <td>2008</td>\n",
       "      <td>WD</td>\n",
       "      <td>Normal</td>\n",
       "      <td>250000</td>\n",
       "    </tr>\n",
       "  </tbody>\n",
       "</table>\n",
       "<p>5 rows × 81 columns</p>\n",
       "</div>"
      ],
      "text/plain": [
       "   Id  MSSubClass MSZoning  LotFrontage  LotArea Street Alley LotShape  \\\n",
       "0   1          60       RL         65.0     8450   Pave   NaN      Reg   \n",
       "1   2          20       RL         80.0     9600   Pave   NaN      Reg   \n",
       "2   3          60       RL         68.0    11250   Pave   NaN      IR1   \n",
       "3   4          70       RL         60.0     9550   Pave   NaN      IR1   \n",
       "4   5          60       RL         84.0    14260   Pave   NaN      IR1   \n",
       "\n",
       "  LandContour Utilities  ... PoolArea PoolQC Fence MiscFeature MiscVal MoSold  \\\n",
       "0         Lvl    AllPub  ...        0    NaN   NaN         NaN       0      2   \n",
       "1         Lvl    AllPub  ...        0    NaN   NaN         NaN       0      5   \n",
       "2         Lvl    AllPub  ...        0    NaN   NaN         NaN       0      9   \n",
       "3         Lvl    AllPub  ...        0    NaN   NaN         NaN       0      2   \n",
       "4         Lvl    AllPub  ...        0    NaN   NaN         NaN       0     12   \n",
       "\n",
       "  YrSold  SaleType  SaleCondition  SalePrice  \n",
       "0   2008        WD         Normal     208500  \n",
       "1   2007        WD         Normal     181500  \n",
       "2   2008        WD         Normal     223500  \n",
       "3   2006        WD        Abnorml     140000  \n",
       "4   2008        WD         Normal     250000  \n",
       "\n",
       "[5 rows x 81 columns]"
      ]
     },
     "execution_count": 25,
     "metadata": {},
     "output_type": "execute_result"
    }
   ],
   "source": [
    "df.head()"
   ]
  },
  {
   "cell_type": "markdown",
   "id": "05579e19-4bb9-4e7e-ae1a-e9db73c87a92",
   "metadata": {},
   "source": [
    "### Check for Missing Values"
   ]
  },
  {
   "cell_type": "code",
   "execution_count": 27,
   "id": "6054c4d8-706a-4131-9156-451dfd91f552",
   "metadata": {
    "execution": {
     "iopub.execute_input": "2023-10-01T12:21:15.734268Z",
     "iopub.status.busy": "2023-10-01T12:21:15.734268Z",
     "iopub.status.idle": "2023-10-01T12:21:15.766682Z",
     "shell.execute_reply": "2023-10-01T12:21:15.765679Z",
     "shell.execute_reply.started": "2023-10-01T12:21:15.734268Z"
    }
   },
   "outputs": [
    {
     "data": {
      "text/plain": [
       "PoolQC          1453\n",
       "MiscFeature     1406\n",
       "Alley           1369\n",
       "Fence           1179\n",
       "FireplaceQu      690\n",
       "LotFrontage      259\n",
       "GarageType        81\n",
       "GarageYrBlt       81\n",
       "GarageFinish      81\n",
       "GarageQual        81\n",
       "GarageCond        81\n",
       "BsmtExposure      38\n",
       "BsmtFinType2      38\n",
       "BsmtFinType1      37\n",
       "BsmtCond          37\n",
       "BsmtQual          37\n",
       "MasVnrArea         8\n",
       "MasVnrType         8\n",
       "Electrical         1\n",
       "dtype: int64"
      ]
     },
     "execution_count": 27,
     "metadata": {},
     "output_type": "execute_result"
    }
   ],
   "source": [
    "missing_values = df.isnull().sum()\n",
    "missing_values = missing_values[missing_values > 0].sort_values(ascending=False)\n",
    "missing_values"
   ]
  },
  {
   "cell_type": "code",
   "execution_count": 28,
   "id": "0c0f6c84-3cfb-476d-8d6d-d8ca3809e21e",
   "metadata": {
    "execution": {
     "iopub.execute_input": "2023-10-01T12:21:15.767684Z",
     "iopub.status.busy": "2023-10-01T12:21:15.767684Z",
     "iopub.status.idle": "2023-10-01T12:21:15.786379Z",
     "shell.execute_reply": "2023-10-01T12:21:15.785032Z",
     "shell.execute_reply.started": "2023-10-01T12:21:15.767684Z"
    }
   },
   "outputs": [
    {
     "data": {
      "text/plain": [
       "19"
      ]
     },
     "execution_count": 28,
     "metadata": {},
     "output_type": "execute_result"
    }
   ],
   "source": [
    "len(missing_values)"
   ]
  },
  {
   "cell_type": "code",
   "execution_count": 29,
   "id": "afcf1224-8e0c-40f3-8810-9cdfb0b8facf",
   "metadata": {
    "execution": {
     "iopub.execute_input": "2023-10-01T12:21:15.786379Z",
     "iopub.status.busy": "2023-10-01T12:21:15.786379Z",
     "iopub.status.idle": "2023-10-01T12:21:16.004669Z",
     "shell.execute_reply": "2023-10-01T12:21:16.004669Z",
     "shell.execute_reply.started": "2023-10-01T12:21:15.786379Z"
    }
   },
   "outputs": [
    {
     "data": {
      "image/png": "[encoded data removed]",
      "text/plain": [
       "<Figure size 800x500 with 1 Axes>"
      ]
     },
     "metadata": {},
     "output_type": "display_data"
    }
   ],
   "source": [
    "plt.figure(figsize=(8,5)) \n",
    "ax = sns.barplot(x=missing_values.index, y=missing_values.values)\n",
    "\n",
    "plt.xticks(rotation=90)\n",
    "plt.xlabel('Features with Nan values')\n",
    "plt.ylabel('Nan Value Count')\n",
    "plt.title('Nan Value Counts by Features')\n",
    "\n",
    "for p in ax.patches:\n",
    "    ax.annotate(f'{p.get_height():.0f}', (p.get_x() + p.get_width() / 2., p.get_height()), ha='center', va='bottom')\n",
    "\n",
    "plt.show()"
   ]
  },
  {
   "cell_type": "markdown",
   "id": "812bc817-b542-4aaa-8fad-6821dcd030d4",
   "metadata": {},
   "source": [
    "**Firstly**, we need to drop ID column, because it has unique values and results in high cardinality  \n",
    "**Secondly**, we are checking any low cardinality issues, for example if there was only one value in a feature, it wouldnt effect the model  \n",
    "\n",
    "We may need to check cardinality and collinearity issues later, but drop the obvious ones instantly"
   ]
  },
  {
   "cell_type": "code",
   "execution_count": 30,
   "id": "3875e27f-f655-4586-9e56-ca454de54982",
   "metadata": {
    "execution": {
     "iopub.execute_input": "2023-10-01T12:21:16.006987Z",
     "iopub.status.busy": "2023-10-01T12:21:16.005914Z",
     "iopub.status.idle": "2023-10-01T12:21:16.035201Z",
     "shell.execute_reply": "2023-10-01T12:21:16.033557Z",
     "shell.execute_reply.started": "2023-10-01T12:21:16.005914Z"
    }
   },
   "outputs": [
    {
     "data": {
      "text/plain": [
       "Id           1460\n",
       "LotArea      1073\n",
       "GrLivArea     861\n",
       "BsmtUnfSF     780\n",
       "1stFlrSF      753\n",
       "dtype: int64"
      ]
     },
     "execution_count": 30,
     "metadata": {},
     "output_type": "execute_result"
    }
   ],
   "source": [
    "# Firstly\n",
    "df.nunique().sort_values().nlargest(5)"
   ]
  },
  {
   "cell_type": "code",
   "execution_count": 31,
   "id": "c847145a-9fa9-4732-a7b6-9c9e065b4607",
   "metadata": {
    "execution": {
     "iopub.execute_input": "2023-10-01T12:21:16.037016Z",
     "iopub.status.busy": "2023-10-01T12:21:16.035980Z",
     "iopub.status.idle": "2023-10-01T12:21:16.057438Z",
     "shell.execute_reply": "2023-10-01T12:21:16.056364Z",
     "shell.execute_reply.started": "2023-10-01T12:21:16.037016Z"
    }
   },
   "outputs": [
    {
     "data": {
      "text/plain": [
       "CentralAir      2\n",
       "Utilities       2\n",
       "Street          2\n",
       "Alley           2\n",
       "BsmtHalfBath    3\n",
       "dtype: int64"
      ]
     },
     "execution_count": 31,
     "metadata": {},
     "output_type": "execute_result"
    }
   ],
   "source": [
    "# Secondly\n",
    "df.nunique().sort_values().nsmallest(5)"
   ]
  },
  {
   "cell_type": "markdown",
   "id": "7ea3c402-97db-4fe0-aead-57e4c21af94e",
   "metadata": {},
   "source": [
    "As we see above Pool quality, Miscellaneous features, Alley, Fence columns have too much nan values, therefore doesnt have significant importance and meaning to the dataset, So we have decided to **drop these columns**.  \n",
    "\n",
    "Arguable we also decide to drop Fireplace quality column as well having almost %50 missing values.  \n",
    "\n",
    "We also want to drop Id column, since they are all unique items - non collinearity"
   ]
  },
  {
   "cell_type": "code",
   "execution_count": 32,
   "id": "46023572-5915-4aeb-9710-907db2ff89cc",
   "metadata": {
    "execution": {
     "iopub.execute_input": "2023-10-01T12:21:16.058480Z",
     "iopub.status.busy": "2023-10-01T12:21:16.058480Z",
     "iopub.status.idle": "2023-10-01T12:21:16.066269Z",
     "shell.execute_reply": "2023-10-01T12:21:16.066025Z",
     "shell.execute_reply.started": "2023-10-01T12:21:16.058480Z"
    }
   },
   "outputs": [],
   "source": [
    "# 6 columns to drop\n",
    "df.drop(columns=['PoolQC', 'MiscFeature', 'Alley', 'Fence', 'FireplaceQu', 'Id'], inplace=True)"
   ]
  },
  {
   "cell_type": "code",
   "execution_count": 33,
   "id": "772912ae-a342-4a89-a6bf-429d1ee4c3e8",
   "metadata": {
    "execution": {
     "iopub.execute_input": "2023-10-01T12:21:16.066852Z",
     "iopub.status.busy": "2023-10-01T12:21:16.066852Z",
     "iopub.status.idle": "2023-10-01T12:21:16.093205Z",
     "shell.execute_reply": "2023-10-01T12:21:16.092964Z",
     "shell.execute_reply.started": "2023-10-01T12:21:16.066852Z"
    },
    "scrolled": true
   },
   "outputs": [
    {
     "data": {
      "text/plain": [
       "['LotFrontage',\n",
       " 'MasVnrType',\n",
       " 'MasVnrArea',\n",
       " 'BsmtQual',\n",
       " 'BsmtCond',\n",
       " 'BsmtExposure',\n",
       " 'BsmtFinType1',\n",
       " 'BsmtFinType2',\n",
       " 'Electrical',\n",
       " 'GarageType',\n",
       " 'GarageYrBlt',\n",
       " 'GarageFinish',\n",
       " 'GarageQual',\n",
       " 'GarageCond']"
      ]
     },
     "execution_count": 33,
     "metadata": {},
     "output_type": "execute_result"
    }
   ],
   "source": [
    "fillable_nan_features = list(df.isnull().sum()[df.isnull().sum() > 0].index)\n",
    "fillable_nan_features"
   ]
  },
  {
   "cell_type": "code",
   "execution_count": 34,
   "id": "117f4518-ec70-4801-a684-e8177b3bd831",
   "metadata": {
    "execution": {
     "iopub.execute_input": "2023-10-01T12:21:16.094338Z",
     "iopub.status.busy": "2023-10-01T12:21:16.094338Z",
     "iopub.status.idle": "2023-10-01T12:21:16.107414Z",
     "shell.execute_reply": "2023-10-01T12:21:16.106354Z",
     "shell.execute_reply.started": "2023-10-01T12:21:16.094338Z"
    }
   },
   "outputs": [
    {
     "data": {
      "text/plain": [
       "LotFrontage     float64\n",
       "MasVnrType       object\n",
       "MasVnrArea      float64\n",
       "BsmtQual         object\n",
       "BsmtCond         object\n",
       "BsmtExposure     object\n",
       "BsmtFinType1     object\n",
       "BsmtFinType2     object\n",
       "Electrical       object\n",
       "GarageType       object\n",
       "GarageYrBlt     float64\n",
       "GarageFinish     object\n",
       "GarageQual       object\n",
       "GarageCond       object\n",
       "dtype: object"
      ]
     },
     "execution_count": 34,
     "metadata": {},
     "output_type": "execute_result"
    }
   ],
   "source": [
    "df[fillable_nan_features].dtypes"
   ]
  },
  {
   "cell_type": "code",
   "execution_count": 35,
   "id": "8f58880d-9e48-48d2-879f-44074a851d7d",
   "metadata": {
    "execution": {
     "iopub.execute_input": "2023-10-01T12:21:16.108917Z",
     "iopub.status.busy": "2023-10-01T12:21:16.107901Z",
     "iopub.status.idle": "2023-10-01T12:21:16.117255Z",
     "shell.execute_reply": "2023-10-01T12:21:16.116979Z",
     "shell.execute_reply.started": "2023-10-01T12:21:16.108917Z"
    }
   },
   "outputs": [],
   "source": [
    "# fill 2 float columns with columns' mean value\n",
    "list_columns_mean = ['LotFrontage', 'MasVnrArea']"
   ]
  },
  {
   "cell_type": "code",
   "execution_count": 36,
   "id": "5a3981b5-adf9-41ac-aa74-da5ea07454e3",
   "metadata": {
    "execution": {
     "iopub.execute_input": "2023-10-01T12:21:16.120404Z",
     "iopub.status.busy": "2023-10-01T12:21:16.120404Z",
     "iopub.status.idle": "2023-10-01T12:21:16.130259Z",
     "shell.execute_reply": "2023-10-01T12:21:16.129800Z",
     "shell.execute_reply.started": "2023-10-01T12:21:16.120404Z"
    }
   },
   "outputs": [
    {
     "data": {
      "text/html": [
       "<div>\n",
       "<style scoped>\n",
       "    .dataframe tbody tr th:only-of-type {\n",
       "        vertical-align: middle;\n",
       "    }\n",
       "\n",
       "    .dataframe tbody tr th {\n",
       "        vertical-align: top;\n",
       "    }\n",
       "\n",
       "    .dataframe thead th {\n",
       "        text-align: right;\n",
       "    }\n",
       "</style>\n",
       "<table border=\"1\" class=\"dataframe\">\n",
       "  <thead>\n",
       "    <tr style=\"text-align: right;\">\n",
       "      <th></th>\n",
       "      <th>GarageYrBlt</th>\n",
       "      <th>YearBuilt</th>\n",
       "    </tr>\n",
       "  </thead>\n",
       "  <tbody>\n",
       "    <tr>\n",
       "      <th>GarageYrBlt</th>\n",
       "      <td>1.000000</td>\n",
       "      <td>0.825667</td>\n",
       "    </tr>\n",
       "    <tr>\n",
       "      <th>YearBuilt</th>\n",
       "      <td>0.825667</td>\n",
       "      <td>1.000000</td>\n",
       "    </tr>\n",
       "  </tbody>\n",
       "</table>\n",
       "</div>"
      ],
      "text/plain": [
       "             GarageYrBlt  YearBuilt\n",
       "GarageYrBlt     1.000000   0.825667\n",
       "YearBuilt       0.825667   1.000000"
      ]
     },
     "execution_count": 36,
     "metadata": {},
     "output_type": "execute_result"
    }
   ],
   "source": [
    "# other float value is 'GarageYrBlt' column. filling it with mean is nonsense, however it may have a relationship woth yearbuilt\n",
    "df[['GarageYrBlt', 'YearBuilt']].corr()"
   ]
  },
  {
   "cell_type": "code",
   "execution_count": 37,
   "id": "34485277-688a-499e-a931-8050ec1826b9",
   "metadata": {
    "execution": {
     "iopub.execute_input": "2023-10-01T12:21:16.131416Z",
     "iopub.status.busy": "2023-10-01T12:21:16.131416Z",
     "iopub.status.idle": "2023-10-01T12:21:16.139883Z",
     "shell.execute_reply": "2023-10-01T12:21:16.139515Z",
     "shell.execute_reply.started": "2023-10-01T12:21:16.131416Z"
    }
   },
   "outputs": [],
   "source": [
    "# since there is a strong correlation with year built, we can drop garagebuilt feautre, it may result in noncollinearity\n",
    "df.drop(columns=['GarageYrBlt'], inplace=True)"
   ]
  },
  {
   "cell_type": "code",
   "execution_count": 38,
   "id": "8e26bbe2-2cf0-44db-999b-74d21a938e22",
   "metadata": {
    "execution": {
     "iopub.execute_input": "2023-10-01T12:21:21.510258Z",
     "iopub.status.busy": "2023-10-01T12:21:21.510258Z",
     "iopub.status.idle": "2023-10-01T12:21:21.520513Z",
     "shell.execute_reply": "2023-10-01T12:21:21.519513Z",
     "shell.execute_reply.started": "2023-10-01T12:21:21.510258Z"
    }
   },
   "outputs": [],
   "source": [
    "# other missing value columns are all object dtype and one by one they are suitable to be filled my mode\n",
    "list_columns_mode = ['BsmtQual', 'BsmtCond', 'BsmtExposure', 'BsmtFinType1', 'BsmtFinType2' , 'GarageType', 'GarageFinish', \n",
    "                     'GarageQual', 'GarageCond', 'MasVnrType', 'Electrical' ]"
   ]
  },
  {
   "cell_type": "markdown",
   "id": "1516cc67-942a-495e-ab34-18d6ba1e3038",
   "metadata": {},
   "source": [
    "**Now, lets define a function and fill out missing values:** "
   ]
  },
  {
   "cell_type": "code",
   "execution_count": 39,
   "id": "ffde482b-5cd8-487c-9442-86b02db8ef0e",
   "metadata": {
    "execution": {
     "iopub.execute_input": "2023-10-01T12:21:22.741802Z",
     "iopub.status.busy": "2023-10-01T12:21:22.730435Z",
     "iopub.status.idle": "2023-10-01T12:21:22.753120Z",
     "shell.execute_reply": "2023-10-01T12:21:22.752073Z",
     "shell.execute_reply.started": "2023-10-01T12:21:22.741802Z"
    }
   },
   "outputs": [],
   "source": [
    "def fill_missing_values(df, list_columns_mean=None, list_columns_median=None, list_columns_mode=None):\n",
    "    '''\n",
    "    this function takes three parameters\n",
    "    df = the whole dataframe (pd.DataFrame)\n",
    "    list_columns_mean = column names in a list to be filled with mean, e.g. = ['Area', 'Price']\n",
    "    list_columns_mode = column names in a list to be filled with mode\n",
    "    list_columns_median = column names in a list to be filled with median\n",
    "    \n",
    "    Returns:\n",
    "    pd.DataFrame: The DataFrame with missing values filled.\n",
    "    '''\n",
    "    \n",
    "    if list_columns_mean:\n",
    "        for column in list_columns_mean:\n",
    "            df[column] = df[column].fillna(df[column].mean())\n",
    "\n",
    "    if list_columns_median:\n",
    "        for column in list_columns_median:\n",
    "            df[column] = df[column].fillna(df[column].median())\n",
    "\n",
    "    if list_columns_mode:\n",
    "        for column in list_columns_mode:\n",
    "            df[column] = df[column].fillna(df[column].mode()[0])\n",
    "\n",
    "    return df    "
   ]
  },
  {
   "cell_type": "code",
   "execution_count": 40,
   "id": "35735864-b4d1-43ca-90d7-2b82546669ec",
   "metadata": {
    "execution": {
     "iopub.execute_input": "2023-10-01T12:21:24.468544Z",
     "iopub.status.busy": "2023-10-01T12:21:24.468544Z",
     "iopub.status.idle": "2023-10-01T12:21:24.489523Z",
     "shell.execute_reply": "2023-10-01T12:21:24.488728Z",
     "shell.execute_reply.started": "2023-10-01T12:21:24.468544Z"
    }
   },
   "outputs": [],
   "source": [
    "df = fill_missing_values(df, list_columns_mean=list_columns_mean, list_columns_median=None, list_columns_mode=list_columns_mode)"
   ]
  },
  {
   "cell_type": "code",
   "execution_count": 44,
   "id": "b5fb08f8-7b54-4660-ae33-68843444198b",
   "metadata": {
    "execution": {
     "iopub.execute_input": "2023-10-01T12:23:29.231889Z",
     "iopub.status.busy": "2023-10-01T12:23:29.231889Z",
     "iopub.status.idle": "2023-10-01T12:23:29.248731Z",
     "shell.execute_reply": "2023-10-01T12:23:29.247717Z",
     "shell.execute_reply.started": "2023-10-01T12:23:29.231889Z"
    }
   },
   "outputs": [
    {
     "data": {
      "text/plain": [
       "False"
      ]
     },
     "execution_count": 44,
     "metadata": {},
     "output_type": "execute_result"
    }
   ],
   "source": [
    "#lets double check any nan values are missing or not\n",
    "df.isnull().any().any()"
   ]
  },
  {
   "cell_type": "markdown",
   "id": "af63388f-355e-484c-ab99-3977b711e10b",
   "metadata": {},
   "source": [
    "### Shape, Data Types, Analyzing the Features"
   ]
  },
  {
   "cell_type": "code",
   "execution_count": 45,
   "id": "04d3d477-4fb9-48fb-995c-5a79da27acd9",
   "metadata": {
    "execution": {
     "iopub.execute_input": "2023-10-01T12:23:40.056185Z",
     "iopub.status.busy": "2023-10-01T12:23:40.056185Z",
     "iopub.status.idle": "2023-10-01T12:23:40.070183Z",
     "shell.execute_reply": "2023-10-01T12:23:40.069182Z",
     "shell.execute_reply.started": "2023-10-01T12:23:40.056185Z"
    }
   },
   "outputs": [
    {
     "data": {
      "text/plain": [
       "(1460, 74)"
      ]
     },
     "execution_count": 45,
     "metadata": {},
     "output_type": "execute_result"
    }
   ],
   "source": [
    "df.shape"
   ]
  },
  {
   "cell_type": "code",
   "execution_count": 46,
   "id": "cfd74045-8366-427b-a55e-da66c574c8e4",
   "metadata": {
    "execution": {
     "iopub.execute_input": "2023-10-01T12:31:45.393903Z",
     "iopub.status.busy": "2023-10-01T12:31:45.378553Z",
     "iopub.status.idle": "2023-10-01T12:31:45.466145Z",
     "shell.execute_reply": "2023-10-01T12:31:45.465046Z",
     "shell.execute_reply.started": "2023-10-01T12:31:45.393903Z"
    },
    "scrolled": true
   },
   "outputs": [
    {
     "data": {
      "text/html": [
       "<div>\n",
       "<style scoped>\n",
       "    .dataframe tbody tr th:only-of-type {\n",
       "        vertical-align: middle;\n",
       "    }\n",
       "\n",
       "    .dataframe tbody tr th {\n",
       "        vertical-align: top;\n",
       "    }\n",
       "\n",
       "    .dataframe thead th {\n",
       "        text-align: right;\n",
       "    }\n",
       "</style>\n",
       "<table border=\"1\" class=\"dataframe\">\n",
       "  <thead>\n",
       "    <tr style=\"text-align: right;\">\n",
       "      <th></th>\n",
       "      <th>count</th>\n",
       "      <th>mean</th>\n",
       "      <th>std</th>\n",
       "      <th>min</th>\n",
       "      <th>25%</th>\n",
       "      <th>50%</th>\n",
       "      <th>75%</th>\n",
       "      <th>max</th>\n",
       "    </tr>\n",
       "  </thead>\n",
       "  <tbody>\n",
       "    <tr>\n",
       "      <th>MSSubClass</th>\n",
       "      <td>1460.0</td>\n",
       "      <td>56.897260</td>\n",
       "      <td>42.300571</td>\n",
       "      <td>20.0</td>\n",
       "      <td>20.00</td>\n",
       "      <td>50.000000</td>\n",
       "      <td>70.00</td>\n",
       "      <td>190.0</td>\n",
       "    </tr>\n",
       "    <tr>\n",
       "      <th>LotFrontage</th>\n",
       "      <td>1460.0</td>\n",
       "      <td>70.049958</td>\n",
       "      <td>22.024023</td>\n",
       "      <td>21.0</td>\n",
       "      <td>60.00</td>\n",
       "      <td>70.049958</td>\n",
       "      <td>79.00</td>\n",
       "      <td>313.0</td>\n",
       "    </tr>\n",
       "    <tr>\n",
       "      <th>LotArea</th>\n",
       "      <td>1460.0</td>\n",
       "      <td>10516.828082</td>\n",
       "      <td>9981.264932</td>\n",
       "      <td>1300.0</td>\n",
       "      <td>7553.50</td>\n",
       "      <td>9478.500000</td>\n",
       "      <td>11601.50</td>\n",
       "      <td>215245.0</td>\n",
       "    </tr>\n",
       "    <tr>\n",
       "      <th>OverallQual</th>\n",
       "      <td>1460.0</td>\n",
       "      <td>6.099315</td>\n",
       "      <td>1.382997</td>\n",
       "      <td>1.0</td>\n",
       "      <td>5.00</td>\n",
       "      <td>6.000000</td>\n",
       "      <td>7.00</td>\n",
       "      <td>10.0</td>\n",
       "    </tr>\n",
       "    <tr>\n",
       "      <th>OverallCond</th>\n",
       "      <td>1460.0</td>\n",
       "      <td>5.575342</td>\n",
       "      <td>1.112799</td>\n",
       "      <td>1.0</td>\n",
       "      <td>5.00</td>\n",
       "      <td>5.000000</td>\n",
       "      <td>6.00</td>\n",
       "      <td>9.0</td>\n",
       "    </tr>\n",
       "    <tr>\n",
       "      <th>YearBuilt</th>\n",
       "      <td>1460.0</td>\n",
       "      <td>1971.267808</td>\n",
       "      <td>30.202904</td>\n",
       "      <td>1872.0</td>\n",
       "      <td>1954.00</td>\n",
       "      <td>1973.000000</td>\n",
       "      <td>2000.00</td>\n",
       "      <td>2010.0</td>\n",
       "    </tr>\n",
       "    <tr>\n",
       "      <th>YearRemodAdd</th>\n",
       "      <td>1460.0</td>\n",
       "      <td>1984.865753</td>\n",
       "      <td>20.645407</td>\n",
       "      <td>1950.0</td>\n",
       "      <td>1967.00</td>\n",
       "      <td>1994.000000</td>\n",
       "      <td>2004.00</td>\n",
       "      <td>2010.0</td>\n",
       "    </tr>\n",
       "    <tr>\n",
       "      <th>MasVnrArea</th>\n",
       "      <td>1460.0</td>\n",
       "      <td>103.685262</td>\n",
       "      <td>180.569112</td>\n",
       "      <td>0.0</td>\n",
       "      <td>0.00</td>\n",
       "      <td>0.000000</td>\n",
       "      <td>164.25</td>\n",
       "      <td>1600.0</td>\n",
       "    </tr>\n",
       "    <tr>\n",
       "      <th>BsmtFinSF1</th>\n",
       "      <td>1460.0</td>\n",
       "      <td>443.639726</td>\n",
       "      <td>456.098091</td>\n",
       "      <td>0.0</td>\n",
       "      <td>0.00</td>\n",
       "      <td>383.500000</td>\n",
       "      <td>712.25</td>\n",
       "      <td>5644.0</td>\n",
       "    </tr>\n",
       "    <tr>\n",
       "      <th>BsmtFinSF2</th>\n",
       "      <td>1460.0</td>\n",
       "      <td>46.549315</td>\n",
       "      <td>161.319273</td>\n",
       "      <td>0.0</td>\n",
       "      <td>0.00</td>\n",
       "      <td>0.000000</td>\n",
       "      <td>0.00</td>\n",
       "      <td>1474.0</td>\n",
       "    </tr>\n",
       "    <tr>\n",
       "      <th>BsmtUnfSF</th>\n",
       "      <td>1460.0</td>\n",
       "      <td>567.240411</td>\n",
       "      <td>441.866955</td>\n",
       "      <td>0.0</td>\n",
       "      <td>223.00</td>\n",
       "      <td>477.500000</td>\n",
       "      <td>808.00</td>\n",
       "      <td>2336.0</td>\n",
       "    </tr>\n",
       "    <tr>\n",
       "      <th>TotalBsmtSF</th>\n",
       "      <td>1460.0</td>\n",
       "      <td>1057.429452</td>\n",
       "      <td>438.705324</td>\n",
       "      <td>0.0</td>\n",
       "      <td>795.75</td>\n",
       "      <td>991.500000</td>\n",
       "      <td>1298.25</td>\n",
       "      <td>6110.0</td>\n",
       "    </tr>\n",
       "    <tr>\n",
       "      <th>1stFlrSF</th>\n",
       "      <td>1460.0</td>\n",
       "      <td>1162.626712</td>\n",
       "      <td>386.587738</td>\n",
       "      <td>334.0</td>\n",
       "      <td>882.00</td>\n",
       "      <td>1087.000000</td>\n",
       "      <td>1391.25</td>\n",
       "      <td>4692.0</td>\n",
       "    </tr>\n",
       "    <tr>\n",
       "      <th>2ndFlrSF</th>\n",
       "      <td>1460.0</td>\n",
       "      <td>346.992466</td>\n",
       "      <td>436.528436</td>\n",
       "      <td>0.0</td>\n",
       "      <td>0.00</td>\n",
       "      <td>0.000000</td>\n",
       "      <td>728.00</td>\n",
       "      <td>2065.0</td>\n",
       "    </tr>\n",
       "    <tr>\n",
       "      <th>LowQualFinSF</th>\n",
       "      <td>1460.0</td>\n",
       "      <td>5.844521</td>\n",
       "      <td>48.623081</td>\n",
       "      <td>0.0</td>\n",
       "      <td>0.00</td>\n",
       "      <td>0.000000</td>\n",
       "      <td>0.00</td>\n",
       "      <td>572.0</td>\n",
       "    </tr>\n",
       "    <tr>\n",
       "      <th>GrLivArea</th>\n",
       "      <td>1460.0</td>\n",
       "      <td>1515.463699</td>\n",
       "      <td>525.480383</td>\n",
       "      <td>334.0</td>\n",
       "      <td>1129.50</td>\n",
       "      <td>1464.000000</td>\n",
       "      <td>1776.75</td>\n",
       "      <td>5642.0</td>\n",
       "    </tr>\n",
       "    <tr>\n",
       "      <th>BsmtFullBath</th>\n",
       "      <td>1460.0</td>\n",
       "      <td>0.425342</td>\n",
       "      <td>0.518911</td>\n",
       "      <td>0.0</td>\n",
       "      <td>0.00</td>\n",
       "      <td>0.000000</td>\n",
       "      <td>1.00</td>\n",
       "      <td>3.0</td>\n",
       "    </tr>\n",
       "    <tr>\n",
       "      <th>BsmtHalfBath</th>\n",
       "      <td>1460.0</td>\n",
       "      <td>0.057534</td>\n",
       "      <td>0.238753</td>\n",
       "      <td>0.0</td>\n",
       "      <td>0.00</td>\n",
       "      <td>0.000000</td>\n",
       "      <td>0.00</td>\n",
       "      <td>2.0</td>\n",
       "    </tr>\n",
       "    <tr>\n",
       "      <th>FullBath</th>\n",
       "      <td>1460.0</td>\n",
       "      <td>1.565068</td>\n",
       "      <td>0.550916</td>\n",
       "      <td>0.0</td>\n",
       "      <td>1.00</td>\n",
       "      <td>2.000000</td>\n",
       "      <td>2.00</td>\n",
       "      <td>3.0</td>\n",
       "    </tr>\n",
       "    <tr>\n",
       "      <th>HalfBath</th>\n",
       "      <td>1460.0</td>\n",
       "      <td>0.382877</td>\n",
       "      <td>0.502885</td>\n",
       "      <td>0.0</td>\n",
       "      <td>0.00</td>\n",
       "      <td>0.000000</td>\n",
       "      <td>1.00</td>\n",
       "      <td>2.0</td>\n",
       "    </tr>\n",
       "    <tr>\n",
       "      <th>BedroomAbvGr</th>\n",
       "      <td>1460.0</td>\n",
       "      <td>2.866438</td>\n",
       "      <td>0.815778</td>\n",
       "      <td>0.0</td>\n",
       "      <td>2.00</td>\n",
       "      <td>3.000000</td>\n",
       "      <td>3.00</td>\n",
       "      <td>8.0</td>\n",
       "    </tr>\n",
       "    <tr>\n",
       "      <th>KitchenAbvGr</th>\n",
       "      <td>1460.0</td>\n",
       "      <td>1.046575</td>\n",
       "      <td>0.220338</td>\n",
       "      <td>0.0</td>\n",
       "      <td>1.00</td>\n",
       "      <td>1.000000</td>\n",
       "      <td>1.00</td>\n",
       "      <td>3.0</td>\n",
       "    </tr>\n",
       "    <tr>\n",
       "      <th>TotRmsAbvGrd</th>\n",
       "      <td>1460.0</td>\n",
       "      <td>6.517808</td>\n",
       "      <td>1.625393</td>\n",
       "      <td>2.0</td>\n",
       "      <td>5.00</td>\n",
       "      <td>6.000000</td>\n",
       "      <td>7.00</td>\n",
       "      <td>14.0</td>\n",
       "    </tr>\n",
       "    <tr>\n",
       "      <th>Fireplaces</th>\n",
       "      <td>1460.0</td>\n",
       "      <td>0.613014</td>\n",
       "      <td>0.644666</td>\n",
       "      <td>0.0</td>\n",
       "      <td>0.00</td>\n",
       "      <td>1.000000</td>\n",
       "      <td>1.00</td>\n",
       "      <td>3.0</td>\n",
       "    </tr>\n",
       "    <tr>\n",
       "      <th>GarageCars</th>\n",
       "      <td>1460.0</td>\n",
       "      <td>1.767123</td>\n",
       "      <td>0.747315</td>\n",
       "      <td>0.0</td>\n",
       "      <td>1.00</td>\n",
       "      <td>2.000000</td>\n",
       "      <td>2.00</td>\n",
       "      <td>4.0</td>\n",
       "    </tr>\n",
       "    <tr>\n",
       "      <th>GarageArea</th>\n",
       "      <td>1460.0</td>\n",
       "      <td>472.980137</td>\n",
       "      <td>213.804841</td>\n",
       "      <td>0.0</td>\n",
       "      <td>334.50</td>\n",
       "      <td>480.000000</td>\n",
       "      <td>576.00</td>\n",
       "      <td>1418.0</td>\n",
       "    </tr>\n",
       "    <tr>\n",
       "      <th>WoodDeckSF</th>\n",
       "      <td>1460.0</td>\n",
       "      <td>94.244521</td>\n",
       "      <td>125.338794</td>\n",
       "      <td>0.0</td>\n",
       "      <td>0.00</td>\n",
       "      <td>0.000000</td>\n",
       "      <td>168.00</td>\n",
       "      <td>857.0</td>\n",
       "    </tr>\n",
       "    <tr>\n",
       "      <th>OpenPorchSF</th>\n",
       "      <td>1460.0</td>\n",
       "      <td>46.660274</td>\n",
       "      <td>66.256028</td>\n",
       "      <td>0.0</td>\n",
       "      <td>0.00</td>\n",
       "      <td>25.000000</td>\n",
       "      <td>68.00</td>\n",
       "      <td>547.0</td>\n",
       "    </tr>\n",
       "    <tr>\n",
       "      <th>EnclosedPorch</th>\n",
       "      <td>1460.0</td>\n",
       "      <td>21.954110</td>\n",
       "      <td>61.119149</td>\n",
       "      <td>0.0</td>\n",
       "      <td>0.00</td>\n",
       "      <td>0.000000</td>\n",
       "      <td>0.00</td>\n",
       "      <td>552.0</td>\n",
       "    </tr>\n",
       "    <tr>\n",
       "      <th>3SsnPorch</th>\n",
       "      <td>1460.0</td>\n",
       "      <td>3.409589</td>\n",
       "      <td>29.317331</td>\n",
       "      <td>0.0</td>\n",
       "      <td>0.00</td>\n",
       "      <td>0.000000</td>\n",
       "      <td>0.00</td>\n",
       "      <td>508.0</td>\n",
       "    </tr>\n",
       "    <tr>\n",
       "      <th>ScreenPorch</th>\n",
       "      <td>1460.0</td>\n",
       "      <td>15.060959</td>\n",
       "      <td>55.757415</td>\n",
       "      <td>0.0</td>\n",
       "      <td>0.00</td>\n",
       "      <td>0.000000</td>\n",
       "      <td>0.00</td>\n",
       "      <td>480.0</td>\n",
       "    </tr>\n",
       "    <tr>\n",
       "      <th>PoolArea</th>\n",
       "      <td>1460.0</td>\n",
       "      <td>2.758904</td>\n",
       "      <td>40.177307</td>\n",
       "      <td>0.0</td>\n",
       "      <td>0.00</td>\n",
       "      <td>0.000000</td>\n",
       "      <td>0.00</td>\n",
       "      <td>738.0</td>\n",
       "    </tr>\n",
       "    <tr>\n",
       "      <th>MiscVal</th>\n",
       "      <td>1460.0</td>\n",
       "      <td>43.489041</td>\n",
       "      <td>496.123024</td>\n",
       "      <td>0.0</td>\n",
       "      <td>0.00</td>\n",
       "      <td>0.000000</td>\n",
       "      <td>0.00</td>\n",
       "      <td>15500.0</td>\n",
       "    </tr>\n",
       "    <tr>\n",
       "      <th>MoSold</th>\n",
       "      <td>1460.0</td>\n",
       "      <td>6.321918</td>\n",
       "      <td>2.703626</td>\n",
       "      <td>1.0</td>\n",
       "      <td>5.00</td>\n",
       "      <td>6.000000</td>\n",
       "      <td>8.00</td>\n",
       "      <td>12.0</td>\n",
       "    </tr>\n",
       "    <tr>\n",
       "      <th>YrSold</th>\n",
       "      <td>1460.0</td>\n",
       "      <td>2007.815753</td>\n",
       "      <td>1.328095</td>\n",
       "      <td>2006.0</td>\n",
       "      <td>2007.00</td>\n",
       "      <td>2008.000000</td>\n",
       "      <td>2009.00</td>\n",
       "      <td>2010.0</td>\n",
       "    </tr>\n",
       "    <tr>\n",
       "      <th>SalePrice</th>\n",
       "      <td>1460.0</td>\n",
       "      <td>180921.195890</td>\n",
       "      <td>79442.502883</td>\n",
       "      <td>34900.0</td>\n",
       "      <td>129975.00</td>\n",
       "      <td>163000.000000</td>\n",
       "      <td>214000.00</td>\n",
       "      <td>755000.0</td>\n",
       "    </tr>\n",
       "  </tbody>\n",
       "</table>\n",
       "</div>"
      ],
      "text/plain": [
       "                count           mean           std      min        25%  \\\n",
       "MSSubClass     1460.0      56.897260     42.300571     20.0      20.00   \n",
       "LotFrontage    1460.0      70.049958     22.024023     21.0      60.00   \n",
       "LotArea        1460.0   10516.828082   9981.264932   1300.0    7553.50   \n",
       "OverallQual    1460.0       6.099315      1.382997      1.0       5.00   \n",
       "OverallCond    1460.0       5.575342      1.112799      1.0       5.00   \n",
       "YearBuilt      1460.0    1971.267808     30.202904   1872.0    1954.00   \n",
       "YearRemodAdd   1460.0    1984.865753     20.645407   1950.0    1967.00   \n",
       "MasVnrArea     1460.0     103.685262    180.569112      0.0       0.00   \n",
       "BsmtFinSF1     1460.0     443.639726    456.098091      0.0       0.00   \n",
       "BsmtFinSF2     1460.0      46.549315    161.319273      0.0       0.00   \n",
       "BsmtUnfSF      1460.0     567.240411    441.866955      0.0     223.00   \n",
       "TotalBsmtSF    1460.0    1057.429452    438.705324      0.0     795.75   \n",
       "1stFlrSF       1460.0    1162.626712    386.587738    334.0     882.00   \n",
       "2ndFlrSF       1460.0     346.992466    436.528436      0.0       0.00   \n",
       "LowQualFinSF   1460.0       5.844521     48.623081      0.0       0.00   \n",
       "GrLivArea      1460.0    1515.463699    525.480383    334.0    1129.50   \n",
       "BsmtFullBath   1460.0       0.425342      0.518911      0.0       0.00   \n",
       "BsmtHalfBath   1460.0       0.057534      0.238753      0.0       0.00   \n",
       "FullBath       1460.0       1.565068      0.550916      0.0       1.00   \n",
       "HalfBath       1460.0       0.382877      0.502885      0.0       0.00   \n",
       "BedroomAbvGr   1460.0       2.866438      0.815778      0.0       2.00   \n",
       "KitchenAbvGr   1460.0       1.046575      0.220338      0.0       1.00   \n",
       "TotRmsAbvGrd   1460.0       6.517808      1.625393      2.0       5.00   \n",
       "Fireplaces     1460.0       0.613014      0.644666      0.0       0.00   \n",
       "GarageCars     1460.0       1.767123      0.747315      0.0       1.00   \n",
       "GarageArea     1460.0     472.980137    213.804841      0.0     334.50   \n",
       "WoodDeckSF     1460.0      94.244521    125.338794      0.0       0.00   \n",
       "OpenPorchSF    1460.0      46.660274     66.256028      0.0       0.00   \n",
       "EnclosedPorch  1460.0      21.954110     61.119149      0.0       0.00   \n",
       "3SsnPorch      1460.0       3.409589     29.317331      0.0       0.00   \n",
       "ScreenPorch    1460.0      15.060959     55.757415      0.0       0.00   \n",
       "PoolArea       1460.0       2.758904     40.177307      0.0       0.00   \n",
       "MiscVal        1460.0      43.489041    496.123024      0.0       0.00   \n",
       "MoSold         1460.0       6.321918      2.703626      1.0       5.00   \n",
       "YrSold         1460.0    2007.815753      1.328095   2006.0    2007.00   \n",
       "SalePrice      1460.0  180921.195890  79442.502883  34900.0  129975.00   \n",
       "\n",
       "                         50%        75%       max  \n",
       "MSSubClass         50.000000      70.00     190.0  \n",
       "LotFrontage        70.049958      79.00     313.0  \n",
       "LotArea          9478.500000   11601.50  215245.0  \n",
       "OverallQual         6.000000       7.00      10.0  \n",
       "OverallCond         5.000000       6.00       9.0  \n",
       "YearBuilt        1973.000000    2000.00    2010.0  \n",
       "YearRemodAdd     1994.000000    2004.00    2010.0  \n",
       "MasVnrArea          0.000000     164.25    1600.0  \n",
       "BsmtFinSF1        383.500000     712.25    5644.0  \n",
       "BsmtFinSF2          0.000000       0.00    1474.0  \n",
       "BsmtUnfSF         477.500000     808.00    2336.0  \n",
       "TotalBsmtSF       991.500000    1298.25    6110.0  \n",
       "1stFlrSF         1087.000000    1391.25    4692.0  \n",
       "2ndFlrSF            0.000000     728.00    2065.0  \n",
       "LowQualFinSF        0.000000       0.00     572.0  \n",
       "GrLivArea        1464.000000    1776.75    5642.0  \n",
       "BsmtFullBath        0.000000       1.00       3.0  \n",
       "BsmtHalfBath        0.000000       0.00       2.0  \n",
       "FullBath            2.000000       2.00       3.0  \n",
       "HalfBath            0.000000       1.00       2.0  \n",
       "BedroomAbvGr        3.000000       3.00       8.0  \n",
       "KitchenAbvGr        1.000000       1.00       3.0  \n",
       "TotRmsAbvGrd        6.000000       7.00      14.0  \n",
       "Fireplaces          1.000000       1.00       3.0  \n",
       "GarageCars          2.000000       2.00       4.0  \n",
       "GarageArea        480.000000     576.00    1418.0  \n",
       "WoodDeckSF          0.000000     168.00     857.0  \n",
       "OpenPorchSF        25.000000      68.00     547.0  \n",
       "EnclosedPorch       0.000000       0.00     552.0  \n",
       "3SsnPorch           0.000000       0.00     508.0  \n",
       "ScreenPorch         0.000000       0.00     480.0  \n",
       "PoolArea            0.000000       0.00     738.0  \n",
       "MiscVal             0.000000       0.00   15500.0  \n",
       "MoSold              6.000000       8.00      12.0  \n",
       "YrSold           2008.000000    2009.00    2010.0  \n",
       "SalePrice      163000.000000  214000.00  755000.0  "
      ]
     },
     "execution_count": 46,
     "metadata": {},
     "output_type": "execute_result"
    }
   ],
   "source": [
    "df.describe().T"
   ]
  },
  {
   "cell_type": "code",
   "execution_count": 48,
   "id": "33d9fd55-d82b-42f3-8948-a742fc5c919e",
   "metadata": {
    "execution": {
     "iopub.execute_input": "2023-10-01T12:33:21.714189Z",
     "iopub.status.busy": "2023-10-01T12:33:21.714189Z",
     "iopub.status.idle": "2023-10-01T12:33:21.726691Z",
     "shell.execute_reply": "2023-10-01T12:33:21.725878Z",
     "shell.execute_reply.started": "2023-10-01T12:33:21.714189Z"
    }
   },
   "outputs": [],
   "source": [
    "correlation_matrix = df.corr()"
   ]
  },
  {
   "cell_type": "code",
   "execution_count": 55,
   "id": "be469d26-f256-45d5-810a-1a33f280b2b4",
   "metadata": {
    "execution": {
     "iopub.execute_input": "2023-10-01T12:36:09.268776Z",
     "iopub.status.busy": "2023-10-01T12:36:09.268615Z",
     "iopub.status.idle": "2023-10-01T12:36:09.986116Z",
     "shell.execute_reply": "2023-10-01T12:36:09.986116Z",
     "shell.execute_reply.started": "2023-10-01T12:36:09.268776Z"
    }
   },
   "outputs": [
    {
     "data": {
      "image/png": "[encoded data removed]",
      "text/plain": [
       "<Figure size 1200x1000 with 2 Axes>"
      ]
     },
     "metadata": {},
     "output_type": "display_data"
    }
   ],
   "source": [
    "plt.figure(figsize=(12,10))\n",
    "sns.heatmap(correlation_matrix, annot=False, fmt=\".2f\")\n",
    "plt.show()"
   ]
  },
  {
   "cell_type": "markdown",
   "id": "aa263988-d3c6-4c62-a54b-d70cd226e39d",
   "metadata": {
    "execution": {
     "iopub.execute_input": "2023-10-01T09:34:04.733640Z",
     "iopub.status.busy": "2023-10-01T09:34:04.733640Z",
     "iopub.status.idle": "2023-10-01T09:34:04.743712Z",
     "shell.execute_reply": "2023-10-01T09:34:04.742704Z",
     "shell.execute_reply.started": "2023-10-01T09:34:04.733640Z"
    }
   },
   "source": [
    "### Visualize Distributions and Correlations"
   ]
  },
  {
   "cell_type": "code",
   "execution_count": null,
   "id": "8188c8a5-d141-4755-a6fd-b06b7fd8cc8b",
   "metadata": {},
   "outputs": [],
   "source": []
  },
  {
   "cell_type": "code",
   "execution_count": null,
   "id": "754d5a33-b3df-48bb-aec1-c0865faea610",
   "metadata": {},
   "outputs": [],
   "source": []
  },
  {
   "cell_type": "code",
   "execution_count": null,
   "id": "af8a6455-f406-4d8a-bf8c-7a73688705b5",
   "metadata": {},
   "outputs": [],
   "source": []
  },
  {
   "cell_type": "markdown",
   "id": "a58343ec-93f0-4d74-83af-ebc9cf32d2b1",
   "metadata": {},
   "source": [
    "## Data Preprocessing"
   ]
  },
  {
   "cell_type": "markdown",
   "id": "6f8021c8-3e49-4c80-b113-1c88ff1ae835",
   "metadata": {},
   "source": [
    "### Handling Missing Datas (Imputation)"
   ]
  },
  {
   "cell_type": "code",
   "execution_count": null,
   "id": "297243aa-2dc0-4f06-bb6f-c1bcec9523d3",
   "metadata": {},
   "outputs": [],
   "source": []
  },
  {
   "cell_type": "code",
   "execution_count": null,
   "id": "d45c261c-052a-41f8-bd96-40ba03d5f13e",
   "metadata": {},
   "outputs": [],
   "source": []
  },
  {
   "cell_type": "code",
   "execution_count": null,
   "id": "ece3b156-d974-4c80-8047-38a859ce02dd",
   "metadata": {},
   "outputs": [],
   "source": []
  },
  {
   "cell_type": "markdown",
   "id": "ed07848b-31f2-4b60-8fa0-112a7d36644a",
   "metadata": {},
   "source": [
    "### Encode categorical variables"
   ]
  },
  {
   "cell_type": "code",
   "execution_count": null,
   "id": "7e7e3f3a-11fd-4d01-84c6-143eed55fc09",
   "metadata": {},
   "outputs": [],
   "source": []
  },
  {
   "cell_type": "code",
   "execution_count": null,
   "id": "38c8d2ce-d470-4c74-adf3-ab6c7b7face2",
   "metadata": {},
   "outputs": [],
   "source": []
  },
  {
   "cell_type": "code",
   "execution_count": null,
   "id": "86276146-f6da-4800-909b-e7a05b12b360",
   "metadata": {},
   "outputs": [],
   "source": []
  },
  {
   "cell_type": "markdown",
   "id": "5ea364b6-2c9a-445a-85b6-f4899245528f",
   "metadata": {},
   "source": [
    "### Scale or normalize numerical features if needed."
   ]
  },
  {
   "cell_type": "code",
   "execution_count": null,
   "id": "f08be2fc-b6f7-4796-a7fa-a033723f68c7",
   "metadata": {},
   "outputs": [],
   "source": []
  },
  {
   "cell_type": "code",
   "execution_count": null,
   "id": "3a0d368c-c27b-47c3-986a-1d4cdf39138e",
   "metadata": {},
   "outputs": [],
   "source": []
  },
  {
   "cell_type": "code",
   "execution_count": null,
   "id": "c1ce14db-935e-42a5-9493-9ee363510760",
   "metadata": {},
   "outputs": [],
   "source": []
  },
  {
   "cell_type": "markdown",
   "id": "5251b1f2-e2bc-4b00-8520-9523c654b129",
   "metadata": {},
   "source": [
    "# 3. Feature Engineering"
   ]
  },
  {
   "cell_type": "markdown",
   "id": "ff8819ad-f39b-4923-a581-d138c05cb953",
   "metadata": {},
   "source": [
    "# 4. Data Splitting"
   ]
  },
  {
   "cell_type": "markdown",
   "id": "4b5b59c5-6349-4b45-b23d-2aa736c2728a",
   "metadata": {},
   "source": [
    "# 5. Model Selection and Training"
   ]
  },
  {
   "cell_type": "markdown",
   "id": "31e4ac76-a989-4883-a047-7f2e97fa62ca",
   "metadata": {},
   "source": [
    "# 6. Model Evaluation"
   ]
  },
  {
   "cell_type": "markdown",
   "id": "89e0e95a-0f64-4ca7-b47f-23484d86042a",
   "metadata": {},
   "source": [
    "# 7. Hyperparameter Tuning (Optional)"
   ]
  },
  {
   "cell_type": "markdown",
   "id": "e8c7bce0-32b4-43cf-a61d-2caa88e834e5",
   "metadata": {},
   "source": [
    "# 8. Final Model Training and Predictions"
   ]
  },
  {
   "cell_type": "markdown",
   "id": "fa47587f-6b8e-4e7b-adf9-8e51e8a7f0b6",
   "metadata": {},
   "source": [
    "# 9. Conclusion"
   ]
  },
  {
   "cell_type": "code",
   "execution_count": 1,
   "id": "7e50ca1a-1743-440a-b0fe-43bcc4dd96ac",
   "metadata": {
    "execution": {
     "iopub.execute_input": "2023-10-01T09:13:33.263935Z",
     "iopub.status.busy": "2023-10-01T09:13:33.262935Z",
     "iopub.status.idle": "2023-10-01T09:13:34.009129Z",
     "shell.execute_reply": "2023-10-01T09:13:34.009129Z",
     "shell.execute_reply.started": "2023-10-01T09:13:33.263935Z"
    }
   },
   "outputs": [],
   "source": [
    "import pandas as pd\n",
    "import numpy as np"
   ]
  },
  {
   "cell_type": "code",
   "execution_count": 2,
   "id": "7401b209-8321-4d1d-be59-7769152fc1e9",
   "metadata": {
    "execution": {
     "iopub.execute_input": "2023-10-01T09:14:13.082305Z",
     "iopub.status.busy": "2023-10-01T09:14:13.082305Z",
     "iopub.status.idle": "2023-10-01T09:14:13.139333Z",
     "shell.execute_reply": "2023-10-01T09:14:13.138326Z",
     "shell.execute_reply.started": "2023-10-01T09:14:13.082305Z"
    }
   },
   "outputs": [
    {
     "data": {
      "text/html": [
       "<div>\n",
       "<style scoped>\n",
       "    .dataframe tbody tr th:only-of-type {\n",
       "        vertical-align: middle;\n",
       "    }\n",
       "\n",
       "    .dataframe tbody tr th {\n",
       "        vertical-align: top;\n",
       "    }\n",
       "\n",
       "    .dataframe thead th {\n",
       "        text-align: right;\n",
       "    }\n",
       "</style>\n",
       "<table border=\"1\" class=\"dataframe\">\n",
       "  <thead>\n",
       "    <tr style=\"text-align: right;\">\n",
       "      <th></th>\n",
       "      <th>Id</th>\n",
       "      <th>MSSubClass</th>\n",
       "      <th>MSZoning</th>\n",
       "      <th>LotFrontage</th>\n",
       "      <th>LotArea</th>\n",
       "      <th>Street</th>\n",
       "      <th>Alley</th>\n",
       "      <th>LotShape</th>\n",
       "      <th>LandContour</th>\n",
       "      <th>Utilities</th>\n",
       "      <th>...</th>\n",
       "      <th>ScreenPorch</th>\n",
       "      <th>PoolArea</th>\n",
       "      <th>PoolQC</th>\n",
       "      <th>Fence</th>\n",
       "      <th>MiscFeature</th>\n",
       "      <th>MiscVal</th>\n",
       "      <th>MoSold</th>\n",
       "      <th>YrSold</th>\n",
       "      <th>SaleType</th>\n",
       "      <th>SaleCondition</th>\n",
       "    </tr>\n",
       "  </thead>\n",
       "  <tbody>\n",
       "    <tr>\n",
       "      <th>0</th>\n",
       "      <td>1461</td>\n",
       "      <td>20</td>\n",
       "      <td>RH</td>\n",
       "      <td>80.0</td>\n",
       "      <td>11622</td>\n",
       "      <td>Pave</td>\n",
       "      <td>NaN</td>\n",
       "      <td>Reg</td>\n",
       "      <td>Lvl</td>\n",
       "      <td>AllPub</td>\n",
       "      <td>...</td>\n",
       "      <td>120</td>\n",
       "      <td>0</td>\n",
       "      <td>NaN</td>\n",
       "      <td>MnPrv</td>\n",
       "      <td>NaN</td>\n",
       "      <td>0</td>\n",
       "      <td>6</td>\n",
       "      <td>2010</td>\n",
       "      <td>WD</td>\n",
       "      <td>Normal</td>\n",
       "    </tr>\n",
       "    <tr>\n",
       "      <th>1</th>\n",
       "      <td>1462</td>\n",
       "      <td>20</td>\n",
       "      <td>RL</td>\n",
       "      <td>81.0</td>\n",
       "      <td>14267</td>\n",
       "      <td>Pave</td>\n",
       "      <td>NaN</td>\n",
       "      <td>IR1</td>\n",
       "      <td>Lvl</td>\n",
       "      <td>AllPub</td>\n",
       "      <td>...</td>\n",
       "      <td>0</td>\n",
       "      <td>0</td>\n",
       "      <td>NaN</td>\n",
       "      <td>NaN</td>\n",
       "      <td>Gar2</td>\n",
       "      <td>12500</td>\n",
       "      <td>6</td>\n",
       "      <td>2010</td>\n",
       "      <td>WD</td>\n",
       "      <td>Normal</td>\n",
       "    </tr>\n",
       "    <tr>\n",
       "      <th>2</th>\n",
       "      <td>1463</td>\n",
       "      <td>60</td>\n",
       "      <td>RL</td>\n",
       "      <td>74.0</td>\n",
       "      <td>13830</td>\n",
       "      <td>Pave</td>\n",
       "      <td>NaN</td>\n",
       "      <td>IR1</td>\n",
       "      <td>Lvl</td>\n",
       "      <td>AllPub</td>\n",
       "      <td>...</td>\n",
       "      <td>0</td>\n",
       "      <td>0</td>\n",
       "      <td>NaN</td>\n",
       "      <td>MnPrv</td>\n",
       "      <td>NaN</td>\n",
       "      <td>0</td>\n",
       "      <td>3</td>\n",
       "      <td>2010</td>\n",
       "      <td>WD</td>\n",
       "      <td>Normal</td>\n",
       "    </tr>\n",
       "    <tr>\n",
       "      <th>3</th>\n",
       "      <td>1464</td>\n",
       "      <td>60</td>\n",
       "      <td>RL</td>\n",
       "      <td>78.0</td>\n",
       "      <td>9978</td>\n",
       "      <td>Pave</td>\n",
       "      <td>NaN</td>\n",
       "      <td>IR1</td>\n",
       "      <td>Lvl</td>\n",
       "      <td>AllPub</td>\n",
       "      <td>...</td>\n",
       "      <td>0</td>\n",
       "      <td>0</td>\n",
       "      <td>NaN</td>\n",
       "      <td>NaN</td>\n",
       "      <td>NaN</td>\n",
       "      <td>0</td>\n",
       "      <td>6</td>\n",
       "      <td>2010</td>\n",
       "      <td>WD</td>\n",
       "      <td>Normal</td>\n",
       "    </tr>\n",
       "    <tr>\n",
       "      <th>4</th>\n",
       "      <td>1465</td>\n",
       "      <td>120</td>\n",
       "      <td>RL</td>\n",
       "      <td>43.0</td>\n",
       "      <td>5005</td>\n",
       "      <td>Pave</td>\n",
       "      <td>NaN</td>\n",
       "      <td>IR1</td>\n",
       "      <td>HLS</td>\n",
       "      <td>AllPub</td>\n",
       "      <td>...</td>\n",
       "      <td>144</td>\n",
       "      <td>0</td>\n",
       "      <td>NaN</td>\n",
       "      <td>NaN</td>\n",
       "      <td>NaN</td>\n",
       "      <td>0</td>\n",
       "      <td>1</td>\n",
       "      <td>2010</td>\n",
       "      <td>WD</td>\n",
       "      <td>Normal</td>\n",
       "    </tr>\n",
       "    <tr>\n",
       "      <th>...</th>\n",
       "      <td>...</td>\n",
       "      <td>...</td>\n",
       "      <td>...</td>\n",
       "      <td>...</td>\n",
       "      <td>...</td>\n",
       "      <td>...</td>\n",
       "      <td>...</td>\n",
       "      <td>...</td>\n",
       "      <td>...</td>\n",
       "      <td>...</td>\n",
       "      <td>...</td>\n",
       "      <td>...</td>\n",
       "      <td>...</td>\n",
       "      <td>...</td>\n",
       "      <td>...</td>\n",
       "      <td>...</td>\n",
       "      <td>...</td>\n",
       "      <td>...</td>\n",
       "      <td>...</td>\n",
       "      <td>...</td>\n",
       "      <td>...</td>\n",
       "    </tr>\n",
       "    <tr>\n",
       "      <th>1454</th>\n",
       "      <td>2915</td>\n",
       "      <td>160</td>\n",
       "      <td>RM</td>\n",
       "      <td>21.0</td>\n",
       "      <td>1936</td>\n",
       "      <td>Pave</td>\n",
       "      <td>NaN</td>\n",
       "      <td>Reg</td>\n",
       "      <td>Lvl</td>\n",
       "      <td>AllPub</td>\n",
       "      <td>...</td>\n",
       "      <td>0</td>\n",
       "      <td>0</td>\n",
       "      <td>NaN</td>\n",
       "      <td>NaN</td>\n",
       "      <td>NaN</td>\n",
       "      <td>0</td>\n",
       "      <td>6</td>\n",
       "      <td>2006</td>\n",
       "      <td>WD</td>\n",
       "      <td>Normal</td>\n",
       "    </tr>\n",
       "    <tr>\n",
       "      <th>1455</th>\n",
       "      <td>2916</td>\n",
       "      <td>160</td>\n",
       "      <td>RM</td>\n",
       "      <td>21.0</td>\n",
       "      <td>1894</td>\n",
       "      <td>Pave</td>\n",
       "      <td>NaN</td>\n",
       "      <td>Reg</td>\n",
       "      <td>Lvl</td>\n",
       "      <td>AllPub</td>\n",
       "      <td>...</td>\n",
       "      <td>0</td>\n",
       "      <td>0</td>\n",
       "      <td>NaN</td>\n",
       "      <td>NaN</td>\n",
       "      <td>NaN</td>\n",
       "      <td>0</td>\n",
       "      <td>4</td>\n",
       "      <td>2006</td>\n",
       "      <td>WD</td>\n",
       "      <td>Abnorml</td>\n",
       "    </tr>\n",
       "    <tr>\n",
       "      <th>1456</th>\n",
       "      <td>2917</td>\n",
       "      <td>20</td>\n",
       "      <td>RL</td>\n",
       "      <td>160.0</td>\n",
       "      <td>20000</td>\n",
       "      <td>Pave</td>\n",
       "      <td>NaN</td>\n",
       "      <td>Reg</td>\n",
       "      <td>Lvl</td>\n",
       "      <td>AllPub</td>\n",
       "      <td>...</td>\n",
       "      <td>0</td>\n",
       "      <td>0</td>\n",
       "      <td>NaN</td>\n",
       "      <td>NaN</td>\n",
       "      <td>NaN</td>\n",
       "      <td>0</td>\n",
       "      <td>9</td>\n",
       "      <td>2006</td>\n",
       "      <td>WD</td>\n",
       "      <td>Abnorml</td>\n",
       "    </tr>\n",
       "    <tr>\n",
       "      <th>1457</th>\n",
       "      <td>2918</td>\n",
       "      <td>85</td>\n",
       "      <td>RL</td>\n",
       "      <td>62.0</td>\n",
       "      <td>10441</td>\n",
       "      <td>Pave</td>\n",
       "      <td>NaN</td>\n",
       "      <td>Reg</td>\n",
       "      <td>Lvl</td>\n",
       "      <td>AllPub</td>\n",
       "      <td>...</td>\n",
       "      <td>0</td>\n",
       "      <td>0</td>\n",
       "      <td>NaN</td>\n",
       "      <td>MnPrv</td>\n",
       "      <td>Shed</td>\n",
       "      <td>700</td>\n",
       "      <td>7</td>\n",
       "      <td>2006</td>\n",
       "      <td>WD</td>\n",
       "      <td>Normal</td>\n",
       "    </tr>\n",
       "    <tr>\n",
       "      <th>1458</th>\n",
       "      <td>2919</td>\n",
       "      <td>60</td>\n",
       "      <td>RL</td>\n",
       "      <td>74.0</td>\n",
       "      <td>9627</td>\n",
       "      <td>Pave</td>\n",
       "      <td>NaN</td>\n",
       "      <td>Reg</td>\n",
       "      <td>Lvl</td>\n",
       "      <td>AllPub</td>\n",
       "      <td>...</td>\n",
       "      <td>0</td>\n",
       "      <td>0</td>\n",
       "      <td>NaN</td>\n",
       "      <td>NaN</td>\n",
       "      <td>NaN</td>\n",
       "      <td>0</td>\n",
       "      <td>11</td>\n",
       "      <td>2006</td>\n",
       "      <td>WD</td>\n",
       "      <td>Normal</td>\n",
       "    </tr>\n",
       "  </tbody>\n",
       "</table>\n",
       "<p>1459 rows × 80 columns</p>\n",
       "</div>"
      ],
      "text/plain": [
       "        Id  MSSubClass MSZoning  LotFrontage  LotArea Street Alley LotShape  \\\n",
       "0     1461          20       RH         80.0    11622   Pave   NaN      Reg   \n",
       "1     1462          20       RL         81.0    14267   Pave   NaN      IR1   \n",
       "2     1463          60       RL         74.0    13830   Pave   NaN      IR1   \n",
       "3     1464          60       RL         78.0     9978   Pave   NaN      IR1   \n",
       "4     1465         120       RL         43.0     5005   Pave   NaN      IR1   \n",
       "...    ...         ...      ...          ...      ...    ...   ...      ...   \n",
       "1454  2915         160       RM         21.0     1936   Pave   NaN      Reg   \n",
       "1455  2916         160       RM         21.0     1894   Pave   NaN      Reg   \n",
       "1456  2917          20       RL        160.0    20000   Pave   NaN      Reg   \n",
       "1457  2918          85       RL         62.0    10441   Pave   NaN      Reg   \n",
       "1458  2919          60       RL         74.0     9627   Pave   NaN      Reg   \n",
       "\n",
       "     LandContour Utilities  ... ScreenPorch PoolArea PoolQC  Fence  \\\n",
       "0            Lvl    AllPub  ...         120        0    NaN  MnPrv   \n",
       "1            Lvl    AllPub  ...           0        0    NaN    NaN   \n",
       "2            Lvl    AllPub  ...           0        0    NaN  MnPrv   \n",
       "3            Lvl    AllPub  ...           0        0    NaN    NaN   \n",
       "4            HLS    AllPub  ...         144        0    NaN    NaN   \n",
       "...          ...       ...  ...         ...      ...    ...    ...   \n",
       "1454         Lvl    AllPub  ...           0        0    NaN    NaN   \n",
       "1455         Lvl    AllPub  ...           0        0    NaN    NaN   \n",
       "1456         Lvl    AllPub  ...           0        0    NaN    NaN   \n",
       "1457         Lvl    AllPub  ...           0        0    NaN  MnPrv   \n",
       "1458         Lvl    AllPub  ...           0        0    NaN    NaN   \n",
       "\n",
       "     MiscFeature MiscVal MoSold  YrSold  SaleType  SaleCondition  \n",
       "0            NaN       0      6    2010        WD         Normal  \n",
       "1           Gar2   12500      6    2010        WD         Normal  \n",
       "2            NaN       0      3    2010        WD         Normal  \n",
       "3            NaN       0      6    2010        WD         Normal  \n",
       "4            NaN       0      1    2010        WD         Normal  \n",
       "...          ...     ...    ...     ...       ...            ...  \n",
       "1454         NaN       0      6    2006        WD         Normal  \n",
       "1455         NaN       0      4    2006        WD        Abnorml  \n",
       "1456         NaN       0      9    2006        WD        Abnorml  \n",
       "1457        Shed     700      7    2006        WD         Normal  \n",
       "1458         NaN       0     11    2006        WD         Normal  \n",
       "\n",
       "[1459 rows x 80 columns]"
      ]
     },
     "execution_count": 2,
     "metadata": {},
     "output_type": "execute_result"
    }
   ],
   "source": [
    "test_data = pd.read_csv('data_downloaded/test.csv')\n",
    "test_data"
   ]
  },
  {
   "cell_type": "code",
   "execution_count": null,
   "id": "e3269ac7-b759-45b4-ab5b-86c0f915bea7",
   "metadata": {},
   "outputs": [],
   "source": []
  }
 ],
 "metadata": {
  "kernelspec": {
   "display_name": "Python 3 (ipykernel)",
   "language": "python",
   "name": "python3"
  },
  "language_info": {
   "codemirror_mode": {
    "name": "ipython",
    "version": 3
   },
   "file_extension": ".py",
   "mimetype": "text/x-python",
   "name": "python",
   "nbconvert_exporter": "python",
   "pygments_lexer": "ipython3",
   "version": "3.10.8"
  }
 },
 "nbformat": 4,
 "nbformat_minor": 5
}
