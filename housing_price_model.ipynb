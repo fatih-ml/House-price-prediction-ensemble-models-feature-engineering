{
 "cells": [
  {
   "cell_type": "markdown",
   "id": "b8c91ec7-d815-45e6-a2eb-23d739f4075c",
   "metadata": {},
   "source": [
    "# House Prices - Advanced Regression Techniques\n",
    "## Predict sales prices and practice feature engineering, RFs, and gradient boosting"
   ]
  },
  {
   "cell_type": "markdown",
   "id": "54e9d148-8f82-4623-9b18-b0b08f73bf3d",
   "metadata": {},
   "source": [
    "# 1. Introduction"
   ]
  },
  {
   "cell_type": "markdown",
   "id": "ddc6f291-ffb9-4499-b7c4-dbebf8bcebb1",
   "metadata": {},
   "source": [
    "\r\n",
    "\r\n",
    "Welcome to my Jupyter notebook for the Kaggle competition \"House Prices - Advanced Regression Techniques\". In this competition, the goal is to predict the sale prices of homes based on a variety of features. This project provides an opportunity to practice advanced regression techniques, feature engineering, and model evaluation.\n",
    "\r\n",
    "### Objective\r\n",
    "\r\n",
    "The objective of this competition is to develop a regression model that accurately predicts the sale prices of houses. To achieve this, we'll perform exploratory data analysis, preprocess the dataset, engineer relevant features, train various regression models, and evaluate their performace.\r\n",
    "\r\n",
    "### Dataset Overview\r\n",
    "\r\n",
    "The dataset provided for this competition contains information about various attributes of residential homes. It includes features such as square footage, number of bedrooms, location, and more. Additionally, the dataset contains the target variable, which is the sale price of eac house.\r\n",
    "\r\n",
    "### Tools and Libraries Used\r\n",
    "\r\n",
    "- Python\r\n",
    "- Pandas for data manipulation\r\n",
    "- Matplotlib and Seaborn for data visualization\r\n",
    "- Scikit-learn for model building and evaluation\r\n",
    "\r\n",
    "Now, let's start by loading and exploring the dataset to gain a better understanding of the features and their relationships with the target variable.\r\n"
   ]
  },
  {
   "cell_type": "markdown",
   "id": "b2b75b77-5d59-43ce-817f-c4c8942dcf19",
   "metadata": {},
   "source": [
    "# 2. Data Exploration and Preprocessing"
   ]
  },
  {
   "cell_type": "markdown",
   "id": "e30c5df2-2339-4e28-bfcc-06231623ec7f",
   "metadata": {},
   "source": [
    "## Loading the dataset"
   ]
  },
  {
   "cell_type": "code",
   "execution_count": 1,
   "id": "8d74c253-b3be-4986-828a-ba816550e9b0",
   "metadata": {
    "execution": {
     "iopub.execute_input": "2023-10-10T22:11:14.909989Z",
     "iopub.status.busy": "2023-10-10T22:11:14.908970Z",
     "iopub.status.idle": "2023-10-10T22:11:17.642004Z",
     "shell.execute_reply": "2023-10-10T22:11:17.640588Z",
     "shell.execute_reply.started": "2023-10-10T22:11:14.909989Z"
    }
   },
   "outputs": [],
   "source": [
    "import pandas as pd\n",
    "import numpy as np\n",
    "import matplotlib.pyplot as plt\n",
    "import seaborn as sns\n",
    "import warnings\n",
    "warnings.filterwarnings('ignore')"
   ]
  },
  {
   "cell_type": "code",
   "execution_count": 2,
   "id": "7267fd8e-7baf-44d0-9d3d-456d03c7f4a2",
   "metadata": {
    "execution": {
     "iopub.execute_input": "2023-10-10T22:11:17.643949Z",
     "iopub.status.busy": "2023-10-10T22:11:17.643949Z",
     "iopub.status.idle": "2023-10-10T22:11:17.659295Z",
     "shell.execute_reply": "2023-10-10T22:11:17.656643Z",
     "shell.execute_reply.started": "2023-10-10T22:11:17.643949Z"
    }
   },
   "outputs": [],
   "source": [
    "pd.set_option('display.max_rows', None)\n",
    "pd.set_option('display.max_columns', None)"
   ]
  },
  {
   "cell_type": "code",
   "execution_count": 3,
   "id": "7ae0f8e7-1aab-494c-8817-852c69ee7057",
   "metadata": {
    "execution": {
     "iopub.execute_input": "2023-10-10T22:11:17.659295Z",
     "iopub.status.busy": "2023-10-10T22:11:17.659295Z",
     "iopub.status.idle": "2023-10-10T22:11:17.725509Z",
     "shell.execute_reply": "2023-10-10T22:11:17.723454Z",
     "shell.execute_reply.started": "2023-10-10T22:11:17.659295Z"
    }
   },
   "outputs": [
    {
     "name": "stdout",
     "output_type": "stream",
     "text": [
      "(1460, 81)\n",
      "(1459, 80)\n"
     ]
    }
   ],
   "source": [
    "df_train = pd.read_csv('data_downloaded/train.csv')\n",
    "df_test = pd.read_csv('data_downloaded/test.csv')\n",
    "\n",
    "print(df_train.shape)\n",
    "print(df_test.shape)"
   ]
  },
  {
   "cell_type": "code",
   "execution_count": 4,
   "id": "335ff604-9b20-4e73-89b0-dc0a2c3c4067",
   "metadata": {
    "execution": {
     "iopub.execute_input": "2023-10-10T22:11:17.728602Z",
     "iopub.status.busy": "2023-10-10T22:11:17.725509Z",
     "iopub.status.idle": "2023-10-10T22:11:17.742466Z",
     "shell.execute_reply": "2023-10-10T22:11:17.742320Z",
     "shell.execute_reply.started": "2023-10-10T22:11:17.728602Z"
    }
   },
   "outputs": [
    {
     "name": "stdout",
     "output_type": "stream",
     "text": [
      "(2919, 81)\n"
     ]
    }
   ],
   "source": [
    "df_merge = pd.concat([df_train, df_test], ignore_index=True)\n",
    "print(df_merge.shape)"
   ]
  },
  {
   "cell_type": "markdown",
   "id": "5e91a443-ef7a-4ffc-acf9-d8460c72abc9",
   "metadata": {},
   "source": [
    "## Exploring the dataset"
   ]
  },
  {
   "cell_type": "code",
   "execution_count": 5,
   "id": "efe11d10-2cf8-4ed2-9eca-79f49e0affdb",
   "metadata": {
    "execution": {
     "iopub.execute_input": "2023-10-10T22:11:17.746392Z",
     "iopub.status.busy": "2023-10-10T22:11:17.746392Z",
     "iopub.status.idle": "2023-10-10T22:11:17.832169Z",
     "shell.execute_reply": "2023-10-10T22:11:17.832169Z",
     "shell.execute_reply.started": "2023-10-10T22:11:17.746392Z"
    },
    "scrolled": true
   },
   "outputs": [
    {
     "data": {
      "text/html": [
       "<div>\n",
       "<style scoped>\n",
       "    .dataframe tbody tr th:only-of-type {\n",
       "        vertical-align: middle;\n",
       "    }\n",
       "\n",
       "    .dataframe tbody tr th {\n",
       "        vertical-align: top;\n",
       "    }\n",
       "\n",
       "    .dataframe thead th {\n",
       "        text-align: right;\n",
       "    }\n",
       "</style>\n",
       "<table border=\"1\" class=\"dataframe\">\n",
       "  <thead>\n",
       "    <tr style=\"text-align: right;\">\n",
       "      <th></th>\n",
       "      <th>Id</th>\n",
       "      <th>MSSubClass</th>\n",
       "      <th>MSZoning</th>\n",
       "      <th>LotFrontage</th>\n",
       "      <th>LotArea</th>\n",
       "      <th>Street</th>\n",
       "      <th>Alley</th>\n",
       "      <th>LotShape</th>\n",
       "      <th>LandContour</th>\n",
       "      <th>Utilities</th>\n",
       "      <th>LotConfig</th>\n",
       "      <th>LandSlope</th>\n",
       "      <th>Neighborhood</th>\n",
       "      <th>Condition1</th>\n",
       "      <th>Condition2</th>\n",
       "      <th>BldgType</th>\n",
       "      <th>HouseStyle</th>\n",
       "      <th>OverallQual</th>\n",
       "      <th>OverallCond</th>\n",
       "      <th>YearBuilt</th>\n",
       "      <th>YearRemodAdd</th>\n",
       "      <th>RoofStyle</th>\n",
       "      <th>RoofMatl</th>\n",
       "      <th>Exterior1st</th>\n",
       "      <th>Exterior2nd</th>\n",
       "      <th>MasVnrType</th>\n",
       "      <th>MasVnrArea</th>\n",
       "      <th>ExterQual</th>\n",
       "      <th>ExterCond</th>\n",
       "      <th>Foundation</th>\n",
       "      <th>BsmtQual</th>\n",
       "      <th>BsmtCond</th>\n",
       "      <th>BsmtExposure</th>\n",
       "      <th>BsmtFinType1</th>\n",
       "      <th>BsmtFinSF1</th>\n",
       "      <th>BsmtFinType2</th>\n",
       "      <th>BsmtFinSF2</th>\n",
       "      <th>BsmtUnfSF</th>\n",
       "      <th>TotalBsmtSF</th>\n",
       "      <th>Heating</th>\n",
       "      <th>HeatingQC</th>\n",
       "      <th>CentralAir</th>\n",
       "      <th>Electrical</th>\n",
       "      <th>1stFlrSF</th>\n",
       "      <th>2ndFlrSF</th>\n",
       "      <th>LowQualFinSF</th>\n",
       "      <th>GrLivArea</th>\n",
       "      <th>BsmtFullBath</th>\n",
       "      <th>BsmtHalfBath</th>\n",
       "      <th>FullBath</th>\n",
       "      <th>HalfBath</th>\n",
       "      <th>BedroomAbvGr</th>\n",
       "      <th>KitchenAbvGr</th>\n",
       "      <th>KitchenQual</th>\n",
       "      <th>TotRmsAbvGrd</th>\n",
       "      <th>Functional</th>\n",
       "      <th>Fireplaces</th>\n",
       "      <th>FireplaceQu</th>\n",
       "      <th>GarageType</th>\n",
       "      <th>GarageYrBlt</th>\n",
       "      <th>GarageFinish</th>\n",
       "      <th>GarageCars</th>\n",
       "      <th>GarageArea</th>\n",
       "      <th>GarageQual</th>\n",
       "      <th>GarageCond</th>\n",
       "      <th>PavedDrive</th>\n",
       "      <th>WoodDeckSF</th>\n",
       "      <th>OpenPorchSF</th>\n",
       "      <th>EnclosedPorch</th>\n",
       "      <th>3SsnPorch</th>\n",
       "      <th>ScreenPorch</th>\n",
       "      <th>PoolArea</th>\n",
       "      <th>PoolQC</th>\n",
       "      <th>Fence</th>\n",
       "      <th>MiscFeature</th>\n",
       "      <th>MiscVal</th>\n",
       "      <th>MoSold</th>\n",
       "      <th>YrSold</th>\n",
       "      <th>SaleType</th>\n",
       "      <th>SaleCondition</th>\n",
       "      <th>SalePrice</th>\n",
       "    </tr>\n",
       "  </thead>\n",
       "  <tbody>\n",
       "    <tr>\n",
       "      <th>0</th>\n",
       "      <td>1</td>\n",
       "      <td>60</td>\n",
       "      <td>RL</td>\n",
       "      <td>65.0</td>\n",
       "      <td>8450</td>\n",
       "      <td>Pave</td>\n",
       "      <td>NaN</td>\n",
       "      <td>Reg</td>\n",
       "      <td>Lvl</td>\n",
       "      <td>AllPub</td>\n",
       "      <td>Inside</td>\n",
       "      <td>Gtl</td>\n",
       "      <td>CollgCr</td>\n",
       "      <td>Norm</td>\n",
       "      <td>Norm</td>\n",
       "      <td>1Fam</td>\n",
       "      <td>2Story</td>\n",
       "      <td>7</td>\n",
       "      <td>5</td>\n",
       "      <td>2003</td>\n",
       "      <td>2003</td>\n",
       "      <td>Gable</td>\n",
       "      <td>CompShg</td>\n",
       "      <td>VinylSd</td>\n",
       "      <td>VinylSd</td>\n",
       "      <td>BrkFace</td>\n",
       "      <td>196.0</td>\n",
       "      <td>Gd</td>\n",
       "      <td>TA</td>\n",
       "      <td>PConc</td>\n",
       "      <td>Gd</td>\n",
       "      <td>TA</td>\n",
       "      <td>No</td>\n",
       "      <td>GLQ</td>\n",
       "      <td>706.0</td>\n",
       "      <td>Unf</td>\n",
       "      <td>0.0</td>\n",
       "      <td>150.0</td>\n",
       "      <td>856.0</td>\n",
       "      <td>GasA</td>\n",
       "      <td>Ex</td>\n",
       "      <td>Y</td>\n",
       "      <td>SBrkr</td>\n",
       "      <td>856</td>\n",
       "      <td>854</td>\n",
       "      <td>0</td>\n",
       "      <td>1710</td>\n",
       "      <td>1.0</td>\n",
       "      <td>0.0</td>\n",
       "      <td>2</td>\n",
       "      <td>1</td>\n",
       "      <td>3</td>\n",
       "      <td>1</td>\n",
       "      <td>Gd</td>\n",
       "      <td>8</td>\n",
       "      <td>Typ</td>\n",
       "      <td>0</td>\n",
       "      <td>NaN</td>\n",
       "      <td>Attchd</td>\n",
       "      <td>2003.0</td>\n",
       "      <td>RFn</td>\n",
       "      <td>2.0</td>\n",
       "      <td>548.0</td>\n",
       "      <td>TA</td>\n",
       "      <td>TA</td>\n",
       "      <td>Y</td>\n",
       "      <td>0</td>\n",
       "      <td>61</td>\n",
       "      <td>0</td>\n",
       "      <td>0</td>\n",
       "      <td>0</td>\n",
       "      <td>0</td>\n",
       "      <td>NaN</td>\n",
       "      <td>NaN</td>\n",
       "      <td>NaN</td>\n",
       "      <td>0</td>\n",
       "      <td>2</td>\n",
       "      <td>2008</td>\n",
       "      <td>WD</td>\n",
       "      <td>Normal</td>\n",
       "      <td>208500.0</td>\n",
       "    </tr>\n",
       "    <tr>\n",
       "      <th>1</th>\n",
       "      <td>2</td>\n",
       "      <td>20</td>\n",
       "      <td>RL</td>\n",
       "      <td>80.0</td>\n",
       "      <td>9600</td>\n",
       "      <td>Pave</td>\n",
       "      <td>NaN</td>\n",
       "      <td>Reg</td>\n",
       "      <td>Lvl</td>\n",
       "      <td>AllPub</td>\n",
       "      <td>FR2</td>\n",
       "      <td>Gtl</td>\n",
       "      <td>Veenker</td>\n",
       "      <td>Feedr</td>\n",
       "      <td>Norm</td>\n",
       "      <td>1Fam</td>\n",
       "      <td>1Story</td>\n",
       "      <td>6</td>\n",
       "      <td>8</td>\n",
       "      <td>1976</td>\n",
       "      <td>1976</td>\n",
       "      <td>Gable</td>\n",
       "      <td>CompShg</td>\n",
       "      <td>MetalSd</td>\n",
       "      <td>MetalSd</td>\n",
       "      <td>None</td>\n",
       "      <td>0.0</td>\n",
       "      <td>TA</td>\n",
       "      <td>TA</td>\n",
       "      <td>CBlock</td>\n",
       "      <td>Gd</td>\n",
       "      <td>TA</td>\n",
       "      <td>Gd</td>\n",
       "      <td>ALQ</td>\n",
       "      <td>978.0</td>\n",
       "      <td>Unf</td>\n",
       "      <td>0.0</td>\n",
       "      <td>284.0</td>\n",
       "      <td>1262.0</td>\n",
       "      <td>GasA</td>\n",
       "      <td>Ex</td>\n",
       "      <td>Y</td>\n",
       "      <td>SBrkr</td>\n",
       "      <td>1262</td>\n",
       "      <td>0</td>\n",
       "      <td>0</td>\n",
       "      <td>1262</td>\n",
       "      <td>0.0</td>\n",
       "      <td>1.0</td>\n",
       "      <td>2</td>\n",
       "      <td>0</td>\n",
       "      <td>3</td>\n",
       "      <td>1</td>\n",
       "      <td>TA</td>\n",
       "      <td>6</td>\n",
       "      <td>Typ</td>\n",
       "      <td>1</td>\n",
       "      <td>TA</td>\n",
       "      <td>Attchd</td>\n",
       "      <td>1976.0</td>\n",
       "      <td>RFn</td>\n",
       "      <td>2.0</td>\n",
       "      <td>460.0</td>\n",
       "      <td>TA</td>\n",
       "      <td>TA</td>\n",
       "      <td>Y</td>\n",
       "      <td>298</td>\n",
       "      <td>0</td>\n",
       "      <td>0</td>\n",
       "      <td>0</td>\n",
       "      <td>0</td>\n",
       "      <td>0</td>\n",
       "      <td>NaN</td>\n",
       "      <td>NaN</td>\n",
       "      <td>NaN</td>\n",
       "      <td>0</td>\n",
       "      <td>5</td>\n",
       "      <td>2007</td>\n",
       "      <td>WD</td>\n",
       "      <td>Normal</td>\n",
       "      <td>181500.0</td>\n",
       "    </tr>\n",
       "    <tr>\n",
       "      <th>2</th>\n",
       "      <td>3</td>\n",
       "      <td>60</td>\n",
       "      <td>RL</td>\n",
       "      <td>68.0</td>\n",
       "      <td>11250</td>\n",
       "      <td>Pave</td>\n",
       "      <td>NaN</td>\n",
       "      <td>IR1</td>\n",
       "      <td>Lvl</td>\n",
       "      <td>AllPub</td>\n",
       "      <td>Inside</td>\n",
       "      <td>Gtl</td>\n",
       "      <td>CollgCr</td>\n",
       "      <td>Norm</td>\n",
       "      <td>Norm</td>\n",
       "      <td>1Fam</td>\n",
       "      <td>2Story</td>\n",
       "      <td>7</td>\n",
       "      <td>5</td>\n",
       "      <td>2001</td>\n",
       "      <td>2002</td>\n",
       "      <td>Gable</td>\n",
       "      <td>CompShg</td>\n",
       "      <td>VinylSd</td>\n",
       "      <td>VinylSd</td>\n",
       "      <td>BrkFace</td>\n",
       "      <td>162.0</td>\n",
       "      <td>Gd</td>\n",
       "      <td>TA</td>\n",
       "      <td>PConc</td>\n",
       "      <td>Gd</td>\n",
       "      <td>TA</td>\n",
       "      <td>Mn</td>\n",
       "      <td>GLQ</td>\n",
       "      <td>486.0</td>\n",
       "      <td>Unf</td>\n",
       "      <td>0.0</td>\n",
       "      <td>434.0</td>\n",
       "      <td>920.0</td>\n",
       "      <td>GasA</td>\n",
       "      <td>Ex</td>\n",
       "      <td>Y</td>\n",
       "      <td>SBrkr</td>\n",
       "      <td>920</td>\n",
       "      <td>866</td>\n",
       "      <td>0</td>\n",
       "      <td>1786</td>\n",
       "      <td>1.0</td>\n",
       "      <td>0.0</td>\n",
       "      <td>2</td>\n",
       "      <td>1</td>\n",
       "      <td>3</td>\n",
       "      <td>1</td>\n",
       "      <td>Gd</td>\n",
       "      <td>6</td>\n",
       "      <td>Typ</td>\n",
       "      <td>1</td>\n",
       "      <td>TA</td>\n",
       "      <td>Attchd</td>\n",
       "      <td>2001.0</td>\n",
       "      <td>RFn</td>\n",
       "      <td>2.0</td>\n",
       "      <td>608.0</td>\n",
       "      <td>TA</td>\n",
       "      <td>TA</td>\n",
       "      <td>Y</td>\n",
       "      <td>0</td>\n",
       "      <td>42</td>\n",
       "      <td>0</td>\n",
       "      <td>0</td>\n",
       "      <td>0</td>\n",
       "      <td>0</td>\n",
       "      <td>NaN</td>\n",
       "      <td>NaN</td>\n",
       "      <td>NaN</td>\n",
       "      <td>0</td>\n",
       "      <td>9</td>\n",
       "      <td>2008</td>\n",
       "      <td>WD</td>\n",
       "      <td>Normal</td>\n",
       "      <td>223500.0</td>\n",
       "    </tr>\n",
       "    <tr>\n",
       "      <th>3</th>\n",
       "      <td>4</td>\n",
       "      <td>70</td>\n",
       "      <td>RL</td>\n",
       "      <td>60.0</td>\n",
       "      <td>9550</td>\n",
       "      <td>Pave</td>\n",
       "      <td>NaN</td>\n",
       "      <td>IR1</td>\n",
       "      <td>Lvl</td>\n",
       "      <td>AllPub</td>\n",
       "      <td>Corner</td>\n",
       "      <td>Gtl</td>\n",
       "      <td>Crawfor</td>\n",
       "      <td>Norm</td>\n",
       "      <td>Norm</td>\n",
       "      <td>1Fam</td>\n",
       "      <td>2Story</td>\n",
       "      <td>7</td>\n",
       "      <td>5</td>\n",
       "      <td>1915</td>\n",
       "      <td>1970</td>\n",
       "      <td>Gable</td>\n",
       "      <td>CompShg</td>\n",
       "      <td>Wd Sdng</td>\n",
       "      <td>Wd Shng</td>\n",
       "      <td>None</td>\n",
       "      <td>0.0</td>\n",
       "      <td>TA</td>\n",
       "      <td>TA</td>\n",
       "      <td>BrkTil</td>\n",
       "      <td>TA</td>\n",
       "      <td>Gd</td>\n",
       "      <td>No</td>\n",
       "      <td>ALQ</td>\n",
       "      <td>216.0</td>\n",
       "      <td>Unf</td>\n",
       "      <td>0.0</td>\n",
       "      <td>540.0</td>\n",
       "      <td>756.0</td>\n",
       "      <td>GasA</td>\n",
       "      <td>Gd</td>\n",
       "      <td>Y</td>\n",
       "      <td>SBrkr</td>\n",
       "      <td>961</td>\n",
       "      <td>756</td>\n",
       "      <td>0</td>\n",
       "      <td>1717</td>\n",
       "      <td>1.0</td>\n",
       "      <td>0.0</td>\n",
       "      <td>1</td>\n",
       "      <td>0</td>\n",
       "      <td>3</td>\n",
       "      <td>1</td>\n",
       "      <td>Gd</td>\n",
       "      <td>7</td>\n",
       "      <td>Typ</td>\n",
       "      <td>1</td>\n",
       "      <td>Gd</td>\n",
       "      <td>Detchd</td>\n",
       "      <td>1998.0</td>\n",
       "      <td>Unf</td>\n",
       "      <td>3.0</td>\n",
       "      <td>642.0</td>\n",
       "      <td>TA</td>\n",
       "      <td>TA</td>\n",
       "      <td>Y</td>\n",
       "      <td>0</td>\n",
       "      <td>35</td>\n",
       "      <td>272</td>\n",
       "      <td>0</td>\n",
       "      <td>0</td>\n",
       "      <td>0</td>\n",
       "      <td>NaN</td>\n",
       "      <td>NaN</td>\n",
       "      <td>NaN</td>\n",
       "      <td>0</td>\n",
       "      <td>2</td>\n",
       "      <td>2006</td>\n",
       "      <td>WD</td>\n",
       "      <td>Abnorml</td>\n",
       "      <td>140000.0</td>\n",
       "    </tr>\n",
       "    <tr>\n",
       "      <th>4</th>\n",
       "      <td>5</td>\n",
       "      <td>60</td>\n",
       "      <td>RL</td>\n",
       "      <td>84.0</td>\n",
       "      <td>14260</td>\n",
       "      <td>Pave</td>\n",
       "      <td>NaN</td>\n",
       "      <td>IR1</td>\n",
       "      <td>Lvl</td>\n",
       "      <td>AllPub</td>\n",
       "      <td>FR2</td>\n",
       "      <td>Gtl</td>\n",
       "      <td>NoRidge</td>\n",
       "      <td>Norm</td>\n",
       "      <td>Norm</td>\n",
       "      <td>1Fam</td>\n",
       "      <td>2Story</td>\n",
       "      <td>8</td>\n",
       "      <td>5</td>\n",
       "      <td>2000</td>\n",
       "      <td>2000</td>\n",
       "      <td>Gable</td>\n",
       "      <td>CompShg</td>\n",
       "      <td>VinylSd</td>\n",
       "      <td>VinylSd</td>\n",
       "      <td>BrkFace</td>\n",
       "      <td>350.0</td>\n",
       "      <td>Gd</td>\n",
       "      <td>TA</td>\n",
       "      <td>PConc</td>\n",
       "      <td>Gd</td>\n",
       "      <td>TA</td>\n",
       "      <td>Av</td>\n",
       "      <td>GLQ</td>\n",
       "      <td>655.0</td>\n",
       "      <td>Unf</td>\n",
       "      <td>0.0</td>\n",
       "      <td>490.0</td>\n",
       "      <td>1145.0</td>\n",
       "      <td>GasA</td>\n",
       "      <td>Ex</td>\n",
       "      <td>Y</td>\n",
       "      <td>SBrkr</td>\n",
       "      <td>1145</td>\n",
       "      <td>1053</td>\n",
       "      <td>0</td>\n",
       "      <td>2198</td>\n",
       "      <td>1.0</td>\n",
       "      <td>0.0</td>\n",
       "      <td>2</td>\n",
       "      <td>1</td>\n",
       "      <td>4</td>\n",
       "      <td>1</td>\n",
       "      <td>Gd</td>\n",
       "      <td>9</td>\n",
       "      <td>Typ</td>\n",
       "      <td>1</td>\n",
       "      <td>TA</td>\n",
       "      <td>Attchd</td>\n",
       "      <td>2000.0</td>\n",
       "      <td>RFn</td>\n",
       "      <td>3.0</td>\n",
       "      <td>836.0</td>\n",
       "      <td>TA</td>\n",
       "      <td>TA</td>\n",
       "      <td>Y</td>\n",
       "      <td>192</td>\n",
       "      <td>84</td>\n",
       "      <td>0</td>\n",
       "      <td>0</td>\n",
       "      <td>0</td>\n",
       "      <td>0</td>\n",
       "      <td>NaN</td>\n",
       "      <td>NaN</td>\n",
       "      <td>NaN</td>\n",
       "      <td>0</td>\n",
       "      <td>12</td>\n",
       "      <td>2008</td>\n",
       "      <td>WD</td>\n",
       "      <td>Normal</td>\n",
       "      <td>250000.0</td>\n",
       "    </tr>\n",
       "  </tbody>\n",
       "</table>\n",
       "</div>"
      ],
      "text/plain": [
       "   Id  MSSubClass MSZoning  LotFrontage  LotArea Street Alley LotShape  \\\n",
       "0   1          60       RL         65.0     8450   Pave   NaN      Reg   \n",
       "1   2          20       RL         80.0     9600   Pave   NaN      Reg   \n",
       "2   3          60       RL         68.0    11250   Pave   NaN      IR1   \n",
       "3   4          70       RL         60.0     9550   Pave   NaN      IR1   \n",
       "4   5          60       RL         84.0    14260   Pave   NaN      IR1   \n",
       "\n",
       "  LandContour Utilities LotConfig LandSlope Neighborhood Condition1  \\\n",
       "0         Lvl    AllPub    Inside       Gtl      CollgCr       Norm   \n",
       "1         Lvl    AllPub       FR2       Gtl      Veenker      Feedr   \n",
       "2         Lvl    AllPub    Inside       Gtl      CollgCr       Norm   \n",
       "3         Lvl    AllPub    Corner       Gtl      Crawfor       Norm   \n",
       "4         Lvl    AllPub       FR2       Gtl      NoRidge       Norm   \n",
       "\n",
       "  Condition2 BldgType HouseStyle  OverallQual  OverallCond  YearBuilt  \\\n",
       "0       Norm     1Fam     2Story            7            5       2003   \n",
       "1       Norm     1Fam     1Story            6            8       1976   \n",
       "2       Norm     1Fam     2Story            7            5       2001   \n",
       "3       Norm     1Fam     2Story            7            5       1915   \n",
       "4       Norm     1Fam     2Story            8            5       2000   \n",
       "\n",
       "   YearRemodAdd RoofStyle RoofMatl Exterior1st Exterior2nd MasVnrType  \\\n",
       "0          2003     Gable  CompShg     VinylSd     VinylSd    BrkFace   \n",
       "1          1976     Gable  CompShg     MetalSd     MetalSd       None   \n",
       "2          2002     Gable  CompShg     VinylSd     VinylSd    BrkFace   \n",
       "3          1970     Gable  CompShg     Wd Sdng     Wd Shng       None   \n",
       "4          2000     Gable  CompShg     VinylSd     VinylSd    BrkFace   \n",
       "\n",
       "   MasVnrArea ExterQual ExterCond Foundation BsmtQual BsmtCond BsmtExposure  \\\n",
       "0       196.0        Gd        TA      PConc       Gd       TA           No   \n",
       "1         0.0        TA        TA     CBlock       Gd       TA           Gd   \n",
       "2       162.0        Gd        TA      PConc       Gd       TA           Mn   \n",
       "3         0.0        TA        TA     BrkTil       TA       Gd           No   \n",
       "4       350.0        Gd        TA      PConc       Gd       TA           Av   \n",
       "\n",
       "  BsmtFinType1  BsmtFinSF1 BsmtFinType2  BsmtFinSF2  BsmtUnfSF  TotalBsmtSF  \\\n",
       "0          GLQ       706.0          Unf         0.0      150.0        856.0   \n",
       "1          ALQ       978.0          Unf         0.0      284.0       1262.0   \n",
       "2          GLQ       486.0          Unf         0.0      434.0        920.0   \n",
       "3          ALQ       216.0          Unf         0.0      540.0        756.0   \n",
       "4          GLQ       655.0          Unf         0.0      490.0       1145.0   \n",
       "\n",
       "  Heating HeatingQC CentralAir Electrical  1stFlrSF  2ndFlrSF  LowQualFinSF  \\\n",
       "0    GasA        Ex          Y      SBrkr       856       854             0   \n",
       "1    GasA        Ex          Y      SBrkr      1262         0             0   \n",
       "2    GasA        Ex          Y      SBrkr       920       866             0   \n",
       "3    GasA        Gd          Y      SBrkr       961       756             0   \n",
       "4    GasA        Ex          Y      SBrkr      1145      1053             0   \n",
       "\n",
       "   GrLivArea  BsmtFullBath  BsmtHalfBath  FullBath  HalfBath  BedroomAbvGr  \\\n",
       "0       1710           1.0           0.0         2         1             3   \n",
       "1       1262           0.0           1.0         2         0             3   \n",
       "2       1786           1.0           0.0         2         1             3   \n",
       "3       1717           1.0           0.0         1         0             3   \n",
       "4       2198           1.0           0.0         2         1             4   \n",
       "\n",
       "   KitchenAbvGr KitchenQual  TotRmsAbvGrd Functional  Fireplaces FireplaceQu  \\\n",
       "0             1          Gd             8        Typ           0         NaN   \n",
       "1             1          TA             6        Typ           1          TA   \n",
       "2             1          Gd             6        Typ           1          TA   \n",
       "3             1          Gd             7        Typ           1          Gd   \n",
       "4             1          Gd             9        Typ           1          TA   \n",
       "\n",
       "  GarageType  GarageYrBlt GarageFinish  GarageCars  GarageArea GarageQual  \\\n",
       "0     Attchd       2003.0          RFn         2.0       548.0         TA   \n",
       "1     Attchd       1976.0          RFn         2.0       460.0         TA   \n",
       "2     Attchd       2001.0          RFn         2.0       608.0         TA   \n",
       "3     Detchd       1998.0          Unf         3.0       642.0         TA   \n",
       "4     Attchd       2000.0          RFn         3.0       836.0         TA   \n",
       "\n",
       "  GarageCond PavedDrive  WoodDeckSF  OpenPorchSF  EnclosedPorch  3SsnPorch  \\\n",
       "0         TA          Y           0           61              0          0   \n",
       "1         TA          Y         298            0              0          0   \n",
       "2         TA          Y           0           42              0          0   \n",
       "3         TA          Y           0           35            272          0   \n",
       "4         TA          Y         192           84              0          0   \n",
       "\n",
       "   ScreenPorch  PoolArea PoolQC Fence MiscFeature  MiscVal  MoSold  YrSold  \\\n",
       "0            0         0    NaN   NaN         NaN        0       2    2008   \n",
       "1            0         0    NaN   NaN         NaN        0       5    2007   \n",
       "2            0         0    NaN   NaN         NaN        0       9    2008   \n",
       "3            0         0    NaN   NaN         NaN        0       2    2006   \n",
       "4            0         0    NaN   NaN         NaN        0      12    2008   \n",
       "\n",
       "  SaleType SaleCondition  SalePrice  \n",
       "0       WD        Normal   208500.0  \n",
       "1       WD        Normal   181500.0  \n",
       "2       WD        Normal   223500.0  \n",
       "3       WD       Abnorml   140000.0  \n",
       "4       WD        Normal   250000.0  "
      ]
     },
     "execution_count": 5,
     "metadata": {},
     "output_type": "execute_result"
    }
   ],
   "source": [
    "df_merge.head()"
   ]
  },
  {
   "cell_type": "markdown",
   "id": "05579e19-4bb9-4e7e-ae1a-e9db73c87a92",
   "metadata": {},
   "source": [
    "### Check for Missing Values"
   ]
  },
  {
   "cell_type": "code",
   "execution_count": 6,
   "id": "6054c4d8-706a-4131-9156-451dfd91f552",
   "metadata": {
    "execution": {
     "iopub.execute_input": "2023-10-10T22:11:17.835124Z",
     "iopub.status.busy": "2023-10-10T22:11:17.834003Z",
     "iopub.status.idle": "2023-10-10T22:11:17.870472Z",
     "shell.execute_reply": "2023-10-10T22:11:17.869936Z",
     "shell.execute_reply.started": "2023-10-10T22:11:17.835124Z"
    },
    "scrolled": true
   },
   "outputs": [
    {
     "data": {
      "text/plain": [
       "PoolQC           2909\n",
       "MiscFeature      2814\n",
       "Alley            2721\n",
       "Fence            2348\n",
       "SalePrice        1459\n",
       "FireplaceQu      1420\n",
       "LotFrontage       486\n",
       "GarageFinish      159\n",
       "GarageQual        159\n",
       "GarageCond        159\n",
       "GarageYrBlt       159\n",
       "GarageType        157\n",
       "BsmtExposure       82\n",
       "BsmtCond           82\n",
       "BsmtQual           81\n",
       "BsmtFinType2       80\n",
       "BsmtFinType1       79\n",
       "MasVnrType         24\n",
       "MasVnrArea         23\n",
       "MSZoning            4\n",
       "Functional          2\n",
       "BsmtHalfBath        2\n",
       "BsmtFullBath        2\n",
       "Utilities           2\n",
       "BsmtFinSF1          1\n",
       "BsmtFinSF2          1\n",
       "SaleType            1\n",
       "Electrical          1\n",
       "GarageCars          1\n",
       "TotalBsmtSF         1\n",
       "GarageArea          1\n",
       "Exterior2nd         1\n",
       "Exterior1st         1\n",
       "KitchenQual         1\n",
       "BsmtUnfSF           1\n",
       "Fireplaces          0\n",
       "TotRmsAbvGrd        0\n",
       "SaleCondition       0\n",
       "OpenPorchSF         0\n",
       "YrSold              0\n",
       "WoodDeckSF          0\n",
       "MoSold              0\n",
       "MiscVal             0\n",
       "PoolArea            0\n",
       "ScreenPorch         0\n",
       "BedroomAbvGr        0\n",
       "3SsnPorch           0\n",
       "EnclosedPorch       0\n",
       "PavedDrive          0\n",
       "KitchenAbvGr        0\n",
       "Id                  0\n",
       "HalfBath            0\n",
       "FullBath            0\n",
       "LotArea             0\n",
       "Street              0\n",
       "LotShape            0\n",
       "LandContour         0\n",
       "LotConfig           0\n",
       "LandSlope           0\n",
       "Neighborhood        0\n",
       "Condition1          0\n",
       "Condition2          0\n",
       "BldgType            0\n",
       "HouseStyle          0\n",
       "OverallQual         0\n",
       "OverallCond         0\n",
       "YearBuilt           0\n",
       "YearRemodAdd        0\n",
       "RoofStyle           0\n",
       "RoofMatl            0\n",
       "ExterQual           0\n",
       "ExterCond           0\n",
       "Foundation          0\n",
       "Heating             0\n",
       "MSSubClass          0\n",
       "CentralAir          0\n",
       "1stFlrSF            0\n",
       "2ndFlrSF            0\n",
       "LowQualFinSF        0\n",
       "GrLivArea           0\n",
       "HeatingQC           0\n",
       "dtype: int64"
      ]
     },
     "execution_count": 6,
     "metadata": {},
     "output_type": "execute_result"
    }
   ],
   "source": [
    "df_merge.isnull().sum().sort_values(ascending=False)"
   ]
  },
  {
   "cell_type": "markdown",
   "id": "55b6838f-6ef9-4742-92a4-15d89d351f03",
   "metadata": {
    "execution": {
     "iopub.execute_input": "2023-10-08T21:17:49.574601Z",
     "iopub.status.busy": "2023-10-08T21:17:49.574601Z",
     "iopub.status.idle": "2023-10-08T21:17:49.588441Z",
     "shell.execute_reply": "2023-10-08T21:17:49.587383Z",
     "shell.execute_reply.started": "2023-10-08T21:17:49.574601Z"
    }
   },
   "source": [
    "### For the sake of simplicity lets drop nan values having less than 25 values"
   ]
  },
  {
   "cell_type": "code",
   "execution_count": 7,
   "id": "2709a5d6-8388-488f-ad50-43712b13b892",
   "metadata": {
    "execution": {
     "iopub.execute_input": "2023-10-10T22:11:17.871984Z",
     "iopub.status.busy": "2023-10-10T22:11:17.871984Z",
     "iopub.status.idle": "2023-10-10T22:11:17.882771Z",
     "shell.execute_reply": "2023-10-10T22:11:17.882771Z",
     "shell.execute_reply.started": "2023-10-10T22:11:17.871984Z"
    }
   },
   "outputs": [],
   "source": [
    "# i want to drop nan values less then 25\n",
    "def drop_nan_lessthen(df, nan_qty):\n",
    "    '''\n",
    "    we give a df and a quantity value (integer)\n",
    "    it checks nan values for the df\n",
    "    and drop the values less then this qty amount\n",
    "    '''\n",
    "    drop_columns = []\n",
    "    nan_series = df.isnull().sum()\n",
    "    for i,v in nan_series.iteritems():\n",
    "        if v < nan_qty:\n",
    "            drop_columns.append(i)\n",
    "    df.dropna(subset=drop_columns, inplace=True)\n",
    "    return df"
   ]
  },
  {
   "cell_type": "code",
   "execution_count": 8,
   "id": "e059db4f-1f65-40f3-a799-6d481e20961e",
   "metadata": {
    "execution": {
     "iopub.execute_input": "2023-10-10T22:11:17.885870Z",
     "iopub.status.busy": "2023-10-10T22:11:17.884502Z",
     "iopub.status.idle": "2023-10-10T22:11:17.933449Z",
     "shell.execute_reply": "2023-10-10T22:11:17.933449Z",
     "shell.execute_reply.started": "2023-10-10T22:11:17.885870Z"
    }
   },
   "outputs": [],
   "source": [
    "df_merge = drop_nan_lessthen(df_merge, 25)"
   ]
  },
  {
   "cell_type": "code",
   "execution_count": 9,
   "id": "94ffa049-a1ab-4678-8d87-9babde3df056",
   "metadata": {
    "execution": {
     "iopub.execute_input": "2023-10-10T22:11:17.934930Z",
     "iopub.status.busy": "2023-10-10T22:11:17.934930Z",
     "iopub.status.idle": "2023-10-10T22:11:17.943120Z",
     "shell.execute_reply": "2023-10-10T22:11:17.942049Z",
     "shell.execute_reply.started": "2023-10-10T22:11:17.934930Z"
    }
   },
   "outputs": [
    {
     "data": {
      "text/plain": [
       "(2882, 81)"
      ]
     },
     "execution_count": 9,
     "metadata": {},
     "output_type": "execute_result"
    }
   ],
   "source": [
    "df_merge.shape"
   ]
  },
  {
   "cell_type": "code",
   "execution_count": 10,
   "id": "eaee5631-9b79-45cb-b39b-d09e253c7ec9",
   "metadata": {
    "execution": {
     "iopub.execute_input": "2023-10-10T22:11:17.944982Z",
     "iopub.status.busy": "2023-10-10T22:11:17.943120Z",
     "iopub.status.idle": "2023-10-10T22:11:17.991063Z",
     "shell.execute_reply": "2023-10-10T22:11:17.991063Z",
     "shell.execute_reply.started": "2023-10-10T22:11:17.944982Z"
    },
    "scrolled": true
   },
   "outputs": [
    {
     "data": {
      "text/plain": [
       "PoolQC          2872\n",
       "MiscFeature     2778\n",
       "Alley           2687\n",
       "Fence           2313\n",
       "SalePrice       1431\n",
       "FireplaceQu     1401\n",
       "LotFrontage      478\n",
       "GarageYrBlt      156\n",
       "GarageFinish     156\n",
       "GarageQual       156\n",
       "GarageCond       156\n",
       "GarageType       155\n",
       "BsmtExposure      77\n",
       "BsmtCond          77\n",
       "BsmtQual          76\n",
       "BsmtFinType2      75\n",
       "BsmtFinType1      74\n",
       "dtype: int64"
      ]
     },
     "execution_count": 10,
     "metadata": {},
     "output_type": "execute_result"
    }
   ],
   "source": [
    "missing_values = df_merge.isnull().sum()[df_merge.isnull().sum().sort_values(ascending=False)>25].sort_values(ascending=False)\n",
    "missing_values"
   ]
  },
  {
   "cell_type": "code",
   "execution_count": null,
   "id": "abbd4a49-c5da-4eb4-b023-db0686b3f0d7",
   "metadata": {},
   "outputs": [],
   "source": []
  },
  {
   "cell_type": "code",
   "execution_count": 11,
   "id": "aafeb8e0-4feb-4136-ba27-e6affe37995e",
   "metadata": {
    "execution": {
     "iopub.execute_input": "2023-10-10T22:11:17.993232Z",
     "iopub.status.busy": "2023-10-10T22:11:17.993232Z",
     "iopub.status.idle": "2023-10-10T22:11:18.406387Z",
     "shell.execute_reply": "2023-10-10T22:11:18.406313Z",
     "shell.execute_reply.started": "2023-10-10T22:11:17.993232Z"
    }
   },
   "outputs": [
    {
     "data": {
      "image/png": "[encoded data removed]",
      "text/plain": [
       "<Figure size 800x500 with 1 Axes>"
      ]
     },
     "metadata": {},
     "output_type": "display_data"
    }
   ],
   "source": [
    "plt.figure(figsize=(8,5)) \n",
    "ax = sns.barplot(x=missing_values.index, y=missing_values.values)\n",
    "\n",
    "plt.xticks(rotation=90)\n",
    "plt.xlabel('Features with Nan values')\n",
    "plt.ylabel('Nan Value Count')\n",
    "plt.title('Nan Value Counts by Features')\n",
    "\n",
    "for p in ax.patches:\n",
    "    ax.annotate(f'{p.get_height():.0f}', (p.get_x() + p.get_width() / 2., p.get_height()), ha='center', va='bottom')\n",
    "\n",
    "plt.show()"
   ]
  },
  {
   "cell_type": "markdown",
   "id": "fb11d8f0-3401-409c-a453-3cb78327569a",
   "metadata": {},
   "source": [
    "### Lets go column by column for NAN values"
   ]
  },
  {
   "cell_type": "markdown",
   "id": "46e26b77-2ae3-4dd3-bdd7-34c7267af1fc",
   "metadata": {},
   "source": [
    "**NOTE: Not every nan value is missing value:**  \n",
    "firstly we need to understand the real missing values, because some of Nan values in this dataset is not actually missing but only Nan sth like equals to 0**"
   ]
  },
  {
   "cell_type": "code",
   "execution_count": 12,
   "id": "3f5aeab5-c566-4c94-956c-e6c8d9bf69f7",
   "metadata": {
    "execution": {
     "iopub.execute_input": "2023-10-10T22:11:18.409518Z",
     "iopub.status.busy": "2023-10-10T22:11:18.408476Z",
     "iopub.status.idle": "2023-10-10T22:11:18.423627Z",
     "shell.execute_reply": "2023-10-10T22:11:18.422373Z",
     "shell.execute_reply.started": "2023-10-10T22:11:18.409518Z"
    }
   },
   "outputs": [],
   "source": [
    "replacement_dictionary = {\n",
    "                            'PoolQC'      : 'No Pool',\n",
    "                            'MiscFeature' : 'No MiscFeatures',  \n",
    "                            'Alley'       : 'No Alley Access',\n",
    "                            'Fence'       : 'No Fence',\n",
    "                            'FireplaceQu' : 'No FirePlace', \n",
    "                            'GarageFinish': 'No Garage',\n",
    "                            'GarageQual'  : 'No Garage',\n",
    "                            'GarageCond'  : 'No Garage',\n",
    "                            'GarageType'  : 'No Garage',\n",
    "                            'BsmtExposure': 'No Basement',\n",
    "                            'BsmtCond'    : 'No Basement',\n",
    "                            'BsmtQual'    : 'No Basement',\n",
    "                            'BsmtFinType2': 'No Basement',\n",
    "                            'BsmtFinType1': 'No Basement'\n",
    "}"
   ]
  },
  {
   "cell_type": "code",
   "execution_count": 13,
   "id": "7b38ae52-29a8-43c7-a403-1f0f364b34fd",
   "metadata": {
    "execution": {
     "iopub.execute_input": "2023-10-10T22:11:18.425221Z",
     "iopub.status.busy": "2023-10-10T22:11:18.425221Z",
     "iopub.status.idle": "2023-10-10T22:11:18.434098Z",
     "shell.execute_reply": "2023-10-10T22:11:18.434098Z",
     "shell.execute_reply.started": "2023-10-10T22:11:18.425221Z"
    },
    "scrolled": true
   },
   "outputs": [
    {
     "data": {
      "text/plain": [
       "['PoolQC',\n",
       " 'MiscFeature',\n",
       " 'Alley',\n",
       " 'Fence',\n",
       " 'FireplaceQu',\n",
       " 'GarageFinish',\n",
       " 'GarageQual',\n",
       " 'GarageCond',\n",
       " 'GarageType',\n",
       " 'BsmtExposure',\n",
       " 'BsmtCond',\n",
       " 'BsmtQual',\n",
       " 'BsmtFinType2',\n",
       " 'BsmtFinType1']"
      ]
     },
     "execution_count": 13,
     "metadata": {},
     "output_type": "execute_result"
    }
   ],
   "source": [
    "replacement_columns = list(replacement_dictionary.keys())\n",
    "replacement_columns"
   ]
  },
  {
   "cell_type": "code",
   "execution_count": 14,
   "id": "381cd0ed-5480-468d-b289-bbf8a0e0e43a",
   "metadata": {
    "execution": {
     "iopub.execute_input": "2023-10-10T22:11:18.439320Z",
     "iopub.status.busy": "2023-10-10T22:11:18.439320Z",
     "iopub.status.idle": "2023-10-10T22:11:18.463732Z",
     "shell.execute_reply": "2023-10-10T22:11:18.461556Z",
     "shell.execute_reply.started": "2023-10-10T22:11:18.439320Z"
    }
   },
   "outputs": [],
   "source": [
    "for col in replacement_columns:\n",
    "    df_merge[col].fillna(replacement_dictionary[col], inplace=True)"
   ]
  },
  {
   "cell_type": "code",
   "execution_count": 15,
   "id": "b217c6e2-5c0d-43aa-b023-c9acb0799dc6",
   "metadata": {
    "execution": {
     "iopub.execute_input": "2023-10-10T22:11:18.466207Z",
     "iopub.status.busy": "2023-10-10T22:11:18.466207Z",
     "iopub.status.idle": "2023-10-10T22:11:18.493180Z",
     "shell.execute_reply": "2023-10-10T22:11:18.491425Z",
     "shell.execute_reply.started": "2023-10-10T22:11:18.466207Z"
    }
   },
   "outputs": [
    {
     "data": {
      "text/plain": [
       "No Fence    2313\n",
       "MnPrv        327\n",
       "GdPrv        118\n",
       "GdWo         112\n",
       "MnWw          12\n",
       "Name: Fence, dtype: int64"
      ]
     },
     "execution_count": 15,
     "metadata": {},
     "output_type": "execute_result"
    }
   ],
   "source": [
    "# lets check an example filled Nan value\n",
    "df_merge['Fence'].value_counts()"
   ]
  },
  {
   "cell_type": "code",
   "execution_count": 16,
   "id": "155a752e-1f08-4727-aae3-bd7a8b290f25",
   "metadata": {
    "execution": {
     "iopub.execute_input": "2023-10-10T22:11:18.494545Z",
     "iopub.status.busy": "2023-10-10T22:11:18.494545Z",
     "iopub.status.idle": "2023-10-10T22:11:18.693079Z",
     "shell.execute_reply": "2023-10-10T22:11:18.692054Z",
     "shell.execute_reply.started": "2023-10-10T22:11:18.494545Z"
    }
   },
   "outputs": [
    {
     "data": {
      "image/png": "[encoded data removed]",
      "text/plain": [
       "<Figure size 800x500 with 1 Axes>"
      ]
     },
     "metadata": {},
     "output_type": "display_data"
    }
   ],
   "source": [
    "# lets check nan values now again:\n",
    "\n",
    "missing_values_new = df_merge.isnull().sum()[df_merge.isnull().sum().sort_values(ascending=False)>25].sort_values(ascending=False)\n",
    "\n",
    "plt.figure(figsize=(8,5)) \n",
    "ax = sns.barplot(x=missing_values_new.index, y=missing_values_new.values)\n",
    "\n",
    "plt.xticks(rotation=90)\n",
    "plt.xlabel('Features with Nan values')\n",
    "plt.ylabel('Nan Value Count')\n",
    "plt.title('Nan Value Counts by Features')\n",
    "\n",
    "for p in ax.patches:\n",
    "    ax.annotate(f'{p.get_height():.0f}', (p.get_x() + p.get_width() / 2., p.get_height()), ha='center', va='bottom')\n",
    "\n",
    "plt.show()\n"
   ]
  },
  {
   "cell_type": "code",
   "execution_count": 17,
   "id": "04dfea72-7bd3-431f-b368-1f45e5bf32e5",
   "metadata": {
    "execution": {
     "iopub.execute_input": "2023-10-10T22:11:18.695213Z",
     "iopub.status.busy": "2023-10-10T22:11:18.694181Z",
     "iopub.status.idle": "2023-10-10T22:11:18.706798Z",
     "shell.execute_reply": "2023-10-10T22:11:18.706656Z",
     "shell.execute_reply.started": "2023-10-10T22:11:18.695213Z"
    }
   },
   "outputs": [
    {
     "data": {
      "text/plain": [
       "0"
      ]
     },
     "execution_count": 17,
     "metadata": {},
     "output_type": "execute_result"
    }
   ],
   "source": [
    "df_train['SalePrice'].isnull().sum()"
   ]
  },
  {
   "cell_type": "markdown",
   "id": "571c39de-b35a-4102-9a0d-a85ab30dcc67",
   "metadata": {},
   "source": [
    "**that means all nan values in the sales price target is coming from df_test data which is very normal**"
   ]
  },
  {
   "cell_type": "code",
   "execution_count": 18,
   "id": "cf068795-7db0-4782-a6e8-95ee9ec1b45b",
   "metadata": {
    "execution": {
     "iopub.execute_input": "2023-10-10T22:11:18.709397Z",
     "iopub.status.busy": "2023-10-10T22:11:18.709397Z",
     "iopub.status.idle": "2023-10-10T22:11:18.718301Z",
     "shell.execute_reply": "2023-10-10T22:11:18.717183Z",
     "shell.execute_reply.started": "2023-10-10T22:11:18.709397Z"
    }
   },
   "outputs": [],
   "source": [
    "lot_front_mean = df_merge['LotFrontage'].mean()\n",
    "df_merge['LotFrontage'].fillna(lot_front_mean, inplace=True)"
   ]
  },
  {
   "cell_type": "markdown",
   "id": "32958fe3-3ee0-488c-acf1-c4d089f2536a",
   "metadata": {},
   "source": [
    "**we can fill garage year built with building year built**"
   ]
  },
  {
   "cell_type": "code",
   "execution_count": 19,
   "id": "55c2d14e-68b1-4803-9cca-0e58118f2092",
   "metadata": {
    "execution": {
     "iopub.execute_input": "2023-10-10T22:11:18.720208Z",
     "iopub.status.busy": "2023-10-10T22:11:18.718825Z",
     "iopub.status.idle": "2023-10-10T22:11:18.789556Z",
     "shell.execute_reply": "2023-10-10T22:11:18.789556Z",
     "shell.execute_reply.started": "2023-10-10T22:11:18.720208Z"
    }
   },
   "outputs": [
    {
     "data": {
      "text/plain": [
       "0.8418914005786091"
      ]
     },
     "execution_count": 19,
     "metadata": {},
     "output_type": "execute_result"
    }
   ],
   "source": [
    "df_merge['GarageYrBlt'].corr(df_merge['YearBuilt'])"
   ]
  },
  {
   "cell_type": "code",
   "execution_count": 20,
   "id": "1fe5645d-855a-4819-a526-f9e7dc35b76c",
   "metadata": {
    "execution": {
     "iopub.execute_input": "2023-10-10T22:11:18.792307Z",
     "iopub.status.busy": "2023-10-10T22:11:18.792307Z",
     "iopub.status.idle": "2023-10-10T22:11:18.805318Z",
     "shell.execute_reply": "2023-10-10T22:11:18.805318Z",
     "shell.execute_reply.started": "2023-10-10T22:11:18.792307Z"
    }
   },
   "outputs": [],
   "source": [
    "df_merge['GarageYrBlt'].fillna(df_merge['YearBuilt'], inplace=True)"
   ]
  },
  {
   "cell_type": "code",
   "execution_count": 21,
   "id": "52ba4ad3-b164-426b-b14f-4a8b6a361288",
   "metadata": {
    "execution": {
     "iopub.execute_input": "2023-10-10T22:11:18.805318Z",
     "iopub.status.busy": "2023-10-10T22:11:18.805318Z",
     "iopub.status.idle": "2023-10-10T22:11:18.814976Z",
     "shell.execute_reply": "2023-10-10T22:11:18.814976Z",
     "shell.execute_reply.started": "2023-10-10T22:11:18.805318Z"
    }
   },
   "outputs": [
    {
     "data": {
      "text/plain": [
       "0.8590579529504343"
      ]
     },
     "execution_count": 21,
     "metadata": {},
     "output_type": "execute_result"
    }
   ],
   "source": [
    "df_merge['GarageYrBlt'].corr(df_merge['YearBuilt'])"
   ]
  },
  {
   "cell_type": "code",
   "execution_count": 22,
   "id": "50f34c19-82da-427a-b2f1-98cb8651364c",
   "metadata": {
    "execution": {
     "iopub.execute_input": "2023-10-10T22:11:18.814976Z",
     "iopub.status.busy": "2023-10-10T22:11:18.814976Z",
     "iopub.status.idle": "2023-10-10T22:11:18.865801Z",
     "shell.execute_reply": "2023-10-10T22:11:18.865801Z",
     "shell.execute_reply.started": "2023-10-10T22:11:18.814976Z"
    }
   },
   "outputs": [
    {
     "data": {
      "text/plain": [
       "SalePrice     1431\n",
       "Id               0\n",
       "MSSubClass       0\n",
       "dtype: int64"
      ]
     },
     "execution_count": 22,
     "metadata": {},
     "output_type": "execute_result"
    }
   ],
   "source": [
    "df_merge.isnull().sum().nlargest(3)"
   ]
  },
  {
   "cell_type": "markdown",
   "id": "764c50ba-3aba-49fb-8e4f-daa5528e0c79",
   "metadata": {
    "execution": {
     "iopub.execute_input": "2023-10-08T23:05:41.939226Z",
     "iopub.status.busy": "2023-10-08T23:05:41.925741Z",
     "iopub.status.idle": "2023-10-08T23:05:41.952428Z",
     "shell.execute_reply": "2023-10-08T23:05:41.952428Z",
     "shell.execute_reply.started": "2023-10-08T23:05:41.939226Z"
    }
   },
   "source": [
    "## Feature Engineering Continued after handling NAN values"
   ]
  },
  {
   "cell_type": "code",
   "execution_count": 23,
   "id": "7928a1be-8a44-4054-94f4-be58ba5c7d6d",
   "metadata": {
    "execution": {
     "iopub.execute_input": "2023-10-10T22:11:18.865801Z",
     "iopub.status.busy": "2023-10-10T22:11:18.865801Z",
     "iopub.status.idle": "2023-10-10T22:11:18.888798Z",
     "shell.execute_reply": "2023-10-10T22:11:18.888798Z",
     "shell.execute_reply.started": "2023-10-10T22:11:18.865801Z"
    }
   },
   "outputs": [
    {
     "data": {
      "text/plain": [
       "(2882, 81)"
      ]
     },
     "execution_count": 23,
     "metadata": {},
     "output_type": "execute_result"
    }
   ],
   "source": [
    "df_merge.shape"
   ]
  },
  {
   "cell_type": "markdown",
   "id": "16d07fc4-55b1-435d-a752-f148706404ca",
   "metadata": {},
   "source": [
    "### Creating new Features and drop old ones"
   ]
  },
  {
   "cell_type": "markdown",
   "id": "f1282a3c-dbd8-46df-9cf1-85c3ee4c15fa",
   "metadata": {},
   "source": [
    "Combining features to create new ones is a powerful technique. For example, combining area measurements to get a \"Total Area\" feature can often provide more meaningful information. We will also use our Domain Knowledge as well"
   ]
  },
  {
   "cell_type": "markdown",
   "id": "7b538e13-66f0-4c5c-aa51-f706f790fcf3",
   "metadata": {},
   "source": [
    "__Total Area__  \n",
    "We will combine features named TotalBsmtSF (total basement square footage), 1stFlrSF (first floor square footage), and 2ndFlrSF (second floor square footage) to create a 'Total Area' feature.  \n",
    "\n",
    "- Maybe we can try to add basement sq footage with multiplying 0.5 since the basement is not as valuable as ground level footage"
   ]
  },
  {
   "cell_type": "code",
   "execution_count": 24,
   "id": "7739a3ee-764b-4172-97ec-a38672b8bafe",
   "metadata": {
    "execution": {
     "iopub.execute_input": "2023-10-10T22:11:18.891101Z",
     "iopub.status.busy": "2023-10-10T22:11:18.891101Z",
     "iopub.status.idle": "2023-10-10T22:11:18.916344Z",
     "shell.execute_reply": "2023-10-10T22:11:18.916344Z",
     "shell.execute_reply.started": "2023-10-10T22:11:18.891101Z"
    }
   },
   "outputs": [
    {
     "data": {
      "text/html": [
       "<div>\n",
       "<style scoped>\n",
       "    .dataframe tbody tr th:only-of-type {\n",
       "        vertical-align: middle;\n",
       "    }\n",
       "\n",
       "    .dataframe tbody tr th {\n",
       "        vertical-align: top;\n",
       "    }\n",
       "\n",
       "    .dataframe thead th {\n",
       "        text-align: right;\n",
       "    }\n",
       "</style>\n",
       "<table border=\"1\" class=\"dataframe\">\n",
       "  <thead>\n",
       "    <tr style=\"text-align: right;\">\n",
       "      <th></th>\n",
       "      <th>Total_Area</th>\n",
       "      <th>TotalBsmtSF</th>\n",
       "      <th>1stFlrSF</th>\n",
       "      <th>2ndFlrSF</th>\n",
       "    </tr>\n",
       "  </thead>\n",
       "  <tbody>\n",
       "    <tr>\n",
       "      <th>0</th>\n",
       "      <td>2566.0</td>\n",
       "      <td>856.0</td>\n",
       "      <td>856</td>\n",
       "      <td>854</td>\n",
       "    </tr>\n",
       "    <tr>\n",
       "      <th>1</th>\n",
       "      <td>2524.0</td>\n",
       "      <td>1262.0</td>\n",
       "      <td>1262</td>\n",
       "      <td>0</td>\n",
       "    </tr>\n",
       "    <tr>\n",
       "      <th>2</th>\n",
       "      <td>2706.0</td>\n",
       "      <td>920.0</td>\n",
       "      <td>920</td>\n",
       "      <td>866</td>\n",
       "    </tr>\n",
       "  </tbody>\n",
       "</table>\n",
       "</div>"
      ],
      "text/plain": [
       "   Total_Area  TotalBsmtSF  1stFlrSF  2ndFlrSF\n",
       "0      2566.0        856.0       856       854\n",
       "1      2524.0       1262.0      1262         0\n",
       "2      2706.0        920.0       920       866"
      ]
     },
     "execution_count": 24,
     "metadata": {},
     "output_type": "execute_result"
    }
   ],
   "source": [
    "df_merge['Total_Area'] = df_merge['TotalBsmtSF'] + df_merge['1stFlrSF'] + df_merge['2ndFlrSF']\n",
    "df_merge[['Total_Area', 'TotalBsmtSF',  '1stFlrSF', '2ndFlrSF']].head(3)"
   ]
  },
  {
   "cell_type": "code",
   "execution_count": 25,
   "id": "4d62b0bc-c7a5-4d29-8137-30c2be463aae",
   "metadata": {
    "execution": {
     "iopub.execute_input": "2023-10-10T22:11:18.919021Z",
     "iopub.status.busy": "2023-10-10T22:11:18.919021Z",
     "iopub.status.idle": "2023-10-10T22:11:18.935452Z",
     "shell.execute_reply": "2023-10-10T22:11:18.935452Z",
     "shell.execute_reply.started": "2023-10-10T22:11:18.919021Z"
    }
   },
   "outputs": [],
   "source": [
    "# Lets drop remainin columns\n",
    "# i will drop TotalBsmtSF column later, because i will need bsmt sf down when i deal with features related to basement\n",
    "df_merge.drop(columns=['1stFlrSF', '2ndFlrSF'], inplace=True)"
   ]
  },
  {
   "cell_type": "code",
   "execution_count": 26,
   "id": "aed9ee53-ca4b-4dae-a16c-84fbb822bd10",
   "metadata": {
    "execution": {
     "iopub.execute_input": "2023-10-10T22:11:18.938773Z",
     "iopub.status.busy": "2023-10-10T22:11:18.938773Z",
     "iopub.status.idle": "2023-10-10T22:11:18.949720Z",
     "shell.execute_reply": "2023-10-10T22:11:18.949720Z",
     "shell.execute_reply.started": "2023-10-10T22:11:18.938773Z"
    }
   },
   "outputs": [
    {
     "data": {
      "text/plain": [
       "(2882, 80)"
      ]
     },
     "execution_count": 26,
     "metadata": {},
     "output_type": "execute_result"
    }
   ],
   "source": [
    "df_merge.shape"
   ]
  },
  {
   "cell_type": "markdown",
   "id": "512b8de0-85a3-42d1-bce7-168e1d48958c",
   "metadata": {},
   "source": [
    "__Total Bathrooms__"
   ]
  },
  {
   "cell_type": "markdown",
   "id": "86308097-96b5-4ca3-af07-ed26a18e49f0",
   "metadata": {},
   "source": [
    "Like in sq footage we will combine the bathrooms into a total bathroom quantity."
   ]
  },
  {
   "cell_type": "code",
   "execution_count": 27,
   "id": "97434611-22a1-4cc1-99a1-b99f9d2848d2",
   "metadata": {
    "execution": {
     "iopub.execute_input": "2023-10-10T22:11:18.951224Z",
     "iopub.status.busy": "2023-10-10T22:11:18.951224Z",
     "iopub.status.idle": "2023-10-10T22:11:18.975122Z",
     "shell.execute_reply": "2023-10-10T22:11:18.974089Z",
     "shell.execute_reply.started": "2023-10-10T22:11:18.951224Z"
    }
   },
   "outputs": [
    {
     "data": {
      "text/plain": [
       "['BsmtFullBath', 'BsmtHalfBath', 'FullBath', 'HalfBath']"
      ]
     },
     "execution_count": 27,
     "metadata": {},
     "output_type": "execute_result"
    }
   ],
   "source": [
    "bathroom_columns = [col for col in df_merge.columns if 'bath' in col.lower()]\n",
    "bathroom_columns"
   ]
  },
  {
   "cell_type": "code",
   "execution_count": 28,
   "id": "9ee52d0d-e640-40aa-a0e6-1565e564262f",
   "metadata": {
    "execution": {
     "iopub.execute_input": "2023-10-10T22:11:18.976960Z",
     "iopub.status.busy": "2023-10-10T22:11:18.976960Z",
     "iopub.status.idle": "2023-10-10T22:11:18.991649Z",
     "shell.execute_reply": "2023-10-10T22:11:18.990213Z",
     "shell.execute_reply.started": "2023-10-10T22:11:18.976960Z"
    }
   },
   "outputs": [],
   "source": [
    "df_merge['Total_Bathrooms'] = df_merge['BsmtFullBath'] + df_merge['FullBath'] + 0.5*(df_merge['BsmtHalfBath'] + df_merge['HalfBath'])"
   ]
  },
  {
   "cell_type": "code",
   "execution_count": 29,
   "id": "afacfd01-e392-4687-aada-7c939c0decf6",
   "metadata": {
    "execution": {
     "iopub.execute_input": "2023-10-10T22:11:18.993311Z",
     "iopub.status.busy": "2023-10-10T22:11:18.991649Z",
     "iopub.status.idle": "2023-10-10T22:11:19.006343Z",
     "shell.execute_reply": "2023-10-10T22:11:19.006343Z",
     "shell.execute_reply.started": "2023-10-10T22:11:18.993311Z"
    }
   },
   "outputs": [
    {
     "data": {
      "text/html": [
       "<div>\n",
       "<style scoped>\n",
       "    .dataframe tbody tr th:only-of-type {\n",
       "        vertical-align: middle;\n",
       "    }\n",
       "\n",
       "    .dataframe tbody tr th {\n",
       "        vertical-align: top;\n",
       "    }\n",
       "\n",
       "    .dataframe thead th {\n",
       "        text-align: right;\n",
       "    }\n",
       "</style>\n",
       "<table border=\"1\" class=\"dataframe\">\n",
       "  <thead>\n",
       "    <tr style=\"text-align: right;\">\n",
       "      <th></th>\n",
       "      <th>Total_Bathrooms</th>\n",
       "      <th>BsmtFullBath</th>\n",
       "      <th>BsmtHalfBath</th>\n",
       "      <th>FullBath</th>\n",
       "      <th>HalfBath</th>\n",
       "    </tr>\n",
       "  </thead>\n",
       "  <tbody>\n",
       "    <tr>\n",
       "      <th>0</th>\n",
       "      <td>3.5</td>\n",
       "      <td>1.0</td>\n",
       "      <td>0.0</td>\n",
       "      <td>2</td>\n",
       "      <td>1</td>\n",
       "    </tr>\n",
       "    <tr>\n",
       "      <th>1</th>\n",
       "      <td>2.5</td>\n",
       "      <td>0.0</td>\n",
       "      <td>1.0</td>\n",
       "      <td>2</td>\n",
       "      <td>0</td>\n",
       "    </tr>\n",
       "    <tr>\n",
       "      <th>2</th>\n",
       "      <td>3.5</td>\n",
       "      <td>1.0</td>\n",
       "      <td>0.0</td>\n",
       "      <td>2</td>\n",
       "      <td>1</td>\n",
       "    </tr>\n",
       "  </tbody>\n",
       "</table>\n",
       "</div>"
      ],
      "text/plain": [
       "   Total_Bathrooms  BsmtFullBath  BsmtHalfBath  FullBath  HalfBath\n",
       "0              3.5           1.0           0.0         2         1\n",
       "1              2.5           0.0           1.0         2         0\n",
       "2              3.5           1.0           0.0         2         1"
      ]
     },
     "execution_count": 29,
     "metadata": {},
     "output_type": "execute_result"
    }
   ],
   "source": [
    "df_merge[['Total_Bathrooms', 'BsmtFullBath', 'BsmtHalfBath', 'FullBath', 'HalfBath']].head(3)"
   ]
  },
  {
   "cell_type": "code",
   "execution_count": 30,
   "id": "e49a5d47-b915-48e7-8a53-037197155549",
   "metadata": {
    "execution": {
     "iopub.execute_input": "2023-10-10T22:11:19.006343Z",
     "iopub.status.busy": "2023-10-10T22:11:19.006343Z",
     "iopub.status.idle": "2023-10-10T22:11:19.022422Z",
     "shell.execute_reply": "2023-10-10T22:11:19.022422Z",
     "shell.execute_reply.started": "2023-10-10T22:11:19.006343Z"
    }
   },
   "outputs": [],
   "source": [
    "df_merge.drop(columns=['BsmtFullBath', 'BsmtHalfBath', 'FullBath', 'HalfBath'], inplace=True)"
   ]
  },
  {
   "cell_type": "markdown",
   "id": "eb6aa294-f0ff-4632-9c0b-68bd472047f3",
   "metadata": {
    "execution": {
     "iopub.execute_input": "2023-10-09T10:43:25.410599Z",
     "iopub.status.busy": "2023-10-09T10:43:25.410086Z",
     "iopub.status.idle": "2023-10-09T10:43:25.417606Z",
     "shell.execute_reply": "2023-10-09T10:43:25.416594Z",
     "shell.execute_reply.started": "2023-10-09T10:43:25.410599Z"
    }
   },
   "source": [
    "__Age of the house__"
   ]
  },
  {
   "cell_type": "markdown",
   "id": "ceaf160c-ce67-430a-9d45-39b4c73c1225",
   "metadata": {},
   "source": [
    "i think the age of sth is more intuitive and comparable rather than the build year sth like 1995"
   ]
  },
  {
   "cell_type": "code",
   "execution_count": 31,
   "id": "3bd1faab-eb47-464f-bb93-7df2979016e5",
   "metadata": {
    "execution": {
     "iopub.execute_input": "2023-10-10T22:11:19.025144Z",
     "iopub.status.busy": "2023-10-10T22:11:19.025144Z",
     "iopub.status.idle": "2023-10-10T22:11:19.041618Z",
     "shell.execute_reply": "2023-10-10T22:11:19.041618Z",
     "shell.execute_reply.started": "2023-10-10T22:11:19.025144Z"
    }
   },
   "outputs": [
    {
     "data": {
      "text/plain": [
       "2010"
      ]
     },
     "execution_count": 31,
     "metadata": {},
     "output_type": "execute_result"
    }
   ],
   "source": [
    "newest_blt = df_merge['YearBuilt'].max()\n",
    "newest_blt"
   ]
  },
  {
   "cell_type": "code",
   "execution_count": 32,
   "id": "8e63e40d-ba93-49d7-96e2-139a59f765ec",
   "metadata": {
    "execution": {
     "iopub.execute_input": "2023-10-10T22:11:19.041618Z",
     "iopub.status.busy": "2023-10-10T22:11:19.041618Z",
     "iopub.status.idle": "2023-10-10T22:11:19.051160Z",
     "shell.execute_reply": "2023-10-10T22:11:19.051160Z",
     "shell.execute_reply.started": "2023-10-10T22:11:19.041618Z"
    }
   },
   "outputs": [],
   "source": [
    "df_merge['Age_of_Property'] = newest_blt - df_merge['YearBuilt']"
   ]
  },
  {
   "cell_type": "code",
   "execution_count": 33,
   "id": "d19506cc-d5af-4af9-8358-3f5c8d11fc26",
   "metadata": {
    "execution": {
     "iopub.execute_input": "2023-10-10T22:11:19.051160Z",
     "iopub.status.busy": "2023-10-10T22:11:19.051160Z",
     "iopub.status.idle": "2023-10-10T22:11:19.066253Z",
     "shell.execute_reply": "2023-10-10T22:11:19.066253Z",
     "shell.execute_reply.started": "2023-10-10T22:11:19.051160Z"
    }
   },
   "outputs": [
    {
     "data": {
      "text/html": [
       "<div>\n",
       "<style scoped>\n",
       "    .dataframe tbody tr th:only-of-type {\n",
       "        vertical-align: middle;\n",
       "    }\n",
       "\n",
       "    .dataframe tbody tr th {\n",
       "        vertical-align: top;\n",
       "    }\n",
       "\n",
       "    .dataframe thead th {\n",
       "        text-align: right;\n",
       "    }\n",
       "</style>\n",
       "<table border=\"1\" class=\"dataframe\">\n",
       "  <thead>\n",
       "    <tr style=\"text-align: right;\">\n",
       "      <th></th>\n",
       "      <th>Age_of_Property</th>\n",
       "      <th>YearBuilt</th>\n",
       "    </tr>\n",
       "  </thead>\n",
       "  <tbody>\n",
       "    <tr>\n",
       "      <th>0</th>\n",
       "      <td>7</td>\n",
       "      <td>2003</td>\n",
       "    </tr>\n",
       "    <tr>\n",
       "      <th>1</th>\n",
       "      <td>34</td>\n",
       "      <td>1976</td>\n",
       "    </tr>\n",
       "    <tr>\n",
       "      <th>2</th>\n",
       "      <td>9</td>\n",
       "      <td>2001</td>\n",
       "    </tr>\n",
       "  </tbody>\n",
       "</table>\n",
       "</div>"
      ],
      "text/plain": [
       "   Age_of_Property  YearBuilt\n",
       "0                7       2003\n",
       "1               34       1976\n",
       "2                9       2001"
      ]
     },
     "execution_count": 33,
     "metadata": {},
     "output_type": "execute_result"
    }
   ],
   "source": [
    "df_merge[['Age_of_Property', 'YearBuilt']].head(3)"
   ]
  },
  {
   "cell_type": "code",
   "execution_count": 34,
   "id": "6eb728ff-cddd-476d-ad95-d4ec0cc09510",
   "metadata": {
    "execution": {
     "iopub.execute_input": "2023-10-10T22:11:19.066253Z",
     "iopub.status.busy": "2023-10-10T22:11:19.066253Z",
     "iopub.status.idle": "2023-10-10T22:11:19.083595Z",
     "shell.execute_reply": "2023-10-10T22:11:19.081904Z",
     "shell.execute_reply.started": "2023-10-10T22:11:19.066253Z"
    }
   },
   "outputs": [],
   "source": [
    "df_merge.drop(columns=['YearBuilt'], inplace=True)"
   ]
  },
  {
   "cell_type": "markdown",
   "id": "bf3058dd-9d25-4253-9926-1f11026fd9e7",
   "metadata": {
    "execution": {
     "iopub.execute_input": "2023-10-09T11:28:32.204903Z",
     "iopub.status.busy": "2023-10-09T11:28:32.204903Z",
     "iopub.status.idle": "2023-10-09T11:28:32.228329Z",
     "shell.execute_reply": "2023-10-09T11:28:32.227030Z",
     "shell.execute_reply.started": "2023-10-09T11:28:32.204903Z"
    }
   },
   "source": [
    "__Renovation Adding Date__"
   ]
  },
  {
   "cell_type": "code",
   "execution_count": 35,
   "id": "b4c7b05e-5e49-447d-bb07-c22d613645fd",
   "metadata": {
    "execution": {
     "iopub.execute_input": "2023-10-10T22:11:19.083595Z",
     "iopub.status.busy": "2023-10-10T22:11:19.083595Z",
     "iopub.status.idle": "2023-10-10T22:11:19.100238Z",
     "shell.execute_reply": "2023-10-10T22:11:19.100238Z",
     "shell.execute_reply.started": "2023-10-10T22:11:19.083595Z"
    }
   },
   "outputs": [],
   "source": [
    "df_merge['Age_of_Renovation'] = newest_blt - df_merge['YearRemodAdd']"
   ]
  },
  {
   "cell_type": "code",
   "execution_count": 36,
   "id": "a0e8b0b6-1d74-4596-b256-8ad94e18dea7",
   "metadata": {
    "execution": {
     "iopub.execute_input": "2023-10-10T22:11:19.100238Z",
     "iopub.status.busy": "2023-10-10T22:11:19.100238Z",
     "iopub.status.idle": "2023-10-10T22:11:19.116279Z",
     "shell.execute_reply": "2023-10-10T22:11:19.116279Z",
     "shell.execute_reply.started": "2023-10-10T22:11:19.100238Z"
    }
   },
   "outputs": [
    {
     "data": {
      "text/html": [
       "<div>\n",
       "<style scoped>\n",
       "    .dataframe tbody tr th:only-of-type {\n",
       "        vertical-align: middle;\n",
       "    }\n",
       "\n",
       "    .dataframe tbody tr th {\n",
       "        vertical-align: top;\n",
       "    }\n",
       "\n",
       "    .dataframe thead th {\n",
       "        text-align: right;\n",
       "    }\n",
       "</style>\n",
       "<table border=\"1\" class=\"dataframe\">\n",
       "  <thead>\n",
       "    <tr style=\"text-align: right;\">\n",
       "      <th></th>\n",
       "      <th>Age_of_Renovation</th>\n",
       "      <th>YearRemodAdd</th>\n",
       "    </tr>\n",
       "  </thead>\n",
       "  <tbody>\n",
       "    <tr>\n",
       "      <th>0</th>\n",
       "      <td>7</td>\n",
       "      <td>2003</td>\n",
       "    </tr>\n",
       "    <tr>\n",
       "      <th>1</th>\n",
       "      <td>34</td>\n",
       "      <td>1976</td>\n",
       "    </tr>\n",
       "    <tr>\n",
       "      <th>2</th>\n",
       "      <td>8</td>\n",
       "      <td>2002</td>\n",
       "    </tr>\n",
       "  </tbody>\n",
       "</table>\n",
       "</div>"
      ],
      "text/plain": [
       "   Age_of_Renovation  YearRemodAdd\n",
       "0                  7          2003\n",
       "1                 34          1976\n",
       "2                  8          2002"
      ]
     },
     "execution_count": 36,
     "metadata": {},
     "output_type": "execute_result"
    }
   ],
   "source": [
    "df_merge[['Age_of_Renovation', 'YearRemodAdd']].head(3)"
   ]
  },
  {
   "cell_type": "code",
   "execution_count": 37,
   "id": "43cdfa22-1fd9-46d0-8d40-d015dbf6ef3f",
   "metadata": {
    "execution": {
     "iopub.execute_input": "2023-10-10T22:11:19.116279Z",
     "iopub.status.busy": "2023-10-10T22:11:19.116279Z",
     "iopub.status.idle": "2023-10-10T22:11:19.133139Z",
     "shell.execute_reply": "2023-10-10T22:11:19.133139Z",
     "shell.execute_reply.started": "2023-10-10T22:11:19.116279Z"
    }
   },
   "outputs": [],
   "source": [
    "df_merge.drop(columns = ['YearRemodAdd'], inplace=True)"
   ]
  },
  {
   "cell_type": "markdown",
   "id": "7e05f5dc-df5b-4945-8efe-2891ad463a3f",
   "metadata": {
    "execution": {
     "iopub.execute_input": "2023-10-09T11:34:52.871440Z",
     "iopub.status.busy": "2023-10-09T11:34:52.871440Z",
     "iopub.status.idle": "2023-10-09T11:34:52.887967Z",
     "shell.execute_reply": "2023-10-09T11:34:52.887967Z",
     "shell.execute_reply.started": "2023-10-09T11:34:52.871440Z"
    }
   },
   "source": [
    "__Garage Columns__"
   ]
  },
  {
   "cell_type": "code",
   "execution_count": 38,
   "id": "688900e8-9f29-4972-b2c5-fcd4f341ff35",
   "metadata": {
    "execution": {
     "iopub.execute_input": "2023-10-10T22:11:19.133139Z",
     "iopub.status.busy": "2023-10-10T22:11:19.133139Z",
     "iopub.status.idle": "2023-10-10T22:11:19.149194Z",
     "shell.execute_reply": "2023-10-10T22:11:19.149194Z",
     "shell.execute_reply.started": "2023-10-10T22:11:19.133139Z"
    }
   },
   "outputs": [
    {
     "data": {
      "text/plain": [
       "['GarageType',\n",
       " 'GarageYrBlt',\n",
       " 'GarageFinish',\n",
       " 'GarageCars',\n",
       " 'GarageArea',\n",
       " 'GarageQual',\n",
       " 'GarageCond']"
      ]
     },
     "execution_count": 38,
     "metadata": {},
     "output_type": "execute_result"
    }
   ],
   "source": [
    "garage_columns = [col for col in df_merge.columns if 'garage' in col.lower()]\n",
    "garage_columns"
   ]
  },
  {
   "cell_type": "markdown",
   "id": "fec266d2-c0c5-4274-ad25-24037b757bbe",
   "metadata": {},
   "source": [
    "I want to hold GarageArea column, and create a binary value column indicating the property has a garage or not.  \n",
    "i will drop other columns  \n",
    "this is an approach coming from domain knowledge but also for simplicity  \n",
    "Later on, we can tune the model with more features"
   ]
  },
  {
   "cell_type": "code",
   "execution_count": 39,
   "id": "d4aa3f2e-c100-44a2-af2b-599c9af510e2",
   "metadata": {
    "execution": {
     "iopub.execute_input": "2023-10-10T22:11:19.151217Z",
     "iopub.status.busy": "2023-10-10T22:11:19.151217Z",
     "iopub.status.idle": "2023-10-10T22:11:19.165396Z",
     "shell.execute_reply": "2023-10-10T22:11:19.165396Z",
     "shell.execute_reply.started": "2023-10-10T22:11:19.151217Z"
    }
   },
   "outputs": [
    {
     "data": {
      "text/plain": [
       "Attchd       1698\n",
       "Detchd        773\n",
       "BuiltIn       182\n",
       "No Garage     155\n",
       "Basment        36\n",
       "2Types         23\n",
       "CarPort        15\n",
       "Name: GarageType, dtype: int64"
      ]
     },
     "execution_count": 39,
     "metadata": {},
     "output_type": "execute_result"
    }
   ],
   "source": [
    "df_merge['GarageType'].value_counts()"
   ]
  },
  {
   "cell_type": "code",
   "execution_count": 40,
   "id": "db45a97d-ecd7-4519-853b-92d469cf4a89",
   "metadata": {
    "execution": {
     "iopub.execute_input": "2023-10-10T22:11:19.165396Z",
     "iopub.status.busy": "2023-10-10T22:11:19.165396Z",
     "iopub.status.idle": "2023-10-10T22:11:19.189589Z",
     "shell.execute_reply": "2023-10-10T22:11:19.189589Z",
     "shell.execute_reply.started": "2023-10-10T22:11:19.165396Z"
    }
   },
   "outputs": [
    {
     "data": {
      "text/html": [
       "<div>\n",
       "<style scoped>\n",
       "    .dataframe tbody tr th:only-of-type {\n",
       "        vertical-align: middle;\n",
       "    }\n",
       "\n",
       "    .dataframe tbody tr th {\n",
       "        vertical-align: top;\n",
       "    }\n",
       "\n",
       "    .dataframe thead th {\n",
       "        text-align: right;\n",
       "    }\n",
       "</style>\n",
       "<table border=\"1\" class=\"dataframe\">\n",
       "  <thead>\n",
       "    <tr style=\"text-align: right;\">\n",
       "      <th></th>\n",
       "      <th>HasGarage</th>\n",
       "      <th>GarageType</th>\n",
       "    </tr>\n",
       "  </thead>\n",
       "  <tbody>\n",
       "    <tr>\n",
       "      <th>938</th>\n",
       "      <td>1</td>\n",
       "      <td>Attchd</td>\n",
       "    </tr>\n",
       "    <tr>\n",
       "      <th>2888</th>\n",
       "      <td>0</td>\n",
       "      <td>No Garage</td>\n",
       "    </tr>\n",
       "    <tr>\n",
       "      <th>2773</th>\n",
       "      <td>1</td>\n",
       "      <td>Detchd</td>\n",
       "    </tr>\n",
       "    <tr>\n",
       "      <th>290</th>\n",
       "      <td>1</td>\n",
       "      <td>Attchd</td>\n",
       "    </tr>\n",
       "    <tr>\n",
       "      <th>488</th>\n",
       "      <td>1</td>\n",
       "      <td>Attchd</td>\n",
       "    </tr>\n",
       "  </tbody>\n",
       "</table>\n",
       "</div>"
      ],
      "text/plain": [
       "      HasGarage GarageType\n",
       "938           1     Attchd\n",
       "2888          0  No Garage\n",
       "2773          1     Detchd\n",
       "290           1     Attchd\n",
       "488           1     Attchd"
      ]
     },
     "execution_count": 40,
     "metadata": {},
     "output_type": "execute_result"
    }
   ],
   "source": [
    "df_merge['HasGarage'] = (df_merge['GarageType'] != 'No Garage').astype(int)\n",
    "df_merge[['HasGarage', 'GarageType']].sample(5)"
   ]
  },
  {
   "cell_type": "code",
   "execution_count": 41,
   "id": "9a4c40a4-5d3b-45a1-b8a1-b81706b1481d",
   "metadata": {
    "execution": {
     "iopub.execute_input": "2023-10-10T22:11:19.200433Z",
     "iopub.status.busy": "2023-10-10T22:11:19.200433Z",
     "iopub.status.idle": "2023-10-10T22:11:19.222647Z",
     "shell.execute_reply": "2023-10-10T22:11:19.221909Z",
     "shell.execute_reply.started": "2023-10-10T22:11:19.200433Z"
    }
   },
   "outputs": [],
   "source": [
    "df_merge.drop(columns= ['GarageType','GarageYrBlt','GarageFinish','GarageCars','GarageQual','GarageCond'], inplace=True)"
   ]
  },
  {
   "cell_type": "code",
   "execution_count": 42,
   "id": "643eb4ba-eda1-4aa9-b864-a12b7814fee9",
   "metadata": {
    "execution": {
     "iopub.execute_input": "2023-10-10T22:11:19.225649Z",
     "iopub.status.busy": "2023-10-10T22:11:19.225442Z",
     "iopub.status.idle": "2023-10-10T22:11:19.242877Z",
     "shell.execute_reply": "2023-10-10T22:11:19.241249Z",
     "shell.execute_reply.started": "2023-10-10T22:11:19.225649Z"
    }
   },
   "outputs": [
    {
     "data": {
      "text/plain": [
       "['GarageArea', 'HasGarage']"
      ]
     },
     "execution_count": 42,
     "metadata": {},
     "output_type": "execute_result"
    }
   ],
   "source": [
    "garage_columns_final = [col for col in df_merge.columns if 'garage' in col.lower()]\n",
    "garage_columns_final"
   ]
  },
  {
   "cell_type": "markdown",
   "id": "0d056915-6330-4391-92a6-02d310150ca4",
   "metadata": {},
   "source": [
    "__Pool Column__"
   ]
  },
  {
   "cell_type": "markdown",
   "id": "40810f0f-0a5f-4218-9fb4-d9b26350e022",
   "metadata": {},
   "source": [
    "Lets also change the pool columns into a one binary feature as well, indicating whether the property has a pool or not  \n",
    "['PoolArea', 'PoolQC']"
   ]
  },
  {
   "cell_type": "code",
   "execution_count": 43,
   "id": "da533c66-dd3b-433f-ab56-48afe8007508",
   "metadata": {
    "execution": {
     "iopub.execute_input": "2023-10-10T22:11:19.243383Z",
     "iopub.status.busy": "2023-10-10T22:11:19.243383Z",
     "iopub.status.idle": "2023-10-10T22:11:19.256405Z",
     "shell.execute_reply": "2023-10-10T22:11:19.256405Z",
     "shell.execute_reply.started": "2023-10-10T22:11:19.243383Z"
    }
   },
   "outputs": [
    {
     "data": {
      "text/plain": [
       "No Pool    2872\n",
       "Ex            4\n",
       "Gd            4\n",
       "Fa            2\n",
       "Name: PoolQC, dtype: int64"
      ]
     },
     "execution_count": 43,
     "metadata": {},
     "output_type": "execute_result"
    }
   ],
   "source": [
    "df_merge['PoolQC'].value_counts()"
   ]
  },
  {
   "cell_type": "code",
   "execution_count": 44,
   "id": "bc87b4c7-4dd8-42c2-bd10-461c02833218",
   "metadata": {
    "execution": {
     "iopub.execute_input": "2023-10-10T22:11:19.258061Z",
     "iopub.status.busy": "2023-10-10T22:11:19.258061Z",
     "iopub.status.idle": "2023-10-10T22:11:19.269575Z",
     "shell.execute_reply": "2023-10-10T22:11:19.269575Z",
     "shell.execute_reply.started": "2023-10-10T22:11:19.258061Z"
    }
   },
   "outputs": [],
   "source": [
    "df_merge['HasPool'] = (df_merge['PoolQC'] != 'No Pool').astype(int)"
   ]
  },
  {
   "cell_type": "code",
   "execution_count": 45,
   "id": "d1a15a71-f00c-443b-b42b-b02d7c7f1a6d",
   "metadata": {
    "execution": {
     "iopub.execute_input": "2023-10-10T22:11:19.275336Z",
     "iopub.status.busy": "2023-10-10T22:11:19.269575Z",
     "iopub.status.idle": "2023-10-10T22:11:19.294237Z",
     "shell.execute_reply": "2023-10-10T22:11:19.294237Z",
     "shell.execute_reply.started": "2023-10-10T22:11:19.275336Z"
    }
   },
   "outputs": [
    {
     "data": {
      "text/plain": [
       "0    2872\n",
       "1      10\n",
       "Name: HasPool, dtype: int64"
      ]
     },
     "execution_count": 45,
     "metadata": {},
     "output_type": "execute_result"
    }
   ],
   "source": [
    "df_merge['HasPool'].value_counts()"
   ]
  },
  {
   "cell_type": "code",
   "execution_count": 46,
   "id": "10005b75-580e-45d7-ba36-d42fee645019",
   "metadata": {
    "execution": {
     "iopub.execute_input": "2023-10-10T22:11:19.294237Z",
     "iopub.status.busy": "2023-10-10T22:11:19.294237Z",
     "iopub.status.idle": "2023-10-10T22:11:19.309185Z",
     "shell.execute_reply": "2023-10-10T22:11:19.309025Z",
     "shell.execute_reply.started": "2023-10-10T22:11:19.294237Z"
    }
   },
   "outputs": [],
   "source": [
    "df_merge.drop(columns =['PoolArea', 'PoolQC'], inplace=True)"
   ]
  },
  {
   "cell_type": "markdown",
   "id": "6e6ea64f-37d8-413a-81b1-c01c4fbd8c14",
   "metadata": {},
   "source": [
    "__Neighborhood__"
   ]
  },
  {
   "cell_type": "markdown",
   "id": "32978160-9e46-4d45-bfda-b77b3fb80a7b",
   "metadata": {},
   "source": [
    "I want to create mean and median prices for each neighborhood and drop neighborhoods itself  \n",
    "Because generally, prices are really dependent on the neighborhood  \n",
    "We can also work with sqft prices as well"
   ]
  },
  {
   "cell_type": "markdown",
   "id": "6449c05b-fbd2-4670-9d74-0d114758c464",
   "metadata": {},
   "source": [
    "**Lets check test and train data are having the same neighborhoods** Because we will work with the prices"
   ]
  },
  {
   "cell_type": "code",
   "execution_count": 47,
   "id": "146ea5ef-87df-4576-9762-74abb6070017",
   "metadata": {
    "execution": {
     "iopub.execute_input": "2023-10-10T22:11:19.310743Z",
     "iopub.status.busy": "2023-10-10T22:11:19.310743Z",
     "iopub.status.idle": "2023-10-10T22:11:19.318139Z",
     "shell.execute_reply": "2023-10-10T22:11:19.317682Z",
     "shell.execute_reply.started": "2023-10-10T22:11:19.310743Z"
    },
    "scrolled": true
   },
   "outputs": [],
   "source": [
    "set_n_train = set(df_train['Neighborhood'])\n",
    "set_n_test = set(df_test['Neighborhood'])"
   ]
  },
  {
   "cell_type": "code",
   "execution_count": 48,
   "id": "618302fa-06ad-419c-97bf-4950bbe8bb0e",
   "metadata": {
    "execution": {
     "iopub.execute_input": "2023-10-10T22:11:19.319082Z",
     "iopub.status.busy": "2023-10-10T22:11:19.319082Z",
     "iopub.status.idle": "2023-10-10T22:11:19.333272Z",
     "shell.execute_reply": "2023-10-10T22:11:19.333272Z",
     "shell.execute_reply.started": "2023-10-10T22:11:19.319082Z"
    }
   },
   "outputs": [
    {
     "data": {
      "text/plain": [
       "True"
      ]
     },
     "execution_count": 48,
     "metadata": {},
     "output_type": "execute_result"
    }
   ],
   "source": [
    "set_n_test == set_n_train"
   ]
  },
  {
   "cell_type": "code",
   "execution_count": 49,
   "id": "2d79186c-f3c6-420b-bdca-7dbba594a4da",
   "metadata": {
    "execution": {
     "iopub.execute_input": "2023-10-10T22:11:19.335756Z",
     "iopub.status.busy": "2023-10-10T22:11:19.335756Z",
     "iopub.status.idle": "2023-10-10T22:11:19.351395Z",
     "shell.execute_reply": "2023-10-10T22:11:19.349882Z",
     "shell.execute_reply.started": "2023-10-10T22:11:19.335756Z"
    }
   },
   "outputs": [],
   "source": [
    "neighborhood_avg_price = df_train.groupby('Neighborhood')['SalePrice'].mean().reset_index()\n",
    "neighborhood_avg_price.columns = ['Neighborhood', 'AvgHousePrice']\n",
    "\n",
    "neighborhood_median_price = df_train.groupby('Neighborhood')['SalePrice'].median().reset_index()\n",
    "neighborhood_median_price.columns = ['Neighborhood', 'MedianHousePrice']"
   ]
  },
  {
   "cell_type": "code",
   "execution_count": 50,
   "id": "9327145a-8aa3-4ff8-859f-1f5da7686c37",
   "metadata": {
    "execution": {
     "iopub.execute_input": "2023-10-10T22:11:19.353311Z",
     "iopub.status.busy": "2023-10-10T22:11:19.351395Z",
     "iopub.status.idle": "2023-10-10T22:11:19.382628Z",
     "shell.execute_reply": "2023-10-10T22:11:19.382628Z",
     "shell.execute_reply.started": "2023-10-10T22:11:19.353311Z"
    },
    "scrolled": true
   },
   "outputs": [],
   "source": [
    "df_merge = pd.merge(df_merge, neighborhood_avg_price, on='Neighborhood', how='left')\n",
    "df_merge = pd.merge(df_merge, neighborhood_median_price, on='Neighborhood', how='left')"
   ]
  },
  {
   "cell_type": "code",
   "execution_count": null,
   "id": "30a16095-b801-4bc1-9794-404bf8127ec7",
   "metadata": {},
   "outputs": [],
   "source": []
  },
  {
   "cell_type": "code",
   "execution_count": null,
   "id": "bec39c0d-df0f-4709-926b-cef4ac7e9ba7",
   "metadata": {},
   "outputs": [],
   "source": []
  },
  {
   "cell_type": "code",
   "execution_count": 51,
   "id": "6abd1042-8c4b-4fa3-b59b-2223b088f855",
   "metadata": {
    "execution": {
     "iopub.execute_input": "2023-10-10T22:11:19.386340Z",
     "iopub.status.busy": "2023-10-10T22:11:19.385359Z",
     "iopub.status.idle": "2023-10-10T22:11:19.408682Z",
     "shell.execute_reply": "2023-10-10T22:11:19.408083Z",
     "shell.execute_reply.started": "2023-10-10T22:11:19.385359Z"
    }
   },
   "outputs": [
    {
     "data": {
      "text/html": [
       "<div>\n",
       "<style scoped>\n",
       "    .dataframe tbody tr th:only-of-type {\n",
       "        vertical-align: middle;\n",
       "    }\n",
       "\n",
       "    .dataframe tbody tr th {\n",
       "        vertical-align: top;\n",
       "    }\n",
       "\n",
       "    .dataframe thead th {\n",
       "        text-align: right;\n",
       "    }\n",
       "</style>\n",
       "<table border=\"1\" class=\"dataframe\">\n",
       "  <thead>\n",
       "    <tr style=\"text-align: right;\">\n",
       "      <th></th>\n",
       "      <th>Neighborhood</th>\n",
       "      <th>AvgHousePrice</th>\n",
       "      <th>MedianHousePrice</th>\n",
       "    </tr>\n",
       "  </thead>\n",
       "  <tbody>\n",
       "    <tr>\n",
       "      <th>2500</th>\n",
       "      <td>CollgCr</td>\n",
       "      <td>197965.773333</td>\n",
       "      <td>197200.0</td>\n",
       "    </tr>\n",
       "    <tr>\n",
       "      <th>2192</th>\n",
       "      <td>IDOTRR</td>\n",
       "      <td>100123.783784</td>\n",
       "      <td>103000.0</td>\n",
       "    </tr>\n",
       "    <tr>\n",
       "      <th>2797</th>\n",
       "      <td>CollgCr</td>\n",
       "      <td>197965.773333</td>\n",
       "      <td>197200.0</td>\n",
       "    </tr>\n",
       "  </tbody>\n",
       "</table>\n",
       "</div>"
      ],
      "text/plain": [
       "     Neighborhood  AvgHousePrice  MedianHousePrice\n",
       "2500      CollgCr  197965.773333          197200.0\n",
       "2192       IDOTRR  100123.783784          103000.0\n",
       "2797      CollgCr  197965.773333          197200.0"
      ]
     },
     "execution_count": 51,
     "metadata": {},
     "output_type": "execute_result"
    }
   ],
   "source": [
    "df_merge[['Neighborhood', 'AvgHousePrice', 'MedianHousePrice']].sample(3)"
   ]
  },
  {
   "cell_type": "code",
   "execution_count": 52,
   "id": "37e8da6d-04d4-483e-ae64-ca28c930680c",
   "metadata": {
    "execution": {
     "iopub.execute_input": "2023-10-10T22:11:19.408682Z",
     "iopub.status.busy": "2023-10-10T22:11:19.408682Z",
     "iopub.status.idle": "2023-10-10T22:11:19.434951Z",
     "shell.execute_reply": "2023-10-10T22:11:19.432845Z",
     "shell.execute_reply.started": "2023-10-10T22:11:19.408682Z"
    }
   },
   "outputs": [
    {
     "name": "stdout",
     "output_type": "stream",
     "text": [
      "145847.08\n",
      "140000.0\n"
     ]
    }
   ],
   "source": [
    "# Lets double check what we have made\n",
    "print(df_merge.groupby('Neighborhood')['SalePrice'].mean().loc['NAmes'])\n",
    "print(df_merge.groupby('Neighborhood')['SalePrice'].median().loc['NAmes'])"
   ]
  },
  {
   "cell_type": "code",
   "execution_count": 53,
   "id": "5a3e81a8-e064-44fa-88f3-85ffb0ba9e0b",
   "metadata": {
    "execution": {
     "iopub.execute_input": "2023-10-10T22:11:19.435463Z",
     "iopub.status.busy": "2023-10-10T22:11:19.435463Z",
     "iopub.status.idle": "2023-10-10T22:11:19.458310Z",
     "shell.execute_reply": "2023-10-10T22:11:19.456683Z",
     "shell.execute_reply.started": "2023-10-10T22:11:19.435463Z"
    }
   },
   "outputs": [],
   "source": [
    "df_merge.drop(columns=['Neighborhood'], inplace=True)"
   ]
  },
  {
   "cell_type": "code",
   "execution_count": 54,
   "id": "32807455-8d71-4c41-adee-43a7c4c91f53",
   "metadata": {
    "execution": {
     "iopub.execute_input": "2023-10-10T22:11:19.458310Z",
     "iopub.status.busy": "2023-10-10T22:11:19.458310Z",
     "iopub.status.idle": "2023-10-10T22:11:19.467040Z",
     "shell.execute_reply": "2023-10-10T22:11:19.467040Z",
     "shell.execute_reply.started": "2023-10-10T22:11:19.458310Z"
    }
   },
   "outputs": [
    {
     "data": {
      "text/plain": [
       "(2882, 72)"
      ]
     },
     "execution_count": 54,
     "metadata": {},
     "output_type": "execute_result"
    }
   ],
   "source": [
    "df_merge.shape"
   ]
  },
  {
   "cell_type": "markdown",
   "id": "8dabac18-ab5a-4f32-9b01-abe5c03bfdb4",
   "metadata": {
    "execution": {
     "iopub.execute_input": "2023-10-09T13:24:48.382250Z",
     "iopub.status.busy": "2023-10-09T13:24:48.382250Z",
     "iopub.status.idle": "2023-10-09T13:24:48.390368Z",
     "shell.execute_reply": "2023-10-09T13:24:48.390368Z",
     "shell.execute_reply.started": "2023-10-09T13:24:48.382250Z"
    }
   },
   "source": [
    "__Basement columns__"
   ]
  },
  {
   "cell_type": "markdown",
   "id": "00c2d475-0564-4cc3-8f85-f9d75bbb0f47",
   "metadata": {},
   "source": [
    "There are many features related to basement. Lets try to combine, elminate or summmarize them"
   ]
  },
  {
   "cell_type": "code",
   "execution_count": 55,
   "id": "71da2a5f-8f08-49f6-8762-a7444b1cf0a2",
   "metadata": {
    "execution": {
     "iopub.execute_input": "2023-10-10T22:11:19.470128Z",
     "iopub.status.busy": "2023-10-10T22:11:19.470128Z",
     "iopub.status.idle": "2023-10-10T22:11:19.481602Z",
     "shell.execute_reply": "2023-10-10T22:11:19.481602Z",
     "shell.execute_reply.started": "2023-10-10T22:11:19.470128Z"
    }
   },
   "outputs": [
    {
     "data": {
      "text/plain": [
       "['BsmtQual',\n",
       " 'BsmtCond',\n",
       " 'BsmtExposure',\n",
       " 'BsmtFinType1',\n",
       " 'BsmtFinSF1',\n",
       " 'BsmtFinType2',\n",
       " 'BsmtFinSF2',\n",
       " 'BsmtUnfSF',\n",
       " 'TotalBsmtSF']"
      ]
     },
     "execution_count": 55,
     "metadata": {},
     "output_type": "execute_result"
    }
   ],
   "source": [
    "basement_columns_initial = [col for col in df_merge.columns if 'bsmt' in col.lower()]\n",
    "basement_columns_initial"
   ]
  },
  {
   "cell_type": "markdown",
   "id": "1353a455-c6d6-4beb-8d0b-ceb8db3c71e4",
   "metadata": {},
   "source": [
    "- I will give grades to Basement Quality, Basement Condition, Basement Exposure\n",
    "- I will combine Basement finTypes and SF into one feature having a grade\n",
    "- Then i will combine all 4 features into one feature Ovarall Basement Quality with a total grade\n",
    "- if the grade is zero - that means no basement/ but we need to check all the columns have synchronized no basement values or not\n",
    "- i will drop the remaining"
   ]
  },
  {
   "cell_type": "code",
   "execution_count": 56,
   "id": "b5601807-dc72-494b-973e-74b497c31f8f",
   "metadata": {
    "execution": {
     "iopub.execute_input": "2023-10-10T22:11:19.481602Z",
     "iopub.status.busy": "2023-10-10T22:11:19.481602Z",
     "iopub.status.idle": "2023-10-10T22:11:19.492786Z",
     "shell.execute_reply": "2023-10-10T22:11:19.491501Z",
     "shell.execute_reply.started": "2023-10-10T22:11:19.481602Z"
    }
   },
   "outputs": [],
   "source": [
    "# Define different mappings for each basement features\r",
    "bsmt_qual_mapping = {'Ex':5, 'Gd':4, 'TA':3, 'Fa':2, 'Po':1, 'No Basement': 0}\n",
    "bsmt_cond_mapping = {'Ex': 5, 'Gd': 4, 'TA': 3, 'Fa': 2, 'Po': 1, 'No Basement': 0}\n",
    "bsmt_exposure_mapping = {'Gd': 4, 'Av': 3, 'Mn': 2, 'No': 1, 'No Basement': 0}\n",
    "bsmt_fintype_mapping = {'GLQ': 6, 'ALQ': 5, 'BLQ': 4, 'Rec': 3, 'LwQ': 2, 'Unf': 1, 'No Basement': 0}\n"
   ]
  },
  {
   "cell_type": "code",
   "execution_count": 57,
   "id": "f32d367f-1b28-4976-9f39-724568f709d8",
   "metadata": {
    "execution": {
     "iopub.execute_input": "2023-10-10T22:11:19.494653Z",
     "iopub.status.busy": "2023-10-10T22:11:19.492786Z",
     "iopub.status.idle": "2023-10-10T22:11:19.521696Z",
     "shell.execute_reply": "2023-10-10T22:11:19.521696Z",
     "shell.execute_reply.started": "2023-10-10T22:11:19.494653Z"
    }
   },
   "outputs": [
    {
     "data": {
      "text/html": [
       "<div>\n",
       "<style scoped>\n",
       "    .dataframe tbody tr th:only-of-type {\n",
       "        vertical-align: middle;\n",
       "    }\n",
       "\n",
       "    .dataframe tbody tr th {\n",
       "        vertical-align: top;\n",
       "    }\n",
       "\n",
       "    .dataframe thead th {\n",
       "        text-align: right;\n",
       "    }\n",
       "</style>\n",
       "<table border=\"1\" class=\"dataframe\">\n",
       "  <thead>\n",
       "    <tr style=\"text-align: right;\">\n",
       "      <th></th>\n",
       "      <th>BsmtQual</th>\n",
       "      <th>BsmtFinType1</th>\n",
       "      <th>BsmtFinSF1</th>\n",
       "      <th>BsmtFinType2</th>\n",
       "      <th>BsmtFinSF2</th>\n",
       "      <th>BsmtUnfSF</th>\n",
       "      <th>TotalBsmtSF</th>\n",
       "    </tr>\n",
       "  </thead>\n",
       "  <tbody>\n",
       "    <tr>\n",
       "      <th>2848</th>\n",
       "      <td>TA</td>\n",
       "      <td>Unf</td>\n",
       "      <td>0.0</td>\n",
       "      <td>Unf</td>\n",
       "      <td>0.0</td>\n",
       "      <td>697.0</td>\n",
       "      <td>697.0</td>\n",
       "    </tr>\n",
       "    <tr>\n",
       "      <th>1375</th>\n",
       "      <td>TA</td>\n",
       "      <td>Rec</td>\n",
       "      <td>204.0</td>\n",
       "      <td>Unf</td>\n",
       "      <td>0.0</td>\n",
       "      <td>356.0</td>\n",
       "      <td>560.0</td>\n",
       "    </tr>\n",
       "    <tr>\n",
       "      <th>1627</th>\n",
       "      <td>Gd</td>\n",
       "      <td>Unf</td>\n",
       "      <td>0.0</td>\n",
       "      <td>Unf</td>\n",
       "      <td>0.0</td>\n",
       "      <td>832.0</td>\n",
       "      <td>832.0</td>\n",
       "    </tr>\n",
       "    <tr>\n",
       "      <th>2175</th>\n",
       "      <td>TA</td>\n",
       "      <td>ALQ</td>\n",
       "      <td>224.0</td>\n",
       "      <td>Unf</td>\n",
       "      <td>0.0</td>\n",
       "      <td>725.0</td>\n",
       "      <td>949.0</td>\n",
       "    </tr>\n",
       "    <tr>\n",
       "      <th>714</th>\n",
       "      <td>Gd</td>\n",
       "      <td>BLQ</td>\n",
       "      <td>1084.0</td>\n",
       "      <td>Unf</td>\n",
       "      <td>0.0</td>\n",
       "      <td>92.0</td>\n",
       "      <td>1176.0</td>\n",
       "    </tr>\n",
       "  </tbody>\n",
       "</table>\n",
       "</div>"
      ],
      "text/plain": [
       "     BsmtQual BsmtFinType1  BsmtFinSF1 BsmtFinType2  BsmtFinSF2  BsmtUnfSF  \\\n",
       "2848       TA          Unf         0.0          Unf         0.0      697.0   \n",
       "1375       TA          Rec       204.0          Unf         0.0      356.0   \n",
       "1627       Gd          Unf         0.0          Unf         0.0      832.0   \n",
       "2175       TA          ALQ       224.0          Unf         0.0      725.0   \n",
       "714        Gd          BLQ      1084.0          Unf         0.0       92.0   \n",
       "\n",
       "      TotalBsmtSF  \n",
       "2848        697.0  \n",
       "1375        560.0  \n",
       "1627        832.0  \n",
       "2175        949.0  \n",
       "714        1176.0  "
      ]
     },
     "execution_count": 57,
     "metadata": {},
     "output_type": "execute_result"
    }
   ],
   "source": [
    "# FIRST: lest check what our data looks like for fintype columns\n",
    "\n",
    "df_merge[['BsmtQual','BsmtFinType1', 'BsmtFinSF1', 'BsmtFinType2', 'BsmtFinSF2', 'BsmtUnfSF', 'TotalBsmtSF']].sample(5)"
   ]
  },
  {
   "cell_type": "markdown",
   "id": "d6eea251-a768-4c66-a4af-5c845473367c",
   "metadata": {},
   "source": [
    "it looks like BsmtFinSF1+BsmtFinSF2+BsmtUnfSF == TotalBsmtSF  \n",
    "if type1 and type2 has unf category, the sf writes in the BsmtUnfSF\t"
   ]
  },
  {
   "cell_type": "code",
   "execution_count": 58,
   "id": "c178ffd7-d5ad-4fbf-a401-065a1a4b93c0",
   "metadata": {
    "execution": {
     "iopub.execute_input": "2023-10-10T22:11:19.523641Z",
     "iopub.status.busy": "2023-10-10T22:11:19.523641Z",
     "iopub.status.idle": "2023-10-10T22:11:19.546114Z",
     "shell.execute_reply": "2023-10-10T22:11:19.546114Z",
     "shell.execute_reply.started": "2023-10-10T22:11:19.523641Z"
    }
   },
   "outputs": [
    {
     "data": {
      "text/plain": [
       "True    2882\n",
       "dtype: int64"
      ]
     },
     "execution_count": 58,
     "metadata": {},
     "output_type": "execute_result"
    }
   ],
   "source": [
    "# lets double check if we are right with our assumptions related to categories and sq footages calculations\n",
    "\n",
    "check_bsmt_sf = df_merge['TotalBsmtSF'] == (df_merge['BsmtFinSF1'] + df_merge['BsmtFinSF2'] + df_merge['BsmtUnfSF'])\n",
    "check_bsmt_sf.value_counts()\n",
    "\n",
    "# if all values come true, that means my hypotesis above is correct"
   ]
  },
  {
   "cell_type": "code",
   "execution_count": null,
   "id": "95c47610-2641-47e9-9cfb-4937e4c8b8df",
   "metadata": {},
   "outputs": [],
   "source": []
  },
  {
   "cell_type": "code",
   "execution_count": null,
   "id": "36727253-2528-42dc-bba3-ba564798f10e",
   "metadata": {},
   "outputs": [],
   "source": []
  },
  {
   "cell_type": "markdown",
   "id": "5ba15ed0-022e-44e4-ac3b-c22412e50e37",
   "metadata": {},
   "source": [
    "**I am thinking to make a combined Basement Finishing Type Feature.**  \n",
    "- Firstly, we will map the string categories into grades in BsmtFinType1 and BsmtFinType2\n",
    "- Secondly, We will normalize BsmtFinSF1, BsmtFinSF2, BsmtUnfSF because all totally makes TotalBsmtSF\n",
    "- Thirdly, SF1 * TYPE1_GRADE + SF2 * TYPE2_GRADE + SF3 * 1 (1 is the grade score of unf category)\n",
    "- Actually BsmtUnfSF column is a seperated value from other columns because the other two columns have unf categories as well\n",
    "-  For example, if BsmtFinType2 == Unf normally we are expecting BsmtFinSF2 have a float value. But in our dataset it comes 0.0 and the value is coming with a seperate column named BsmtUnfSF. So we assume that they are iconic "
   ]
  },
  {
   "cell_type": "code",
   "execution_count": 59,
   "id": "6caa02c1-2c0a-4e65-b0fa-46102f1b985f",
   "metadata": {
    "execution": {
     "iopub.execute_input": "2023-10-10T22:11:19.549701Z",
     "iopub.status.busy": "2023-10-10T22:11:19.549171Z",
     "iopub.status.idle": "2023-10-10T22:11:19.570201Z",
     "shell.execute_reply": "2023-10-10T22:11:19.570201Z",
     "shell.execute_reply.started": "2023-10-10T22:11:19.549701Z"
    },
    "scrolled": true
   },
   "outputs": [],
   "source": [
    "# Convert the categorical str values into grade points by mapping function\n",
    "\n",
    "df_merge['BsmtFinType1'] = df_merge['BsmtFinType1'].map(bsmt_fintype_mapping)\n",
    "df_merge['BsmtFinType2'] = df_merge['BsmtFinType2'].map(bsmt_fintype_mapping)"
   ]
  },
  {
   "cell_type": "code",
   "execution_count": 60,
   "id": "573bcdc8-3594-4e9c-8aa4-e47a8fb97c97",
   "metadata": {
    "execution": {
     "iopub.execute_input": "2023-10-10T22:11:19.573244Z",
     "iopub.status.busy": "2023-10-10T22:11:19.573244Z",
     "iopub.status.idle": "2023-10-10T22:11:19.586299Z",
     "shell.execute_reply": "2023-10-10T22:11:19.586299Z",
     "shell.execute_reply.started": "2023-10-10T22:11:19.573244Z"
    }
   },
   "outputs": [],
   "source": [
    "df_merge['BsmtFinGrade'] = (df_merge['BsmtFinType1'] * df_merge.BsmtFinSF1 / df_merge.TotalBsmtSF) + \\\n",
    "                            (df_merge['BsmtFinType2'] * df_merge.BsmtFinSF2 / df_merge.TotalBsmtSF) + \\\n",
    "                            (df_merge['BsmtFinType1'] * df_merge.BsmtUnfSF / df_merge.TotalBsmtSF)"
   ]
  },
  {
   "cell_type": "code",
   "execution_count": 61,
   "id": "8f039c27-1c7d-4139-9cd0-05b113ecb6fc",
   "metadata": {
    "execution": {
     "iopub.execute_input": "2023-10-10T22:11:19.588944Z",
     "iopub.status.busy": "2023-10-10T22:11:19.588944Z",
     "iopub.status.idle": "2023-10-10T22:11:19.601581Z",
     "shell.execute_reply": "2023-10-10T22:11:19.601581Z",
     "shell.execute_reply.started": "2023-10-10T22:11:19.588944Z"
    }
   },
   "outputs": [],
   "source": [
    "# Because of zero division there will be Nan values where there are no basement, since TotalBsmtSf == 0\n",
    "\n",
    "df_merge['BsmtFinGrade'].fillna(0.0, inplace=True)"
   ]
  },
  {
   "cell_type": "markdown",
   "id": "a30a6ded-c663-4221-9f0b-9eec5a4bbf30",
   "metadata": {},
   "source": [
    "**Lets Also map and convert other basement related categorical columns**"
   ]
  },
  {
   "cell_type": "code",
   "execution_count": 62,
   "id": "4f10c635-7685-455c-8699-cb4a0e85a4e2",
   "metadata": {
    "execution": {
     "iopub.execute_input": "2023-10-10T22:11:19.603089Z",
     "iopub.status.busy": "2023-10-10T22:11:19.603089Z",
     "iopub.status.idle": "2023-10-10T22:11:19.621372Z",
     "shell.execute_reply": "2023-10-10T22:11:19.620156Z",
     "shell.execute_reply.started": "2023-10-10T22:11:19.603089Z"
    }
   },
   "outputs": [],
   "source": [
    "df_merge['BsmtQual'] = df_merge['BsmtQual'].map(bsmt_qual_mapping)\n",
    "df_merge['BsmtCond'] = df_merge['BsmtCond'].map(bsmt_cond_mapping)\n",
    "df_merge['BsmtExposure'] = df_merge['BsmtExposure'].map(bsmt_exposure_mapping)"
   ]
  },
  {
   "cell_type": "markdown",
   "id": "8cfbdf58-bea7-4339-821e-1a90c1005422",
   "metadata": {},
   "source": [
    "No we can combine all grades into one SINGLE grade point"
   ]
  },
  {
   "cell_type": "code",
   "execution_count": 63,
   "id": "fb024085-c25c-45cd-a901-30f4cbcecd0b",
   "metadata": {
    "execution": {
     "iopub.execute_input": "2023-10-10T22:11:19.623121Z",
     "iopub.status.busy": "2023-10-10T22:11:19.623121Z",
     "iopub.status.idle": "2023-10-10T22:11:19.630488Z",
     "shell.execute_reply": "2023-10-10T22:11:19.630488Z",
     "shell.execute_reply.started": "2023-10-10T22:11:19.623121Z"
    }
   },
   "outputs": [],
   "source": [
    "df_merge['BsmtOverallGrade'] = df_merge['BsmtQual'] + df_merge['BsmtCond'] + df_merge['BsmtExposure'] + df_merge['BsmtFinGrade']"
   ]
  },
  {
   "cell_type": "code",
   "execution_count": 64,
   "id": "77249b82-91e8-4b16-bb8a-ad6af5196c90",
   "metadata": {
    "execution": {
     "iopub.execute_input": "2023-10-10T22:11:19.634550Z",
     "iopub.status.busy": "2023-10-10T22:11:19.633479Z",
     "iopub.status.idle": "2023-10-10T22:11:19.660937Z",
     "shell.execute_reply": "2023-10-10T22:11:19.660937Z",
     "shell.execute_reply.started": "2023-10-10T22:11:19.634550Z"
    }
   },
   "outputs": [
    {
     "data": {
      "text/html": [
       "<div>\n",
       "<style scoped>\n",
       "    .dataframe tbody tr th:only-of-type {\n",
       "        vertical-align: middle;\n",
       "    }\n",
       "\n",
       "    .dataframe tbody tr th {\n",
       "        vertical-align: top;\n",
       "    }\n",
       "\n",
       "    .dataframe thead th {\n",
       "        text-align: right;\n",
       "    }\n",
       "</style>\n",
       "<table border=\"1\" class=\"dataframe\">\n",
       "  <thead>\n",
       "    <tr style=\"text-align: right;\">\n",
       "      <th></th>\n",
       "      <th>BsmtQual</th>\n",
       "      <th>BsmtCond</th>\n",
       "      <th>BsmtExposure</th>\n",
       "      <th>BsmtFinType1</th>\n",
       "      <th>BsmtFinSF1</th>\n",
       "      <th>BsmtFinType2</th>\n",
       "      <th>BsmtFinSF2</th>\n",
       "      <th>BsmtUnfSF</th>\n",
       "      <th>TotalBsmtSF</th>\n",
       "      <th>BsmtFinGrade</th>\n",
       "      <th>BsmtOverallGrade</th>\n",
       "    </tr>\n",
       "  </thead>\n",
       "  <tbody>\n",
       "    <tr>\n",
       "      <th>2272</th>\n",
       "      <td>4</td>\n",
       "      <td>3</td>\n",
       "      <td>1</td>\n",
       "      <td>1</td>\n",
       "      <td>0.0</td>\n",
       "      <td>1</td>\n",
       "      <td>0.0</td>\n",
       "      <td>1582.0</td>\n",
       "      <td>1582.0</td>\n",
       "      <td>1.0</td>\n",
       "      <td>9.0</td>\n",
       "    </tr>\n",
       "    <tr>\n",
       "      <th>1587</th>\n",
       "      <td>4</td>\n",
       "      <td>3</td>\n",
       "      <td>1</td>\n",
       "      <td>6</td>\n",
       "      <td>343.0</td>\n",
       "      <td>1</td>\n",
       "      <td>0.0</td>\n",
       "      <td>80.0</td>\n",
       "      <td>423.0</td>\n",
       "      <td>6.0</td>\n",
       "      <td>14.0</td>\n",
       "    </tr>\n",
       "    <tr>\n",
       "      <th>403</th>\n",
       "      <td>4</td>\n",
       "      <td>3</td>\n",
       "      <td>1</td>\n",
       "      <td>1</td>\n",
       "      <td>0.0</td>\n",
       "      <td>1</td>\n",
       "      <td>0.0</td>\n",
       "      <td>806.0</td>\n",
       "      <td>806.0</td>\n",
       "      <td>1.0</td>\n",
       "      <td>9.0</td>\n",
       "    </tr>\n",
       "    <tr>\n",
       "      <th>386</th>\n",
       "      <td>3</td>\n",
       "      <td>3</td>\n",
       "      <td>3</td>\n",
       "      <td>5</td>\n",
       "      <td>631.0</td>\n",
       "      <td>1</td>\n",
       "      <td>0.0</td>\n",
       "      <td>410.0</td>\n",
       "      <td>1041.0</td>\n",
       "      <td>5.0</td>\n",
       "      <td>14.0</td>\n",
       "    </tr>\n",
       "    <tr>\n",
       "      <th>1132</th>\n",
       "      <td>3</td>\n",
       "      <td>3</td>\n",
       "      <td>4</td>\n",
       "      <td>5</td>\n",
       "      <td>1567.0</td>\n",
       "      <td>1</td>\n",
       "      <td>0.0</td>\n",
       "      <td>0.0</td>\n",
       "      <td>1567.0</td>\n",
       "      <td>5.0</td>\n",
       "      <td>15.0</td>\n",
       "    </tr>\n",
       "  </tbody>\n",
       "</table>\n",
       "</div>"
      ],
      "text/plain": [
       "      BsmtQual  BsmtCond  BsmtExposure  BsmtFinType1  BsmtFinSF1  \\\n",
       "2272         4         3             1             1         0.0   \n",
       "1587         4         3             1             6       343.0   \n",
       "403          4         3             1             1         0.0   \n",
       "386          3         3             3             5       631.0   \n",
       "1132         3         3             4             5      1567.0   \n",
       "\n",
       "      BsmtFinType2  BsmtFinSF2  BsmtUnfSF  TotalBsmtSF  BsmtFinGrade  \\\n",
       "2272             1         0.0     1582.0       1582.0           1.0   \n",
       "1587             1         0.0       80.0        423.0           6.0   \n",
       "403              1         0.0      806.0        806.0           1.0   \n",
       "386              1         0.0      410.0       1041.0           5.0   \n",
       "1132             1         0.0        0.0       1567.0           5.0   \n",
       "\n",
       "      BsmtOverallGrade  \n",
       "2272               9.0  \n",
       "1587              14.0  \n",
       "403                9.0  \n",
       "386               14.0  \n",
       "1132              15.0  "
      ]
     },
     "execution_count": 64,
     "metadata": {},
     "output_type": "execute_result"
    }
   ],
   "source": [
    "# Lets check what we have made so far\n",
    "df_merge[df_merge.columns[df_merge.columns.str.contains('Bsmt')]].sample(5)"
   ]
  },
  {
   "cell_type": "markdown",
   "id": "85c6a317-6273-4315-bcf9-c63c7474bf16",
   "metadata": {},
   "source": [
    "**Lets drop all unnecessary columns**"
   ]
  },
  {
   "cell_type": "code",
   "execution_count": 65,
   "id": "9f559ac6-bb5b-4be6-a56d-77bbe287e279",
   "metadata": {
    "execution": {
     "iopub.execute_input": "2023-10-10T22:11:19.660937Z",
     "iopub.status.busy": "2023-10-10T22:11:19.660937Z",
     "iopub.status.idle": "2023-10-10T22:11:19.672169Z",
     "shell.execute_reply": "2023-10-10T22:11:19.671086Z",
     "shell.execute_reply.started": "2023-10-10T22:11:19.660937Z"
    }
   },
   "outputs": [],
   "source": [
    "df_merge.drop(columns = ['BsmtQual', 'BsmtCond',\t'BsmtExposure',\t'BsmtFinType1',\t'BsmtFinSF1',\t'BsmtFinType2',\t'BsmtFinSF2',\t'BsmtUnfSF',\t'BsmtFinGrade'], inplace=True)"
   ]
  },
  {
   "cell_type": "code",
   "execution_count": 66,
   "id": "5101a59a-e665-44dd-9c2b-e8117f312cda",
   "metadata": {
    "execution": {
     "iopub.execute_input": "2023-10-10T22:11:19.672169Z",
     "iopub.status.busy": "2023-10-10T22:11:19.672169Z",
     "iopub.status.idle": "2023-10-10T22:11:19.686292Z",
     "shell.execute_reply": "2023-10-10T22:11:19.685082Z",
     "shell.execute_reply.started": "2023-10-10T22:11:19.672169Z"
    }
   },
   "outputs": [],
   "source": [
    "# We can NOW also drop TotalBsmtSF because this value is already in the Total Sqf feature\n",
    "df_merge.drop(columns = ['TotalBsmtSF'], inplace=True)"
   ]
  },
  {
   "cell_type": "code",
   "execution_count": 67,
   "id": "06e68c0d-32d0-48fc-a14e-02c6d7173372",
   "metadata": {
    "execution": {
     "iopub.execute_input": "2023-10-10T22:11:19.688108Z",
     "iopub.status.busy": "2023-10-10T22:11:19.686292Z",
     "iopub.status.idle": "2023-10-10T22:11:19.717404Z",
     "shell.execute_reply": "2023-10-10T22:11:19.716075Z",
     "shell.execute_reply.started": "2023-10-10T22:11:19.688108Z"
    }
   },
   "outputs": [
    {
     "data": {
      "text/html": [
       "<div>\n",
       "<style scoped>\n",
       "    .dataframe tbody tr th:only-of-type {\n",
       "        vertical-align: middle;\n",
       "    }\n",
       "\n",
       "    .dataframe tbody tr th {\n",
       "        vertical-align: top;\n",
       "    }\n",
       "\n",
       "    .dataframe thead th {\n",
       "        text-align: right;\n",
       "    }\n",
       "</style>\n",
       "<table border=\"1\" class=\"dataframe\">\n",
       "  <thead>\n",
       "    <tr style=\"text-align: right;\">\n",
       "      <th></th>\n",
       "      <th>count</th>\n",
       "      <th>mean</th>\n",
       "      <th>std</th>\n",
       "      <th>min</th>\n",
       "      <th>25%</th>\n",
       "      <th>50%</th>\n",
       "      <th>75%</th>\n",
       "      <th>max</th>\n",
       "    </tr>\n",
       "  </thead>\n",
       "  <tbody>\n",
       "    <tr>\n",
       "      <th>BsmtOverallGrade</th>\n",
       "      <td>2882.0</td>\n",
       "      <td>11.589596</td>\n",
       "      <td>3.525004</td>\n",
       "      <td>0.0</td>\n",
       "      <td>9.0</td>\n",
       "      <td>11.457062</td>\n",
       "      <td>14.0</td>\n",
       "      <td>19.0</td>\n",
       "    </tr>\n",
       "  </tbody>\n",
       "</table>\n",
       "</div>"
      ],
      "text/plain": [
       "                   count       mean       std  min  25%        50%   75%   max\n",
       "BsmtOverallGrade  2882.0  11.589596  3.525004  0.0  9.0  11.457062  14.0  19.0"
      ]
     },
     "execution_count": 67,
     "metadata": {},
     "output_type": "execute_result"
    }
   ],
   "source": [
    "# here is the remaining two columns with some statistics\n",
    "df_merge[df_merge.columns[df_merge.columns.str.contains('Bsmt')]].describe().T"
   ]
  },
  {
   "cell_type": "code",
   "execution_count": null,
   "id": "27ca9b5e-03e7-4fa7-97db-ed38f3674684",
   "metadata": {},
   "outputs": [],
   "source": []
  },
  {
   "cell_type": "code",
   "execution_count": null,
   "id": "05af07d6-f6ed-4ecd-9eca-43f6e3658dff",
   "metadata": {},
   "outputs": [],
   "source": []
  },
  {
   "cell_type": "markdown",
   "id": "cb57905e-5478-4a07-9d07-aa156f83bc85",
   "metadata": {
    "execution": {
     "iopub.execute_input": "2023-10-08T23:06:10.771223Z",
     "iopub.status.busy": "2023-10-08T23:06:10.771223Z",
     "iopub.status.idle": "2023-10-08T23:06:10.778503Z",
     "shell.execute_reply": "2023-10-08T23:06:10.777499Z",
     "shell.execute_reply.started": "2023-10-08T23:06:10.771223Z"
    }
   },
   "source": [
    "### High and Low Cardinality"
   ]
  },
  {
   "cell_type": "markdown",
   "id": "d4a4dd9a-773d-41fa-a0a8-9f2cd509b730",
   "metadata": {},
   "source": [
    "**High Cardinality:** High cardinality features (features with a large number of unique values) can sometimes introduce noise into the model. Dropping or encoding them appropriately can be a good strategy."
   ]
  },
  {
   "cell_type": "markdown",
   "id": "e8250dfa-4d43-4f6e-93ed-2d9c438db203",
   "metadata": {},
   "source": [
    "**Low Cardinality:** Low cardinality features with little variation may not contribute much information. We can Consider dropping or consolidating them."
   ]
  },
  {
   "cell_type": "code",
   "execution_count": 68,
   "id": "c6579d65-7cde-40a1-a128-f56eb24621c1",
   "metadata": {
    "execution": {
     "iopub.execute_input": "2023-10-10T22:11:19.717404Z",
     "iopub.status.busy": "2023-10-10T22:11:19.717404Z",
     "iopub.status.idle": "2023-10-10T22:11:19.735403Z",
     "shell.execute_reply": "2023-10-10T22:11:19.734363Z",
     "shell.execute_reply.started": "2023-10-10T22:11:19.717404Z"
    }
   },
   "outputs": [
    {
     "data": {
      "text/plain": [
       "(2882, 64)"
      ]
     },
     "execution_count": 68,
     "metadata": {},
     "output_type": "execute_result"
    }
   ],
   "source": [
    "df_merge.shape"
   ]
  },
  {
   "cell_type": "code",
   "execution_count": 69,
   "id": "901580ea-7aaf-49f0-9451-db4355a3227e",
   "metadata": {
    "execution": {
     "iopub.execute_input": "2023-10-10T22:11:19.735403Z",
     "iopub.status.busy": "2023-10-10T22:11:19.735403Z",
     "iopub.status.idle": "2023-10-10T22:11:19.766179Z",
     "shell.execute_reply": "2023-10-10T22:11:19.766179Z",
     "shell.execute_reply.started": "2023-10-10T22:11:19.735403Z"
    },
    "scrolled": true
   },
   "outputs": [
    {
     "data": {
      "text/plain": [
       "Id                   2882\n",
       "LotArea              1925\n",
       "Total_Area           1484\n",
       "GrLivArea            1282\n",
       "SalePrice             657\n",
       "GarageArea            601\n",
       "MasVnrArea            444\n",
       "WoodDeckSF            377\n",
       "BsmtOverallGrade      359\n",
       "OpenPorchSF           250\n",
       "EnclosedPorch         182\n",
       "LotFrontage           128\n",
       "ScreenPorch           120\n",
       "Age_of_Property       118\n",
       "Age_of_Renovation      61\n",
       "MiscVal                37\n",
       "LowQualFinSF           35\n",
       "3SsnPorch              31\n",
       "MedianHousePrice       25\n",
       "AvgHousePrice          25\n",
       "MSSubClass             16\n",
       "Exterior2nd            16\n",
       "Exterior1st            15\n",
       "TotRmsAbvGrd           14\n",
       "MoSold                 12\n",
       "Total_Bathrooms        11\n",
       "OverallQual            10\n",
       "SaleType                9\n",
       "Condition1              9\n",
       "OverallCond             9\n",
       "RoofMatl                8\n",
       "BedroomAbvGr            8\n",
       "Condition2              8\n",
       "HouseStyle              8\n",
       "Functional              7\n",
       "SaleCondition           6\n",
       "Heating                 6\n",
       "Foundation              6\n",
       "RoofStyle               6\n",
       "FireplaceQu             6\n",
       "YrSold                  5\n",
       "MiscFeature             5\n",
       "Fence                   5\n",
       "MSZoning                5\n",
       "Fireplaces              5\n",
       "BldgType                5\n",
       "LotConfig               5\n",
       "ExterCond               5\n",
       "Electrical              5\n",
       "HeatingQC               5\n",
       "LotShape                4\n",
       "LandContour             4\n",
       "MasVnrType              4\n",
       "ExterQual               4\n",
       "KitchenAbvGr            4\n",
       "KitchenQual             4\n",
       "LandSlope               3\n",
       "PavedDrive              3\n",
       "Alley                   3\n",
       "CentralAir              2\n",
       "Street                  2\n",
       "HasGarage               2\n",
       "HasPool                 2\n",
       "Utilities               2\n",
       "dtype: int64"
      ]
     },
     "execution_count": 69,
     "metadata": {},
     "output_type": "execute_result"
    }
   ],
   "source": [
    "pd.set_option('display.max_rows', None)\n",
    "df_merge.nunique().sort_values(ascending=False)"
   ]
  },
  {
   "cell_type": "markdown",
   "id": "1dd38cf0-4082-4df0-b3db-c33561e51218",
   "metadata": {},
   "source": [
    "**Firstly**, we need to drop ID column, because it has unique values and results in high cardinality  "
   ]
  },
  {
   "cell_type": "code",
   "execution_count": 70,
   "id": "1d80b0b8-e8f3-4a68-a326-8d9b3c699aa7",
   "metadata": {
    "execution": {
     "iopub.execute_input": "2023-10-10T22:11:19.769467Z",
     "iopub.status.busy": "2023-10-10T22:11:19.766179Z",
     "iopub.status.idle": "2023-10-10T22:11:19.782905Z",
     "shell.execute_reply": "2023-10-10T22:11:19.782393Z",
     "shell.execute_reply.started": "2023-10-10T22:11:19.769467Z"
    }
   },
   "outputs": [],
   "source": [
    "df_merge.drop(columns=['Id'], inplace=True)"
   ]
  },
  {
   "cell_type": "code",
   "execution_count": 71,
   "id": "1812fe7d-1da8-4978-bfff-5fa34f8b5f51",
   "metadata": {
    "execution": {
     "iopub.execute_input": "2023-10-10T22:11:19.785365Z",
     "iopub.status.busy": "2023-10-10T22:11:19.785365Z",
     "iopub.status.idle": "2023-10-10T22:11:19.858848Z",
     "shell.execute_reply": "2023-10-10T22:11:19.858483Z",
     "shell.execute_reply.started": "2023-10-10T22:11:19.785365Z"
    },
    "scrolled": true
   },
   "outputs": [
    {
     "data": {
      "text/html": [
       "<div>\n",
       "<style scoped>\n",
       "    .dataframe tbody tr th:only-of-type {\n",
       "        vertical-align: middle;\n",
       "    }\n",
       "\n",
       "    .dataframe tbody tr th {\n",
       "        vertical-align: top;\n",
       "    }\n",
       "\n",
       "    .dataframe thead th {\n",
       "        text-align: right;\n",
       "    }\n",
       "</style>\n",
       "<table border=\"1\" class=\"dataframe\">\n",
       "  <thead>\n",
       "    <tr style=\"text-align: right;\">\n",
       "      <th></th>\n",
       "      <th>count</th>\n",
       "      <th>unique</th>\n",
       "      <th>top</th>\n",
       "      <th>freq</th>\n",
       "    </tr>\n",
       "  </thead>\n",
       "  <tbody>\n",
       "    <tr>\n",
       "      <th>MSZoning</th>\n",
       "      <td>2882</td>\n",
       "      <td>5</td>\n",
       "      <td>RL</td>\n",
       "      <td>2242</td>\n",
       "    </tr>\n",
       "    <tr>\n",
       "      <th>Street</th>\n",
       "      <td>2882</td>\n",
       "      <td>2</td>\n",
       "      <td>Pave</td>\n",
       "      <td>2871</td>\n",
       "    </tr>\n",
       "    <tr>\n",
       "      <th>Alley</th>\n",
       "      <td>2882</td>\n",
       "      <td>3</td>\n",
       "      <td>No Alley Access</td>\n",
       "      <td>2687</td>\n",
       "    </tr>\n",
       "    <tr>\n",
       "      <th>LotShape</th>\n",
       "      <td>2882</td>\n",
       "      <td>4</td>\n",
       "      <td>Reg</td>\n",
       "      <td>1838</td>\n",
       "    </tr>\n",
       "    <tr>\n",
       "      <th>LandContour</th>\n",
       "      <td>2882</td>\n",
       "      <td>4</td>\n",
       "      <td>Lvl</td>\n",
       "      <td>2589</td>\n",
       "    </tr>\n",
       "    <tr>\n",
       "      <th>Utilities</th>\n",
       "      <td>2882</td>\n",
       "      <td>2</td>\n",
       "      <td>AllPub</td>\n",
       "      <td>2881</td>\n",
       "    </tr>\n",
       "    <tr>\n",
       "      <th>LotConfig</th>\n",
       "      <td>2882</td>\n",
       "      <td>5</td>\n",
       "      <td>Inside</td>\n",
       "      <td>2108</td>\n",
       "    </tr>\n",
       "    <tr>\n",
       "      <th>LandSlope</th>\n",
       "      <td>2882</td>\n",
       "      <td>3</td>\n",
       "      <td>Gtl</td>\n",
       "      <td>2742</td>\n",
       "    </tr>\n",
       "    <tr>\n",
       "      <th>Condition1</th>\n",
       "      <td>2882</td>\n",
       "      <td>9</td>\n",
       "      <td>Norm</td>\n",
       "      <td>2484</td>\n",
       "    </tr>\n",
       "    <tr>\n",
       "      <th>Condition2</th>\n",
       "      <td>2882</td>\n",
       "      <td>8</td>\n",
       "      <td>Norm</td>\n",
       "      <td>2852</td>\n",
       "    </tr>\n",
       "    <tr>\n",
       "      <th>BldgType</th>\n",
       "      <td>2882</td>\n",
       "      <td>5</td>\n",
       "      <td>1Fam</td>\n",
       "      <td>2390</td>\n",
       "    </tr>\n",
       "    <tr>\n",
       "      <th>HouseStyle</th>\n",
       "      <td>2882</td>\n",
       "      <td>8</td>\n",
       "      <td>1Story</td>\n",
       "      <td>1450</td>\n",
       "    </tr>\n",
       "    <tr>\n",
       "      <th>RoofStyle</th>\n",
       "      <td>2882</td>\n",
       "      <td>6</td>\n",
       "      <td>Gable</td>\n",
       "      <td>2281</td>\n",
       "    </tr>\n",
       "    <tr>\n",
       "      <th>RoofMatl</th>\n",
       "      <td>2882</td>\n",
       "      <td>8</td>\n",
       "      <td>CompShg</td>\n",
       "      <td>2840</td>\n",
       "    </tr>\n",
       "    <tr>\n",
       "      <th>Exterior1st</th>\n",
       "      <td>2882</td>\n",
       "      <td>15</td>\n",
       "      <td>VinylSd</td>\n",
       "      <td>1006</td>\n",
       "    </tr>\n",
       "    <tr>\n",
       "      <th>Exterior2nd</th>\n",
       "      <td>2882</td>\n",
       "      <td>16</td>\n",
       "      <td>VinylSd</td>\n",
       "      <td>993</td>\n",
       "    </tr>\n",
       "    <tr>\n",
       "      <th>MasVnrType</th>\n",
       "      <td>2882</td>\n",
       "      <td>4</td>\n",
       "      <td>None</td>\n",
       "      <td>1730</td>\n",
       "    </tr>\n",
       "    <tr>\n",
       "      <th>ExterQual</th>\n",
       "      <td>2882</td>\n",
       "      <td>4</td>\n",
       "      <td>TA</td>\n",
       "      <td>1786</td>\n",
       "    </tr>\n",
       "    <tr>\n",
       "      <th>ExterCond</th>\n",
       "      <td>2882</td>\n",
       "      <td>5</td>\n",
       "      <td>TA</td>\n",
       "      <td>2505</td>\n",
       "    </tr>\n",
       "    <tr>\n",
       "      <th>Foundation</th>\n",
       "      <td>2882</td>\n",
       "      <td>6</td>\n",
       "      <td>PConc</td>\n",
       "      <td>1283</td>\n",
       "    </tr>\n",
       "    <tr>\n",
       "      <th>Heating</th>\n",
       "      <td>2882</td>\n",
       "      <td>6</td>\n",
       "      <td>GasA</td>\n",
       "      <td>2838</td>\n",
       "    </tr>\n",
       "    <tr>\n",
       "      <th>HeatingQC</th>\n",
       "      <td>2882</td>\n",
       "      <td>5</td>\n",
       "      <td>Ex</td>\n",
       "      <td>1468</td>\n",
       "    </tr>\n",
       "    <tr>\n",
       "      <th>CentralAir</th>\n",
       "      <td>2882</td>\n",
       "      <td>2</td>\n",
       "      <td>Y</td>\n",
       "      <td>2690</td>\n",
       "    </tr>\n",
       "    <tr>\n",
       "      <th>Electrical</th>\n",
       "      <td>2882</td>\n",
       "      <td>5</td>\n",
       "      <td>SBrkr</td>\n",
       "      <td>2640</td>\n",
       "    </tr>\n",
       "    <tr>\n",
       "      <th>KitchenQual</th>\n",
       "      <td>2882</td>\n",
       "      <td>4</td>\n",
       "      <td>TA</td>\n",
       "      <td>1482</td>\n",
       "    </tr>\n",
       "    <tr>\n",
       "      <th>Functional</th>\n",
       "      <td>2882</td>\n",
       "      <td>7</td>\n",
       "      <td>Typ</td>\n",
       "      <td>2688</td>\n",
       "    </tr>\n",
       "    <tr>\n",
       "      <th>FireplaceQu</th>\n",
       "      <td>2882</td>\n",
       "      <td>6</td>\n",
       "      <td>No FirePlace</td>\n",
       "      <td>1401</td>\n",
       "    </tr>\n",
       "    <tr>\n",
       "      <th>PavedDrive</th>\n",
       "      <td>2882</td>\n",
       "      <td>3</td>\n",
       "      <td>Y</td>\n",
       "      <td>2611</td>\n",
       "    </tr>\n",
       "    <tr>\n",
       "      <th>Fence</th>\n",
       "      <td>2882</td>\n",
       "      <td>5</td>\n",
       "      <td>No Fence</td>\n",
       "      <td>2313</td>\n",
       "    </tr>\n",
       "    <tr>\n",
       "      <th>MiscFeature</th>\n",
       "      <td>2882</td>\n",
       "      <td>5</td>\n",
       "      <td>No MiscFeatures</td>\n",
       "      <td>2778</td>\n",
       "    </tr>\n",
       "    <tr>\n",
       "      <th>SaleType</th>\n",
       "      <td>2882</td>\n",
       "      <td>9</td>\n",
       "      <td>WD</td>\n",
       "      <td>2505</td>\n",
       "    </tr>\n",
       "    <tr>\n",
       "      <th>SaleCondition</th>\n",
       "      <td>2882</td>\n",
       "      <td>6</td>\n",
       "      <td>Normal</td>\n",
       "      <td>2382</td>\n",
       "    </tr>\n",
       "  </tbody>\n",
       "</table>\n",
       "</div>"
      ],
      "text/plain": [
       "              count unique              top  freq\n",
       "MSZoning       2882      5               RL  2242\n",
       "Street         2882      2             Pave  2871\n",
       "Alley          2882      3  No Alley Access  2687\n",
       "LotShape       2882      4              Reg  1838\n",
       "LandContour    2882      4              Lvl  2589\n",
       "Utilities      2882      2           AllPub  2881\n",
       "LotConfig      2882      5           Inside  2108\n",
       "LandSlope      2882      3              Gtl  2742\n",
       "Condition1     2882      9             Norm  2484\n",
       "Condition2     2882      8             Norm  2852\n",
       "BldgType       2882      5             1Fam  2390\n",
       "HouseStyle     2882      8           1Story  1450\n",
       "RoofStyle      2882      6            Gable  2281\n",
       "RoofMatl       2882      8          CompShg  2840\n",
       "Exterior1st    2882     15          VinylSd  1006\n",
       "Exterior2nd    2882     16          VinylSd   993\n",
       "MasVnrType     2882      4             None  1730\n",
       "ExterQual      2882      4               TA  1786\n",
       "ExterCond      2882      5               TA  2505\n",
       "Foundation     2882      6            PConc  1283\n",
       "Heating        2882      6             GasA  2838\n",
       "HeatingQC      2882      5               Ex  1468\n",
       "CentralAir     2882      2                Y  2690\n",
       "Electrical     2882      5            SBrkr  2640\n",
       "KitchenQual    2882      4               TA  1482\n",
       "Functional     2882      7              Typ  2688\n",
       "FireplaceQu    2882      6     No FirePlace  1401\n",
       "PavedDrive     2882      3                Y  2611\n",
       "Fence          2882      5         No Fence  2313\n",
       "MiscFeature    2882      5  No MiscFeatures  2778\n",
       "SaleType       2882      9               WD  2505\n",
       "SaleCondition  2882      6           Normal  2382"
      ]
     },
     "execution_count": 71,
     "metadata": {},
     "output_type": "execute_result"
    }
   ],
   "source": [
    "df_merge.describe(include='object').T"
   ]
  },
  {
   "cell_type": "markdown",
   "id": "c2482924-d366-4ecd-b127-a56f5cbe3230",
   "metadata": {},
   "source": [
    "**Secondly,** 'Street', 'Utilities', 'Condition2', 'RoofMatl', 'Heating', 'MiscFeature' columns has too low variations and resulting **Low Cardinalty**  \n",
    "Therefore i consider to drop them"
   ]
  },
  {
   "cell_type": "code",
   "execution_count": 72,
   "id": "215b8ea5-e388-4741-bd85-9b853602df95",
   "metadata": {
    "execution": {
     "iopub.execute_input": "2023-10-10T22:11:19.861869Z",
     "iopub.status.busy": "2023-10-10T22:11:19.858848Z",
     "iopub.status.idle": "2023-10-10T22:11:19.868950Z",
     "shell.execute_reply": "2023-10-10T22:11:19.868950Z",
     "shell.execute_reply.started": "2023-10-10T22:11:19.861869Z"
    }
   },
   "outputs": [],
   "source": [
    "df_merge.drop(columns = ['Street', 'Utilities', 'Condition2', 'RoofMatl', 'Heating', 'MiscFeature'], inplace=True)"
   ]
  },
  {
   "cell_type": "code",
   "execution_count": null,
   "id": "fbc777d9-c812-422d-a1af-66824948ea45",
   "metadata": {},
   "outputs": [],
   "source": []
  },
  {
   "cell_type": "code",
   "execution_count": null,
   "id": "f392a566-02fb-4109-849f-8cca434f3a3c",
   "metadata": {},
   "outputs": [],
   "source": []
  },
  {
   "cell_type": "markdown",
   "id": "722134e8-8a20-4744-83c4-585e296842aa",
   "metadata": {},
   "source": [
    "### Multicollinearity"
   ]
  },
  {
   "cell_type": "markdown",
   "id": "9c21c2a0-caba-4a9c-9e49-8a4c3c49979e",
   "metadata": {},
   "source": [
    "**Identifying Correlated Features:** Identifying and addressing multicollinearity is crucial for regression models. Dropping one of a set of highly correlated features is a good strategy. It helps to keep the model more interpretable and efficient.  \n",
    "**VIF (Variance Inflation Factor)**: If you want a more quantitative approach to assess multicollinearity, you can use VIF. A high VIF score indicates a high correlation between a feature and other features in the dataset."
   ]
  },
  {
   "cell_type": "markdown",
   "id": "b1430528-c3de-460a-aca7-531223abca38",
   "metadata": {},
   "source": [
    "Before diving into mathematical calculations, we can check any variables with our domain knowledge\n"
   ]
  },
  {
   "cell_type": "markdown",
   "id": "d20697ac-4a48-4fd9-8db4-0c320a39af7c",
   "metadata": {},
   "source": [
    "'GrLivArea', 'TotRmsAbvGrd', 'Total_Area' are strongly correlated each other. I need to find a balance between dropping and holding  \n",
    "I think Room Number is important along with Total Area  \n",
    "So i can drop Living Area Above the Ground"
   ]
  },
  {
   "cell_type": "code",
   "execution_count": 73,
   "id": "bd777192-9ec4-4783-bfa9-2756507b347d",
   "metadata": {
    "execution": {
     "iopub.execute_input": "2023-10-10T22:11:19.871120Z",
     "iopub.status.busy": "2023-10-10T22:11:19.871120Z",
     "iopub.status.idle": "2023-10-10T22:11:19.888608Z",
     "shell.execute_reply": "2023-10-10T22:11:19.888608Z",
     "shell.execute_reply.started": "2023-10-10T22:11:19.871120Z"
    }
   },
   "outputs": [],
   "source": [
    "df_merge.drop(columns=['GrLivArea'], inplace=True)"
   ]
  },
  {
   "cell_type": "markdown",
   "id": "2255de71-54ff-44c3-88a8-fcaae5068aa9",
   "metadata": {},
   "source": [
    "#### Correlation for Numeric VAlues"
   ]
  },
  {
   "cell_type": "code",
   "execution_count": 74,
   "id": "97c60a33-af50-4d46-b268-87cd4d6374ff",
   "metadata": {
    "execution": {
     "iopub.execute_input": "2023-10-10T22:11:19.892981Z",
     "iopub.status.busy": "2023-10-10T22:11:19.891591Z",
     "iopub.status.idle": "2023-10-10T22:11:19.955726Z",
     "shell.execute_reply": "2023-10-10T22:11:19.954222Z",
     "shell.execute_reply.started": "2023-10-10T22:11:19.892981Z"
    },
    "scrolled": true
   },
   "outputs": [
    {
     "data": {
      "text/html": [
       "<div>\n",
       "<style scoped>\n",
       "    .dataframe tbody tr th:only-of-type {\n",
       "        vertical-align: middle;\n",
       "    }\n",
       "\n",
       "    .dataframe tbody tr th {\n",
       "        vertical-align: top;\n",
       "    }\n",
       "\n",
       "    .dataframe thead th {\n",
       "        text-align: right;\n",
       "    }\n",
       "</style>\n",
       "<table border=\"1\" class=\"dataframe\">\n",
       "  <thead>\n",
       "    <tr style=\"text-align: right;\">\n",
       "      <th></th>\n",
       "      <th>OverallQual</th>\n",
       "      <th>SalePrice</th>\n",
       "      <th>Total_Area</th>\n",
       "      <th>AvgHousePrice</th>\n",
       "      <th>MedianHousePrice</th>\n",
       "    </tr>\n",
       "  </thead>\n",
       "  <tbody>\n",
       "    <tr>\n",
       "      <th>MSSubClass</th>\n",
       "      <td>NaN</td>\n",
       "      <td>NaN</td>\n",
       "      <td>NaN</td>\n",
       "      <td>NaN</td>\n",
       "      <td>NaN</td>\n",
       "    </tr>\n",
       "    <tr>\n",
       "      <th>LotFrontage</th>\n",
       "      <td>NaN</td>\n",
       "      <td>NaN</td>\n",
       "      <td>NaN</td>\n",
       "      <td>NaN</td>\n",
       "      <td>NaN</td>\n",
       "    </tr>\n",
       "    <tr>\n",
       "      <th>LotArea</th>\n",
       "      <td>NaN</td>\n",
       "      <td>NaN</td>\n",
       "      <td>NaN</td>\n",
       "      <td>NaN</td>\n",
       "      <td>NaN</td>\n",
       "    </tr>\n",
       "    <tr>\n",
       "      <th>OverallQual</th>\n",
       "      <td>NaN</td>\n",
       "      <td>0.790085</td>\n",
       "      <td>NaN</td>\n",
       "      <td>0.704644</td>\n",
       "      <td>0.711435</td>\n",
       "    </tr>\n",
       "    <tr>\n",
       "      <th>OverallCond</th>\n",
       "      <td>NaN</td>\n",
       "      <td>NaN</td>\n",
       "      <td>NaN</td>\n",
       "      <td>NaN</td>\n",
       "      <td>NaN</td>\n",
       "    </tr>\n",
       "    <tr>\n",
       "      <th>MasVnrArea</th>\n",
       "      <td>NaN</td>\n",
       "      <td>NaN</td>\n",
       "      <td>NaN</td>\n",
       "      <td>NaN</td>\n",
       "      <td>NaN</td>\n",
       "    </tr>\n",
       "    <tr>\n",
       "      <th>LowQualFinSF</th>\n",
       "      <td>NaN</td>\n",
       "      <td>NaN</td>\n",
       "      <td>NaN</td>\n",
       "      <td>NaN</td>\n",
       "      <td>NaN</td>\n",
       "    </tr>\n",
       "    <tr>\n",
       "      <th>BedroomAbvGr</th>\n",
       "      <td>NaN</td>\n",
       "      <td>NaN</td>\n",
       "      <td>NaN</td>\n",
       "      <td>NaN</td>\n",
       "      <td>NaN</td>\n",
       "    </tr>\n",
       "    <tr>\n",
       "      <th>KitchenAbvGr</th>\n",
       "      <td>NaN</td>\n",
       "      <td>NaN</td>\n",
       "      <td>NaN</td>\n",
       "      <td>NaN</td>\n",
       "      <td>NaN</td>\n",
       "    </tr>\n",
       "    <tr>\n",
       "      <th>TotRmsAbvGrd</th>\n",
       "      <td>NaN</td>\n",
       "      <td>NaN</td>\n",
       "      <td>NaN</td>\n",
       "      <td>NaN</td>\n",
       "      <td>NaN</td>\n",
       "    </tr>\n",
       "    <tr>\n",
       "      <th>Fireplaces</th>\n",
       "      <td>NaN</td>\n",
       "      <td>NaN</td>\n",
       "      <td>NaN</td>\n",
       "      <td>NaN</td>\n",
       "      <td>NaN</td>\n",
       "    </tr>\n",
       "    <tr>\n",
       "      <th>GarageArea</th>\n",
       "      <td>NaN</td>\n",
       "      <td>NaN</td>\n",
       "      <td>NaN</td>\n",
       "      <td>NaN</td>\n",
       "      <td>NaN</td>\n",
       "    </tr>\n",
       "    <tr>\n",
       "      <th>WoodDeckSF</th>\n",
       "      <td>NaN</td>\n",
       "      <td>NaN</td>\n",
       "      <td>NaN</td>\n",
       "      <td>NaN</td>\n",
       "      <td>NaN</td>\n",
       "    </tr>\n",
       "    <tr>\n",
       "      <th>OpenPorchSF</th>\n",
       "      <td>NaN</td>\n",
       "      <td>NaN</td>\n",
       "      <td>NaN</td>\n",
       "      <td>NaN</td>\n",
       "      <td>NaN</td>\n",
       "    </tr>\n",
       "    <tr>\n",
       "      <th>EnclosedPorch</th>\n",
       "      <td>NaN</td>\n",
       "      <td>NaN</td>\n",
       "      <td>NaN</td>\n",
       "      <td>NaN</td>\n",
       "      <td>NaN</td>\n",
       "    </tr>\n",
       "    <tr>\n",
       "      <th>3SsnPorch</th>\n",
       "      <td>NaN</td>\n",
       "      <td>NaN</td>\n",
       "      <td>NaN</td>\n",
       "      <td>NaN</td>\n",
       "      <td>NaN</td>\n",
       "    </tr>\n",
       "    <tr>\n",
       "      <th>ScreenPorch</th>\n",
       "      <td>NaN</td>\n",
       "      <td>NaN</td>\n",
       "      <td>NaN</td>\n",
       "      <td>NaN</td>\n",
       "      <td>NaN</td>\n",
       "    </tr>\n",
       "    <tr>\n",
       "      <th>MiscVal</th>\n",
       "      <td>NaN</td>\n",
       "      <td>NaN</td>\n",
       "      <td>NaN</td>\n",
       "      <td>NaN</td>\n",
       "      <td>NaN</td>\n",
       "    </tr>\n",
       "    <tr>\n",
       "      <th>MoSold</th>\n",
       "      <td>NaN</td>\n",
       "      <td>NaN</td>\n",
       "      <td>NaN</td>\n",
       "      <td>NaN</td>\n",
       "      <td>NaN</td>\n",
       "    </tr>\n",
       "    <tr>\n",
       "      <th>YrSold</th>\n",
       "      <td>NaN</td>\n",
       "      <td>NaN</td>\n",
       "      <td>NaN</td>\n",
       "      <td>NaN</td>\n",
       "      <td>NaN</td>\n",
       "    </tr>\n",
       "    <tr>\n",
       "      <th>SalePrice</th>\n",
       "      <td>0.790085</td>\n",
       "      <td>NaN</td>\n",
       "      <td>0.783327</td>\n",
       "      <td>0.738139</td>\n",
       "      <td>0.732792</td>\n",
       "    </tr>\n",
       "    <tr>\n",
       "      <th>Total_Area</th>\n",
       "      <td>NaN</td>\n",
       "      <td>0.783327</td>\n",
       "      <td>NaN</td>\n",
       "      <td>NaN</td>\n",
       "      <td>NaN</td>\n",
       "    </tr>\n",
       "    <tr>\n",
       "      <th>Total_Bathrooms</th>\n",
       "      <td>NaN</td>\n",
       "      <td>NaN</td>\n",
       "      <td>NaN</td>\n",
       "      <td>NaN</td>\n",
       "      <td>NaN</td>\n",
       "    </tr>\n",
       "    <tr>\n",
       "      <th>Age_of_Property</th>\n",
       "      <td>NaN</td>\n",
       "      <td>NaN</td>\n",
       "      <td>NaN</td>\n",
       "      <td>NaN</td>\n",
       "      <td>NaN</td>\n",
       "    </tr>\n",
       "    <tr>\n",
       "      <th>Age_of_Renovation</th>\n",
       "      <td>NaN</td>\n",
       "      <td>NaN</td>\n",
       "      <td>NaN</td>\n",
       "      <td>NaN</td>\n",
       "      <td>NaN</td>\n",
       "    </tr>\n",
       "    <tr>\n",
       "      <th>HasGarage</th>\n",
       "      <td>NaN</td>\n",
       "      <td>NaN</td>\n",
       "      <td>NaN</td>\n",
       "      <td>NaN</td>\n",
       "      <td>NaN</td>\n",
       "    </tr>\n",
       "    <tr>\n",
       "      <th>HasPool</th>\n",
       "      <td>NaN</td>\n",
       "      <td>NaN</td>\n",
       "      <td>NaN</td>\n",
       "      <td>NaN</td>\n",
       "      <td>NaN</td>\n",
       "    </tr>\n",
       "    <tr>\n",
       "      <th>AvgHousePrice</th>\n",
       "      <td>0.704644</td>\n",
       "      <td>0.738139</td>\n",
       "      <td>NaN</td>\n",
       "      <td>NaN</td>\n",
       "      <td>0.993275</td>\n",
       "    </tr>\n",
       "    <tr>\n",
       "      <th>MedianHousePrice</th>\n",
       "      <td>0.711435</td>\n",
       "      <td>0.732792</td>\n",
       "      <td>NaN</td>\n",
       "      <td>0.993275</td>\n",
       "      <td>NaN</td>\n",
       "    </tr>\n",
       "    <tr>\n",
       "      <th>BsmtOverallGrade</th>\n",
       "      <td>NaN</td>\n",
       "      <td>NaN</td>\n",
       "      <td>NaN</td>\n",
       "      <td>NaN</td>\n",
       "      <td>NaN</td>\n",
       "    </tr>\n",
       "  </tbody>\n",
       "</table>\n",
       "</div>"
      ],
      "text/plain": [
       "                   OverallQual  SalePrice  Total_Area  AvgHousePrice  \\\n",
       "MSSubClass                 NaN        NaN         NaN            NaN   \n",
       "LotFrontage                NaN        NaN         NaN            NaN   \n",
       "LotArea                    NaN        NaN         NaN            NaN   \n",
       "OverallQual                NaN   0.790085         NaN       0.704644   \n",
       "OverallCond                NaN        NaN         NaN            NaN   \n",
       "MasVnrArea                 NaN        NaN         NaN            NaN   \n",
       "LowQualFinSF               NaN        NaN         NaN            NaN   \n",
       "BedroomAbvGr               NaN        NaN         NaN            NaN   \n",
       "KitchenAbvGr               NaN        NaN         NaN            NaN   \n",
       "TotRmsAbvGrd               NaN        NaN         NaN            NaN   \n",
       "Fireplaces                 NaN        NaN         NaN            NaN   \n",
       "GarageArea                 NaN        NaN         NaN            NaN   \n",
       "WoodDeckSF                 NaN        NaN         NaN            NaN   \n",
       "OpenPorchSF                NaN        NaN         NaN            NaN   \n",
       "EnclosedPorch              NaN        NaN         NaN            NaN   \n",
       "3SsnPorch                  NaN        NaN         NaN            NaN   \n",
       "ScreenPorch                NaN        NaN         NaN            NaN   \n",
       "MiscVal                    NaN        NaN         NaN            NaN   \n",
       "MoSold                     NaN        NaN         NaN            NaN   \n",
       "YrSold                     NaN        NaN         NaN            NaN   \n",
       "SalePrice             0.790085        NaN    0.783327       0.738139   \n",
       "Total_Area                 NaN   0.783327         NaN            NaN   \n",
       "Total_Bathrooms            NaN        NaN         NaN            NaN   \n",
       "Age_of_Property            NaN        NaN         NaN            NaN   \n",
       "Age_of_Renovation          NaN        NaN         NaN            NaN   \n",
       "HasGarage                  NaN        NaN         NaN            NaN   \n",
       "HasPool                    NaN        NaN         NaN            NaN   \n",
       "AvgHousePrice         0.704644   0.738139         NaN            NaN   \n",
       "MedianHousePrice      0.711435   0.732792         NaN       0.993275   \n",
       "BsmtOverallGrade           NaN        NaN         NaN            NaN   \n",
       "\n",
       "                   MedianHousePrice  \n",
       "MSSubClass                      NaN  \n",
       "LotFrontage                     NaN  \n",
       "LotArea                         NaN  \n",
       "OverallQual                0.711435  \n",
       "OverallCond                     NaN  \n",
       "MasVnrArea                      NaN  \n",
       "LowQualFinSF                    NaN  \n",
       "BedroomAbvGr                    NaN  \n",
       "KitchenAbvGr                    NaN  \n",
       "TotRmsAbvGrd                    NaN  \n",
       "Fireplaces                      NaN  \n",
       "GarageArea                      NaN  \n",
       "WoodDeckSF                      NaN  \n",
       "OpenPorchSF                     NaN  \n",
       "EnclosedPorch                   NaN  \n",
       "3SsnPorch                       NaN  \n",
       "ScreenPorch                     NaN  \n",
       "MiscVal                         NaN  \n",
       "MoSold                          NaN  \n",
       "YrSold                          NaN  \n",
       "SalePrice                  0.732792  \n",
       "Total_Area                      NaN  \n",
       "Total_Bathrooms                 NaN  \n",
       "Age_of_Property                 NaN  \n",
       "Age_of_Renovation               NaN  \n",
       "HasGarage                       NaN  \n",
       "HasPool                         NaN  \n",
       "AvgHousePrice              0.993275  \n",
       "MedianHousePrice                NaN  \n",
       "BsmtOverallGrade                NaN  "
      ]
     },
     "execution_count": 74,
     "metadata": {},
     "output_type": "execute_result"
    }
   ],
   "source": [
    "corr_matrix = df_merge.corr()[ (df_merge.corr()>np.abs(0.7))   &   (df_merge.corr()!=np.abs(1))  ]\n",
    "corr_matrix.dropna(axis=1, how='all')"
   ]
  },
  {
   "cell_type": "markdown",
   "id": "581f58e6-b72e-468e-84ec-2d532b6db04a",
   "metadata": {},
   "source": [
    "Although it may be a descriptive approach to hold both Average and Median Prices for each neighborhood  \n",
    "This approach also results in multicoliinearity  \n",
    "i consider the balance is more weighted to the dropping Average price"
   ]
  },
  {
   "cell_type": "code",
   "execution_count": 75,
   "id": "2ab16ae8-7620-4d29-96c8-a2030daa7dc7",
   "metadata": {
    "execution": {
     "iopub.execute_input": "2023-10-10T22:11:19.958168Z",
     "iopub.status.busy": "2023-10-10T22:11:19.956514Z",
     "iopub.status.idle": "2023-10-10T22:11:19.971626Z",
     "shell.execute_reply": "2023-10-10T22:11:19.970705Z",
     "shell.execute_reply.started": "2023-10-10T22:11:19.958168Z"
    }
   },
   "outputs": [],
   "source": [
    "df_merge.drop(columns= ['AvgHousePrice'], inplace=True)"
   ]
  },
  {
   "cell_type": "markdown",
   "id": "0a42a6c4-7f89-41bd-b504-a92bff3e276f",
   "metadata": {},
   "source": [
    "#### Multicollinearity for Categorical (Object) Variables"
   ]
  },
  {
   "cell_type": "code",
   "execution_count": 76,
   "id": "a1f5f479-a882-418d-8a28-0c86a052dc25",
   "metadata": {
    "execution": {
     "iopub.execute_input": "2023-10-10T22:11:19.974902Z",
     "iopub.status.busy": "2023-10-10T22:11:19.974361Z",
     "iopub.status.idle": "2023-10-10T22:11:20.041579Z",
     "shell.execute_reply": "2023-10-10T22:11:20.040935Z",
     "shell.execute_reply.started": "2023-10-10T22:11:19.974902Z"
    },
    "scrolled": true
   },
   "outputs": [
    {
     "data": {
      "text/html": [
       "<div>\n",
       "<style scoped>\n",
       "    .dataframe tbody tr th:only-of-type {\n",
       "        vertical-align: middle;\n",
       "    }\n",
       "\n",
       "    .dataframe tbody tr th {\n",
       "        vertical-align: top;\n",
       "    }\n",
       "\n",
       "    .dataframe thead th {\n",
       "        text-align: right;\n",
       "    }\n",
       "</style>\n",
       "<table border=\"1\" class=\"dataframe\">\n",
       "  <thead>\n",
       "    <tr style=\"text-align: right;\">\n",
       "      <th></th>\n",
       "      <th>count</th>\n",
       "      <th>unique</th>\n",
       "      <th>top</th>\n",
       "      <th>freq</th>\n",
       "    </tr>\n",
       "  </thead>\n",
       "  <tbody>\n",
       "    <tr>\n",
       "      <th>MSZoning</th>\n",
       "      <td>2882</td>\n",
       "      <td>5</td>\n",
       "      <td>RL</td>\n",
       "      <td>2242</td>\n",
       "    </tr>\n",
       "    <tr>\n",
       "      <th>Alley</th>\n",
       "      <td>2882</td>\n",
       "      <td>3</td>\n",
       "      <td>No Alley Access</td>\n",
       "      <td>2687</td>\n",
       "    </tr>\n",
       "    <tr>\n",
       "      <th>LotShape</th>\n",
       "      <td>2882</td>\n",
       "      <td>4</td>\n",
       "      <td>Reg</td>\n",
       "      <td>1838</td>\n",
       "    </tr>\n",
       "    <tr>\n",
       "      <th>LandContour</th>\n",
       "      <td>2882</td>\n",
       "      <td>4</td>\n",
       "      <td>Lvl</td>\n",
       "      <td>2589</td>\n",
       "    </tr>\n",
       "    <tr>\n",
       "      <th>LotConfig</th>\n",
       "      <td>2882</td>\n",
       "      <td>5</td>\n",
       "      <td>Inside</td>\n",
       "      <td>2108</td>\n",
       "    </tr>\n",
       "    <tr>\n",
       "      <th>LandSlope</th>\n",
       "      <td>2882</td>\n",
       "      <td>3</td>\n",
       "      <td>Gtl</td>\n",
       "      <td>2742</td>\n",
       "    </tr>\n",
       "    <tr>\n",
       "      <th>Condition1</th>\n",
       "      <td>2882</td>\n",
       "      <td>9</td>\n",
       "      <td>Norm</td>\n",
       "      <td>2484</td>\n",
       "    </tr>\n",
       "    <tr>\n",
       "      <th>BldgType</th>\n",
       "      <td>2882</td>\n",
       "      <td>5</td>\n",
       "      <td>1Fam</td>\n",
       "      <td>2390</td>\n",
       "    </tr>\n",
       "    <tr>\n",
       "      <th>HouseStyle</th>\n",
       "      <td>2882</td>\n",
       "      <td>8</td>\n",
       "      <td>1Story</td>\n",
       "      <td>1450</td>\n",
       "    </tr>\n",
       "    <tr>\n",
       "      <th>RoofStyle</th>\n",
       "      <td>2882</td>\n",
       "      <td>6</td>\n",
       "      <td>Gable</td>\n",
       "      <td>2281</td>\n",
       "    </tr>\n",
       "    <tr>\n",
       "      <th>Exterior1st</th>\n",
       "      <td>2882</td>\n",
       "      <td>15</td>\n",
       "      <td>VinylSd</td>\n",
       "      <td>1006</td>\n",
       "    </tr>\n",
       "    <tr>\n",
       "      <th>Exterior2nd</th>\n",
       "      <td>2882</td>\n",
       "      <td>16</td>\n",
       "      <td>VinylSd</td>\n",
       "      <td>993</td>\n",
       "    </tr>\n",
       "    <tr>\n",
       "      <th>MasVnrType</th>\n",
       "      <td>2882</td>\n",
       "      <td>4</td>\n",
       "      <td>None</td>\n",
       "      <td>1730</td>\n",
       "    </tr>\n",
       "    <tr>\n",
       "      <th>ExterQual</th>\n",
       "      <td>2882</td>\n",
       "      <td>4</td>\n",
       "      <td>TA</td>\n",
       "      <td>1786</td>\n",
       "    </tr>\n",
       "    <tr>\n",
       "      <th>ExterCond</th>\n",
       "      <td>2882</td>\n",
       "      <td>5</td>\n",
       "      <td>TA</td>\n",
       "      <td>2505</td>\n",
       "    </tr>\n",
       "    <tr>\n",
       "      <th>Foundation</th>\n",
       "      <td>2882</td>\n",
       "      <td>6</td>\n",
       "      <td>PConc</td>\n",
       "      <td>1283</td>\n",
       "    </tr>\n",
       "    <tr>\n",
       "      <th>HeatingQC</th>\n",
       "      <td>2882</td>\n",
       "      <td>5</td>\n",
       "      <td>Ex</td>\n",
       "      <td>1468</td>\n",
       "    </tr>\n",
       "    <tr>\n",
       "      <th>CentralAir</th>\n",
       "      <td>2882</td>\n",
       "      <td>2</td>\n",
       "      <td>Y</td>\n",
       "      <td>2690</td>\n",
       "    </tr>\n",
       "    <tr>\n",
       "      <th>Electrical</th>\n",
       "      <td>2882</td>\n",
       "      <td>5</td>\n",
       "      <td>SBrkr</td>\n",
       "      <td>2640</td>\n",
       "    </tr>\n",
       "    <tr>\n",
       "      <th>KitchenQual</th>\n",
       "      <td>2882</td>\n",
       "      <td>4</td>\n",
       "      <td>TA</td>\n",
       "      <td>1482</td>\n",
       "    </tr>\n",
       "    <tr>\n",
       "      <th>Functional</th>\n",
       "      <td>2882</td>\n",
       "      <td>7</td>\n",
       "      <td>Typ</td>\n",
       "      <td>2688</td>\n",
       "    </tr>\n",
       "    <tr>\n",
       "      <th>FireplaceQu</th>\n",
       "      <td>2882</td>\n",
       "      <td>6</td>\n",
       "      <td>No FirePlace</td>\n",
       "      <td>1401</td>\n",
       "    </tr>\n",
       "    <tr>\n",
       "      <th>PavedDrive</th>\n",
       "      <td>2882</td>\n",
       "      <td>3</td>\n",
       "      <td>Y</td>\n",
       "      <td>2611</td>\n",
       "    </tr>\n",
       "    <tr>\n",
       "      <th>Fence</th>\n",
       "      <td>2882</td>\n",
       "      <td>5</td>\n",
       "      <td>No Fence</td>\n",
       "      <td>2313</td>\n",
       "    </tr>\n",
       "    <tr>\n",
       "      <th>SaleType</th>\n",
       "      <td>2882</td>\n",
       "      <td>9</td>\n",
       "      <td>WD</td>\n",
       "      <td>2505</td>\n",
       "    </tr>\n",
       "    <tr>\n",
       "      <th>SaleCondition</th>\n",
       "      <td>2882</td>\n",
       "      <td>6</td>\n",
       "      <td>Normal</td>\n",
       "      <td>2382</td>\n",
       "    </tr>\n",
       "  </tbody>\n",
       "</table>\n",
       "</div>"
      ],
      "text/plain": [
       "              count unique              top  freq\n",
       "MSZoning       2882      5               RL  2242\n",
       "Alley          2882      3  No Alley Access  2687\n",
       "LotShape       2882      4              Reg  1838\n",
       "LandContour    2882      4              Lvl  2589\n",
       "LotConfig      2882      5           Inside  2108\n",
       "LandSlope      2882      3              Gtl  2742\n",
       "Condition1     2882      9             Norm  2484\n",
       "BldgType       2882      5             1Fam  2390\n",
       "HouseStyle     2882      8           1Story  1450\n",
       "RoofStyle      2882      6            Gable  2281\n",
       "Exterior1st    2882     15          VinylSd  1006\n",
       "Exterior2nd    2882     16          VinylSd   993\n",
       "MasVnrType     2882      4             None  1730\n",
       "ExterQual      2882      4               TA  1786\n",
       "ExterCond      2882      5               TA  2505\n",
       "Foundation     2882      6            PConc  1283\n",
       "HeatingQC      2882      5               Ex  1468\n",
       "CentralAir     2882      2                Y  2690\n",
       "Electrical     2882      5            SBrkr  2640\n",
       "KitchenQual    2882      4               TA  1482\n",
       "Functional     2882      7              Typ  2688\n",
       "FireplaceQu    2882      6     No FirePlace  1401\n",
       "PavedDrive     2882      3                Y  2611\n",
       "Fence          2882      5         No Fence  2313\n",
       "SaleType       2882      9               WD  2505\n",
       "SaleCondition  2882      6           Normal  2382"
      ]
     },
     "execution_count": 76,
     "metadata": {},
     "output_type": "execute_result"
    }
   ],
   "source": [
    "df_merge.describe(include='object').T"
   ]
  },
  {
   "cell_type": "markdown",
   "id": "2dfbbca0-9407-4fbc-b611-605726532e2e",
   "metadata": {},
   "source": [
    "**Cramér's V**   \n",
    "I can investigate with my domain knowledge, but i will try to measure the dependencies with **Cramér's V**"
   ]
  },
  {
   "cell_type": "markdown",
   "id": "d68dcee2-ce6b-4da4-973b-1d8c05005066",
   "metadata": {},
   "source": [
    "Cramér's V is a suitable measure for associations between categorical variables. It provides a value between 0 and 1, where 0 indicates no association and 1 indicates a perfect association. This metric gives you a good sense of the strength of association between categorical variables."
   ]
  },
  {
   "cell_type": "code",
   "execution_count": 77,
   "id": "4742bead-7f23-4f89-8fce-37d7c60a4a6f",
   "metadata": {
    "execution": {
     "iopub.execute_input": "2023-10-10T22:11:20.041579Z",
     "iopub.status.busy": "2023-10-10T22:11:20.041579Z",
     "iopub.status.idle": "2023-10-10T22:11:20.058506Z",
     "shell.execute_reply": "2023-10-10T22:11:20.057816Z",
     "shell.execute_reply.started": "2023-10-10T22:11:20.041579Z"
    },
    "scrolled": true
   },
   "outputs": [
    {
     "data": {
      "text/plain": [
       "['MSZoning',\n",
       " 'Alley',\n",
       " 'LotShape',\n",
       " 'LandContour',\n",
       " 'LotConfig',\n",
       " 'LandSlope',\n",
       " 'Condition1',\n",
       " 'BldgType',\n",
       " 'HouseStyle',\n",
       " 'RoofStyle',\n",
       " 'Exterior1st',\n",
       " 'Exterior2nd',\n",
       " 'MasVnrType',\n",
       " 'ExterQual',\n",
       " 'ExterCond',\n",
       " 'Foundation',\n",
       " 'HeatingQC',\n",
       " 'CentralAir',\n",
       " 'Electrical',\n",
       " 'KitchenQual',\n",
       " 'Functional',\n",
       " 'FireplaceQu',\n",
       " 'PavedDrive',\n",
       " 'Fence',\n",
       " 'SaleType',\n",
       " 'SaleCondition']"
      ]
     },
     "execution_count": 77,
     "metadata": {},
     "output_type": "execute_result"
    }
   ],
   "source": [
    "categorical_variables = list(df_merge.columns[df_merge.dtypes == 'object'])\n",
    "categorical_variables"
   ]
  },
  {
   "cell_type": "code",
   "execution_count": 78,
   "id": "aa4b1607-e7ea-4155-b1ed-92670f74f8ae",
   "metadata": {
    "execution": {
     "iopub.execute_input": "2023-10-10T22:11:20.060218Z",
     "iopub.status.busy": "2023-10-10T22:11:20.060218Z",
     "iopub.status.idle": "2023-10-10T22:11:25.168505Z",
     "shell.execute_reply": "2023-10-10T22:11:25.168505Z",
     "shell.execute_reply.started": "2023-10-10T22:11:20.060218Z"
    },
    "scrolled": true
   },
   "outputs": [],
   "source": [
    "from scipy.stats import chi2_contingency\n",
    "\n",
    "cramer_v_dict = {}\n",
    "\n",
    "for var1 in categorical_variables:\n",
    "    for var2 in categorical_variables:\n",
    "        if var1 != var2:\n",
    "            contingency_table = pd.crosstab(df_merge[var1], df_merge[var2])\n",
    "            chi2, _, _, _ = chi2_contingency(contingency_table)\n",
    "            num_obs = contingency_table.sum().sum()\n",
    "            v = np.sqrt(chi2 / (num_obs * (min(contingency_table.shape) - 1)))\n",
    "            cramer_v_dict[(var1, var2)] = v"
   ]
  },
  {
   "cell_type": "code",
   "execution_count": 79,
   "id": "67f37bd1-c00c-45d1-b779-751677b703fe",
   "metadata": {
    "execution": {
     "iopub.execute_input": "2023-10-10T22:11:25.171497Z",
     "iopub.status.busy": "2023-10-10T22:11:25.171497Z",
     "iopub.status.idle": "2023-10-10T22:11:25.184782Z",
     "shell.execute_reply": "2023-10-10T22:11:25.184782Z",
     "shell.execute_reply.started": "2023-10-10T22:11:25.171497Z"
    }
   },
   "outputs": [
    {
     "name": "stdout",
     "output_type": "stream",
     "text": [
      "('MSZoning', 'Alley') 0.4194666581367363\n",
      "('Alley', 'MSZoning') 0.4194666581367362\n",
      "('LandContour', 'LandSlope') 0.43980958262951253\n",
      "('LandSlope', 'LandContour') 0.43980958262951253\n",
      "('Exterior1st', 'Exterior2nd') 0.7392909230451972\n",
      "('Exterior2nd', 'Exterior1st') 0.7392909230451973\n",
      "('ExterQual', 'KitchenQual') 0.5453474021344218\n",
      "('KitchenQual', 'ExterQual') 0.5453474021344218\n",
      "('SaleType', 'SaleCondition') 0.47161457712203103\n",
      "('SaleCondition', 'SaleType') 0.471614577122031\n"
     ]
    }
   ],
   "source": [
    "for i, v in cramer_v_dict.items():\n",
    "    if v>0.4:\n",
    "        print(i,v)"
   ]
  },
  {
   "cell_type": "markdown",
   "id": "4191b34c-fc4a-42b8-b085-6258c26d11a4",
   "metadata": {},
   "source": [
    "Here is the measures i will take:\n",
    "- I will not drop Alley or MSZoning, because i think they are not describing directly each other\n",
    "- I will drop Landslope over LandContour, because contour has more descriptive data"
   ]
  },
  {
   "cell_type": "code",
   "execution_count": 80,
   "id": "8862fbbb-c9e5-4fa7-89d4-b0e8aeebb036",
   "metadata": {
    "execution": {
     "iopub.execute_input": "2023-10-10T22:11:25.187741Z",
     "iopub.status.busy": "2023-10-10T22:11:25.186262Z",
     "iopub.status.idle": "2023-10-10T22:11:25.201100Z",
     "shell.execute_reply": "2023-10-10T22:11:25.201100Z",
     "shell.execute_reply.started": "2023-10-10T22:11:25.187741Z"
    }
   },
   "outputs": [],
   "source": [
    "df_merge.drop(columns=['LandSlope'], inplace=True)"
   ]
  },
  {
   "cell_type": "code",
   "execution_count": 81,
   "id": "a9ca5d98-5c5b-4e4e-a322-b9d30928976b",
   "metadata": {
    "execution": {
     "iopub.execute_input": "2023-10-10T22:11:25.203326Z",
     "iopub.status.busy": "2023-10-10T22:11:25.203326Z",
     "iopub.status.idle": "2023-10-10T22:11:25.217412Z",
     "shell.execute_reply": "2023-10-10T22:11:25.217412Z",
     "shell.execute_reply.started": "2023-10-10T22:11:25.203326Z"
    }
   },
   "outputs": [
    {
     "data": {
      "text/plain": [
       "428"
      ]
     },
     "execution_count": 81,
     "metadata": {},
     "output_type": "execute_result"
    }
   ],
   "source": [
    "len(df_merge[df_merge['Exterior1st'] != df_merge['Exterior2nd']])"
   ]
  },
  {
   "cell_type": "markdown",
   "id": "2e871c8c-9770-4631-bd39-97a59bdc7028",
   "metadata": {},
   "source": [
    "- I will drop Exterior2nd, except 428 instances there are no value in Exterior 2nd. Even exist, its not as descriptive as it harms model by multicollinearity"
   ]
  },
  {
   "cell_type": "code",
   "execution_count": 82,
   "id": "692e8dfd-eb46-4fd7-8913-d8f178abbea0",
   "metadata": {
    "execution": {
     "iopub.execute_input": "2023-10-10T22:11:25.218926Z",
     "iopub.status.busy": "2023-10-10T22:11:25.218926Z",
     "iopub.status.idle": "2023-10-10T22:11:25.226711Z",
     "shell.execute_reply": "2023-10-10T22:11:25.225992Z",
     "shell.execute_reply.started": "2023-10-10T22:11:25.218926Z"
    }
   },
   "outputs": [],
   "source": [
    "df_merge.drop(columns=['Exterior2nd'], inplace=True)"
   ]
  },
  {
   "cell_type": "markdown",
   "id": "56e86cc0-959f-4248-9651-09f97c7fa34b",
   "metadata": {},
   "source": [
    "* i will drop SaleType over SaleCondition. because it is less descriptive and also it's data is somehow described in other columns as well"
   ]
  },
  {
   "cell_type": "code",
   "execution_count": 83,
   "id": "099375fc-eedc-4234-b157-52ffb2eefb1b",
   "metadata": {
    "execution": {
     "iopub.execute_input": "2023-10-10T22:11:25.226711Z",
     "iopub.status.busy": "2023-10-10T22:11:25.226711Z",
     "iopub.status.idle": "2023-10-10T22:11:25.241205Z",
     "shell.execute_reply": "2023-10-10T22:11:25.240933Z",
     "shell.execute_reply.started": "2023-10-10T22:11:25.226711Z"
    }
   },
   "outputs": [],
   "source": [
    "df_merge.drop(columns=['SaleType'], inplace=True)"
   ]
  },
  {
   "cell_type": "markdown",
   "id": "cf640011-c844-4177-a739-caf9deeeff5c",
   "metadata": {},
   "source": [
    "* I will drop ExterQual ove KitchenQual.\n",
    "* ExterQual somehow is reflected in External material, age, renovation age"
   ]
  },
  {
   "cell_type": "code",
   "execution_count": 84,
   "id": "e3cb9cca-a84f-4653-aa23-e7aa2692722b",
   "metadata": {
    "execution": {
     "iopub.execute_input": "2023-10-10T22:11:25.243875Z",
     "iopub.status.busy": "2023-10-10T22:11:25.241205Z",
     "iopub.status.idle": "2023-10-10T22:11:25.257706Z",
     "shell.execute_reply": "2023-10-10T22:11:25.257061Z",
     "shell.execute_reply.started": "2023-10-10T22:11:25.243875Z"
    }
   },
   "outputs": [],
   "source": [
    "df_merge.drop(columns=['ExterQual'], inplace=True)"
   ]
  },
  {
   "cell_type": "markdown",
   "id": "ed025540-cf33-4095-964e-7993ce44c0b1",
   "metadata": {},
   "source": [
    "### Feature Engineering Continued"
   ]
  },
  {
   "cell_type": "code",
   "execution_count": 85,
   "id": "1fdc12a9-c0ab-441c-9284-fc535a04a5f1",
   "metadata": {
    "execution": {
     "iopub.execute_input": "2023-10-10T22:11:25.259303Z",
     "iopub.status.busy": "2023-10-10T22:11:25.259303Z",
     "iopub.status.idle": "2023-10-10T22:11:25.274485Z",
     "shell.execute_reply": "2023-10-10T22:11:25.273641Z",
     "shell.execute_reply.started": "2023-10-10T22:11:25.259303Z"
    }
   },
   "outputs": [
    {
     "data": {
      "text/plain": [
       "(2882, 51)"
      ]
     },
     "execution_count": 85,
     "metadata": {},
     "output_type": "execute_result"
    }
   ],
   "source": [
    "df_merge.shape"
   ]
  },
  {
   "cell_type": "code",
   "execution_count": 86,
   "id": "add52ccb-7638-4c80-852f-7a1ed3fc88a6",
   "metadata": {
    "execution": {
     "iopub.execute_input": "2023-10-10T22:11:25.276360Z",
     "iopub.status.busy": "2023-10-10T22:11:25.276360Z",
     "iopub.status.idle": "2023-10-10T22:11:25.284238Z",
     "shell.execute_reply": "2023-10-10T22:11:25.284238Z",
     "shell.execute_reply.started": "2023-10-10T22:11:25.276360Z"
    }
   },
   "outputs": [
    {
     "data": {
      "text/plain": [
       "Index(['MSSubClass', 'MSZoning', 'LotFrontage', 'LotArea', 'Alley', 'LotShape',\n",
       "       'LandContour', 'LotConfig', 'Condition1', 'BldgType', 'HouseStyle',\n",
       "       'OverallQual', 'OverallCond', 'RoofStyle', 'Exterior1st', 'MasVnrType',\n",
       "       'MasVnrArea', 'ExterCond', 'Foundation', 'HeatingQC', 'CentralAir',\n",
       "       'Electrical', 'LowQualFinSF', 'BedroomAbvGr', 'KitchenAbvGr',\n",
       "       'KitchenQual', 'TotRmsAbvGrd', 'Functional', 'Fireplaces',\n",
       "       'FireplaceQu', 'GarageArea', 'PavedDrive', 'WoodDeckSF', 'OpenPorchSF',\n",
       "       'EnclosedPorch', '3SsnPorch', 'ScreenPorch', 'Fence', 'MiscVal',\n",
       "       'MoSold', 'YrSold', 'SaleCondition', 'SalePrice', 'Total_Area',\n",
       "       'Total_Bathrooms', 'Age_of_Property', 'Age_of_Renovation', 'HasGarage',\n",
       "       'HasPool', 'MedianHousePrice', 'BsmtOverallGrade'],\n",
       "      dtype='object')"
      ]
     },
     "execution_count": 86,
     "metadata": {},
     "output_type": "execute_result"
    }
   ],
   "source": [
    "df_merge.columns"
   ]
  },
  {
   "cell_type": "code",
   "execution_count": null,
   "id": "94690906-e5de-4f05-9d84-f9286c048b2f",
   "metadata": {},
   "outputs": [],
   "source": []
  },
  {
   "cell_type": "code",
   "execution_count": null,
   "id": "21ccd555-1c9d-405d-83ff-94b019b823b9",
   "metadata": {},
   "outputs": [],
   "source": []
  },
  {
   "cell_type": "markdown",
   "id": "eb2d27f5-8dcf-42bb-bc4c-753f08753c16",
   "metadata": {
    "execution": {
     "iopub.execute_input": "2023-10-10T10:57:18.989580Z",
     "iopub.status.busy": "2023-10-10T10:57:18.989580Z",
     "iopub.status.idle": "2023-10-10T10:57:19.009485Z",
     "shell.execute_reply": "2023-10-10T10:57:19.009485Z",
     "shell.execute_reply.started": "2023-10-10T10:57:18.989580Z"
    }
   },
   "source": [
    "**Rooms**"
   ]
  },
  {
   "cell_type": "code",
   "execution_count": 87,
   "id": "44048996-2a9e-4864-a04c-241c587e1544",
   "metadata": {
    "execution": {
     "iopub.execute_input": "2023-10-10T22:11:25.287048Z",
     "iopub.status.busy": "2023-10-10T22:11:25.287048Z",
     "iopub.status.idle": "2023-10-10T22:11:25.295130Z",
     "shell.execute_reply": "2023-10-10T22:11:25.295130Z",
     "shell.execute_reply.started": "2023-10-10T22:11:25.287048Z"
    }
   },
   "outputs": [],
   "source": [
    "# no need to hold both TotRmsAbvGrd and 'BedroomAbvGr'\n",
    "df_merge.drop(columns = ['BedroomAbvGr'], inplace=True)"
   ]
  },
  {
   "cell_type": "markdown",
   "id": "62bb0181-fe5b-4cd0-8caa-44986b52b90a",
   "metadata": {},
   "source": [
    "**Porch and Deck Columns**"
   ]
  },
  {
   "cell_type": "markdown",
   "id": "ba86f59f-be3b-4b0c-8dd4-ee0114907faf",
   "metadata": {},
   "source": [
    "'WoodDeckSF', 'OpenPorchSF', 'EnclosedPorch', '3SsnPorch', 'ScreenPorch'  \n",
    "i will combine these features into one single one"
   ]
  },
  {
   "cell_type": "code",
   "execution_count": 88,
   "id": "7a514981-5348-4abf-997d-4ef48258144c",
   "metadata": {
    "execution": {
     "iopub.execute_input": "2023-10-10T22:11:25.295130Z",
     "iopub.status.busy": "2023-10-10T22:11:25.295130Z",
     "iopub.status.idle": "2023-10-10T22:11:25.307512Z",
     "shell.execute_reply": "2023-10-10T22:11:25.306501Z",
     "shell.execute_reply.started": "2023-10-10T22:11:25.295130Z"
    },
    "scrolled": true
   },
   "outputs": [],
   "source": [
    "terrace_columns = ['WoodDeckSF', 'OpenPorchSF', 'EnclosedPorch', '3SsnPorch', 'ScreenPorch']\n",
    "terrace_weights = [1, 1, 2, 2, 2]\n",
    "\n",
    "df_merge['Terrace_Grade'] = (df_merge[terrace_columns[0]] * terrace_weights[0] +\n",
    "                            df_merge[terrace_columns[1]] * terrace_weights[1] +\n",
    "                             df_merge[terrace_columns[2]] * terrace_weights[2] +\n",
    "                             df_merge[terrace_columns[3]] * terrace_weights[3] +\n",
    "                             df_merge[terrace_columns[4]] * terrace_weights[4])"
   ]
  },
  {
   "cell_type": "code",
   "execution_count": 89,
   "id": "47ef511c-c9d6-4278-99ca-a18e1ade76cd",
   "metadata": {
    "execution": {
     "iopub.execute_input": "2023-10-10T22:11:25.309254Z",
     "iopub.status.busy": "2023-10-10T22:11:25.307512Z",
     "iopub.status.idle": "2023-10-10T22:11:25.324603Z",
     "shell.execute_reply": "2023-10-10T22:11:25.324172Z",
     "shell.execute_reply.started": "2023-10-10T22:11:25.309254Z"
    }
   },
   "outputs": [],
   "source": [
    "df_merge.drop(columns=terrace_columns, inplace=True)"
   ]
  },
  {
   "cell_type": "markdown",
   "id": "67841a71-5046-41d9-9970-4a2270d883c9",
   "metadata": {},
   "source": [
    "## Final Issues Feature Engineering"
   ]
  },
  {
   "cell_type": "markdown",
   "id": "9437e3e3-2ef2-4677-a8e4-686518477c47",
   "metadata": {},
   "source": [
    "**this part is the version0.1 of the model with limited features selected by domain knowledge and dataset information**"
   ]
  },
  {
   "cell_type": "code",
   "execution_count": 90,
   "id": "f13f0f75-0eda-4496-9cc4-fc828f642916",
   "metadata": {
    "execution": {
     "iopub.execute_input": "2023-10-10T22:11:25.326963Z",
     "iopub.status.busy": "2023-10-10T22:11:25.326561Z",
     "iopub.status.idle": "2023-10-10T22:11:25.340949Z",
     "shell.execute_reply": "2023-10-10T22:11:25.340241Z",
     "shell.execute_reply.started": "2023-10-10T22:11:25.326963Z"
    }
   },
   "outputs": [
    {
     "data": {
      "text/plain": [
       "(2882, 46)"
      ]
     },
     "execution_count": 90,
     "metadata": {},
     "output_type": "execute_result"
    }
   ],
   "source": [
    "df_merge.shape"
   ]
  },
  {
   "cell_type": "markdown",
   "id": "7bcd6c99-9000-4c6b-8fff-9d0aed9b9bec",
   "metadata": {},
   "source": [
    "For the sake of simplicity i will only select some of the features for the first run of model  \n",
    "Later on, i will come to this part and continue with 46 features again. And make a comparison"
   ]
  },
  {
   "cell_type": "code",
   "execution_count": 91,
   "id": "d8488efb-4250-4e2b-a8bb-9acb915254ee",
   "metadata": {
    "execution": {
     "iopub.execute_input": "2023-10-10T22:11:25.343109Z",
     "iopub.status.busy": "2023-10-10T22:11:25.340949Z",
     "iopub.status.idle": "2023-10-10T22:11:25.350290Z",
     "shell.execute_reply": "2023-10-10T22:11:25.350290Z",
     "shell.execute_reply.started": "2023-10-10T22:11:25.343109Z"
    }
   },
   "outputs": [
    {
     "data": {
      "text/plain": [
       "Index(['MSSubClass', 'MSZoning', 'LotFrontage', 'LotArea', 'Alley', 'LotShape',\n",
       "       'LandContour', 'LotConfig', 'Condition1', 'BldgType', 'HouseStyle',\n",
       "       'OverallQual', 'OverallCond', 'RoofStyle', 'Exterior1st', 'MasVnrType',\n",
       "       'MasVnrArea', 'ExterCond', 'Foundation', 'HeatingQC', 'CentralAir',\n",
       "       'Electrical', 'LowQualFinSF', 'KitchenAbvGr', 'KitchenQual',\n",
       "       'TotRmsAbvGrd', 'Functional', 'Fireplaces', 'FireplaceQu', 'GarageArea',\n",
       "       'PavedDrive', 'Fence', 'MiscVal', 'MoSold', 'YrSold', 'SaleCondition',\n",
       "       'SalePrice', 'Total_Area', 'Total_Bathrooms', 'Age_of_Property',\n",
       "       'Age_of_Renovation', 'HasGarage', 'HasPool', 'MedianHousePrice',\n",
       "       'BsmtOverallGrade', 'Terrace_Grade'],\n",
       "      dtype='object')"
      ]
     },
     "execution_count": 91,
     "metadata": {},
     "output_type": "execute_result"
    }
   ],
   "source": [
    "df_merge.columns"
   ]
  },
  {
   "cell_type": "markdown",
   "id": "3fdd996b-1c73-48b4-af59-783989523aef",
   "metadata": {},
   "source": [
    "I will use domain knowledge and intuition from the dataset i gathered, and will drop more features. I want to have around 15-20 features to continue our model"
   ]
  },
  {
   "cell_type": "code",
   "execution_count": 92,
   "id": "72497dfa-1939-41a3-971e-9d3b94759d80",
   "metadata": {
    "execution": {
     "iopub.execute_input": "2023-10-10T22:11:25.350290Z",
     "iopub.status.busy": "2023-10-10T22:11:25.350290Z",
     "iopub.status.idle": "2023-10-10T22:11:25.368290Z",
     "shell.execute_reply": "2023-10-10T22:11:25.368290Z",
     "shell.execute_reply.started": "2023-10-10T22:11:25.350290Z"
    },
    "scrolled": true
   },
   "outputs": [],
   "source": [
    "columns_to_use_v1 = ['BsmtOverallGrade', 'Terrace_Grade', 'ExterCond', 'KitchenQual', 'OverallQual', 'OverallCond','LotArea', \n",
    "                     'Total_Area', 'Total_Bathrooms', 'GarageArea', 'TotRmsAbvGrd','Age_of_Property', 'Age_of_Renovation', \n",
    "                     'MoSold', 'YrSold', 'SaleCondition','MSZoning', 'MedianHousePrice', 'SalePrice', 'Condition1', 'HouseStyle']"
   ]
  },
  {
   "cell_type": "code",
   "execution_count": 93,
   "id": "a558549f-5886-40fa-9722-78c5de95441d",
   "metadata": {
    "execution": {
     "iopub.execute_input": "2023-10-10T22:11:25.371010Z",
     "iopub.status.busy": "2023-10-10T22:11:25.368290Z",
     "iopub.status.idle": "2023-10-10T22:11:25.382619Z",
     "shell.execute_reply": "2023-10-10T22:11:25.382619Z",
     "shell.execute_reply.started": "2023-10-10T22:11:25.371010Z"
    },
    "scrolled": true
   },
   "outputs": [
    {
     "data": {
      "text/plain": [
       "['MSSubClass',\n",
       " 'LotFrontage',\n",
       " 'Alley',\n",
       " 'LotShape',\n",
       " 'LandContour',\n",
       " 'LotConfig',\n",
       " 'BldgType',\n",
       " 'RoofStyle',\n",
       " 'Exterior1st',\n",
       " 'MasVnrType',\n",
       " 'MasVnrArea',\n",
       " 'Foundation',\n",
       " 'HeatingQC',\n",
       " 'CentralAir',\n",
       " 'Electrical',\n",
       " 'LowQualFinSF',\n",
       " 'KitchenAbvGr',\n",
       " 'Functional',\n",
       " 'Fireplaces',\n",
       " 'FireplaceQu',\n",
       " 'PavedDrive',\n",
       " 'Fence',\n",
       " 'MiscVal',\n",
       " 'HasGarage',\n",
       " 'HasPool']"
      ]
     },
     "execution_count": 93,
     "metadata": {},
     "output_type": "execute_result"
    }
   ],
   "source": [
    "columns_to_drop_v1 = [col for col in df_merge.columns if col not in columns_to_use_v1]\n",
    "columns_to_drop_v1"
   ]
  },
  {
   "cell_type": "code",
   "execution_count": 94,
   "id": "9fd5f74c-c8b4-42b3-9233-ca4ff745f4fe",
   "metadata": {
    "execution": {
     "iopub.execute_input": "2023-10-10T22:11:25.385111Z",
     "iopub.status.busy": "2023-10-10T22:11:25.382619Z",
     "iopub.status.idle": "2023-10-10T22:11:25.398856Z",
     "shell.execute_reply": "2023-10-10T22:11:25.398856Z",
     "shell.execute_reply.started": "2023-10-10T22:11:25.385111Z"
    }
   },
   "outputs": [],
   "source": [
    "df = df_merge.drop(columns=columns_to_drop_v1)"
   ]
  },
  {
   "cell_type": "code",
   "execution_count": 95,
   "id": "af8a6455-f406-4d8a-bf8c-7a73688705b5",
   "metadata": {
    "execution": {
     "iopub.execute_input": "2023-10-10T22:11:25.398856Z",
     "iopub.status.busy": "2023-10-10T22:11:25.398856Z",
     "iopub.status.idle": "2023-10-10T22:11:25.414855Z",
     "shell.execute_reply": "2023-10-10T22:11:25.412843Z",
     "shell.execute_reply.started": "2023-10-10T22:11:25.398856Z"
    }
   },
   "outputs": [
    {
     "data": {
      "text/plain": [
       "(2882, 21)"
      ]
     },
     "execution_count": 95,
     "metadata": {},
     "output_type": "execute_result"
    }
   ],
   "source": [
    "df.shape"
   ]
  },
  {
   "cell_type": "code",
   "execution_count": 96,
   "id": "297243aa-2dc0-4f06-bb6f-c1bcec9523d3",
   "metadata": {
    "execution": {
     "iopub.execute_input": "2023-10-10T22:11:25.416106Z",
     "iopub.status.busy": "2023-10-10T22:11:25.416106Z",
     "iopub.status.idle": "2023-10-10T22:11:25.439607Z",
     "shell.execute_reply": "2023-10-10T22:11:25.439607Z",
     "shell.execute_reply.started": "2023-10-10T22:11:25.416106Z"
    }
   },
   "outputs": [
    {
     "data": {
      "text/html": [
       "<div>\n",
       "<style scoped>\n",
       "    .dataframe tbody tr th:only-of-type {\n",
       "        vertical-align: middle;\n",
       "    }\n",
       "\n",
       "    .dataframe tbody tr th {\n",
       "        vertical-align: top;\n",
       "    }\n",
       "\n",
       "    .dataframe thead th {\n",
       "        text-align: right;\n",
       "    }\n",
       "</style>\n",
       "<table border=\"1\" class=\"dataframe\">\n",
       "  <thead>\n",
       "    <tr style=\"text-align: right;\">\n",
       "      <th></th>\n",
       "      <th>MSZoning</th>\n",
       "      <th>LotArea</th>\n",
       "      <th>Condition1</th>\n",
       "      <th>HouseStyle</th>\n",
       "      <th>OverallQual</th>\n",
       "      <th>OverallCond</th>\n",
       "      <th>ExterCond</th>\n",
       "      <th>KitchenQual</th>\n",
       "      <th>TotRmsAbvGrd</th>\n",
       "      <th>GarageArea</th>\n",
       "      <th>MoSold</th>\n",
       "      <th>YrSold</th>\n",
       "      <th>SaleCondition</th>\n",
       "      <th>SalePrice</th>\n",
       "      <th>Total_Area</th>\n",
       "      <th>Total_Bathrooms</th>\n",
       "      <th>Age_of_Property</th>\n",
       "      <th>Age_of_Renovation</th>\n",
       "      <th>MedianHousePrice</th>\n",
       "      <th>BsmtOverallGrade</th>\n",
       "      <th>Terrace_Grade</th>\n",
       "    </tr>\n",
       "  </thead>\n",
       "  <tbody>\n",
       "    <tr>\n",
       "      <th>87</th>\n",
       "      <td>FV</td>\n",
       "      <td>3951</td>\n",
       "      <td>Norm</td>\n",
       "      <td>2Story</td>\n",
       "      <td>6</td>\n",
       "      <td>5</td>\n",
       "      <td>TA</td>\n",
       "      <td>Gd</td>\n",
       "      <td>4</td>\n",
       "      <td>528.0</td>\n",
       "      <td>6</td>\n",
       "      <td>2009</td>\n",
       "      <td>Partial</td>\n",
       "      <td>164500.0</td>\n",
       "      <td>1836.0</td>\n",
       "      <td>2.5</td>\n",
       "      <td>1</td>\n",
       "      <td>1</td>\n",
       "      <td>225500.0</td>\n",
       "      <td>11.0</td>\n",
       "      <td>234</td>\n",
       "    </tr>\n",
       "    <tr>\n",
       "      <th>2137</th>\n",
       "      <td>RL</td>\n",
       "      <td>14171</td>\n",
       "      <td>Norm</td>\n",
       "      <td>2Story</td>\n",
       "      <td>7</td>\n",
       "      <td>5</td>\n",
       "      <td>TA</td>\n",
       "      <td>Gd</td>\n",
       "      <td>9</td>\n",
       "      <td>453.0</td>\n",
       "      <td>12</td>\n",
       "      <td>2008</td>\n",
       "      <td>Normal</td>\n",
       "      <td>NaN</td>\n",
       "      <td>3012.0</td>\n",
       "      <td>2.5</td>\n",
       "      <td>17</td>\n",
       "      <td>16</td>\n",
       "      <td>179900.0</td>\n",
       "      <td>14.0</td>\n",
       "      <td>266</td>\n",
       "    </tr>\n",
       "    <tr>\n",
       "      <th>1130</th>\n",
       "      <td>RL</td>\n",
       "      <td>9600</td>\n",
       "      <td>Norm</td>\n",
       "      <td>1.5Fin</td>\n",
       "      <td>6</td>\n",
       "      <td>5</td>\n",
       "      <td>TA</td>\n",
       "      <td>TA</td>\n",
       "      <td>6</td>\n",
       "      <td>288.0</td>\n",
       "      <td>4</td>\n",
       "      <td>2008</td>\n",
       "      <td>Abnorml</td>\n",
       "      <td>119000.0</td>\n",
       "      <td>2284.0</td>\n",
       "      <td>1.0</td>\n",
       "      <td>60</td>\n",
       "      <td>60</td>\n",
       "      <td>140000.0</td>\n",
       "      <td>11.0</td>\n",
       "      <td>192</td>\n",
       "    </tr>\n",
       "  </tbody>\n",
       "</table>\n",
       "</div>"
      ],
      "text/plain": [
       "     MSZoning  LotArea Condition1 HouseStyle  OverallQual  OverallCond  \\\n",
       "87         FV     3951       Norm     2Story            6            5   \n",
       "2137       RL    14171       Norm     2Story            7            5   \n",
       "1130       RL     9600       Norm     1.5Fin            6            5   \n",
       "\n",
       "     ExterCond KitchenQual  TotRmsAbvGrd  GarageArea  MoSold  YrSold  \\\n",
       "87          TA          Gd             4       528.0       6    2009   \n",
       "2137        TA          Gd             9       453.0      12    2008   \n",
       "1130        TA          TA             6       288.0       4    2008   \n",
       "\n",
       "     SaleCondition  SalePrice  Total_Area  Total_Bathrooms  Age_of_Property  \\\n",
       "87         Partial   164500.0      1836.0              2.5                1   \n",
       "2137        Normal        NaN      3012.0              2.5               17   \n",
       "1130       Abnorml   119000.0      2284.0              1.0               60   \n",
       "\n",
       "      Age_of_Renovation  MedianHousePrice  BsmtOverallGrade  Terrace_Grade  \n",
       "87                    1          225500.0              11.0            234  \n",
       "2137                 16          179900.0              14.0            266  \n",
       "1130                 60          140000.0              11.0            192  "
      ]
     },
     "execution_count": 96,
     "metadata": {},
     "output_type": "execute_result"
    }
   ],
   "source": [
    "df.sample(3)"
   ]
  },
  {
   "cell_type": "code",
   "execution_count": null,
   "id": "f0a5dc3e-ea17-4701-a87e-184214f8990b",
   "metadata": {},
   "outputs": [],
   "source": []
  },
  {
   "cell_type": "markdown",
   "id": "67ca4e8f-11dc-4417-9c0b-d0f2fca2f94c",
   "metadata": {
    "execution": {
     "iopub.execute_input": "2023-10-10T22:07:46.722956Z",
     "iopub.status.busy": "2023-10-10T22:07:46.722956Z",
     "iopub.status.idle": "2023-10-10T22:07:46.732030Z",
     "shell.execute_reply": "2023-10-10T22:07:46.731019Z",
     "shell.execute_reply.started": "2023-10-10T22:07:46.722956Z"
    }
   },
   "source": [
    "## Log Transformation of SalePrice"
   ]
  },
  {
   "cell_type": "code",
   "execution_count": 97,
   "id": "0d3bdc8f-d311-4d76-bd85-b23b1c824f8b",
   "metadata": {
    "execution": {
     "iopub.execute_input": "2023-10-10T22:11:25.441789Z",
     "iopub.status.busy": "2023-10-10T22:11:25.441789Z",
     "iopub.status.idle": "2023-10-10T22:11:25.679473Z",
     "shell.execute_reply": "2023-10-10T22:11:25.679473Z",
     "shell.execute_reply.started": "2023-10-10T22:11:25.441789Z"
    }
   },
   "outputs": [
    {
     "data": {
      "image/png": "[encoded data removed]",
      "text/plain": [
       "<Figure size 640x480 with 1 Axes>"
      ]
     },
     "metadata": {},
     "output_type": "display_data"
    }
   ],
   "source": [
    "sns.distplot(df['SalePrice']);"
   ]
  },
  {
   "cell_type": "markdown",
   "id": "09db1cd7-d44e-43c7-9a4a-6aaed8e8acc5",
   "metadata": {},
   "source": [
    "Our SalePrices are highly right skewed so it will be a good idea to make log transformation"
   ]
  },
  {
   "cell_type": "code",
   "execution_count": 98,
   "id": "9952fdb1-046b-4008-91b4-bf30d0743b13",
   "metadata": {
    "execution": {
     "iopub.execute_input": "2023-10-10T22:11:25.679473Z",
     "iopub.status.busy": "2023-10-10T22:11:25.679473Z",
     "iopub.status.idle": "2023-10-10T22:11:25.687778Z",
     "shell.execute_reply": "2023-10-10T22:11:25.687778Z",
     "shell.execute_reply.started": "2023-10-10T22:11:25.679473Z"
    }
   },
   "outputs": [],
   "source": [
    "df['SalePrice'] = np.log1p(df['SalePrice'])"
   ]
  },
  {
   "cell_type": "code",
   "execution_count": 99,
   "id": "e04b1182-6dcf-49e7-868a-d6c70c66c218",
   "metadata": {
    "execution": {
     "iopub.execute_input": "2023-10-10T22:11:25.689492Z",
     "iopub.status.busy": "2023-10-10T22:11:25.689492Z",
     "iopub.status.idle": "2023-10-10T22:11:25.890905Z",
     "shell.execute_reply": "2023-10-10T22:11:25.890677Z",
     "shell.execute_reply.started": "2023-10-10T22:11:25.689492Z"
    }
   },
   "outputs": [
    {
     "data": {
      "image/png": "[encoded data removed]",
      "text/plain": [
       "<Figure size 640x480 with 1 Axes>"
      ]
     },
     "metadata": {},
     "output_type": "display_data"
    }
   ],
   "source": [
    "sns.distplot(df['SalePrice'])\n",
    "plt.title('Log TransformedSalePrice');"
   ]
  },
  {
   "cell_type": "code",
   "execution_count": 101,
   "id": "f2a19890-e81e-43e3-ae32-9486c4d5fcad",
   "metadata": {
    "execution": {
     "iopub.execute_input": "2023-10-10T22:12:02.403927Z",
     "iopub.status.busy": "2023-10-10T22:12:02.403927Z",
     "iopub.status.idle": "2023-10-10T22:12:02.420729Z",
     "shell.execute_reply": "2023-10-10T22:12:02.419526Z",
     "shell.execute_reply.started": "2023-10-10T22:12:02.403927Z"
    }
   },
   "outputs": [
    {
     "data": {
      "text/plain": [
       "0    12.247699\n",
       "1    12.109016\n",
       "2    12.317171\n",
       "3    11.849405\n",
       "4    12.429220\n",
       "Name: SalePrice, dtype: float64"
      ]
     },
     "execution_count": 101,
     "metadata": {},
     "output_type": "execute_result"
    }
   ],
   "source": [
    "df['SalePrice'].head()"
   ]
  },
  {
   "cell_type": "code",
   "execution_count": null,
   "id": "f1d9bb29-a60f-4435-9dad-7937ea6eb734",
   "metadata": {},
   "outputs": [],
   "source": []
  },
  {
   "cell_type": "code",
   "execution_count": null,
   "id": "843afb5e-58d3-4d82-9e74-fab524c291d2",
   "metadata": {},
   "outputs": [],
   "source": []
  },
  {
   "cell_type": "markdown",
   "id": "ed07848b-31f2-4b60-8fa0-112a7d36644a",
   "metadata": {},
   "source": [
    "## Encode categorical variables"
   ]
  },
  {
   "cell_type": "markdown",
   "id": "da21f9fe-3c29-4351-807c-11dbcdfc4143",
   "metadata": {},
   "source": [
    "### Nominal Categories"
   ]
  },
  {
   "cell_type": "code",
   "execution_count": 102,
   "id": "cc9a3c97-b6dc-4335-b30f-55bde177aa93",
   "metadata": {
    "execution": {
     "iopub.execute_input": "2023-10-10T22:12:20.276919Z",
     "iopub.status.busy": "2023-10-10T22:12:20.276919Z",
     "iopub.status.idle": "2023-10-10T22:12:20.302094Z",
     "shell.execute_reply": "2023-10-10T22:12:20.300779Z",
     "shell.execute_reply.started": "2023-10-10T22:12:20.276919Z"
    }
   },
   "outputs": [],
   "source": [
    "nominal_categories = ['MSZoning', 'Condition1', 'HouseStyle', 'SaleCondition']"
   ]
  },
  {
   "cell_type": "code",
   "execution_count": 103,
   "id": "b2435dcd-dfb5-46bf-81ed-10e30e73a541",
   "metadata": {
    "execution": {
     "iopub.execute_input": "2023-10-10T22:12:20.305185Z",
     "iopub.status.busy": "2023-10-10T22:12:20.305185Z",
     "iopub.status.idle": "2023-10-10T22:12:20.324839Z",
     "shell.execute_reply": "2023-10-10T22:12:20.324839Z",
     "shell.execute_reply.started": "2023-10-10T22:12:20.305185Z"
    }
   },
   "outputs": [],
   "source": [
    "df_encoded = pd.get_dummies(df[nominal_categories], columns=nominal_categories)"
   ]
  },
  {
   "cell_type": "code",
   "execution_count": 104,
   "id": "5657f65e-c1cb-402a-a4d8-74c3add2a9f1",
   "metadata": {
    "execution": {
     "iopub.execute_input": "2023-10-10T22:12:20.324839Z",
     "iopub.status.busy": "2023-10-10T22:12:20.324839Z",
     "iopub.status.idle": "2023-10-10T22:12:20.335429Z",
     "shell.execute_reply": "2023-10-10T22:12:20.335309Z",
     "shell.execute_reply.started": "2023-10-10T22:12:20.324839Z"
    }
   },
   "outputs": [],
   "source": [
    "df.drop(columns=nominal_categories, inplace=True)"
   ]
  },
  {
   "cell_type": "code",
   "execution_count": 105,
   "id": "79e7e8db-1889-495d-a710-c2fc4377b111",
   "metadata": {
    "execution": {
     "iopub.execute_input": "2023-10-10T22:12:20.337769Z",
     "iopub.status.busy": "2023-10-10T22:12:20.337769Z",
     "iopub.status.idle": "2023-10-10T22:12:20.344915Z",
     "shell.execute_reply": "2023-10-10T22:12:20.344915Z",
     "shell.execute_reply.started": "2023-10-10T22:12:20.337769Z"
    }
   },
   "outputs": [],
   "source": [
    "df = pd.concat([df, df_encoded], axis=1)"
   ]
  },
  {
   "cell_type": "code",
   "execution_count": null,
   "id": "f8565ac5-a2f3-4d43-bbab-30a16f8b746d",
   "metadata": {},
   "outputs": [],
   "source": []
  },
  {
   "cell_type": "markdown",
   "id": "774da5f9-00d7-40b6-b228-89e7c9d1a464",
   "metadata": {
    "execution": {
     "iopub.execute_input": "2023-10-10T12:05:18.605338Z",
     "iopub.status.busy": "2023-10-10T12:05:18.604337Z",
     "iopub.status.idle": "2023-10-10T12:05:18.627383Z",
     "shell.execute_reply": "2023-10-10T12:05:18.626385Z",
     "shell.execute_reply.started": "2023-10-10T12:05:18.605338Z"
    }
   },
   "source": [
    "### Ordinal Categories"
   ]
  },
  {
   "cell_type": "code",
   "execution_count": 106,
   "id": "b2791b13-fb55-428d-abea-972c037658d7",
   "metadata": {
    "execution": {
     "iopub.execute_input": "2023-10-10T22:12:20.349286Z",
     "iopub.status.busy": "2023-10-10T22:12:20.349286Z",
     "iopub.status.idle": "2023-10-10T22:12:20.365820Z",
     "shell.execute_reply": "2023-10-10T22:12:20.365820Z",
     "shell.execute_reply.started": "2023-10-10T22:12:20.349286Z"
    }
   },
   "outputs": [],
   "source": [
    "ordinal_categories = ['ExterCond',\t'KitchenQual']"
   ]
  },
  {
   "cell_type": "code",
   "execution_count": 107,
   "id": "56007eb2-354c-4d8b-8650-f48df183600b",
   "metadata": {
    "execution": {
     "iopub.execute_input": "2023-10-10T22:12:20.369923Z",
     "iopub.status.busy": "2023-10-10T22:12:20.368779Z",
     "iopub.status.idle": "2023-10-10T22:12:20.385501Z",
     "shell.execute_reply": "2023-10-10T22:12:20.381956Z",
     "shell.execute_reply.started": "2023-10-10T22:12:20.369923Z"
    }
   },
   "outputs": [],
   "source": [
    "ordinal_mapping = {'Ex':5, 'Gd':4, 'TA':3, 'Fa':2, 'Po':1}"
   ]
  },
  {
   "cell_type": "code",
   "execution_count": 108,
   "id": "b2a218c8-9b30-4b83-8591-5c4025e4c57b",
   "metadata": {
    "execution": {
     "iopub.execute_input": "2023-10-10T22:12:20.388011Z",
     "iopub.status.busy": "2023-10-10T22:12:20.388011Z",
     "iopub.status.idle": "2023-10-10T22:12:20.412599Z",
     "shell.execute_reply": "2023-10-10T22:12:20.412599Z",
     "shell.execute_reply.started": "2023-10-10T22:12:20.388011Z"
    }
   },
   "outputs": [],
   "source": [
    "df['ExterCond'] = df['ExterCond'].map(ordinal_mapping)"
   ]
  },
  {
   "cell_type": "code",
   "execution_count": 109,
   "id": "47c98a73-aaad-44f2-b205-705783c2b405",
   "metadata": {
    "execution": {
     "iopub.execute_input": "2023-10-10T22:12:20.416541Z",
     "iopub.status.busy": "2023-10-10T22:12:20.414627Z",
     "iopub.status.idle": "2023-10-10T22:12:20.431042Z",
     "shell.execute_reply": "2023-10-10T22:12:20.431042Z",
     "shell.execute_reply.started": "2023-10-10T22:12:20.416541Z"
    }
   },
   "outputs": [],
   "source": [
    "df['KitchenQual'] = df['KitchenQual'].map(ordinal_mapping)"
   ]
  },
  {
   "cell_type": "code",
   "execution_count": 110,
   "id": "c07dd09b-186c-43f4-a0c8-7b849346d2c3",
   "metadata": {
    "execution": {
     "iopub.execute_input": "2023-10-10T22:12:20.435714Z",
     "iopub.status.busy": "2023-10-10T22:12:20.435546Z",
     "iopub.status.idle": "2023-10-10T22:12:20.468848Z",
     "shell.execute_reply": "2023-10-10T22:12:20.467961Z",
     "shell.execute_reply.started": "2023-10-10T22:12:20.435714Z"
    }
   },
   "outputs": [
    {
     "data": {
      "text/html": [
       "<div>\n",
       "<style scoped>\n",
       "    .dataframe tbody tr th:only-of-type {\n",
       "        vertical-align: middle;\n",
       "    }\n",
       "\n",
       "    .dataframe tbody tr th {\n",
       "        vertical-align: top;\n",
       "    }\n",
       "\n",
       "    .dataframe thead th {\n",
       "        text-align: right;\n",
       "    }\n",
       "</style>\n",
       "<table border=\"1\" class=\"dataframe\">\n",
       "  <thead>\n",
       "    <tr style=\"text-align: right;\">\n",
       "      <th></th>\n",
       "      <th>LotArea</th>\n",
       "      <th>OverallQual</th>\n",
       "      <th>OverallCond</th>\n",
       "      <th>ExterCond</th>\n",
       "      <th>KitchenQual</th>\n",
       "      <th>TotRmsAbvGrd</th>\n",
       "      <th>GarageArea</th>\n",
       "      <th>MoSold</th>\n",
       "      <th>YrSold</th>\n",
       "      <th>SalePrice</th>\n",
       "      <th>Total_Area</th>\n",
       "      <th>Total_Bathrooms</th>\n",
       "      <th>Age_of_Property</th>\n",
       "      <th>Age_of_Renovation</th>\n",
       "      <th>MedianHousePrice</th>\n",
       "      <th>BsmtOverallGrade</th>\n",
       "      <th>Terrace_Grade</th>\n",
       "      <th>MSZoning_C (all)</th>\n",
       "      <th>MSZoning_FV</th>\n",
       "      <th>MSZoning_RH</th>\n",
       "      <th>MSZoning_RL</th>\n",
       "      <th>MSZoning_RM</th>\n",
       "      <th>Condition1_Artery</th>\n",
       "      <th>Condition1_Feedr</th>\n",
       "      <th>Condition1_Norm</th>\n",
       "      <th>Condition1_PosA</th>\n",
       "      <th>Condition1_PosN</th>\n",
       "      <th>Condition1_RRAe</th>\n",
       "      <th>Condition1_RRAn</th>\n",
       "      <th>Condition1_RRNe</th>\n",
       "      <th>Condition1_RRNn</th>\n",
       "      <th>HouseStyle_1.5Fin</th>\n",
       "      <th>HouseStyle_1.5Unf</th>\n",
       "      <th>HouseStyle_1Story</th>\n",
       "      <th>HouseStyle_2.5Fin</th>\n",
       "      <th>HouseStyle_2.5Unf</th>\n",
       "      <th>HouseStyle_2Story</th>\n",
       "      <th>HouseStyle_SFoyer</th>\n",
       "      <th>HouseStyle_SLvl</th>\n",
       "      <th>SaleCondition_Abnorml</th>\n",
       "      <th>SaleCondition_AdjLand</th>\n",
       "      <th>SaleCondition_Alloca</th>\n",
       "      <th>SaleCondition_Family</th>\n",
       "      <th>SaleCondition_Normal</th>\n",
       "      <th>SaleCondition_Partial</th>\n",
       "    </tr>\n",
       "  </thead>\n",
       "  <tbody>\n",
       "    <tr>\n",
       "      <th>1506</th>\n",
       "      <td>17360</td>\n",
       "      <td>6</td>\n",
       "      <td>6</td>\n",
       "      <td>4</td>\n",
       "      <td>3</td>\n",
       "      <td>6</td>\n",
       "      <td>470.0</td>\n",
       "      <td>1</td>\n",
       "      <td>2010</td>\n",
       "      <td>NaN</td>\n",
       "      <td>2338.0</td>\n",
       "      <td>2.0</td>\n",
       "      <td>61</td>\n",
       "      <td>60</td>\n",
       "      <td>140000.0</td>\n",
       "      <td>10.0</td>\n",
       "      <td>300</td>\n",
       "      <td>0</td>\n",
       "      <td>0</td>\n",
       "      <td>0</td>\n",
       "      <td>1</td>\n",
       "      <td>0</td>\n",
       "      <td>1</td>\n",
       "      <td>0</td>\n",
       "      <td>0</td>\n",
       "      <td>0</td>\n",
       "      <td>0</td>\n",
       "      <td>0</td>\n",
       "      <td>0</td>\n",
       "      <td>0</td>\n",
       "      <td>0</td>\n",
       "      <td>1</td>\n",
       "      <td>0</td>\n",
       "      <td>0</td>\n",
       "      <td>0</td>\n",
       "      <td>0</td>\n",
       "      <td>0</td>\n",
       "      <td>0</td>\n",
       "      <td>0</td>\n",
       "      <td>0</td>\n",
       "      <td>0</td>\n",
       "      <td>0</td>\n",
       "      <td>0</td>\n",
       "      <td>1</td>\n",
       "      <td>0</td>\n",
       "    </tr>\n",
       "    <tr>\n",
       "      <th>2536</th>\n",
       "      <td>6221</td>\n",
       "      <td>5</td>\n",
       "      <td>5</td>\n",
       "      <td>3</td>\n",
       "      <td>3</td>\n",
       "      <td>5</td>\n",
       "      <td>528.0</td>\n",
       "      <td>10</td>\n",
       "      <td>2007</td>\n",
       "      <td>NaN</td>\n",
       "      <td>2083.0</td>\n",
       "      <td>2.0</td>\n",
       "      <td>69</td>\n",
       "      <td>60</td>\n",
       "      <td>200624.0</td>\n",
       "      <td>8.0</td>\n",
       "      <td>288</td>\n",
       "      <td>0</td>\n",
       "      <td>0</td>\n",
       "      <td>0</td>\n",
       "      <td>1</td>\n",
       "      <td>0</td>\n",
       "      <td>0</td>\n",
       "      <td>0</td>\n",
       "      <td>1</td>\n",
       "      <td>0</td>\n",
       "      <td>0</td>\n",
       "      <td>0</td>\n",
       "      <td>0</td>\n",
       "      <td>0</td>\n",
       "      <td>0</td>\n",
       "      <td>1</td>\n",
       "      <td>0</td>\n",
       "      <td>0</td>\n",
       "      <td>0</td>\n",
       "      <td>0</td>\n",
       "      <td>0</td>\n",
       "      <td>0</td>\n",
       "      <td>0</td>\n",
       "      <td>0</td>\n",
       "      <td>0</td>\n",
       "      <td>0</td>\n",
       "      <td>0</td>\n",
       "      <td>1</td>\n",
       "      <td>0</td>\n",
       "    </tr>\n",
       "    <tr>\n",
       "      <th>1977</th>\n",
       "      <td>12460</td>\n",
       "      <td>7</td>\n",
       "      <td>5</td>\n",
       "      <td>3</td>\n",
       "      <td>3</td>\n",
       "      <td>8</td>\n",
       "      <td>400.0</td>\n",
       "      <td>5</td>\n",
       "      <td>2008</td>\n",
       "      <td>NaN</td>\n",
       "      <td>3359.0</td>\n",
       "      <td>2.5</td>\n",
       "      <td>11</td>\n",
       "      <td>10</td>\n",
       "      <td>181000.0</td>\n",
       "      <td>14.0</td>\n",
       "      <td>188</td>\n",
       "      <td>0</td>\n",
       "      <td>0</td>\n",
       "      <td>0</td>\n",
       "      <td>1</td>\n",
       "      <td>0</td>\n",
       "      <td>0</td>\n",
       "      <td>0</td>\n",
       "      <td>0</td>\n",
       "      <td>0</td>\n",
       "      <td>0</td>\n",
       "      <td>0</td>\n",
       "      <td>1</td>\n",
       "      <td>0</td>\n",
       "      <td>0</td>\n",
       "      <td>0</td>\n",
       "      <td>0</td>\n",
       "      <td>0</td>\n",
       "      <td>0</td>\n",
       "      <td>0</td>\n",
       "      <td>1</td>\n",
       "      <td>0</td>\n",
       "      <td>0</td>\n",
       "      <td>0</td>\n",
       "      <td>0</td>\n",
       "      <td>0</td>\n",
       "      <td>0</td>\n",
       "      <td>1</td>\n",
       "      <td>0</td>\n",
       "    </tr>\n",
       "  </tbody>\n",
       "</table>\n",
       "</div>"
      ],
      "text/plain": [
       "      LotArea  OverallQual  OverallCond  ExterCond  KitchenQual  TotRmsAbvGrd  \\\n",
       "1506    17360            6            6          4            3             6   \n",
       "2536     6221            5            5          3            3             5   \n",
       "1977    12460            7            5          3            3             8   \n",
       "\n",
       "      GarageArea  MoSold  YrSold  SalePrice  Total_Area  Total_Bathrooms  \\\n",
       "1506       470.0       1    2010        NaN      2338.0              2.0   \n",
       "2536       528.0      10    2007        NaN      2083.0              2.0   \n",
       "1977       400.0       5    2008        NaN      3359.0              2.5   \n",
       "\n",
       "      Age_of_Property  Age_of_Renovation  MedianHousePrice  BsmtOverallGrade  \\\n",
       "1506               61                 60          140000.0              10.0   \n",
       "2536               69                 60          200624.0               8.0   \n",
       "1977               11                 10          181000.0              14.0   \n",
       "\n",
       "      Terrace_Grade  MSZoning_C (all)  MSZoning_FV  MSZoning_RH  MSZoning_RL  \\\n",
       "1506            300                 0            0            0            1   \n",
       "2536            288                 0            0            0            1   \n",
       "1977            188                 0            0            0            1   \n",
       "\n",
       "      MSZoning_RM  Condition1_Artery  Condition1_Feedr  Condition1_Norm  \\\n",
       "1506            0                  1                 0                0   \n",
       "2536            0                  0                 0                1   \n",
       "1977            0                  0                 0                0   \n",
       "\n",
       "      Condition1_PosA  Condition1_PosN  Condition1_RRAe  Condition1_RRAn  \\\n",
       "1506                0                0                0                0   \n",
       "2536                0                0                0                0   \n",
       "1977                0                0                0                1   \n",
       "\n",
       "      Condition1_RRNe  Condition1_RRNn  HouseStyle_1.5Fin  HouseStyle_1.5Unf  \\\n",
       "1506                0                0                  1                  0   \n",
       "2536                0                0                  1                  0   \n",
       "1977                0                0                  0                  0   \n",
       "\n",
       "      HouseStyle_1Story  HouseStyle_2.5Fin  HouseStyle_2.5Unf  \\\n",
       "1506                  0                  0                  0   \n",
       "2536                  0                  0                  0   \n",
       "1977                  0                  0                  0   \n",
       "\n",
       "      HouseStyle_2Story  HouseStyle_SFoyer  HouseStyle_SLvl  \\\n",
       "1506                  0                  0                0   \n",
       "2536                  0                  0                0   \n",
       "1977                  1                  0                0   \n",
       "\n",
       "      SaleCondition_Abnorml  SaleCondition_AdjLand  SaleCondition_Alloca  \\\n",
       "1506                      0                      0                     0   \n",
       "2536                      0                      0                     0   \n",
       "1977                      0                      0                     0   \n",
       "\n",
       "      SaleCondition_Family  SaleCondition_Normal  SaleCondition_Partial  \n",
       "1506                     0                     1                      0  \n",
       "2536                     0                     1                      0  \n",
       "1977                     0                     1                      0  "
      ]
     },
     "execution_count": 110,
     "metadata": {},
     "output_type": "execute_result"
    }
   ],
   "source": [
    "df.sample(3)"
   ]
  },
  {
   "cell_type": "code",
   "execution_count": null,
   "id": "c8cb39cd-ee7b-487a-99a2-67ad95a136d7",
   "metadata": {},
   "outputs": [],
   "source": []
  },
  {
   "cell_type": "code",
   "execution_count": null,
   "id": "c5a97da0-ecfa-4fcd-bc2b-69cda94fdd59",
   "metadata": {},
   "outputs": [],
   "source": []
  },
  {
   "cell_type": "code",
   "execution_count": null,
   "id": "f7e6e34d-4fbb-4c76-828d-6ad1cdcc15f5",
   "metadata": {},
   "outputs": [],
   "source": []
  },
  {
   "cell_type": "markdown",
   "id": "5ea364b6-2c9a-445a-85b6-f4899245528f",
   "metadata": {},
   "source": [
    "## Scale or normalize numerical features"
   ]
  },
  {
   "cell_type": "markdown",
   "id": "f0dc7d70-a024-485c-91fe-b726e5aabc26",
   "metadata": {
    "execution": {
     "iopub.execute_input": "2023-10-10T12:43:12.811998Z",
     "iopub.status.busy": "2023-10-10T12:43:12.811998Z",
     "iopub.status.idle": "2023-10-10T12:43:12.822151Z",
     "shell.execute_reply": "2023-10-10T12:43:12.822151Z",
     "shell.execute_reply.started": "2023-10-10T12:43:12.811998Z"
    },
    "scrolled": true
   },
   "source": [
    "For regression tasks, it's generally a good practice to standardize the features rather than normalizing them.  \n",
    "Standardization (or Z-score scaling) is often preferred because it centers the data around a mean of 0 and scales it based on the standard deviation.  \n",
    "This can be particularly helpful for models like linear regression, support vector machines, and neural networks, as they often assume that the features are normally distributed."
   ]
  },
  {
   "cell_type": "code",
   "execution_count": 111,
   "id": "497c317f-625b-4669-bd10-e9d9a23c27c6",
   "metadata": {
    "execution": {
     "iopub.execute_input": "2023-10-10T22:12:20.471254Z",
     "iopub.status.busy": "2023-10-10T22:12:20.471254Z",
     "iopub.status.idle": "2023-10-10T22:12:20.480074Z",
     "shell.execute_reply": "2023-10-10T22:12:20.480074Z",
     "shell.execute_reply.started": "2023-10-10T22:12:20.471254Z"
    }
   },
   "outputs": [],
   "source": [
    "# Before standardization lets seperate SalePrice, to avoid standa"
   ]
  },
  {
   "cell_type": "code",
   "execution_count": 112,
   "id": "3a0d368c-c27b-47c3-986a-1d4cdf39138e",
   "metadata": {
    "execution": {
     "iopub.execute_input": "2023-10-10T22:12:20.480074Z",
     "iopub.status.busy": "2023-10-10T22:12:20.480074Z",
     "iopub.status.idle": "2023-10-10T22:12:20.666845Z",
     "shell.execute_reply": "2023-10-10T22:12:20.666334Z",
     "shell.execute_reply.started": "2023-10-10T22:12:20.480074Z"
    }
   },
   "outputs": [],
   "source": [
    "from sklearn.preprocessing import StandardScaler\n",
    "\n",
    "scaler = StandardScaler()\n",
    "df_standardized = pd.DataFrame(scaler.fit_transform(df), columns=df.columns)"
   ]
  },
  {
   "cell_type": "code",
   "execution_count": 113,
   "id": "f6dfd6f9-ccfa-4ccb-8509-b3b967a84c81",
   "metadata": {
    "execution": {
     "iopub.execute_input": "2023-10-10T22:12:20.668141Z",
     "iopub.status.busy": "2023-10-10T22:12:20.668141Z",
     "iopub.status.idle": "2023-10-10T22:12:20.735928Z",
     "shell.execute_reply": "2023-10-10T22:12:20.734358Z",
     "shell.execute_reply.started": "2023-10-10T22:12:20.668141Z"
    }
   },
   "outputs": [
    {
     "data": {
      "text/html": [
       "<div>\n",
       "<style scoped>\n",
       "    .dataframe tbody tr th:only-of-type {\n",
       "        vertical-align: middle;\n",
       "    }\n",
       "\n",
       "    .dataframe tbody tr th {\n",
       "        vertical-align: top;\n",
       "    }\n",
       "\n",
       "    .dataframe thead th {\n",
       "        text-align: right;\n",
       "    }\n",
       "</style>\n",
       "<table border=\"1\" class=\"dataframe\">\n",
       "  <thead>\n",
       "    <tr style=\"text-align: right;\">\n",
       "      <th></th>\n",
       "      <th>LotArea</th>\n",
       "      <th>OverallQual</th>\n",
       "      <th>OverallCond</th>\n",
       "      <th>ExterCond</th>\n",
       "      <th>KitchenQual</th>\n",
       "      <th>TotRmsAbvGrd</th>\n",
       "      <th>GarageArea</th>\n",
       "      <th>MoSold</th>\n",
       "      <th>YrSold</th>\n",
       "      <th>SalePrice</th>\n",
       "      <th>Total_Area</th>\n",
       "      <th>Total_Bathrooms</th>\n",
       "      <th>Age_of_Property</th>\n",
       "      <th>Age_of_Renovation</th>\n",
       "      <th>MedianHousePrice</th>\n",
       "      <th>BsmtOverallGrade</th>\n",
       "      <th>Terrace_Grade</th>\n",
       "      <th>MSZoning_C (all)</th>\n",
       "      <th>MSZoning_FV</th>\n",
       "      <th>MSZoning_RH</th>\n",
       "      <th>MSZoning_RL</th>\n",
       "      <th>MSZoning_RM</th>\n",
       "      <th>Condition1_Artery</th>\n",
       "      <th>Condition1_Feedr</th>\n",
       "      <th>Condition1_Norm</th>\n",
       "      <th>Condition1_PosA</th>\n",
       "      <th>Condition1_PosN</th>\n",
       "      <th>Condition1_RRAe</th>\n",
       "      <th>Condition1_RRAn</th>\n",
       "      <th>Condition1_RRNe</th>\n",
       "      <th>Condition1_RRNn</th>\n",
       "      <th>HouseStyle_1.5Fin</th>\n",
       "      <th>HouseStyle_1.5Unf</th>\n",
       "      <th>HouseStyle_1Story</th>\n",
       "      <th>HouseStyle_2.5Fin</th>\n",
       "      <th>HouseStyle_2.5Unf</th>\n",
       "      <th>HouseStyle_2Story</th>\n",
       "      <th>HouseStyle_SFoyer</th>\n",
       "      <th>HouseStyle_SLvl</th>\n",
       "      <th>SaleCondition_Abnorml</th>\n",
       "      <th>SaleCondition_AdjLand</th>\n",
       "      <th>SaleCondition_Alloca</th>\n",
       "      <th>SaleCondition_Family</th>\n",
       "      <th>SaleCondition_Normal</th>\n",
       "      <th>SaleCondition_Partial</th>\n",
       "    </tr>\n",
       "  </thead>\n",
       "  <tbody>\n",
       "    <tr>\n",
       "      <th>2849</th>\n",
       "      <td>0.703687</td>\n",
       "      <td>-0.777338</td>\n",
       "      <td>1.289192</td>\n",
       "      <td>2.457682</td>\n",
       "      <td>-0.769387</td>\n",
       "      <td>1.621698</td>\n",
       "      <td>-0.607520</td>\n",
       "      <td>0.291925</td>\n",
       "      <td>-1.361870</td>\n",
       "      <td>NaN</td>\n",
       "      <td>1.163307</td>\n",
       "      <td>0.970628</td>\n",
       "      <td>0.701954</td>\n",
       "      <td>1.015809</td>\n",
       "      <td>0.478183</td>\n",
       "      <td>0.683920</td>\n",
       "      <td>0.751811</td>\n",
       "      <td>-0.093544</td>\n",
       "      <td>-0.219089</td>\n",
       "      <td>-0.095413</td>\n",
       "      <td>0.534284</td>\n",
       "      <td>-0.434112</td>\n",
       "      <td>-0.179541</td>\n",
       "      <td>-0.241643</td>\n",
       "      <td>0.400282</td>\n",
       "      <td>-0.083595</td>\n",
       "      <td>-0.117123</td>\n",
       "      <td>-0.099049</td>\n",
       "      <td>-0.128757</td>\n",
       "      <td>-0.045675</td>\n",
       "      <td>-0.05597</td>\n",
       "      <td>-0.348426</td>\n",
       "      <td>-0.081464</td>\n",
       "      <td>-1.006265</td>\n",
       "      <td>-0.05276</td>\n",
       "      <td>-0.089693</td>\n",
       "      <td>1.532080</td>\n",
       "      <td>-0.172202</td>\n",
       "      <td>-0.213819</td>\n",
       "      <td>-0.262662</td>\n",
       "      <td>-0.064662</td>\n",
       "      <td>-0.087706</td>\n",
       "      <td>-0.127358</td>\n",
       "      <td>0.458157</td>\n",
       "      <td>-0.297269</td>\n",
       "    </tr>\n",
       "    <tr>\n",
       "      <th>2676</th>\n",
       "      <td>0.117950</td>\n",
       "      <td>1.363746</td>\n",
       "      <td>-0.521016</td>\n",
       "      <td>-0.238564</td>\n",
       "      <td>0.745212</td>\n",
       "      <td>1.621698</td>\n",
       "      <td>1.925325</td>\n",
       "      <td>1.400396</td>\n",
       "      <td>-1.361870</td>\n",
       "      <td>NaN</td>\n",
       "      <td>2.004542</td>\n",
       "      <td>1.589647</td>\n",
       "      <td>-0.688309</td>\n",
       "      <td>-0.422961</td>\n",
       "      <td>2.264391</td>\n",
       "      <td>1.818868</td>\n",
       "      <td>2.516708</td>\n",
       "      <td>-0.093544</td>\n",
       "      <td>-0.219089</td>\n",
       "      <td>-0.095413</td>\n",
       "      <td>0.534284</td>\n",
       "      <td>-0.434112</td>\n",
       "      <td>-0.179541</td>\n",
       "      <td>-0.241643</td>\n",
       "      <td>0.400282</td>\n",
       "      <td>-0.083595</td>\n",
       "      <td>-0.117123</td>\n",
       "      <td>-0.099049</td>\n",
       "      <td>-0.128757</td>\n",
       "      <td>-0.045675</td>\n",
       "      <td>-0.05597</td>\n",
       "      <td>-0.348426</td>\n",
       "      <td>-0.081464</td>\n",
       "      <td>-1.006265</td>\n",
       "      <td>-0.05276</td>\n",
       "      <td>-0.089693</td>\n",
       "      <td>1.532080</td>\n",
       "      <td>-0.172202</td>\n",
       "      <td>-0.213819</td>\n",
       "      <td>-0.262662</td>\n",
       "      <td>-0.064662</td>\n",
       "      <td>-0.087706</td>\n",
       "      <td>-0.127358</td>\n",
       "      <td>0.458157</td>\n",
       "      <td>-0.297269</td>\n",
       "    </tr>\n",
       "    <tr>\n",
       "      <th>810</th>\n",
       "      <td>-0.045288</td>\n",
       "      <td>-0.063643</td>\n",
       "      <td>0.384088</td>\n",
       "      <td>-0.238564</td>\n",
       "      <td>-0.769387</td>\n",
       "      <td>0.348201</td>\n",
       "      <td>-0.797716</td>\n",
       "      <td>-0.816545</td>\n",
       "      <td>-0.602994</td>\n",
       "      <td>-0.131888</td>\n",
       "      <td>0.418994</td>\n",
       "      <td>-0.886431</td>\n",
       "      <td>0.437142</td>\n",
       "      <td>1.255604</td>\n",
       "      <td>-0.595285</td>\n",
       "      <td>-0.451027</td>\n",
       "      <td>1.537261</td>\n",
       "      <td>-0.093544</td>\n",
       "      <td>-0.219089</td>\n",
       "      <td>-0.095413</td>\n",
       "      <td>0.534284</td>\n",
       "      <td>-0.434112</td>\n",
       "      <td>-0.179541</td>\n",
       "      <td>-0.241643</td>\n",
       "      <td>0.400282</td>\n",
       "      <td>-0.083595</td>\n",
       "      <td>-0.117123</td>\n",
       "      <td>-0.099049</td>\n",
       "      <td>-0.128757</td>\n",
       "      <td>-0.045675</td>\n",
       "      <td>-0.05597</td>\n",
       "      <td>-0.348426</td>\n",
       "      <td>-0.081464</td>\n",
       "      <td>0.993774</td>\n",
       "      <td>-0.05276</td>\n",
       "      <td>-0.089693</td>\n",
       "      <td>-0.652707</td>\n",
       "      <td>-0.172202</td>\n",
       "      <td>-0.213819</td>\n",
       "      <td>-0.262662</td>\n",
       "      <td>-0.064662</td>\n",
       "      <td>-0.087706</td>\n",
       "      <td>-0.127358</td>\n",
       "      <td>0.458157</td>\n",
       "      <td>-0.297269</td>\n",
       "    </tr>\n",
       "    <tr>\n",
       "      <th>2757</th>\n",
       "      <td>0.209107</td>\n",
       "      <td>-0.063643</td>\n",
       "      <td>1.289192</td>\n",
       "      <td>-0.238564</td>\n",
       "      <td>-0.769387</td>\n",
       "      <td>1.621698</td>\n",
       "      <td>-1.080689</td>\n",
       "      <td>-0.447055</td>\n",
       "      <td>-1.361870</td>\n",
       "      <td>NaN</td>\n",
       "      <td>0.159292</td>\n",
       "      <td>-1.505450</td>\n",
       "      <td>1.562592</td>\n",
       "      <td>-0.566838</td>\n",
       "      <td>-0.873284</td>\n",
       "      <td>-1.018501</td>\n",
       "      <td>-0.369584</td>\n",
       "      <td>-0.093544</td>\n",
       "      <td>-0.219089</td>\n",
       "      <td>-0.095413</td>\n",
       "      <td>0.534284</td>\n",
       "      <td>-0.434112</td>\n",
       "      <td>-0.179541</td>\n",
       "      <td>-0.241643</td>\n",
       "      <td>0.400282</td>\n",
       "      <td>-0.083595</td>\n",
       "      <td>-0.117123</td>\n",
       "      <td>-0.099049</td>\n",
       "      <td>-0.128757</td>\n",
       "      <td>-0.045675</td>\n",
       "      <td>-0.05597</td>\n",
       "      <td>-0.348426</td>\n",
       "      <td>-0.081464</td>\n",
       "      <td>-1.006265</td>\n",
       "      <td>-0.05276</td>\n",
       "      <td>-0.089693</td>\n",
       "      <td>1.532080</td>\n",
       "      <td>-0.172202</td>\n",
       "      <td>-0.213819</td>\n",
       "      <td>-0.262662</td>\n",
       "      <td>-0.064662</td>\n",
       "      <td>-0.087706</td>\n",
       "      <td>-0.127358</td>\n",
       "      <td>0.458157</td>\n",
       "      <td>-0.297269</td>\n",
       "    </tr>\n",
       "    <tr>\n",
       "      <th>104</th>\n",
       "      <td>-0.300324</td>\n",
       "      <td>0.650051</td>\n",
       "      <td>-1.426120</td>\n",
       "      <td>-2.934811</td>\n",
       "      <td>-0.769387</td>\n",
       "      <td>0.348201</td>\n",
       "      <td>-1.080689</td>\n",
       "      <td>-0.077565</td>\n",
       "      <td>-0.602994</td>\n",
       "      <td>0.045622</td>\n",
       "      <td>0.386686</td>\n",
       "      <td>-0.886431</td>\n",
       "      <td>1.330882</td>\n",
       "      <td>1.639276</td>\n",
       "      <td>-1.250443</td>\n",
       "      <td>-0.734764</td>\n",
       "      <td>0.676105</td>\n",
       "      <td>-0.093544</td>\n",
       "      <td>-0.219089</td>\n",
       "      <td>-0.095413</td>\n",
       "      <td>-1.871664</td>\n",
       "      <td>2.303551</td>\n",
       "      <td>-0.179541</td>\n",
       "      <td>-0.241643</td>\n",
       "      <td>0.400282</td>\n",
       "      <td>-0.083595</td>\n",
       "      <td>-0.117123</td>\n",
       "      <td>-0.099049</td>\n",
       "      <td>-0.128757</td>\n",
       "      <td>-0.045675</td>\n",
       "      <td>-0.05597</td>\n",
       "      <td>2.870049</td>\n",
       "      <td>-0.081464</td>\n",
       "      <td>-1.006265</td>\n",
       "      <td>-0.05276</td>\n",
       "      <td>-0.089693</td>\n",
       "      <td>-0.652707</td>\n",
       "      <td>-0.172202</td>\n",
       "      <td>-0.213819</td>\n",
       "      <td>-0.262662</td>\n",
       "      <td>-0.064662</td>\n",
       "      <td>-0.087706</td>\n",
       "      <td>-0.127358</td>\n",
       "      <td>0.458157</td>\n",
       "      <td>-0.297269</td>\n",
       "    </tr>\n",
       "    <tr>\n",
       "      <th>415</th>\n",
       "      <td>-0.289313</td>\n",
       "      <td>-0.063643</td>\n",
       "      <td>1.289192</td>\n",
       "      <td>-0.238564</td>\n",
       "      <td>-0.769387</td>\n",
       "      <td>-0.288547</td>\n",
       "      <td>-0.152907</td>\n",
       "      <td>-1.186035</td>\n",
       "      <td>-1.361870</td>\n",
       "      <td>-0.268770</td>\n",
       "      <td>-0.589992</td>\n",
       "      <td>-0.886431</td>\n",
       "      <td>-0.224888</td>\n",
       "      <td>0.296424</td>\n",
       "      <td>-0.683820</td>\n",
       "      <td>0.116447</td>\n",
       "      <td>-1.065133</td>\n",
       "      <td>-0.093544</td>\n",
       "      <td>-0.219089</td>\n",
       "      <td>-0.095413</td>\n",
       "      <td>0.534284</td>\n",
       "      <td>-0.434112</td>\n",
       "      <td>-0.179541</td>\n",
       "      <td>-0.241643</td>\n",
       "      <td>0.400282</td>\n",
       "      <td>-0.083595</td>\n",
       "      <td>-0.117123</td>\n",
       "      <td>-0.099049</td>\n",
       "      <td>-0.128757</td>\n",
       "      <td>-0.045675</td>\n",
       "      <td>-0.05597</td>\n",
       "      <td>-0.348426</td>\n",
       "      <td>-0.081464</td>\n",
       "      <td>-1.006265</td>\n",
       "      <td>-0.05276</td>\n",
       "      <td>-0.089693</td>\n",
       "      <td>1.532080</td>\n",
       "      <td>-0.172202</td>\n",
       "      <td>-0.213819</td>\n",
       "      <td>-0.262662</td>\n",
       "      <td>-0.064662</td>\n",
       "      <td>-0.087706</td>\n",
       "      <td>-0.127358</td>\n",
       "      <td>0.458157</td>\n",
       "      <td>-0.297269</td>\n",
       "    </tr>\n",
       "    <tr>\n",
       "      <th>2644</th>\n",
       "      <td>-0.056811</td>\n",
       "      <td>1.363746</td>\n",
       "      <td>-0.521016</td>\n",
       "      <td>-0.238564</td>\n",
       "      <td>0.745212</td>\n",
       "      <td>0.348201</td>\n",
       "      <td>1.911408</td>\n",
       "      <td>-1.555525</td>\n",
       "      <td>-1.361870</td>\n",
       "      <td>NaN</td>\n",
       "      <td>0.587986</td>\n",
       "      <td>1.589647</td>\n",
       "      <td>-0.886918</td>\n",
       "      <td>-0.662756</td>\n",
       "      <td>2.264391</td>\n",
       "      <td>0.683920</td>\n",
       "      <td>0.075189</td>\n",
       "      <td>-0.093544</td>\n",
       "      <td>-0.219089</td>\n",
       "      <td>-0.095413</td>\n",
       "      <td>0.534284</td>\n",
       "      <td>-0.434112</td>\n",
       "      <td>-0.179541</td>\n",
       "      <td>-0.241643</td>\n",
       "      <td>0.400282</td>\n",
       "      <td>-0.083595</td>\n",
       "      <td>-0.117123</td>\n",
       "      <td>-0.099049</td>\n",
       "      <td>-0.128757</td>\n",
       "      <td>-0.045675</td>\n",
       "      <td>-0.05597</td>\n",
       "      <td>-0.348426</td>\n",
       "      <td>-0.081464</td>\n",
       "      <td>-1.006265</td>\n",
       "      <td>-0.05276</td>\n",
       "      <td>-0.089693</td>\n",
       "      <td>1.532080</td>\n",
       "      <td>-0.172202</td>\n",
       "      <td>-0.213819</td>\n",
       "      <td>-0.262662</td>\n",
       "      <td>-0.064662</td>\n",
       "      <td>-0.087706</td>\n",
       "      <td>-0.127358</td>\n",
       "      <td>0.458157</td>\n",
       "      <td>-0.297269</td>\n",
       "    </tr>\n",
       "    <tr>\n",
       "      <th>2124</th>\n",
       "      <td>0.358006</td>\n",
       "      <td>-0.777338</td>\n",
       "      <td>-1.426120</td>\n",
       "      <td>-0.238564</td>\n",
       "      <td>-0.769387</td>\n",
       "      <td>-0.288547</td>\n",
       "      <td>-0.338463</td>\n",
       "      <td>-1.925016</td>\n",
       "      <td>0.155883</td>\n",
       "      <td>NaN</td>\n",
       "      <td>-0.132718</td>\n",
       "      <td>-0.267411</td>\n",
       "      <td>1.694998</td>\n",
       "      <td>1.639276</td>\n",
       "      <td>-0.683820</td>\n",
       "      <td>-0.451027</td>\n",
       "      <td>0.732885</td>\n",
       "      <td>-0.093544</td>\n",
       "      <td>-0.219089</td>\n",
       "      <td>-0.095413</td>\n",
       "      <td>0.534284</td>\n",
       "      <td>-0.434112</td>\n",
       "      <td>-0.179541</td>\n",
       "      <td>4.138331</td>\n",
       "      <td>-2.498241</td>\n",
       "      <td>-0.083595</td>\n",
       "      <td>-0.117123</td>\n",
       "      <td>-0.099049</td>\n",
       "      <td>-0.128757</td>\n",
       "      <td>-0.045675</td>\n",
       "      <td>-0.05597</td>\n",
       "      <td>-0.348426</td>\n",
       "      <td>-0.081464</td>\n",
       "      <td>0.993774</td>\n",
       "      <td>-0.05276</td>\n",
       "      <td>-0.089693</td>\n",
       "      <td>-0.652707</td>\n",
       "      <td>-0.172202</td>\n",
       "      <td>-0.213819</td>\n",
       "      <td>-0.262662</td>\n",
       "      <td>-0.064662</td>\n",
       "      <td>11.401754</td>\n",
       "      <td>-0.127358</td>\n",
       "      <td>-2.182659</td>\n",
       "      <td>-0.297269</td>\n",
       "    </tr>\n",
       "    <tr>\n",
       "      <th>1366</th>\n",
       "      <td>0.066738</td>\n",
       "      <td>0.650051</td>\n",
       "      <td>-0.521016</td>\n",
       "      <td>-0.238564</td>\n",
       "      <td>0.745212</td>\n",
       "      <td>1.621698</td>\n",
       "      <td>2.147993</td>\n",
       "      <td>0.291925</td>\n",
       "      <td>0.155883</td>\n",
       "      <td>1.018691</td>\n",
       "      <td>0.543253</td>\n",
       "      <td>0.351608</td>\n",
       "      <td>-1.118628</td>\n",
       "      <td>-0.998469</td>\n",
       "      <td>0.918661</td>\n",
       "      <td>-0.734764</td>\n",
       "      <td>0.657179</td>\n",
       "      <td>-0.093544</td>\n",
       "      <td>4.564355</td>\n",
       "      <td>-0.095413</td>\n",
       "      <td>-1.871664</td>\n",
       "      <td>-0.434112</td>\n",
       "      <td>-0.179541</td>\n",
       "      <td>-0.241643</td>\n",
       "      <td>0.400282</td>\n",
       "      <td>-0.083595</td>\n",
       "      <td>-0.117123</td>\n",
       "      <td>-0.099049</td>\n",
       "      <td>-0.128757</td>\n",
       "      <td>-0.045675</td>\n",
       "      <td>-0.05597</td>\n",
       "      <td>-0.348426</td>\n",
       "      <td>-0.081464</td>\n",
       "      <td>-1.006265</td>\n",
       "      <td>-0.05276</td>\n",
       "      <td>-0.089693</td>\n",
       "      <td>1.532080</td>\n",
       "      <td>-0.172202</td>\n",
       "      <td>-0.213819</td>\n",
       "      <td>-0.262662</td>\n",
       "      <td>-0.064662</td>\n",
       "      <td>-0.087706</td>\n",
       "      <td>-0.127358</td>\n",
       "      <td>0.458157</td>\n",
       "      <td>-0.297269</td>\n",
       "    </tr>\n",
       "    <tr>\n",
       "      <th>1482</th>\n",
       "      <td>-0.038887</td>\n",
       "      <td>-0.777338</td>\n",
       "      <td>-0.521016</td>\n",
       "      <td>-2.934811</td>\n",
       "      <td>-0.769387</td>\n",
       "      <td>-0.925296</td>\n",
       "      <td>-0.203935</td>\n",
       "      <td>-0.816545</td>\n",
       "      <td>1.673636</td>\n",
       "      <td>NaN</td>\n",
       "      <td>-0.893185</td>\n",
       "      <td>-1.505450</td>\n",
       "      <td>1.694998</td>\n",
       "      <td>1.639276</td>\n",
       "      <td>0.111223</td>\n",
       "      <td>-1.018501</td>\n",
       "      <td>0.264454</td>\n",
       "      <td>-0.093544</td>\n",
       "      <td>-0.219089</td>\n",
       "      <td>10.480752</td>\n",
       "      <td>-1.871664</td>\n",
       "      <td>-0.434112</td>\n",
       "      <td>-0.179541</td>\n",
       "      <td>4.138331</td>\n",
       "      <td>-2.498241</td>\n",
       "      <td>-0.083595</td>\n",
       "      <td>-0.117123</td>\n",
       "      <td>-0.099049</td>\n",
       "      <td>-0.128757</td>\n",
       "      <td>-0.045675</td>\n",
       "      <td>-0.05597</td>\n",
       "      <td>-0.348426</td>\n",
       "      <td>-0.081464</td>\n",
       "      <td>0.993774</td>\n",
       "      <td>-0.05276</td>\n",
       "      <td>-0.089693</td>\n",
       "      <td>-0.652707</td>\n",
       "      <td>-0.172202</td>\n",
       "      <td>-0.213819</td>\n",
       "      <td>-0.262662</td>\n",
       "      <td>-0.064662</td>\n",
       "      <td>-0.087706</td>\n",
       "      <td>-0.127358</td>\n",
       "      <td>0.458157</td>\n",
       "      <td>-0.297269</td>\n",
       "    </tr>\n",
       "  </tbody>\n",
       "</table>\n",
       "</div>"
      ],
      "text/plain": [
       "       LotArea  OverallQual  OverallCond  ExterCond  KitchenQual  \\\n",
       "2849  0.703687    -0.777338     1.289192   2.457682    -0.769387   \n",
       "2676  0.117950     1.363746    -0.521016  -0.238564     0.745212   \n",
       "810  -0.045288    -0.063643     0.384088  -0.238564    -0.769387   \n",
       "2757  0.209107    -0.063643     1.289192  -0.238564    -0.769387   \n",
       "104  -0.300324     0.650051    -1.426120  -2.934811    -0.769387   \n",
       "415  -0.289313    -0.063643     1.289192  -0.238564    -0.769387   \n",
       "2644 -0.056811     1.363746    -0.521016  -0.238564     0.745212   \n",
       "2124  0.358006    -0.777338    -1.426120  -0.238564    -0.769387   \n",
       "1366  0.066738     0.650051    -0.521016  -0.238564     0.745212   \n",
       "1482 -0.038887    -0.777338    -0.521016  -2.934811    -0.769387   \n",
       "\n",
       "      TotRmsAbvGrd  GarageArea    MoSold    YrSold  SalePrice  Total_Area  \\\n",
       "2849      1.621698   -0.607520  0.291925 -1.361870        NaN    1.163307   \n",
       "2676      1.621698    1.925325  1.400396 -1.361870        NaN    2.004542   \n",
       "810       0.348201   -0.797716 -0.816545 -0.602994  -0.131888    0.418994   \n",
       "2757      1.621698   -1.080689 -0.447055 -1.361870        NaN    0.159292   \n",
       "104       0.348201   -1.080689 -0.077565 -0.602994   0.045622    0.386686   \n",
       "415      -0.288547   -0.152907 -1.186035 -1.361870  -0.268770   -0.589992   \n",
       "2644      0.348201    1.911408 -1.555525 -1.361870        NaN    0.587986   \n",
       "2124     -0.288547   -0.338463 -1.925016  0.155883        NaN   -0.132718   \n",
       "1366      1.621698    2.147993  0.291925  0.155883   1.018691    0.543253   \n",
       "1482     -0.925296   -0.203935 -0.816545  1.673636        NaN   -0.893185   \n",
       "\n",
       "      Total_Bathrooms  Age_of_Property  Age_of_Renovation  MedianHousePrice  \\\n",
       "2849         0.970628         0.701954           1.015809          0.478183   \n",
       "2676         1.589647        -0.688309          -0.422961          2.264391   \n",
       "810         -0.886431         0.437142           1.255604         -0.595285   \n",
       "2757        -1.505450         1.562592          -0.566838         -0.873284   \n",
       "104         -0.886431         1.330882           1.639276         -1.250443   \n",
       "415         -0.886431        -0.224888           0.296424         -0.683820   \n",
       "2644         1.589647        -0.886918          -0.662756          2.264391   \n",
       "2124        -0.267411         1.694998           1.639276         -0.683820   \n",
       "1366         0.351608        -1.118628          -0.998469          0.918661   \n",
       "1482        -1.505450         1.694998           1.639276          0.111223   \n",
       "\n",
       "      BsmtOverallGrade  Terrace_Grade  MSZoning_C (all)  MSZoning_FV  \\\n",
       "2849          0.683920       0.751811         -0.093544    -0.219089   \n",
       "2676          1.818868       2.516708         -0.093544    -0.219089   \n",
       "810          -0.451027       1.537261         -0.093544    -0.219089   \n",
       "2757         -1.018501      -0.369584         -0.093544    -0.219089   \n",
       "104          -0.734764       0.676105         -0.093544    -0.219089   \n",
       "415           0.116447      -1.065133         -0.093544    -0.219089   \n",
       "2644          0.683920       0.075189         -0.093544    -0.219089   \n",
       "2124         -0.451027       0.732885         -0.093544    -0.219089   \n",
       "1366         -0.734764       0.657179         -0.093544     4.564355   \n",
       "1482         -1.018501       0.264454         -0.093544    -0.219089   \n",
       "\n",
       "      MSZoning_RH  MSZoning_RL  MSZoning_RM  Condition1_Artery  \\\n",
       "2849    -0.095413     0.534284    -0.434112          -0.179541   \n",
       "2676    -0.095413     0.534284    -0.434112          -0.179541   \n",
       "810     -0.095413     0.534284    -0.434112          -0.179541   \n",
       "2757    -0.095413     0.534284    -0.434112          -0.179541   \n",
       "104     -0.095413    -1.871664     2.303551          -0.179541   \n",
       "415     -0.095413     0.534284    -0.434112          -0.179541   \n",
       "2644    -0.095413     0.534284    -0.434112          -0.179541   \n",
       "2124    -0.095413     0.534284    -0.434112          -0.179541   \n",
       "1366    -0.095413    -1.871664    -0.434112          -0.179541   \n",
       "1482    10.480752    -1.871664    -0.434112          -0.179541   \n",
       "\n",
       "      Condition1_Feedr  Condition1_Norm  Condition1_PosA  Condition1_PosN  \\\n",
       "2849         -0.241643         0.400282        -0.083595        -0.117123   \n",
       "2676         -0.241643         0.400282        -0.083595        -0.117123   \n",
       "810          -0.241643         0.400282        -0.083595        -0.117123   \n",
       "2757         -0.241643         0.400282        -0.083595        -0.117123   \n",
       "104          -0.241643         0.400282        -0.083595        -0.117123   \n",
       "415          -0.241643         0.400282        -0.083595        -0.117123   \n",
       "2644         -0.241643         0.400282        -0.083595        -0.117123   \n",
       "2124          4.138331        -2.498241        -0.083595        -0.117123   \n",
       "1366         -0.241643         0.400282        -0.083595        -0.117123   \n",
       "1482          4.138331        -2.498241        -0.083595        -0.117123   \n",
       "\n",
       "      Condition1_RRAe  Condition1_RRAn  Condition1_RRNe  Condition1_RRNn  \\\n",
       "2849        -0.099049        -0.128757        -0.045675         -0.05597   \n",
       "2676        -0.099049        -0.128757        -0.045675         -0.05597   \n",
       "810         -0.099049        -0.128757        -0.045675         -0.05597   \n",
       "2757        -0.099049        -0.128757        -0.045675         -0.05597   \n",
       "104         -0.099049        -0.128757        -0.045675         -0.05597   \n",
       "415         -0.099049        -0.128757        -0.045675         -0.05597   \n",
       "2644        -0.099049        -0.128757        -0.045675         -0.05597   \n",
       "2124        -0.099049        -0.128757        -0.045675         -0.05597   \n",
       "1366        -0.099049        -0.128757        -0.045675         -0.05597   \n",
       "1482        -0.099049        -0.128757        -0.045675         -0.05597   \n",
       "\n",
       "      HouseStyle_1.5Fin  HouseStyle_1.5Unf  HouseStyle_1Story  \\\n",
       "2849          -0.348426          -0.081464          -1.006265   \n",
       "2676          -0.348426          -0.081464          -1.006265   \n",
       "810           -0.348426          -0.081464           0.993774   \n",
       "2757          -0.348426          -0.081464          -1.006265   \n",
       "104            2.870049          -0.081464          -1.006265   \n",
       "415           -0.348426          -0.081464          -1.006265   \n",
       "2644          -0.348426          -0.081464          -1.006265   \n",
       "2124          -0.348426          -0.081464           0.993774   \n",
       "1366          -0.348426          -0.081464          -1.006265   \n",
       "1482          -0.348426          -0.081464           0.993774   \n",
       "\n",
       "      HouseStyle_2.5Fin  HouseStyle_2.5Unf  HouseStyle_2Story  \\\n",
       "2849           -0.05276          -0.089693           1.532080   \n",
       "2676           -0.05276          -0.089693           1.532080   \n",
       "810            -0.05276          -0.089693          -0.652707   \n",
       "2757           -0.05276          -0.089693           1.532080   \n",
       "104            -0.05276          -0.089693          -0.652707   \n",
       "415            -0.05276          -0.089693           1.532080   \n",
       "2644           -0.05276          -0.089693           1.532080   \n",
       "2124           -0.05276          -0.089693          -0.652707   \n",
       "1366           -0.05276          -0.089693           1.532080   \n",
       "1482           -0.05276          -0.089693          -0.652707   \n",
       "\n",
       "      HouseStyle_SFoyer  HouseStyle_SLvl  SaleCondition_Abnorml  \\\n",
       "2849          -0.172202        -0.213819              -0.262662   \n",
       "2676          -0.172202        -0.213819              -0.262662   \n",
       "810           -0.172202        -0.213819              -0.262662   \n",
       "2757          -0.172202        -0.213819              -0.262662   \n",
       "104           -0.172202        -0.213819              -0.262662   \n",
       "415           -0.172202        -0.213819              -0.262662   \n",
       "2644          -0.172202        -0.213819              -0.262662   \n",
       "2124          -0.172202        -0.213819              -0.262662   \n",
       "1366          -0.172202        -0.213819              -0.262662   \n",
       "1482          -0.172202        -0.213819              -0.262662   \n",
       "\n",
       "      SaleCondition_AdjLand  SaleCondition_Alloca  SaleCondition_Family  \\\n",
       "2849              -0.064662             -0.087706             -0.127358   \n",
       "2676              -0.064662             -0.087706             -0.127358   \n",
       "810               -0.064662             -0.087706             -0.127358   \n",
       "2757              -0.064662             -0.087706             -0.127358   \n",
       "104               -0.064662             -0.087706             -0.127358   \n",
       "415               -0.064662             -0.087706             -0.127358   \n",
       "2644              -0.064662             -0.087706             -0.127358   \n",
       "2124              -0.064662             11.401754             -0.127358   \n",
       "1366              -0.064662             -0.087706             -0.127358   \n",
       "1482              -0.064662             -0.087706             -0.127358   \n",
       "\n",
       "      SaleCondition_Normal  SaleCondition_Partial  \n",
       "2849              0.458157              -0.297269  \n",
       "2676              0.458157              -0.297269  \n",
       "810               0.458157              -0.297269  \n",
       "2757              0.458157              -0.297269  \n",
       "104               0.458157              -0.297269  \n",
       "415               0.458157              -0.297269  \n",
       "2644              0.458157              -0.297269  \n",
       "2124             -2.182659              -0.297269  \n",
       "1366              0.458157              -0.297269  \n",
       "1482              0.458157              -0.297269  "
      ]
     },
     "execution_count": 113,
     "metadata": {},
     "output_type": "execute_result"
    }
   ],
   "source": [
    "df_standardized.sample(10)"
   ]
  },
  {
   "cell_type": "code",
   "execution_count": 114,
   "id": "fdd07dae-1ebd-40cb-9de3-a1b79a2f1620",
   "metadata": {
    "execution": {
     "iopub.execute_input": "2023-10-10T22:12:20.736437Z",
     "iopub.status.busy": "2023-10-10T22:12:20.736437Z",
     "iopub.status.idle": "2023-10-10T22:12:20.752008Z",
     "shell.execute_reply": "2023-10-10T22:12:20.750683Z",
     "shell.execute_reply.started": "2023-10-10T22:12:20.736437Z"
    },
    "scrolled": true
   },
   "outputs": [
    {
     "data": {
      "text/plain": [
       "SalePrice                1431\n",
       "LotArea                     0\n",
       "HouseStyle_2.5Fin           0\n",
       "Condition1_PosA             0\n",
       "Condition1_PosN             0\n",
       "Condition1_RRAe             0\n",
       "Condition1_RRAn             0\n",
       "Condition1_RRNe             0\n",
       "Condition1_RRNn             0\n",
       "HouseStyle_1.5Fin           0\n",
       "HouseStyle_1.5Unf           0\n",
       "HouseStyle_1Story           0\n",
       "HouseStyle_2.5Unf           0\n",
       "Condition1_Feedr            0\n",
       "HouseStyle_2Story           0\n",
       "HouseStyle_SFoyer           0\n",
       "HouseStyle_SLvl             0\n",
       "SaleCondition_Abnorml       0\n",
       "SaleCondition_AdjLand       0\n",
       "SaleCondition_Alloca        0\n",
       "SaleCondition_Family        0\n",
       "SaleCondition_Normal        0\n",
       "Condition1_Norm             0\n",
       "Condition1_Artery           0\n",
       "OverallQual                 0\n",
       "Total_Bathrooms             0\n",
       "OverallCond                 0\n",
       "ExterCond                   0\n",
       "KitchenQual                 0\n",
       "TotRmsAbvGrd                0\n",
       "GarageArea                  0\n",
       "MoSold                      0\n",
       "YrSold                      0\n",
       "Total_Area                  0\n",
       "Age_of_Property             0\n",
       "MSZoning_RM                 0\n",
       "Age_of_Renovation           0\n",
       "MedianHousePrice            0\n",
       "BsmtOverallGrade            0\n",
       "Terrace_Grade               0\n",
       "MSZoning_C (all)            0\n",
       "MSZoning_FV                 0\n",
       "MSZoning_RH                 0\n",
       "MSZoning_RL                 0\n",
       "SaleCondition_Partial       0\n",
       "dtype: int64"
      ]
     },
     "execution_count": 114,
     "metadata": {},
     "output_type": "execute_result"
    }
   ],
   "source": [
    "#lets check if sth went wrong during many processes and have any null values apart from y_target\n",
    "df_standardized.isnull().sum().sort_values(ascending=False)"
   ]
  },
  {
   "cell_type": "code",
   "execution_count": null,
   "id": "5f67fd7d-ab1f-4326-8439-7f02512e0c55",
   "metadata": {},
   "outputs": [],
   "source": []
  },
  {
   "cell_type": "code",
   "execution_count": null,
   "id": "4e7d6436-6cef-4b74-a13f-6cb90b4ab2ec",
   "metadata": {},
   "outputs": [],
   "source": []
  },
  {
   "cell_type": "code",
   "execution_count": null,
   "id": "58983289-4d49-4167-851f-702e25c6ec91",
   "metadata": {},
   "outputs": [],
   "source": []
  },
  {
   "cell_type": "code",
   "execution_count": null,
   "id": "691d0e93-8533-4c17-b56b-66bddfcafd42",
   "metadata": {},
   "outputs": [],
   "source": []
  },
  {
   "cell_type": "markdown",
   "id": "ff8819ad-f39b-4923-a581-d138c05cb953",
   "metadata": {},
   "source": [
    "# 3. Data Splitting"
   ]
  },
  {
   "cell_type": "code",
   "execution_count": 115,
   "id": "c790cfa0-c72f-4734-bb9b-d2ccf996e8c6",
   "metadata": {
    "execution": {
     "iopub.execute_input": "2023-10-10T22:12:20.753027Z",
     "iopub.status.busy": "2023-10-10T22:12:20.753027Z",
     "iopub.status.idle": "2023-10-10T22:12:20.884549Z",
     "shell.execute_reply": "2023-10-10T22:12:20.884549Z",
     "shell.execute_reply.started": "2023-10-10T22:12:20.753027Z"
    }
   },
   "outputs": [],
   "source": [
    "from sklearn.model_selection import train_test_split"
   ]
  },
  {
   "cell_type": "code",
   "execution_count": 116,
   "id": "19ce9166-87ed-4ff6-8800-eb8341341c31",
   "metadata": {
    "execution": {
     "iopub.execute_input": "2023-10-10T22:12:20.884549Z",
     "iopub.status.busy": "2023-10-10T22:12:20.884549Z",
     "iopub.status.idle": "2023-10-10T22:12:20.901050Z",
     "shell.execute_reply": "2023-10-10T22:12:20.900020Z",
     "shell.execute_reply.started": "2023-10-10T22:12:20.884549Z"
    }
   },
   "outputs": [],
   "source": [
    "# finding the split index. \n",
    "len_test  = df_standardized['SalePrice'].isnull().sum()\n",
    "len_total = len(df_standardized)\n",
    "split_index = len_total - len_test"
   ]
  },
  {
   "cell_type": "code",
   "execution_count": 117,
   "id": "5240ac14-2903-441e-b421-ca30a04dc0c4",
   "metadata": {
    "execution": {
     "iopub.execute_input": "2023-10-10T22:12:20.903895Z",
     "iopub.status.busy": "2023-10-10T22:12:20.903370Z",
     "iopub.status.idle": "2023-10-10T22:12:20.911450Z",
     "shell.execute_reply": "2023-10-10T22:12:20.910825Z",
     "shell.execute_reply.started": "2023-10-10T22:12:20.903895Z"
    }
   },
   "outputs": [
    {
     "data": {
      "text/plain": [
       "1451"
      ]
     },
     "execution_count": 117,
     "metadata": {},
     "output_type": "execute_result"
    }
   ],
   "source": [
    "split_index"
   ]
  },
  {
   "cell_type": "code",
   "execution_count": 118,
   "id": "15ebf1a1-3dae-4205-885c-3bc139c714d8",
   "metadata": {
    "execution": {
     "iopub.execute_input": "2023-10-10T22:12:20.914034Z",
     "iopub.status.busy": "2023-10-10T22:12:20.914034Z",
     "iopub.status.idle": "2023-10-10T22:12:20.926539Z",
     "shell.execute_reply": "2023-10-10T22:12:20.926539Z",
     "shell.execute_reply.started": "2023-10-10T22:12:20.914034Z"
    }
   },
   "outputs": [],
   "source": [
    "X_train = df_standardized.iloc[:split_index].drop(columns=['SalePrice'])\n",
    "y_train = df_standardized.iloc[:split_index]['SalePrice']\n",
    "X_test = df_standardized.iloc[split_index:].drop(columns=['SalePrice'])"
   ]
  },
  {
   "cell_type": "code",
   "execution_count": 126,
   "id": "ebfc0627-e291-4287-a3a4-03fa0ba437c4",
   "metadata": {
    "execution": {
     "iopub.execute_input": "2023-10-10T22:26:12.080185Z",
     "iopub.status.busy": "2023-10-10T22:26:12.078699Z",
     "iopub.status.idle": "2023-10-10T22:26:12.090326Z",
     "shell.execute_reply": "2023-10-10T22:26:12.090326Z",
     "shell.execute_reply.started": "2023-10-10T22:26:12.080185Z"
    }
   },
   "outputs": [
    {
     "name": "stdout",
     "output_type": "stream",
     "text": [
      "1451\n",
      "1451\n"
     ]
    }
   ],
   "source": [
    "print(len(X_train))\n",
    "print(len(y_train))"
   ]
  },
  {
   "cell_type": "code",
   "execution_count": 119,
   "id": "a7a70ec7-a7ef-4c10-96d0-bf50abdac29f",
   "metadata": {
    "execution": {
     "iopub.execute_input": "2023-10-10T22:12:20.928402Z",
     "iopub.status.busy": "2023-10-10T22:12:20.928402Z",
     "iopub.status.idle": "2023-10-10T22:12:20.945528Z",
     "shell.execute_reply": "2023-10-10T22:12:20.945068Z",
     "shell.execute_reply.started": "2023-10-10T22:12:20.928402Z"
    }
   },
   "outputs": [
    {
     "data": {
      "text/plain": [
       "1446    0.125581\n",
       "1447    0.582112\n",
       "1448    1.178729\n",
       "1449   -0.395445\n",
       "1450   -0.302494\n",
       "Name: SalePrice, dtype: float64"
      ]
     },
     "execution_count": 119,
     "metadata": {},
     "output_type": "execute_result"
    }
   ],
   "source": [
    "y_train.tail()"
   ]
  },
  {
   "cell_type": "markdown",
   "id": "4b5b59c5-6349-4b45-b23d-2aa736c2728a",
   "metadata": {},
   "source": [
    "# 4. Model Selection and Training"
   ]
  },
  {
   "cell_type": "code",
   "execution_count": 121,
   "id": "559c30fb-1d9d-4b3c-8ac3-a0f2c06e1fda",
   "metadata": {
    "execution": {
     "iopub.execute_input": "2023-10-10T22:15:01.086401Z",
     "iopub.status.busy": "2023-10-10T22:15:01.086401Z",
     "iopub.status.idle": "2023-10-10T22:15:01.105029Z",
     "shell.execute_reply": "2023-10-10T22:15:01.104500Z",
     "shell.execute_reply.started": "2023-10-10T22:15:01.086401Z"
    }
   },
   "outputs": [],
   "source": [
    "from sklearn.linear_model import LinearRegression\n",
    "\n",
    "# Lets instantiate the model\n",
    "model = LinearRegression()"
   ]
  },
  {
   "cell_type": "code",
   "execution_count": 122,
   "id": "8d7b9b75-1b1a-46f9-a0bb-c0559a44ea27",
   "metadata": {
    "execution": {
     "iopub.execute_input": "2023-10-10T22:15:21.946349Z",
     "iopub.status.busy": "2023-10-10T22:15:21.946349Z",
     "iopub.status.idle": "2023-10-10T22:15:22.023982Z",
     "shell.execute_reply": "2023-10-10T22:15:22.023982Z",
     "shell.execute_reply.started": "2023-10-10T22:15:21.946349Z"
    }
   },
   "outputs": [
    {
     "data": {
      "text/html": [
       "<style>#sk-container-id-1 {color: black;}#sk-container-id-1 pre{padding: 0;}#sk-container-id-1 div.sk-toggleable {background-color: white;}#sk-container-id-1 label.sk-toggleable__label {cursor: pointer;display: block;width: 100%;margin-bottom: 0;padding: 0.3em;box-sizing: border-box;text-align: center;}#sk-container-id-1 label.sk-toggleable__label-arrow:before {content: \"▸\";float: left;margin-right: 0.25em;color: #696969;}#sk-container-id-1 label.sk-toggleable__label-arrow:hover:before {color: black;}#sk-container-id-1 div.sk-estimator:hover label.sk-toggleable__label-arrow:before {color: black;}#sk-container-id-1 div.sk-toggleable__content {max-height: 0;max-width: 0;overflow: hidden;text-align: left;background-color: #f0f8ff;}#sk-container-id-1 div.sk-toggleable__content pre {margin: 0.2em;color: black;border-radius: 0.25em;background-color: #f0f8ff;}#sk-container-id-1 input.sk-toggleable__control:checked~div.sk-toggleable__content {max-height: 200px;max-width: 100%;overflow: auto;}#sk-container-id-1 input.sk-toggleable__control:checked~label.sk-toggleable__label-arrow:before {content: \"▾\";}#sk-container-id-1 div.sk-estimator input.sk-toggleable__control:checked~label.sk-toggleable__label {background-color: #d4ebff;}#sk-container-id-1 div.sk-label input.sk-toggleable__control:checked~label.sk-toggleable__label {background-color: #d4ebff;}#sk-container-id-1 input.sk-hidden--visually {border: 0;clip: rect(1px 1px 1px 1px);clip: rect(1px, 1px, 1px, 1px);height: 1px;margin: -1px;overflow: hidden;padding: 0;position: absolute;width: 1px;}#sk-container-id-1 div.sk-estimator {font-family: monospace;background-color: #f0f8ff;border: 1px dotted black;border-radius: 0.25em;box-sizing: border-box;margin-bottom: 0.5em;}#sk-container-id-1 div.sk-estimator:hover {background-color: #d4ebff;}#sk-container-id-1 div.sk-parallel-item::after {content: \"\";width: 100%;border-bottom: 1px solid gray;flex-grow: 1;}#sk-container-id-1 div.sk-label:hover label.sk-toggleable__label {background-color: #d4ebff;}#sk-container-id-1 div.sk-serial::before {content: \"\";position: absolute;border-left: 1px solid gray;box-sizing: border-box;top: 0;bottom: 0;left: 50%;z-index: 0;}#sk-container-id-1 div.sk-serial {display: flex;flex-direction: column;align-items: center;background-color: white;padding-right: 0.2em;padding-left: 0.2em;position: relative;}#sk-container-id-1 div.sk-item {position: relative;z-index: 1;}#sk-container-id-1 div.sk-parallel {display: flex;align-items: stretch;justify-content: center;background-color: white;position: relative;}#sk-container-id-1 div.sk-item::before, #sk-container-id-1 div.sk-parallel-item::before {content: \"\";position: absolute;border-left: 1px solid gray;box-sizing: border-box;top: 0;bottom: 0;left: 50%;z-index: -1;}#sk-container-id-1 div.sk-parallel-item {display: flex;flex-direction: column;z-index: 1;position: relative;background-color: white;}#sk-container-id-1 div.sk-parallel-item:first-child::after {align-self: flex-end;width: 50%;}#sk-container-id-1 div.sk-parallel-item:last-child::after {align-self: flex-start;width: 50%;}#sk-container-id-1 div.sk-parallel-item:only-child::after {width: 0;}#sk-container-id-1 div.sk-dashed-wrapped {border: 1px dashed gray;margin: 0 0.4em 0.5em 0.4em;box-sizing: border-box;padding-bottom: 0.4em;background-color: white;}#sk-container-id-1 div.sk-label label {font-family: monospace;font-weight: bold;display: inline-block;line-height: 1.2em;}#sk-container-id-1 div.sk-label-container {text-align: center;}#sk-container-id-1 div.sk-container {/* jupyter's `normalize.less` sets `[hidden] { display: none; }` but bootstrap.min.css set `[hidden] { display: none !important; }` so we also need the `!important` here to be able to override the default hidden behavior on the sphinx rendered scikit-learn.org. See: https://github.com/scikit-learn/scikit-learn/issues/21755 */display: inline-block !important;position: relative;}#sk-container-id-1 div.sk-text-repr-fallback {display: none;}</style><div id=\"sk-container-id-1\" class=\"sk-top-container\"><div class=\"sk-text-repr-fallback\"><pre>LinearRegression()</pre><b>In a Jupyter environment, please rerun this cell to show the HTML representation or trust the notebook. <br />On GitHub, the HTML representation is unable to render, please try loading this page with nbviewer.org.</b></div><div class=\"sk-container\" hidden><div class=\"sk-item\"><div class=\"sk-estimator sk-toggleable\"><input class=\"sk-toggleable__control sk-hidden--visually\" id=\"sk-estimator-id-1\" type=\"checkbox\" checked><label for=\"sk-estimator-id-1\" class=\"sk-toggleable__label sk-toggleable__label-arrow\">LinearRegression</label><div class=\"sk-toggleable__content\"><pre>LinearRegression()</pre></div></div></div></div></div>"
      ],
      "text/plain": [
       "LinearRegression()"
      ]
     },
     "execution_count": 122,
     "metadata": {},
     "output_type": "execute_result"
    }
   ],
   "source": [
    "# Lets train the model\n",
    "model.fit(X_train, y_train)"
   ]
  },
  {
   "cell_type": "code",
   "execution_count": 123,
   "id": "592fcc8d-66c6-4829-bb7d-82c07b95a384",
   "metadata": {
    "execution": {
     "iopub.execute_input": "2023-10-10T22:15:57.424106Z",
     "iopub.status.busy": "2023-10-10T22:15:57.424106Z",
     "iopub.status.idle": "2023-10-10T22:15:57.446234Z",
     "shell.execute_reply": "2023-10-10T22:15:57.446062Z",
     "shell.execute_reply.started": "2023-10-10T22:15:57.424106Z"
    }
   },
   "outputs": [],
   "source": [
    "# lets make predictions\n",
    "y_pred = model.predict(X_test)"
   ]
  },
  {
   "cell_type": "markdown",
   "id": "be8fca1c-ac3d-4698-a4b1-8c8ca3551208",
   "metadata": {},
   "source": [
    "## Transform Back the predictions"
   ]
  },
  {
   "cell_type": "code",
   "execution_count": 128,
   "id": "beb1e7ae-cacb-435f-93d3-de08ba2b7ae7",
   "metadata": {
    "execution": {
     "iopub.execute_input": "2023-10-10T22:32:36.247582Z",
     "iopub.status.busy": "2023-10-10T22:32:36.247582Z",
     "iopub.status.idle": "2023-10-10T22:32:36.254280Z",
     "shell.execute_reply": "2023-10-10T22:32:36.253270Z",
     "shell.execute_reply.started": "2023-10-10T22:32:36.247582Z"
    }
   },
   "outputs": [],
   "source": [
    "scaler = StandardScaler()"
   ]
  },
  {
   "cell_type": "code",
   "execution_count": 136,
   "id": "cbb2596d-f111-41ff-a7d2-9bfb67c53359",
   "metadata": {
    "execution": {
     "iopub.execute_input": "2023-10-10T22:43:19.057641Z",
     "iopub.status.busy": "2023-10-10T22:43:19.055609Z",
     "iopub.status.idle": "2023-10-10T22:43:19.073586Z",
     "shell.execute_reply": "2023-10-10T22:43:19.073586Z",
     "shell.execute_reply.started": "2023-10-10T22:43:19.057641Z"
    }
   },
   "outputs": [
    {
     "data": {
      "text/html": [
       "<style>#sk-container-id-2 {color: black;}#sk-container-id-2 pre{padding: 0;}#sk-container-id-2 div.sk-toggleable {background-color: white;}#sk-container-id-2 label.sk-toggleable__label {cursor: pointer;display: block;width: 100%;margin-bottom: 0;padding: 0.3em;box-sizing: border-box;text-align: center;}#sk-container-id-2 label.sk-toggleable__label-arrow:before {content: \"▸\";float: left;margin-right: 0.25em;color: #696969;}#sk-container-id-2 label.sk-toggleable__label-arrow:hover:before {color: black;}#sk-container-id-2 div.sk-estimator:hover label.sk-toggleable__label-arrow:before {color: black;}#sk-container-id-2 div.sk-toggleable__content {max-height: 0;max-width: 0;overflow: hidden;text-align: left;background-color: #f0f8ff;}#sk-container-id-2 div.sk-toggleable__content pre {margin: 0.2em;color: black;border-radius: 0.25em;background-color: #f0f8ff;}#sk-container-id-2 input.sk-toggleable__control:checked~div.sk-toggleable__content {max-height: 200px;max-width: 100%;overflow: auto;}#sk-container-id-2 input.sk-toggleable__control:checked~label.sk-toggleable__label-arrow:before {content: \"▾\";}#sk-container-id-2 div.sk-estimator input.sk-toggleable__control:checked~label.sk-toggleable__label {background-color: #d4ebff;}#sk-container-id-2 div.sk-label input.sk-toggleable__control:checked~label.sk-toggleable__label {background-color: #d4ebff;}#sk-container-id-2 input.sk-hidden--visually {border: 0;clip: rect(1px 1px 1px 1px);clip: rect(1px, 1px, 1px, 1px);height: 1px;margin: -1px;overflow: hidden;padding: 0;position: absolute;width: 1px;}#sk-container-id-2 div.sk-estimator {font-family: monospace;background-color: #f0f8ff;border: 1px dotted black;border-radius: 0.25em;box-sizing: border-box;margin-bottom: 0.5em;}#sk-container-id-2 div.sk-estimator:hover {background-color: #d4ebff;}#sk-container-id-2 div.sk-parallel-item::after {content: \"\";width: 100%;border-bottom: 1px solid gray;flex-grow: 1;}#sk-container-id-2 div.sk-label:hover label.sk-toggleable__label {background-color: #d4ebff;}#sk-container-id-2 div.sk-serial::before {content: \"\";position: absolute;border-left: 1px solid gray;box-sizing: border-box;top: 0;bottom: 0;left: 50%;z-index: 0;}#sk-container-id-2 div.sk-serial {display: flex;flex-direction: column;align-items: center;background-color: white;padding-right: 0.2em;padding-left: 0.2em;position: relative;}#sk-container-id-2 div.sk-item {position: relative;z-index: 1;}#sk-container-id-2 div.sk-parallel {display: flex;align-items: stretch;justify-content: center;background-color: white;position: relative;}#sk-container-id-2 div.sk-item::before, #sk-container-id-2 div.sk-parallel-item::before {content: \"\";position: absolute;border-left: 1px solid gray;box-sizing: border-box;top: 0;bottom: 0;left: 50%;z-index: -1;}#sk-container-id-2 div.sk-parallel-item {display: flex;flex-direction: column;z-index: 1;position: relative;background-color: white;}#sk-container-id-2 div.sk-parallel-item:first-child::after {align-self: flex-end;width: 50%;}#sk-container-id-2 div.sk-parallel-item:last-child::after {align-self: flex-start;width: 50%;}#sk-container-id-2 div.sk-parallel-item:only-child::after {width: 0;}#sk-container-id-2 div.sk-dashed-wrapped {border: 1px dashed gray;margin: 0 0.4em 0.5em 0.4em;box-sizing: border-box;padding-bottom: 0.4em;background-color: white;}#sk-container-id-2 div.sk-label label {font-family: monospace;font-weight: bold;display: inline-block;line-height: 1.2em;}#sk-container-id-2 div.sk-label-container {text-align: center;}#sk-container-id-2 div.sk-container {/* jupyter's `normalize.less` sets `[hidden] { display: none; }` but bootstrap.min.css set `[hidden] { display: none !important; }` so we also need the `!important` here to be able to override the default hidden behavior on the sphinx rendered scikit-learn.org. See: https://github.com/scikit-learn/scikit-learn/issues/21755 */display: inline-block !important;position: relative;}#sk-container-id-2 div.sk-text-repr-fallback {display: none;}</style><div id=\"sk-container-id-2\" class=\"sk-top-container\"><div class=\"sk-text-repr-fallback\"><pre>StandardScaler()</pre><b>In a Jupyter environment, please rerun this cell to show the HTML representation or trust the notebook. <br />On GitHub, the HTML representation is unable to render, please try loading this page with nbviewer.org.</b></div><div class=\"sk-container\" hidden><div class=\"sk-item\"><div class=\"sk-estimator sk-toggleable\"><input class=\"sk-toggleable__control sk-hidden--visually\" id=\"sk-estimator-id-2\" type=\"checkbox\" checked><label for=\"sk-estimator-id-2\" class=\"sk-toggleable__label sk-toggleable__label-arrow\">StandardScaler</label><div class=\"sk-toggleable__content\"><pre>StandardScaler()</pre></div></div></div></div></div>"
      ],
      "text/plain": [
       "StandardScaler()"
      ]
     },
     "execution_count": 136,
     "metadata": {},
     "output_type": "execute_result"
    }
   ],
   "source": [
    "# Reshape my predictions to a 2D array\n",
    "y_pred_2d = y_pred.reshape(-1, 1)\n",
    "\n",
    "# Lets now Fit the StandardScaler object to my predictions\n",
    "scaler.fit(y_pred_2d)"
   ]
  },
  {
   "cell_type": "code",
   "execution_count": 138,
   "id": "027c7803-5e26-4c9b-8eb1-e9a8d8df0bd7",
   "metadata": {
    "execution": {
     "iopub.execute_input": "2023-10-10T22:43:37.499376Z",
     "iopub.status.busy": "2023-10-10T22:43:37.496250Z",
     "iopub.status.idle": "2023-10-10T22:43:37.518919Z",
     "shell.execute_reply": "2023-10-10T22:43:37.517019Z",
     "shell.execute_reply.started": "2023-10-10T22:43:37.499376Z"
    }
   },
   "outputs": [],
   "source": [
    "predictions_standardized = scaler.inverse_transform(y_pred_2d)"
   ]
  },
  {
   "cell_type": "code",
   "execution_count": 142,
   "id": "c84cc3fc-fa49-4547-bec8-b526a98804f5",
   "metadata": {
    "execution": {
     "iopub.execute_input": "2023-10-10T22:44:51.993347Z",
     "iopub.status.busy": "2023-10-10T22:44:51.992110Z",
     "iopub.status.idle": "2023-10-10T22:44:52.002571Z",
     "shell.execute_reply": "2023-10-10T22:44:52.002049Z",
     "shell.execute_reply.started": "2023-10-10T22:44:51.993347Z"
    }
   },
   "outputs": [
    {
     "data": {
      "text/plain": [
       "array([[-0.83254285],\n",
       "       [-0.13549919],\n",
       "       [-0.10944148],\n",
       "       ...,\n",
       "       [-0.08183514],\n",
       "       [-0.73482645],\n",
       "       [ 0.49733084]])"
      ]
     },
     "execution_count": 142,
     "metadata": {},
     "output_type": "execute_result"
    }
   ],
   "source": [
    "predictions_standardized"
   ]
  },
  {
   "cell_type": "code",
   "execution_count": 143,
   "id": "1eab1c64-3a1b-4a63-b947-cdf29920445e",
   "metadata": {
    "execution": {
     "iopub.execute_input": "2023-10-10T22:45:26.714177Z",
     "iopub.status.busy": "2023-10-10T22:45:26.714177Z",
     "iopub.status.idle": "2023-10-10T22:45:26.726715Z",
     "shell.execute_reply": "2023-10-10T22:45:26.724924Z",
     "shell.execute_reply.started": "2023-10-10T22:45:26.714177Z"
    }
   },
   "outputs": [],
   "source": [
    "predictions = np.exp(predictions_standardized[:, 0])"
   ]
  },
  {
   "cell_type": "code",
   "execution_count": 144,
   "id": "69e337f5-2cbb-44a7-81b0-4e061fd2fc17",
   "metadata": {
    "execution": {
     "iopub.execute_input": "2023-10-10T22:45:33.139971Z",
     "iopub.status.busy": "2023-10-10T22:45:33.134913Z",
     "iopub.status.idle": "2023-10-10T22:45:33.158338Z",
     "shell.execute_reply": "2023-10-10T22:45:33.157518Z",
     "shell.execute_reply.started": "2023-10-10T22:45:33.139971Z"
    }
   },
   "outputs": [
    {
     "data": {
      "text/plain": [
       "array([0.43494189, 0.87327987, 0.89633461, ..., 0.92142385, 0.47958868,\n",
       "       1.64432644])"
      ]
     },
     "execution_count": 144,
     "metadata": {},
     "output_type": "execute_result"
    }
   ],
   "source": [
    "predictions"
   ]
  },
  {
   "cell_type": "markdown",
   "id": "31e4ac76-a989-4883-a047-7f2e97fa62ca",
   "metadata": {},
   "source": [
    "# 6. Model Evaluation"
   ]
  },
  {
   "cell_type": "markdown",
   "id": "89e0e95a-0f64-4ca7-b47f-23484d86042a",
   "metadata": {},
   "source": [
    "# 7. Hyperparameter Tuning (Optional)"
   ]
  },
  {
   "cell_type": "markdown",
   "id": "e8c7bce0-32b4-43cf-a61d-2caa88e834e5",
   "metadata": {},
   "source": [
    "# 8. Final Model Training and Predictions"
   ]
  },
  {
   "cell_type": "markdown",
   "id": "fa47587f-6b8e-4e7b-adf9-8e51e8a7f0b6",
   "metadata": {},
   "source": [
    "# 9. Conclusion"
   ]
  }
 ],
 "metadata": {
  "kernelspec": {
   "display_name": "Python 3 (ipykernel)",
   "language": "python",
   "name": "python3"
  },
  "language_info": {
   "codemirror_mode": {
    "name": "ipython",
    "version": 3
   },
   "file_extension": ".py",
   "mimetype": "text/x-python",
   "name": "python",
   "nbconvert_exporter": "python",
   "pygments_lexer": "ipython3",
   "version": "3.10.8"
  }
 },
 "nbformat": 4,
 "nbformat_minor": 5
}
