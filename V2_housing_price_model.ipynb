{
 "cells": [
  {
   "cell_type": "markdown",
   "id": "b8c91ec7-d815-45e6-a2eb-23d739f4075c",
   "metadata": {},
   "source": [
    "# House Prices - Advanced Regression Techniques\n",
    "## Predict sales prices and practice feature engineering, RFs, and gradient boosting"
   ]
  },
  {
   "cell_type": "markdown",
   "id": "b2b75b77-5d59-43ce-817f-c4c8942dcf19",
   "metadata": {},
   "source": [
    "# 2. Data Exploration and Preprocessing"
   ]
  },
  {
   "cell_type": "markdown",
   "id": "e30c5df2-2339-4e28-bfcc-06231623ec7f",
   "metadata": {},
   "source": [
    "## Load and Exploring the dataset"
   ]
  },
  {
   "cell_type": "code",
   "execution_count": 2,
   "id": "8d74c253-b3be-4986-828a-ba816550e9b0",
   "metadata": {
    "tags": []
   },
   "outputs": [],
   "source": [
    "import pandas as pd\n",
    "import numpy as np\n",
    "import matplotlib.pyplot as plt\n",
    "import seaborn as sns\n",
    "import warnings\n",
    "warnings.filterwarnings('ignore')"
   ]
  },
  {
   "cell_type": "code",
   "execution_count": 3,
   "id": "7267fd8e-7baf-44d0-9d3d-456d03c7f4a2",
   "metadata": {
    "tags": []
   },
   "outputs": [],
   "source": [
    "#pd.set_option('display.max_rows', None)\n",
    "#pd.set_option('display.max_columns', None)"
   ]
  },
  {
   "cell_type": "code",
   "execution_count": 4,
   "id": "7ae0f8e7-1aab-494c-8817-852c69ee7057",
   "metadata": {
    "tags": []
   },
   "outputs": [],
   "source": [
    "df1 = pd.read_csv('data_downloaded/train.csv')"
   ]
  },
  {
   "cell_type": "markdown",
   "id": "05579e19-4bb9-4e7e-ae1a-e9db73c87a92",
   "metadata": {},
   "source": [
    "## Handling Missing Values"
   ]
  },
  {
   "cell_type": "code",
   "execution_count": null,
   "id": "aafeb8e0-4feb-4136-ba27-e6affe37995e",
   "metadata": {
    "tags": []
   },
   "outputs": [],
   "source": []
  },
  {
   "cell_type": "code",
   "execution_count": 5,
   "id": "3f5aeab5-c566-4c94-956c-e6c8d9bf69f7",
   "metadata": {
    "tags": []
   },
   "outputs": [],
   "source": [
    "replacement_dictionary = {\n",
    "                            'PoolQC'      : 'No Pool',\n",
    "                            'MiscFeature' : 'No MiscFeatures',  \n",
    "                            'Alley'       : 'No Alley Access',\n",
    "                            'Fence'       : 'No Fence',\n",
    "                            'FireplaceQu' : 'No FirePlace', \n",
    "                            'GarageFinish': 'No Garage',\n",
    "                            'GarageQual'  : 'No Garage',\n",
    "                            'GarageCond'  : 'No Garage',\n",
    "                            'GarageType'  : 'No Garage',\n",
    "                            'BsmtExposure': 'No Basement',\n",
    "                            'BsmtCond'    : 'No Basement',\n",
    "                            'BsmtQual'    : 'No Basement',\n",
    "                            'BsmtFinType2': 'No Basement',\n",
    "                            'BsmtFinType1': 'No Basement',\n",
    "                            'Electrical'  : 'No Electrical',\n",
    "                            'MasVnrType'  : 'No MasVnr',\n",
    "                            'MasVnrArea'  : 0,\n",
    "                            'LotFrontage' : 0,\n",
    "                            'GarageYrBlt' : 0}"
   ]
  },
  {
   "cell_type": "code",
   "execution_count": 6,
   "id": "a0190e79-97a3-4f16-9e17-1bc3fd3dd94b",
   "metadata": {
    "tags": []
   },
   "outputs": [],
   "source": [
    "class Dealing_missing_values:\n",
    "    def __init__(self, df):\n",
    "        \"\"\"\n",
    "        Initialize the Dealing_missing_values class with a DataFrame.\n",
    "\n",
    "        Parameters:\n",
    "            df (pd.DataFrame): The input DataFrame.\n",
    "        \"\"\"\n",
    "        self.df = df\n",
    "\n",
    "    def mmm(self, columns, method='mean'):\n",
    "        \"\"\"\n",
    "        Fill missing values in specified columns using a specified method.\n",
    "\n",
    "        Parameters:\n",
    "            columns (list): List of column names to apply the method.\n",
    "            method (str): The method to fill missing values ('mean', 'median', or 'mode').\n",
    "        \"\"\"\n",
    "        if method == 'mean':\n",
    "            self.df[columns] = self.df[columns].fillna(self.df[columns].mean())\n",
    "        elif method == 'median':\n",
    "            self.df[columns] = self.df[columns].fillna(self.df[columns].median())\n",
    "        elif method == 'mode':\n",
    "            self.df[columns] = self.df[columns].fillna(self.df[columns].mode().iloc[0])\n",
    "        else:\n",
    "            raise ValueError(\"Invalid method. Use 'mean', 'median', or 'mode'.\")\n",
    "\n",
    "    def replace(self, replacements):\n",
    "        \"\"\"\n",
    "        Replace missing values based on a provided dictionary.\n",
    "\n",
    "        Parameters:\n",
    "            replacements (dict): Dictionary of column names and replacement values.\n",
    "        \"\"\"\n",
    "        self.df.fillna(replacements, inplace=True)\n",
    "\n",
    "    def drop_rows(self, columns):\n",
    "        \"\"\"\n",
    "        Drop rows containing missing values in specified columns.\n",
    "\n",
    "        Parameters:\n",
    "            columns (list): List of column names to check for missing values.\n",
    "        \"\"\"\n",
    "        self.df.dropna(subset=columns, inplace=True)\n",
    "\n",
    "    def drop_columns(self, columns):\n",
    "        \"\"\"\n",
    "        Drop specified columns with missing values.\n",
    "\n",
    "        Parameters:\n",
    "            columns (list): List of column names to be dropped.\n",
    "        \"\"\"\n",
    "        self.df.drop(columns=columns, inplace=True)\n",
    "\n",
    "    def show_missing_values(self):\n",
    "        \"\"\"\n",
    "        Show a bar graph of missing value counts sorted in ascending order.\n",
    "        if there are no missing values, it prints accordingly.\n",
    "        \"\"\"\n",
    "        if self.df.isnull().sum().any().any():\n",
    "            missing_counts = self.df.isnull().sum().sort_values(ascending=False)\n",
    "            missing_counts = missing_counts[missing_counts > 0]\n",
    "\n",
    "            plt.figure(figsize=(8,5)) \n",
    "            ax = sns.barplot(x=missing_counts.index, y=missing_counts.values)\n",
    "            plt.xticks(rotation=90)\n",
    "            plt.xlabel('Features with Nan values')\n",
    "            plt.ylabel('Nan Value Count')\n",
    "            plt.title('Nan Value Counts by Features')\n",
    "            for p in ax.patches:\n",
    "                ax.annotate(f'{p.get_height():.0f}', (p.get_x() + p.get_width() / 2., p.get_height()), ha='center', va='bottom')\n",
    "            plt.show()\n",
    "        else:\n",
    "            print('There are no missing values')\n",
    "            \n",
    "    def show_rows_with_missing_values(self):\n",
    "        '''\n",
    "        Filter rows with missing values.\n",
    "\n",
    "        Returns:\n",
    "            pd.DataFrame: DataFrame with rows containing missing values.\n",
    "        '''\n",
    "        return self.df[self.df.isnull().any(axis=1)]"
   ]
  },
  {
   "cell_type": "code",
   "execution_count": 7,
   "id": "bf966889-8276-4c4d-8b7e-244f785990bc",
   "metadata": {
    "tags": []
   },
   "outputs": [],
   "source": [
    "missing_handler = Dealing_missing_values(df1)"
   ]
  },
  {
   "cell_type": "code",
   "execution_count": 8,
   "id": "35ba0a93-a93b-47c5-86fa-1ea3a4916b6c",
   "metadata": {
    "tags": []
   },
   "outputs": [
    {
     "data": {
      "image/png": "[encoded data removed]",
      "text/plain": [
       "<Figure size 800x500 with 1 Axes>"
      ]
     },
     "metadata": {},
     "output_type": "display_data"
    }
   ],
   "source": [
    "missing_handler.show_missing_values()"
   ]
  },
  {
   "cell_type": "code",
   "execution_count": 8,
   "id": "e8515a85-8af3-4447-8910-fbac0afa06ba",
   "metadata": {
    "tags": []
   },
   "outputs": [],
   "source": [
    "missing_handler.replace(replacement_dictionary)"
   ]
  },
  {
   "cell_type": "code",
   "execution_count": 9,
   "id": "d49ca6ee-7054-4346-9448-b722516ed23b",
   "metadata": {
    "tags": []
   },
   "outputs": [
    {
     "name": "stdout",
     "output_type": "stream",
     "text": [
      "There are no missing values\n"
     ]
    }
   ],
   "source": [
    "missing_handler.show_missing_values()"
   ]
  },
  {
   "cell_type": "code",
   "execution_count": 10,
   "id": "a3fc7f22-a4b2-40b2-9255-055f577e1472",
   "metadata": {
    "tags": []
   },
   "outputs": [],
   "source": [
    "df2 = df1.copy()"
   ]
  },
  {
   "cell_type": "code",
   "execution_count": 11,
   "id": "833ffd99-3bc1-4186-abd6-5e47eedeae87",
   "metadata": {
    "tags": []
   },
   "outputs": [
    {
     "data": {
      "text/plain": [
       "(1460, 81)"
      ]
     },
     "execution_count": 11,
     "metadata": {},
     "output_type": "execute_result"
    }
   ],
   "source": [
    "df2.shape"
   ]
  },
  {
   "cell_type": "markdown",
   "id": "764c50ba-3aba-49fb-8e4f-daa5528e0c79",
   "metadata": {
    "execution": {
     "iopub.execute_input": "2023-10-08T23:05:41.939226Z",
     "iopub.status.busy": "2023-10-08T23:05:41.925741Z",
     "iopub.status.idle": "2023-10-08T23:05:41.952428Z",
     "shell.execute_reply": "2023-10-08T23:05:41.952428Z",
     "shell.execute_reply.started": "2023-10-08T23:05:41.939226Z"
    }
   },
   "source": [
    "## Feature Engineering"
   ]
  },
  {
   "cell_type": "markdown",
   "id": "16d07fc4-55b1-435d-a752-f148706404ca",
   "metadata": {},
   "source": [
    "### Summarizing Features: Creating new Features and drop old ones"
   ]
  },
  {
   "cell_type": "markdown",
   "id": "f1282a3c-dbd8-46df-9cf1-85c3ee4c15fa",
   "metadata": {},
   "source": [
    "Combining features to create new ones is a powerful technique. For example, combining area measurements to get a \"Total Area\" feature can often provide more meaningful information. We will also use our Domain Knowledge as well"
   ]
  },
  {
   "cell_type": "markdown",
   "id": "7b538e13-66f0-4c5c-aa51-f706f790fcf3",
   "metadata": {},
   "source": [
    "__Total Area__  \n",
    "We will combine features named TotalBsmtSF (total basement square footage), 1stFlrSF (first floor square footage), and 2ndFlrSF (second floor square footage) to create a 'Total Area' feature.  \n",
    "\n",
    "- Maybe we can try to add basement sq footage with multiplying 0.5 since the basement is not as valuable as ground level footage"
   ]
  },
  {
   "cell_type": "code",
   "execution_count": 12,
   "id": "7739a3ee-764b-4172-97ec-a38672b8bafe",
   "metadata": {
    "tags": []
   },
   "outputs": [
    {
     "data": {
      "text/html": [
       "<div>\n",
       "<style scoped>\n",
       "    .dataframe tbody tr th:only-of-type {\n",
       "        vertical-align: middle;\n",
       "    }\n",
       "\n",
       "    .dataframe tbody tr th {\n",
       "        vertical-align: top;\n",
       "    }\n",
       "\n",
       "    .dataframe thead th {\n",
       "        text-align: right;\n",
       "    }\n",
       "</style>\n",
       "<table border=\"1\" class=\"dataframe\">\n",
       "  <thead>\n",
       "    <tr style=\"text-align: right;\">\n",
       "      <th></th>\n",
       "      <th>Total_Area</th>\n",
       "      <th>TotalBsmtSF</th>\n",
       "      <th>1stFlrSF</th>\n",
       "      <th>2ndFlrSF</th>\n",
       "    </tr>\n",
       "  </thead>\n",
       "  <tbody>\n",
       "    <tr>\n",
       "      <th>0</th>\n",
       "      <td>2566</td>\n",
       "      <td>856</td>\n",
       "      <td>856</td>\n",
       "      <td>854</td>\n",
       "    </tr>\n",
       "    <tr>\n",
       "      <th>1</th>\n",
       "      <td>2524</td>\n",
       "      <td>1262</td>\n",
       "      <td>1262</td>\n",
       "      <td>0</td>\n",
       "    </tr>\n",
       "    <tr>\n",
       "      <th>2</th>\n",
       "      <td>2706</td>\n",
       "      <td>920</td>\n",
       "      <td>920</td>\n",
       "      <td>866</td>\n",
       "    </tr>\n",
       "  </tbody>\n",
       "</table>\n",
       "</div>"
      ],
      "text/plain": [
       "   Total_Area  TotalBsmtSF  1stFlrSF  2ndFlrSF\n",
       "0        2566          856       856       854\n",
       "1        2524         1262      1262         0\n",
       "2        2706          920       920       866"
      ]
     },
     "execution_count": 12,
     "metadata": {},
     "output_type": "execute_result"
    }
   ],
   "source": [
    "df2['Total_Area'] = df2['TotalBsmtSF'] + df2['1stFlrSF'] + df2['2ndFlrSF']\n",
    "df2[['Total_Area', 'TotalBsmtSF',  '1stFlrSF', '2ndFlrSF']].head(3)"
   ]
  },
  {
   "cell_type": "code",
   "execution_count": 13,
   "id": "4d62b0bc-c7a5-4d29-8137-30c2be463aae",
   "metadata": {
    "tags": []
   },
   "outputs": [],
   "source": [
    "# Lets drop remainin columns\n",
    "# i will drop TotalBsmtSF column later, because i will need bsmt sf down when i deal with features related to basement\n",
    "df2.drop(columns=['1stFlrSF', '2ndFlrSF'], inplace=True)"
   ]
  },
  {
   "cell_type": "code",
   "execution_count": 14,
   "id": "aed9ee53-ca4b-4dae-a16c-84fbb822bd10",
   "metadata": {
    "tags": []
   },
   "outputs": [
    {
     "data": {
      "text/plain": [
       "(1460, 80)"
      ]
     },
     "execution_count": 14,
     "metadata": {},
     "output_type": "execute_result"
    }
   ],
   "source": [
    "df2.shape"
   ]
  },
  {
   "cell_type": "markdown",
   "id": "512b8de0-85a3-42d1-bce7-168e1d48958c",
   "metadata": {},
   "source": [
    "__Total Bathrooms__"
   ]
  },
  {
   "cell_type": "markdown",
   "id": "86308097-96b5-4ca3-af07-ed26a18e49f0",
   "metadata": {},
   "source": [
    "Like in sq footage we will combine the bathrooms into a total bathroom quantity."
   ]
  },
  {
   "cell_type": "code",
   "execution_count": 15,
   "id": "97434611-22a1-4cc1-99a1-b99f9d2848d2",
   "metadata": {
    "tags": []
   },
   "outputs": [
    {
     "data": {
      "text/plain": [
       "['BsmtFullBath', 'BsmtHalfBath', 'FullBath', 'HalfBath']"
      ]
     },
     "execution_count": 15,
     "metadata": {},
     "output_type": "execute_result"
    }
   ],
   "source": [
    "bathroom_columns = [col for col in df2.columns if 'bath' in col.lower()]\n",
    "bathroom_columns"
   ]
  },
  {
   "cell_type": "code",
   "execution_count": 16,
   "id": "9ee52d0d-e640-40aa-a0e6-1565e564262f",
   "metadata": {
    "tags": []
   },
   "outputs": [],
   "source": [
    "df2['Total_Bathrooms'] = df2['BsmtFullBath'] + df2['FullBath'] + 0.5*(df2['BsmtHalfBath'] + df2['HalfBath'])"
   ]
  },
  {
   "cell_type": "code",
   "execution_count": 17,
   "id": "afacfd01-e392-4687-aada-7c939c0decf6",
   "metadata": {
    "tags": []
   },
   "outputs": [
    {
     "data": {
      "text/html": [
       "<div>\n",
       "<style scoped>\n",
       "    .dataframe tbody tr th:only-of-type {\n",
       "        vertical-align: middle;\n",
       "    }\n",
       "\n",
       "    .dataframe tbody tr th {\n",
       "        vertical-align: top;\n",
       "    }\n",
       "\n",
       "    .dataframe thead th {\n",
       "        text-align: right;\n",
       "    }\n",
       "</style>\n",
       "<table border=\"1\" class=\"dataframe\">\n",
       "  <thead>\n",
       "    <tr style=\"text-align: right;\">\n",
       "      <th></th>\n",
       "      <th>Total_Bathrooms</th>\n",
       "      <th>BsmtFullBath</th>\n",
       "      <th>BsmtHalfBath</th>\n",
       "      <th>FullBath</th>\n",
       "      <th>HalfBath</th>\n",
       "    </tr>\n",
       "  </thead>\n",
       "  <tbody>\n",
       "    <tr>\n",
       "      <th>0</th>\n",
       "      <td>3.5</td>\n",
       "      <td>1</td>\n",
       "      <td>0</td>\n",
       "      <td>2</td>\n",
       "      <td>1</td>\n",
       "    </tr>\n",
       "    <tr>\n",
       "      <th>1</th>\n",
       "      <td>2.5</td>\n",
       "      <td>0</td>\n",
       "      <td>1</td>\n",
       "      <td>2</td>\n",
       "      <td>0</td>\n",
       "    </tr>\n",
       "    <tr>\n",
       "      <th>2</th>\n",
       "      <td>3.5</td>\n",
       "      <td>1</td>\n",
       "      <td>0</td>\n",
       "      <td>2</td>\n",
       "      <td>1</td>\n",
       "    </tr>\n",
       "  </tbody>\n",
       "</table>\n",
       "</div>"
      ],
      "text/plain": [
       "   Total_Bathrooms  BsmtFullBath  BsmtHalfBath  FullBath  HalfBath\n",
       "0              3.5             1             0         2         1\n",
       "1              2.5             0             1         2         0\n",
       "2              3.5             1             0         2         1"
      ]
     },
     "execution_count": 17,
     "metadata": {},
     "output_type": "execute_result"
    }
   ],
   "source": [
    "df2[['Total_Bathrooms', 'BsmtFullBath', 'BsmtHalfBath', 'FullBath', 'HalfBath']].head(3)"
   ]
  },
  {
   "cell_type": "code",
   "execution_count": 18,
   "id": "e49a5d47-b915-48e7-8a53-037197155549",
   "metadata": {
    "tags": []
   },
   "outputs": [],
   "source": [
    "df2.drop(columns=['BsmtFullBath', 'BsmtHalfBath', 'FullBath', 'HalfBath'], inplace=True)"
   ]
  },
  {
   "cell_type": "markdown",
   "id": "eb6aa294-f0ff-4632-9c0b-68bd472047f3",
   "metadata": {
    "execution": {
     "iopub.execute_input": "2023-10-09T10:43:25.410599Z",
     "iopub.status.busy": "2023-10-09T10:43:25.410086Z",
     "iopub.status.idle": "2023-10-09T10:43:25.417606Z",
     "shell.execute_reply": "2023-10-09T10:43:25.416594Z",
     "shell.execute_reply.started": "2023-10-09T10:43:25.410599Z"
    }
   },
   "source": [
    "__Age of the house__"
   ]
  },
  {
   "cell_type": "markdown",
   "id": "ceaf160c-ce67-430a-9d45-39b4c73c1225",
   "metadata": {},
   "source": [
    "i think the age of sth is more intuitive and comparable rather than the build year sth like 1995"
   ]
  },
  {
   "cell_type": "code",
   "execution_count": 19,
   "id": "3bd1faab-eb47-464f-bb93-7df2979016e5",
   "metadata": {
    "tags": []
   },
   "outputs": [
    {
     "data": {
      "text/plain": [
       "2010"
      ]
     },
     "execution_count": 19,
     "metadata": {},
     "output_type": "execute_result"
    }
   ],
   "source": [
    "newest_blt = df2['YearBuilt'].max()\n",
    "newest_blt"
   ]
  },
  {
   "cell_type": "code",
   "execution_count": 20,
   "id": "8e63e40d-ba93-49d7-96e2-139a59f765ec",
   "metadata": {
    "tags": []
   },
   "outputs": [],
   "source": [
    "df2['Age_of_Property'] = newest_blt - df2['YearBuilt']"
   ]
  },
  {
   "cell_type": "code",
   "execution_count": 21,
   "id": "d19506cc-d5af-4af9-8358-3f5c8d11fc26",
   "metadata": {
    "tags": []
   },
   "outputs": [
    {
     "data": {
      "text/html": [
       "<div>\n",
       "<style scoped>\n",
       "    .dataframe tbody tr th:only-of-type {\n",
       "        vertical-align: middle;\n",
       "    }\n",
       "\n",
       "    .dataframe tbody tr th {\n",
       "        vertical-align: top;\n",
       "    }\n",
       "\n",
       "    .dataframe thead th {\n",
       "        text-align: right;\n",
       "    }\n",
       "</style>\n",
       "<table border=\"1\" class=\"dataframe\">\n",
       "  <thead>\n",
       "    <tr style=\"text-align: right;\">\n",
       "      <th></th>\n",
       "      <th>Age_of_Property</th>\n",
       "      <th>YearBuilt</th>\n",
       "    </tr>\n",
       "  </thead>\n",
       "  <tbody>\n",
       "    <tr>\n",
       "      <th>0</th>\n",
       "      <td>7</td>\n",
       "      <td>2003</td>\n",
       "    </tr>\n",
       "    <tr>\n",
       "      <th>1</th>\n",
       "      <td>34</td>\n",
       "      <td>1976</td>\n",
       "    </tr>\n",
       "    <tr>\n",
       "      <th>2</th>\n",
       "      <td>9</td>\n",
       "      <td>2001</td>\n",
       "    </tr>\n",
       "  </tbody>\n",
       "</table>\n",
       "</div>"
      ],
      "text/plain": [
       "   Age_of_Property  YearBuilt\n",
       "0                7       2003\n",
       "1               34       1976\n",
       "2                9       2001"
      ]
     },
     "execution_count": 21,
     "metadata": {},
     "output_type": "execute_result"
    }
   ],
   "source": [
    "df2[['Age_of_Property', 'YearBuilt']].head(3)"
   ]
  },
  {
   "cell_type": "code",
   "execution_count": 22,
   "id": "6eb728ff-cddd-476d-ad95-d4ec0cc09510",
   "metadata": {
    "tags": []
   },
   "outputs": [],
   "source": [
    "df2.drop(columns=['YearBuilt'], inplace=True)"
   ]
  },
  {
   "cell_type": "markdown",
   "id": "bf3058dd-9d25-4253-9926-1f11026fd9e7",
   "metadata": {
    "execution": {
     "iopub.execute_input": "2023-10-09T11:28:32.204903Z",
     "iopub.status.busy": "2023-10-09T11:28:32.204903Z",
     "iopub.status.idle": "2023-10-09T11:28:32.228329Z",
     "shell.execute_reply": "2023-10-09T11:28:32.227030Z",
     "shell.execute_reply.started": "2023-10-09T11:28:32.204903Z"
    }
   },
   "source": [
    "__Renovation Adding Date__"
   ]
  },
  {
   "cell_type": "code",
   "execution_count": 23,
   "id": "b4c7b05e-5e49-447d-bb07-c22d613645fd",
   "metadata": {
    "tags": []
   },
   "outputs": [],
   "source": [
    "df2['Age_of_Renovation'] = newest_blt - df2['YearRemodAdd']"
   ]
  },
  {
   "cell_type": "code",
   "execution_count": 24,
   "id": "a0e8b0b6-1d74-4596-b256-8ad94e18dea7",
   "metadata": {
    "tags": []
   },
   "outputs": [
    {
     "data": {
      "text/html": [
       "<div>\n",
       "<style scoped>\n",
       "    .dataframe tbody tr th:only-of-type {\n",
       "        vertical-align: middle;\n",
       "    }\n",
       "\n",
       "    .dataframe tbody tr th {\n",
       "        vertical-align: top;\n",
       "    }\n",
       "\n",
       "    .dataframe thead th {\n",
       "        text-align: right;\n",
       "    }\n",
       "</style>\n",
       "<table border=\"1\" class=\"dataframe\">\n",
       "  <thead>\n",
       "    <tr style=\"text-align: right;\">\n",
       "      <th></th>\n",
       "      <th>Age_of_Renovation</th>\n",
       "      <th>YearRemodAdd</th>\n",
       "    </tr>\n",
       "  </thead>\n",
       "  <tbody>\n",
       "    <tr>\n",
       "      <th>0</th>\n",
       "      <td>7</td>\n",
       "      <td>2003</td>\n",
       "    </tr>\n",
       "    <tr>\n",
       "      <th>1</th>\n",
       "      <td>34</td>\n",
       "      <td>1976</td>\n",
       "    </tr>\n",
       "    <tr>\n",
       "      <th>2</th>\n",
       "      <td>8</td>\n",
       "      <td>2002</td>\n",
       "    </tr>\n",
       "  </tbody>\n",
       "</table>\n",
       "</div>"
      ],
      "text/plain": [
       "   Age_of_Renovation  YearRemodAdd\n",
       "0                  7          2003\n",
       "1                 34          1976\n",
       "2                  8          2002"
      ]
     },
     "execution_count": 24,
     "metadata": {},
     "output_type": "execute_result"
    }
   ],
   "source": [
    "df2[['Age_of_Renovation', 'YearRemodAdd']].head(3)"
   ]
  },
  {
   "cell_type": "code",
   "execution_count": 25,
   "id": "43cdfa22-1fd9-46d0-8d40-d015dbf6ef3f",
   "metadata": {
    "tags": []
   },
   "outputs": [],
   "source": [
    "df2.drop(columns = ['YearRemodAdd'], inplace=True)"
   ]
  },
  {
   "cell_type": "markdown",
   "id": "7e05f5dc-df5b-4945-8efe-2891ad463a3f",
   "metadata": {
    "execution": {
     "iopub.execute_input": "2023-10-09T11:34:52.871440Z",
     "iopub.status.busy": "2023-10-09T11:34:52.871440Z",
     "iopub.status.idle": "2023-10-09T11:34:52.887967Z",
     "shell.execute_reply": "2023-10-09T11:34:52.887967Z",
     "shell.execute_reply.started": "2023-10-09T11:34:52.871440Z"
    }
   },
   "source": [
    "__Garage Columns__"
   ]
  },
  {
   "cell_type": "code",
   "execution_count": 26,
   "id": "688900e8-9f29-4972-b2c5-fcd4f341ff35",
   "metadata": {
    "tags": []
   },
   "outputs": [
    {
     "data": {
      "text/plain": [
       "['GarageType',\n",
       " 'GarageYrBlt',\n",
       " 'GarageFinish',\n",
       " 'GarageCars',\n",
       " 'GarageArea',\n",
       " 'GarageQual',\n",
       " 'GarageCond']"
      ]
     },
     "execution_count": 26,
     "metadata": {},
     "output_type": "execute_result"
    }
   ],
   "source": [
    "garage_columns = [col for col in df2.columns if 'garage' in col.lower()]\n",
    "garage_columns"
   ]
  },
  {
   "cell_type": "markdown",
   "id": "fec266d2-c0c5-4274-ad25-24037b757bbe",
   "metadata": {},
   "source": [
    "I want to hold GarageArea column, and create a binary value column indicating the property has a garage or not.  \n",
    "i will drop other columns  \n",
    "this is an approach coming from domain knowledge but also for simplicity  \n",
    "Later on, we can tune the model with more features"
   ]
  },
  {
   "cell_type": "code",
   "execution_count": 27,
   "id": "d4aa3f2e-c100-44a2-af2b-599c9af510e2",
   "metadata": {
    "tags": []
   },
   "outputs": [
    {
     "data": {
      "text/plain": [
       "Attchd       870\n",
       "Detchd       387\n",
       "BuiltIn       88\n",
       "No Garage     81\n",
       "Basment       19\n",
       "CarPort        9\n",
       "2Types         6\n",
       "Name: GarageType, dtype: int64"
      ]
     },
     "execution_count": 27,
     "metadata": {},
     "output_type": "execute_result"
    }
   ],
   "source": [
    "df2['GarageType'].value_counts()"
   ]
  },
  {
   "cell_type": "code",
   "execution_count": 28,
   "id": "db45a97d-ecd7-4519-853b-92d469cf4a89",
   "metadata": {
    "tags": []
   },
   "outputs": [
    {
     "data": {
      "text/html": [
       "<div>\n",
       "<style scoped>\n",
       "    .dataframe tbody tr th:only-of-type {\n",
       "        vertical-align: middle;\n",
       "    }\n",
       "\n",
       "    .dataframe tbody tr th {\n",
       "        vertical-align: top;\n",
       "    }\n",
       "\n",
       "    .dataframe thead th {\n",
       "        text-align: right;\n",
       "    }\n",
       "</style>\n",
       "<table border=\"1\" class=\"dataframe\">\n",
       "  <thead>\n",
       "    <tr style=\"text-align: right;\">\n",
       "      <th></th>\n",
       "      <th>HasGarage</th>\n",
       "      <th>GarageType</th>\n",
       "    </tr>\n",
       "  </thead>\n",
       "  <tbody>\n",
       "    <tr>\n",
       "      <th>802</th>\n",
       "      <td>1</td>\n",
       "      <td>Attchd</td>\n",
       "    </tr>\n",
       "    <tr>\n",
       "      <th>926</th>\n",
       "      <td>1</td>\n",
       "      <td>BuiltIn</td>\n",
       "    </tr>\n",
       "    <tr>\n",
       "      <th>987</th>\n",
       "      <td>1</td>\n",
       "      <td>Attchd</td>\n",
       "    </tr>\n",
       "    <tr>\n",
       "      <th>969</th>\n",
       "      <td>1</td>\n",
       "      <td>Attchd</td>\n",
       "    </tr>\n",
       "    <tr>\n",
       "      <th>1431</th>\n",
       "      <td>1</td>\n",
       "      <td>Attchd</td>\n",
       "    </tr>\n",
       "  </tbody>\n",
       "</table>\n",
       "</div>"
      ],
      "text/plain": [
       "      HasGarage GarageType\n",
       "802           1     Attchd\n",
       "926           1    BuiltIn\n",
       "987           1     Attchd\n",
       "969           1     Attchd\n",
       "1431          1     Attchd"
      ]
     },
     "execution_count": 28,
     "metadata": {},
     "output_type": "execute_result"
    }
   ],
   "source": [
    "df2['HasGarage'] = (df2['GarageType'] != 'No Garage').astype(int)\n",
    "df2[['HasGarage', 'GarageType']].sample(5)"
   ]
  },
  {
   "cell_type": "code",
   "execution_count": 29,
   "id": "9a4c40a4-5d3b-45a1-b8a1-b81706b1481d",
   "metadata": {
    "tags": []
   },
   "outputs": [],
   "source": [
    "df2.drop(columns= ['GarageType','GarageYrBlt','GarageFinish','GarageCars','GarageQual','GarageCond'], inplace=True)"
   ]
  },
  {
   "cell_type": "code",
   "execution_count": 30,
   "id": "643eb4ba-eda1-4aa9-b864-a12b7814fee9",
   "metadata": {
    "tags": []
   },
   "outputs": [
    {
     "data": {
      "text/plain": [
       "['GarageArea', 'HasGarage']"
      ]
     },
     "execution_count": 30,
     "metadata": {},
     "output_type": "execute_result"
    }
   ],
   "source": [
    "garage_columns_final = [col for col in df2.columns if 'garage' in col.lower()]\n",
    "garage_columns_final"
   ]
  },
  {
   "cell_type": "markdown",
   "id": "0d056915-6330-4391-92a6-02d310150ca4",
   "metadata": {},
   "source": [
    "__Pool Column__"
   ]
  },
  {
   "cell_type": "markdown",
   "id": "40810f0f-0a5f-4218-9fb4-d9b26350e022",
   "metadata": {},
   "source": [
    "Lets also change the pool columns into a one binary feature as well, indicating whether the property has a pool or not  \n",
    "['PoolArea', 'PoolQC']"
   ]
  },
  {
   "cell_type": "code",
   "execution_count": 31,
   "id": "da533c66-dd3b-433f-ab56-48afe8007508",
   "metadata": {
    "tags": []
   },
   "outputs": [
    {
     "data": {
      "text/plain": [
       "No Pool    1453\n",
       "Gd            3\n",
       "Ex            2\n",
       "Fa            2\n",
       "Name: PoolQC, dtype: int64"
      ]
     },
     "execution_count": 31,
     "metadata": {},
     "output_type": "execute_result"
    }
   ],
   "source": [
    "df2['PoolQC'].value_counts()"
   ]
  },
  {
   "cell_type": "code",
   "execution_count": 32,
   "id": "bc87b4c7-4dd8-42c2-bd10-461c02833218",
   "metadata": {
    "tags": []
   },
   "outputs": [],
   "source": [
    "df2['HasPool'] = (df2['PoolQC'] != 'No Pool').astype(int)"
   ]
  },
  {
   "cell_type": "code",
   "execution_count": 33,
   "id": "d1a15a71-f00c-443b-b42b-b02d7c7f1a6d",
   "metadata": {
    "tags": []
   },
   "outputs": [
    {
     "data": {
      "text/plain": [
       "0    1453\n",
       "1       7\n",
       "Name: HasPool, dtype: int64"
      ]
     },
     "execution_count": 33,
     "metadata": {},
     "output_type": "execute_result"
    }
   ],
   "source": [
    "df2['HasPool'].value_counts()"
   ]
  },
  {
   "cell_type": "code",
   "execution_count": 34,
   "id": "10005b75-580e-45d7-ba36-d42fee645019",
   "metadata": {
    "tags": []
   },
   "outputs": [],
   "source": [
    "df2.drop(columns =['PoolArea', 'PoolQC'], inplace=True)"
   ]
  },
  {
   "cell_type": "code",
   "execution_count": 35,
   "id": "dc54c416-f38b-435e-811d-67ed93b07d5d",
   "metadata": {
    "tags": []
   },
   "outputs": [
    {
     "data": {
      "text/plain": [
       "(1460, 71)"
      ]
     },
     "execution_count": 35,
     "metadata": {},
     "output_type": "execute_result"
    }
   ],
   "source": [
    "# Lets assign a new df for following the changes we have made so far\n",
    "df3 = df2.copy()\n",
    "df3.shape"
   ]
  },
  {
   "cell_type": "markdown",
   "id": "6e6ea64f-37d8-413a-81b1-c01c4fbd8c14",
   "metadata": {},
   "source": [
    "__Neighborhood__"
   ]
  },
  {
   "cell_type": "markdown",
   "id": "32978160-9e46-4d45-bfda-b77b3fb80a7b",
   "metadata": {},
   "source": [
    "I want to create mean and median prices for each neighborhood and drop neighborhoods itself  \n",
    "Because generally, prices are really dependent on the neighborhood  \n",
    "We can also work with sqft prices as well"
   ]
  },
  {
   "cell_type": "code",
   "execution_count": 36,
   "id": "2d79186c-f3c6-420b-bdca-7dbba594a4da",
   "metadata": {
    "tags": []
   },
   "outputs": [],
   "source": [
    "neighborhood_median_price = df3.groupby('Neighborhood')['SalePrice'].median().reset_index()\n",
    "neighborhood_median_price.columns = ['Neighborhood', 'MedianHousePrice']"
   ]
  },
  {
   "cell_type": "markdown",
   "id": "b763a4da-daab-42c4-b5c5-7702f58d7b05",
   "metadata": {},
   "source": [
    "I will use this neighborhood_median_price dataframe when we prepare and **predict prices on test dataset**"
   ]
  },
  {
   "cell_type": "code",
   "execution_count": 37,
   "id": "891defb8-7b44-4cc1-b085-9abdfe8325aa",
   "metadata": {
    "tags": []
   },
   "outputs": [
    {
     "data": {
      "text/html": [
       "<div>\n",
       "<style scoped>\n",
       "    .dataframe tbody tr th:only-of-type {\n",
       "        vertical-align: middle;\n",
       "    }\n",
       "\n",
       "    .dataframe tbody tr th {\n",
       "        vertical-align: top;\n",
       "    }\n",
       "\n",
       "    .dataframe thead th {\n",
       "        text-align: right;\n",
       "    }\n",
       "</style>\n",
       "<table border=\"1\" class=\"dataframe\">\n",
       "  <thead>\n",
       "    <tr style=\"text-align: right;\">\n",
       "      <th></th>\n",
       "      <th>Neighborhood</th>\n",
       "      <th>MedianHousePrice</th>\n",
       "    </tr>\n",
       "  </thead>\n",
       "  <tbody>\n",
       "    <tr>\n",
       "      <th>0</th>\n",
       "      <td>Blmngtn</td>\n",
       "      <td>191000.0</td>\n",
       "    </tr>\n",
       "    <tr>\n",
       "      <th>1</th>\n",
       "      <td>Blueste</td>\n",
       "      <td>137500.0</td>\n",
       "    </tr>\n",
       "    <tr>\n",
       "      <th>2</th>\n",
       "      <td>BrDale</td>\n",
       "      <td>106000.0</td>\n",
       "    </tr>\n",
       "    <tr>\n",
       "      <th>3</th>\n",
       "      <td>BrkSide</td>\n",
       "      <td>124300.0</td>\n",
       "    </tr>\n",
       "    <tr>\n",
       "      <th>4</th>\n",
       "      <td>ClearCr</td>\n",
       "      <td>200250.0</td>\n",
       "    </tr>\n",
       "    <tr>\n",
       "      <th>5</th>\n",
       "      <td>CollgCr</td>\n",
       "      <td>197200.0</td>\n",
       "    </tr>\n",
       "    <tr>\n",
       "      <th>6</th>\n",
       "      <td>Crawfor</td>\n",
       "      <td>200624.0</td>\n",
       "    </tr>\n",
       "    <tr>\n",
       "      <th>7</th>\n",
       "      <td>Edwards</td>\n",
       "      <td>121750.0</td>\n",
       "    </tr>\n",
       "    <tr>\n",
       "      <th>8</th>\n",
       "      <td>Gilbert</td>\n",
       "      <td>181000.0</td>\n",
       "    </tr>\n",
       "    <tr>\n",
       "      <th>9</th>\n",
       "      <td>IDOTRR</td>\n",
       "      <td>103000.0</td>\n",
       "    </tr>\n",
       "    <tr>\n",
       "      <th>10</th>\n",
       "      <td>MeadowV</td>\n",
       "      <td>88000.0</td>\n",
       "    </tr>\n",
       "    <tr>\n",
       "      <th>11</th>\n",
       "      <td>Mitchel</td>\n",
       "      <td>153500.0</td>\n",
       "    </tr>\n",
       "    <tr>\n",
       "      <th>12</th>\n",
       "      <td>NAmes</td>\n",
       "      <td>140000.0</td>\n",
       "    </tr>\n",
       "    <tr>\n",
       "      <th>13</th>\n",
       "      <td>NPkVill</td>\n",
       "      <td>146000.0</td>\n",
       "    </tr>\n",
       "    <tr>\n",
       "      <th>14</th>\n",
       "      <td>NWAmes</td>\n",
       "      <td>182900.0</td>\n",
       "    </tr>\n",
       "    <tr>\n",
       "      <th>15</th>\n",
       "      <td>NoRidge</td>\n",
       "      <td>301500.0</td>\n",
       "    </tr>\n",
       "    <tr>\n",
       "      <th>16</th>\n",
       "      <td>NridgHt</td>\n",
       "      <td>315000.0</td>\n",
       "    </tr>\n",
       "    <tr>\n",
       "      <th>17</th>\n",
       "      <td>OldTown</td>\n",
       "      <td>119000.0</td>\n",
       "    </tr>\n",
       "    <tr>\n",
       "      <th>18</th>\n",
       "      <td>SWISU</td>\n",
       "      <td>139500.0</td>\n",
       "    </tr>\n",
       "    <tr>\n",
       "      <th>19</th>\n",
       "      <td>Sawyer</td>\n",
       "      <td>135000.0</td>\n",
       "    </tr>\n",
       "    <tr>\n",
       "      <th>20</th>\n",
       "      <td>SawyerW</td>\n",
       "      <td>179900.0</td>\n",
       "    </tr>\n",
       "    <tr>\n",
       "      <th>21</th>\n",
       "      <td>Somerst</td>\n",
       "      <td>225500.0</td>\n",
       "    </tr>\n",
       "    <tr>\n",
       "      <th>22</th>\n",
       "      <td>StoneBr</td>\n",
       "      <td>278000.0</td>\n",
       "    </tr>\n",
       "    <tr>\n",
       "      <th>23</th>\n",
       "      <td>Timber</td>\n",
       "      <td>228475.0</td>\n",
       "    </tr>\n",
       "    <tr>\n",
       "      <th>24</th>\n",
       "      <td>Veenker</td>\n",
       "      <td>218000.0</td>\n",
       "    </tr>\n",
       "  </tbody>\n",
       "</table>\n",
       "</div>"
      ],
      "text/plain": [
       "   Neighborhood  MedianHousePrice\n",
       "0       Blmngtn          191000.0\n",
       "1       Blueste          137500.0\n",
       "2        BrDale          106000.0\n",
       "3       BrkSide          124300.0\n",
       "4       ClearCr          200250.0\n",
       "5       CollgCr          197200.0\n",
       "6       Crawfor          200624.0\n",
       "7       Edwards          121750.0\n",
       "8       Gilbert          181000.0\n",
       "9        IDOTRR          103000.0\n",
       "10      MeadowV           88000.0\n",
       "11      Mitchel          153500.0\n",
       "12        NAmes          140000.0\n",
       "13      NPkVill          146000.0\n",
       "14       NWAmes          182900.0\n",
       "15      NoRidge          301500.0\n",
       "16      NridgHt          315000.0\n",
       "17      OldTown          119000.0\n",
       "18        SWISU          139500.0\n",
       "19       Sawyer          135000.0\n",
       "20      SawyerW          179900.0\n",
       "21      Somerst          225500.0\n",
       "22      StoneBr          278000.0\n",
       "23       Timber          228475.0\n",
       "24      Veenker          218000.0"
      ]
     },
     "execution_count": 37,
     "metadata": {},
     "output_type": "execute_result"
    }
   ],
   "source": [
    "neighborhood_median_price"
   ]
  },
  {
   "cell_type": "code",
   "execution_count": 38,
   "id": "9327145a-8aa3-4ff8-859f-1f5da7686c37",
   "metadata": {
    "scrolled": true,
    "tags": []
   },
   "outputs": [],
   "source": [
    "df4 = pd.merge(df3, neighborhood_median_price, on='Neighborhood', how='left')"
   ]
  },
  {
   "cell_type": "code",
   "execution_count": 39,
   "id": "6abd1042-8c4b-4fa3-b59b-2223b088f855",
   "metadata": {
    "tags": []
   },
   "outputs": [
    {
     "data": {
      "text/html": [
       "<div>\n",
       "<style scoped>\n",
       "    .dataframe tbody tr th:only-of-type {\n",
       "        vertical-align: middle;\n",
       "    }\n",
       "\n",
       "    .dataframe tbody tr th {\n",
       "        vertical-align: top;\n",
       "    }\n",
       "\n",
       "    .dataframe thead th {\n",
       "        text-align: right;\n",
       "    }\n",
       "</style>\n",
       "<table border=\"1\" class=\"dataframe\">\n",
       "  <thead>\n",
       "    <tr style=\"text-align: right;\">\n",
       "      <th></th>\n",
       "      <th>Neighborhood</th>\n",
       "      <th>MedianHousePrice</th>\n",
       "    </tr>\n",
       "  </thead>\n",
       "  <tbody>\n",
       "    <tr>\n",
       "      <th>1360</th>\n",
       "      <td>SWISU</td>\n",
       "      <td>139500.0</td>\n",
       "    </tr>\n",
       "    <tr>\n",
       "      <th>700</th>\n",
       "      <td>Timber</td>\n",
       "      <td>228475.0</td>\n",
       "    </tr>\n",
       "    <tr>\n",
       "      <th>473</th>\n",
       "      <td>NridgHt</td>\n",
       "      <td>315000.0</td>\n",
       "    </tr>\n",
       "  </tbody>\n",
       "</table>\n",
       "</div>"
      ],
      "text/plain": [
       "     Neighborhood  MedianHousePrice\n",
       "1360        SWISU          139500.0\n",
       "700        Timber          228475.0\n",
       "473       NridgHt          315000.0"
      ]
     },
     "execution_count": 39,
     "metadata": {},
     "output_type": "execute_result"
    }
   ],
   "source": [
    "df4[['Neighborhood', 'MedianHousePrice']].sample(3)"
   ]
  },
  {
   "cell_type": "code",
   "execution_count": 40,
   "id": "5a3e81a8-e064-44fa-88f3-85ffb0ba9e0b",
   "metadata": {
    "tags": []
   },
   "outputs": [],
   "source": [
    "df4.drop(columns=['Neighborhood'], inplace=True)"
   ]
  },
  {
   "cell_type": "code",
   "execution_count": 41,
   "id": "32807455-8d71-4c41-adee-43a7c4c91f53",
   "metadata": {
    "tags": []
   },
   "outputs": [
    {
     "data": {
      "text/plain": [
       "(1460, 71)"
      ]
     },
     "execution_count": 41,
     "metadata": {},
     "output_type": "execute_result"
    }
   ],
   "source": [
    "df4.shape"
   ]
  },
  {
   "cell_type": "markdown",
   "id": "8dabac18-ab5a-4f32-9b01-abe5c03bfdb4",
   "metadata": {
    "execution": {
     "iopub.execute_input": "2023-10-09T13:24:48.382250Z",
     "iopub.status.busy": "2023-10-09T13:24:48.382250Z",
     "iopub.status.idle": "2023-10-09T13:24:48.390368Z",
     "shell.execute_reply": "2023-10-09T13:24:48.390368Z",
     "shell.execute_reply.started": "2023-10-09T13:24:48.382250Z"
    }
   },
   "source": [
    "__Basement columns__"
   ]
  },
  {
   "cell_type": "markdown",
   "id": "00c2d475-0564-4cc3-8f85-f9d75bbb0f47",
   "metadata": {},
   "source": [
    "There are many features related to basement. Lets try to combine, elminate or summmarize them"
   ]
  },
  {
   "cell_type": "code",
   "execution_count": 42,
   "id": "71da2a5f-8f08-49f6-8762-a7444b1cf0a2",
   "metadata": {
    "tags": []
   },
   "outputs": [
    {
     "data": {
      "text/plain": [
       "['BsmtQual',\n",
       " 'BsmtCond',\n",
       " 'BsmtExposure',\n",
       " 'BsmtFinType1',\n",
       " 'BsmtFinSF1',\n",
       " 'BsmtFinType2',\n",
       " 'BsmtFinSF2',\n",
       " 'BsmtUnfSF',\n",
       " 'TotalBsmtSF']"
      ]
     },
     "execution_count": 42,
     "metadata": {},
     "output_type": "execute_result"
    }
   ],
   "source": [
    "basement_columns_initial = [col for col in df4.columns if 'bsmt' in col.lower()]\n",
    "basement_columns_initial"
   ]
  },
  {
   "cell_type": "markdown",
   "id": "1353a455-c6d6-4beb-8d0b-ceb8db3c71e4",
   "metadata": {},
   "source": [
    "- I will give grades to Basement Quality, Basement Condition, Basement Exposure\n",
    "- I will combine Basement finTypes and SF into one feature having a grade\n",
    "- Then i will combine all 4 features into one feature Ovarall Basement Quality with a total grade\n",
    "- if the grade is zero - that means no basement/ but we need to check all the columns have synchronized no basement values or not\n",
    "- i will drop the remaining"
   ]
  },
  {
   "cell_type": "code",
   "execution_count": 43,
   "id": "b5601807-dc72-494b-973e-74b497c31f8f",
   "metadata": {
    "tags": []
   },
   "outputs": [],
   "source": [
    "# Define different mappings for each basement features\n",
    "bsmt_qual_mapping = {'Ex':5, 'Gd':4, 'TA':3, 'Fa':2, 'Po':1, 'No Basement': 0}\n",
    "bsmt_cond_mapping = {'Ex': 5, 'Gd': 4, 'TA': 3, 'Fa': 2, 'Po': 1, 'No Basement': 0}\n",
    "bsmt_exposure_mapping = {'Gd': 4, 'Av': 3, 'Mn': 2, 'No': 1, 'No Basement': 0}\n",
    "bsmt_fintype_mapping = {'GLQ': 6, 'ALQ': 5, 'BLQ': 4, 'Rec': 3, 'LwQ': 2, 'Unf': 1, 'No Basement': 0}\n"
   ]
  },
  {
   "cell_type": "code",
   "execution_count": 44,
   "id": "f32d367f-1b28-4976-9f39-724568f709d8",
   "metadata": {
    "tags": []
   },
   "outputs": [
    {
     "data": {
      "text/html": [
       "<div>\n",
       "<style scoped>\n",
       "    .dataframe tbody tr th:only-of-type {\n",
       "        vertical-align: middle;\n",
       "    }\n",
       "\n",
       "    .dataframe tbody tr th {\n",
       "        vertical-align: top;\n",
       "    }\n",
       "\n",
       "    .dataframe thead th {\n",
       "        text-align: right;\n",
       "    }\n",
       "</style>\n",
       "<table border=\"1\" class=\"dataframe\">\n",
       "  <thead>\n",
       "    <tr style=\"text-align: right;\">\n",
       "      <th></th>\n",
       "      <th>BsmtQual</th>\n",
       "      <th>BsmtFinType1</th>\n",
       "      <th>BsmtFinSF1</th>\n",
       "      <th>BsmtFinType2</th>\n",
       "      <th>BsmtFinSF2</th>\n",
       "      <th>BsmtUnfSF</th>\n",
       "      <th>TotalBsmtSF</th>\n",
       "    </tr>\n",
       "  </thead>\n",
       "  <tbody>\n",
       "    <tr>\n",
       "      <th>1300</th>\n",
       "      <td>Gd</td>\n",
       "      <td>GLQ</td>\n",
       "      <td>694</td>\n",
       "      <td>Unf</td>\n",
       "      <td>0</td>\n",
       "      <td>284</td>\n",
       "      <td>978</td>\n",
       "    </tr>\n",
       "    <tr>\n",
       "      <th>487</th>\n",
       "      <td>Gd</td>\n",
       "      <td>ALQ</td>\n",
       "      <td>998</td>\n",
       "      <td>Unf</td>\n",
       "      <td>0</td>\n",
       "      <td>486</td>\n",
       "      <td>1484</td>\n",
       "    </tr>\n",
       "    <tr>\n",
       "      <th>377</th>\n",
       "      <td>Gd</td>\n",
       "      <td>Unf</td>\n",
       "      <td>0</td>\n",
       "      <td>Unf</td>\n",
       "      <td>0</td>\n",
       "      <td>1580</td>\n",
       "      <td>1580</td>\n",
       "    </tr>\n",
       "    <tr>\n",
       "      <th>193</th>\n",
       "      <td>Gd</td>\n",
       "      <td>Unf</td>\n",
       "      <td>0</td>\n",
       "      <td>Unf</td>\n",
       "      <td>0</td>\n",
       "      <td>970</td>\n",
       "      <td>970</td>\n",
       "    </tr>\n",
       "    <tr>\n",
       "      <th>1280</th>\n",
       "      <td>Gd</td>\n",
       "      <td>GLQ</td>\n",
       "      <td>788</td>\n",
       "      <td>Unf</td>\n",
       "      <td>0</td>\n",
       "      <td>785</td>\n",
       "      <td>1573</td>\n",
       "    </tr>\n",
       "  </tbody>\n",
       "</table>\n",
       "</div>"
      ],
      "text/plain": [
       "     BsmtQual BsmtFinType1  BsmtFinSF1 BsmtFinType2  BsmtFinSF2  BsmtUnfSF  \\\n",
       "1300       Gd          GLQ         694          Unf           0        284   \n",
       "487        Gd          ALQ         998          Unf           0        486   \n",
       "377        Gd          Unf           0          Unf           0       1580   \n",
       "193        Gd          Unf           0          Unf           0        970   \n",
       "1280       Gd          GLQ         788          Unf           0        785   \n",
       "\n",
       "      TotalBsmtSF  \n",
       "1300          978  \n",
       "487          1484  \n",
       "377          1580  \n",
       "193           970  \n",
       "1280         1573  "
      ]
     },
     "execution_count": 44,
     "metadata": {},
     "output_type": "execute_result"
    }
   ],
   "source": [
    "# FIRST: lest check what our data looks like for fintype columns\n",
    "\n",
    "df4[['BsmtQual','BsmtFinType1', 'BsmtFinSF1', 'BsmtFinType2', 'BsmtFinSF2', 'BsmtUnfSF', 'TotalBsmtSF']].sample(5)"
   ]
  },
  {
   "cell_type": "markdown",
   "id": "d6eea251-a768-4c66-a4af-5c845473367c",
   "metadata": {},
   "source": [
    "it looks like BsmtFinSF1+BsmtFinSF2+BsmtUnfSF == TotalBsmtSF  \n",
    "if type1 and type2 has unf category, the sf writes in the BsmtUnfSF\t"
   ]
  },
  {
   "cell_type": "code",
   "execution_count": 45,
   "id": "c178ffd7-d5ad-4fbf-a401-065a1a4b93c0",
   "metadata": {
    "tags": []
   },
   "outputs": [
    {
     "data": {
      "text/plain": [
       "True    1460\n",
       "dtype: int64"
      ]
     },
     "execution_count": 45,
     "metadata": {},
     "output_type": "execute_result"
    }
   ],
   "source": [
    "# lets double check if we are right with our assumptions related to categories and sq footages calculations\n",
    "\n",
    "check_bsmt_sf = df4['TotalBsmtSF'] == (df4['BsmtFinSF1'] + df4['BsmtFinSF2'] + df4['BsmtUnfSF'])\n",
    "check_bsmt_sf.value_counts()\n",
    "\n",
    "# if all values come true, that means my hypotesis above is correct"
   ]
  },
  {
   "cell_type": "code",
   "execution_count": null,
   "id": "95c47610-2641-47e9-9cfb-4937e4c8b8df",
   "metadata": {},
   "outputs": [],
   "source": []
  },
  {
   "cell_type": "code",
   "execution_count": null,
   "id": "36727253-2528-42dc-bba3-ba564798f10e",
   "metadata": {},
   "outputs": [],
   "source": []
  },
  {
   "cell_type": "markdown",
   "id": "5ba15ed0-022e-44e4-ac3b-c22412e50e37",
   "metadata": {},
   "source": [
    "**I am thinking to make a combined Basement Finishing Type Feature.**  \n",
    "- Firstly, we will map the string categories into grades in BsmtFinType1 and BsmtFinType2\n",
    "- Secondly, We will normalize BsmtFinSF1, BsmtFinSF2, BsmtUnfSF because all totally makes TotalBsmtSF\n",
    "- Thirdly, SF1 * TYPE1_GRADE + SF2 * TYPE2_GRADE + SF3 * 1 (1 is the grade score of unf category)\n",
    "- Actually BsmtUnfSF column is a seperated value from other columns because the other two columns have unf categories as well\n",
    "-  For example, if BsmtFinType2 == Unf normally we are expecting BsmtFinSF2 have a float value. But in our dataset it comes 0.0 and the value is coming with a seperate column named BsmtUnfSF. So we assume that they are iconic "
   ]
  },
  {
   "cell_type": "code",
   "execution_count": 46,
   "id": "6caa02c1-2c0a-4e65-b0fa-46102f1b985f",
   "metadata": {
    "scrolled": true,
    "tags": []
   },
   "outputs": [],
   "source": [
    "# Convert the categorical str values into grade points by mapping function\n",
    "\n",
    "df4['BsmtFinType1'] = df4['BsmtFinType1'].map(bsmt_fintype_mapping)\n",
    "df4['BsmtFinType2'] = df4['BsmtFinType2'].map(bsmt_fintype_mapping)"
   ]
  },
  {
   "cell_type": "code",
   "execution_count": 47,
   "id": "573bcdc8-3594-4e9c-8aa4-e47a8fb97c97",
   "metadata": {
    "tags": []
   },
   "outputs": [],
   "source": [
    "df4['BsmtFinGrade'] = (df4['BsmtFinType1'] * df4.BsmtFinSF1 / df4.TotalBsmtSF) + \\\n",
    "                            (df4['BsmtFinType2'] * df4.BsmtFinSF2 / df4.TotalBsmtSF) + \\\n",
    "                            (df4['BsmtFinType1'] * df4.BsmtUnfSF / df4.TotalBsmtSF)"
   ]
  },
  {
   "cell_type": "code",
   "execution_count": 48,
   "id": "8f039c27-1c7d-4139-9cd0-05b113ecb6fc",
   "metadata": {
    "tags": []
   },
   "outputs": [],
   "source": [
    "# Because of zero division there will be Nan values where there are no basement, since TotalBsmtSf == 0\n",
    "\n",
    "df4['BsmtFinGrade'].fillna(0.0, inplace=True)"
   ]
  },
  {
   "cell_type": "markdown",
   "id": "a30a6ded-c663-4221-9f0b-9eec5a4bbf30",
   "metadata": {},
   "source": [
    "**Lets Also map and convert other basement related categorical columns**"
   ]
  },
  {
   "cell_type": "code",
   "execution_count": 49,
   "id": "4f10c635-7685-455c-8699-cb4a0e85a4e2",
   "metadata": {
    "tags": []
   },
   "outputs": [],
   "source": [
    "df4['BsmtQual'] = df4['BsmtQual'].map(bsmt_qual_mapping)\n",
    "df4['BsmtCond'] = df4['BsmtCond'].map(bsmt_cond_mapping)\n",
    "df4['BsmtExposure'] = df4['BsmtExposure'].map(bsmt_exposure_mapping)"
   ]
  },
  {
   "cell_type": "markdown",
   "id": "8cfbdf58-bea7-4339-821e-1a90c1005422",
   "metadata": {},
   "source": [
    "No we can combine all grades into one SINGLE grade point"
   ]
  },
  {
   "cell_type": "code",
   "execution_count": 50,
   "id": "fb024085-c25c-45cd-a901-30f4cbcecd0b",
   "metadata": {
    "tags": []
   },
   "outputs": [],
   "source": [
    "df4['BsmtOverallGrade'] = df4['BsmtQual'] + df4['BsmtCond'] + df4['BsmtExposure'] + df4['BsmtFinGrade']"
   ]
  },
  {
   "cell_type": "code",
   "execution_count": 51,
   "id": "77249b82-91e8-4b16-bb8a-ad6af5196c90",
   "metadata": {
    "tags": []
   },
   "outputs": [
    {
     "data": {
      "text/html": [
       "<div>\n",
       "<style scoped>\n",
       "    .dataframe tbody tr th:only-of-type {\n",
       "        vertical-align: middle;\n",
       "    }\n",
       "\n",
       "    .dataframe tbody tr th {\n",
       "        vertical-align: top;\n",
       "    }\n",
       "\n",
       "    .dataframe thead th {\n",
       "        text-align: right;\n",
       "    }\n",
       "</style>\n",
       "<table border=\"1\" class=\"dataframe\">\n",
       "  <thead>\n",
       "    <tr style=\"text-align: right;\">\n",
       "      <th></th>\n",
       "      <th>BsmtQual</th>\n",
       "      <th>BsmtCond</th>\n",
       "      <th>BsmtExposure</th>\n",
       "      <th>BsmtFinType1</th>\n",
       "      <th>BsmtFinSF1</th>\n",
       "      <th>BsmtFinType2</th>\n",
       "      <th>BsmtFinSF2</th>\n",
       "      <th>BsmtUnfSF</th>\n",
       "      <th>TotalBsmtSF</th>\n",
       "      <th>BsmtFinGrade</th>\n",
       "      <th>BsmtOverallGrade</th>\n",
       "    </tr>\n",
       "  </thead>\n",
       "  <tbody>\n",
       "    <tr>\n",
       "      <th>1218</th>\n",
       "      <td>0</td>\n",
       "      <td>0</td>\n",
       "      <td>0</td>\n",
       "      <td>0</td>\n",
       "      <td>0</td>\n",
       "      <td>0</td>\n",
       "      <td>0</td>\n",
       "      <td>0</td>\n",
       "      <td>0</td>\n",
       "      <td>0.0</td>\n",
       "      <td>0.0</td>\n",
       "    </tr>\n",
       "    <tr>\n",
       "      <th>902</th>\n",
       "      <td>4</td>\n",
       "      <td>3</td>\n",
       "      <td>1</td>\n",
       "      <td>1</td>\n",
       "      <td>0</td>\n",
       "      <td>1</td>\n",
       "      <td>0</td>\n",
       "      <td>783</td>\n",
       "      <td>783</td>\n",
       "      <td>1.0</td>\n",
       "      <td>9.0</td>\n",
       "    </tr>\n",
       "    <tr>\n",
       "      <th>152</th>\n",
       "      <td>3</td>\n",
       "      <td>3</td>\n",
       "      <td>1</td>\n",
       "      <td>3</td>\n",
       "      <td>416</td>\n",
       "      <td>1</td>\n",
       "      <td>0</td>\n",
       "      <td>409</td>\n",
       "      <td>825</td>\n",
       "      <td>3.0</td>\n",
       "      <td>10.0</td>\n",
       "    </tr>\n",
       "    <tr>\n",
       "      <th>830</th>\n",
       "      <td>3</td>\n",
       "      <td>3</td>\n",
       "      <td>1</td>\n",
       "      <td>3</td>\n",
       "      <td>1040</td>\n",
       "      <td>1</td>\n",
       "      <td>0</td>\n",
       "      <td>352</td>\n",
       "      <td>1392</td>\n",
       "      <td>3.0</td>\n",
       "      <td>10.0</td>\n",
       "    </tr>\n",
       "    <tr>\n",
       "      <th>655</th>\n",
       "      <td>3</td>\n",
       "      <td>3</td>\n",
       "      <td>1</td>\n",
       "      <td>1</td>\n",
       "      <td>0</td>\n",
       "      <td>1</td>\n",
       "      <td>0</td>\n",
       "      <td>525</td>\n",
       "      <td>525</td>\n",
       "      <td>1.0</td>\n",
       "      <td>8.0</td>\n",
       "    </tr>\n",
       "  </tbody>\n",
       "</table>\n",
       "</div>"
      ],
      "text/plain": [
       "      BsmtQual  BsmtCond  BsmtExposure  BsmtFinType1  BsmtFinSF1  \\\n",
       "1218         0         0             0             0           0   \n",
       "902          4         3             1             1           0   \n",
       "152          3         3             1             3         416   \n",
       "830          3         3             1             3        1040   \n",
       "655          3         3             1             1           0   \n",
       "\n",
       "      BsmtFinType2  BsmtFinSF2  BsmtUnfSF  TotalBsmtSF  BsmtFinGrade  \\\n",
       "1218             0           0          0            0           0.0   \n",
       "902              1           0        783          783           1.0   \n",
       "152              1           0        409          825           3.0   \n",
       "830              1           0        352         1392           3.0   \n",
       "655              1           0        525          525           1.0   \n",
       "\n",
       "      BsmtOverallGrade  \n",
       "1218               0.0  \n",
       "902                9.0  \n",
       "152               10.0  \n",
       "830               10.0  \n",
       "655                8.0  "
      ]
     },
     "execution_count": 51,
     "metadata": {},
     "output_type": "execute_result"
    }
   ],
   "source": [
    "# Lets check what we have made so far\n",
    "df4[df4.columns[df4.columns.str.contains('Bsmt')]].sample(5)"
   ]
  },
  {
   "cell_type": "markdown",
   "id": "85c6a317-6273-4315-bcf9-c63c7474bf16",
   "metadata": {},
   "source": [
    "**Lets drop all unnecessary columns**"
   ]
  },
  {
   "cell_type": "code",
   "execution_count": 52,
   "id": "9f559ac6-bb5b-4be6-a56d-77bbe287e279",
   "metadata": {
    "tags": []
   },
   "outputs": [],
   "source": [
    "df4.drop(columns = ['BsmtQual', 'BsmtCond', 'BsmtExposure', 'BsmtFinType1', 'BsmtFinSF1','BsmtFinType2',\n",
    "                          'BsmtFinSF2','BsmtUnfSF','BsmtFinGrade'], inplace=True)"
   ]
  },
  {
   "cell_type": "code",
   "execution_count": 53,
   "id": "5101a59a-e665-44dd-9c2b-e8117f312cda",
   "metadata": {
    "tags": []
   },
   "outputs": [],
   "source": [
    "# We can NOW also drop TotalBsmtSF because this value is already in the Total Sqf feature\n",
    "df5 = df4.drop(columns = ['TotalBsmtSF'])"
   ]
  },
  {
   "cell_type": "code",
   "execution_count": 54,
   "id": "06e68c0d-32d0-48fc-a14e-02c6d7173372",
   "metadata": {
    "tags": []
   },
   "outputs": [
    {
     "data": {
      "text/html": [
       "<div>\n",
       "<style scoped>\n",
       "    .dataframe tbody tr th:only-of-type {\n",
       "        vertical-align: middle;\n",
       "    }\n",
       "\n",
       "    .dataframe tbody tr th {\n",
       "        vertical-align: top;\n",
       "    }\n",
       "\n",
       "    .dataframe thead th {\n",
       "        text-align: right;\n",
       "    }\n",
       "</style>\n",
       "<table border=\"1\" class=\"dataframe\">\n",
       "  <thead>\n",
       "    <tr style=\"text-align: right;\">\n",
       "      <th></th>\n",
       "      <th>count</th>\n",
       "      <th>mean</th>\n",
       "      <th>std</th>\n",
       "      <th>min</th>\n",
       "      <th>25%</th>\n",
       "      <th>50%</th>\n",
       "      <th>75%</th>\n",
       "      <th>max</th>\n",
       "    </tr>\n",
       "  </thead>\n",
       "  <tbody>\n",
       "    <tr>\n",
       "      <th>BsmtOverallGrade</th>\n",
       "      <td>1460.0</td>\n",
       "      <td>11.597716</td>\n",
       "      <td>3.460196</td>\n",
       "      <td>0.0</td>\n",
       "      <td>9.0</td>\n",
       "      <td>11.561128</td>\n",
       "      <td>14.0</td>\n",
       "      <td>19.0</td>\n",
       "    </tr>\n",
       "  </tbody>\n",
       "</table>\n",
       "</div>"
      ],
      "text/plain": [
       "                   count       mean       std  min  25%        50%   75%   max\n",
       "BsmtOverallGrade  1460.0  11.597716  3.460196  0.0  9.0  11.561128  14.0  19.0"
      ]
     },
     "execution_count": 54,
     "metadata": {},
     "output_type": "execute_result"
    }
   ],
   "source": [
    "# here is the remaining Basement column\n",
    "df5[df5.columns[df5.columns.str.contains('Bsmt')]].describe().T"
   ]
  },
  {
   "cell_type": "code",
   "execution_count": 55,
   "id": "27ca9b5e-03e7-4fa7-97db-ed38f3674684",
   "metadata": {},
   "outputs": [
    {
     "data": {
      "text/plain": [
       "(1460, 63)"
      ]
     },
     "execution_count": 55,
     "metadata": {},
     "output_type": "execute_result"
    }
   ],
   "source": [
    "df5.shape"
   ]
  },
  {
   "cell_type": "code",
   "execution_count": null,
   "id": "d541c3db-0db1-4968-87a7-21813e6557c5",
   "metadata": {},
   "outputs": [],
   "source": []
  },
  {
   "cell_type": "markdown",
   "id": "941c0d27-144b-4baa-90b1-6c036cd70007",
   "metadata": {},
   "source": [
    "### Visualize the distributions"
   ]
  },
  {
   "cell_type": "code",
   "execution_count": 56,
   "id": "964aaef3-c7af-4dbb-a504-5bf6eef81e8a",
   "metadata": {
    "tags": []
   },
   "outputs": [
    {
     "data": {
      "image/png": "[encoded data removed]",
      "text/plain": [
       "<Figure size 640x480 with 1 Axes>"
      ]
     },
     "metadata": {},
     "output_type": "display_data"
    }
   ],
   "source": [
    "sns.histplot(df5.SalePrice, bins=50)\n",
    "plt.title('Distribution of Sales Prices')\n",
    "plt.xticks(list(range(100_000, 900_000, 100_000)), ['100K', '200K','300K','400K','500K','600K','700K','800K'])\n",
    "plt.xlabel('SalePrice in USD')\n",
    "plt.ylabel('Number of Property Sales')\n",
    "plt.show()"
   ]
  },
  {
   "cell_type": "markdown",
   "id": "343d410b-da23-4be3-a8d4-96dfa8116a0e",
   "metadata": {},
   "source": [
    "__Distribution of all other Numeric variables__"
   ]
  },
  {
   "cell_type": "code",
   "execution_count": 57,
   "id": "d3c8249c-8381-4230-a950-b44191c79e4e",
   "metadata": {
    "tags": []
   },
   "outputs": [],
   "source": [
    "#df5.select_dtypes(include='number').hist(figsize=(16, 20), bins=50, xlabelsize=8, ylabelsize=8);"
   ]
  },
  {
   "cell_type": "markdown",
   "id": "e9ce7ef1-325f-48ce-b82f-53fa9274d944",
   "metadata": {
    "tags": []
   },
   "source": [
    "__Visualize distributions of Categorical VAriables__"
   ]
  },
  {
   "cell_type": "code",
   "execution_count": 58,
   "id": "d6058f27-7361-4e3e-97c2-7a070a0ce9ea",
   "metadata": {
    "tags": []
   },
   "outputs": [],
   "source": [
    "# object_columns = df5.select_dtypes(include='object').columns\n",
    "# n_rows = (len(object_columns) + 1) // 4\n",
    "# n_cols = 4\n",
    "\n",
    "# # Create subplots\n",
    "# fig, axes = plt.subplots(n_rows, n_cols, figsize=(16, 2 * n_rows))\n",
    "\n",
    "# # Flatten the axes if there's only one row\n",
    "# if n_rows == 1:\n",
    "#     axes = axes.reshape(1, -1)\n",
    "\n",
    "# # Loop through each object column and create countplots\n",
    "# for i, col in enumerate(object_columns):\n",
    "#     sns.countplot(x=col, data=df, ax=axes[i//n_cols, i%n_cols])\n",
    "\n",
    "# # Adjust layout\n",
    "# plt.tight_layout()\n",
    "\n",
    "# # Show the plots\n",
    "# plt.show()"
   ]
  },
  {
   "cell_type": "code",
   "execution_count": null,
   "id": "05af07d6-f6ed-4ecd-9eca-43f6e3658dff",
   "metadata": {},
   "outputs": [],
   "source": []
  },
  {
   "cell_type": "markdown",
   "id": "cb57905e-5478-4a07-9d07-aa156f83bc85",
   "metadata": {
    "execution": {
     "iopub.execute_input": "2023-10-08T23:06:10.771223Z",
     "iopub.status.busy": "2023-10-08T23:06:10.771223Z",
     "iopub.status.idle": "2023-10-08T23:06:10.778503Z",
     "shell.execute_reply": "2023-10-08T23:06:10.777499Z",
     "shell.execute_reply.started": "2023-10-08T23:06:10.771223Z"
    }
   },
   "source": [
    "### High and Low Cardinality"
   ]
  },
  {
   "cell_type": "markdown",
   "id": "d4a4dd9a-773d-41fa-a0a8-9f2cd509b730",
   "metadata": {},
   "source": [
    "**High Cardinality:** High cardinality features (features with a large number of unique values) can sometimes introduce noise into the model. Dropping or encoding them appropriately can be a good strategy."
   ]
  },
  {
   "cell_type": "markdown",
   "id": "e8250dfa-4d43-4f6e-93ed-2d9c438db203",
   "metadata": {},
   "source": [
    "**Low Cardinality:** Low cardinality features with little variation may not contribute much information. We can Consider dropping or consolidating them."
   ]
  },
  {
   "cell_type": "code",
   "execution_count": 59,
   "id": "901580ea-7aaf-49f0-9451-db4355a3227e",
   "metadata": {
    "scrolled": true,
    "tags": []
   },
   "outputs": [
    {
     "data": {
      "text/plain": [
       "Id            1460\n",
       "LotArea       1073\n",
       "Total_Area     963\n",
       "GrLivArea      861\n",
       "SalePrice      663\n",
       "              ... \n",
       "Utilities        2\n",
       "HasGarage        2\n",
       "HasPool          2\n",
       "CentralAir       2\n",
       "Street           2\n",
       "Length: 63, dtype: int64"
      ]
     },
     "execution_count": 59,
     "metadata": {},
     "output_type": "execute_result"
    }
   ],
   "source": [
    "df5.nunique().sort_values(ascending=False)"
   ]
  },
  {
   "cell_type": "markdown",
   "id": "1dd38cf0-4082-4df0-b3db-c33561e51218",
   "metadata": {},
   "source": [
    "**Firstly**, we need to drop ID column, because it has unique values and results in high cardinality  "
   ]
  },
  {
   "cell_type": "code",
   "execution_count": 60,
   "id": "1d80b0b8-e8f3-4a68-a326-8d9b3c699aa7",
   "metadata": {
    "tags": []
   },
   "outputs": [],
   "source": [
    "df5.drop(columns=['Id'], inplace=True)"
   ]
  },
  {
   "cell_type": "markdown",
   "id": "fafd3010-4844-4d93-8aaf-fa67072beafc",
   "metadata": {},
   "source": [
    "Lets observe more on categorical features"
   ]
  },
  {
   "cell_type": "code",
   "execution_count": 61,
   "id": "1812fe7d-1da8-4978-bfff-5fa34f8b5f51",
   "metadata": {
    "scrolled": true,
    "tags": []
   },
   "outputs": [
    {
     "data": {
      "text/html": [
       "<div>\n",
       "<style scoped>\n",
       "    .dataframe tbody tr th:only-of-type {\n",
       "        vertical-align: middle;\n",
       "    }\n",
       "\n",
       "    .dataframe tbody tr th {\n",
       "        vertical-align: top;\n",
       "    }\n",
       "\n",
       "    .dataframe thead th {\n",
       "        text-align: right;\n",
       "    }\n",
       "</style>\n",
       "<table border=\"1\" class=\"dataframe\">\n",
       "  <thead>\n",
       "    <tr style=\"text-align: right;\">\n",
       "      <th></th>\n",
       "      <th>count</th>\n",
       "      <th>unique</th>\n",
       "      <th>top</th>\n",
       "      <th>freq</th>\n",
       "    </tr>\n",
       "  </thead>\n",
       "  <tbody>\n",
       "    <tr>\n",
       "      <th>MSZoning</th>\n",
       "      <td>1460</td>\n",
       "      <td>5</td>\n",
       "      <td>RL</td>\n",
       "      <td>1151</td>\n",
       "    </tr>\n",
       "    <tr>\n",
       "      <th>Street</th>\n",
       "      <td>1460</td>\n",
       "      <td>2</td>\n",
       "      <td>Pave</td>\n",
       "      <td>1454</td>\n",
       "    </tr>\n",
       "    <tr>\n",
       "      <th>Alley</th>\n",
       "      <td>1460</td>\n",
       "      <td>3</td>\n",
       "      <td>No Alley Access</td>\n",
       "      <td>1369</td>\n",
       "    </tr>\n",
       "    <tr>\n",
       "      <th>LotShape</th>\n",
       "      <td>1460</td>\n",
       "      <td>4</td>\n",
       "      <td>Reg</td>\n",
       "      <td>925</td>\n",
       "    </tr>\n",
       "    <tr>\n",
       "      <th>LandContour</th>\n",
       "      <td>1460</td>\n",
       "      <td>4</td>\n",
       "      <td>Lvl</td>\n",
       "      <td>1311</td>\n",
       "    </tr>\n",
       "    <tr>\n",
       "      <th>Utilities</th>\n",
       "      <td>1460</td>\n",
       "      <td>2</td>\n",
       "      <td>AllPub</td>\n",
       "      <td>1459</td>\n",
       "    </tr>\n",
       "    <tr>\n",
       "      <th>LotConfig</th>\n",
       "      <td>1460</td>\n",
       "      <td>5</td>\n",
       "      <td>Inside</td>\n",
       "      <td>1052</td>\n",
       "    </tr>\n",
       "    <tr>\n",
       "      <th>LandSlope</th>\n",
       "      <td>1460</td>\n",
       "      <td>3</td>\n",
       "      <td>Gtl</td>\n",
       "      <td>1382</td>\n",
       "    </tr>\n",
       "    <tr>\n",
       "      <th>Condition1</th>\n",
       "      <td>1460</td>\n",
       "      <td>9</td>\n",
       "      <td>Norm</td>\n",
       "      <td>1260</td>\n",
       "    </tr>\n",
       "    <tr>\n",
       "      <th>Condition2</th>\n",
       "      <td>1460</td>\n",
       "      <td>8</td>\n",
       "      <td>Norm</td>\n",
       "      <td>1445</td>\n",
       "    </tr>\n",
       "    <tr>\n",
       "      <th>BldgType</th>\n",
       "      <td>1460</td>\n",
       "      <td>5</td>\n",
       "      <td>1Fam</td>\n",
       "      <td>1220</td>\n",
       "    </tr>\n",
       "    <tr>\n",
       "      <th>HouseStyle</th>\n",
       "      <td>1460</td>\n",
       "      <td>8</td>\n",
       "      <td>1Story</td>\n",
       "      <td>726</td>\n",
       "    </tr>\n",
       "    <tr>\n",
       "      <th>RoofStyle</th>\n",
       "      <td>1460</td>\n",
       "      <td>6</td>\n",
       "      <td>Gable</td>\n",
       "      <td>1141</td>\n",
       "    </tr>\n",
       "    <tr>\n",
       "      <th>RoofMatl</th>\n",
       "      <td>1460</td>\n",
       "      <td>8</td>\n",
       "      <td>CompShg</td>\n",
       "      <td>1434</td>\n",
       "    </tr>\n",
       "    <tr>\n",
       "      <th>Exterior1st</th>\n",
       "      <td>1460</td>\n",
       "      <td>15</td>\n",
       "      <td>VinylSd</td>\n",
       "      <td>515</td>\n",
       "    </tr>\n",
       "    <tr>\n",
       "      <th>Exterior2nd</th>\n",
       "      <td>1460</td>\n",
       "      <td>16</td>\n",
       "      <td>VinylSd</td>\n",
       "      <td>504</td>\n",
       "    </tr>\n",
       "    <tr>\n",
       "      <th>MasVnrType</th>\n",
       "      <td>1460</td>\n",
       "      <td>5</td>\n",
       "      <td>None</td>\n",
       "      <td>864</td>\n",
       "    </tr>\n",
       "    <tr>\n",
       "      <th>ExterQual</th>\n",
       "      <td>1460</td>\n",
       "      <td>4</td>\n",
       "      <td>TA</td>\n",
       "      <td>906</td>\n",
       "    </tr>\n",
       "    <tr>\n",
       "      <th>ExterCond</th>\n",
       "      <td>1460</td>\n",
       "      <td>5</td>\n",
       "      <td>TA</td>\n",
       "      <td>1282</td>\n",
       "    </tr>\n",
       "    <tr>\n",
       "      <th>Foundation</th>\n",
       "      <td>1460</td>\n",
       "      <td>6</td>\n",
       "      <td>PConc</td>\n",
       "      <td>647</td>\n",
       "    </tr>\n",
       "    <tr>\n",
       "      <th>Heating</th>\n",
       "      <td>1460</td>\n",
       "      <td>6</td>\n",
       "      <td>GasA</td>\n",
       "      <td>1428</td>\n",
       "    </tr>\n",
       "    <tr>\n",
       "      <th>HeatingQC</th>\n",
       "      <td>1460</td>\n",
       "      <td>5</td>\n",
       "      <td>Ex</td>\n",
       "      <td>741</td>\n",
       "    </tr>\n",
       "    <tr>\n",
       "      <th>CentralAir</th>\n",
       "      <td>1460</td>\n",
       "      <td>2</td>\n",
       "      <td>Y</td>\n",
       "      <td>1365</td>\n",
       "    </tr>\n",
       "    <tr>\n",
       "      <th>Electrical</th>\n",
       "      <td>1460</td>\n",
       "      <td>6</td>\n",
       "      <td>SBrkr</td>\n",
       "      <td>1334</td>\n",
       "    </tr>\n",
       "    <tr>\n",
       "      <th>KitchenQual</th>\n",
       "      <td>1460</td>\n",
       "      <td>4</td>\n",
       "      <td>TA</td>\n",
       "      <td>735</td>\n",
       "    </tr>\n",
       "    <tr>\n",
       "      <th>Functional</th>\n",
       "      <td>1460</td>\n",
       "      <td>7</td>\n",
       "      <td>Typ</td>\n",
       "      <td>1360</td>\n",
       "    </tr>\n",
       "    <tr>\n",
       "      <th>FireplaceQu</th>\n",
       "      <td>1460</td>\n",
       "      <td>6</td>\n",
       "      <td>No FirePlace</td>\n",
       "      <td>690</td>\n",
       "    </tr>\n",
       "    <tr>\n",
       "      <th>PavedDrive</th>\n",
       "      <td>1460</td>\n",
       "      <td>3</td>\n",
       "      <td>Y</td>\n",
       "      <td>1340</td>\n",
       "    </tr>\n",
       "    <tr>\n",
       "      <th>Fence</th>\n",
       "      <td>1460</td>\n",
       "      <td>5</td>\n",
       "      <td>No Fence</td>\n",
       "      <td>1179</td>\n",
       "    </tr>\n",
       "    <tr>\n",
       "      <th>MiscFeature</th>\n",
       "      <td>1460</td>\n",
       "      <td>5</td>\n",
       "      <td>No MiscFeatures</td>\n",
       "      <td>1406</td>\n",
       "    </tr>\n",
       "    <tr>\n",
       "      <th>SaleType</th>\n",
       "      <td>1460</td>\n",
       "      <td>9</td>\n",
       "      <td>WD</td>\n",
       "      <td>1267</td>\n",
       "    </tr>\n",
       "    <tr>\n",
       "      <th>SaleCondition</th>\n",
       "      <td>1460</td>\n",
       "      <td>6</td>\n",
       "      <td>Normal</td>\n",
       "      <td>1198</td>\n",
       "    </tr>\n",
       "  </tbody>\n",
       "</table>\n",
       "</div>"
      ],
      "text/plain": [
       "              count unique              top  freq\n",
       "MSZoning       1460      5               RL  1151\n",
       "Street         1460      2             Pave  1454\n",
       "Alley          1460      3  No Alley Access  1369\n",
       "LotShape       1460      4              Reg   925\n",
       "LandContour    1460      4              Lvl  1311\n",
       "Utilities      1460      2           AllPub  1459\n",
       "LotConfig      1460      5           Inside  1052\n",
       "LandSlope      1460      3              Gtl  1382\n",
       "Condition1     1460      9             Norm  1260\n",
       "Condition2     1460      8             Norm  1445\n",
       "BldgType       1460      5             1Fam  1220\n",
       "HouseStyle     1460      8           1Story   726\n",
       "RoofStyle      1460      6            Gable  1141\n",
       "RoofMatl       1460      8          CompShg  1434\n",
       "Exterior1st    1460     15          VinylSd   515\n",
       "Exterior2nd    1460     16          VinylSd   504\n",
       "MasVnrType     1460      5             None   864\n",
       "ExterQual      1460      4               TA   906\n",
       "ExterCond      1460      5               TA  1282\n",
       "Foundation     1460      6            PConc   647\n",
       "Heating        1460      6             GasA  1428\n",
       "HeatingQC      1460      5               Ex   741\n",
       "CentralAir     1460      2                Y  1365\n",
       "Electrical     1460      6            SBrkr  1334\n",
       "KitchenQual    1460      4               TA   735\n",
       "Functional     1460      7              Typ  1360\n",
       "FireplaceQu    1460      6     No FirePlace   690\n",
       "PavedDrive     1460      3                Y  1340\n",
       "Fence          1460      5         No Fence  1179\n",
       "MiscFeature    1460      5  No MiscFeatures  1406\n",
       "SaleType       1460      9               WD  1267\n",
       "SaleCondition  1460      6           Normal  1198"
      ]
     },
     "execution_count": 61,
     "metadata": {},
     "output_type": "execute_result"
    }
   ],
   "source": [
    "df5.describe(include='object').T"
   ]
  },
  {
   "cell_type": "markdown",
   "id": "c2482924-d366-4ecd-b127-a56f5cbe3230",
   "metadata": {},
   "source": [
    "**Secondly,** 'Street', 'Utilities', 'Condition2', 'RoofMatl', 'Heating', 'MiscFeature' columns has too low variations and resulting **Low Cardinalty**  \n",
    "Therefore i consider to drop them"
   ]
  },
  {
   "cell_type": "code",
   "execution_count": 62,
   "id": "215b8ea5-e388-4741-bd85-9b853602df95",
   "metadata": {
    "tags": []
   },
   "outputs": [],
   "source": [
    "df6 = df5.drop(columns = ['Street', 'Utilities', 'Condition2', 'RoofMatl', 'Heating', 'MiscFeature'])"
   ]
  },
  {
   "cell_type": "code",
   "execution_count": 63,
   "id": "fbc777d9-c812-422d-a1af-66824948ea45",
   "metadata": {},
   "outputs": [
    {
     "data": {
      "text/plain": [
       "(1460, 56)"
      ]
     },
     "execution_count": 63,
     "metadata": {},
     "output_type": "execute_result"
    }
   ],
   "source": [
    "df6.shape"
   ]
  },
  {
   "cell_type": "markdown",
   "id": "722134e8-8a20-4744-83c4-585e296842aa",
   "metadata": {
    "tags": []
   },
   "source": [
    "### Multicollinearity"
   ]
  },
  {
   "cell_type": "markdown",
   "id": "9c21c2a0-caba-4a9c-9e49-8a4c3c49979e",
   "metadata": {},
   "source": [
    "**Identifying Correlated Features:** Identifying and addressing multicollinearity is crucial for regression models. Dropping one of a set of highly correlated features is a good strategy. It helps to keep the model more interpretable and efficient.  \n",
    "**VIF (Variance Inflation Factor)**: If you want a more quantitative approach to assess multicollinearity, you can use VIF. A high VIF score indicates a high correlation between a feature and other features in the dataset."
   ]
  },
  {
   "cell_type": "markdown",
   "id": "b1430528-c3de-460a-aca7-531223abca38",
   "metadata": {},
   "source": [
    "Before diving into mathematical calculations, we can check any variables with our domain knowledge\n"
   ]
  },
  {
   "cell_type": "markdown",
   "id": "d20697ac-4a48-4fd9-8db4-0c320a39af7c",
   "metadata": {},
   "source": [
    "'GrLivArea', 'TotRmsAbvGrd', 'Total_Area' are strongly correlated each other. I need to find a balance between dropping and holding  \n",
    "I think Room Number is important along with Total Area  \n",
    "So i can drop Living Area Above the Ground"
   ]
  },
  {
   "cell_type": "code",
   "execution_count": 64,
   "id": "bd777192-9ec4-4783-bfa9-2756507b347d",
   "metadata": {
    "tags": []
   },
   "outputs": [],
   "source": [
    "df6.drop(columns=['GrLivArea'], inplace=True)"
   ]
  },
  {
   "cell_type": "markdown",
   "id": "2255de71-54ff-44c3-88a8-fcaae5068aa9",
   "metadata": {},
   "source": [
    "#### Numeric Features: Correlation Matrix"
   ]
  },
  {
   "cell_type": "code",
   "execution_count": 65,
   "id": "879b597c-009e-4283-83e0-123a0cdc77fe",
   "metadata": {
    "tags": []
   },
   "outputs": [
    {
     "data": {
      "text/html": [
       "<div>\n",
       "<style scoped>\n",
       "    .dataframe tbody tr th:only-of-type {\n",
       "        vertical-align: middle;\n",
       "    }\n",
       "\n",
       "    .dataframe tbody tr th {\n",
       "        vertical-align: top;\n",
       "    }\n",
       "\n",
       "    .dataframe thead th {\n",
       "        text-align: right;\n",
       "    }\n",
       "</style>\n",
       "<table border=\"1\" class=\"dataframe\">\n",
       "  <thead>\n",
       "    <tr style=\"text-align: right;\">\n",
       "      <th></th>\n",
       "      <th>OverallQual</th>\n",
       "      <th>SalePrice</th>\n",
       "      <th>Total_Area</th>\n",
       "      <th>MedianHousePrice</th>\n",
       "    </tr>\n",
       "  </thead>\n",
       "  <tbody>\n",
       "    <tr>\n",
       "      <th>OverallQual</th>\n",
       "      <td>NaN</td>\n",
       "      <td>0.790982</td>\n",
       "      <td>NaN</td>\n",
       "      <td>NaN</td>\n",
       "    </tr>\n",
       "    <tr>\n",
       "      <th>SalePrice</th>\n",
       "      <td>0.790982</td>\n",
       "      <td>NaN</td>\n",
       "      <td>0.78226</td>\n",
       "      <td>0.733515</td>\n",
       "    </tr>\n",
       "    <tr>\n",
       "      <th>Total_Area</th>\n",
       "      <td>NaN</td>\n",
       "      <td>0.782260</td>\n",
       "      <td>NaN</td>\n",
       "      <td>NaN</td>\n",
       "    </tr>\n",
       "    <tr>\n",
       "      <th>MedianHousePrice</th>\n",
       "      <td>NaN</td>\n",
       "      <td>0.733515</td>\n",
       "      <td>NaN</td>\n",
       "      <td>NaN</td>\n",
       "    </tr>\n",
       "  </tbody>\n",
       "</table>\n",
       "</div>"
      ],
      "text/plain": [
       "                  OverallQual  SalePrice  Total_Area  MedianHousePrice\n",
       "OverallQual               NaN   0.790982         NaN               NaN\n",
       "SalePrice            0.790982        NaN     0.78226          0.733515\n",
       "Total_Area                NaN   0.782260         NaN               NaN\n",
       "MedianHousePrice          NaN   0.733515         NaN               NaN"
      ]
     },
     "execution_count": 65,
     "metadata": {},
     "output_type": "execute_result"
    }
   ],
   "source": [
    "corr_matrix = df6.corr()[(df6.corr().abs() > 0.7) & (df6.corr().abs() != 1)]\n",
    "\n",
    "# Drop rows and columns with all NaN values\n",
    "corr_matrix = corr_matrix.dropna(axis=1, how='all').dropna(axis=0, how='all')\n",
    "corr_matrix"
   ]
  },
  {
   "cell_type": "markdown",
   "id": "716fc5b5-7bd4-42a0-adc8-ab0ed9296ec3",
   "metadata": {},
   "source": [
    "I didnt see any issues here"
   ]
  },
  {
   "cell_type": "markdown",
   "id": "0a42a6c4-7f89-41bd-b504-a92bff3e276f",
   "metadata": {},
   "source": [
    "#### Categorical Features: Cramer's V"
   ]
  },
  {
   "cell_type": "code",
   "execution_count": 66,
   "id": "a1f5f479-a882-418d-8a28-0c86a052dc25",
   "metadata": {
    "scrolled": true,
    "tags": []
   },
   "outputs": [
    {
     "data": {
      "text/html": [
       "<div>\n",
       "<style scoped>\n",
       "    .dataframe tbody tr th:only-of-type {\n",
       "        vertical-align: middle;\n",
       "    }\n",
       "\n",
       "    .dataframe tbody tr th {\n",
       "        vertical-align: top;\n",
       "    }\n",
       "\n",
       "    .dataframe thead th {\n",
       "        text-align: right;\n",
       "    }\n",
       "</style>\n",
       "<table border=\"1\" class=\"dataframe\">\n",
       "  <thead>\n",
       "    <tr style=\"text-align: right;\">\n",
       "      <th></th>\n",
       "      <th>count</th>\n",
       "      <th>unique</th>\n",
       "      <th>top</th>\n",
       "      <th>freq</th>\n",
       "    </tr>\n",
       "  </thead>\n",
       "  <tbody>\n",
       "    <tr>\n",
       "      <th>MSZoning</th>\n",
       "      <td>1460</td>\n",
       "      <td>5</td>\n",
       "      <td>RL</td>\n",
       "      <td>1151</td>\n",
       "    </tr>\n",
       "    <tr>\n",
       "      <th>Alley</th>\n",
       "      <td>1460</td>\n",
       "      <td>3</td>\n",
       "      <td>No Alley Access</td>\n",
       "      <td>1369</td>\n",
       "    </tr>\n",
       "    <tr>\n",
       "      <th>LotShape</th>\n",
       "      <td>1460</td>\n",
       "      <td>4</td>\n",
       "      <td>Reg</td>\n",
       "      <td>925</td>\n",
       "    </tr>\n",
       "    <tr>\n",
       "      <th>LandContour</th>\n",
       "      <td>1460</td>\n",
       "      <td>4</td>\n",
       "      <td>Lvl</td>\n",
       "      <td>1311</td>\n",
       "    </tr>\n",
       "    <tr>\n",
       "      <th>LotConfig</th>\n",
       "      <td>1460</td>\n",
       "      <td>5</td>\n",
       "      <td>Inside</td>\n",
       "      <td>1052</td>\n",
       "    </tr>\n",
       "    <tr>\n",
       "      <th>LandSlope</th>\n",
       "      <td>1460</td>\n",
       "      <td>3</td>\n",
       "      <td>Gtl</td>\n",
       "      <td>1382</td>\n",
       "    </tr>\n",
       "    <tr>\n",
       "      <th>Condition1</th>\n",
       "      <td>1460</td>\n",
       "      <td>9</td>\n",
       "      <td>Norm</td>\n",
       "      <td>1260</td>\n",
       "    </tr>\n",
       "    <tr>\n",
       "      <th>BldgType</th>\n",
       "      <td>1460</td>\n",
       "      <td>5</td>\n",
       "      <td>1Fam</td>\n",
       "      <td>1220</td>\n",
       "    </tr>\n",
       "    <tr>\n",
       "      <th>HouseStyle</th>\n",
       "      <td>1460</td>\n",
       "      <td>8</td>\n",
       "      <td>1Story</td>\n",
       "      <td>726</td>\n",
       "    </tr>\n",
       "    <tr>\n",
       "      <th>RoofStyle</th>\n",
       "      <td>1460</td>\n",
       "      <td>6</td>\n",
       "      <td>Gable</td>\n",
       "      <td>1141</td>\n",
       "    </tr>\n",
       "    <tr>\n",
       "      <th>Exterior1st</th>\n",
       "      <td>1460</td>\n",
       "      <td>15</td>\n",
       "      <td>VinylSd</td>\n",
       "      <td>515</td>\n",
       "    </tr>\n",
       "    <tr>\n",
       "      <th>Exterior2nd</th>\n",
       "      <td>1460</td>\n",
       "      <td>16</td>\n",
       "      <td>VinylSd</td>\n",
       "      <td>504</td>\n",
       "    </tr>\n",
       "    <tr>\n",
       "      <th>MasVnrType</th>\n",
       "      <td>1460</td>\n",
       "      <td>5</td>\n",
       "      <td>None</td>\n",
       "      <td>864</td>\n",
       "    </tr>\n",
       "    <tr>\n",
       "      <th>ExterQual</th>\n",
       "      <td>1460</td>\n",
       "      <td>4</td>\n",
       "      <td>TA</td>\n",
       "      <td>906</td>\n",
       "    </tr>\n",
       "    <tr>\n",
       "      <th>ExterCond</th>\n",
       "      <td>1460</td>\n",
       "      <td>5</td>\n",
       "      <td>TA</td>\n",
       "      <td>1282</td>\n",
       "    </tr>\n",
       "    <tr>\n",
       "      <th>Foundation</th>\n",
       "      <td>1460</td>\n",
       "      <td>6</td>\n",
       "      <td>PConc</td>\n",
       "      <td>647</td>\n",
       "    </tr>\n",
       "    <tr>\n",
       "      <th>HeatingQC</th>\n",
       "      <td>1460</td>\n",
       "      <td>5</td>\n",
       "      <td>Ex</td>\n",
       "      <td>741</td>\n",
       "    </tr>\n",
       "    <tr>\n",
       "      <th>CentralAir</th>\n",
       "      <td>1460</td>\n",
       "      <td>2</td>\n",
       "      <td>Y</td>\n",
       "      <td>1365</td>\n",
       "    </tr>\n",
       "    <tr>\n",
       "      <th>Electrical</th>\n",
       "      <td>1460</td>\n",
       "      <td>6</td>\n",
       "      <td>SBrkr</td>\n",
       "      <td>1334</td>\n",
       "    </tr>\n",
       "    <tr>\n",
       "      <th>KitchenQual</th>\n",
       "      <td>1460</td>\n",
       "      <td>4</td>\n",
       "      <td>TA</td>\n",
       "      <td>735</td>\n",
       "    </tr>\n",
       "    <tr>\n",
       "      <th>Functional</th>\n",
       "      <td>1460</td>\n",
       "      <td>7</td>\n",
       "      <td>Typ</td>\n",
       "      <td>1360</td>\n",
       "    </tr>\n",
       "    <tr>\n",
       "      <th>FireplaceQu</th>\n",
       "      <td>1460</td>\n",
       "      <td>6</td>\n",
       "      <td>No FirePlace</td>\n",
       "      <td>690</td>\n",
       "    </tr>\n",
       "    <tr>\n",
       "      <th>PavedDrive</th>\n",
       "      <td>1460</td>\n",
       "      <td>3</td>\n",
       "      <td>Y</td>\n",
       "      <td>1340</td>\n",
       "    </tr>\n",
       "    <tr>\n",
       "      <th>Fence</th>\n",
       "      <td>1460</td>\n",
       "      <td>5</td>\n",
       "      <td>No Fence</td>\n",
       "      <td>1179</td>\n",
       "    </tr>\n",
       "    <tr>\n",
       "      <th>SaleType</th>\n",
       "      <td>1460</td>\n",
       "      <td>9</td>\n",
       "      <td>WD</td>\n",
       "      <td>1267</td>\n",
       "    </tr>\n",
       "    <tr>\n",
       "      <th>SaleCondition</th>\n",
       "      <td>1460</td>\n",
       "      <td>6</td>\n",
       "      <td>Normal</td>\n",
       "      <td>1198</td>\n",
       "    </tr>\n",
       "  </tbody>\n",
       "</table>\n",
       "</div>"
      ],
      "text/plain": [
       "              count unique              top  freq\n",
       "MSZoning       1460      5               RL  1151\n",
       "Alley          1460      3  No Alley Access  1369\n",
       "LotShape       1460      4              Reg   925\n",
       "LandContour    1460      4              Lvl  1311\n",
       "LotConfig      1460      5           Inside  1052\n",
       "LandSlope      1460      3              Gtl  1382\n",
       "Condition1     1460      9             Norm  1260\n",
       "BldgType       1460      5             1Fam  1220\n",
       "HouseStyle     1460      8           1Story   726\n",
       "RoofStyle      1460      6            Gable  1141\n",
       "Exterior1st    1460     15          VinylSd   515\n",
       "Exterior2nd    1460     16          VinylSd   504\n",
       "MasVnrType     1460      5             None   864\n",
       "ExterQual      1460      4               TA   906\n",
       "ExterCond      1460      5               TA  1282\n",
       "Foundation     1460      6            PConc   647\n",
       "HeatingQC      1460      5               Ex   741\n",
       "CentralAir     1460      2                Y  1365\n",
       "Electrical     1460      6            SBrkr  1334\n",
       "KitchenQual    1460      4               TA   735\n",
       "Functional     1460      7              Typ  1360\n",
       "FireplaceQu    1460      6     No FirePlace   690\n",
       "PavedDrive     1460      3                Y  1340\n",
       "Fence          1460      5         No Fence  1179\n",
       "SaleType       1460      9               WD  1267\n",
       "SaleCondition  1460      6           Normal  1198"
      ]
     },
     "execution_count": 66,
     "metadata": {},
     "output_type": "execute_result"
    }
   ],
   "source": [
    "df6.describe(include='object').T"
   ]
  },
  {
   "cell_type": "markdown",
   "id": "2dfbbca0-9407-4fbc-b611-605726532e2e",
   "metadata": {},
   "source": [
    "**Cramér's V**   \n",
    "I can investigate with my domain knowledge, but i will try to measure the dependencies with **Cramér's V**"
   ]
  },
  {
   "cell_type": "markdown",
   "id": "d68dcee2-ce6b-4da4-973b-1d8c05005066",
   "metadata": {},
   "source": [
    "Cramér's V is a suitable measure for associations between categorical variables. It provides a value between 0 and 1, where 0 indicates no association and 1 indicates a perfect association. This metric gives you a good sense of the strength of association between categorical variables."
   ]
  },
  {
   "cell_type": "code",
   "execution_count": 67,
   "id": "4742bead-7f23-4f89-8fce-37d7c60a4a6f",
   "metadata": {
    "scrolled": true,
    "tags": []
   },
   "outputs": [
    {
     "data": {
      "text/plain": [
       "['MSZoning',\n",
       " 'Alley',\n",
       " 'LotShape',\n",
       " 'LandContour',\n",
       " 'LotConfig',\n",
       " 'LandSlope',\n",
       " 'Condition1',\n",
       " 'BldgType',\n",
       " 'HouseStyle',\n",
       " 'RoofStyle',\n",
       " 'Exterior1st',\n",
       " 'Exterior2nd',\n",
       " 'MasVnrType',\n",
       " 'ExterQual',\n",
       " 'ExterCond',\n",
       " 'Foundation',\n",
       " 'HeatingQC',\n",
       " 'CentralAir',\n",
       " 'Electrical',\n",
       " 'KitchenQual',\n",
       " 'Functional',\n",
       " 'FireplaceQu',\n",
       " 'PavedDrive',\n",
       " 'Fence',\n",
       " 'SaleType',\n",
       " 'SaleCondition']"
      ]
     },
     "execution_count": 67,
     "metadata": {},
     "output_type": "execute_result"
    }
   ],
   "source": [
    "categorical_variables = list(df6.columns[df6.dtypes == 'object'])\n",
    "categorical_variables"
   ]
  },
  {
   "cell_type": "code",
   "execution_count": 68,
   "id": "aa4b1607-e7ea-4155-b1ed-92670f74f8ae",
   "metadata": {
    "scrolled": true,
    "tags": []
   },
   "outputs": [],
   "source": [
    "from scipy.stats import chi2_contingency\n",
    "\n",
    "cramer_v_dict = {}\n",
    "\n",
    "for var1 in categorical_variables:\n",
    "    for var2 in categorical_variables:\n",
    "        if var1 != var2:\n",
    "            contingency_table = pd.crosstab(df6[var1], df6[var2])\n",
    "            chi2, _, _, _ = chi2_contingency(contingency_table)\n",
    "            num_obs = contingency_table.sum().sum()\n",
    "            v = np.sqrt(chi2 / (num_obs * (min(contingency_table.shape) - 1)))\n",
    "            cramer_v_dict[(var1, var2)] = v"
   ]
  },
  {
   "cell_type": "code",
   "execution_count": 69,
   "id": "67f37bd1-c00c-45d1-b779-751677b703fe",
   "metadata": {
    "tags": []
   },
   "outputs": [
    {
     "name": "stdout",
     "output_type": "stream",
     "text": [
      "('LandContour', 'LandSlope') 0.459179613790028\n",
      "('LandSlope', 'LandContour') 0.459179613790028\n",
      "('Exterior1st', 'Exterior2nd') 0.7620101123416536\n",
      "('Exterior2nd', 'Exterior1st') 0.7620101123416535\n",
      "('ExterQual', 'KitchenQual') 0.5473579787253363\n",
      "('CentralAir', 'Electrical') 0.4243580948005979\n",
      "('Electrical', 'CentralAir') 0.4243580948005979\n",
      "('KitchenQual', 'ExterQual') 0.5473579787253363\n",
      "('SaleType', 'SaleCondition') 0.475808623503821\n",
      "('SaleCondition', 'SaleType') 0.4758086235038211\n"
     ]
    }
   ],
   "source": [
    "for i, v in cramer_v_dict.items():\n",
    "    if v>0.4:\n",
    "        print(i,v)"
   ]
  },
  {
   "cell_type": "markdown",
   "id": "4191b34c-fc4a-42b8-b085-6258c26d11a4",
   "metadata": {},
   "source": [
    "Here is the measures i will take:\n",
    "- I will drop Landslope over LandContour, because contour has more descriptive data"
   ]
  },
  {
   "cell_type": "code",
   "execution_count": 70,
   "id": "8862fbbb-c9e5-4fa7-89d4-b0e8aeebb036",
   "metadata": {
    "tags": []
   },
   "outputs": [],
   "source": [
    "df6.drop(columns=['LandSlope'], inplace=True)"
   ]
  },
  {
   "cell_type": "markdown",
   "id": "2e871c8c-9770-4631-bd39-97a59bdc7028",
   "metadata": {},
   "source": [
    "- I will drop Exterior2nd. Because, except 212 instances there are no value in Exterior 2nd. Even exist, its not as descriptive as it harms model by multicollinearity"
   ]
  },
  {
   "cell_type": "code",
   "execution_count": 71,
   "id": "692e8dfd-eb46-4fd7-8913-d8f178abbea0",
   "metadata": {
    "tags": []
   },
   "outputs": [],
   "source": [
    "df6.drop(columns=['Exterior2nd'], inplace=True)"
   ]
  },
  {
   "cell_type": "markdown",
   "id": "e736dc04-1e2a-4113-a7ee-dc3390b42dac",
   "metadata": {},
   "source": [
    "* I drop electrical over CentralAir since CentralAir is more easy to interpret with its BinaryClass"
   ]
  },
  {
   "cell_type": "code",
   "execution_count": 72,
   "id": "8f579787-2e1a-42bf-a86c-d1bf3fa8357d",
   "metadata": {
    "tags": []
   },
   "outputs": [],
   "source": [
    "df6.drop(columns=['Electrical'], inplace=True)"
   ]
  },
  {
   "cell_type": "markdown",
   "id": "cf640011-c844-4177-a739-caf9deeeff5c",
   "metadata": {},
   "source": [
    "* I will drop ExterQual ove KitchenQual.\n",
    "* ExterQual somehow is reflected in External material, age, renovation age"
   ]
  },
  {
   "cell_type": "code",
   "execution_count": 73,
   "id": "e3cb9cca-a84f-4653-aa23-e7aa2692722b",
   "metadata": {
    "tags": []
   },
   "outputs": [],
   "source": [
    "df6.drop(columns=['ExterQual'], inplace=True)"
   ]
  },
  {
   "cell_type": "markdown",
   "id": "56e86cc0-959f-4248-9651-09f97c7fa34b",
   "metadata": {},
   "source": [
    "* i will drop SaleType over SaleCondition. because it is less descriptive and also it's data is somehow described in other columns as well"
   ]
  },
  {
   "cell_type": "code",
   "execution_count": 74,
   "id": "099375fc-eedc-4234-b157-52ffb2eefb1b",
   "metadata": {
    "tags": []
   },
   "outputs": [],
   "source": [
    "df6.drop(columns=['SaleType'], inplace=True)"
   ]
  },
  {
   "cell_type": "code",
   "execution_count": 75,
   "id": "b74eaf44-5256-44d7-a4d9-4728649870dd",
   "metadata": {
    "tags": []
   },
   "outputs": [
    {
     "data": {
      "text/plain": [
       "(1460, 50)"
      ]
     },
     "execution_count": 75,
     "metadata": {},
     "output_type": "execute_result"
    }
   ],
   "source": [
    "df7 = df6.copy()\n",
    "df7.shape"
   ]
  },
  {
   "cell_type": "code",
   "execution_count": null,
   "id": "850d27bb-f26c-44f8-9ad6-e347a565053d",
   "metadata": {},
   "outputs": [],
   "source": []
  },
  {
   "cell_type": "markdown",
   "id": "ed025540-cf33-4095-964e-7993ce44c0b1",
   "metadata": {},
   "source": [
    "### Feature Engineering Continued"
   ]
  },
  {
   "cell_type": "code",
   "execution_count": 76,
   "id": "add52ccb-7638-4c80-852f-7a1ed3fc88a6",
   "metadata": {
    "tags": []
   },
   "outputs": [
    {
     "data": {
      "text/plain": [
       "Index(['MSSubClass', 'MSZoning', 'LotFrontage', 'LotArea', 'Alley', 'LotShape',\n",
       "       'LandContour', 'LotConfig', 'Condition1', 'BldgType', 'HouseStyle',\n",
       "       'OverallQual', 'OverallCond', 'RoofStyle', 'Exterior1st', 'MasVnrType',\n",
       "       'MasVnrArea', 'ExterCond', 'Foundation', 'HeatingQC', 'CentralAir',\n",
       "       'LowQualFinSF', 'BedroomAbvGr', 'KitchenAbvGr', 'KitchenQual',\n",
       "       'TotRmsAbvGrd', 'Functional', 'Fireplaces', 'FireplaceQu', 'GarageArea',\n",
       "       'PavedDrive', 'WoodDeckSF', 'OpenPorchSF', 'EnclosedPorch', '3SsnPorch',\n",
       "       'ScreenPorch', 'Fence', 'MiscVal', 'MoSold', 'YrSold', 'SaleCondition',\n",
       "       'SalePrice', 'Total_Area', 'Total_Bathrooms', 'Age_of_Property',\n",
       "       'Age_of_Renovation', 'HasGarage', 'HasPool', 'MedianHousePrice',\n",
       "       'BsmtOverallGrade'],\n",
       "      dtype='object')"
      ]
     },
     "execution_count": 76,
     "metadata": {},
     "output_type": "execute_result"
    }
   ],
   "source": [
    "df7.columns"
   ]
  },
  {
   "cell_type": "markdown",
   "id": "eb2d27f5-8dcf-42bb-bc4c-753f08753c16",
   "metadata": {
    "execution": {
     "iopub.execute_input": "2023-10-10T10:57:18.989580Z",
     "iopub.status.busy": "2023-10-10T10:57:18.989580Z",
     "iopub.status.idle": "2023-10-10T10:57:19.009485Z",
     "shell.execute_reply": "2023-10-10T10:57:19.009485Z",
     "shell.execute_reply.started": "2023-10-10T10:57:18.989580Z"
    }
   },
   "source": [
    "**Rooms**"
   ]
  },
  {
   "cell_type": "code",
   "execution_count": 77,
   "id": "44048996-2a9e-4864-a04c-241c587e1544",
   "metadata": {
    "tags": []
   },
   "outputs": [],
   "source": [
    "# no need to hold both TotRmsAbvGrd and 'BedroomAbvGr'\n",
    "df7.drop(columns = ['BedroomAbvGr'], inplace=True)"
   ]
  },
  {
   "cell_type": "markdown",
   "id": "62bb0181-fe5b-4cd0-8caa-44986b52b90a",
   "metadata": {},
   "source": [
    "**Porch and Deck Columns**"
   ]
  },
  {
   "cell_type": "markdown",
   "id": "ba86f59f-be3b-4b0c-8dd4-ee0114907faf",
   "metadata": {},
   "source": [
    "'WoodDeckSF', 'OpenPorchSF', 'EnclosedPorch', '3SsnPorch', 'ScreenPorch'  \n",
    "i will combine these features into one single one"
   ]
  },
  {
   "cell_type": "code",
   "execution_count": 78,
   "id": "7a514981-5348-4abf-997d-4ef48258144c",
   "metadata": {
    "scrolled": true,
    "tags": []
   },
   "outputs": [],
   "source": [
    "terrace_columns = ['WoodDeckSF', 'OpenPorchSF', 'EnclosedPorch', '3SsnPorch', 'ScreenPorch']\n",
    "terrace_weights = [1, 1, 2, 2, 2]\n",
    "\n",
    "df7['Terrace_Grade'] = (df7[terrace_columns[0]] * terrace_weights[0] +\n",
    "                            df7[terrace_columns[1]] * terrace_weights[1] +\n",
    "                             df7[terrace_columns[2]] * terrace_weights[2] +\n",
    "                             df7[terrace_columns[3]] * terrace_weights[3] +\n",
    "                             df7[terrace_columns[4]] * terrace_weights[4])"
   ]
  },
  {
   "cell_type": "code",
   "execution_count": 79,
   "id": "47ef511c-c9d6-4278-99ca-a18e1ade76cd",
   "metadata": {
    "tags": []
   },
   "outputs": [],
   "source": [
    "df8 = df7.drop(columns=terrace_columns)"
   ]
  },
  {
   "cell_type": "markdown",
   "id": "67841a71-5046-41d9-9970-4a2270d883c9",
   "metadata": {},
   "source": [
    "## Final Issues Feature Engineering"
   ]
  },
  {
   "cell_type": "markdown",
   "id": "9437e3e3-2ef2-4677-a8e4-686518477c47",
   "metadata": {},
   "source": [
    "**this part is the version0.1 of the model with limited features selected by domain knowledge and dataset information**"
   ]
  },
  {
   "cell_type": "code",
   "execution_count": 80,
   "id": "f13f0f75-0eda-4496-9cc4-fc828f642916",
   "metadata": {
    "tags": []
   },
   "outputs": [
    {
     "data": {
      "text/plain": [
       "(1460, 45)"
      ]
     },
     "execution_count": 80,
     "metadata": {},
     "output_type": "execute_result"
    }
   ],
   "source": [
    "df8.shape"
   ]
  },
  {
   "cell_type": "markdown",
   "id": "7bcd6c99-9000-4c6b-8fff-9d0aed9b9bec",
   "metadata": {},
   "source": [
    "For the sake of simplicity i will only select some of the features for the first run of model  \n",
    "Later on, i will come to this part and continue with 46 features again. And make a comparison"
   ]
  },
  {
   "cell_type": "code",
   "execution_count": 81,
   "id": "d8488efb-4250-4e2b-a8bb-9acb915254ee",
   "metadata": {
    "tags": []
   },
   "outputs": [
    {
     "data": {
      "text/plain": [
       "Index(['MSSubClass', 'MSZoning', 'LotFrontage', 'LotArea', 'Alley', 'LotShape',\n",
       "       'LandContour', 'LotConfig', 'Condition1', 'BldgType', 'HouseStyle',\n",
       "       'OverallQual', 'OverallCond', 'RoofStyle', 'Exterior1st', 'MasVnrType',\n",
       "       'MasVnrArea', 'ExterCond', 'Foundation', 'HeatingQC', 'CentralAir',\n",
       "       'LowQualFinSF', 'KitchenAbvGr', 'KitchenQual', 'TotRmsAbvGrd',\n",
       "       'Functional', 'Fireplaces', 'FireplaceQu', 'GarageArea', 'PavedDrive',\n",
       "       'Fence', 'MiscVal', 'MoSold', 'YrSold', 'SaleCondition', 'SalePrice',\n",
       "       'Total_Area', 'Total_Bathrooms', 'Age_of_Property', 'Age_of_Renovation',\n",
       "       'HasGarage', 'HasPool', 'MedianHousePrice', 'BsmtOverallGrade',\n",
       "       'Terrace_Grade'],\n",
       "      dtype='object')"
      ]
     },
     "execution_count": 81,
     "metadata": {},
     "output_type": "execute_result"
    }
   ],
   "source": [
    "df8.columns"
   ]
  },
  {
   "cell_type": "markdown",
   "id": "3fdd996b-1c73-48b4-af59-783989523aef",
   "metadata": {},
   "source": [
    "I will use domain knowledge and intuition from the dataset i gathered, and will drop more features. I want to have around 15-20 features to continue our model"
   ]
  },
  {
   "cell_type": "code",
   "execution_count": 82,
   "id": "72497dfa-1939-41a3-971e-9d3b94759d80",
   "metadata": {
    "scrolled": true,
    "tags": []
   },
   "outputs": [],
   "source": [
    "columns_to_use_v1 = ['BsmtOverallGrade', 'Terrace_Grade', 'ExterCond', 'KitchenQual', 'OverallQual', 'OverallCond','LotArea', \n",
    "                     'Total_Area', 'Total_Bathrooms', 'GarageArea', 'TotRmsAbvGrd','Age_of_Property', 'Age_of_Renovation', \n",
    "                     'MoSold', 'YrSold', 'SaleCondition','MSZoning', 'MedianHousePrice', 'SalePrice', 'Condition1', 'HouseStyle']"
   ]
  },
  {
   "cell_type": "code",
   "execution_count": 83,
   "id": "a558549f-5886-40fa-9722-78c5de95441d",
   "metadata": {
    "scrolled": true,
    "tags": []
   },
   "outputs": [
    {
     "data": {
      "text/plain": [
       "(1460, 21)"
      ]
     },
     "execution_count": 83,
     "metadata": {},
     "output_type": "execute_result"
    }
   ],
   "source": [
    "df9 = df8[columns_to_use_v1]\n",
    "df9.shape"
   ]
  },
  {
   "cell_type": "code",
   "execution_count": 84,
   "id": "297243aa-2dc0-4f06-bb6f-c1bcec9523d3",
   "metadata": {
    "tags": []
   },
   "outputs": [
    {
     "data": {
      "text/html": [
       "<div>\n",
       "<style scoped>\n",
       "    .dataframe tbody tr th:only-of-type {\n",
       "        vertical-align: middle;\n",
       "    }\n",
       "\n",
       "    .dataframe tbody tr th {\n",
       "        vertical-align: top;\n",
       "    }\n",
       "\n",
       "    .dataframe thead th {\n",
       "        text-align: right;\n",
       "    }\n",
       "</style>\n",
       "<table border=\"1\" class=\"dataframe\">\n",
       "  <thead>\n",
       "    <tr style=\"text-align: right;\">\n",
       "      <th></th>\n",
       "      <th>BsmtOverallGrade</th>\n",
       "      <th>Terrace_Grade</th>\n",
       "      <th>ExterCond</th>\n",
       "      <th>KitchenQual</th>\n",
       "      <th>OverallQual</th>\n",
       "      <th>OverallCond</th>\n",
       "      <th>LotArea</th>\n",
       "      <th>Total_Area</th>\n",
       "      <th>Total_Bathrooms</th>\n",
       "      <th>GarageArea</th>\n",
       "      <th>...</th>\n",
       "      <th>Age_of_Property</th>\n",
       "      <th>Age_of_Renovation</th>\n",
       "      <th>MoSold</th>\n",
       "      <th>YrSold</th>\n",
       "      <th>SaleCondition</th>\n",
       "      <th>MSZoning</th>\n",
       "      <th>MedianHousePrice</th>\n",
       "      <th>SalePrice</th>\n",
       "      <th>Condition1</th>\n",
       "      <th>HouseStyle</th>\n",
       "    </tr>\n",
       "  </thead>\n",
       "  <tbody>\n",
       "    <tr>\n",
       "      <th>660</th>\n",
       "      <td>9.000000</td>\n",
       "      <td>617</td>\n",
       "      <td>TA</td>\n",
       "      <td>TA</td>\n",
       "      <td>7</td>\n",
       "      <td>7</td>\n",
       "      <td>12384</td>\n",
       "      <td>2728</td>\n",
       "      <td>2.5</td>\n",
       "      <td>550</td>\n",
       "      <td>...</td>\n",
       "      <td>34</td>\n",
       "      <td>34</td>\n",
       "      <td>11</td>\n",
       "      <td>2007</td>\n",
       "      <td>Normal</td>\n",
       "      <td>RL</td>\n",
       "      <td>182900.0</td>\n",
       "      <td>197900</td>\n",
       "      <td>Norm</td>\n",
       "      <td>2Story</td>\n",
       "    </tr>\n",
       "    <tr>\n",
       "      <th>643</th>\n",
       "      <td>10.367949</td>\n",
       "      <td>208</td>\n",
       "      <td>TA</td>\n",
       "      <td>TA</td>\n",
       "      <td>5</td>\n",
       "      <td>5</td>\n",
       "      <td>10793</td>\n",
       "      <td>2400</td>\n",
       "      <td>2.5</td>\n",
       "      <td>462</td>\n",
       "      <td>...</td>\n",
       "      <td>41</td>\n",
       "      <td>41</td>\n",
       "      <td>4</td>\n",
       "      <td>2007</td>\n",
       "      <td>Normal</td>\n",
       "      <td>RL</td>\n",
       "      <td>182900.0</td>\n",
       "      <td>152000</td>\n",
       "      <td>RRAn</td>\n",
       "      <td>2Story</td>\n",
       "    </tr>\n",
       "    <tr>\n",
       "      <th>368</th>\n",
       "      <td>9.000000</td>\n",
       "      <td>98</td>\n",
       "      <td>TA</td>\n",
       "      <td>TA</td>\n",
       "      <td>5</td>\n",
       "      <td>6</td>\n",
       "      <td>7800</td>\n",
       "      <td>2536</td>\n",
       "      <td>1.0</td>\n",
       "      <td>244</td>\n",
       "      <td>...</td>\n",
       "      <td>56</td>\n",
       "      <td>56</td>\n",
       "      <td>3</td>\n",
       "      <td>2010</td>\n",
       "      <td>Normal</td>\n",
       "      <td>RL</td>\n",
       "      <td>140000.0</td>\n",
       "      <td>132000</td>\n",
       "      <td>Norm</td>\n",
       "      <td>1Story</td>\n",
       "    </tr>\n",
       "  </tbody>\n",
       "</table>\n",
       "<p>3 rows × 21 columns</p>\n",
       "</div>"
      ],
      "text/plain": [
       "     BsmtOverallGrade  Terrace_Grade ExterCond KitchenQual  OverallQual  \\\n",
       "660          9.000000            617        TA          TA            7   \n",
       "643         10.367949            208        TA          TA            5   \n",
       "368          9.000000             98        TA          TA            5   \n",
       "\n",
       "     OverallCond  LotArea  Total_Area  Total_Bathrooms  GarageArea  ...  \\\n",
       "660            7    12384        2728              2.5         550  ...   \n",
       "643            5    10793        2400              2.5         462  ...   \n",
       "368            6     7800        2536              1.0         244  ...   \n",
       "\n",
       "     Age_of_Property  Age_of_Renovation  MoSold  YrSold  SaleCondition  \\\n",
       "660               34                 34      11    2007         Normal   \n",
       "643               41                 41       4    2007         Normal   \n",
       "368               56                 56       3    2010         Normal   \n",
       "\n",
       "    MSZoning MedianHousePrice  SalePrice  Condition1 HouseStyle  \n",
       "660       RL         182900.0     197900        Norm     2Story  \n",
       "643       RL         182900.0     152000        RRAn     2Story  \n",
       "368       RL         140000.0     132000        Norm     1Story  \n",
       "\n",
       "[3 rows x 21 columns]"
      ]
     },
     "execution_count": 84,
     "metadata": {},
     "output_type": "execute_result"
    }
   ],
   "source": [
    "df9.sample(3)"
   ]
  },
  {
   "cell_type": "markdown",
   "id": "3e4280e7-65fc-4497-a387-7efdbdfbdd9b",
   "metadata": {},
   "source": [
    "## Outliers"
   ]
  },
  {
   "cell_type": "code",
   "execution_count": 85,
   "id": "da669f05-4197-4eb0-906a-dbdf00f7cfd0",
   "metadata": {
    "tags": []
   },
   "outputs": [],
   "source": [
    "class Outliers:\n",
    "    def __init__(self, df, IQR_multi=3):\n",
    "        self.df = df\n",
    "        self.IQR_multi = IQR_multi\n",
    "\n",
    "    def _get_outliers(self, col):\n",
    "        Q1, Q3 = self.df[col].quantile([.25, .75])\n",
    "        threshold_low = Q1 - self.IQR_multi * abs(Q1 - Q3)\n",
    "        threshold_high = Q1 + self.IQR_multi * abs(Q1 - Q3)\n",
    "        return (self.df[col] < threshold_low) | (self.df[col] > threshold_high)\n",
    "\n",
    "    \n",
    "    def detect_outlier_rows(self):\n",
    "        outlier_rows = []\n",
    "        self.df = self.df.select_dtypes(include='number')\n",
    "        for col in self.df.columns:\n",
    "            Q1, Q3 = self.df[col].quantile([.25, .75])\n",
    "            threshold_low = Q1 - self.IQR_multi * abs(Q1-Q3)\n",
    "            threshold_high = Q1 + self.IQR_multi * abs(Q1-Q3)\n",
    "            is_outlier_exist = (self.df[col] < threshold_low) | (self.df[col] > threshold_high)\n",
    "            outliers = self.df[is_outlier_exist]\n",
    "            if not outliers.empty:\n",
    "                outlier_rows.extend(outliers.index)\n",
    "        outlier_rows = list(set(outlier_rows))  # Remove duplicates\n",
    "        return self.df.iloc[outlier_rows]\n",
    "\n",
    "\n",
    "    def detect_outlier_columns(self):\n",
    "        outlier_features = []\n",
    "        numeric_cols = self.df.select_dtypes(include='number').columns\n",
    "        for col in numeric_cols:\n",
    "            if self._get_outliers(col).any():\n",
    "                outlier_features.append(col)\n",
    "        return outlier_features\n",
    "\n",
    "    def outlier_stats(self):\n",
    "        outlier_stats = {'Feature': [], 'Negative Outliers': [], 'Positive Outliers': []}\n",
    "        numeric_cols = self.df.select_dtypes(include='number').columns\n",
    "        for col in numeric_cols:\n",
    "            is_outlier = self._get_outliers(col)\n",
    "            if is_outlier.any():\n",
    "                outlier_stats['Feature'].append(col)\n",
    "                outlier_stats['Negative Outliers'].append((is_outlier & (self.df[col] < self.df[col].median())).sum())\n",
    "                outlier_stats['Positive Outliers'].append((is_outlier & (self.df[col] > self.df[col].median())).sum())\n",
    "        return pd.DataFrame(outlier_stats)"
   ]
  },
  {
   "cell_type": "code",
   "execution_count": 86,
   "id": "4b523037-28a4-41b5-9432-2fad291375e6",
   "metadata": {
    "tags": []
   },
   "outputs": [],
   "source": [
    "outliers = Outliers(df9, 4)"
   ]
  },
  {
   "cell_type": "code",
   "execution_count": 87,
   "id": "86f2f81d-9de2-4254-bb93-21053ad218f5",
   "metadata": {
    "scrolled": true,
    "tags": []
   },
   "outputs": [
    {
     "name": "stdout",
     "output_type": "stream",
     "text": [
      "There are total 52 outliers out of 1460 data\n"
     ]
    }
   ],
   "source": [
    "outliers_df = outliers.detect_outlier_rows()\n",
    "print(f\"There are total {len(outliers_df)} outliers out of {len(df9)} data\")"
   ]
  },
  {
   "cell_type": "code",
   "execution_count": 88,
   "id": "afdad043-5807-4d62-8014-6f6b596ae40d",
   "metadata": {
    "scrolled": true,
    "tags": []
   },
   "outputs": [
    {
     "name": "stdout",
     "output_type": "stream",
     "text": [
      "['Terrace_Grade', 'LotArea', 'Total_Area', 'Total_Bathrooms', 'GarageArea', 'TotRmsAbvGrd', 'SalePrice']\n"
     ]
    }
   ],
   "source": [
    "outlier_columns = outliers.detect_outlier_columns()\n",
    "print(outlier_columns)"
   ]
  },
  {
   "cell_type": "markdown",
   "id": "350e116d-6238-418c-8395-b1adb2887261",
   "metadata": {},
   "source": [
    "__Too much outliers__  \n",
    "Lets try to analyze them"
   ]
  },
  {
   "cell_type": "code",
   "execution_count": 89,
   "id": "d2b7c238-bd26-41a0-b2cb-ba10c1d144fd",
   "metadata": {
    "tags": []
   },
   "outputs": [
    {
     "data": {
      "text/html": [
       "<div>\n",
       "<style scoped>\n",
       "    .dataframe tbody tr th:only-of-type {\n",
       "        vertical-align: middle;\n",
       "    }\n",
       "\n",
       "    .dataframe tbody tr th {\n",
       "        vertical-align: top;\n",
       "    }\n",
       "\n",
       "    .dataframe thead th {\n",
       "        text-align: right;\n",
       "    }\n",
       "</style>\n",
       "<table border=\"1\" class=\"dataframe\">\n",
       "  <thead>\n",
       "    <tr style=\"text-align: right;\">\n",
       "      <th></th>\n",
       "      <th>Feature</th>\n",
       "      <th>Negative Outliers</th>\n",
       "      <th>Positive Outliers</th>\n",
       "    </tr>\n",
       "  </thead>\n",
       "  <tbody>\n",
       "    <tr>\n",
       "      <th>0</th>\n",
       "      <td>Terrace_Grade</td>\n",
       "      <td>0</td>\n",
       "      <td>1</td>\n",
       "    </tr>\n",
       "    <tr>\n",
       "      <th>1</th>\n",
       "      <td>LotArea</td>\n",
       "      <td>0</td>\n",
       "      <td>34</td>\n",
       "    </tr>\n",
       "    <tr>\n",
       "      <th>2</th>\n",
       "      <td>Total_Area</td>\n",
       "      <td>0</td>\n",
       "      <td>5</td>\n",
       "    </tr>\n",
       "    <tr>\n",
       "      <th>3</th>\n",
       "      <td>Total_Bathrooms</td>\n",
       "      <td>0</td>\n",
       "      <td>9</td>\n",
       "    </tr>\n",
       "    <tr>\n",
       "      <th>4</th>\n",
       "      <td>GarageArea</td>\n",
       "      <td>0</td>\n",
       "      <td>3</td>\n",
       "    </tr>\n",
       "    <tr>\n",
       "      <th>5</th>\n",
       "      <td>TotRmsAbvGrd</td>\n",
       "      <td>0</td>\n",
       "      <td>1</td>\n",
       "    </tr>\n",
       "    <tr>\n",
       "      <th>6</th>\n",
       "      <td>SalePrice</td>\n",
       "      <td>0</td>\n",
       "      <td>12</td>\n",
       "    </tr>\n",
       "  </tbody>\n",
       "</table>\n",
       "</div>"
      ],
      "text/plain": [
       "           Feature  Negative Outliers  Positive Outliers\n",
       "0    Terrace_Grade                  0                  1\n",
       "1          LotArea                  0                 34\n",
       "2       Total_Area                  0                  5\n",
       "3  Total_Bathrooms                  0                  9\n",
       "4       GarageArea                  0                  3\n",
       "5     TotRmsAbvGrd                  0                  1\n",
       "6        SalePrice                  0                 12"
      ]
     },
     "execution_count": 89,
     "metadata": {},
     "output_type": "execute_result"
    }
   ],
   "source": [
    "outliers.outlier_stats()"
   ]
  },
  {
   "cell_type": "code",
   "execution_count": 90,
   "id": "07395be0-9a0d-4a87-952a-f65a8ea4125a",
   "metadata": {
    "tags": []
   },
   "outputs": [
    {
     "data": {
      "image/png": "[encoded data removed]",
      "text/plain": [
       "<Figure size 1000x500 with 2 Axes>"
      ]
     },
     "metadata": {},
     "output_type": "display_data"
    }
   ],
   "source": [
    "fig, (ax1, ax2) = plt.subplots(1, 2, figsize=(10, 5))\n",
    "sns.boxplot(df9['SalePrice']   ,ax=ax1, whis=3)\n",
    "ax1.set_title('SalePrice Outliers')\n",
    "\n",
    "sns.boxplot(df9['LotArea']  ,ax=ax2, whis=3)\n",
    "ax2.set_title('Lot Area Outliers')\n",
    "\n",
    "plt.show()"
   ]
  },
  {
   "cell_type": "markdown",
   "id": "d2eaf551-20c6-410c-8267-161a9806c09e",
   "metadata": {},
   "source": [
    "I think We can drop these 51 outliers"
   ]
  },
  {
   "cell_type": "code",
   "execution_count": 91,
   "id": "1d6e9641-060d-440b-bd89-858fc7f6f1d9",
   "metadata": {},
   "outputs": [
    {
     "data": {
      "text/plain": [
       "(1408, 21)"
      ]
     },
     "execution_count": 91,
     "metadata": {},
     "output_type": "execute_result"
    }
   ],
   "source": [
    "df10 = df9.drop(axis=0, index=outliers_df.index)\n",
    "df10.shape"
   ]
  },
  {
   "cell_type": "code",
   "execution_count": null,
   "id": "39f43f8a-671f-4f14-b50a-87aea9139888",
   "metadata": {},
   "outputs": [],
   "source": []
  },
  {
   "cell_type": "markdown",
   "id": "67ca4e8f-11dc-4417-9c0b-d0f2fca2f94c",
   "metadata": {
    "execution": {
     "iopub.execute_input": "2023-10-10T22:07:46.722956Z",
     "iopub.status.busy": "2023-10-10T22:07:46.722956Z",
     "iopub.status.idle": "2023-10-10T22:07:46.732030Z",
     "shell.execute_reply": "2023-10-10T22:07:46.731019Z",
     "shell.execute_reply.started": "2023-10-10T22:07:46.722956Z"
    },
    "tags": []
   },
   "source": [
    "## Log Transformation of SalePrice"
   ]
  },
  {
   "cell_type": "code",
   "execution_count": 92,
   "id": "0d3bdc8f-d311-4d76-bd85-b23b1c824f8b",
   "metadata": {
    "tags": []
   },
   "outputs": [
    {
     "data": {
      "image/png": "[encoded data removed]",
      "text/plain": [
       "<Figure size 640x480 with 1 Axes>"
      ]
     },
     "metadata": {},
     "output_type": "display_data"
    }
   ],
   "source": [
    "sns.distplot(df10['SalePrice']);"
   ]
  },
  {
   "cell_type": "code",
   "execution_count": 93,
   "id": "7574dc4f-20f8-48cf-b004-e486b86d44d4",
   "metadata": {
    "tags": []
   },
   "outputs": [
    {
     "data": {
      "text/plain": [
       "1.1580690677521988"
      ]
     },
     "execution_count": 93,
     "metadata": {},
     "output_type": "execute_result"
    }
   ],
   "source": [
    "df10['SalePrice'].skew()"
   ]
  },
  {
   "cell_type": "markdown",
   "id": "09db1cd7-d44e-43c7-9a4a-6aaed8e8acc5",
   "metadata": {},
   "source": [
    "Our SalePrices are slightly positive (right) skewed so we may consider to make a log transformation.  \n",
    "but since skewness is low, thanks to removing the outliers, i will go on without log transformation for this V1 model"
   ]
  },
  {
   "cell_type": "code",
   "execution_count": null,
   "id": "f1d9bb29-a60f-4435-9dad-7937ea6eb734",
   "metadata": {},
   "outputs": [],
   "source": []
  },
  {
   "cell_type": "code",
   "execution_count": null,
   "id": "843afb5e-58d3-4d82-9e74-fab524c291d2",
   "metadata": {},
   "outputs": [],
   "source": []
  },
  {
   "cell_type": "markdown",
   "id": "ed07848b-31f2-4b60-8fa0-112a7d36644a",
   "metadata": {},
   "source": [
    "## Encode categorical variables"
   ]
  },
  {
   "cell_type": "markdown",
   "id": "da21f9fe-3c29-4351-807c-11dbcdfc4143",
   "metadata": {},
   "source": [
    "### Nominal Categories"
   ]
  },
  {
   "cell_type": "code",
   "execution_count": 94,
   "id": "b74c361b-f1ae-4e98-bf83-e667bd73c332",
   "metadata": {
    "tags": []
   },
   "outputs": [
    {
     "data": {
      "text/plain": [
       "BsmtOverallGrade     float64\n",
       "Terrace_Grade          int64\n",
       "ExterCond             object\n",
       "KitchenQual           object\n",
       "OverallQual            int64\n",
       "OverallCond            int64\n",
       "LotArea                int64\n",
       "Total_Area             int64\n",
       "Total_Bathrooms      float64\n",
       "GarageArea             int64\n",
       "TotRmsAbvGrd           int64\n",
       "Age_of_Property        int64\n",
       "Age_of_Renovation      int64\n",
       "MoSold                 int64\n",
       "YrSold                 int64\n",
       "SaleCondition         object\n",
       "MSZoning              object\n",
       "MedianHousePrice     float64\n",
       "SalePrice              int64\n",
       "Condition1            object\n",
       "HouseStyle            object\n",
       "dtype: object"
      ]
     },
     "execution_count": 94,
     "metadata": {},
     "output_type": "execute_result"
    }
   ],
   "source": [
    "df10.dtypes"
   ]
  },
  {
   "cell_type": "code",
   "execution_count": 95,
   "id": "cc9a3c97-b6dc-4335-b30f-55bde177aa93",
   "metadata": {
    "tags": []
   },
   "outputs": [],
   "source": [
    "nominal_categories = ['MSZoning', 'Condition1', 'HouseStyle', 'SaleCondition']"
   ]
  },
  {
   "cell_type": "code",
   "execution_count": 96,
   "id": "b2435dcd-dfb5-46bf-81ed-10e30e73a541",
   "metadata": {
    "tags": []
   },
   "outputs": [],
   "source": [
    "df_encoded = pd.get_dummies(df10[nominal_categories], columns=nominal_categories)"
   ]
  },
  {
   "cell_type": "code",
   "execution_count": 97,
   "id": "5657f65e-c1cb-402a-a4d8-74c3add2a9f1",
   "metadata": {
    "tags": []
   },
   "outputs": [],
   "source": [
    "df10.drop(columns=nominal_categories, inplace=True)"
   ]
  },
  {
   "cell_type": "code",
   "execution_count": 98,
   "id": "79e7e8db-1889-495d-a710-c2fc4377b111",
   "metadata": {
    "tags": []
   },
   "outputs": [],
   "source": [
    "df11 = pd.concat([df10, df_encoded], axis=1)"
   ]
  },
  {
   "cell_type": "code",
   "execution_count": 99,
   "id": "f8565ac5-a2f3-4d43-bbab-30a16f8b746d",
   "metadata": {},
   "outputs": [
    {
     "data": {
      "text/plain": [
       "(1408, 45)"
      ]
     },
     "execution_count": 99,
     "metadata": {},
     "output_type": "execute_result"
    }
   ],
   "source": [
    "df11.shape"
   ]
  },
  {
   "cell_type": "markdown",
   "id": "774da5f9-00d7-40b6-b228-89e7c9d1a464",
   "metadata": {
    "execution": {
     "iopub.execute_input": "2023-10-10T12:05:18.605338Z",
     "iopub.status.busy": "2023-10-10T12:05:18.604337Z",
     "iopub.status.idle": "2023-10-10T12:05:18.627383Z",
     "shell.execute_reply": "2023-10-10T12:05:18.626385Z",
     "shell.execute_reply.started": "2023-10-10T12:05:18.605338Z"
    }
   },
   "source": [
    "### Ordinal Categories"
   ]
  },
  {
   "cell_type": "code",
   "execution_count": 100,
   "id": "b2791b13-fb55-428d-abea-972c037658d7",
   "metadata": {
    "tags": []
   },
   "outputs": [],
   "source": [
    "ordinal_categories = ['ExterCond',\t'KitchenQual']"
   ]
  },
  {
   "cell_type": "code",
   "execution_count": 101,
   "id": "56007eb2-354c-4d8b-8650-f48df183600b",
   "metadata": {
    "tags": []
   },
   "outputs": [],
   "source": [
    "ordinal_mapping = {'Ex':5, 'Gd':4, 'TA':3, 'Fa':2, 'Po':1}"
   ]
  },
  {
   "cell_type": "code",
   "execution_count": 102,
   "id": "b2a218c8-9b30-4b83-8591-5c4025e4c57b",
   "metadata": {
    "tags": []
   },
   "outputs": [],
   "source": [
    "df11['ExterCond'] = df11['ExterCond'].map(ordinal_mapping)"
   ]
  },
  {
   "cell_type": "code",
   "execution_count": 103,
   "id": "47c98a73-aaad-44f2-b205-705783c2b405",
   "metadata": {
    "tags": []
   },
   "outputs": [],
   "source": [
    "df11['KitchenQual'] = df11['KitchenQual'].map(ordinal_mapping)"
   ]
  },
  {
   "cell_type": "code",
   "execution_count": 104,
   "id": "c07dd09b-186c-43f4-a0c8-7b849346d2c3",
   "metadata": {
    "tags": []
   },
   "outputs": [
    {
     "data": {
      "text/html": [
       "<div>\n",
       "<style scoped>\n",
       "    .dataframe tbody tr th:only-of-type {\n",
       "        vertical-align: middle;\n",
       "    }\n",
       "\n",
       "    .dataframe tbody tr th {\n",
       "        vertical-align: top;\n",
       "    }\n",
       "\n",
       "    .dataframe thead th {\n",
       "        text-align: right;\n",
       "    }\n",
       "</style>\n",
       "<table border=\"1\" class=\"dataframe\">\n",
       "  <thead>\n",
       "    <tr style=\"text-align: right;\">\n",
       "      <th></th>\n",
       "      <th>BsmtOverallGrade</th>\n",
       "      <th>Terrace_Grade</th>\n",
       "      <th>ExterCond</th>\n",
       "      <th>KitchenQual</th>\n",
       "      <th>OverallQual</th>\n",
       "      <th>OverallCond</th>\n",
       "      <th>LotArea</th>\n",
       "      <th>Total_Area</th>\n",
       "      <th>Total_Bathrooms</th>\n",
       "      <th>GarageArea</th>\n",
       "      <th>...</th>\n",
       "      <th>HouseStyle_2.5Unf</th>\n",
       "      <th>HouseStyle_2Story</th>\n",
       "      <th>HouseStyle_SFoyer</th>\n",
       "      <th>HouseStyle_SLvl</th>\n",
       "      <th>SaleCondition_Abnorml</th>\n",
       "      <th>SaleCondition_AdjLand</th>\n",
       "      <th>SaleCondition_Alloca</th>\n",
       "      <th>SaleCondition_Family</th>\n",
       "      <th>SaleCondition_Normal</th>\n",
       "      <th>SaleCondition_Partial</th>\n",
       "    </tr>\n",
       "  </thead>\n",
       "  <tbody>\n",
       "    <tr>\n",
       "      <th>684</th>\n",
       "      <td>9.0</td>\n",
       "      <td>81</td>\n",
       "      <td>3</td>\n",
       "      <td>3</td>\n",
       "      <td>7</td>\n",
       "      <td>5</td>\n",
       "      <td>16770</td>\n",
       "      <td>3034</td>\n",
       "      <td>2.5</td>\n",
       "      <td>486</td>\n",
       "      <td>...</td>\n",
       "      <td>0</td>\n",
       "      <td>1</td>\n",
       "      <td>0</td>\n",
       "      <td>0</td>\n",
       "      <td>0</td>\n",
       "      <td>0</td>\n",
       "      <td>0</td>\n",
       "      <td>0</td>\n",
       "      <td>1</td>\n",
       "      <td>0</td>\n",
       "    </tr>\n",
       "    <tr>\n",
       "      <th>359</th>\n",
       "      <td>16.0</td>\n",
       "      <td>1031</td>\n",
       "      <td>3</td>\n",
       "      <td>4</td>\n",
       "      <td>8</td>\n",
       "      <td>5</td>\n",
       "      <td>12011</td>\n",
       "      <td>3010</td>\n",
       "      <td>3.5</td>\n",
       "      <td>592</td>\n",
       "      <td>...</td>\n",
       "      <td>0</td>\n",
       "      <td>1</td>\n",
       "      <td>0</td>\n",
       "      <td>0</td>\n",
       "      <td>0</td>\n",
       "      <td>0</td>\n",
       "      <td>0</td>\n",
       "      <td>0</td>\n",
       "      <td>1</td>\n",
       "      <td>0</td>\n",
       "    </tr>\n",
       "    <tr>\n",
       "      <th>982</th>\n",
       "      <td>11.0</td>\n",
       "      <td>116</td>\n",
       "      <td>3</td>\n",
       "      <td>4</td>\n",
       "      <td>7</td>\n",
       "      <td>5</td>\n",
       "      <td>3182</td>\n",
       "      <td>2532</td>\n",
       "      <td>2.0</td>\n",
       "      <td>388</td>\n",
       "      <td>...</td>\n",
       "      <td>0</td>\n",
       "      <td>0</td>\n",
       "      <td>0</td>\n",
       "      <td>0</td>\n",
       "      <td>0</td>\n",
       "      <td>0</td>\n",
       "      <td>0</td>\n",
       "      <td>0</td>\n",
       "      <td>1</td>\n",
       "      <td>0</td>\n",
       "    </tr>\n",
       "  </tbody>\n",
       "</table>\n",
       "<p>3 rows × 45 columns</p>\n",
       "</div>"
      ],
      "text/plain": [
       "     BsmtOverallGrade  Terrace_Grade  ExterCond  KitchenQual  OverallQual  \\\n",
       "684               9.0             81          3            3            7   \n",
       "359              16.0           1031          3            4            8   \n",
       "982              11.0            116          3            4            7   \n",
       "\n",
       "     OverallCond  LotArea  Total_Area  Total_Bathrooms  GarageArea  ...  \\\n",
       "684            5    16770        3034              2.5         486  ...   \n",
       "359            5    12011        3010              3.5         592  ...   \n",
       "982            5     3182        2532              2.0         388  ...   \n",
       "\n",
       "     HouseStyle_2.5Unf  HouseStyle_2Story  HouseStyle_SFoyer  HouseStyle_SLvl  \\\n",
       "684                  0                  1                  0                0   \n",
       "359                  0                  1                  0                0   \n",
       "982                  0                  0                  0                0   \n",
       "\n",
       "     SaleCondition_Abnorml  SaleCondition_AdjLand  SaleCondition_Alloca  \\\n",
       "684                      0                      0                     0   \n",
       "359                      0                      0                     0   \n",
       "982                      0                      0                     0   \n",
       "\n",
       "     SaleCondition_Family  SaleCondition_Normal  SaleCondition_Partial  \n",
       "684                     0                     1                      0  \n",
       "359                     0                     1                      0  \n",
       "982                     0                     1                      0  \n",
       "\n",
       "[3 rows x 45 columns]"
      ]
     },
     "execution_count": 104,
     "metadata": {},
     "output_type": "execute_result"
    }
   ],
   "source": [
    "df11.sample(3)"
   ]
  },
  {
   "cell_type": "code",
   "execution_count": null,
   "id": "5856ca05-0bb9-4813-a944-19100ed2acd8",
   "metadata": {},
   "outputs": [],
   "source": []
  },
  {
   "cell_type": "code",
   "execution_count": 11,
   "id": "0963df4d-69ef-4770-a4e1-0170a720d09b",
   "metadata": {},
   "outputs": [],
   "source": [
    "#denme"
   ]
  },
  {
   "cell_type": "markdown",
   "id": "c51ce1c2-72a0-4040-a133-d0a327b3e004",
   "metadata": {},
   "source": [
    "__V2: log transformation here__"
   ]
  },
  {
   "cell_type": "code",
   "execution_count": 105,
   "id": "c8cb39cd-ee7b-487a-99a2-67ad95a136d7",
   "metadata": {},
   "outputs": [],
   "source": [
    "y = np.log(df11['SalePrice'])\n",
    "df12 = df11.drop(columns=['SalePrice', 'HouseStyle_2.5Fin'])"
   ]
  },
  {
   "cell_type": "code",
   "execution_count": 106,
   "id": "3a0d368c-c27b-47c3-986a-1d4cdf39138e",
   "metadata": {
    "tags": []
   },
   "outputs": [],
   "source": [
    "X=df12.copy()"
   ]
  },
  {
   "cell_type": "code",
   "execution_count": 107,
   "id": "f6dfd6f9-ccfa-4ccb-8509-b3b967a84c81",
   "metadata": {
    "tags": []
   },
   "outputs": [
    {
     "data": {
      "text/html": [
       "<div>\n",
       "<style scoped>\n",
       "    .dataframe tbody tr th:only-of-type {\n",
       "        vertical-align: middle;\n",
       "    }\n",
       "\n",
       "    .dataframe tbody tr th {\n",
       "        vertical-align: top;\n",
       "    }\n",
       "\n",
       "    .dataframe thead th {\n",
       "        text-align: right;\n",
       "    }\n",
       "</style>\n",
       "<table border=\"1\" class=\"dataframe\">\n",
       "  <thead>\n",
       "    <tr style=\"text-align: right;\">\n",
       "      <th></th>\n",
       "      <th>BsmtOverallGrade</th>\n",
       "      <th>Terrace_Grade</th>\n",
       "      <th>ExterCond</th>\n",
       "      <th>KitchenQual</th>\n",
       "      <th>OverallQual</th>\n",
       "      <th>OverallCond</th>\n",
       "      <th>LotArea</th>\n",
       "      <th>Total_Area</th>\n",
       "      <th>Total_Bathrooms</th>\n",
       "      <th>GarageArea</th>\n",
       "      <th>...</th>\n",
       "      <th>HouseStyle_2.5Unf</th>\n",
       "      <th>HouseStyle_2Story</th>\n",
       "      <th>HouseStyle_SFoyer</th>\n",
       "      <th>HouseStyle_SLvl</th>\n",
       "      <th>SaleCondition_Abnorml</th>\n",
       "      <th>SaleCondition_AdjLand</th>\n",
       "      <th>SaleCondition_Alloca</th>\n",
       "      <th>SaleCondition_Family</th>\n",
       "      <th>SaleCondition_Normal</th>\n",
       "      <th>SaleCondition_Partial</th>\n",
       "    </tr>\n",
       "  </thead>\n",
       "  <tbody>\n",
       "    <tr>\n",
       "      <th>0</th>\n",
       "      <td>14.0</td>\n",
       "      <td>61</td>\n",
       "      <td>3</td>\n",
       "      <td>4</td>\n",
       "      <td>7</td>\n",
       "      <td>5</td>\n",
       "      <td>8450</td>\n",
       "      <td>2566</td>\n",
       "      <td>3.5</td>\n",
       "      <td>548</td>\n",
       "      <td>...</td>\n",
       "      <td>0</td>\n",
       "      <td>1</td>\n",
       "      <td>0</td>\n",
       "      <td>0</td>\n",
       "      <td>0</td>\n",
       "      <td>0</td>\n",
       "      <td>0</td>\n",
       "      <td>0</td>\n",
       "      <td>1</td>\n",
       "      <td>0</td>\n",
       "    </tr>\n",
       "    <tr>\n",
       "      <th>1</th>\n",
       "      <td>16.0</td>\n",
       "      <td>298</td>\n",
       "      <td>3</td>\n",
       "      <td>3</td>\n",
       "      <td>6</td>\n",
       "      <td>8</td>\n",
       "      <td>9600</td>\n",
       "      <td>2524</td>\n",
       "      <td>2.5</td>\n",
       "      <td>460</td>\n",
       "      <td>...</td>\n",
       "      <td>0</td>\n",
       "      <td>0</td>\n",
       "      <td>0</td>\n",
       "      <td>0</td>\n",
       "      <td>0</td>\n",
       "      <td>0</td>\n",
       "      <td>0</td>\n",
       "      <td>0</td>\n",
       "      <td>1</td>\n",
       "      <td>0</td>\n",
       "    </tr>\n",
       "    <tr>\n",
       "      <th>2</th>\n",
       "      <td>15.0</td>\n",
       "      <td>42</td>\n",
       "      <td>3</td>\n",
       "      <td>4</td>\n",
       "      <td>7</td>\n",
       "      <td>5</td>\n",
       "      <td>11250</td>\n",
       "      <td>2706</td>\n",
       "      <td>3.5</td>\n",
       "      <td>608</td>\n",
       "      <td>...</td>\n",
       "      <td>0</td>\n",
       "      <td>1</td>\n",
       "      <td>0</td>\n",
       "      <td>0</td>\n",
       "      <td>0</td>\n",
       "      <td>0</td>\n",
       "      <td>0</td>\n",
       "      <td>0</td>\n",
       "      <td>1</td>\n",
       "      <td>0</td>\n",
       "    </tr>\n",
       "    <tr>\n",
       "      <th>3</th>\n",
       "      <td>13.0</td>\n",
       "      <td>579</td>\n",
       "      <td>3</td>\n",
       "      <td>4</td>\n",
       "      <td>7</td>\n",
       "      <td>5</td>\n",
       "      <td>9550</td>\n",
       "      <td>2473</td>\n",
       "      <td>2.0</td>\n",
       "      <td>642</td>\n",
       "      <td>...</td>\n",
       "      <td>0</td>\n",
       "      <td>1</td>\n",
       "      <td>0</td>\n",
       "      <td>0</td>\n",
       "      <td>1</td>\n",
       "      <td>0</td>\n",
       "      <td>0</td>\n",
       "      <td>0</td>\n",
       "      <td>0</td>\n",
       "      <td>0</td>\n",
       "    </tr>\n",
       "    <tr>\n",
       "      <th>4</th>\n",
       "      <td>16.0</td>\n",
       "      <td>276</td>\n",
       "      <td>3</td>\n",
       "      <td>4</td>\n",
       "      <td>8</td>\n",
       "      <td>5</td>\n",
       "      <td>14260</td>\n",
       "      <td>3343</td>\n",
       "      <td>3.5</td>\n",
       "      <td>836</td>\n",
       "      <td>...</td>\n",
       "      <td>0</td>\n",
       "      <td>1</td>\n",
       "      <td>0</td>\n",
       "      <td>0</td>\n",
       "      <td>0</td>\n",
       "      <td>0</td>\n",
       "      <td>0</td>\n",
       "      <td>0</td>\n",
       "      <td>1</td>\n",
       "      <td>0</td>\n",
       "    </tr>\n",
       "  </tbody>\n",
       "</table>\n",
       "<p>5 rows × 43 columns</p>\n",
       "</div>"
      ],
      "text/plain": [
       "   BsmtOverallGrade  Terrace_Grade  ExterCond  KitchenQual  OverallQual  \\\n",
       "0              14.0             61          3            4            7   \n",
       "1              16.0            298          3            3            6   \n",
       "2              15.0             42          3            4            7   \n",
       "3              13.0            579          3            4            7   \n",
       "4              16.0            276          3            4            8   \n",
       "\n",
       "   OverallCond  LotArea  Total_Area  Total_Bathrooms  GarageArea  ...  \\\n",
       "0            5     8450        2566              3.5         548  ...   \n",
       "1            8     9600        2524              2.5         460  ...   \n",
       "2            5    11250        2706              3.5         608  ...   \n",
       "3            5     9550        2473              2.0         642  ...   \n",
       "4            5    14260        3343              3.5         836  ...   \n",
       "\n",
       "   HouseStyle_2.5Unf  HouseStyle_2Story  HouseStyle_SFoyer  HouseStyle_SLvl  \\\n",
       "0                  0                  1                  0                0   \n",
       "1                  0                  0                  0                0   \n",
       "2                  0                  1                  0                0   \n",
       "3                  0                  1                  0                0   \n",
       "4                  0                  1                  0                0   \n",
       "\n",
       "   SaleCondition_Abnorml  SaleCondition_AdjLand  SaleCondition_Alloca  \\\n",
       "0                      0                      0                     0   \n",
       "1                      0                      0                     0   \n",
       "2                      0                      0                     0   \n",
       "3                      1                      0                     0   \n",
       "4                      0                      0                     0   \n",
       "\n",
       "   SaleCondition_Family  SaleCondition_Normal  SaleCondition_Partial  \n",
       "0                     0                     1                      0  \n",
       "1                     0                     1                      0  \n",
       "2                     0                     1                      0  \n",
       "3                     0                     0                      0  \n",
       "4                     0                     1                      0  \n",
       "\n",
       "[5 rows x 43 columns]"
      ]
     },
     "execution_count": 107,
     "metadata": {},
     "output_type": "execute_result"
    }
   ],
   "source": [
    "X.head()"
   ]
  },
  {
   "cell_type": "code",
   "execution_count": null,
   "id": "94b8d0b8-7f41-4422-bfef-b74879e2c267",
   "metadata": {},
   "outputs": [],
   "source": []
  },
  {
   "cell_type": "code",
   "execution_count": null,
   "id": "dc40fd6d-5cd8-4c88-8586-29b09c9e1ea3",
   "metadata": {},
   "outputs": [],
   "source": []
  },
  {
   "cell_type": "markdown",
   "id": "97a73e71-9265-47fd-8f9c-a4ac1e301487",
   "metadata": {
    "tags": []
   },
   "source": [
    "# Prepare Test Data"
   ]
  },
  {
   "cell_type": "code",
   "execution_count": 108,
   "id": "b51e4bca-6c38-4341-8829-9a7ab51316ff",
   "metadata": {
    "tags": []
   },
   "outputs": [
    {
     "data": {
      "text/html": [
       "<div>\n",
       "<style scoped>\n",
       "    .dataframe tbody tr th:only-of-type {\n",
       "        vertical-align: middle;\n",
       "    }\n",
       "\n",
       "    .dataframe tbody tr th {\n",
       "        vertical-align: top;\n",
       "    }\n",
       "\n",
       "    .dataframe thead th {\n",
       "        text-align: right;\n",
       "    }\n",
       "</style>\n",
       "<table border=\"1\" class=\"dataframe\">\n",
       "  <thead>\n",
       "    <tr style=\"text-align: right;\">\n",
       "      <th></th>\n",
       "      <th>Id</th>\n",
       "      <th>MSSubClass</th>\n",
       "      <th>MSZoning</th>\n",
       "      <th>LotFrontage</th>\n",
       "      <th>LotArea</th>\n",
       "      <th>Street</th>\n",
       "      <th>Alley</th>\n",
       "      <th>LotShape</th>\n",
       "      <th>LandContour</th>\n",
       "      <th>Utilities</th>\n",
       "      <th>...</th>\n",
       "      <th>ScreenPorch</th>\n",
       "      <th>PoolArea</th>\n",
       "      <th>PoolQC</th>\n",
       "      <th>Fence</th>\n",
       "      <th>MiscFeature</th>\n",
       "      <th>MiscVal</th>\n",
       "      <th>MoSold</th>\n",
       "      <th>YrSold</th>\n",
       "      <th>SaleType</th>\n",
       "      <th>SaleCondition</th>\n",
       "    </tr>\n",
       "  </thead>\n",
       "  <tbody>\n",
       "    <tr>\n",
       "      <th>0</th>\n",
       "      <td>1461</td>\n",
       "      <td>20</td>\n",
       "      <td>RH</td>\n",
       "      <td>80.0</td>\n",
       "      <td>11622</td>\n",
       "      <td>Pave</td>\n",
       "      <td>NaN</td>\n",
       "      <td>Reg</td>\n",
       "      <td>Lvl</td>\n",
       "      <td>AllPub</td>\n",
       "      <td>...</td>\n",
       "      <td>120</td>\n",
       "      <td>0</td>\n",
       "      <td>NaN</td>\n",
       "      <td>MnPrv</td>\n",
       "      <td>NaN</td>\n",
       "      <td>0</td>\n",
       "      <td>6</td>\n",
       "      <td>2010</td>\n",
       "      <td>WD</td>\n",
       "      <td>Normal</td>\n",
       "    </tr>\n",
       "    <tr>\n",
       "      <th>1</th>\n",
       "      <td>1462</td>\n",
       "      <td>20</td>\n",
       "      <td>RL</td>\n",
       "      <td>81.0</td>\n",
       "      <td>14267</td>\n",
       "      <td>Pave</td>\n",
       "      <td>NaN</td>\n",
       "      <td>IR1</td>\n",
       "      <td>Lvl</td>\n",
       "      <td>AllPub</td>\n",
       "      <td>...</td>\n",
       "      <td>0</td>\n",
       "      <td>0</td>\n",
       "      <td>NaN</td>\n",
       "      <td>NaN</td>\n",
       "      <td>Gar2</td>\n",
       "      <td>12500</td>\n",
       "      <td>6</td>\n",
       "      <td>2010</td>\n",
       "      <td>WD</td>\n",
       "      <td>Normal</td>\n",
       "    </tr>\n",
       "    <tr>\n",
       "      <th>2</th>\n",
       "      <td>1463</td>\n",
       "      <td>60</td>\n",
       "      <td>RL</td>\n",
       "      <td>74.0</td>\n",
       "      <td>13830</td>\n",
       "      <td>Pave</td>\n",
       "      <td>NaN</td>\n",
       "      <td>IR1</td>\n",
       "      <td>Lvl</td>\n",
       "      <td>AllPub</td>\n",
       "      <td>...</td>\n",
       "      <td>0</td>\n",
       "      <td>0</td>\n",
       "      <td>NaN</td>\n",
       "      <td>MnPrv</td>\n",
       "      <td>NaN</td>\n",
       "      <td>0</td>\n",
       "      <td>3</td>\n",
       "      <td>2010</td>\n",
       "      <td>WD</td>\n",
       "      <td>Normal</td>\n",
       "    </tr>\n",
       "    <tr>\n",
       "      <th>3</th>\n",
       "      <td>1464</td>\n",
       "      <td>60</td>\n",
       "      <td>RL</td>\n",
       "      <td>78.0</td>\n",
       "      <td>9978</td>\n",
       "      <td>Pave</td>\n",
       "      <td>NaN</td>\n",
       "      <td>IR1</td>\n",
       "      <td>Lvl</td>\n",
       "      <td>AllPub</td>\n",
       "      <td>...</td>\n",
       "      <td>0</td>\n",
       "      <td>0</td>\n",
       "      <td>NaN</td>\n",
       "      <td>NaN</td>\n",
       "      <td>NaN</td>\n",
       "      <td>0</td>\n",
       "      <td>6</td>\n",
       "      <td>2010</td>\n",
       "      <td>WD</td>\n",
       "      <td>Normal</td>\n",
       "    </tr>\n",
       "    <tr>\n",
       "      <th>4</th>\n",
       "      <td>1465</td>\n",
       "      <td>120</td>\n",
       "      <td>RL</td>\n",
       "      <td>43.0</td>\n",
       "      <td>5005</td>\n",
       "      <td>Pave</td>\n",
       "      <td>NaN</td>\n",
       "      <td>IR1</td>\n",
       "      <td>HLS</td>\n",
       "      <td>AllPub</td>\n",
       "      <td>...</td>\n",
       "      <td>144</td>\n",
       "      <td>0</td>\n",
       "      <td>NaN</td>\n",
       "      <td>NaN</td>\n",
       "      <td>NaN</td>\n",
       "      <td>0</td>\n",
       "      <td>1</td>\n",
       "      <td>2010</td>\n",
       "      <td>WD</td>\n",
       "      <td>Normal</td>\n",
       "    </tr>\n",
       "  </tbody>\n",
       "</table>\n",
       "<p>5 rows × 80 columns</p>\n",
       "</div>"
      ],
      "text/plain": [
       "     Id  MSSubClass MSZoning  LotFrontage  LotArea Street Alley LotShape  \\\n",
       "0  1461          20       RH         80.0    11622   Pave   NaN      Reg   \n",
       "1  1462          20       RL         81.0    14267   Pave   NaN      IR1   \n",
       "2  1463          60       RL         74.0    13830   Pave   NaN      IR1   \n",
       "3  1464          60       RL         78.0     9978   Pave   NaN      IR1   \n",
       "4  1465         120       RL         43.0     5005   Pave   NaN      IR1   \n",
       "\n",
       "  LandContour Utilities  ... ScreenPorch PoolArea PoolQC  Fence MiscFeature  \\\n",
       "0         Lvl    AllPub  ...         120        0    NaN  MnPrv         NaN   \n",
       "1         Lvl    AllPub  ...           0        0    NaN    NaN        Gar2   \n",
       "2         Lvl    AllPub  ...           0        0    NaN  MnPrv         NaN   \n",
       "3         Lvl    AllPub  ...           0        0    NaN    NaN         NaN   \n",
       "4         HLS    AllPub  ...         144        0    NaN    NaN         NaN   \n",
       "\n",
       "  MiscVal MoSold  YrSold  SaleType  SaleCondition  \n",
       "0       0      6    2010        WD         Normal  \n",
       "1   12500      6    2010        WD         Normal  \n",
       "2       0      3    2010        WD         Normal  \n",
       "3       0      6    2010        WD         Normal  \n",
       "4       0      1    2010        WD         Normal  \n",
       "\n",
       "[5 rows x 80 columns]"
      ]
     },
     "execution_count": 108,
     "metadata": {},
     "output_type": "execute_result"
    }
   ],
   "source": [
    "df_test = pd.read_csv('data_downloaded/test.csv')\n",
    "df_test.head()"
   ]
  },
  {
   "cell_type": "code",
   "execution_count": 109,
   "id": "f3128aa6-0eab-40c1-af1a-6347d88680d1",
   "metadata": {
    "tags": []
   },
   "outputs": [],
   "source": [
    "missing_handler_test = Dealing_missing_values(df_test)"
   ]
  },
  {
   "cell_type": "code",
   "execution_count": 110,
   "id": "12fc688b-3daa-4440-87c0-26b258b7f744",
   "metadata": {
    "tags": []
   },
   "outputs": [
    {
     "data": {
      "image/png": "[encoded data removed]",
      "text/plain": [
       "<Figure size 800x500 with 1 Axes>"
      ]
     },
     "metadata": {},
     "output_type": "display_data"
    }
   ],
   "source": [
    "missing_handler_test.show_missing_values()"
   ]
  },
  {
   "cell_type": "code",
   "execution_count": 111,
   "id": "9449765c-d5e8-4290-aa40-8f9606a3c56f",
   "metadata": {
    "tags": []
   },
   "outputs": [],
   "source": [
    "missing_handler_test.replace(replacement_dictionary)"
   ]
  },
  {
   "cell_type": "code",
   "execution_count": 112,
   "id": "1c0a90f7-127a-4e1f-a842-d240c8308ac7",
   "metadata": {
    "tags": []
   },
   "outputs": [
    {
     "data": {
      "image/png": "[encoded data removed]",
      "text/plain": [
       "<Figure size 800x500 with 1 Axes>"
      ]
     },
     "metadata": {},
     "output_type": "display_data"
    }
   ],
   "source": [
    "missing_handler_test.show_missing_values()"
   ]
  },
  {
   "cell_type": "code",
   "execution_count": 113,
   "id": "725799f5-a0a3-409d-aff0-a891f490825c",
   "metadata": {
    "tags": []
   },
   "outputs": [],
   "source": [
    "missing_handler_test.mmm(['MSZoning', 'Functional', 'Utilities', 'Exterior2nd', 'Exterior1st', 'SaleType', 'KitchenQual'], 'mode')"
   ]
  },
  {
   "cell_type": "code",
   "execution_count": 114,
   "id": "31fdfb6a-666e-4442-804e-9d95ebc8dd7c",
   "metadata": {
    "tags": []
   },
   "outputs": [],
   "source": [
    "replacement_dictionary_test = {'BsmtFullBath':0, 'BsmtHalfBath':0, 'BsmtFinSF2':0, 'GarageArea':0, 'BsmtFinSF1':0, 'GarageCars':0, 'TotalBsmtSF':0,\n",
    "        'BsmtUnfSF':0}"
   ]
  },
  {
   "cell_type": "code",
   "execution_count": 115,
   "id": "60080e3f-361a-43ed-a7cd-b569672de810",
   "metadata": {
    "tags": []
   },
   "outputs": [],
   "source": [
    "missing_handler_test.replace(replacement_dictionary_test)"
   ]
  },
  {
   "cell_type": "code",
   "execution_count": 116,
   "id": "be249eff-c065-4154-a926-e5e3d02319b3",
   "metadata": {
    "tags": []
   },
   "outputs": [
    {
     "name": "stdout",
     "output_type": "stream",
     "text": [
      "There are no missing values\n"
     ]
    }
   ],
   "source": [
    "missing_handler_test.show_missing_values()"
   ]
  },
  {
   "cell_type": "code",
   "execution_count": null,
   "id": "72210707-7fc6-44bc-8bf8-cc30f8ac7329",
   "metadata": {},
   "outputs": [],
   "source": []
  },
  {
   "cell_type": "code",
   "execution_count": null,
   "id": "677b13f7-352e-48cd-b7e4-798c0b42a9f1",
   "metadata": {},
   "outputs": [],
   "source": []
  },
  {
   "cell_type": "code",
   "execution_count": 117,
   "id": "d40485a6-8be6-416f-bbd0-e17eb4541326",
   "metadata": {
    "tags": []
   },
   "outputs": [],
   "source": [
    "df_test['Total_Area'] = df_test['TotalBsmtSF'] + df_test['1stFlrSF'] + df_test['2ndFlrSF']"
   ]
  },
  {
   "cell_type": "code",
   "execution_count": 118,
   "id": "6291d472-98be-4b34-bf08-332bb30305a5",
   "metadata": {
    "tags": []
   },
   "outputs": [],
   "source": [
    "df_test['Total_Bathrooms'] = df_test['BsmtFullBath'] + df_test['FullBath'] + 0.5*(df_test['BsmtHalfBath'] + df_test['HalfBath'])"
   ]
  },
  {
   "cell_type": "code",
   "execution_count": 119,
   "id": "992ff4f3-ba88-4c82-8a56-1b5265137bda",
   "metadata": {
    "tags": []
   },
   "outputs": [],
   "source": [
    "newest_blt = df_test['YearBuilt'].max()\n",
    "df_test['Age_of_Property'] = newest_blt - df_test['YearBuilt']"
   ]
  },
  {
   "cell_type": "code",
   "execution_count": 120,
   "id": "ee7a6842-baf3-432e-8a72-4868b2997c56",
   "metadata": {
    "tags": []
   },
   "outputs": [],
   "source": [
    "df_test['Age_of_Renovation'] = newest_blt - df_test['YearRemodAdd']"
   ]
  },
  {
   "cell_type": "code",
   "execution_count": 121,
   "id": "6de37982-936a-4dab-a922-4f4f6c7712ba",
   "metadata": {
    "tags": []
   },
   "outputs": [],
   "source": [
    "df_test['HasGarage'] = (df_test['GarageType'] != 'No Garage').astype(int)"
   ]
  },
  {
   "cell_type": "code",
   "execution_count": 122,
   "id": "756efcfd-6e54-4f84-9325-dfba3ead337f",
   "metadata": {
    "tags": []
   },
   "outputs": [],
   "source": [
    "df_test['HasPool'] = (df_test['PoolQC'] != 'No Pool').astype(int)"
   ]
  },
  {
   "cell_type": "code",
   "execution_count": 123,
   "id": "ebf3c3af-5b86-4843-b121-206eb7ce473d",
   "metadata": {
    "tags": []
   },
   "outputs": [
    {
     "data": {
      "text/html": [
       "<div>\n",
       "<style scoped>\n",
       "    .dataframe tbody tr th:only-of-type {\n",
       "        vertical-align: middle;\n",
       "    }\n",
       "\n",
       "    .dataframe tbody tr th {\n",
       "        vertical-align: top;\n",
       "    }\n",
       "\n",
       "    .dataframe thead th {\n",
       "        text-align: right;\n",
       "    }\n",
       "</style>\n",
       "<table border=\"1\" class=\"dataframe\">\n",
       "  <thead>\n",
       "    <tr style=\"text-align: right;\">\n",
       "      <th></th>\n",
       "      <th>Id</th>\n",
       "      <th>MSSubClass</th>\n",
       "      <th>MSZoning</th>\n",
       "      <th>LotFrontage</th>\n",
       "      <th>LotArea</th>\n",
       "      <th>Street</th>\n",
       "      <th>Alley</th>\n",
       "      <th>LotShape</th>\n",
       "      <th>LandContour</th>\n",
       "      <th>Utilities</th>\n",
       "      <th>...</th>\n",
       "      <th>YrSold</th>\n",
       "      <th>SaleType</th>\n",
       "      <th>SaleCondition</th>\n",
       "      <th>Total_Area</th>\n",
       "      <th>Total_Bathrooms</th>\n",
       "      <th>Age_of_Property</th>\n",
       "      <th>Age_of_Renovation</th>\n",
       "      <th>HasGarage</th>\n",
       "      <th>HasPool</th>\n",
       "      <th>MedianHousePrice</th>\n",
       "    </tr>\n",
       "  </thead>\n",
       "  <tbody>\n",
       "    <tr>\n",
       "      <th>876</th>\n",
       "      <td>2337</td>\n",
       "      <td>20</td>\n",
       "      <td>RL</td>\n",
       "      <td>75.0</td>\n",
       "      <td>9910</td>\n",
       "      <td>Pave</td>\n",
       "      <td>No Alley Access</td>\n",
       "      <td>Reg</td>\n",
       "      <td>Lvl</td>\n",
       "      <td>AllPub</td>\n",
       "      <td>...</td>\n",
       "      <td>2007</td>\n",
       "      <td>New</td>\n",
       "      <td>Partial</td>\n",
       "      <td>2738.0</td>\n",
       "      <td>2.0</td>\n",
       "      <td>3</td>\n",
       "      <td>3</td>\n",
       "      <td>1</td>\n",
       "      <td>0</td>\n",
       "      <td>225500.0</td>\n",
       "    </tr>\n",
       "    <tr>\n",
       "      <th>1139</th>\n",
       "      <td>2600</td>\n",
       "      <td>20</td>\n",
       "      <td>RL</td>\n",
       "      <td>200.0</td>\n",
       "      <td>43500</td>\n",
       "      <td>Pave</td>\n",
       "      <td>No Alley Access</td>\n",
       "      <td>Reg</td>\n",
       "      <td>Lvl</td>\n",
       "      <td>AllPub</td>\n",
       "      <td>...</td>\n",
       "      <td>2007</td>\n",
       "      <td>WD</td>\n",
       "      <td>Normal</td>\n",
       "      <td>2034.0</td>\n",
       "      <td>1.0</td>\n",
       "      <td>57</td>\n",
       "      <td>57</td>\n",
       "      <td>1</td>\n",
       "      <td>0</td>\n",
       "      <td>153500.0</td>\n",
       "    </tr>\n",
       "    <tr>\n",
       "      <th>1007</th>\n",
       "      <td>2468</td>\n",
       "      <td>45</td>\n",
       "      <td>RM</td>\n",
       "      <td>40.0</td>\n",
       "      <td>5680</td>\n",
       "      <td>Pave</td>\n",
       "      <td>Grvl</td>\n",
       "      <td>Reg</td>\n",
       "      <td>Lvl</td>\n",
       "      <td>AllPub</td>\n",
       "      <td>...</td>\n",
       "      <td>2007</td>\n",
       "      <td>WD</td>\n",
       "      <td>AdjLand</td>\n",
       "      <td>1765.0</td>\n",
       "      <td>2.0</td>\n",
       "      <td>109</td>\n",
       "      <td>60</td>\n",
       "      <td>1</td>\n",
       "      <td>0</td>\n",
       "      <td>119000.0</td>\n",
       "    </tr>\n",
       "    <tr>\n",
       "      <th>272</th>\n",
       "      <td>1733</td>\n",
       "      <td>20</td>\n",
       "      <td>RL</td>\n",
       "      <td>0.0</td>\n",
       "      <td>9079</td>\n",
       "      <td>Pave</td>\n",
       "      <td>No Alley Access</td>\n",
       "      <td>IR1</td>\n",
       "      <td>Lvl</td>\n",
       "      <td>AllPub</td>\n",
       "      <td>...</td>\n",
       "      <td>2009</td>\n",
       "      <td>WD</td>\n",
       "      <td>Normal</td>\n",
       "      <td>1728.0</td>\n",
       "      <td>1.0</td>\n",
       "      <td>49</td>\n",
       "      <td>49</td>\n",
       "      <td>1</td>\n",
       "      <td>0</td>\n",
       "      <td>135000.0</td>\n",
       "    </tr>\n",
       "    <tr>\n",
       "      <th>1256</th>\n",
       "      <td>2717</td>\n",
       "      <td>60</td>\n",
       "      <td>FV</td>\n",
       "      <td>114.0</td>\n",
       "      <td>8314</td>\n",
       "      <td>Pave</td>\n",
       "      <td>Pave</td>\n",
       "      <td>IR1</td>\n",
       "      <td>Lvl</td>\n",
       "      <td>AllPub</td>\n",
       "      <td>...</td>\n",
       "      <td>2006</td>\n",
       "      <td>WD</td>\n",
       "      <td>Normal</td>\n",
       "      <td>2263.0</td>\n",
       "      <td>2.5</td>\n",
       "      <td>13</td>\n",
       "      <td>12</td>\n",
       "      <td>1</td>\n",
       "      <td>0</td>\n",
       "      <td>225500.0</td>\n",
       "    </tr>\n",
       "  </tbody>\n",
       "</table>\n",
       "<p>5 rows × 87 columns</p>\n",
       "</div>"
      ],
      "text/plain": [
       "        Id  MSSubClass MSZoning  LotFrontage  LotArea Street            Alley  \\\n",
       "876   2337          20       RL         75.0     9910   Pave  No Alley Access   \n",
       "1139  2600          20       RL        200.0    43500   Pave  No Alley Access   \n",
       "1007  2468          45       RM         40.0     5680   Pave             Grvl   \n",
       "272   1733          20       RL          0.0     9079   Pave  No Alley Access   \n",
       "1256  2717          60       FV        114.0     8314   Pave             Pave   \n",
       "\n",
       "     LotShape LandContour Utilities  ... YrSold SaleType SaleCondition  \\\n",
       "876       Reg         Lvl    AllPub  ...   2007      New       Partial   \n",
       "1139      Reg         Lvl    AllPub  ...   2007       WD        Normal   \n",
       "1007      Reg         Lvl    AllPub  ...   2007       WD       AdjLand   \n",
       "272       IR1         Lvl    AllPub  ...   2009       WD        Normal   \n",
       "1256      IR1         Lvl    AllPub  ...   2006       WD        Normal   \n",
       "\n",
       "     Total_Area Total_Bathrooms Age_of_Property Age_of_Renovation  HasGarage  \\\n",
       "876      2738.0             2.0               3                 3          1   \n",
       "1139     2034.0             1.0              57                57          1   \n",
       "1007     1765.0             2.0             109                60          1   \n",
       "272      1728.0             1.0              49                49          1   \n",
       "1256     2263.0             2.5              13                12          1   \n",
       "\n",
       "      HasPool  MedianHousePrice  \n",
       "876         0          225500.0  \n",
       "1139        0          153500.0  \n",
       "1007        0          119000.0  \n",
       "272         0          135000.0  \n",
       "1256        0          225500.0  \n",
       "\n",
       "[5 rows x 87 columns]"
      ]
     },
     "execution_count": 123,
     "metadata": {},
     "output_type": "execute_result"
    }
   ],
   "source": [
    "df_test = pd.merge(df_test, neighborhood_median_price, on='Neighborhood', how='left')\n",
    "df_test.sample(5)"
   ]
  },
  {
   "cell_type": "code",
   "execution_count": null,
   "id": "a1c420a0-4a20-4915-b12b-ab3a511d5900",
   "metadata": {},
   "outputs": [],
   "source": []
  },
  {
   "cell_type": "code",
   "execution_count": 124,
   "id": "b05ef20a-a203-4a73-89ab-a326dd13fe1e",
   "metadata": {
    "tags": []
   },
   "outputs": [],
   "source": [
    "df_test['BsmtFinType1'] = df_test['BsmtFinType1'].map(bsmt_fintype_mapping)\n",
    "df_test['BsmtFinType2'] = df_test['BsmtFinType2'].map(bsmt_fintype_mapping)"
   ]
  },
  {
   "cell_type": "code",
   "execution_count": 125,
   "id": "191c2014-2168-4ba7-880a-b1861fecb67a",
   "metadata": {
    "tags": []
   },
   "outputs": [],
   "source": [
    "df_test['BsmtFinGrade'] = (df_test['BsmtFinType1'] * df_test.BsmtFinSF1 / df_test.TotalBsmtSF) + \\\n",
    "                            (df_test['BsmtFinType2'] * df_test.BsmtFinSF2 / df_test.TotalBsmtSF) + \\\n",
    "                            (df_test['BsmtFinType1'] * df_test.BsmtUnfSF / df_test.TotalBsmtSF)"
   ]
  },
  {
   "cell_type": "code",
   "execution_count": 126,
   "id": "da657713-4da7-4464-93ea-8cb65011f61d",
   "metadata": {
    "tags": []
   },
   "outputs": [],
   "source": [
    "df_test['BsmtFinGrade'].fillna(0.0, inplace=True)"
   ]
  },
  {
   "cell_type": "code",
   "execution_count": 127,
   "id": "1bca90d2-8b54-4e2c-8f11-657f07b7652b",
   "metadata": {
    "tags": []
   },
   "outputs": [],
   "source": [
    "df_test['BsmtQual'] = df_test['BsmtQual'].map(bsmt_qual_mapping)\n",
    "df_test['BsmtCond'] = df_test['BsmtCond'].map(bsmt_cond_mapping)\n",
    "df_test['BsmtExposure'] = df_test['BsmtExposure'].map(bsmt_exposure_mapping)"
   ]
  },
  {
   "cell_type": "code",
   "execution_count": 128,
   "id": "8c392c28-f922-4657-89c1-1337f40313ea",
   "metadata": {
    "tags": []
   },
   "outputs": [],
   "source": [
    "df_test['BsmtOverallGrade'] = df_test['BsmtQual'] + df_test['BsmtCond'] + df_test['BsmtExposure'] + df_test['BsmtFinGrade']"
   ]
  },
  {
   "cell_type": "code",
   "execution_count": 129,
   "id": "37b4af95-3e6a-46ed-b53c-8579ff5dd021",
   "metadata": {
    "tags": []
   },
   "outputs": [],
   "source": [
    "terrace_columns = ['WoodDeckSF', 'OpenPorchSF', 'EnclosedPorch', '3SsnPorch', 'ScreenPorch']\n",
    "terrace_weights = [1, 1, 2, 2, 2]\n",
    "\n",
    "df_test['Terrace_Grade'] = (df_test[terrace_columns[0]] * terrace_weights[0] +\n",
    "                            df_test[terrace_columns[1]] * terrace_weights[1] +\n",
    "                             df_test[terrace_columns[2]] * terrace_weights[2] +\n",
    "                             df_test[terrace_columns[3]] * terrace_weights[3] +\n",
    "                             df_test[terrace_columns[4]] * terrace_weights[4])"
   ]
  },
  {
   "cell_type": "code",
   "execution_count": 130,
   "id": "5aed5343-5ae4-4048-85a9-cb5b2229a5a7",
   "metadata": {
    "tags": []
   },
   "outputs": [],
   "source": [
    "columns_to_use_v1_test = ['BsmtOverallGrade', 'Terrace_Grade', 'ExterCond', 'KitchenQual', 'OverallQual', 'OverallCond','LotArea', \n",
    "                     'Total_Area', 'Total_Bathrooms', 'GarageArea', 'TotRmsAbvGrd','Age_of_Property', 'Age_of_Renovation', \n",
    "                     'MoSold', 'YrSold', 'SaleCondition','MSZoning', 'MedianHousePrice', 'Condition1', 'HouseStyle']"
   ]
  },
  {
   "cell_type": "code",
   "execution_count": 131,
   "id": "b3eee94e-e2e0-4030-90fe-eddcdc51dc6a",
   "metadata": {
    "tags": []
   },
   "outputs": [],
   "source": [
    "df_test_2 = df_test[columns_to_use_v1_test]"
   ]
  },
  {
   "cell_type": "code",
   "execution_count": 132,
   "id": "e90c3045-ac6f-4cca-856b-47619b9f31ee",
   "metadata": {
    "tags": []
   },
   "outputs": [],
   "source": [
    "df_encoded_test = pd.get_dummies(df_test_2[nominal_categories], columns=nominal_categories)"
   ]
  },
  {
   "cell_type": "code",
   "execution_count": 133,
   "id": "0771086f-0623-437b-b135-2c6e3e49bedb",
   "metadata": {
    "tags": []
   },
   "outputs": [],
   "source": [
    "df_test_2.drop(columns=nominal_categories, inplace=True)"
   ]
  },
  {
   "cell_type": "code",
   "execution_count": 134,
   "id": "73ea2cb3-5c78-4e12-90e5-043d4cfd5b70",
   "metadata": {
    "tags": []
   },
   "outputs": [],
   "source": [
    "df_test_3 = pd.concat([df_test_2, df_encoded_test], axis=1)"
   ]
  },
  {
   "cell_type": "code",
   "execution_count": 135,
   "id": "2cec3f03-9193-4ab3-9e51-061c4c42f1f5",
   "metadata": {
    "tags": []
   },
   "outputs": [],
   "source": [
    "df_test_3['ExterCond'] = df_test_3['ExterCond'].map(ordinal_mapping)"
   ]
  },
  {
   "cell_type": "code",
   "execution_count": 136,
   "id": "cd76d441-1429-4c17-94b4-88e2c65c12cd",
   "metadata": {
    "tags": []
   },
   "outputs": [],
   "source": [
    "df_test_3['KitchenQual'] = df_test_3['KitchenQual'].map(ordinal_mapping)"
   ]
  },
  {
   "cell_type": "code",
   "execution_count": null,
   "id": "f3dcecc5-e0fa-4ac8-9245-b865f3472fa3",
   "metadata": {},
   "outputs": [],
   "source": []
  },
  {
   "cell_type": "code",
   "execution_count": 137,
   "id": "2e46f4b7-2847-45ab-a6a4-efd9416ec0af",
   "metadata": {
    "tags": []
   },
   "outputs": [
    {
     "data": {
      "text/plain": [
       "True"
      ]
     },
     "execution_count": 137,
     "metadata": {},
     "output_type": "execute_result"
    }
   ],
   "source": [
    "set(df_test_3.columns) == set(X.columns)"
   ]
  },
  {
   "cell_type": "code",
   "execution_count": 166,
   "id": "ae7d252c-c887-491e-beb2-45ed0bed37e5",
   "metadata": {
    "tags": []
   },
   "outputs": [],
   "source": [
    "X_test_gercek = df_test_3.copy()"
   ]
  },
  {
   "cell_type": "code",
   "execution_count": 167,
   "id": "a53de634-cb5c-450b-8194-16681f27fd94",
   "metadata": {
    "tags": []
   },
   "outputs": [
    {
     "data": {
      "text/plain": [
       "(1459, 43)"
      ]
     },
     "execution_count": 167,
     "metadata": {},
     "output_type": "execute_result"
    }
   ],
   "source": [
    "X_test_gercek.shape"
   ]
  },
  {
   "cell_type": "code",
   "execution_count": null,
   "id": "a023e1de-14f9-437e-861a-b0b8e1883089",
   "metadata": {},
   "outputs": [],
   "source": []
  },
  {
   "cell_type": "code",
   "execution_count": null,
   "id": "8160ead0-44a0-40c1-9247-f395c6a73b62",
   "metadata": {},
   "outputs": [],
   "source": []
  },
  {
   "cell_type": "code",
   "execution_count": 168,
   "id": "deed44c9-faad-4a27-bc46-eaffb98a32c3",
   "metadata": {
    "tags": []
   },
   "outputs": [
    {
     "name": "stdout",
     "output_type": "stream",
     "text": [
      "X Shape is :(1408, 43)\n",
      "y Shape is :(1408,)\n",
      "X_test_gercek Shape is :(1459, 43)\n"
     ]
    }
   ],
   "source": [
    "print(f\"X Shape is :{X.shape}\")\n",
    "print(f\"y Shape is :{y.shape}\")\n",
    "print(f\"X_test_gercek Shape is :{X_test_gercek.shape}\")"
   ]
  },
  {
   "cell_type": "markdown",
   "id": "ff8819ad-f39b-4923-a581-d138c05cb953",
   "metadata": {
    "tags": []
   },
   "source": [
    "# Linear Regression"
   ]
  },
  {
   "cell_type": "code",
   "execution_count": 163,
   "id": "c790cfa0-c72f-4734-bb9b-d2ccf996e8c6",
   "metadata": {
    "tags": []
   },
   "outputs": [],
   "source": [
    "from sklearn.model_selection import train_test_split"
   ]
  },
  {
   "cell_type": "code",
   "execution_count": 544,
   "id": "93dae8c3-1960-4563-b355-129898e7377a",
   "metadata": {
    "tags": []
   },
   "outputs": [
    {
     "name": "stdout",
     "output_type": "stream",
     "text": [
      "(1408,)\n",
      "(1408, 43)\n"
     ]
    }
   ],
   "source": [
    "print(y.shape)\n",
    "print(X.shape)"
   ]
  },
  {
   "cell_type": "code",
   "execution_count": 545,
   "id": "15ebf1a1-3dae-4205-885c-3bc139c714d8",
   "metadata": {
    "tags": []
   },
   "outputs": [],
   "source": [
    "X_train, X_test, y_train, y_test = train_test_split(X, y, test_size=0.2, random_state=42)"
   ]
  },
  {
   "cell_type": "code",
   "execution_count": 546,
   "id": "ebfc0627-e291-4287-a3a4-03fa0ba437c4",
   "metadata": {
    "tags": []
   },
   "outputs": [
    {
     "name": "stdout",
     "output_type": "stream",
     "text": [
      "1126\n",
      "1126\n",
      "282\n",
      "282\n"
     ]
    }
   ],
   "source": [
    "print(len(X_train))\n",
    "print(len(y_train))\n",
    "print(len(X_test))\n",
    "print(len(y_test))"
   ]
  },
  {
   "cell_type": "code",
   "execution_count": null,
   "id": "8a5bb9f0-4ace-4330-99df-4483a45ad5f2",
   "metadata": {},
   "outputs": [],
   "source": []
  },
  {
   "cell_type": "code",
   "execution_count": 149,
   "id": "559c30fb-1d9d-4b3c-8ac3-a0f2c06e1fda",
   "metadata": {
    "tags": []
   },
   "outputs": [],
   "source": [
    "from sklearn.linear_model import LinearRegression \n",
    "from sklearn.model_selection import cross_val_score\n",
    "from sklearn.metrics import mean_squared_error"
   ]
  },
  {
   "cell_type": "code",
   "execution_count": 548,
   "id": "ad85a0f6-ff1f-49ac-85b5-b1deca11e340",
   "metadata": {
    "tags": []
   },
   "outputs": [],
   "source": [
    "# Lets instantiate the model\n",
    "model = LinearRegression()"
   ]
  },
  {
   "cell_type": "code",
   "execution_count": 549,
   "id": "8d7b9b75-1b1a-46f9-a0bb-c0559a44ea27",
   "metadata": {
    "tags": []
   },
   "outputs": [
    {
     "data": {
      "text/html": [
       "<style>#sk-container-id-3 {color: black;}#sk-container-id-3 pre{padding: 0;}#sk-container-id-3 div.sk-toggleable {background-color: white;}#sk-container-id-3 label.sk-toggleable__label {cursor: pointer;display: block;width: 100%;margin-bottom: 0;padding: 0.3em;box-sizing: border-box;text-align: center;}#sk-container-id-3 label.sk-toggleable__label-arrow:before {content: \"▸\";float: left;margin-right: 0.25em;color: #696969;}#sk-container-id-3 label.sk-toggleable__label-arrow:hover:before {color: black;}#sk-container-id-3 div.sk-estimator:hover label.sk-toggleable__label-arrow:before {color: black;}#sk-container-id-3 div.sk-toggleable__content {max-height: 0;max-width: 0;overflow: hidden;text-align: left;background-color: #f0f8ff;}#sk-container-id-3 div.sk-toggleable__content pre {margin: 0.2em;color: black;border-radius: 0.25em;background-color: #f0f8ff;}#sk-container-id-3 input.sk-toggleable__control:checked~div.sk-toggleable__content {max-height: 200px;max-width: 100%;overflow: auto;}#sk-container-id-3 input.sk-toggleable__control:checked~label.sk-toggleable__label-arrow:before {content: \"▾\";}#sk-container-id-3 div.sk-estimator input.sk-toggleable__control:checked~label.sk-toggleable__label {background-color: #d4ebff;}#sk-container-id-3 div.sk-label input.sk-toggleable__control:checked~label.sk-toggleable__label {background-color: #d4ebff;}#sk-container-id-3 input.sk-hidden--visually {border: 0;clip: rect(1px 1px 1px 1px);clip: rect(1px, 1px, 1px, 1px);height: 1px;margin: -1px;overflow: hidden;padding: 0;position: absolute;width: 1px;}#sk-container-id-3 div.sk-estimator {font-family: monospace;background-color: #f0f8ff;border: 1px dotted black;border-radius: 0.25em;box-sizing: border-box;margin-bottom: 0.5em;}#sk-container-id-3 div.sk-estimator:hover {background-color: #d4ebff;}#sk-container-id-3 div.sk-parallel-item::after {content: \"\";width: 100%;border-bottom: 1px solid gray;flex-grow: 1;}#sk-container-id-3 div.sk-label:hover label.sk-toggleable__label {background-color: #d4ebff;}#sk-container-id-3 div.sk-serial::before {content: \"\";position: absolute;border-left: 1px solid gray;box-sizing: border-box;top: 0;bottom: 0;left: 50%;z-index: 0;}#sk-container-id-3 div.sk-serial {display: flex;flex-direction: column;align-items: center;background-color: white;padding-right: 0.2em;padding-left: 0.2em;position: relative;}#sk-container-id-3 div.sk-item {position: relative;z-index: 1;}#sk-container-id-3 div.sk-parallel {display: flex;align-items: stretch;justify-content: center;background-color: white;position: relative;}#sk-container-id-3 div.sk-item::before, #sk-container-id-3 div.sk-parallel-item::before {content: \"\";position: absolute;border-left: 1px solid gray;box-sizing: border-box;top: 0;bottom: 0;left: 50%;z-index: -1;}#sk-container-id-3 div.sk-parallel-item {display: flex;flex-direction: column;z-index: 1;position: relative;background-color: white;}#sk-container-id-3 div.sk-parallel-item:first-child::after {align-self: flex-end;width: 50%;}#sk-container-id-3 div.sk-parallel-item:last-child::after {align-self: flex-start;width: 50%;}#sk-container-id-3 div.sk-parallel-item:only-child::after {width: 0;}#sk-container-id-3 div.sk-dashed-wrapped {border: 1px dashed gray;margin: 0 0.4em 0.5em 0.4em;box-sizing: border-box;padding-bottom: 0.4em;background-color: white;}#sk-container-id-3 div.sk-label label {font-family: monospace;font-weight: bold;display: inline-block;line-height: 1.2em;}#sk-container-id-3 div.sk-label-container {text-align: center;}#sk-container-id-3 div.sk-container {/* jupyter's `normalize.less` sets `[hidden] { display: none; }` but bootstrap.min.css set `[hidden] { display: none !important; }` so we also need the `!important` here to be able to override the default hidden behavior on the sphinx rendered scikit-learn.org. See: https://github.com/scikit-learn/scikit-learn/issues/21755 */display: inline-block !important;position: relative;}#sk-container-id-3 div.sk-text-repr-fallback {display: none;}</style><div id=\"sk-container-id-3\" class=\"sk-top-container\"><div class=\"sk-text-repr-fallback\"><pre>LinearRegression()</pre><b>In a Jupyter environment, please rerun this cell to show the HTML representation or trust the notebook. <br />On GitHub, the HTML representation is unable to render, please try loading this page with nbviewer.org.</b></div><div class=\"sk-container\" hidden><div class=\"sk-item\"><div class=\"sk-estimator sk-toggleable\"><input class=\"sk-toggleable__control sk-hidden--visually\" id=\"sk-estimator-id-3\" type=\"checkbox\" checked><label for=\"sk-estimator-id-3\" class=\"sk-toggleable__label sk-toggleable__label-arrow\">LinearRegression</label><div class=\"sk-toggleable__content\"><pre>LinearRegression()</pre></div></div></div></div></div>"
      ],
      "text/plain": [
       "LinearRegression()"
      ]
     },
     "execution_count": 549,
     "metadata": {},
     "output_type": "execute_result"
    }
   ],
   "source": [
    "# Lets train the model\n",
    "model.fit(X_train, y_train)"
   ]
  },
  {
   "cell_type": "markdown",
   "id": "3e5caba7-337e-40a3-9941-e023a18471e7",
   "metadata": {
    "tags": []
   },
   "source": [
    "## Cross Validation"
   ]
  },
  {
   "cell_type": "code",
   "execution_count": 550,
   "id": "fff87224-b6cd-42c2-8fba-bdc1febaa6eb",
   "metadata": {
    "tags": []
   },
   "outputs": [],
   "source": [
    "cv_scores = cross_val_score(model, X_train, y_train, cv=5, scoring='neg_mean_squared_error')\n",
    "rmse_scores = np.sqrt(-cv_scores)"
   ]
  },
  {
   "cell_type": "code",
   "execution_count": 551,
   "id": "59536305-a34f-4a90-b4e5-31cd40f3f661",
   "metadata": {
    "tags": []
   },
   "outputs": [
    {
     "name": "stdout",
     "output_type": "stream",
     "text": [
      "Cross-Validation RMSE Scores: [0.12536683 0.13128444 0.10536382 0.10931124 0.12065442]\n",
      "Mean RMSE: 0.11839614955267148\n"
     ]
    }
   ],
   "source": [
    "print(f'Cross-Validation RMSE Scores: {rmse_scores}')\n",
    "print(f'Mean RMSE: {rmse_scores.mean()}')"
   ]
  },
  {
   "cell_type": "markdown",
   "id": "88827ece-a121-4617-a461-32561908bfc6",
   "metadata": {},
   "source": [
    "## Make Predictions"
   ]
  },
  {
   "cell_type": "code",
   "execution_count": 584,
   "id": "206b65d4-1f94-4e56-a606-9a91ac803010",
   "metadata": {
    "tags": []
   },
   "outputs": [],
   "source": [
    "y_pred = model.predict(X_test)"
   ]
  },
  {
   "cell_type": "code",
   "execution_count": 585,
   "id": "10fac380-2262-4fbe-a4d3-07aebbbc11b6",
   "metadata": {
    "tags": []
   },
   "outputs": [
    {
     "data": {
      "text/plain": [
       "array([11.67890568, 12.01330201, 12.04162164, ..., 12.04109768,\n",
       "       11.7212861 , 12.23327804])"
      ]
     },
     "execution_count": 585,
     "metadata": {},
     "output_type": "execute_result"
    }
   ],
   "source": [
    "y_pred"
   ]
  },
  {
   "cell_type": "code",
   "execution_count": null,
   "id": "ac96cfad-83ca-4510-9aff-e20350aa1587",
   "metadata": {},
   "outputs": [],
   "source": []
  },
  {
   "cell_type": "code",
   "execution_count": 586,
   "id": "39bc77fe-0f1e-4465-9ebf-6ead08cdd989",
   "metadata": {
    "tags": []
   },
   "outputs": [
    {
     "data": {
      "text/plain": [
       "array([118054.97468923, 164934.22025757, 169671.86482776, ...,\n",
       "       169582.98646572, 123165.72636614, 205515.76859394])"
      ]
     },
     "execution_count": 586,
     "metadata": {},
     "output_type": "execute_result"
    }
   ],
   "source": [
    "predicted_prices = np.exp(y_pred)\n",
    "predicted_prices"
   ]
  },
  {
   "cell_type": "code",
   "execution_count": 162,
   "id": "8598da0a-be6a-4f23-9a74-7f7132089363",
   "metadata": {},
   "outputs": [
    {
     "ename": "NameError",
     "evalue": "name 'predicted_prices' is not defined",
     "output_type": "error",
     "traceback": [
      "\u001b[1;31m---------------------------------------------------------------------------\u001b[0m",
      "\u001b[1;31mNameError\u001b[0m                                 Traceback (most recent call last)",
      "Cell \u001b[1;32mIn[162], line 1\u001b[0m\n\u001b[1;32m----> 1\u001b[0m \u001b[38;5;28mlen\u001b[39m(\u001b[43mpredicted_prices\u001b[49m)\n",
      "\u001b[1;31mNameError\u001b[0m: name 'predicted_prices' is not defined"
     ]
    }
   ],
   "source": [
    "len(predicted_prices)"
   ]
  },
  {
   "cell_type": "code",
   "execution_count": null,
   "id": "2612449d-3611-4f7f-9d46-5942cd7200b5",
   "metadata": {},
   "outputs": [],
   "source": []
  },
  {
   "cell_type": "markdown",
   "id": "ee49f72e-3df1-457e-810a-9fa5cdc48146",
   "metadata": {},
   "source": [
    "# XGBOoost "
   ]
  },
  {
   "cell_type": "code",
   "execution_count": 150,
   "id": "064a5e3c-7ad3-43e5-91f8-3585a2cf3b29",
   "metadata": {},
   "outputs": [],
   "source": [
    "import xgboost as xgb"
   ]
  },
  {
   "cell_type": "code",
   "execution_count": 165,
   "id": "44f77a51-afd0-4dbc-8bae-66848dcacf42",
   "metadata": {
    "tags": []
   },
   "outputs": [
    {
     "data": {
      "text/plain": [
       "(1408,)"
      ]
     },
     "execution_count": 165,
     "metadata": {},
     "output_type": "execute_result"
    }
   ],
   "source": [
    "y.shape"
   ]
  },
  {
   "cell_type": "code",
   "execution_count": 151,
   "id": "1a7fa56c-d559-489b-9b67-3fd91195f95c",
   "metadata": {},
   "outputs": [],
   "source": [
    "X_train, X_test, y_train, y_test = train_test_split(X, y, test_size=0.2, random_state=42)"
   ]
  },
  {
   "cell_type": "code",
   "execution_count": 161,
   "id": "76550273-ae60-4aa9-aa07-170214e1cdf3",
   "metadata": {
    "tags": []
   },
   "outputs": [
    {
     "name": "stdout",
     "output_type": "stream",
     "text": [
      "1126\n",
      "1126\n",
      "282\n",
      "282\n"
     ]
    }
   ],
   "source": [
    "print(len(X_train))\n",
    "print(len(y_train))\n",
    "print(len(X_test))\n",
    "print(len(y_test))"
   ]
  },
  {
   "cell_type": "code",
   "execution_count": 152,
   "id": "caeed884-661e-472e-8372-63438884028c",
   "metadata": {},
   "outputs": [
    {
     "data": {
      "text/html": [
       "<style>#sk-container-id-1 {color: black;}#sk-container-id-1 pre{padding: 0;}#sk-container-id-1 div.sk-toggleable {background-color: white;}#sk-container-id-1 label.sk-toggleable__label {cursor: pointer;display: block;width: 100%;margin-bottom: 0;padding: 0.3em;box-sizing: border-box;text-align: center;}#sk-container-id-1 label.sk-toggleable__label-arrow:before {content: \"▸\";float: left;margin-right: 0.25em;color: #696969;}#sk-container-id-1 label.sk-toggleable__label-arrow:hover:before {color: black;}#sk-container-id-1 div.sk-estimator:hover label.sk-toggleable__label-arrow:before {color: black;}#sk-container-id-1 div.sk-toggleable__content {max-height: 0;max-width: 0;overflow: hidden;text-align: left;background-color: #f0f8ff;}#sk-container-id-1 div.sk-toggleable__content pre {margin: 0.2em;color: black;border-radius: 0.25em;background-color: #f0f8ff;}#sk-container-id-1 input.sk-toggleable__control:checked~div.sk-toggleable__content {max-height: 200px;max-width: 100%;overflow: auto;}#sk-container-id-1 input.sk-toggleable__control:checked~label.sk-toggleable__label-arrow:before {content: \"▾\";}#sk-container-id-1 div.sk-estimator input.sk-toggleable__control:checked~label.sk-toggleable__label {background-color: #d4ebff;}#sk-container-id-1 div.sk-label input.sk-toggleable__control:checked~label.sk-toggleable__label {background-color: #d4ebff;}#sk-container-id-1 input.sk-hidden--visually {border: 0;clip: rect(1px 1px 1px 1px);clip: rect(1px, 1px, 1px, 1px);height: 1px;margin: -1px;overflow: hidden;padding: 0;position: absolute;width: 1px;}#sk-container-id-1 div.sk-estimator {font-family: monospace;background-color: #f0f8ff;border: 1px dotted black;border-radius: 0.25em;box-sizing: border-box;margin-bottom: 0.5em;}#sk-container-id-1 div.sk-estimator:hover {background-color: #d4ebff;}#sk-container-id-1 div.sk-parallel-item::after {content: \"\";width: 100%;border-bottom: 1px solid gray;flex-grow: 1;}#sk-container-id-1 div.sk-label:hover label.sk-toggleable__label {background-color: #d4ebff;}#sk-container-id-1 div.sk-serial::before {content: \"\";position: absolute;border-left: 1px solid gray;box-sizing: border-box;top: 0;bottom: 0;left: 50%;z-index: 0;}#sk-container-id-1 div.sk-serial {display: flex;flex-direction: column;align-items: center;background-color: white;padding-right: 0.2em;padding-left: 0.2em;position: relative;}#sk-container-id-1 div.sk-item {position: relative;z-index: 1;}#sk-container-id-1 div.sk-parallel {display: flex;align-items: stretch;justify-content: center;background-color: white;position: relative;}#sk-container-id-1 div.sk-item::before, #sk-container-id-1 div.sk-parallel-item::before {content: \"\";position: absolute;border-left: 1px solid gray;box-sizing: border-box;top: 0;bottom: 0;left: 50%;z-index: -1;}#sk-container-id-1 div.sk-parallel-item {display: flex;flex-direction: column;z-index: 1;position: relative;background-color: white;}#sk-container-id-1 div.sk-parallel-item:first-child::after {align-self: flex-end;width: 50%;}#sk-container-id-1 div.sk-parallel-item:last-child::after {align-self: flex-start;width: 50%;}#sk-container-id-1 div.sk-parallel-item:only-child::after {width: 0;}#sk-container-id-1 div.sk-dashed-wrapped {border: 1px dashed gray;margin: 0 0.4em 0.5em 0.4em;box-sizing: border-box;padding-bottom: 0.4em;background-color: white;}#sk-container-id-1 div.sk-label label {font-family: monospace;font-weight: bold;display: inline-block;line-height: 1.2em;}#sk-container-id-1 div.sk-label-container {text-align: center;}#sk-container-id-1 div.sk-container {/* jupyter's `normalize.less` sets `[hidden] { display: none; }` but bootstrap.min.css set `[hidden] { display: none !important; }` so we also need the `!important` here to be able to override the default hidden behavior on the sphinx rendered scikit-learn.org. See: https://github.com/scikit-learn/scikit-learn/issues/21755 */display: inline-block !important;position: relative;}#sk-container-id-1 div.sk-text-repr-fallback {display: none;}</style><div id=\"sk-container-id-1\" class=\"sk-top-container\"><div class=\"sk-text-repr-fallback\"><pre>XGBRegressor(alpha=10, base_score=None, booster=None, callbacks=None,\n",
       "             colsample_bylevel=None, colsample_bynode=None,\n",
       "             colsample_bytree=0.3, device=None, early_stopping_rounds=None,\n",
       "             enable_categorical=False, eval_metric=None, feature_types=None,\n",
       "             gamma=None, grow_policy=None, importance_type=None,\n",
       "             interaction_constraints=None, learning_rate=0.1, max_bin=None,\n",
       "             max_cat_threshold=None, max_cat_to_onehot=None,\n",
       "             max_delta_step=None, max_depth=5, max_leaves=None,\n",
       "             min_child_weight=None, missing=nan, monotone_constraints=None,\n",
       "             multi_strategy=None, n_estimators=10, n_jobs=None,\n",
       "             num_parallel_tree=None, ...)</pre><b>In a Jupyter environment, please rerun this cell to show the HTML representation or trust the notebook. <br />On GitHub, the HTML representation is unable to render, please try loading this page with nbviewer.org.</b></div><div class=\"sk-container\" hidden><div class=\"sk-item\"><div class=\"sk-estimator sk-toggleable\"><input class=\"sk-toggleable__control sk-hidden--visually\" id=\"sk-estimator-id-1\" type=\"checkbox\" checked><label for=\"sk-estimator-id-1\" class=\"sk-toggleable__label sk-toggleable__label-arrow\">XGBRegressor</label><div class=\"sk-toggleable__content\"><pre>XGBRegressor(alpha=10, base_score=None, booster=None, callbacks=None,\n",
       "             colsample_bylevel=None, colsample_bynode=None,\n",
       "             colsample_bytree=0.3, device=None, early_stopping_rounds=None,\n",
       "             enable_categorical=False, eval_metric=None, feature_types=None,\n",
       "             gamma=None, grow_policy=None, importance_type=None,\n",
       "             interaction_constraints=None, learning_rate=0.1, max_bin=None,\n",
       "             max_cat_threshold=None, max_cat_to_onehot=None,\n",
       "             max_delta_step=None, max_depth=5, max_leaves=None,\n",
       "             min_child_weight=None, missing=nan, monotone_constraints=None,\n",
       "             multi_strategy=None, n_estimators=10, n_jobs=None,\n",
       "             num_parallel_tree=None, ...)</pre></div></div></div></div></div>"
      ],
      "text/plain": [
       "XGBRegressor(alpha=10, base_score=None, booster=None, callbacks=None,\n",
       "             colsample_bylevel=None, colsample_bynode=None,\n",
       "             colsample_bytree=0.3, device=None, early_stopping_rounds=None,\n",
       "             enable_categorical=False, eval_metric=None, feature_types=None,\n",
       "             gamma=None, grow_policy=None, importance_type=None,\n",
       "             interaction_constraints=None, learning_rate=0.1, max_bin=None,\n",
       "             max_cat_threshold=None, max_cat_to_onehot=None,\n",
       "             max_delta_step=None, max_depth=5, max_leaves=None,\n",
       "             min_child_weight=None, missing=nan, monotone_constraints=None,\n",
       "             multi_strategy=None, n_estimators=10, n_jobs=None,\n",
       "             num_parallel_tree=None, ...)"
      ]
     },
     "execution_count": 152,
     "metadata": {},
     "output_type": "execute_result"
    }
   ],
   "source": [
    "xg_reg = xgb.XGBRegressor(objective ='reg:squarederror', colsample_bytree = 0.3, learning_rate = 0.1,\n",
    "                          max_depth = 5, alpha = 10, n_estimators = 10)\n",
    "xg_reg.fit(X_train, y_train)"
   ]
  },
  {
   "cell_type": "code",
   "execution_count": 153,
   "id": "a1b9fb02-6531-49c8-82de-a69c5b4568b4",
   "metadata": {},
   "outputs": [],
   "source": [
    "y_pred = xg_reg.predict(X_test)"
   ]
  },
  {
   "cell_type": "code",
   "execution_count": 154,
   "id": "03aeb382-28e5-40af-935b-035a168caa6a",
   "metadata": {},
   "outputs": [
    {
     "name": "stdout",
     "output_type": "stream",
     "text": [
      "RMSE: 0.2597749166152658\n"
     ]
    }
   ],
   "source": [
    "rmse = np.sqrt(mean_squared_error(y_test, y_pred))\n",
    "print(\"RMSE:\", rmse)\n"
   ]
  },
  {
   "cell_type": "code",
   "execution_count": 155,
   "id": "f645c355-d096-4cb9-9326-f93b794f93a1",
   "metadata": {
    "tags": []
   },
   "outputs": [
    {
     "name": "stdout",
     "output_type": "stream",
     "text": [
      "Fitting 5 folds for each of 81 candidates, totalling 405 fits\n"
     ]
    },
    {
     "data": {
      "text/html": [
       "<style>#sk-container-id-2 {color: black;}#sk-container-id-2 pre{padding: 0;}#sk-container-id-2 div.sk-toggleable {background-color: white;}#sk-container-id-2 label.sk-toggleable__label {cursor: pointer;display: block;width: 100%;margin-bottom: 0;padding: 0.3em;box-sizing: border-box;text-align: center;}#sk-container-id-2 label.sk-toggleable__label-arrow:before {content: \"▸\";float: left;margin-right: 0.25em;color: #696969;}#sk-container-id-2 label.sk-toggleable__label-arrow:hover:before {color: black;}#sk-container-id-2 div.sk-estimator:hover label.sk-toggleable__label-arrow:before {color: black;}#sk-container-id-2 div.sk-toggleable__content {max-height: 0;max-width: 0;overflow: hidden;text-align: left;background-color: #f0f8ff;}#sk-container-id-2 div.sk-toggleable__content pre {margin: 0.2em;color: black;border-radius: 0.25em;background-color: #f0f8ff;}#sk-container-id-2 input.sk-toggleable__control:checked~div.sk-toggleable__content {max-height: 200px;max-width: 100%;overflow: auto;}#sk-container-id-2 input.sk-toggleable__control:checked~label.sk-toggleable__label-arrow:before {content: \"▾\";}#sk-container-id-2 div.sk-estimator input.sk-toggleable__control:checked~label.sk-toggleable__label {background-color: #d4ebff;}#sk-container-id-2 div.sk-label input.sk-toggleable__control:checked~label.sk-toggleable__label {background-color: #d4ebff;}#sk-container-id-2 input.sk-hidden--visually {border: 0;clip: rect(1px 1px 1px 1px);clip: rect(1px, 1px, 1px, 1px);height: 1px;margin: -1px;overflow: hidden;padding: 0;position: absolute;width: 1px;}#sk-container-id-2 div.sk-estimator {font-family: monospace;background-color: #f0f8ff;border: 1px dotted black;border-radius: 0.25em;box-sizing: border-box;margin-bottom: 0.5em;}#sk-container-id-2 div.sk-estimator:hover {background-color: #d4ebff;}#sk-container-id-2 div.sk-parallel-item::after {content: \"\";width: 100%;border-bottom: 1px solid gray;flex-grow: 1;}#sk-container-id-2 div.sk-label:hover label.sk-toggleable__label {background-color: #d4ebff;}#sk-container-id-2 div.sk-serial::before {content: \"\";position: absolute;border-left: 1px solid gray;box-sizing: border-box;top: 0;bottom: 0;left: 50%;z-index: 0;}#sk-container-id-2 div.sk-serial {display: flex;flex-direction: column;align-items: center;background-color: white;padding-right: 0.2em;padding-left: 0.2em;position: relative;}#sk-container-id-2 div.sk-item {position: relative;z-index: 1;}#sk-container-id-2 div.sk-parallel {display: flex;align-items: stretch;justify-content: center;background-color: white;position: relative;}#sk-container-id-2 div.sk-item::before, #sk-container-id-2 div.sk-parallel-item::before {content: \"\";position: absolute;border-left: 1px solid gray;box-sizing: border-box;top: 0;bottom: 0;left: 50%;z-index: -1;}#sk-container-id-2 div.sk-parallel-item {display: flex;flex-direction: column;z-index: 1;position: relative;background-color: white;}#sk-container-id-2 div.sk-parallel-item:first-child::after {align-self: flex-end;width: 50%;}#sk-container-id-2 div.sk-parallel-item:last-child::after {align-self: flex-start;width: 50%;}#sk-container-id-2 div.sk-parallel-item:only-child::after {width: 0;}#sk-container-id-2 div.sk-dashed-wrapped {border: 1px dashed gray;margin: 0 0.4em 0.5em 0.4em;box-sizing: border-box;padding-bottom: 0.4em;background-color: white;}#sk-container-id-2 div.sk-label label {font-family: monospace;font-weight: bold;display: inline-block;line-height: 1.2em;}#sk-container-id-2 div.sk-label-container {text-align: center;}#sk-container-id-2 div.sk-container {/* jupyter's `normalize.less` sets `[hidden] { display: none; }` but bootstrap.min.css set `[hidden] { display: none !important; }` so we also need the `!important` here to be able to override the default hidden behavior on the sphinx rendered scikit-learn.org. See: https://github.com/scikit-learn/scikit-learn/issues/21755 */display: inline-block !important;position: relative;}#sk-container-id-2 div.sk-text-repr-fallback {display: none;}</style><div id=\"sk-container-id-2\" class=\"sk-top-container\"><div class=\"sk-text-repr-fallback\"><pre>GridSearchCV(cv=5,\n",
       "             estimator=XGBRegressor(base_score=None, booster=None,\n",
       "                                    callbacks=None, colsample_bylevel=None,\n",
       "                                    colsample_bynode=None,\n",
       "                                    colsample_bytree=None, device=None,\n",
       "                                    early_stopping_rounds=None,\n",
       "                                    enable_categorical=False, eval_metric=None,\n",
       "                                    feature_types=None, gamma=None,\n",
       "                                    grow_policy=None, importance_type=None,\n",
       "                                    interaction_constraints=None,\n",
       "                                    learning_rate=None, m...\n",
       "                                    max_depth=None, max_leaves=None,\n",
       "                                    min_child_weight=None, missing=nan,\n",
       "                                    monotone_constraints=None,\n",
       "                                    multi_strategy=None, n_estimators=None,\n",
       "                                    n_jobs=None, num_parallel_tree=None,\n",
       "                                    random_state=None, ...),\n",
       "             param_grid={&#x27;learning_rate&#x27;: [0.01, 0.1, 0.2],\n",
       "                         &#x27;max_depth&#x27;: [3, 4, 5], &#x27;min_child_weight&#x27;: [1, 2, 3],\n",
       "                         &#x27;n_estimators&#x27;: [100, 200, 300]},\n",
       "             scoring=&#x27;neg_mean_squared_error&#x27;, verbose=1)</pre><b>In a Jupyter environment, please rerun this cell to show the HTML representation or trust the notebook. <br />On GitHub, the HTML representation is unable to render, please try loading this page with nbviewer.org.</b></div><div class=\"sk-container\" hidden><div class=\"sk-item sk-dashed-wrapped\"><div class=\"sk-label-container\"><div class=\"sk-label sk-toggleable\"><input class=\"sk-toggleable__control sk-hidden--visually\" id=\"sk-estimator-id-2\" type=\"checkbox\" ><label for=\"sk-estimator-id-2\" class=\"sk-toggleable__label sk-toggleable__label-arrow\">GridSearchCV</label><div class=\"sk-toggleable__content\"><pre>GridSearchCV(cv=5,\n",
       "             estimator=XGBRegressor(base_score=None, booster=None,\n",
       "                                    callbacks=None, colsample_bylevel=None,\n",
       "                                    colsample_bynode=None,\n",
       "                                    colsample_bytree=None, device=None,\n",
       "                                    early_stopping_rounds=None,\n",
       "                                    enable_categorical=False, eval_metric=None,\n",
       "                                    feature_types=None, gamma=None,\n",
       "                                    grow_policy=None, importance_type=None,\n",
       "                                    interaction_constraints=None,\n",
       "                                    learning_rate=None, m...\n",
       "                                    max_depth=None, max_leaves=None,\n",
       "                                    min_child_weight=None, missing=nan,\n",
       "                                    monotone_constraints=None,\n",
       "                                    multi_strategy=None, n_estimators=None,\n",
       "                                    n_jobs=None, num_parallel_tree=None,\n",
       "                                    random_state=None, ...),\n",
       "             param_grid={&#x27;learning_rate&#x27;: [0.01, 0.1, 0.2],\n",
       "                         &#x27;max_depth&#x27;: [3, 4, 5], &#x27;min_child_weight&#x27;: [1, 2, 3],\n",
       "                         &#x27;n_estimators&#x27;: [100, 200, 300]},\n",
       "             scoring=&#x27;neg_mean_squared_error&#x27;, verbose=1)</pre></div></div></div><div class=\"sk-parallel\"><div class=\"sk-parallel-item\"><div class=\"sk-item\"><div class=\"sk-label-container\"><div class=\"sk-label sk-toggleable\"><input class=\"sk-toggleable__control sk-hidden--visually\" id=\"sk-estimator-id-3\" type=\"checkbox\" ><label for=\"sk-estimator-id-3\" class=\"sk-toggleable__label sk-toggleable__label-arrow\">estimator: XGBRegressor</label><div class=\"sk-toggleable__content\"><pre>XGBRegressor(base_score=None, booster=None, callbacks=None,\n",
       "             colsample_bylevel=None, colsample_bynode=None,\n",
       "             colsample_bytree=None, device=None, early_stopping_rounds=None,\n",
       "             enable_categorical=False, eval_metric=None, feature_types=None,\n",
       "             gamma=None, grow_policy=None, importance_type=None,\n",
       "             interaction_constraints=None, learning_rate=None, max_bin=None,\n",
       "             max_cat_threshold=None, max_cat_to_onehot=None,\n",
       "             max_delta_step=None, max_depth=None, max_leaves=None,\n",
       "             min_child_weight=None, missing=nan, monotone_constraints=None,\n",
       "             multi_strategy=None, n_estimators=None, n_jobs=None,\n",
       "             num_parallel_tree=None, random_state=None, ...)</pre></div></div></div><div class=\"sk-serial\"><div class=\"sk-item\"><div class=\"sk-estimator sk-toggleable\"><input class=\"sk-toggleable__control sk-hidden--visually\" id=\"sk-estimator-id-4\" type=\"checkbox\" ><label for=\"sk-estimator-id-4\" class=\"sk-toggleable__label sk-toggleable__label-arrow\">XGBRegressor</label><div class=\"sk-toggleable__content\"><pre>XGBRegressor(base_score=None, booster=None, callbacks=None,\n",
       "             colsample_bylevel=None, colsample_bynode=None,\n",
       "             colsample_bytree=None, device=None, early_stopping_rounds=None,\n",
       "             enable_categorical=False, eval_metric=None, feature_types=None,\n",
       "             gamma=None, grow_policy=None, importance_type=None,\n",
       "             interaction_constraints=None, learning_rate=None, max_bin=None,\n",
       "             max_cat_threshold=None, max_cat_to_onehot=None,\n",
       "             max_delta_step=None, max_depth=None, max_leaves=None,\n",
       "             min_child_weight=None, missing=nan, monotone_constraints=None,\n",
       "             multi_strategy=None, n_estimators=None, n_jobs=None,\n",
       "             num_parallel_tree=None, random_state=None, ...)</pre></div></div></div></div></div></div></div></div></div></div>"
      ],
      "text/plain": [
       "GridSearchCV(cv=5,\n",
       "             estimator=XGBRegressor(base_score=None, booster=None,\n",
       "                                    callbacks=None, colsample_bylevel=None,\n",
       "                                    colsample_bynode=None,\n",
       "                                    colsample_bytree=None, device=None,\n",
       "                                    early_stopping_rounds=None,\n",
       "                                    enable_categorical=False, eval_metric=None,\n",
       "                                    feature_types=None, gamma=None,\n",
       "                                    grow_policy=None, importance_type=None,\n",
       "                                    interaction_constraints=None,\n",
       "                                    learning_rate=None, m...\n",
       "                                    max_depth=None, max_leaves=None,\n",
       "                                    min_child_weight=None, missing=nan,\n",
       "                                    monotone_constraints=None,\n",
       "                                    multi_strategy=None, n_estimators=None,\n",
       "                                    n_jobs=None, num_parallel_tree=None,\n",
       "                                    random_state=None, ...),\n",
       "             param_grid={'learning_rate': [0.01, 0.1, 0.2],\n",
       "                         'max_depth': [3, 4, 5], 'min_child_weight': [1, 2, 3],\n",
       "                         'n_estimators': [100, 200, 300]},\n",
       "             scoring='neg_mean_squared_error', verbose=1)"
      ]
     },
     "execution_count": 155,
     "metadata": {},
     "output_type": "execute_result"
    }
   ],
   "source": [
    "from sklearn.model_selection import GridSearchCV\n",
    "from xgboost import XGBRegressor\n",
    "\n",
    "# Define the hyperparameters and their ranges to search\n",
    "param_grid = {\n",
    "    'n_estimators': [100, 200, 300],\n",
    "    'learning_rate': [0.01, 0.1, 0.2],\n",
    "    'max_depth': [3, 4, 5],\n",
    "    'min_child_weight': [1, 2, 3]\n",
    "}\n",
    "\n",
    "# Create an instance of the XGBoost Regressor\n",
    "xgb = XGBRegressor()\n",
    "\n",
    "# Create a GridSearchCV object\n",
    "grid_search = GridSearchCV(xgb, param_grid, scoring='neg_mean_squared_error', cv=5, verbose=1)\n",
    "\n",
    "# Fit the grid search to the data\n",
    "grid_search.fit(X_train, y_train)"
   ]
  },
  {
   "cell_type": "code",
   "execution_count": 156,
   "id": "e763765f-b496-4a33-a0d3-478b7d6bc4fc",
   "metadata": {
    "tags": []
   },
   "outputs": [
    {
     "data": {
      "text/plain": [
       "{'learning_rate': 0.1,\n",
       " 'max_depth': 3,\n",
       " 'min_child_weight': 2,\n",
       " 'n_estimators': 200}"
      ]
     },
     "execution_count": 156,
     "metadata": {},
     "output_type": "execute_result"
    }
   ],
   "source": [
    "grid_search.best_params_"
   ]
  },
  {
   "cell_type": "code",
   "execution_count": null,
   "id": "0a9ff80c-e4d3-4486-b34c-8cca0d2686fa",
   "metadata": {},
   "outputs": [],
   "source": []
  },
  {
   "cell_type": "code",
   "execution_count": null,
   "id": "cb28a1bd-4005-4683-9572-67243491494f",
   "metadata": {},
   "outputs": [],
   "source": []
  },
  {
   "cell_type": "code",
   "execution_count": 172,
   "id": "49c17683-8241-4df4-8a79-d2f05f3e516d",
   "metadata": {
    "tags": []
   },
   "outputs": [],
   "source": [
    "best_model = grid_search.best_estimator_\n",
    "y_pred = best_model.predict(X_test)"
   ]
  },
  {
   "cell_type": "code",
   "execution_count": 173,
   "id": "b363d711-c374-4dcb-b067-5fc6ace47d38",
   "metadata": {
    "tags": []
   },
   "outputs": [
    {
     "data": {
      "text/plain": [
       "282"
      ]
     },
     "execution_count": 173,
     "metadata": {},
     "output_type": "execute_result"
    }
   ],
   "source": [
    "len(y_pred)"
   ]
  },
  {
   "cell_type": "code",
   "execution_count": 175,
   "id": "a8c97a4f-082e-463e-9a84-81b9ee2afde1",
   "metadata": {
    "tags": []
   },
   "outputs": [
    {
     "name": "stdout",
     "output_type": "stream",
     "text": [
      "Root Mean Squared Error: 0.12325260237383662\n"
     ]
    }
   ],
   "source": [
    "mse = mean_squared_error(y_test, y_pred)\n",
    "rmse = np.sqrt(mse)\n",
    "\n",
    "print(f'Root Mean Squared Error: {rmse}')"
   ]
  },
  {
   "cell_type": "code",
   "execution_count": null,
   "id": "78fdfbc7-2798-47ca-b34e-a44560e00f27",
   "metadata": {},
   "outputs": [],
   "source": []
  },
  {
   "cell_type": "markdown",
   "id": "82ab008e-c524-40e7-a04b-4b7dc16e55c8",
   "metadata": {},
   "source": [
    "__Predict Real Values__"
   ]
  },
  {
   "cell_type": "code",
   "execution_count": 179,
   "id": "52e4c55e-add4-41b6-9a29-6fcd1deb1700",
   "metadata": {
    "tags": []
   },
   "outputs": [],
   "source": [
    "y_pred_xgb = best_model.predict(X_test_gercek)"
   ]
  },
  {
   "cell_type": "code",
   "execution_count": 180,
   "id": "012d4777-1409-431d-bb38-ab5b4bbab203",
   "metadata": {
    "tags": []
   },
   "outputs": [
    {
     "data": {
      "text/plain": [
       "1459"
      ]
     },
     "execution_count": 180,
     "metadata": {},
     "output_type": "execute_result"
    }
   ],
   "source": [
    "predicted_prices_xgb = np.exp(y_pred_xgb)\n",
    "len(predicted_prices_xgb)"
   ]
  },
  {
   "cell_type": "code",
   "execution_count": null,
   "id": "ad2f15ea-6b2c-4521-a53a-444746f01b19",
   "metadata": {},
   "outputs": [],
   "source": []
  },
  {
   "cell_type": "markdown",
   "id": "fa47587f-6b8e-4e7b-adf9-8e51e8a7f0b6",
   "metadata": {},
   "source": [
    "# 9. Submitting to Kaggle"
   ]
  },
  {
   "cell_type": "code",
   "execution_count": 587,
   "id": "a4eaadeb-4460-4866-b4f3-26eb30cf1b60",
   "metadata": {
    "scrolled": true,
    "tags": []
   },
   "outputs": [
    {
     "data": {
      "text/html": [
       "<div>\n",
       "<style scoped>\n",
       "    .dataframe tbody tr th:only-of-type {\n",
       "        vertical-align: middle;\n",
       "    }\n",
       "\n",
       "    .dataframe tbody tr th {\n",
       "        vertical-align: top;\n",
       "    }\n",
       "\n",
       "    .dataframe thead th {\n",
       "        text-align: right;\n",
       "    }\n",
       "</style>\n",
       "<table border=\"1\" class=\"dataframe\">\n",
       "  <thead>\n",
       "    <tr style=\"text-align: right;\">\n",
       "      <th></th>\n",
       "      <th>Id</th>\n",
       "      <th>SalePrice</th>\n",
       "    </tr>\n",
       "  </thead>\n",
       "  <tbody>\n",
       "    <tr>\n",
       "      <th>0</th>\n",
       "      <td>1461</td>\n",
       "      <td>118054.974689</td>\n",
       "    </tr>\n",
       "    <tr>\n",
       "      <th>1</th>\n",
       "      <td>1462</td>\n",
       "      <td>164934.220258</td>\n",
       "    </tr>\n",
       "    <tr>\n",
       "      <th>2</th>\n",
       "      <td>1463</td>\n",
       "      <td>169671.864828</td>\n",
       "    </tr>\n",
       "    <tr>\n",
       "      <th>3</th>\n",
       "      <td>1464</td>\n",
       "      <td>192684.514740</td>\n",
       "    </tr>\n",
       "    <tr>\n",
       "      <th>4</th>\n",
       "      <td>1465</td>\n",
       "      <td>197130.013402</td>\n",
       "    </tr>\n",
       "    <tr>\n",
       "      <th>...</th>\n",
       "      <td>...</td>\n",
       "      <td>...</td>\n",
       "    </tr>\n",
       "    <tr>\n",
       "      <th>1454</th>\n",
       "      <td>2915</td>\n",
       "      <td>95240.676151</td>\n",
       "    </tr>\n",
       "    <tr>\n",
       "      <th>1455</th>\n",
       "      <td>2916</td>\n",
       "      <td>84662.208760</td>\n",
       "    </tr>\n",
       "    <tr>\n",
       "      <th>1456</th>\n",
       "      <td>2917</td>\n",
       "      <td>169582.986466</td>\n",
       "    </tr>\n",
       "    <tr>\n",
       "      <th>1457</th>\n",
       "      <td>2918</td>\n",
       "      <td>123165.726366</td>\n",
       "    </tr>\n",
       "    <tr>\n",
       "      <th>1458</th>\n",
       "      <td>2919</td>\n",
       "      <td>205515.768594</td>\n",
       "    </tr>\n",
       "  </tbody>\n",
       "</table>\n",
       "<p>1459 rows × 2 columns</p>\n",
       "</div>"
      ],
      "text/plain": [
       "        Id      SalePrice\n",
       "0     1461  118054.974689\n",
       "1     1462  164934.220258\n",
       "2     1463  169671.864828\n",
       "3     1464  192684.514740\n",
       "4     1465  197130.013402\n",
       "...    ...            ...\n",
       "1454  2915   95240.676151\n",
       "1455  2916   84662.208760\n",
       "1456  2917  169582.986466\n",
       "1457  2918  123165.726366\n",
       "1458  2919  205515.768594\n",
       "\n",
       "[1459 rows x 2 columns]"
      ]
     },
     "execution_count": 587,
     "metadata": {},
     "output_type": "execute_result"
    }
   ],
   "source": [
    "df_submit1 = pd.DataFrame({'Id': df_test['Id'], 'SalePrice': predicted_prices})\n",
    "df_submit1"
   ]
  },
  {
   "cell_type": "code",
   "execution_count": 181,
   "id": "4d978cc4-510c-418f-8967-3aad93613355",
   "metadata": {
    "tags": []
   },
   "outputs": [
    {
     "data": {
      "text/html": [
       "<div>\n",
       "<style scoped>\n",
       "    .dataframe tbody tr th:only-of-type {\n",
       "        vertical-align: middle;\n",
       "    }\n",
       "\n",
       "    .dataframe tbody tr th {\n",
       "        vertical-align: top;\n",
       "    }\n",
       "\n",
       "    .dataframe thead th {\n",
       "        text-align: right;\n",
       "    }\n",
       "</style>\n",
       "<table border=\"1\" class=\"dataframe\">\n",
       "  <thead>\n",
       "    <tr style=\"text-align: right;\">\n",
       "      <th></th>\n",
       "      <th>Id</th>\n",
       "      <th>SalePrice</th>\n",
       "    </tr>\n",
       "  </thead>\n",
       "  <tbody>\n",
       "    <tr>\n",
       "      <th>0</th>\n",
       "      <td>1461</td>\n",
       "      <td>123850.984375</td>\n",
       "    </tr>\n",
       "    <tr>\n",
       "      <th>1</th>\n",
       "      <td>1462</td>\n",
       "      <td>173231.578125</td>\n",
       "    </tr>\n",
       "    <tr>\n",
       "      <th>2</th>\n",
       "      <td>1463</td>\n",
       "      <td>179380.281250</td>\n",
       "    </tr>\n",
       "    <tr>\n",
       "      <th>3</th>\n",
       "      <td>1464</td>\n",
       "      <td>202371.640625</td>\n",
       "    </tr>\n",
       "    <tr>\n",
       "      <th>4</th>\n",
       "      <td>1465</td>\n",
       "      <td>177925.437500</td>\n",
       "    </tr>\n",
       "    <tr>\n",
       "      <th>...</th>\n",
       "      <td>...</td>\n",
       "      <td>...</td>\n",
       "    </tr>\n",
       "    <tr>\n",
       "      <th>1454</th>\n",
       "      <td>2915</td>\n",
       "      <td>91093.210938</td>\n",
       "    </tr>\n",
       "    <tr>\n",
       "      <th>1455</th>\n",
       "      <td>2916</td>\n",
       "      <td>84497.453125</td>\n",
       "    </tr>\n",
       "    <tr>\n",
       "      <th>1456</th>\n",
       "      <td>2917</td>\n",
       "      <td>163244.609375</td>\n",
       "    </tr>\n",
       "    <tr>\n",
       "      <th>1457</th>\n",
       "      <td>2918</td>\n",
       "      <td>124470.242188</td>\n",
       "    </tr>\n",
       "    <tr>\n",
       "      <th>1458</th>\n",
       "      <td>2919</td>\n",
       "      <td>192629.828125</td>\n",
       "    </tr>\n",
       "  </tbody>\n",
       "</table>\n",
       "<p>1459 rows × 2 columns</p>\n",
       "</div>"
      ],
      "text/plain": [
       "        Id      SalePrice\n",
       "0     1461  123850.984375\n",
       "1     1462  173231.578125\n",
       "2     1463  179380.281250\n",
       "3     1464  202371.640625\n",
       "4     1465  177925.437500\n",
       "...    ...            ...\n",
       "1454  2915   91093.210938\n",
       "1455  2916   84497.453125\n",
       "1456  2917  163244.609375\n",
       "1457  2918  124470.242188\n",
       "1458  2919  192629.828125\n",
       "\n",
       "[1459 rows x 2 columns]"
      ]
     },
     "execution_count": 181,
     "metadata": {},
     "output_type": "execute_result"
    }
   ],
   "source": [
    "df_submit2 = pd.DataFrame({'Id': df_test['Id'], 'SalePrice': predicted_prices_xgb})\n",
    "df_submit2"
   ]
  },
  {
   "cell_type": "code",
   "execution_count": null,
   "id": "0b410bd9-0f13-4050-b77e-9b93c00eed48",
   "metadata": {},
   "outputs": [],
   "source": []
  },
  {
   "cell_type": "code",
   "execution_count": 588,
   "id": "49673394-a0c0-4adb-b26c-2bacfd1a3c09",
   "metadata": {
    "tags": []
   },
   "outputs": [],
   "source": [
    "#df_submit1.to_csv('data_downloaded/fatih_real_estate_subm01.csv', index=False)"
   ]
  },
  {
   "cell_type": "code",
   "execution_count": 182,
   "id": "76b20a17-b129-4209-87c7-ba19f1a84b23",
   "metadata": {},
   "outputs": [],
   "source": [
    "df_submit2.to_csv('data_downloaded/fatih_real_estate_subm02_xgb.csv', index=False)"
   ]
  },
  {
   "cell_type": "code",
   "execution_count": null,
   "id": "248bc060-61db-4139-859b-21d9b5c76732",
   "metadata": {},
   "outputs": [],
   "source": []
  }
 ],
 "metadata": {
  "kernelspec": {
   "display_name": "Python 3 (ipykernel)",
   "language": "python",
   "name": "python3"
  },
  "language_info": {
   "codemirror_mode": {
    "name": "ipython",
    "version": 3
   },
   "file_extension": ".py",
   "mimetype": "text/x-python",
   "name": "python",
   "nbconvert_exporter": "python",
   "pygments_lexer": "ipython3",
   "version": "3.10.8"
  },
  "toc-autonumbering": false,
  "toc-showcode": false,
  "toc-showtags": false
 },
 "nbformat": 4,
 "nbformat_minor": 5
}
