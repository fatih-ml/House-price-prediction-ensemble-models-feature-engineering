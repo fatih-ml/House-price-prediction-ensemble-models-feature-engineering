{
 "cells": [
  {
   "cell_type": "code",
   "execution_count": null,
   "id": "9b34813a-d00a-44d5-86ce-cbbab6d2c815",
   "metadata": {},
   "outputs": [],
   "source": [
    "datasetini yukle\n",
    "missing valuelara bak\n",
    "encode yap\n",
    "X = df.copy()\n",
    "y\n",
    "\n",
    "sonra model"
   ]
  }
 ],
 "metadata": {
  "kernelspec": {
   "display_name": "Python 3 (ipykernel)",
   "language": "python",
   "name": "python3"
  },
  "language_info": {
   "codemirror_mode": {
    "name": "ipython",
    "version": 3
   },
   "file_extension": ".py",
   "mimetype": "text/x-python",
   "name": "python",
   "nbconvert_exporter": "python",
   "pygments_lexer": "ipython3",
   "version": "3.10.8"
  }
 },
 "nbformat": 4,
 "nbformat_minor": 5
}
