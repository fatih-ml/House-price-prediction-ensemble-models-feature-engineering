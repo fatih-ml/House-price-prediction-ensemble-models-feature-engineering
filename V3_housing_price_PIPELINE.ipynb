{
 "cells": [
  {
   "cell_type": "markdown",
   "id": "8bd0fa75-67bf-4d0f-b02f-f77684cea45c",
   "metadata": {},
   "source": [
    "WE WILL FOCUS ON ASSEMBLING A PIPELINE AND MAKING EVERYTHING VERY COMPACT"
   ]
  },
  {
   "cell_type": "code",
   "execution_count": 1,
   "id": "c69191fe-ecf2-4fba-9729-feae56c483c5",
   "metadata": {
    "tags": []
   },
   "outputs": [],
   "source": [
    "import pandas as pd\n",
    "from sklearn.compose import ColumnTransformer\n",
    "from sklearn.pipeline import Pipeline\n",
    "from sklearn.impute import SimpleImputer\n",
    "from sklearn.preprocessing import StandardScaler, OrdinalEncoder, OneHotEncoder\n",
    "from sklearn.compose import TransformedTargetRegressor\n",
    "from sklearn.linear_model import LinearRegression\n",
    "from xgboost import XGBRegressor"
   ]
  },
  {
   "cell_type": "code",
   "execution_count": 2,
   "id": "f75132bb-925a-4ba2-bab4-3c8438149f34",
   "metadata": {
    "tags": []
   },
   "outputs": [],
   "source": [
    "df = pd.read_csv('data_downloaded/train.csv')"
   ]
  },
  {
   "cell_type": "code",
   "execution_count": 9,
   "id": "4ce5bb5f-befe-490b-a588-7253d84c0b15",
   "metadata": {
    "tags": []
   },
   "outputs": [],
   "source": [
    "# Step 1: Define features and target\n",
    "X = df.drop(columns=['SalePrice'])  # Features\n",
    "y = df['SalePrice']  # Target"
   ]
  },
  {
   "cell_type": "code",
   "execution_count": 19,
   "id": "dec1ea58-1b4e-4b5b-999d-75fd1e8c55cd",
   "metadata": {
    "tags": []
   },
   "outputs": [],
   "source": [
    "n_columns_to_use = ['Lot_Area', 'Lot_Frontage', ]"
   ]
  },
  {
   "cell_type": "code",
   "execution_count": 20,
   "id": "2754fa69-3b09-4682-bb26-5e217fb941d8",
   "metadata": {
    "tags": []
   },
   "outputs": [
    {
     "data": {
      "text/plain": [
       "Id                 int64\n",
       "MSSubClass         int64\n",
       "MSZoning          object\n",
       "LotFrontage      float64\n",
       "LotArea            int64\n",
       "                  ...   \n",
       "MoSold             int64\n",
       "YrSold             int64\n",
       "SaleType          object\n",
       "SaleCondition     object\n",
       "SalePrice          int64\n",
       "Length: 81, dtype: object"
      ]
     },
     "execution_count": 20,
     "metadata": {},
     "output_type": "execute_result"
    }
   ],
   "source": [
    "df.dtypes"
   ]
  },
  {
   "cell_type": "code",
   "execution_count": 3,
   "id": "78cccb46-f9b9-4ee2-9b0b-ac8a96eb2270",
   "metadata": {
    "tags": []
   },
   "outputs": [],
   "source": [
    "# Step 2: Define categorical, ordinal, and numeric columns\n",
    "categorical_nominal_cols = ['col1', 'col2', 'col3']  # List of nominal categorical columns\n",
    "categorical_ordinal_cols = ['col4', 'col5', 'col6']  # List of ordinal categorical columns\n",
    "binary_cols = ['bin1', 'bin2', 'bin3']  # List of binary columns\n",
    "numeric_cols = ['num1', 'num2', 'num3']  # List of numeric columns"
   ]
  },
  {
   "cell_type": "code",
   "execution_count": 4,
   "id": "d388d4c5-dfe3-49ac-9a5f-3f1dd894247b",
   "metadata": {
    "tags": []
   },
   "outputs": [],
   "source": [
    "# Step 3: Define preprocessing for different types of features\n",
    "numeric_transformer = Pipeline(steps=[\n",
    "    ('imputer', SimpleImputer(strategy='mean')),\n",
    "    ('scaler', StandardScaler())])\n",
    "\n",
    "categorical_ordinal_transformer = Pipeline(steps=[\n",
    "    ('imputer', SimpleImputer(strategy='most_frequent')),\n",
    "    ('ordinal_encoder', OrdinalEncoder(categories=[['Very Bad', 'Bad', 'Average', 'Good', 'Excellent']]))])\n",
    "\n",
    "categorical_nominal_transformer = Pipeline(steps=[\n",
    "    ('imputer', SimpleImputer(strategy='most_frequent')),\n",
    "    ('onehot', OneHotEncoder(handle_unknown='ignore'))])\n",
    "\n",
    "binary_transformer = Pipeline(steps=[\n",
    "    ('imputer', SimpleImputer(strategy='most_frequent'))])"
   ]
  },
  {
   "cell_type": "code",
   "execution_count": 5,
   "id": "b3cec332-0dfa-4419-94f3-071742c5e422",
   "metadata": {
    "tags": []
   },
   "outputs": [],
   "source": [
    "# Step 4: Bundle preprocessing for all types of features\n",
    "preprocessor = ColumnTransformer(\n",
    "    transformers=[\n",
    "        ('num', numeric_transformer, numeric_cols),\n",
    "        ('cat_ord', categorical_ordinal_transformer, categorical_ordinal_cols),\n",
    "        ('cat_nom', categorical_nominal_transformer, categorical_nominal_cols),\n",
    "        ('bin', binary_transformer, binary_cols)])"
   ]
  },
  {
   "cell_type": "code",
   "execution_count": 6,
   "id": "90ecef41-c281-4447-8551-09b0bc57720c",
   "metadata": {
    "tags": []
   },
   "outputs": [],
   "source": [
    "# Step 5: Define the Regressor (Linear Regression)\n",
    "model_lr = LinearRegression()\n",
    "\n",
    "# Step 6: Define the Regressor (XGBoost)\n",
    "model_xgb = XGBRegressor()"
   ]
  },
  {
   "cell_type": "code",
   "execution_count": 7,
   "id": "23e309c3-7b2a-477c-aad7-f81477cacda7",
   "metadata": {
    "tags": []
   },
   "outputs": [],
   "source": [
    "# Step 7: Define the pipeline with the final regressor\n",
    "pipeline_lr = Pipeline(steps=[('preprocessor', preprocessor),\n",
    "                              ('regressor', model_lr)])\n",
    "\n",
    "pipeline_xgb = Pipeline(steps=[('preprocessor', preprocessor),\n",
    "                               ('regressor', model_xgb)])"
   ]
  },
  {
   "cell_type": "code",
   "execution_count": 8,
   "id": "878414dc-9063-4dbe-8da1-e6d79b3166e0",
   "metadata": {},
   "outputs": [],
   "source": [
    "# Step 8: Define the final pipeline with transformed target regressor\n",
    "final_pipeline_lr = TransformedTargetRegressor(regressor=pipeline_lr,\n",
    "                                               transformer=StandardScaler())\n",
    "\n",
    "final_pipeline_xgb = TransformedTargetRegressor(regressor=pipeline_xgb,\n",
    "                                                transformer=StandardScaler())\n"
   ]
  },
  {
   "cell_type": "markdown",
   "id": "790bd9a8-8419-4793-b14e-e9cc8ce1059d",
   "metadata": {},
   "source": [
    "**Feature Engineering den sonra PCA ekleyebiliriz**"
   ]
  },
  {
   "cell_type": "markdown",
   "id": "6d650573-0602-4f26-b50f-acf15869d55b",
   "metadata": {},
   "source": [
    "**Featurelarin variancelerini cok merak ettim dogrusu**"
   ]
  },
  {
   "cell_type": "code",
   "execution_count": 11,
   "id": "ea45e5b6-d69c-429b-b522-cf06c77de910",
   "metadata": {
    "tags": []
   },
   "outputs": [
    {
     "name": "stderr",
     "output_type": "stream",
     "text": [
      "C:\\Users\\fcali\\AppData\\Local\\Temp\\ipykernel_4832\\3942550908.py:1: FutureWarning: The default value of numeric_only in DataFrame.var is deprecated. In a future version, it will default to False. In addition, specifying 'numeric_only=None' is deprecated. Select only valid columns or specify the value of numeric_only to silence this warning.\n",
      "  df.var().nlargest(20)\n"
     ]
    },
    {
     "data": {
      "text/plain": [
       "SalePrice        6.311111e+09\n",
       "LotArea          9.962565e+07\n",
       "GrLivArea        2.761296e+05\n",
       "MiscVal          2.461381e+05\n",
       "BsmtFinSF1       2.080255e+05\n",
       "BsmtUnfSF        1.952464e+05\n",
       "TotalBsmtSF      1.924624e+05\n",
       "2ndFlrSF         1.905571e+05\n",
       "Id               1.777550e+05\n",
       "1stFlrSF         1.494501e+05\n",
       "GarageArea       4.571251e+04\n",
       "MasVnrArea       3.278497e+04\n",
       "BsmtFinSF2       2.602391e+04\n",
       "WoodDeckSF       1.570981e+04\n",
       "OpenPorchSF      4.389861e+03\n",
       "EnclosedPorch    3.735550e+03\n",
       "ScreenPorch      3.108889e+03\n",
       "LowQualFinSF     2.364204e+03\n",
       "MSSubClass       1.789338e+03\n",
       "PoolArea         1.614216e+03\n",
       "dtype: float64"
      ]
     },
     "execution_count": 11,
     "metadata": {},
     "output_type": "execute_result"
    }
   ],
   "source": [
    "df.var().nlargest(20)"
   ]
  },
  {
   "cell_type": "code",
   "execution_count": null,
   "id": "5bf06467-0159-45bf-bd24-cb38f11655a4",
   "metadata": {},
   "outputs": [],
   "source": []
  }
 ],
 "metadata": {
  "kernelspec": {
   "display_name": "Python 3 (ipykernel)",
   "language": "python",
   "name": "python3"
  },
  "language_info": {
   "codemirror_mode": {
    "name": "ipython",
    "version": 3
   },
   "file_extension": ".py",
   "mimetype": "text/x-python",
   "name": "python",
   "nbconvert_exporter": "python",
   "pygments_lexer": "ipython3",
   "version": "3.10.8"
  }
 },
 "nbformat": 4,
 "nbformat_minor": 5
}
