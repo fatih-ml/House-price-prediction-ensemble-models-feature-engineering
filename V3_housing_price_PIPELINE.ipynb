{
 "cells": [
  {
   "cell_type": "markdown",
   "id": "8bd0fa75-67bf-4d0f-b02f-f77684cea45c",
   "metadata": {},
   "source": [
    "WE WILL FOCUS ON ASSEMBLING A PIPELINE AND MAKING EVERYTHING VERY COMPACT"
   ]
  },
  {
   "cell_type": "code",
   "execution_count": 1,
   "id": "c69191fe-ecf2-4fba-9729-feae56c483c5",
   "metadata": {
    "tags": []
   },
   "outputs": [],
   "source": [
    "import pandas as pd\n",
    "from sklearn.compose import ColumnTransformer\n",
    "from sklearn.pipeline import Pipeline\n",
    "from sklearn.impute import SimpleImputer\n",
    "from sklearn.preprocessing import StandardScaler, OrdinalEncoder, OneHotEncoder\n",
    "from sklearn.compose import TransformedTargetRegressor\n",
    "from sklearn.linear_model import LinearRegression\n",
    "from xgboost import XGBRegressor"
   ]
  },
  {
   "cell_type": "code",
   "execution_count": 2,
   "id": "f75132bb-925a-4ba2-bab4-3c8438149f34",
   "metadata": {
    "tags": []
   },
   "outputs": [],
   "source": [
    "df = pd.read_csv('data_downloaded/train.csv')"
   ]
  },
  {
   "cell_type": "code",
   "execution_count": 9,
   "id": "4ce5bb5f-befe-490b-a588-7253d84c0b15",
   "metadata": {
    "tags": []
   },
   "outputs": [],
   "source": [
    "# Step 1: Define features and target\n",
    "X = df.drop(columns=['SalePrice'])  # Features\n",
    "y = df['SalePrice']  # Target"
   ]
  },
  {
   "cell_type": "code",
   "execution_count": 3,
   "id": "78cccb46-f9b9-4ee2-9b0b-ac8a96eb2270",
   "metadata": {
    "tags": []
   },
   "outputs": [],
   "source": [
    "# Step 2: Define categorical, ordinal, and numeric columns\n",
    "categorical_nominal_cols = ['col1', 'col2', 'col3']  # List of nominal categorical columns\n",
    "categorical_ordinal_cols = ['col4', 'col5', 'col6']  # List of ordinal categorical columns\n",
    "binary_cols = ['bin1', 'bin2', 'bin3']  # List of binary columns\n",
    "numeric_cols = ['num1', 'num2', 'num3']  # List of numeric columns"
   ]
  },
  {
   "cell_type": "code",
   "execution_count": 4,
   "id": "d388d4c5-dfe3-49ac-9a5f-3f1dd894247b",
   "metadata": {
    "tags": []
   },
   "outputs": [],
   "source": [
    "# Step 3: Define preprocessing for different types of features\n",
    "numeric_transformer = Pipeline(steps=[\n",
    "    ('imputer', SimpleImputer(strategy='mean')),\n",
    "    ('scaler', StandardScaler())])\n",
    "\n",
    "categorical_ordinal_transformer = Pipeline(steps=[\n",
    "    ('imputer', SimpleImputer(strategy='most_frequent')),\n",
    "    ('ordinal_encoder', OrdinalEncoder(categories=[['Very Bad', 'Bad', 'Average', 'Good', 'Excellent']]))])\n",
    "\n",
    "categorical_nominal_transformer = Pipeline(steps=[\n",
    "    ('imputer', SimpleImputer(strategy='most_frequent')),\n",
    "    ('onehot', OneHotEncoder(handle_unknown='ignore'))])\n",
    "\n",
    "binary_transformer = Pipeline(steps=[\n",
    "    ('imputer', SimpleImputer(strategy='most_frequent'))])"
   ]
  },
  {
   "cell_type": "code",
   "execution_count": 5,
   "id": "b3cec332-0dfa-4419-94f3-071742c5e422",
   "metadata": {
    "tags": []
   },
   "outputs": [],
   "source": [
    "# Step 4: Bundle preprocessing for all types of features\n",
    "preprocessor = ColumnTransformer(\n",
    "    transformers=[\n",
    "        ('num', numeric_transformer, numeric_cols),\n",
    "        ('cat_ord', categorical_ordinal_transformer, categorical_ordinal_cols),\n",
    "        ('cat_nom', categorical_nominal_transformer, categorical_nominal_cols),\n",
    "        ('bin', binary_transformer, binary_cols)])"
   ]
  },
  {
   "cell_type": "code",
   "execution_count": 6,
   "id": "90ecef41-c281-4447-8551-09b0bc57720c",
   "metadata": {
    "tags": []
   },
   "outputs": [],
   "source": [
    "# Step 5: Define the Regressor (Linear Regression)\n",
    "model_lr = LinearRegression()\n",
    "\n",
    "# Step 6: Define the Regressor (XGBoost)\n",
    "model_xgb = XGBRegressor()"
   ]
  },
  {
   "cell_type": "code",
   "execution_count": 7,
   "id": "23e309c3-7b2a-477c-aad7-f81477cacda7",
   "metadata": {
    "tags": []
   },
   "outputs": [],
   "source": [
    "# Step 7: Define the pipeline with the final regressor\n",
    "pipeline_lr = Pipeline(steps=[('preprocessor', preprocessor),\n",
    "                              ('regressor', model_lr)])\n",
    "\n",
    "pipeline_xgb = Pipeline(steps=[('preprocessor', preprocessor),\n",
    "                               ('regressor', model_xgb)])"
   ]
  },
  {
   "cell_type": "code",
   "execution_count": 8,
   "id": "878414dc-9063-4dbe-8da1-e6d79b3166e0",
   "metadata": {},
   "outputs": [],
   "source": [
    "# Step 8: Define the final pipeline with transformed target regressor\n",
    "final_pipeline_lr = TransformedTargetRegressor(regressor=pipeline_lr,\n",
    "                                               transformer=StandardScaler())\n",
    "\n",
    "final_pipeline_xgb = TransformedTargetRegressor(regressor=pipeline_xgb,\n",
    "                                                transformer=StandardScaler())\n"
   ]
  },
  {
   "cell_type": "markdown",
   "id": "790bd9a8-8419-4793-b14e-e9cc8ce1059d",
   "metadata": {},
   "source": [
    "**Feature Engineering den sonra PCA ekleyebiliriz**"
   ]
  },
  {
   "cell_type": "markdown",
   "id": "6d650573-0602-4f26-b50f-acf15869d55b",
   "metadata": {},
   "source": [
    "**Featurelarin variancelerini cok merak ettim dogrusu**"
   ]
  },
  {
   "cell_type": "code",
   "execution_count": 29,
   "id": "ea45e5b6-d69c-429b-b522-cf06c77de910",
   "metadata": {
    "tags": []
   },
   "outputs": [
    {
     "name": "stderr",
     "output_type": "stream",
     "text": [
      "C:\\Users\\fcali\\AppData\\Local\\Temp\\ipykernel_4832\\3037929013.py:1: FutureWarning: The default value of numeric_only in DataFrame.var is deprecated. In a future version, it will default to False. In addition, specifying 'numeric_only=None' is deprecated. Select only valid columns or specify the value of numeric_only to silence this warning.\n",
      "  df.var().nlargest(10)\n"
     ]
    },
    {
     "data": {
      "text/plain": [
       "SalePrice      6.311111e+09\n",
       "LotArea        9.962565e+07\n",
       "GrLivArea      2.761296e+05\n",
       "MiscVal        2.461381e+05\n",
       "BsmtFinSF1     2.080255e+05\n",
       "BsmtUnfSF      1.952464e+05\n",
       "TotalBsmtSF    1.924624e+05\n",
       "2ndFlrSF       1.905571e+05\n",
       "Id             1.777550e+05\n",
       "1stFlrSF       1.494501e+05\n",
       "dtype: float64"
      ]
     },
     "execution_count": 29,
     "metadata": {},
     "output_type": "execute_result"
    }
   ],
   "source": [
    "df.var().nlargest(10)"
   ]
  },
  {
   "cell_type": "markdown",
   "id": "76280b70-075a-49da-b4fd-6df953b720c5",
   "metadata": {},
   "source": [
    "**Bir de trimmed variance bakalim**"
   ]
  },
  {
   "cell_type": "code",
   "execution_count": 20,
   "id": "907fe799-859b-4667-81bc-b95a01400233",
   "metadata": {
    "tags": []
   },
   "outputs": [],
   "source": [
    "from scipy.stats.mstats import trimmed_var"
   ]
  },
  {
   "cell_type": "code",
   "execution_count": 28,
   "id": "203abace-fcb9-4596-9cde-a826a90065f2",
   "metadata": {
    "tags": []
   },
   "outputs": [
    {
     "data": {
      "text/plain": [
       "SalePrice      1882790400.47177\n",
       "LotArea          4600761.244546\n",
       "2ndFlrSF          126369.721195\n",
       "Id                    113685.25\n",
       "BsmtFinSF1        108198.508749\n",
       "GrLivArea         102768.092838\n",
       "BsmtUnfSF          85391.659046\n",
       "TotalBsmtSF        63500.571484\n",
       "1stFlrSF           62147.608644\n",
       "GarageArea          15760.73548\n",
       "dtype: object"
      ]
     },
     "execution_count": 28,
     "metadata": {},
     "output_type": "execute_result"
    }
   ],
   "source": [
    "df.select_dtypes(include='number').apply(trimmed_var).sort_values(ascending=False).head(10)"
   ]
  },
  {
   "cell_type": "code",
   "execution_count": 32,
   "id": "18e63acf-f544-422d-a665-1976d396750c",
   "metadata": {
    "tags": []
   },
   "outputs": [
    {
     "data": {
      "text/html": [
       "<div>\n",
       "<style scoped>\n",
       "    .dataframe tbody tr th:only-of-type {\n",
       "        vertical-align: middle;\n",
       "    }\n",
       "\n",
       "    .dataframe tbody tr th {\n",
       "        vertical-align: top;\n",
       "    }\n",
       "\n",
       "    .dataframe thead th {\n",
       "        text-align: right;\n",
       "    }\n",
       "</style>\n",
       "<table border=\"1\" class=\"dataframe\">\n",
       "  <thead>\n",
       "    <tr style=\"text-align: right;\">\n",
       "      <th></th>\n",
       "      <th>Category_Ordinal</th>\n",
       "      <th>Category_Binary</th>\n",
       "      <th>Continuous_Num1</th>\n",
       "      <th>Continuous_Num2</th>\n",
       "      <th>Discrete_Num1</th>\n",
       "      <th>Discrete_Num2</th>\n",
       "      <th>Category_Nominal_Green</th>\n",
       "      <th>Category_Nominal_Red</th>\n",
       "    </tr>\n",
       "  </thead>\n",
       "  <tbody>\n",
       "    <tr>\n",
       "      <th>0</th>\n",
       "      <td>1</td>\n",
       "      <td>1</td>\n",
       "      <td>-1.215081</td>\n",
       "      <td>-0.662937</td>\n",
       "      <td>0.447214</td>\n",
       "      <td>0.447214</td>\n",
       "      <td>0</td>\n",
       "      <td>1</td>\n",
       "    </tr>\n",
       "    <tr>\n",
       "      <th>1</th>\n",
       "      <td>2</td>\n",
       "      <td>0</td>\n",
       "      <td>0.232094</td>\n",
       "      <td>0.290035</td>\n",
       "      <td>-0.447214</td>\n",
       "      <td>-0.447214</td>\n",
       "      <td>0</td>\n",
       "      <td>0</td>\n",
       "    </tr>\n",
       "    <tr>\n",
       "      <th>2</th>\n",
       "      <td>0</td>\n",
       "      <td>1</td>\n",
       "      <td>-0.505146</td>\n",
       "      <td>-1.118706</td>\n",
       "      <td>1.341641</td>\n",
       "      <td>1.341641</td>\n",
       "      <td>1</td>\n",
       "      <td>0</td>\n",
       "    </tr>\n",
       "    <tr>\n",
       "      <th>3</th>\n",
       "      <td>2</td>\n",
       "      <td>0</td>\n",
       "      <td>1.488133</td>\n",
       "      <td>1.491607</td>\n",
       "      <td>-1.341641</td>\n",
       "      <td>-1.341641</td>\n",
       "      <td>0</td>\n",
       "      <td>1</td>\n",
       "    </tr>\n",
       "  </tbody>\n",
       "</table>\n",
       "</div>"
      ],
      "text/plain": [
       "   Category_Ordinal  Category_Binary  Continuous_Num1  Continuous_Num2  \\\n",
       "0                 1                1        -1.215081        -0.662937   \n",
       "1                 2                0         0.232094         0.290035   \n",
       "2                 0                1        -0.505146        -1.118706   \n",
       "3                 2                0         1.488133         1.491607   \n",
       "\n",
       "   Discrete_Num1  Discrete_Num2  Category_Nominal_Green  Category_Nominal_Red  \n",
       "0       0.447214       0.447214                       0                     1  \n",
       "1      -0.447214      -0.447214                       0                     0  \n",
       "2       1.341641       1.341641                       1                     0  \n",
       "3      -1.341641      -1.341641                       0                     1  "
      ]
     },
     "execution_count": 32,
     "metadata": {},
     "output_type": "execute_result"
    }
   ],
   "source": [
    "# A sample of encoding and standardizing\n",
    "\n",
    "import pandas as pd\n",
    "from sklearn.preprocessing import StandardScaler, LabelEncoder, OneHotEncoder\n",
    "\n",
    "# Step 1: Create the DataFrame\n",
    "data = {'Category_Ordinal': ['Low', 'Medium', 'High', 'Medium'],\n",
    "        'Category_Nominal': ['Red', 'Blue', 'Green', 'Red'],\n",
    "        'Category_Binary': [1, 0, 1, 0],\n",
    "        'Continuous_Num1': [25.2, 30.5, 27.8, 35.1],\n",
    "        'Continuous_Num2': [40.0, 42.3, 38.9, 45.2],\n",
    "        'Discrete_Num1': [4, 3, 5, 2],\n",
    "        'Discrete_Num2': [7, 6, 8, 5]}\n",
    "\n",
    "df = pd.DataFrame(data)\n",
    "\n",
    "# Step 2: Encode Categorical Columns\n",
    "label_encoder = LabelEncoder()\n",
    "df['Category_Ordinal'] = label_encoder.fit_transform(df['Category_Ordinal'])\n",
    "\n",
    "# One-Hot Encode the nominal column\n",
    "df = pd.get_dummies(df, columns=['Category_Nominal'], drop_first=True)\n",
    "\n",
    "# Step 3: Standardize Numerical Columns\n",
    "scaler = StandardScaler()\n",
    "numerical_cols = ['Continuous_Num1', 'Continuous_Num2', 'Discrete_Num1', 'Discrete_Num2']\n",
    "df[numerical_cols] = scaler.fit_transform(df[numerical_cols])\n",
    "\n",
    "df"
   ]
  },
  {
   "cell_type": "code",
   "execution_count": null,
   "id": "47dddbf2-8b3e-42e0-b26a-87f4f1d99a1a",
   "metadata": {},
   "outputs": [],
   "source": []
  }
 ],
 "metadata": {
  "kernelspec": {
   "display_name": "Python 3 (ipykernel)",
   "language": "python",
   "name": "python3"
  },
  "language_info": {
   "codemirror_mode": {
    "name": "ipython",
    "version": 3
   },
   "file_extension": ".py",
   "mimetype": "text/x-python",
   "name": "python",
   "nbconvert_exporter": "python",
   "pygments_lexer": "ipython3",
   "version": "3.10.8"
  }
 },
 "nbformat": 4,
 "nbformat_minor": 5
}
