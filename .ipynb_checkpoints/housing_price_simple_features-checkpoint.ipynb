{
 "cells": [
  {
   "cell_type": "code",
   "execution_count": 23,
   "id": "32808c63-a3c8-4e6b-8790-e7e8a467f5f4",
   "metadata": {
    "execution": {
     "iopub.execute_input": "2023-10-08T20:44:15.170994Z",
     "iopub.status.busy": "2023-10-08T20:44:15.170994Z",
     "iopub.status.idle": "2023-10-08T20:44:15.178771Z",
     "shell.execute_reply": "2023-10-08T20:44:15.177709Z",
     "shell.execute_reply.started": "2023-10-08T20:44:15.170994Z"
    }
   },
   "outputs": [],
   "source": [
    "import pandas as pd\n",
    "import numpy as np\n",
    "import matplotlib.pyplot as plt\n",
    "import seaborn as sns\n",
    "import warnings\n",
    "warnings.filterwarnings('ignore')"
   ]
  },
  {
   "cell_type": "code",
   "execution_count": 24,
   "id": "6cf380b9-46d3-410a-a9e2-6d00e84a105a",
   "metadata": {
    "execution": {
     "iopub.execute_input": "2023-10-08T20:44:15.180867Z",
     "iopub.status.busy": "2023-10-08T20:44:15.180867Z",
     "iopub.status.idle": "2023-10-08T20:44:15.183952Z",
     "shell.execute_reply": "2023-10-08T20:44:15.183952Z",
     "shell.execute_reply.started": "2023-10-08T20:44:15.180867Z"
    }
   },
   "outputs": [],
   "source": [
    "pd.set_option('display.max_rows', None)\n",
    "pd.set_option('display.max_columns', None)"
   ]
  },
  {
   "cell_type": "code",
   "execution_count": 25,
   "id": "7c2f3509-ac66-45ce-8cc1-08f2d0f768ab",
   "metadata": {
    "execution": {
     "iopub.execute_input": "2023-10-08T20:44:15.185492Z",
     "iopub.status.busy": "2023-10-08T20:44:15.185492Z",
     "iopub.status.idle": "2023-10-08T20:44:15.230145Z",
     "shell.execute_reply": "2023-10-08T20:44:15.229145Z",
     "shell.execute_reply.started": "2023-10-08T20:44:15.185492Z"
    }
   },
   "outputs": [],
   "source": [
    "df_train = pd.read_csv('data_downloaded/train.csv')\n",
    "df_test = pd.read_csv('data_downloaded/test.csv')"
   ]
  },
  {
   "cell_type": "code",
   "execution_count": 26,
   "id": "4a16322e-b798-43db-8a53-07448f4a764a",
   "metadata": {
    "execution": {
     "iopub.execute_input": "2023-10-08T20:44:15.231148Z",
     "iopub.status.busy": "2023-10-08T20:44:15.231148Z",
     "iopub.status.idle": "2023-10-08T20:44:15.250484Z",
     "shell.execute_reply": "2023-10-08T20:44:15.250012Z",
     "shell.execute_reply.started": "2023-10-08T20:44:15.231148Z"
    }
   },
   "outputs": [
    {
     "name": "stdout",
     "output_type": "stream",
     "text": [
      "(1460, 81)\n",
      "(1459, 80)\n"
     ]
    }
   ],
   "source": [
    "print(df_train.shape)\n",
    "print(df_test.shape)"
   ]
  },
  {
   "cell_type": "code",
   "execution_count": 48,
   "id": "82532bf6-b53a-4064-813a-379707fc796a",
   "metadata": {
    "execution": {
     "iopub.execute_input": "2023-10-08T21:00:43.047044Z",
     "iopub.status.busy": "2023-10-08T21:00:43.046044Z",
     "iopub.status.idle": "2023-10-08T21:00:43.057638Z",
     "shell.execute_reply": "2023-10-08T21:00:43.056590Z",
     "shell.execute_reply.started": "2023-10-08T21:00:43.047044Z"
    },
    "scrolled": true
   },
   "outputs": [],
   "source": [
    "df_merge = pd.concat([df_train, df_test], ignore_index=True)"
   ]
  },
  {
   "cell_type": "markdown",
   "id": "91a2c930-20eb-4f56-8275-3c1bbe523f66",
   "metadata": {},
   "source": [
    "# Handling the missing Values and Nan Values"
   ]
  },
  {
   "cell_type": "markdown",
   "id": "cf77d09f-1056-4fa1-b40b-93e233da880a",
   "metadata": {},
   "source": [
    "**firstly we need to understand the real missing values, because some of Nan values in this dataset is not actually missing but only Nan sth like equals to 0**"
   ]
  },
  {
   "cell_type": "code",
   "execution_count": 28,
   "id": "330aa85a-e312-4ac3-9a74-4ff0d7071bd4",
   "metadata": {
    "execution": {
     "iopub.execute_input": "2023-10-08T20:44:18.844039Z",
     "iopub.status.busy": "2023-10-08T20:44:18.844039Z",
     "iopub.status.idle": "2023-10-08T20:44:18.875811Z",
     "shell.execute_reply": "2023-10-08T20:44:18.875811Z",
     "shell.execute_reply.started": "2023-10-08T20:44:18.844039Z"
    },
    "scrolled": true
   },
   "outputs": [
    {
     "data": {
      "text/plain": [
       "PoolQC           2909\n",
       "MiscFeature      2814\n",
       "Alley            2721\n",
       "Fence            2348\n",
       "SalePrice        1459\n",
       "FireplaceQu      1420\n",
       "LotFrontage       486\n",
       "GarageFinish      159\n",
       "GarageQual        159\n",
       "GarageCond        159\n",
       "GarageYrBlt       159\n",
       "GarageType        157\n",
       "BsmtExposure       82\n",
       "BsmtCond           82\n",
       "BsmtQual           81\n",
       "BsmtFinType2       80\n",
       "BsmtFinType1       79\n",
       "MasVnrType         24\n",
       "MasVnrArea         23\n",
       "MSZoning            4\n",
       "Functional          2\n",
       "BsmtHalfBath        2\n",
       "BsmtFullBath        2\n",
       "Utilities           2\n",
       "BsmtFinSF1          1\n",
       "BsmtFinSF2          1\n",
       "SaleType            1\n",
       "Electrical          1\n",
       "GarageCars          1\n",
       "TotalBsmtSF         1\n",
       "GarageArea          1\n",
       "Exterior2nd         1\n",
       "Exterior1st         1\n",
       "KitchenQual         1\n",
       "BsmtUnfSF           1\n",
       "Fireplaces          0\n",
       "TotRmsAbvGrd        0\n",
       "SaleCondition       0\n",
       "OpenPorchSF         0\n",
       "YrSold              0\n",
       "WoodDeckSF          0\n",
       "MoSold              0\n",
       "MiscVal             0\n",
       "PoolArea            0\n",
       "ScreenPorch         0\n",
       "BedroomAbvGr        0\n",
       "3SsnPorch           0\n",
       "EnclosedPorch       0\n",
       "PavedDrive          0\n",
       "KitchenAbvGr        0\n",
       "Id                  0\n",
       "HalfBath            0\n",
       "FullBath            0\n",
       "LotArea             0\n",
       "Street              0\n",
       "LotShape            0\n",
       "LandContour         0\n",
       "LotConfig           0\n",
       "LandSlope           0\n",
       "Neighborhood        0\n",
       "Condition1          0\n",
       "Condition2          0\n",
       "BldgType            0\n",
       "HouseStyle          0\n",
       "OverallQual         0\n",
       "OverallCond         0\n",
       "YearBuilt           0\n",
       "YearRemodAdd        0\n",
       "RoofStyle           0\n",
       "RoofMatl            0\n",
       "ExterQual           0\n",
       "ExterCond           0\n",
       "Foundation          0\n",
       "Heating             0\n",
       "MSSubClass          0\n",
       "CentralAir          0\n",
       "1stFlrSF            0\n",
       "2ndFlrSF            0\n",
       "LowQualFinSF        0\n",
       "GrLivArea           0\n",
       "HeatingQC           0\n",
       "dtype: int64"
      ]
     },
     "execution_count": 28,
     "metadata": {},
     "output_type": "execute_result"
    }
   ],
   "source": [
    "df_merge.isnull().sum().sort_values(ascending=False)"
   ]
  },
  {
   "cell_type": "code",
   "execution_count": 31,
   "id": "8ebab63e-1b15-4a37-87e9-a29232029ec8",
   "metadata": {
    "execution": {
     "iopub.execute_input": "2023-10-08T20:44:39.738212Z",
     "iopub.status.busy": "2023-10-08T20:44:39.737212Z",
     "iopub.status.idle": "2023-10-08T20:44:39.743213Z",
     "shell.execute_reply": "2023-10-08T20:44:39.742212Z",
     "shell.execute_reply.started": "2023-10-08T20:44:39.738212Z"
    }
   },
   "outputs": [],
   "source": [
    "# i want to drop nan values less then 25\n",
    "def drop_nan_lessthen(df, nan_qty):\n",
    "    '''\n",
    "    we give a df and a quantity value (integer)\n",
    "    it checks nan values for the df\n",
    "    and drop the values less then this qty amount\n",
    "    '''\n",
    "    drop_columns = []\n",
    "    nan_series = df.isnull().sum()\n",
    "    for i,v in nan_series.iteritems():\n",
    "        if v < nan_qty:\n",
    "            drop_columns.append(i)\n",
    "    df.dropna(subset=drop_columns, inplace=True)\n",
    "    return df"
   ]
  },
  {
   "cell_type": "code",
   "execution_count": 32,
   "id": "f657b0f8-7b21-45b0-811d-3d1044d5a0b5",
   "metadata": {
    "execution": {
     "iopub.execute_input": "2023-10-08T20:44:42.293911Z",
     "iopub.status.busy": "2023-10-08T20:44:42.289758Z",
     "iopub.status.idle": "2023-10-08T20:44:42.326288Z",
     "shell.execute_reply": "2023-10-08T20:44:42.326288Z",
     "shell.execute_reply.started": "2023-10-08T20:44:42.293911Z"
    }
   },
   "outputs": [],
   "source": [
    "df_merge = drop_nan_lessthen(df_merge, 25)"
   ]
  },
  {
   "cell_type": "code",
   "execution_count": 33,
   "id": "5189ed85-392a-4103-a75e-4b2a30bf956a",
   "metadata": {
    "execution": {
     "iopub.execute_input": "2023-10-08T20:44:47.477467Z",
     "iopub.status.busy": "2023-10-08T20:44:47.477467Z",
     "iopub.status.idle": "2023-10-08T20:44:47.496654Z",
     "shell.execute_reply": "2023-10-08T20:44:47.496654Z",
     "shell.execute_reply.started": "2023-10-08T20:44:47.477467Z"
    },
    "scrolled": true
   },
   "outputs": [
    {
     "data": {
      "text/plain": [
       "PoolQC           2872\n",
       "MiscFeature      2778\n",
       "Alley            2687\n",
       "Fence            2313\n",
       "SalePrice        1431\n",
       "FireplaceQu      1401\n",
       "LotFrontage       478\n",
       "GarageYrBlt       156\n",
       "GarageFinish      156\n",
       "GarageQual        156\n",
       "GarageCond        156\n",
       "GarageType        155\n",
       "BsmtCond           77\n",
       "BsmtExposure       77\n",
       "BsmtQual           76\n",
       "BsmtFinType2       75\n",
       "BsmtFinType1       74\n",
       "TotRmsAbvGrd        0\n",
       "BsmtHalfBath        0\n",
       "FullBath            0\n",
       "KitchenQual         0\n",
       "Functional          0\n",
       "BedroomAbvGr        0\n",
       "GrLivArea           0\n",
       "BsmtFullBath        0\n",
       "HalfBath            0\n",
       "KitchenAbvGr        0\n",
       "GarageCars          0\n",
       "Fireplaces          0\n",
       "2ndFlrSF            0\n",
       "GarageArea          0\n",
       "PavedDrive          0\n",
       "WoodDeckSF          0\n",
       "OpenPorchSF         0\n",
       "EnclosedPorch       0\n",
       "3SsnPorch           0\n",
       "ScreenPorch         0\n",
       "PoolArea            0\n",
       "MiscVal             0\n",
       "MoSold              0\n",
       "YrSold              0\n",
       "SaleType            0\n",
       "SaleCondition       0\n",
       "LowQualFinSF        0\n",
       "Id                  0\n",
       "1stFlrSF            0\n",
       "Electrical          0\n",
       "OverallCond         0\n",
       "OverallQual         0\n",
       "HouseStyle          0\n",
       "BldgType            0\n",
       "Condition2          0\n",
       "Condition1          0\n",
       "Neighborhood        0\n",
       "LandSlope           0\n",
       "LotConfig           0\n",
       "Utilities           0\n",
       "LandContour         0\n",
       "LotShape            0\n",
       "Street              0\n",
       "LotArea             0\n",
       "MSZoning            0\n",
       "YearBuilt           0\n",
       "YearRemodAdd        0\n",
       "RoofStyle           0\n",
       "BsmtFinSF1          0\n",
       "CentralAir          0\n",
       "MSSubClass          0\n",
       "Heating             0\n",
       "TotalBsmtSF         0\n",
       "BsmtUnfSF           0\n",
       "BsmtFinSF2          0\n",
       "Foundation          0\n",
       "RoofMatl            0\n",
       "ExterCond           0\n",
       "ExterQual           0\n",
       "MasVnrArea          0\n",
       "MasVnrType          0\n",
       "Exterior2nd         0\n",
       "Exterior1st         0\n",
       "HeatingQC           0\n",
       "dtype: int64"
      ]
     },
     "execution_count": 33,
     "metadata": {},
     "output_type": "execute_result"
    }
   ],
   "source": [
    "df_merge.isnull().sum().sort_values(ascending=False)"
   ]
  },
  {
   "cell_type": "code",
   "execution_count": 34,
   "id": "50f089cb-5618-4b9b-b220-28104f82dc95",
   "metadata": {
    "execution": {
     "iopub.execute_input": "2023-10-08T20:45:03.300776Z",
     "iopub.status.busy": "2023-10-08T20:45:03.300269Z",
     "iopub.status.idle": "2023-10-08T20:45:03.307341Z",
     "shell.execute_reply": "2023-10-08T20:45:03.307341Z",
     "shell.execute_reply.started": "2023-10-08T20:45:03.300776Z"
    }
   },
   "outputs": [
    {
     "data": {
      "text/plain": [
       "(2882, 81)"
      ]
     },
     "execution_count": 34,
     "metadata": {},
     "output_type": "execute_result"
    }
   ],
   "source": [
    "df_merge.shape"
   ]
  },
  {
   "cell_type": "markdown",
   "id": "ec81de0d-5bcf-4188-99fa-978ff7be37ab",
   "metadata": {},
   "source": [
    "**Lets go one by one**"
   ]
  },
  {
   "cell_type": "code",
   "execution_count": null,
   "id": "999e97a4-0124-4265-a15b-bb38af8b7406",
   "metadata": {},
   "outputs": [],
   "source": [
    "PoolQC           2872"
   ]
  },
  {
   "cell_type": "code",
   "execution_count": null,
   "id": "67ee2cd5-c03a-4ff5-955e-70b73f931a19",
   "metadata": {},
   "outputs": [],
   "source": []
  },
  {
   "cell_type": "code",
   "execution_count": null,
   "id": "d04680dd-e113-4134-8f8f-6521d056d65b",
   "metadata": {},
   "outputs": [],
   "source": []
  },
  {
   "cell_type": "code",
   "execution_count": 45,
   "id": "0d3bf481-7171-4291-9f46-c12fc6d168b6",
   "metadata": {
    "execution": {
     "iopub.execute_input": "2023-10-08T20:59:15.137877Z",
     "iopub.status.busy": "2023-10-08T20:59:15.137877Z",
     "iopub.status.idle": "2023-10-08T20:59:15.149353Z",
     "shell.execute_reply": "2023-10-08T20:59:15.148353Z",
     "shell.execute_reply.started": "2023-10-08T20:59:15.137877Z"
    }
   },
   "outputs": [],
   "source": [
    "important_columns = ['Overall Quality',\n",
    "'GrLivArea',\n",
    "'TotalBsmtSF',\n",
    "'GarageCars',\n",
    "'1stFlrSF',\n",
    "'YearBuilt',\n",
    "'YearRemodAdd',\n",
    "'FullBath',\n",
    "'TotRmsAbvGrd',\n",
    "'GarageArea',\n",
    "'LotArea',\n",
    "'Neighborhood',\n",
    "'ExterQual',\n",
    "'KitchenQual',\n",
    "'BsmtQual']"
   ]
  },
  {
   "cell_type": "code",
   "execution_count": 47,
   "id": "39e9bbad-d807-4b16-b1cf-b1d1206534f0",
   "metadata": {
    "execution": {
     "iopub.execute_input": "2023-10-08T20:59:37.716673Z",
     "iopub.status.busy": "2023-10-08T20:59:37.716673Z",
     "iopub.status.idle": "2023-10-08T20:59:38.257143Z",
     "shell.execute_reply": "2023-10-08T20:59:38.256551Z",
     "shell.execute_reply.started": "2023-10-08T20:59:37.716673Z"
    }
   },
   "outputs": [
    {
     "ename": "KeyError",
     "evalue": "\"['Overall Quality'] not in index\"",
     "output_type": "error",
     "traceback": [
      "\u001b[1;31m---------------------------------------------------------------------------\u001b[0m",
      "\u001b[1;31mKeyError\u001b[0m                                  Traceback (most recent call last)",
      "Cell \u001b[1;32mIn[47], line 1\u001b[0m\n\u001b[1;32m----> 1\u001b[0m \u001b[43mdf_merge\u001b[49m\u001b[43m[\u001b[49m\u001b[43mimportant_columns\u001b[49m\u001b[43m]\u001b[49m\n",
      "File \u001b[1;32m~\\anaconda3\\envs\\techpro\\lib\\site-packages\\pandas\\core\\frame.py:3813\u001b[0m, in \u001b[0;36mDataFrame.__getitem__\u001b[1;34m(self, key)\u001b[0m\n\u001b[0;32m   3811\u001b[0m     \u001b[38;5;28;01mif\u001b[39;00m is_iterator(key):\n\u001b[0;32m   3812\u001b[0m         key \u001b[38;5;241m=\u001b[39m \u001b[38;5;28mlist\u001b[39m(key)\n\u001b[1;32m-> 3813\u001b[0m     indexer \u001b[38;5;241m=\u001b[39m \u001b[38;5;28;43mself\u001b[39;49m\u001b[38;5;241;43m.\u001b[39;49m\u001b[43mcolumns\u001b[49m\u001b[38;5;241;43m.\u001b[39;49m\u001b[43m_get_indexer_strict\u001b[49m\u001b[43m(\u001b[49m\u001b[43mkey\u001b[49m\u001b[43m,\u001b[49m\u001b[43m \u001b[49m\u001b[38;5;124;43m\"\u001b[39;49m\u001b[38;5;124;43mcolumns\u001b[39;49m\u001b[38;5;124;43m\"\u001b[39;49m\u001b[43m)\u001b[49m[\u001b[38;5;241m1\u001b[39m]\n\u001b[0;32m   3815\u001b[0m \u001b[38;5;66;03m# take() does not accept boolean indexers\u001b[39;00m\n\u001b[0;32m   3816\u001b[0m \u001b[38;5;28;01mif\u001b[39;00m \u001b[38;5;28mgetattr\u001b[39m(indexer, \u001b[38;5;124m\"\u001b[39m\u001b[38;5;124mdtype\u001b[39m\u001b[38;5;124m\"\u001b[39m, \u001b[38;5;28;01mNone\u001b[39;00m) \u001b[38;5;241m==\u001b[39m \u001b[38;5;28mbool\u001b[39m:\n",
      "File \u001b[1;32m~\\anaconda3\\envs\\techpro\\lib\\site-packages\\pandas\\core\\indexes\\base.py:6070\u001b[0m, in \u001b[0;36mIndex._get_indexer_strict\u001b[1;34m(self, key, axis_name)\u001b[0m\n\u001b[0;32m   6067\u001b[0m \u001b[38;5;28;01melse\u001b[39;00m:\n\u001b[0;32m   6068\u001b[0m     keyarr, indexer, new_indexer \u001b[38;5;241m=\u001b[39m \u001b[38;5;28mself\u001b[39m\u001b[38;5;241m.\u001b[39m_reindex_non_unique(keyarr)\n\u001b[1;32m-> 6070\u001b[0m \u001b[38;5;28;43mself\u001b[39;49m\u001b[38;5;241;43m.\u001b[39;49m\u001b[43m_raise_if_missing\u001b[49m\u001b[43m(\u001b[49m\u001b[43mkeyarr\u001b[49m\u001b[43m,\u001b[49m\u001b[43m \u001b[49m\u001b[43mindexer\u001b[49m\u001b[43m,\u001b[49m\u001b[43m \u001b[49m\u001b[43maxis_name\u001b[49m\u001b[43m)\u001b[49m\n\u001b[0;32m   6072\u001b[0m keyarr \u001b[38;5;241m=\u001b[39m \u001b[38;5;28mself\u001b[39m\u001b[38;5;241m.\u001b[39mtake(indexer)\n\u001b[0;32m   6073\u001b[0m \u001b[38;5;28;01mif\u001b[39;00m \u001b[38;5;28misinstance\u001b[39m(key, Index):\n\u001b[0;32m   6074\u001b[0m     \u001b[38;5;66;03m# GH 42790 - Preserve name from an Index\u001b[39;00m\n",
      "File \u001b[1;32m~\\anaconda3\\envs\\techpro\\lib\\site-packages\\pandas\\core\\indexes\\base.py:6133\u001b[0m, in \u001b[0;36mIndex._raise_if_missing\u001b[1;34m(self, key, indexer, axis_name)\u001b[0m\n\u001b[0;32m   6130\u001b[0m     \u001b[38;5;28;01mraise\u001b[39;00m \u001b[38;5;167;01mKeyError\u001b[39;00m(\u001b[38;5;124mf\u001b[39m\u001b[38;5;124m\"\u001b[39m\u001b[38;5;124mNone of [\u001b[39m\u001b[38;5;132;01m{\u001b[39;00mkey\u001b[38;5;132;01m}\u001b[39;00m\u001b[38;5;124m] are in the [\u001b[39m\u001b[38;5;132;01m{\u001b[39;00maxis_name\u001b[38;5;132;01m}\u001b[39;00m\u001b[38;5;124m]\u001b[39m\u001b[38;5;124m\"\u001b[39m)\n\u001b[0;32m   6132\u001b[0m not_found \u001b[38;5;241m=\u001b[39m \u001b[38;5;28mlist\u001b[39m(ensure_index(key)[missing_mask\u001b[38;5;241m.\u001b[39mnonzero()[\u001b[38;5;241m0\u001b[39m]]\u001b[38;5;241m.\u001b[39munique())\n\u001b[1;32m-> 6133\u001b[0m \u001b[38;5;28;01mraise\u001b[39;00m \u001b[38;5;167;01mKeyError\u001b[39;00m(\u001b[38;5;124mf\u001b[39m\u001b[38;5;124m\"\u001b[39m\u001b[38;5;132;01m{\u001b[39;00mnot_found\u001b[38;5;132;01m}\u001b[39;00m\u001b[38;5;124m not in index\u001b[39m\u001b[38;5;124m\"\u001b[39m)\n",
      "\u001b[1;31mKeyError\u001b[0m: \"['Overall Quality'] not in index\""
     ]
    }
   ],
   "source": [
    "df_merge[important_columns]"
   ]
  },
  {
   "cell_type": "code",
   "execution_count": null,
   "id": "ad382cf8-f2f7-4ee6-84d0-d1ee14852bf0",
   "metadata": {},
   "outputs": [],
   "source": []
  }
 ],
 "metadata": {
  "kernelspec": {
   "display_name": "Python 3 (ipykernel)",
   "language": "python",
   "name": "python3"
  },
  "language_info": {
   "codemirror_mode": {
    "name": "ipython",
    "version": 3
   },
   "file_extension": ".py",
   "mimetype": "text/x-python",
   "name": "python",
   "nbconvert_exporter": "python",
   "pygments_lexer": "ipython3",
   "version": "3.10.8"
  }
 },
 "nbformat": 4,
 "nbformat_minor": 5
}
