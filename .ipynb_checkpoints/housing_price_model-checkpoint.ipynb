{
 "cells": [
  {
   "cell_type": "markdown",
   "id": "b8c91ec7-d815-45e6-a2eb-23d739f4075c",
   "metadata": {},
   "source": [
    "# House Prices - Advanced Regression Techniques\n",
    "## Predict sales prices and practice feature engineering, RFs, and gradient boosting"
   ]
  },
  {
   "cell_type": "markdown",
   "id": "54e9d148-8f82-4623-9b18-b0b08f73bf3d",
   "metadata": {},
   "source": [
    "# 1. Introduction"
   ]
  },
  {
   "cell_type": "markdown",
   "id": "ddc6f291-ffb9-4499-b7c4-dbebf8bcebb1",
   "metadata": {},
   "source": [
    "\n",
    "\n",
    "Welcome to my Jupyter notebook for the Kaggle competition \"House Prices - Advanced Regression Techniques\". In this competition, the goal is to predict the sale prices of homes based on a variety of features. This project provides an opportunity to practice advanced regression techniques, feature engineering, and model evaluation.\n",
    "\n",
    "### Objective\n",
    "\n",
    "The objective of this competition is to develop a regression model that accurately predicts the sale prices of houses. To achieve this, we'll perform exploratory data analysis, preprocess the dataset, engineer relevant features, train various regression models, and evaluate their performace.\n",
    "\n",
    "### Dataset Overview\n",
    "\n",
    "The dataset provided for this competition contains information about various attributes of residential homes. It includes features such as square footage, number of bedrooms, location, and more. Additionally, the dataset contains the target variable, which is the sale price of eac house.\n",
    "\n",
    "### Tools and Libraries Used\n",
    "\n",
    "- Python\n",
    "- Pandas for data manipulation\n",
    "- Matplotlib and Seaborn for data visualization\n",
    "- Scikit-learn for model building and evaluation\n",
    "\n",
    "Now, let's start by loading and exploring the dataset to gain a better understanding of the features and their relationships with the target variable.\n"
   ]
  },
  {
   "cell_type": "markdown",
   "id": "b2b75b77-5d59-43ce-817f-c4c8942dcf19",
   "metadata": {},
   "source": [
    "# 2. Data Exploration and Preprocessing"
   ]
  },
  {
   "cell_type": "markdown",
   "id": "e30c5df2-2339-4e28-bfcc-06231623ec7f",
   "metadata": {},
   "source": [
    "## Load and Exploring the dataset"
   ]
  },
  {
   "cell_type": "code",
   "execution_count": 177,
   "id": "10c8a7f6-3f65-4230-bcbc-a1288c22bd08",
   "metadata": {
    "tags": []
   },
   "outputs": [],
   "source": [
    "#deneme"
   ]
  },
  {
   "cell_type": "code",
   "execution_count": 178,
   "id": "8d74c253-b3be-4986-828a-ba816550e9b0",
   "metadata": {
    "tags": []
   },
   "outputs": [],
   "source": [
    "import pandas as pd\n",
    "import numpy as np\n",
    "import matplotlib.pyplot as plt\n",
    "import seaborn as sns\n",
    "import warnings\n",
    "warnings.filterwarnings('ignore')"
   ]
  },
  {
   "cell_type": "code",
   "execution_count": 179,
   "id": "7267fd8e-7baf-44d0-9d3d-456d03c7f4a2",
   "metadata": {
    "tags": []
   },
   "outputs": [],
   "source": [
    "pd.set_option('display.max_rows', None)\n",
    "pd.set_option('display.max_columns', None)"
   ]
  },
  {
   "cell_type": "code",
   "execution_count": 180,
   "id": "849e3661-f201-4231-a63d-efdd1a8a741d",
   "metadata": {
    "tags": []
   },
   "outputs": [
    {
     "data": {
      "text/html": [
       "<style>div.output_scroll { height: 44em; }</style>"
      ],
      "text/plain": [
       "<IPython.core.display.HTML object>"
      ]
     },
     "metadata": {},
     "output_type": "display_data"
    }
   ],
   "source": [
    "from IPython.display import display, HTML\n",
    "display(HTML(\"<style>div.output_scroll { height: 44em; }</style>\"))"
   ]
  },
  {
   "cell_type": "code",
   "execution_count": 181,
   "id": "7ae0f8e7-1aab-494c-8817-852c69ee7057",
   "metadata": {
    "tags": []
   },
   "outputs": [],
   "source": [
    "df = pd.read_csv('data_downloaded/train.csv')"
   ]
  },
  {
   "cell_type": "code",
   "execution_count": 182,
   "id": "335ff604-9b20-4e73-89b0-dc0a2c3c4067",
   "metadata": {
    "tags": []
   },
   "outputs": [
    {
     "data": {
      "text/plain": [
       "(1460, 81)"
      ]
     },
     "execution_count": 182,
     "metadata": {},
     "output_type": "execute_result"
    }
   ],
   "source": [
    "df.shape"
   ]
  },
  {
   "cell_type": "code",
   "execution_count": 183,
   "id": "efe11d10-2cf8-4ed2-9eca-79f49e0affdb",
   "metadata": {
    "scrolled": true,
    "tags": []
   },
   "outputs": [
    {
     "data": {
      "text/html": [
       "<div>\n",
       "<style scoped>\n",
       "    .dataframe tbody tr th:only-of-type {\n",
       "        vertical-align: middle;\n",
       "    }\n",
       "\n",
       "    .dataframe tbody tr th {\n",
       "        vertical-align: top;\n",
       "    }\n",
       "\n",
       "    .dataframe thead th {\n",
       "        text-align: right;\n",
       "    }\n",
       "</style>\n",
       "<table border=\"1\" class=\"dataframe\">\n",
       "  <thead>\n",
       "    <tr style=\"text-align: right;\">\n",
       "      <th></th>\n",
       "      <th>Id</th>\n",
       "      <th>MSSubClass</th>\n",
       "      <th>MSZoning</th>\n",
       "      <th>LotFrontage</th>\n",
       "      <th>LotArea</th>\n",
       "      <th>Street</th>\n",
       "      <th>Alley</th>\n",
       "      <th>LotShape</th>\n",
       "      <th>LandContour</th>\n",
       "      <th>Utilities</th>\n",
       "      <th>LotConfig</th>\n",
       "      <th>LandSlope</th>\n",
       "      <th>Neighborhood</th>\n",
       "      <th>Condition1</th>\n",
       "      <th>Condition2</th>\n",
       "      <th>BldgType</th>\n",
       "      <th>HouseStyle</th>\n",
       "      <th>OverallQual</th>\n",
       "      <th>OverallCond</th>\n",
       "      <th>YearBuilt</th>\n",
       "      <th>YearRemodAdd</th>\n",
       "      <th>RoofStyle</th>\n",
       "      <th>RoofMatl</th>\n",
       "      <th>Exterior1st</th>\n",
       "      <th>Exterior2nd</th>\n",
       "      <th>MasVnrType</th>\n",
       "      <th>MasVnrArea</th>\n",
       "      <th>ExterQual</th>\n",
       "      <th>ExterCond</th>\n",
       "      <th>Foundation</th>\n",
       "      <th>BsmtQual</th>\n",
       "      <th>BsmtCond</th>\n",
       "      <th>BsmtExposure</th>\n",
       "      <th>BsmtFinType1</th>\n",
       "      <th>BsmtFinSF1</th>\n",
       "      <th>BsmtFinType2</th>\n",
       "      <th>BsmtFinSF2</th>\n",
       "      <th>BsmtUnfSF</th>\n",
       "      <th>TotalBsmtSF</th>\n",
       "      <th>Heating</th>\n",
       "      <th>HeatingQC</th>\n",
       "      <th>CentralAir</th>\n",
       "      <th>Electrical</th>\n",
       "      <th>1stFlrSF</th>\n",
       "      <th>2ndFlrSF</th>\n",
       "      <th>LowQualFinSF</th>\n",
       "      <th>GrLivArea</th>\n",
       "      <th>BsmtFullBath</th>\n",
       "      <th>BsmtHalfBath</th>\n",
       "      <th>FullBath</th>\n",
       "      <th>HalfBath</th>\n",
       "      <th>BedroomAbvGr</th>\n",
       "      <th>KitchenAbvGr</th>\n",
       "      <th>KitchenQual</th>\n",
       "      <th>TotRmsAbvGrd</th>\n",
       "      <th>Functional</th>\n",
       "      <th>Fireplaces</th>\n",
       "      <th>FireplaceQu</th>\n",
       "      <th>GarageType</th>\n",
       "      <th>GarageYrBlt</th>\n",
       "      <th>GarageFinish</th>\n",
       "      <th>GarageCars</th>\n",
       "      <th>GarageArea</th>\n",
       "      <th>GarageQual</th>\n",
       "      <th>GarageCond</th>\n",
       "      <th>PavedDrive</th>\n",
       "      <th>WoodDeckSF</th>\n",
       "      <th>OpenPorchSF</th>\n",
       "      <th>EnclosedPorch</th>\n",
       "      <th>3SsnPorch</th>\n",
       "      <th>ScreenPorch</th>\n",
       "      <th>PoolArea</th>\n",
       "      <th>PoolQC</th>\n",
       "      <th>Fence</th>\n",
       "      <th>MiscFeature</th>\n",
       "      <th>MiscVal</th>\n",
       "      <th>MoSold</th>\n",
       "      <th>YrSold</th>\n",
       "      <th>SaleType</th>\n",
       "      <th>SaleCondition</th>\n",
       "      <th>SalePrice</th>\n",
       "    </tr>\n",
       "  </thead>\n",
       "  <tbody>\n",
       "    <tr>\n",
       "      <th>0</th>\n",
       "      <td>1</td>\n",
       "      <td>60</td>\n",
       "      <td>RL</td>\n",
       "      <td>65.0</td>\n",
       "      <td>8450</td>\n",
       "      <td>Pave</td>\n",
       "      <td>NaN</td>\n",
       "      <td>Reg</td>\n",
       "      <td>Lvl</td>\n",
       "      <td>AllPub</td>\n",
       "      <td>Inside</td>\n",
       "      <td>Gtl</td>\n",
       "      <td>CollgCr</td>\n",
       "      <td>Norm</td>\n",
       "      <td>Norm</td>\n",
       "      <td>1Fam</td>\n",
       "      <td>2Story</td>\n",
       "      <td>7</td>\n",
       "      <td>5</td>\n",
       "      <td>2003</td>\n",
       "      <td>2003</td>\n",
       "      <td>Gable</td>\n",
       "      <td>CompShg</td>\n",
       "      <td>VinylSd</td>\n",
       "      <td>VinylSd</td>\n",
       "      <td>BrkFace</td>\n",
       "      <td>196.0</td>\n",
       "      <td>Gd</td>\n",
       "      <td>TA</td>\n",
       "      <td>PConc</td>\n",
       "      <td>Gd</td>\n",
       "      <td>TA</td>\n",
       "      <td>No</td>\n",
       "      <td>GLQ</td>\n",
       "      <td>706</td>\n",
       "      <td>Unf</td>\n",
       "      <td>0</td>\n",
       "      <td>150</td>\n",
       "      <td>856</td>\n",
       "      <td>GasA</td>\n",
       "      <td>Ex</td>\n",
       "      <td>Y</td>\n",
       "      <td>SBrkr</td>\n",
       "      <td>856</td>\n",
       "      <td>854</td>\n",
       "      <td>0</td>\n",
       "      <td>1710</td>\n",
       "      <td>1</td>\n",
       "      <td>0</td>\n",
       "      <td>2</td>\n",
       "      <td>1</td>\n",
       "      <td>3</td>\n",
       "      <td>1</td>\n",
       "      <td>Gd</td>\n",
       "      <td>8</td>\n",
       "      <td>Typ</td>\n",
       "      <td>0</td>\n",
       "      <td>NaN</td>\n",
       "      <td>Attchd</td>\n",
       "      <td>2003.0</td>\n",
       "      <td>RFn</td>\n",
       "      <td>2</td>\n",
       "      <td>548</td>\n",
       "      <td>TA</td>\n",
       "      <td>TA</td>\n",
       "      <td>Y</td>\n",
       "      <td>0</td>\n",
       "      <td>61</td>\n",
       "      <td>0</td>\n",
       "      <td>0</td>\n",
       "      <td>0</td>\n",
       "      <td>0</td>\n",
       "      <td>NaN</td>\n",
       "      <td>NaN</td>\n",
       "      <td>NaN</td>\n",
       "      <td>0</td>\n",
       "      <td>2</td>\n",
       "      <td>2008</td>\n",
       "      <td>WD</td>\n",
       "      <td>Normal</td>\n",
       "      <td>208500</td>\n",
       "    </tr>\n",
       "    <tr>\n",
       "      <th>1</th>\n",
       "      <td>2</td>\n",
       "      <td>20</td>\n",
       "      <td>RL</td>\n",
       "      <td>80.0</td>\n",
       "      <td>9600</td>\n",
       "      <td>Pave</td>\n",
       "      <td>NaN</td>\n",
       "      <td>Reg</td>\n",
       "      <td>Lvl</td>\n",
       "      <td>AllPub</td>\n",
       "      <td>FR2</td>\n",
       "      <td>Gtl</td>\n",
       "      <td>Veenker</td>\n",
       "      <td>Feedr</td>\n",
       "      <td>Norm</td>\n",
       "      <td>1Fam</td>\n",
       "      <td>1Story</td>\n",
       "      <td>6</td>\n",
       "      <td>8</td>\n",
       "      <td>1976</td>\n",
       "      <td>1976</td>\n",
       "      <td>Gable</td>\n",
       "      <td>CompShg</td>\n",
       "      <td>MetalSd</td>\n",
       "      <td>MetalSd</td>\n",
       "      <td>None</td>\n",
       "      <td>0.0</td>\n",
       "      <td>TA</td>\n",
       "      <td>TA</td>\n",
       "      <td>CBlock</td>\n",
       "      <td>Gd</td>\n",
       "      <td>TA</td>\n",
       "      <td>Gd</td>\n",
       "      <td>ALQ</td>\n",
       "      <td>978</td>\n",
       "      <td>Unf</td>\n",
       "      <td>0</td>\n",
       "      <td>284</td>\n",
       "      <td>1262</td>\n",
       "      <td>GasA</td>\n",
       "      <td>Ex</td>\n",
       "      <td>Y</td>\n",
       "      <td>SBrkr</td>\n",
       "      <td>1262</td>\n",
       "      <td>0</td>\n",
       "      <td>0</td>\n",
       "      <td>1262</td>\n",
       "      <td>0</td>\n",
       "      <td>1</td>\n",
       "      <td>2</td>\n",
       "      <td>0</td>\n",
       "      <td>3</td>\n",
       "      <td>1</td>\n",
       "      <td>TA</td>\n",
       "      <td>6</td>\n",
       "      <td>Typ</td>\n",
       "      <td>1</td>\n",
       "      <td>TA</td>\n",
       "      <td>Attchd</td>\n",
       "      <td>1976.0</td>\n",
       "      <td>RFn</td>\n",
       "      <td>2</td>\n",
       "      <td>460</td>\n",
       "      <td>TA</td>\n",
       "      <td>TA</td>\n",
       "      <td>Y</td>\n",
       "      <td>298</td>\n",
       "      <td>0</td>\n",
       "      <td>0</td>\n",
       "      <td>0</td>\n",
       "      <td>0</td>\n",
       "      <td>0</td>\n",
       "      <td>NaN</td>\n",
       "      <td>NaN</td>\n",
       "      <td>NaN</td>\n",
       "      <td>0</td>\n",
       "      <td>5</td>\n",
       "      <td>2007</td>\n",
       "      <td>WD</td>\n",
       "      <td>Normal</td>\n",
       "      <td>181500</td>\n",
       "    </tr>\n",
       "    <tr>\n",
       "      <th>2</th>\n",
       "      <td>3</td>\n",
       "      <td>60</td>\n",
       "      <td>RL</td>\n",
       "      <td>68.0</td>\n",
       "      <td>11250</td>\n",
       "      <td>Pave</td>\n",
       "      <td>NaN</td>\n",
       "      <td>IR1</td>\n",
       "      <td>Lvl</td>\n",
       "      <td>AllPub</td>\n",
       "      <td>Inside</td>\n",
       "      <td>Gtl</td>\n",
       "      <td>CollgCr</td>\n",
       "      <td>Norm</td>\n",
       "      <td>Norm</td>\n",
       "      <td>1Fam</td>\n",
       "      <td>2Story</td>\n",
       "      <td>7</td>\n",
       "      <td>5</td>\n",
       "      <td>2001</td>\n",
       "      <td>2002</td>\n",
       "      <td>Gable</td>\n",
       "      <td>CompShg</td>\n",
       "      <td>VinylSd</td>\n",
       "      <td>VinylSd</td>\n",
       "      <td>BrkFace</td>\n",
       "      <td>162.0</td>\n",
       "      <td>Gd</td>\n",
       "      <td>TA</td>\n",
       "      <td>PConc</td>\n",
       "      <td>Gd</td>\n",
       "      <td>TA</td>\n",
       "      <td>Mn</td>\n",
       "      <td>GLQ</td>\n",
       "      <td>486</td>\n",
       "      <td>Unf</td>\n",
       "      <td>0</td>\n",
       "      <td>434</td>\n",
       "      <td>920</td>\n",
       "      <td>GasA</td>\n",
       "      <td>Ex</td>\n",
       "      <td>Y</td>\n",
       "      <td>SBrkr</td>\n",
       "      <td>920</td>\n",
       "      <td>866</td>\n",
       "      <td>0</td>\n",
       "      <td>1786</td>\n",
       "      <td>1</td>\n",
       "      <td>0</td>\n",
       "      <td>2</td>\n",
       "      <td>1</td>\n",
       "      <td>3</td>\n",
       "      <td>1</td>\n",
       "      <td>Gd</td>\n",
       "      <td>6</td>\n",
       "      <td>Typ</td>\n",
       "      <td>1</td>\n",
       "      <td>TA</td>\n",
       "      <td>Attchd</td>\n",
       "      <td>2001.0</td>\n",
       "      <td>RFn</td>\n",
       "      <td>2</td>\n",
       "      <td>608</td>\n",
       "      <td>TA</td>\n",
       "      <td>TA</td>\n",
       "      <td>Y</td>\n",
       "      <td>0</td>\n",
       "      <td>42</td>\n",
       "      <td>0</td>\n",
       "      <td>0</td>\n",
       "      <td>0</td>\n",
       "      <td>0</td>\n",
       "      <td>NaN</td>\n",
       "      <td>NaN</td>\n",
       "      <td>NaN</td>\n",
       "      <td>0</td>\n",
       "      <td>9</td>\n",
       "      <td>2008</td>\n",
       "      <td>WD</td>\n",
       "      <td>Normal</td>\n",
       "      <td>223500</td>\n",
       "    </tr>\n",
       "    <tr>\n",
       "      <th>3</th>\n",
       "      <td>4</td>\n",
       "      <td>70</td>\n",
       "      <td>RL</td>\n",
       "      <td>60.0</td>\n",
       "      <td>9550</td>\n",
       "      <td>Pave</td>\n",
       "      <td>NaN</td>\n",
       "      <td>IR1</td>\n",
       "      <td>Lvl</td>\n",
       "      <td>AllPub</td>\n",
       "      <td>Corner</td>\n",
       "      <td>Gtl</td>\n",
       "      <td>Crawfor</td>\n",
       "      <td>Norm</td>\n",
       "      <td>Norm</td>\n",
       "      <td>1Fam</td>\n",
       "      <td>2Story</td>\n",
       "      <td>7</td>\n",
       "      <td>5</td>\n",
       "      <td>1915</td>\n",
       "      <td>1970</td>\n",
       "      <td>Gable</td>\n",
       "      <td>CompShg</td>\n",
       "      <td>Wd Sdng</td>\n",
       "      <td>Wd Shng</td>\n",
       "      <td>None</td>\n",
       "      <td>0.0</td>\n",
       "      <td>TA</td>\n",
       "      <td>TA</td>\n",
       "      <td>BrkTil</td>\n",
       "      <td>TA</td>\n",
       "      <td>Gd</td>\n",
       "      <td>No</td>\n",
       "      <td>ALQ</td>\n",
       "      <td>216</td>\n",
       "      <td>Unf</td>\n",
       "      <td>0</td>\n",
       "      <td>540</td>\n",
       "      <td>756</td>\n",
       "      <td>GasA</td>\n",
       "      <td>Gd</td>\n",
       "      <td>Y</td>\n",
       "      <td>SBrkr</td>\n",
       "      <td>961</td>\n",
       "      <td>756</td>\n",
       "      <td>0</td>\n",
       "      <td>1717</td>\n",
       "      <td>1</td>\n",
       "      <td>0</td>\n",
       "      <td>1</td>\n",
       "      <td>0</td>\n",
       "      <td>3</td>\n",
       "      <td>1</td>\n",
       "      <td>Gd</td>\n",
       "      <td>7</td>\n",
       "      <td>Typ</td>\n",
       "      <td>1</td>\n",
       "      <td>Gd</td>\n",
       "      <td>Detchd</td>\n",
       "      <td>1998.0</td>\n",
       "      <td>Unf</td>\n",
       "      <td>3</td>\n",
       "      <td>642</td>\n",
       "      <td>TA</td>\n",
       "      <td>TA</td>\n",
       "      <td>Y</td>\n",
       "      <td>0</td>\n",
       "      <td>35</td>\n",
       "      <td>272</td>\n",
       "      <td>0</td>\n",
       "      <td>0</td>\n",
       "      <td>0</td>\n",
       "      <td>NaN</td>\n",
       "      <td>NaN</td>\n",
       "      <td>NaN</td>\n",
       "      <td>0</td>\n",
       "      <td>2</td>\n",
       "      <td>2006</td>\n",
       "      <td>WD</td>\n",
       "      <td>Abnorml</td>\n",
       "      <td>140000</td>\n",
       "    </tr>\n",
       "    <tr>\n",
       "      <th>4</th>\n",
       "      <td>5</td>\n",
       "      <td>60</td>\n",
       "      <td>RL</td>\n",
       "      <td>84.0</td>\n",
       "      <td>14260</td>\n",
       "      <td>Pave</td>\n",
       "      <td>NaN</td>\n",
       "      <td>IR1</td>\n",
       "      <td>Lvl</td>\n",
       "      <td>AllPub</td>\n",
       "      <td>FR2</td>\n",
       "      <td>Gtl</td>\n",
       "      <td>NoRidge</td>\n",
       "      <td>Norm</td>\n",
       "      <td>Norm</td>\n",
       "      <td>1Fam</td>\n",
       "      <td>2Story</td>\n",
       "      <td>8</td>\n",
       "      <td>5</td>\n",
       "      <td>2000</td>\n",
       "      <td>2000</td>\n",
       "      <td>Gable</td>\n",
       "      <td>CompShg</td>\n",
       "      <td>VinylSd</td>\n",
       "      <td>VinylSd</td>\n",
       "      <td>BrkFace</td>\n",
       "      <td>350.0</td>\n",
       "      <td>Gd</td>\n",
       "      <td>TA</td>\n",
       "      <td>PConc</td>\n",
       "      <td>Gd</td>\n",
       "      <td>TA</td>\n",
       "      <td>Av</td>\n",
       "      <td>GLQ</td>\n",
       "      <td>655</td>\n",
       "      <td>Unf</td>\n",
       "      <td>0</td>\n",
       "      <td>490</td>\n",
       "      <td>1145</td>\n",
       "      <td>GasA</td>\n",
       "      <td>Ex</td>\n",
       "      <td>Y</td>\n",
       "      <td>SBrkr</td>\n",
       "      <td>1145</td>\n",
       "      <td>1053</td>\n",
       "      <td>0</td>\n",
       "      <td>2198</td>\n",
       "      <td>1</td>\n",
       "      <td>0</td>\n",
       "      <td>2</td>\n",
       "      <td>1</td>\n",
       "      <td>4</td>\n",
       "      <td>1</td>\n",
       "      <td>Gd</td>\n",
       "      <td>9</td>\n",
       "      <td>Typ</td>\n",
       "      <td>1</td>\n",
       "      <td>TA</td>\n",
       "      <td>Attchd</td>\n",
       "      <td>2000.0</td>\n",
       "      <td>RFn</td>\n",
       "      <td>3</td>\n",
       "      <td>836</td>\n",
       "      <td>TA</td>\n",
       "      <td>TA</td>\n",
       "      <td>Y</td>\n",
       "      <td>192</td>\n",
       "      <td>84</td>\n",
       "      <td>0</td>\n",
       "      <td>0</td>\n",
       "      <td>0</td>\n",
       "      <td>0</td>\n",
       "      <td>NaN</td>\n",
       "      <td>NaN</td>\n",
       "      <td>NaN</td>\n",
       "      <td>0</td>\n",
       "      <td>12</td>\n",
       "      <td>2008</td>\n",
       "      <td>WD</td>\n",
       "      <td>Normal</td>\n",
       "      <td>250000</td>\n",
       "    </tr>\n",
       "  </tbody>\n",
       "</table>\n",
       "</div>"
      ],
      "text/plain": [
       "   Id  MSSubClass MSZoning  LotFrontage  LotArea Street Alley LotShape  \\\n",
       "0   1          60       RL         65.0     8450   Pave   NaN      Reg   \n",
       "1   2          20       RL         80.0     9600   Pave   NaN      Reg   \n",
       "2   3          60       RL         68.0    11250   Pave   NaN      IR1   \n",
       "3   4          70       RL         60.0     9550   Pave   NaN      IR1   \n",
       "4   5          60       RL         84.0    14260   Pave   NaN      IR1   \n",
       "\n",
       "  LandContour Utilities LotConfig LandSlope Neighborhood Condition1  \\\n",
       "0         Lvl    AllPub    Inside       Gtl      CollgCr       Norm   \n",
       "1         Lvl    AllPub       FR2       Gtl      Veenker      Feedr   \n",
       "2         Lvl    AllPub    Inside       Gtl      CollgCr       Norm   \n",
       "3         Lvl    AllPub    Corner       Gtl      Crawfor       Norm   \n",
       "4         Lvl    AllPub       FR2       Gtl      NoRidge       Norm   \n",
       "\n",
       "  Condition2 BldgType HouseStyle  OverallQual  OverallCond  YearBuilt  \\\n",
       "0       Norm     1Fam     2Story            7            5       2003   \n",
       "1       Norm     1Fam     1Story            6            8       1976   \n",
       "2       Norm     1Fam     2Story            7            5       2001   \n",
       "3       Norm     1Fam     2Story            7            5       1915   \n",
       "4       Norm     1Fam     2Story            8            5       2000   \n",
       "\n",
       "   YearRemodAdd RoofStyle RoofMatl Exterior1st Exterior2nd MasVnrType  \\\n",
       "0          2003     Gable  CompShg     VinylSd     VinylSd    BrkFace   \n",
       "1          1976     Gable  CompShg     MetalSd     MetalSd       None   \n",
       "2          2002     Gable  CompShg     VinylSd     VinylSd    BrkFace   \n",
       "3          1970     Gable  CompShg     Wd Sdng     Wd Shng       None   \n",
       "4          2000     Gable  CompShg     VinylSd     VinylSd    BrkFace   \n",
       "\n",
       "   MasVnrArea ExterQual ExterCond Foundation BsmtQual BsmtCond BsmtExposure  \\\n",
       "0       196.0        Gd        TA      PConc       Gd       TA           No   \n",
       "1         0.0        TA        TA     CBlock       Gd       TA           Gd   \n",
       "2       162.0        Gd        TA      PConc       Gd       TA           Mn   \n",
       "3         0.0        TA        TA     BrkTil       TA       Gd           No   \n",
       "4       350.0        Gd        TA      PConc       Gd       TA           Av   \n",
       "\n",
       "  BsmtFinType1  BsmtFinSF1 BsmtFinType2  BsmtFinSF2  BsmtUnfSF  TotalBsmtSF  \\\n",
       "0          GLQ         706          Unf           0        150          856   \n",
       "1          ALQ         978          Unf           0        284         1262   \n",
       "2          GLQ         486          Unf           0        434          920   \n",
       "3          ALQ         216          Unf           0        540          756   \n",
       "4          GLQ         655          Unf           0        490         1145   \n",
       "\n",
       "  Heating HeatingQC CentralAir Electrical  1stFlrSF  2ndFlrSF  LowQualFinSF  \\\n",
       "0    GasA        Ex          Y      SBrkr       856       854             0   \n",
       "1    GasA        Ex          Y      SBrkr      1262         0             0   \n",
       "2    GasA        Ex          Y      SBrkr       920       866             0   \n",
       "3    GasA        Gd          Y      SBrkr       961       756             0   \n",
       "4    GasA        Ex          Y      SBrkr      1145      1053             0   \n",
       "\n",
       "   GrLivArea  BsmtFullBath  BsmtHalfBath  FullBath  HalfBath  BedroomAbvGr  \\\n",
       "0       1710             1             0         2         1             3   \n",
       "1       1262             0             1         2         0             3   \n",
       "2       1786             1             0         2         1             3   \n",
       "3       1717             1             0         1         0             3   \n",
       "4       2198             1             0         2         1             4   \n",
       "\n",
       "   KitchenAbvGr KitchenQual  TotRmsAbvGrd Functional  Fireplaces FireplaceQu  \\\n",
       "0             1          Gd             8        Typ           0         NaN   \n",
       "1             1          TA             6        Typ           1          TA   \n",
       "2             1          Gd             6        Typ           1          TA   \n",
       "3             1          Gd             7        Typ           1          Gd   \n",
       "4             1          Gd             9        Typ           1          TA   \n",
       "\n",
       "  GarageType  GarageYrBlt GarageFinish  GarageCars  GarageArea GarageQual  \\\n",
       "0     Attchd       2003.0          RFn           2         548         TA   \n",
       "1     Attchd       1976.0          RFn           2         460         TA   \n",
       "2     Attchd       2001.0          RFn           2         608         TA   \n",
       "3     Detchd       1998.0          Unf           3         642         TA   \n",
       "4     Attchd       2000.0          RFn           3         836         TA   \n",
       "\n",
       "  GarageCond PavedDrive  WoodDeckSF  OpenPorchSF  EnclosedPorch  3SsnPorch  \\\n",
       "0         TA          Y           0           61              0          0   \n",
       "1         TA          Y         298            0              0          0   \n",
       "2         TA          Y           0           42              0          0   \n",
       "3         TA          Y           0           35            272          0   \n",
       "4         TA          Y         192           84              0          0   \n",
       "\n",
       "   ScreenPorch  PoolArea PoolQC Fence MiscFeature  MiscVal  MoSold  YrSold  \\\n",
       "0            0         0    NaN   NaN         NaN        0       2    2008   \n",
       "1            0         0    NaN   NaN         NaN        0       5    2007   \n",
       "2            0         0    NaN   NaN         NaN        0       9    2008   \n",
       "3            0         0    NaN   NaN         NaN        0       2    2006   \n",
       "4            0         0    NaN   NaN         NaN        0      12    2008   \n",
       "\n",
       "  SaleType SaleCondition  SalePrice  \n",
       "0       WD        Normal     208500  \n",
       "1       WD        Normal     181500  \n",
       "2       WD        Normal     223500  \n",
       "3       WD       Abnorml     140000  \n",
       "4       WD        Normal     250000  "
      ]
     },
     "execution_count": 183,
     "metadata": {},
     "output_type": "execute_result"
    }
   ],
   "source": [
    "df.head()"
   ]
  },
  {
   "cell_type": "markdown",
   "id": "05579e19-4bb9-4e7e-ae1a-e9db73c87a92",
   "metadata": {},
   "source": [
    "## Handling Missing Values"
   ]
  },
  {
   "cell_type": "code",
   "execution_count": 184,
   "id": "6054c4d8-706a-4131-9156-451dfd91f552",
   "metadata": {
    "scrolled": true,
    "tags": []
   },
   "outputs": [
    {
     "data": {
      "text/plain": [
       "PoolQC           1453\n",
       "MiscFeature      1406\n",
       "Alley            1369\n",
       "Fence            1179\n",
       "FireplaceQu       690\n",
       "LotFrontage       259\n",
       "GarageYrBlt        81\n",
       "GarageCond         81\n",
       "GarageType         81\n",
       "GarageFinish       81\n",
       "GarageQual         81\n",
       "BsmtFinType2       38\n",
       "BsmtExposure       38\n",
       "BsmtQual           37\n",
       "BsmtCond           37\n",
       "BsmtFinType1       37\n",
       "MasVnrArea          8\n",
       "MasVnrType          8\n",
       "Electrical          1\n",
       "Id                  0\n",
       "Functional          0\n",
       "Fireplaces          0\n",
       "KitchenQual         0\n",
       "KitchenAbvGr        0\n",
       "BedroomAbvGr        0\n",
       "HalfBath            0\n",
       "FullBath            0\n",
       "BsmtHalfBath        0\n",
       "TotRmsAbvGrd        0\n",
       "GarageCars          0\n",
       "GrLivArea           0\n",
       "GarageArea          0\n",
       "PavedDrive          0\n",
       "WoodDeckSF          0\n",
       "OpenPorchSF         0\n",
       "EnclosedPorch       0\n",
       "3SsnPorch           0\n",
       "ScreenPorch         0\n",
       "PoolArea            0\n",
       "MiscVal             0\n",
       "MoSold              0\n",
       "YrSold              0\n",
       "SaleType            0\n",
       "SaleCondition       0\n",
       "BsmtFullBath        0\n",
       "HeatingQC           0\n",
       "LowQualFinSF        0\n",
       "LandSlope           0\n",
       "OverallQual         0\n",
       "HouseStyle          0\n",
       "BldgType            0\n",
       "Condition2          0\n",
       "Condition1          0\n",
       "Neighborhood        0\n",
       "LotConfig           0\n",
       "YearBuilt           0\n",
       "Utilities           0\n",
       "LandContour         0\n",
       "LotShape            0\n",
       "Street              0\n",
       "LotArea             0\n",
       "MSZoning            0\n",
       "OverallCond         0\n",
       "YearRemodAdd        0\n",
       "2ndFlrSF            0\n",
       "BsmtFinSF2          0\n",
       "1stFlrSF            0\n",
       "CentralAir          0\n",
       "MSSubClass          0\n",
       "Heating             0\n",
       "TotalBsmtSF         0\n",
       "BsmtUnfSF           0\n",
       "BsmtFinSF1          0\n",
       "RoofStyle           0\n",
       "Foundation          0\n",
       "ExterCond           0\n",
       "ExterQual           0\n",
       "Exterior2nd         0\n",
       "Exterior1st         0\n",
       "RoofMatl            0\n",
       "SalePrice           0\n",
       "dtype: int64"
      ]
     },
     "execution_count": 184,
     "metadata": {},
     "output_type": "execute_result"
    }
   ],
   "source": [
    "df.isnull().sum().sort_values(ascending=False)"
   ]
  },
  {
   "cell_type": "markdown",
   "id": "55b6838f-6ef9-4742-92a4-15d89d351f03",
   "metadata": {
    "execution": {
     "iopub.execute_input": "2023-10-08T21:17:49.574601Z",
     "iopub.status.busy": "2023-10-08T21:17:49.574601Z",
     "iopub.status.idle": "2023-10-08T21:17:49.588441Z",
     "shell.execute_reply": "2023-10-08T21:17:49.587383Z",
     "shell.execute_reply.started": "2023-10-08T21:17:49.574601Z"
    }
   },
   "source": [
    "### Observing Nan Values"
   ]
  },
  {
   "cell_type": "code",
   "execution_count": 185,
   "id": "2709a5d6-8388-488f-ad50-43712b13b892",
   "metadata": {
    "tags": []
   },
   "outputs": [],
   "source": [
    "# i want to drop nan values less then 25\n",
    "def drop_nan_lessthen(df, nan_qty):\n",
    "    '''\n",
    "    we give a df and a quantity value (integer)\n",
    "    it checks nan values for the df\n",
    "    and drop the values less then this qty amount\n",
    "    '''\n",
    "    drop_columns = []\n",
    "    nan_series = df.isnull().sum()\n",
    "    for i,v in nan_series.iteritems():\n",
    "        if v < nan_qty:\n",
    "            drop_columns.append(i)\n",
    "    df.dropna(subset=drop_columns, inplace=True)\n",
    "    return df"
   ]
  },
  {
   "cell_type": "code",
   "execution_count": 186,
   "id": "e059db4f-1f65-40f3-a799-6d481e20961e",
   "metadata": {
    "tags": []
   },
   "outputs": [],
   "source": [
    "df1 = drop_nan_lessthen(df, 25)"
   ]
  },
  {
   "cell_type": "code",
   "execution_count": 187,
   "id": "94ffa049-a1ab-4678-8d87-9babde3df056",
   "metadata": {
    "tags": []
   },
   "outputs": [
    {
     "data": {
      "text/plain": [
       "(1451, 81)"
      ]
     },
     "execution_count": 187,
     "metadata": {},
     "output_type": "execute_result"
    }
   ],
   "source": [
    "df1.shape"
   ]
  },
  {
   "cell_type": "code",
   "execution_count": 188,
   "id": "eaee5631-9b79-45cb-b39b-d09e253c7ec9",
   "metadata": {
    "scrolled": true,
    "tags": []
   },
   "outputs": [
    {
     "data": {
      "text/plain": [
       "PoolQC          1444\n",
       "MiscFeature     1397\n",
       "Alley           1361\n",
       "Fence           1170\n",
       "FireplaceQu      685\n",
       "LotFrontage      257\n",
       "GarageType        81\n",
       "GarageYrBlt       81\n",
       "GarageFinish      81\n",
       "GarageQual        81\n",
       "GarageCond        81\n",
       "BsmtExposure      38\n",
       "BsmtFinType2      38\n",
       "BsmtQual          37\n",
       "BsmtCond          37\n",
       "BsmtFinType1      37\n",
       "dtype: int64"
      ]
     },
     "execution_count": 188,
     "metadata": {},
     "output_type": "execute_result"
    }
   ],
   "source": [
    "missing_values = df1.isnull().sum()[df1.isnull().sum().sort_values(ascending=False)>25].sort_values(ascending=False)\n",
    "missing_values"
   ]
  },
  {
   "cell_type": "code",
   "execution_count": 189,
   "id": "aafeb8e0-4feb-4136-ba27-e6affe37995e",
   "metadata": {
    "tags": []
   },
   "outputs": [
    {
     "data": {
      "image/png": "[encoded data removed]",
      "text/plain": [
       "<Figure size 800x500 with 1 Axes>"
      ]
     },
     "metadata": {},
     "output_type": "display_data"
    }
   ],
   "source": [
    "plt.figure(figsize=(8,5)) \n",
    "ax = sns.barplot(x=missing_values.index, y=missing_values.values)\n",
    "\n",
    "plt.xticks(rotation=90)\n",
    "plt.xlabel('Features with Nan values')\n",
    "plt.ylabel('Nan Value Count')\n",
    "plt.title('Nan Value Counts by Features')\n",
    "\n",
    "for p in ax.patches:\n",
    "    ax.annotate(f'{p.get_height():.0f}', (p.get_x() + p.get_width() / 2., p.get_height()), ha='center', va='bottom')\n",
    "\n",
    "plt.show()"
   ]
  },
  {
   "cell_type": "markdown",
   "id": "9427f64e-7356-4ef9-bce9-3f065ec3563b",
   "metadata": {},
   "source": [
    "### Categorical Variables: Replacing Nan Values"
   ]
  },
  {
   "cell_type": "markdown",
   "id": "46e26b77-2ae3-4dd3-bdd7-34c7267af1fc",
   "metadata": {},
   "source": [
    "**NOTE: Not every nan value is missing value:**  \n",
    "If we carefull explore the data the NAN values are not actually missing but has a meaning. For categorical variables, they mean this category not exist for that observation. For numerical variables like 'GarageYrBlt' and 'LotFrontage' they may mean No data available or Like categorical variables, not lot frontage or no garage exists. Therefore we will double check numeric nan values with other features "
   ]
  },
  {
   "cell_type": "code",
   "execution_count": 190,
   "id": "3f5aeab5-c566-4c94-956c-e6c8d9bf69f7",
   "metadata": {
    "tags": []
   },
   "outputs": [],
   "source": [
    "replacement_dictionary = {\n",
    "                            'PoolQC'      : 'No Pool',\n",
    "                            'MiscFeature' : 'No MiscFeatures',  \n",
    "                            'Alley'       : 'No Alley Access',\n",
    "                            'Fence'       : 'No Fence',\n",
    "                            'FireplaceQu' : 'No FirePlace', \n",
    "                            'GarageFinish': 'No Garage',\n",
    "                            'GarageQual'  : 'No Garage',\n",
    "                            'GarageCond'  : 'No Garage',\n",
    "                            'GarageType'  : 'No Garage',\n",
    "                            'BsmtExposure': 'No Basement',\n",
    "                            'BsmtCond'    : 'No Basement',\n",
    "                            'BsmtQual'    : 'No Basement',\n",
    "                            'BsmtFinType2': 'No Basement',\n",
    "                            'BsmtFinType1': 'No Basement'\n",
    "}"
   ]
  },
  {
   "cell_type": "code",
   "execution_count": 191,
   "id": "7b38ae52-29a8-43c7-a403-1f0f364b34fd",
   "metadata": {
    "scrolled": true,
    "tags": []
   },
   "outputs": [
    {
     "data": {
      "text/plain": [
       "['PoolQC',\n",
       " 'MiscFeature',\n",
       " 'Alley',\n",
       " 'Fence',\n",
       " 'FireplaceQu',\n",
       " 'GarageFinish',\n",
       " 'GarageQual',\n",
       " 'GarageCond',\n",
       " 'GarageType',\n",
       " 'BsmtExposure',\n",
       " 'BsmtCond',\n",
       " 'BsmtQual',\n",
       " 'BsmtFinType2',\n",
       " 'BsmtFinType1']"
      ]
     },
     "execution_count": 191,
     "metadata": {},
     "output_type": "execute_result"
    }
   ],
   "source": [
    "replacement_columns = list(replacement_dictionary.keys())\n",
    "replacement_columns"
   ]
  },
  {
   "cell_type": "code",
   "execution_count": 192,
   "id": "381cd0ed-5480-468d-b289-bbf8a0e0e43a",
   "metadata": {
    "tags": []
   },
   "outputs": [],
   "source": [
    "for col in replacement_columns:\n",
    "    df1[col].fillna(replacement_dictionary[col], inplace=True)"
   ]
  },
  {
   "cell_type": "code",
   "execution_count": 193,
   "id": "91d1f81e-5471-42d9-9199-bf3c9fd3553b",
   "metadata": {
    "tags": []
   },
   "outputs": [
    {
     "name": "stdout",
     "output_type": "stream",
     "text": [
      " Garage Type - No Garage: 81\n",
      "Nan Values in GarageYrBlt: 81\n"
     ]
    }
   ],
   "source": [
    "print(f\" Garage Type - No Garage: {df1['GarageType'].value_counts()['No Garage']}\"\n",
    "      f\"\\nNan Values in GarageYrBlt: {df1['GarageYrBlt'].isna().sum()}\")"
   ]
  },
  {
   "cell_type": "code",
   "execution_count": 194,
   "id": "69562745-8dd3-4a11-b1da-03f3beaf43e0",
   "metadata": {
    "tags": []
   },
   "outputs": [
    {
     "name": "stdout",
     "output_type": "stream",
     "text": [
      " LotConfig - Inside Lot: 1045\n",
      "Nan Values in LotFrontage: 257\n"
     ]
    }
   ],
   "source": [
    "print(f\" LotConfig - Inside Lot: {df1['LotConfig'].value_counts()['Inside']}\"\n",
    "      f\"\\nNan Values in LotFrontage: {df1['LotFrontage'].isna().sum()}\")"
   ]
  },
  {
   "cell_type": "markdown",
   "id": "c49a7fe8-5d8f-4643-9c56-13d85933926e",
   "metadata": {},
   "source": [
    "For GarageYrBlt its obvious that nan values mean no Garage \n",
    "LotFrontage: i couldnt find a clue, but since all other mean the same, i will comments similarly"
   ]
  },
  {
   "cell_type": "code",
   "execution_count": 195,
   "id": "c6842606-c8c3-4a17-a7b0-590f89b87b6b",
   "metadata": {
    "tags": []
   },
   "outputs": [],
   "source": [
    "replacement_dictionary_numeric = {\n",
    "                            'LotFrontage' :0,\n",
    "                            'GarageYrBlt' : 0\n",
    "}"
   ]
  },
  {
   "cell_type": "code",
   "execution_count": 196,
   "id": "729ac89b-7ce8-43d1-9924-af2748b6d2d6",
   "metadata": {
    "tags": []
   },
   "outputs": [],
   "source": [
    "for col in ['LotFrontage', 'GarageYrBlt']:\n",
    "    df1[col].fillna(replacement_dictionary_numeric[col], inplace=True)"
   ]
  },
  {
   "cell_type": "code",
   "execution_count": 197,
   "id": "155a752e-1f08-4727-aae3-bd7a8b290f25",
   "metadata": {
    "tags": []
   },
   "outputs": [
    {
     "data": {
      "text/plain": [
       "Id             0\n",
       "FireplaceQu    0\n",
       "Fireplaces     0\n",
       "dtype: int64"
      ]
     },
     "execution_count": 197,
     "metadata": {},
     "output_type": "execute_result"
    }
   ],
   "source": [
    "# lets check nan values now again:\n",
    "df1.isnull().sum().sort_values().nlargest(3)"
   ]
  },
  {
   "cell_type": "code",
   "execution_count": 198,
   "id": "a3fc7f22-a4b2-40b2-9255-055f577e1472",
   "metadata": {
    "tags": []
   },
   "outputs": [],
   "source": [
    "df2 = df1.copy()"
   ]
  },
  {
   "cell_type": "code",
   "execution_count": 199,
   "id": "833ffd99-3bc1-4186-abd6-5e47eedeae87",
   "metadata": {
    "tags": []
   },
   "outputs": [
    {
     "data": {
      "text/plain": [
       "(1451, 81)"
      ]
     },
     "execution_count": 199,
     "metadata": {},
     "output_type": "execute_result"
    }
   ],
   "source": [
    "df2.shape"
   ]
  },
  {
   "cell_type": "markdown",
   "id": "764c50ba-3aba-49fb-8e4f-daa5528e0c79",
   "metadata": {
    "execution": {
     "iopub.execute_input": "2023-10-08T23:05:41.939226Z",
     "iopub.status.busy": "2023-10-08T23:05:41.925741Z",
     "iopub.status.idle": "2023-10-08T23:05:41.952428Z",
     "shell.execute_reply": "2023-10-08T23:05:41.952428Z",
     "shell.execute_reply.started": "2023-10-08T23:05:41.939226Z"
    }
   },
   "source": [
    "## Feature Engineering"
   ]
  },
  {
   "cell_type": "markdown",
   "id": "16d07fc4-55b1-435d-a752-f148706404ca",
   "metadata": {},
   "source": [
    "### Summarizing Features: Creating new Features and drop old ones"
   ]
  },
  {
   "cell_type": "markdown",
   "id": "f1282a3c-dbd8-46df-9cf1-85c3ee4c15fa",
   "metadata": {},
   "source": [
    "Combining features to create new ones is a powerful technique. For example, combining area measurements to get a \"Total Area\" feature can often provide more meaningful information. We will also use our Domain Knowledge as well"
   ]
  },
  {
   "cell_type": "markdown",
   "id": "7b538e13-66f0-4c5c-aa51-f706f790fcf3",
   "metadata": {},
   "source": [
    "__Total Area__  \n",
    "We will combine features named TotalBsmtSF (total basement square footage), 1stFlrSF (first floor square footage), and 2ndFlrSF (second floor square footage) to create a 'Total Area' feature.  \n",
    "\n",
    "- Maybe we can try to add basement sq footage with multiplying 0.5 since the basement is not as valuable as ground level footage"
   ]
  },
  {
   "cell_type": "code",
   "execution_count": 200,
   "id": "7739a3ee-764b-4172-97ec-a38672b8bafe",
   "metadata": {
    "tags": []
   },
   "outputs": [
    {
     "data": {
      "text/html": [
       "<div>\n",
       "<style scoped>\n",
       "    .dataframe tbody tr th:only-of-type {\n",
       "        vertical-align: middle;\n",
       "    }\n",
       "\n",
       "    .dataframe tbody tr th {\n",
       "        vertical-align: top;\n",
       "    }\n",
       "\n",
       "    .dataframe thead th {\n",
       "        text-align: right;\n",
       "    }\n",
       "</style>\n",
       "<table border=\"1\" class=\"dataframe\">\n",
       "  <thead>\n",
       "    <tr style=\"text-align: right;\">\n",
       "      <th></th>\n",
       "      <th>Total_Area</th>\n",
       "      <th>TotalBsmtSF</th>\n",
       "      <th>1stFlrSF</th>\n",
       "      <th>2ndFlrSF</th>\n",
       "    </tr>\n",
       "  </thead>\n",
       "  <tbody>\n",
       "    <tr>\n",
       "      <th>0</th>\n",
       "      <td>2566</td>\n",
       "      <td>856</td>\n",
       "      <td>856</td>\n",
       "      <td>854</td>\n",
       "    </tr>\n",
       "    <tr>\n",
       "      <th>1</th>\n",
       "      <td>2524</td>\n",
       "      <td>1262</td>\n",
       "      <td>1262</td>\n",
       "      <td>0</td>\n",
       "    </tr>\n",
       "    <tr>\n",
       "      <th>2</th>\n",
       "      <td>2706</td>\n",
       "      <td>920</td>\n",
       "      <td>920</td>\n",
       "      <td>866</td>\n",
       "    </tr>\n",
       "  </tbody>\n",
       "</table>\n",
       "</div>"
      ],
      "text/plain": [
       "   Total_Area  TotalBsmtSF  1stFlrSF  2ndFlrSF\n",
       "0        2566          856       856       854\n",
       "1        2524         1262      1262         0\n",
       "2        2706          920       920       866"
      ]
     },
     "execution_count": 200,
     "metadata": {},
     "output_type": "execute_result"
    }
   ],
   "source": [
    "df2['Total_Area'] = df2['TotalBsmtSF'] + df2['1stFlrSF'] + df2['2ndFlrSF']\n",
    "df2[['Total_Area', 'TotalBsmtSF',  '1stFlrSF', '2ndFlrSF']].head(3)"
   ]
  },
  {
   "cell_type": "code",
   "execution_count": 201,
   "id": "4d62b0bc-c7a5-4d29-8137-30c2be463aae",
   "metadata": {
    "tags": []
   },
   "outputs": [],
   "source": [
    "# Lets drop remainin columns\n",
    "# i will drop TotalBsmtSF column later, because i will need bsmt sf down when i deal with features related to basement\n",
    "df2.drop(columns=['1stFlrSF', '2ndFlrSF'], inplace=True)"
   ]
  },
  {
   "cell_type": "code",
   "execution_count": 202,
   "id": "aed9ee53-ca4b-4dae-a16c-84fbb822bd10",
   "metadata": {
    "tags": []
   },
   "outputs": [
    {
     "data": {
      "text/plain": [
       "(1451, 80)"
      ]
     },
     "execution_count": 202,
     "metadata": {},
     "output_type": "execute_result"
    }
   ],
   "source": [
    "df2.shape"
   ]
  },
  {
   "cell_type": "markdown",
   "id": "512b8de0-85a3-42d1-bce7-168e1d48958c",
   "metadata": {},
   "source": [
    "__Total Bathrooms__"
   ]
  },
  {
   "cell_type": "markdown",
   "id": "86308097-96b5-4ca3-af07-ed26a18e49f0",
   "metadata": {},
   "source": [
    "Like in sq footage we will combine the bathrooms into a total bathroom quantity."
   ]
  },
  {
   "cell_type": "code",
   "execution_count": 203,
   "id": "97434611-22a1-4cc1-99a1-b99f9d2848d2",
   "metadata": {
    "tags": []
   },
   "outputs": [
    {
     "data": {
      "text/plain": [
       "['BsmtFullBath', 'BsmtHalfBath', 'FullBath', 'HalfBath']"
      ]
     },
     "execution_count": 203,
     "metadata": {},
     "output_type": "execute_result"
    }
   ],
   "source": [
    "bathroom_columns = [col for col in df2.columns if 'bath' in col.lower()]\n",
    "bathroom_columns"
   ]
  },
  {
   "cell_type": "code",
   "execution_count": 204,
   "id": "9ee52d0d-e640-40aa-a0e6-1565e564262f",
   "metadata": {
    "tags": []
   },
   "outputs": [],
   "source": [
    "df2['Total_Bathrooms'] = df2['BsmtFullBath'] + df2['FullBath'] + 0.5*(df2['BsmtHalfBath'] + df2['HalfBath'])"
   ]
  },
  {
   "cell_type": "code",
   "execution_count": 205,
   "id": "afacfd01-e392-4687-aada-7c939c0decf6",
   "metadata": {
    "tags": []
   },
   "outputs": [
    {
     "data": {
      "text/html": [
       "<div>\n",
       "<style scoped>\n",
       "    .dataframe tbody tr th:only-of-type {\n",
       "        vertical-align: middle;\n",
       "    }\n",
       "\n",
       "    .dataframe tbody tr th {\n",
       "        vertical-align: top;\n",
       "    }\n",
       "\n",
       "    .dataframe thead th {\n",
       "        text-align: right;\n",
       "    }\n",
       "</style>\n",
       "<table border=\"1\" class=\"dataframe\">\n",
       "  <thead>\n",
       "    <tr style=\"text-align: right;\">\n",
       "      <th></th>\n",
       "      <th>Total_Bathrooms</th>\n",
       "      <th>BsmtFullBath</th>\n",
       "      <th>BsmtHalfBath</th>\n",
       "      <th>FullBath</th>\n",
       "      <th>HalfBath</th>\n",
       "    </tr>\n",
       "  </thead>\n",
       "  <tbody>\n",
       "    <tr>\n",
       "      <th>0</th>\n",
       "      <td>3.5</td>\n",
       "      <td>1</td>\n",
       "      <td>0</td>\n",
       "      <td>2</td>\n",
       "      <td>1</td>\n",
       "    </tr>\n",
       "    <tr>\n",
       "      <th>1</th>\n",
       "      <td>2.5</td>\n",
       "      <td>0</td>\n",
       "      <td>1</td>\n",
       "      <td>2</td>\n",
       "      <td>0</td>\n",
       "    </tr>\n",
       "    <tr>\n",
       "      <th>2</th>\n",
       "      <td>3.5</td>\n",
       "      <td>1</td>\n",
       "      <td>0</td>\n",
       "      <td>2</td>\n",
       "      <td>1</td>\n",
       "    </tr>\n",
       "  </tbody>\n",
       "</table>\n",
       "</div>"
      ],
      "text/plain": [
       "   Total_Bathrooms  BsmtFullBath  BsmtHalfBath  FullBath  HalfBath\n",
       "0              3.5             1             0         2         1\n",
       "1              2.5             0             1         2         0\n",
       "2              3.5             1             0         2         1"
      ]
     },
     "execution_count": 205,
     "metadata": {},
     "output_type": "execute_result"
    }
   ],
   "source": [
    "df2[['Total_Bathrooms', 'BsmtFullBath', 'BsmtHalfBath', 'FullBath', 'HalfBath']].head(3)"
   ]
  },
  {
   "cell_type": "code",
   "execution_count": 206,
   "id": "e49a5d47-b915-48e7-8a53-037197155549",
   "metadata": {
    "tags": []
   },
   "outputs": [],
   "source": [
    "df2.drop(columns=['BsmtFullBath', 'BsmtHalfBath', 'FullBath', 'HalfBath'], inplace=True)"
   ]
  },
  {
   "cell_type": "markdown",
   "id": "eb6aa294-f0ff-4632-9c0b-68bd472047f3",
   "metadata": {
    "execution": {
     "iopub.execute_input": "2023-10-09T10:43:25.410599Z",
     "iopub.status.busy": "2023-10-09T10:43:25.410086Z",
     "iopub.status.idle": "2023-10-09T10:43:25.417606Z",
     "shell.execute_reply": "2023-10-09T10:43:25.416594Z",
     "shell.execute_reply.started": "2023-10-09T10:43:25.410599Z"
    }
   },
   "source": [
    "__Age of the house__"
   ]
  },
  {
   "cell_type": "markdown",
   "id": "ceaf160c-ce67-430a-9d45-39b4c73c1225",
   "metadata": {},
   "source": [
    "i think the age of sth is more intuitive and comparable rather than the build year sth like 1995"
   ]
  },
  {
   "cell_type": "code",
   "execution_count": 207,
   "id": "3bd1faab-eb47-464f-bb93-7df2979016e5",
   "metadata": {
    "tags": []
   },
   "outputs": [
    {
     "data": {
      "text/plain": [
       "2010"
      ]
     },
     "execution_count": 207,
     "metadata": {},
     "output_type": "execute_result"
    }
   ],
   "source": [
    "newest_blt = df2['YearBuilt'].max()\n",
    "newest_blt"
   ]
  },
  {
   "cell_type": "code",
   "execution_count": 208,
   "id": "8e63e40d-ba93-49d7-96e2-139a59f765ec",
   "metadata": {
    "tags": []
   },
   "outputs": [],
   "source": [
    "df2['Age_of_Property'] = newest_blt - df2['YearBuilt']"
   ]
  },
  {
   "cell_type": "code",
   "execution_count": 209,
   "id": "d19506cc-d5af-4af9-8358-3f5c8d11fc26",
   "metadata": {
    "tags": []
   },
   "outputs": [
    {
     "data": {
      "text/html": [
       "<div>\n",
       "<style scoped>\n",
       "    .dataframe tbody tr th:only-of-type {\n",
       "        vertical-align: middle;\n",
       "    }\n",
       "\n",
       "    .dataframe tbody tr th {\n",
       "        vertical-align: top;\n",
       "    }\n",
       "\n",
       "    .dataframe thead th {\n",
       "        text-align: right;\n",
       "    }\n",
       "</style>\n",
       "<table border=\"1\" class=\"dataframe\">\n",
       "  <thead>\n",
       "    <tr style=\"text-align: right;\">\n",
       "      <th></th>\n",
       "      <th>Age_of_Property</th>\n",
       "      <th>YearBuilt</th>\n",
       "    </tr>\n",
       "  </thead>\n",
       "  <tbody>\n",
       "    <tr>\n",
       "      <th>0</th>\n",
       "      <td>7</td>\n",
       "      <td>2003</td>\n",
       "    </tr>\n",
       "    <tr>\n",
       "      <th>1</th>\n",
       "      <td>34</td>\n",
       "      <td>1976</td>\n",
       "    </tr>\n",
       "    <tr>\n",
       "      <th>2</th>\n",
       "      <td>9</td>\n",
       "      <td>2001</td>\n",
       "    </tr>\n",
       "  </tbody>\n",
       "</table>\n",
       "</div>"
      ],
      "text/plain": [
       "   Age_of_Property  YearBuilt\n",
       "0                7       2003\n",
       "1               34       1976\n",
       "2                9       2001"
      ]
     },
     "execution_count": 209,
     "metadata": {},
     "output_type": "execute_result"
    }
   ],
   "source": [
    "df2[['Age_of_Property', 'YearBuilt']].head(3)"
   ]
  },
  {
   "cell_type": "code",
   "execution_count": 210,
   "id": "6eb728ff-cddd-476d-ad95-d4ec0cc09510",
   "metadata": {
    "tags": []
   },
   "outputs": [],
   "source": [
    "df2.drop(columns=['YearBuilt'], inplace=True)"
   ]
  },
  {
   "cell_type": "markdown",
   "id": "bf3058dd-9d25-4253-9926-1f11026fd9e7",
   "metadata": {
    "execution": {
     "iopub.execute_input": "2023-10-09T11:28:32.204903Z",
     "iopub.status.busy": "2023-10-09T11:28:32.204903Z",
     "iopub.status.idle": "2023-10-09T11:28:32.228329Z",
     "shell.execute_reply": "2023-10-09T11:28:32.227030Z",
     "shell.execute_reply.started": "2023-10-09T11:28:32.204903Z"
    }
   },
   "source": [
    "__Renovation Adding Date__"
   ]
  },
  {
   "cell_type": "code",
   "execution_count": 211,
   "id": "b4c7b05e-5e49-447d-bb07-c22d613645fd",
   "metadata": {
    "tags": []
   },
   "outputs": [],
   "source": [
    "df2['Age_of_Renovation'] = newest_blt - df2['YearRemodAdd']"
   ]
  },
  {
   "cell_type": "code",
   "execution_count": 212,
   "id": "a0e8b0b6-1d74-4596-b256-8ad94e18dea7",
   "metadata": {
    "tags": []
   },
   "outputs": [
    {
     "data": {
      "text/html": [
       "<div>\n",
       "<style scoped>\n",
       "    .dataframe tbody tr th:only-of-type {\n",
       "        vertical-align: middle;\n",
       "    }\n",
       "\n",
       "    .dataframe tbody tr th {\n",
       "        vertical-align: top;\n",
       "    }\n",
       "\n",
       "    .dataframe thead th {\n",
       "        text-align: right;\n",
       "    }\n",
       "</style>\n",
       "<table border=\"1\" class=\"dataframe\">\n",
       "  <thead>\n",
       "    <tr style=\"text-align: right;\">\n",
       "      <th></th>\n",
       "      <th>Age_of_Renovation</th>\n",
       "      <th>YearRemodAdd</th>\n",
       "    </tr>\n",
       "  </thead>\n",
       "  <tbody>\n",
       "    <tr>\n",
       "      <th>0</th>\n",
       "      <td>7</td>\n",
       "      <td>2003</td>\n",
       "    </tr>\n",
       "    <tr>\n",
       "      <th>1</th>\n",
       "      <td>34</td>\n",
       "      <td>1976</td>\n",
       "    </tr>\n",
       "    <tr>\n",
       "      <th>2</th>\n",
       "      <td>8</td>\n",
       "      <td>2002</td>\n",
       "    </tr>\n",
       "  </tbody>\n",
       "</table>\n",
       "</div>"
      ],
      "text/plain": [
       "   Age_of_Renovation  YearRemodAdd\n",
       "0                  7          2003\n",
       "1                 34          1976\n",
       "2                  8          2002"
      ]
     },
     "execution_count": 212,
     "metadata": {},
     "output_type": "execute_result"
    }
   ],
   "source": [
    "df2[['Age_of_Renovation', 'YearRemodAdd']].head(3)"
   ]
  },
  {
   "cell_type": "code",
   "execution_count": 213,
   "id": "43cdfa22-1fd9-46d0-8d40-d015dbf6ef3f",
   "metadata": {
    "tags": []
   },
   "outputs": [],
   "source": [
    "df2.drop(columns = ['YearRemodAdd'], inplace=True)"
   ]
  },
  {
   "cell_type": "markdown",
   "id": "7e05f5dc-df5b-4945-8efe-2891ad463a3f",
   "metadata": {
    "execution": {
     "iopub.execute_input": "2023-10-09T11:34:52.871440Z",
     "iopub.status.busy": "2023-10-09T11:34:52.871440Z",
     "iopub.status.idle": "2023-10-09T11:34:52.887967Z",
     "shell.execute_reply": "2023-10-09T11:34:52.887967Z",
     "shell.execute_reply.started": "2023-10-09T11:34:52.871440Z"
    }
   },
   "source": [
    "__Garage Columns__"
   ]
  },
  {
   "cell_type": "code",
   "execution_count": 214,
   "id": "688900e8-9f29-4972-b2c5-fcd4f341ff35",
   "metadata": {
    "tags": []
   },
   "outputs": [
    {
     "data": {
      "text/plain": [
       "['GarageType',\n",
       " 'GarageYrBlt',\n",
       " 'GarageFinish',\n",
       " 'GarageCars',\n",
       " 'GarageArea',\n",
       " 'GarageQual',\n",
       " 'GarageCond']"
      ]
     },
     "execution_count": 214,
     "metadata": {},
     "output_type": "execute_result"
    }
   ],
   "source": [
    "garage_columns = [col for col in df2.columns if 'garage' in col.lower()]\n",
    "garage_columns"
   ]
  },
  {
   "cell_type": "markdown",
   "id": "fec266d2-c0c5-4274-ad25-24037b757bbe",
   "metadata": {},
   "source": [
    "I want to hold GarageArea column, and create a binary value column indicating the property has a garage or not.  \n",
    "i will drop other columns  \n",
    "this is an approach coming from domain knowledge but also for simplicity  \n",
    "Later on, we can tune the model with more features"
   ]
  },
  {
   "cell_type": "code",
   "execution_count": 215,
   "id": "d4aa3f2e-c100-44a2-af2b-599c9af510e2",
   "metadata": {
    "tags": []
   },
   "outputs": [
    {
     "data": {
      "text/plain": [
       "Attchd       863\n",
       "Detchd       387\n",
       "BuiltIn       86\n",
       "No Garage     81\n",
       "Basment       19\n",
       "CarPort        9\n",
       "2Types         6\n",
       "Name: GarageType, dtype: int64"
      ]
     },
     "execution_count": 215,
     "metadata": {},
     "output_type": "execute_result"
    }
   ],
   "source": [
    "df2['GarageType'].value_counts()"
   ]
  },
  {
   "cell_type": "code",
   "execution_count": 216,
   "id": "db45a97d-ecd7-4519-853b-92d469cf4a89",
   "metadata": {
    "tags": []
   },
   "outputs": [
    {
     "data": {
      "text/html": [
       "<div>\n",
       "<style scoped>\n",
       "    .dataframe tbody tr th:only-of-type {\n",
       "        vertical-align: middle;\n",
       "    }\n",
       "\n",
       "    .dataframe tbody tr th {\n",
       "        vertical-align: top;\n",
       "    }\n",
       "\n",
       "    .dataframe thead th {\n",
       "        text-align: right;\n",
       "    }\n",
       "</style>\n",
       "<table border=\"1\" class=\"dataframe\">\n",
       "  <thead>\n",
       "    <tr style=\"text-align: right;\">\n",
       "      <th></th>\n",
       "      <th>HasGarage</th>\n",
       "      <th>GarageType</th>\n",
       "    </tr>\n",
       "  </thead>\n",
       "  <tbody>\n",
       "    <tr>\n",
       "      <th>1006</th>\n",
       "      <td>1</td>\n",
       "      <td>Attchd</td>\n",
       "    </tr>\n",
       "    <tr>\n",
       "      <th>679</th>\n",
       "      <td>1</td>\n",
       "      <td>Detchd</td>\n",
       "    </tr>\n",
       "    <tr>\n",
       "      <th>1213</th>\n",
       "      <td>1</td>\n",
       "      <td>Attchd</td>\n",
       "    </tr>\n",
       "    <tr>\n",
       "      <th>629</th>\n",
       "      <td>1</td>\n",
       "      <td>Attchd</td>\n",
       "    </tr>\n",
       "    <tr>\n",
       "      <th>627</th>\n",
       "      <td>1</td>\n",
       "      <td>Basment</td>\n",
       "    </tr>\n",
       "  </tbody>\n",
       "</table>\n",
       "</div>"
      ],
      "text/plain": [
       "      HasGarage GarageType\n",
       "1006          1     Attchd\n",
       "679           1     Detchd\n",
       "1213          1     Attchd\n",
       "629           1     Attchd\n",
       "627           1    Basment"
      ]
     },
     "execution_count": 216,
     "metadata": {},
     "output_type": "execute_result"
    }
   ],
   "source": [
    "df2['HasGarage'] = (df2['GarageType'] != 'No Garage').astype(int)\n",
    "df2[['HasGarage', 'GarageType']].sample(5)"
   ]
  },
  {
   "cell_type": "code",
   "execution_count": 217,
   "id": "9a4c40a4-5d3b-45a1-b8a1-b81706b1481d",
   "metadata": {
    "tags": []
   },
   "outputs": [],
   "source": [
    "df2.drop(columns= ['GarageType','GarageYrBlt','GarageFinish','GarageCars','GarageQual','GarageCond'], inplace=True)"
   ]
  },
  {
   "cell_type": "code",
   "execution_count": 218,
   "id": "643eb4ba-eda1-4aa9-b864-a12b7814fee9",
   "metadata": {
    "tags": []
   },
   "outputs": [
    {
     "data": {
      "text/plain": [
       "['GarageArea', 'HasGarage']"
      ]
     },
     "execution_count": 218,
     "metadata": {},
     "output_type": "execute_result"
    }
   ],
   "source": [
    "garage_columns_final = [col for col in df2.columns if 'garage' in col.lower()]\n",
    "garage_columns_final"
   ]
  },
  {
   "cell_type": "markdown",
   "id": "0d056915-6330-4391-92a6-02d310150ca4",
   "metadata": {},
   "source": [
    "__Pool Column__"
   ]
  },
  {
   "cell_type": "markdown",
   "id": "40810f0f-0a5f-4218-9fb4-d9b26350e022",
   "metadata": {},
   "source": [
    "Lets also change the pool columns into a one binary feature as well, indicating whether the property has a pool or not  \n",
    "['PoolArea', 'PoolQC']"
   ]
  },
  {
   "cell_type": "code",
   "execution_count": 219,
   "id": "da533c66-dd3b-433f-ab56-48afe8007508",
   "metadata": {
    "tags": []
   },
   "outputs": [
    {
     "data": {
      "text/plain": [
       "No Pool    1444\n",
       "Gd            3\n",
       "Ex            2\n",
       "Fa            2\n",
       "Name: PoolQC, dtype: int64"
      ]
     },
     "execution_count": 219,
     "metadata": {},
     "output_type": "execute_result"
    }
   ],
   "source": [
    "df2['PoolQC'].value_counts()"
   ]
  },
  {
   "cell_type": "code",
   "execution_count": 220,
   "id": "bc87b4c7-4dd8-42c2-bd10-461c02833218",
   "metadata": {
    "tags": []
   },
   "outputs": [],
   "source": [
    "df2['HasPool'] = (df2['PoolQC'] != 'No Pool').astype(int)"
   ]
  },
  {
   "cell_type": "code",
   "execution_count": 221,
   "id": "d1a15a71-f00c-443b-b42b-b02d7c7f1a6d",
   "metadata": {
    "tags": []
   },
   "outputs": [
    {
     "data": {
      "text/plain": [
       "0    1444\n",
       "1       7\n",
       "Name: HasPool, dtype: int64"
      ]
     },
     "execution_count": 221,
     "metadata": {},
     "output_type": "execute_result"
    }
   ],
   "source": [
    "df2['HasPool'].value_counts()"
   ]
  },
  {
   "cell_type": "code",
   "execution_count": 222,
   "id": "10005b75-580e-45d7-ba36-d42fee645019",
   "metadata": {
    "tags": []
   },
   "outputs": [],
   "source": [
    "df2.drop(columns =['PoolArea', 'PoolQC'], inplace=True)"
   ]
  },
  {
   "cell_type": "code",
   "execution_count": 223,
   "id": "dc54c416-f38b-435e-811d-67ed93b07d5d",
   "metadata": {
    "tags": []
   },
   "outputs": [
    {
     "data": {
      "text/plain": [
       "(1451, 71)"
      ]
     },
     "execution_count": 223,
     "metadata": {},
     "output_type": "execute_result"
    }
   ],
   "source": [
    "# Lets assign a new df for following the changes we have made so far\n",
    "df3 = df2.copy()\n",
    "df3.shape"
   ]
  },
  {
   "cell_type": "markdown",
   "id": "6e6ea64f-37d8-413a-81b1-c01c4fbd8c14",
   "metadata": {},
   "source": [
    "__Neighborhood__"
   ]
  },
  {
   "cell_type": "markdown",
   "id": "32978160-9e46-4d45-bfda-b77b3fb80a7b",
   "metadata": {},
   "source": [
    "I want to create mean and median prices for each neighborhood and drop neighborhoods itself  \n",
    "Because generally, prices are really dependent on the neighborhood  \n",
    "We can also work with sqft prices as well"
   ]
  },
  {
   "cell_type": "code",
   "execution_count": 224,
   "id": "2d79186c-f3c6-420b-bdca-7dbba594a4da",
   "metadata": {
    "tags": []
   },
   "outputs": [],
   "source": [
    "neighborhood_median_price = df3.groupby('Neighborhood')['SalePrice'].median().reset_index()\n",
    "neighborhood_median_price.columns = ['Neighborhood', 'MedianHousePrice']"
   ]
  },
  {
   "cell_type": "markdown",
   "id": "b763a4da-daab-42c4-b5c5-7702f58d7b05",
   "metadata": {},
   "source": [
    "I will use this neighborhood_median_price dataframe when we prepare and **predict prices on test dataset**"
   ]
  },
  {
   "cell_type": "code",
   "execution_count": 225,
   "id": "891defb8-7b44-4cc1-b085-9abdfe8325aa",
   "metadata": {
    "tags": []
   },
   "outputs": [
    {
     "data": {
      "text/html": [
       "<div>\n",
       "<style scoped>\n",
       "    .dataframe tbody tr th:only-of-type {\n",
       "        vertical-align: middle;\n",
       "    }\n",
       "\n",
       "    .dataframe tbody tr th {\n",
       "        vertical-align: top;\n",
       "    }\n",
       "\n",
       "    .dataframe thead th {\n",
       "        text-align: right;\n",
       "    }\n",
       "</style>\n",
       "<table border=\"1\" class=\"dataframe\">\n",
       "  <thead>\n",
       "    <tr style=\"text-align: right;\">\n",
       "      <th></th>\n",
       "      <th>Neighborhood</th>\n",
       "      <th>MedianHousePrice</th>\n",
       "    </tr>\n",
       "  </thead>\n",
       "  <tbody>\n",
       "    <tr>\n",
       "      <th>0</th>\n",
       "      <td>Blmngtn</td>\n",
       "      <td>191000.0</td>\n",
       "    </tr>\n",
       "    <tr>\n",
       "      <th>1</th>\n",
       "      <td>Blueste</td>\n",
       "      <td>137500.0</td>\n",
       "    </tr>\n",
       "    <tr>\n",
       "      <th>2</th>\n",
       "      <td>BrDale</td>\n",
       "      <td>106000.0</td>\n",
       "    </tr>\n",
       "    <tr>\n",
       "      <th>3</th>\n",
       "      <td>BrkSide</td>\n",
       "      <td>124300.0</td>\n",
       "    </tr>\n",
       "    <tr>\n",
       "      <th>4</th>\n",
       "      <td>ClearCr</td>\n",
       "      <td>200250.0</td>\n",
       "    </tr>\n",
       "    <tr>\n",
       "      <th>5</th>\n",
       "      <td>CollgCr</td>\n",
       "      <td>196500.0</td>\n",
       "    </tr>\n",
       "    <tr>\n",
       "      <th>6</th>\n",
       "      <td>Crawfor</td>\n",
       "      <td>208550.0</td>\n",
       "    </tr>\n",
       "    <tr>\n",
       "      <th>7</th>\n",
       "      <td>Edwards</td>\n",
       "      <td>121750.0</td>\n",
       "    </tr>\n",
       "    <tr>\n",
       "      <th>8</th>\n",
       "      <td>Gilbert</td>\n",
       "      <td>181000.0</td>\n",
       "    </tr>\n",
       "    <tr>\n",
       "      <th>9</th>\n",
       "      <td>IDOTRR</td>\n",
       "      <td>103000.0</td>\n",
       "    </tr>\n",
       "    <tr>\n",
       "      <th>10</th>\n",
       "      <td>MeadowV</td>\n",
       "      <td>88000.0</td>\n",
       "    </tr>\n",
       "    <tr>\n",
       "      <th>11</th>\n",
       "      <td>Mitchel</td>\n",
       "      <td>153500.0</td>\n",
       "    </tr>\n",
       "    <tr>\n",
       "      <th>12</th>\n",
       "      <td>NAmes</td>\n",
       "      <td>140000.0</td>\n",
       "    </tr>\n",
       "    <tr>\n",
       "      <th>13</th>\n",
       "      <td>NPkVill</td>\n",
       "      <td>146000.0</td>\n",
       "    </tr>\n",
       "    <tr>\n",
       "      <th>14</th>\n",
       "      <td>NWAmes</td>\n",
       "      <td>182900.0</td>\n",
       "    </tr>\n",
       "    <tr>\n",
       "      <th>15</th>\n",
       "      <td>NoRidge</td>\n",
       "      <td>301500.0</td>\n",
       "    </tr>\n",
       "    <tr>\n",
       "      <th>16</th>\n",
       "      <td>NridgHt</td>\n",
       "      <td>314906.5</td>\n",
       "    </tr>\n",
       "    <tr>\n",
       "      <th>17</th>\n",
       "      <td>OldTown</td>\n",
       "      <td>119000.0</td>\n",
       "    </tr>\n",
       "    <tr>\n",
       "      <th>18</th>\n",
       "      <td>SWISU</td>\n",
       "      <td>139500.0</td>\n",
       "    </tr>\n",
       "    <tr>\n",
       "      <th>19</th>\n",
       "      <td>Sawyer</td>\n",
       "      <td>135000.0</td>\n",
       "    </tr>\n",
       "    <tr>\n",
       "      <th>20</th>\n",
       "      <td>SawyerW</td>\n",
       "      <td>179550.0</td>\n",
       "    </tr>\n",
       "    <tr>\n",
       "      <th>21</th>\n",
       "      <td>Somerst</td>\n",
       "      <td>226700.0</td>\n",
       "    </tr>\n",
       "    <tr>\n",
       "      <th>22</th>\n",
       "      <td>StoneBr</td>\n",
       "      <td>278000.0</td>\n",
       "    </tr>\n",
       "    <tr>\n",
       "      <th>23</th>\n",
       "      <td>Timber</td>\n",
       "      <td>228950.0</td>\n",
       "    </tr>\n",
       "    <tr>\n",
       "      <th>24</th>\n",
       "      <td>Veenker</td>\n",
       "      <td>218000.0</td>\n",
       "    </tr>\n",
       "  </tbody>\n",
       "</table>\n",
       "</div>"
      ],
      "text/plain": [
       "   Neighborhood  MedianHousePrice\n",
       "0       Blmngtn          191000.0\n",
       "1       Blueste          137500.0\n",
       "2        BrDale          106000.0\n",
       "3       BrkSide          124300.0\n",
       "4       ClearCr          200250.0\n",
       "5       CollgCr          196500.0\n",
       "6       Crawfor          208550.0\n",
       "7       Edwards          121750.0\n",
       "8       Gilbert          181000.0\n",
       "9        IDOTRR          103000.0\n",
       "10      MeadowV           88000.0\n",
       "11      Mitchel          153500.0\n",
       "12        NAmes          140000.0\n",
       "13      NPkVill          146000.0\n",
       "14       NWAmes          182900.0\n",
       "15      NoRidge          301500.0\n",
       "16      NridgHt          314906.5\n",
       "17      OldTown          119000.0\n",
       "18        SWISU          139500.0\n",
       "19       Sawyer          135000.0\n",
       "20      SawyerW          179550.0\n",
       "21      Somerst          226700.0\n",
       "22      StoneBr          278000.0\n",
       "23       Timber          228950.0\n",
       "24      Veenker          218000.0"
      ]
     },
     "execution_count": 225,
     "metadata": {},
     "output_type": "execute_result"
    }
   ],
   "source": [
    "neighborhood_median_price"
   ]
  },
  {
   "cell_type": "code",
   "execution_count": 226,
   "id": "9327145a-8aa3-4ff8-859f-1f5da7686c37",
   "metadata": {
    "scrolled": true,
    "tags": []
   },
   "outputs": [],
   "source": [
    "df4 = pd.merge(df3, neighborhood_median_price, on='Neighborhood', how='left')"
   ]
  },
  {
   "cell_type": "code",
   "execution_count": 227,
   "id": "6abd1042-8c4b-4fa3-b59b-2223b088f855",
   "metadata": {
    "tags": []
   },
   "outputs": [
    {
     "data": {
      "text/html": [
       "<div>\n",
       "<style scoped>\n",
       "    .dataframe tbody tr th:only-of-type {\n",
       "        vertical-align: middle;\n",
       "    }\n",
       "\n",
       "    .dataframe tbody tr th {\n",
       "        vertical-align: top;\n",
       "    }\n",
       "\n",
       "    .dataframe thead th {\n",
       "        text-align: right;\n",
       "    }\n",
       "</style>\n",
       "<table border=\"1\" class=\"dataframe\">\n",
       "  <thead>\n",
       "    <tr style=\"text-align: right;\">\n",
       "      <th></th>\n",
       "      <th>Neighborhood</th>\n",
       "      <th>MedianHousePrice</th>\n",
       "    </tr>\n",
       "  </thead>\n",
       "  <tbody>\n",
       "    <tr>\n",
       "      <th>423</th>\n",
       "      <td>NAmes</td>\n",
       "      <td>140000.0</td>\n",
       "    </tr>\n",
       "    <tr>\n",
       "      <th>1347</th>\n",
       "      <td>NWAmes</td>\n",
       "      <td>182900.0</td>\n",
       "    </tr>\n",
       "    <tr>\n",
       "      <th>920</th>\n",
       "      <td>SawyerW</td>\n",
       "      <td>179550.0</td>\n",
       "    </tr>\n",
       "  </tbody>\n",
       "</table>\n",
       "</div>"
      ],
      "text/plain": [
       "     Neighborhood  MedianHousePrice\n",
       "423         NAmes          140000.0\n",
       "1347       NWAmes          182900.0\n",
       "920       SawyerW          179550.0"
      ]
     },
     "execution_count": 227,
     "metadata": {},
     "output_type": "execute_result"
    }
   ],
   "source": [
    "df4[['Neighborhood', 'MedianHousePrice']].sample(3)"
   ]
  },
  {
   "cell_type": "code",
   "execution_count": 228,
   "id": "5a3e81a8-e064-44fa-88f3-85ffb0ba9e0b",
   "metadata": {
    "tags": []
   },
   "outputs": [],
   "source": [
    "df4.drop(columns=['Neighborhood'], inplace=True)"
   ]
  },
  {
   "cell_type": "code",
   "execution_count": 229,
   "id": "32807455-8d71-4c41-adee-43a7c4c91f53",
   "metadata": {
    "tags": []
   },
   "outputs": [
    {
     "data": {
      "text/plain": [
       "(1451, 71)"
      ]
     },
     "execution_count": 229,
     "metadata": {},
     "output_type": "execute_result"
    }
   ],
   "source": [
    "df4.shape"
   ]
  },
  {
   "cell_type": "markdown",
   "id": "8dabac18-ab5a-4f32-9b01-abe5c03bfdb4",
   "metadata": {
    "execution": {
     "iopub.execute_input": "2023-10-09T13:24:48.382250Z",
     "iopub.status.busy": "2023-10-09T13:24:48.382250Z",
     "iopub.status.idle": "2023-10-09T13:24:48.390368Z",
     "shell.execute_reply": "2023-10-09T13:24:48.390368Z",
     "shell.execute_reply.started": "2023-10-09T13:24:48.382250Z"
    }
   },
   "source": [
    "__Basement columns__"
   ]
  },
  {
   "cell_type": "markdown",
   "id": "00c2d475-0564-4cc3-8f85-f9d75bbb0f47",
   "metadata": {},
   "source": [
    "There are many features related to basement. Lets try to combine, elminate or summmarize them"
   ]
  },
  {
   "cell_type": "code",
   "execution_count": 230,
   "id": "71da2a5f-8f08-49f6-8762-a7444b1cf0a2",
   "metadata": {
    "tags": []
   },
   "outputs": [
    {
     "data": {
      "text/plain": [
       "['BsmtQual',\n",
       " 'BsmtCond',\n",
       " 'BsmtExposure',\n",
       " 'BsmtFinType1',\n",
       " 'BsmtFinSF1',\n",
       " 'BsmtFinType2',\n",
       " 'BsmtFinSF2',\n",
       " 'BsmtUnfSF',\n",
       " 'TotalBsmtSF']"
      ]
     },
     "execution_count": 230,
     "metadata": {},
     "output_type": "execute_result"
    }
   ],
   "source": [
    "basement_columns_initial = [col for col in df4.columns if 'bsmt' in col.lower()]\n",
    "basement_columns_initial"
   ]
  },
  {
   "cell_type": "markdown",
   "id": "1353a455-c6d6-4beb-8d0b-ceb8db3c71e4",
   "metadata": {},
   "source": [
    "- I will give grades to Basement Quality, Basement Condition, Basement Exposure\n",
    "- I will combine Basement finTypes and SF into one feature having a grade\n",
    "- Then i will combine all 4 features into one feature Ovarall Basement Quality with a total grade\n",
    "- if the grade is zero - that means no basement/ but we need to check all the columns have synchronized no basement values or not\n",
    "- i will drop the remaining"
   ]
  },
  {
   "cell_type": "code",
   "execution_count": 231,
   "id": "b5601807-dc72-494b-973e-74b497c31f8f",
   "metadata": {
    "tags": []
   },
   "outputs": [],
   "source": [
    "# Define different mappings for each basement features\n",
    "bsmt_qual_mapping = {'Ex':5, 'Gd':4, 'TA':3, 'Fa':2, 'Po':1, 'No Basement': 0}\n",
    "bsmt_cond_mapping = {'Ex': 5, 'Gd': 4, 'TA': 3, 'Fa': 2, 'Po': 1, 'No Basement': 0}\n",
    "bsmt_exposure_mapping = {'Gd': 4, 'Av': 3, 'Mn': 2, 'No': 1, 'No Basement': 0}\n",
    "bsmt_fintype_mapping = {'GLQ': 6, 'ALQ': 5, 'BLQ': 4, 'Rec': 3, 'LwQ': 2, 'Unf': 1, 'No Basement': 0}\n"
   ]
  },
  {
   "cell_type": "code",
   "execution_count": 232,
   "id": "f32d367f-1b28-4976-9f39-724568f709d8",
   "metadata": {
    "tags": []
   },
   "outputs": [
    {
     "data": {
      "text/html": [
       "<div>\n",
       "<style scoped>\n",
       "    .dataframe tbody tr th:only-of-type {\n",
       "        vertical-align: middle;\n",
       "    }\n",
       "\n",
       "    .dataframe tbody tr th {\n",
       "        vertical-align: top;\n",
       "    }\n",
       "\n",
       "    .dataframe thead th {\n",
       "        text-align: right;\n",
       "    }\n",
       "</style>\n",
       "<table border=\"1\" class=\"dataframe\">\n",
       "  <thead>\n",
       "    <tr style=\"text-align: right;\">\n",
       "      <th></th>\n",
       "      <th>BsmtQual</th>\n",
       "      <th>BsmtFinType1</th>\n",
       "      <th>BsmtFinSF1</th>\n",
       "      <th>BsmtFinType2</th>\n",
       "      <th>BsmtFinSF2</th>\n",
       "      <th>BsmtUnfSF</th>\n",
       "      <th>TotalBsmtSF</th>\n",
       "    </tr>\n",
       "  </thead>\n",
       "  <tbody>\n",
       "    <tr>\n",
       "      <th>56</th>\n",
       "      <td>Gd</td>\n",
       "      <td>GLQ</td>\n",
       "      <td>649</td>\n",
       "      <td>Unf</td>\n",
       "      <td>0</td>\n",
       "      <td>321</td>\n",
       "      <td>970</td>\n",
       "    </tr>\n",
       "    <tr>\n",
       "      <th>344</th>\n",
       "      <td>TA</td>\n",
       "      <td>Unf</td>\n",
       "      <td>0</td>\n",
       "      <td>Unf</td>\n",
       "      <td>0</td>\n",
       "      <td>972</td>\n",
       "      <td>972</td>\n",
       "    </tr>\n",
       "    <tr>\n",
       "      <th>1162</th>\n",
       "      <td>TA</td>\n",
       "      <td>Rec</td>\n",
       "      <td>626</td>\n",
       "      <td>Unf</td>\n",
       "      <td>0</td>\n",
       "      <td>501</td>\n",
       "      <td>1127</td>\n",
       "    </tr>\n",
       "    <tr>\n",
       "      <th>203</th>\n",
       "      <td>Gd</td>\n",
       "      <td>GLQ</td>\n",
       "      <td>662</td>\n",
       "      <td>Unf</td>\n",
       "      <td>0</td>\n",
       "      <td>186</td>\n",
       "      <td>848</td>\n",
       "    </tr>\n",
       "    <tr>\n",
       "      <th>698</th>\n",
       "      <td>TA</td>\n",
       "      <td>Unf</td>\n",
       "      <td>0</td>\n",
       "      <td>Unf</td>\n",
       "      <td>0</td>\n",
       "      <td>1164</td>\n",
       "      <td>1164</td>\n",
       "    </tr>\n",
       "  </tbody>\n",
       "</table>\n",
       "</div>"
      ],
      "text/plain": [
       "     BsmtQual BsmtFinType1  BsmtFinSF1 BsmtFinType2  BsmtFinSF2  BsmtUnfSF  \\\n",
       "56         Gd          GLQ         649          Unf           0        321   \n",
       "344        TA          Unf           0          Unf           0        972   \n",
       "1162       TA          Rec         626          Unf           0        501   \n",
       "203        Gd          GLQ         662          Unf           0        186   \n",
       "698        TA          Unf           0          Unf           0       1164   \n",
       "\n",
       "      TotalBsmtSF  \n",
       "56            970  \n",
       "344           972  \n",
       "1162         1127  \n",
       "203           848  \n",
       "698          1164  "
      ]
     },
     "execution_count": 232,
     "metadata": {},
     "output_type": "execute_result"
    }
   ],
   "source": [
    "# FIRST: lest check what our data looks like for fintype columns\n",
    "\n",
    "df4[['BsmtQual','BsmtFinType1', 'BsmtFinSF1', 'BsmtFinType2', 'BsmtFinSF2', 'BsmtUnfSF', 'TotalBsmtSF']].sample(5)"
   ]
  },
  {
   "cell_type": "markdown",
   "id": "d6eea251-a768-4c66-a4af-5c845473367c",
   "metadata": {},
   "source": [
    "it looks like BsmtFinSF1+BsmtFinSF2+BsmtUnfSF == TotalBsmtSF  \n",
    "if type1 and type2 has unf category, the sf writes in the BsmtUnfSF\t"
   ]
  },
  {
   "cell_type": "code",
   "execution_count": 233,
   "id": "c178ffd7-d5ad-4fbf-a401-065a1a4b93c0",
   "metadata": {
    "tags": []
   },
   "outputs": [
    {
     "data": {
      "text/plain": [
       "True    1451\n",
       "dtype: int64"
      ]
     },
     "execution_count": 233,
     "metadata": {},
     "output_type": "execute_result"
    }
   ],
   "source": [
    "# lets double check if we are right with our assumptions related to categories and sq footages calculations\n",
    "\n",
    "check_bsmt_sf = df4['TotalBsmtSF'] == (df4['BsmtFinSF1'] + df4['BsmtFinSF2'] + df4['BsmtUnfSF'])\n",
    "check_bsmt_sf.value_counts()\n",
    "\n",
    "# if all values come true, that means my hypotesis above is correct"
   ]
  },
  {
   "cell_type": "code",
   "execution_count": null,
   "id": "95c47610-2641-47e9-9cfb-4937e4c8b8df",
   "metadata": {},
   "outputs": [],
   "source": []
  },
  {
   "cell_type": "code",
   "execution_count": null,
   "id": "36727253-2528-42dc-bba3-ba564798f10e",
   "metadata": {},
   "outputs": [],
   "source": []
  },
  {
   "cell_type": "markdown",
   "id": "5ba15ed0-022e-44e4-ac3b-c22412e50e37",
   "metadata": {},
   "source": [
    "**I am thinking to make a combined Basement Finishing Type Feature.**  \n",
    "- Firstly, we will map the string categories into grades in BsmtFinType1 and BsmtFinType2\n",
    "- Secondly, We will normalize BsmtFinSF1, BsmtFinSF2, BsmtUnfSF because all totally makes TotalBsmtSF\n",
    "- Thirdly, SF1 * TYPE1_GRADE + SF2 * TYPE2_GRADE + SF3 * 1 (1 is the grade score of unf category)\n",
    "- Actually BsmtUnfSF column is a seperated value from other columns because the other two columns have unf categories as well\n",
    "-  For example, if BsmtFinType2 == Unf normally we are expecting BsmtFinSF2 have a float value. But in our dataset it comes 0.0 and the value is coming with a seperate column named BsmtUnfSF. So we assume that they are iconic "
   ]
  },
  {
   "cell_type": "code",
   "execution_count": 234,
   "id": "6caa02c1-2c0a-4e65-b0fa-46102f1b985f",
   "metadata": {
    "scrolled": true,
    "tags": []
   },
   "outputs": [],
   "source": [
    "# Convert the categorical str values into grade points by mapping function\n",
    "\n",
    "df4['BsmtFinType1'] = df4['BsmtFinType1'].map(bsmt_fintype_mapping)\n",
    "df4['BsmtFinType2'] = df4['BsmtFinType2'].map(bsmt_fintype_mapping)"
   ]
  },
  {
   "cell_type": "code",
   "execution_count": 235,
   "id": "573bcdc8-3594-4e9c-8aa4-e47a8fb97c97",
   "metadata": {
    "tags": []
   },
   "outputs": [],
   "source": [
    "df4['BsmtFinGrade'] = (df4['BsmtFinType1'] * df4.BsmtFinSF1 / df4.TotalBsmtSF) + \\\n",
    "                            (df4['BsmtFinType2'] * df4.BsmtFinSF2 / df4.TotalBsmtSF) + \\\n",
    "                            (df4['BsmtFinType1'] * df4.BsmtUnfSF / df4.TotalBsmtSF)"
   ]
  },
  {
   "cell_type": "code",
   "execution_count": 236,
   "id": "8f039c27-1c7d-4139-9cd0-05b113ecb6fc",
   "metadata": {
    "tags": []
   },
   "outputs": [],
   "source": [
    "# Because of zero division there will be Nan values where there are no basement, since TotalBsmtSf == 0\n",
    "\n",
    "df4['BsmtFinGrade'].fillna(0.0, inplace=True)"
   ]
  },
  {
   "cell_type": "markdown",
   "id": "a30a6ded-c663-4221-9f0b-9eec5a4bbf30",
   "metadata": {},
   "source": [
    "**Lets Also map and convert other basement related categorical columns**"
   ]
  },
  {
   "cell_type": "code",
   "execution_count": 237,
   "id": "4f10c635-7685-455c-8699-cb4a0e85a4e2",
   "metadata": {
    "tags": []
   },
   "outputs": [],
   "source": [
    "df4['BsmtQual'] = df4['BsmtQual'].map(bsmt_qual_mapping)\n",
    "df4['BsmtCond'] = df4['BsmtCond'].map(bsmt_cond_mapping)\n",
    "df4['BsmtExposure'] = df4['BsmtExposure'].map(bsmt_exposure_mapping)"
   ]
  },
  {
   "cell_type": "markdown",
   "id": "8cfbdf58-bea7-4339-821e-1a90c1005422",
   "metadata": {},
   "source": [
    "No we can combine all grades into one SINGLE grade point"
   ]
  },
  {
   "cell_type": "code",
   "execution_count": 238,
   "id": "fb024085-c25c-45cd-a901-30f4cbcecd0b",
   "metadata": {
    "tags": []
   },
   "outputs": [],
   "source": [
    "df4['BsmtOverallGrade'] = df4['BsmtQual'] + df4['BsmtCond'] + df4['BsmtExposure'] + df4['BsmtFinGrade']"
   ]
  },
  {
   "cell_type": "code",
   "execution_count": 239,
   "id": "77249b82-91e8-4b16-bb8a-ad6af5196c90",
   "metadata": {
    "tags": []
   },
   "outputs": [
    {
     "data": {
      "text/html": [
       "<div>\n",
       "<style scoped>\n",
       "    .dataframe tbody tr th:only-of-type {\n",
       "        vertical-align: middle;\n",
       "    }\n",
       "\n",
       "    .dataframe tbody tr th {\n",
       "        vertical-align: top;\n",
       "    }\n",
       "\n",
       "    .dataframe thead th {\n",
       "        text-align: right;\n",
       "    }\n",
       "</style>\n",
       "<table border=\"1\" class=\"dataframe\">\n",
       "  <thead>\n",
       "    <tr style=\"text-align: right;\">\n",
       "      <th></th>\n",
       "      <th>BsmtQual</th>\n",
       "      <th>BsmtCond</th>\n",
       "      <th>BsmtExposure</th>\n",
       "      <th>BsmtFinType1</th>\n",
       "      <th>BsmtFinSF1</th>\n",
       "      <th>BsmtFinType2</th>\n",
       "      <th>BsmtFinSF2</th>\n",
       "      <th>BsmtUnfSF</th>\n",
       "      <th>TotalBsmtSF</th>\n",
       "      <th>BsmtFinGrade</th>\n",
       "      <th>BsmtOverallGrade</th>\n",
       "    </tr>\n",
       "  </thead>\n",
       "  <tbody>\n",
       "    <tr>\n",
       "      <th>856</th>\n",
       "      <td>3</td>\n",
       "      <td>3</td>\n",
       "      <td>2</td>\n",
       "      <td>4</td>\n",
       "      <td>619</td>\n",
       "      <td>1</td>\n",
       "      <td>0</td>\n",
       "      <td>435</td>\n",
       "      <td>1054</td>\n",
       "      <td>4.0</td>\n",
       "      <td>12.0</td>\n",
       "    </tr>\n",
       "    <tr>\n",
       "      <th>590</th>\n",
       "      <td>3</td>\n",
       "      <td>4</td>\n",
       "      <td>1</td>\n",
       "      <td>6</td>\n",
       "      <td>816</td>\n",
       "      <td>1</td>\n",
       "      <td>0</td>\n",
       "      <td>0</td>\n",
       "      <td>816</td>\n",
       "      <td>6.0</td>\n",
       "      <td>14.0</td>\n",
       "    </tr>\n",
       "    <tr>\n",
       "      <th>46</th>\n",
       "      <td>5</td>\n",
       "      <td>3</td>\n",
       "      <td>1</td>\n",
       "      <td>6</td>\n",
       "      <td>1351</td>\n",
       "      <td>1</td>\n",
       "      <td>0</td>\n",
       "      <td>83</td>\n",
       "      <td>1434</td>\n",
       "      <td>6.0</td>\n",
       "      <td>15.0</td>\n",
       "    </tr>\n",
       "    <tr>\n",
       "      <th>1383</th>\n",
       "      <td>3</td>\n",
       "      <td>3</td>\n",
       "      <td>3</td>\n",
       "      <td>5</td>\n",
       "      <td>769</td>\n",
       "      <td>1</td>\n",
       "      <td>0</td>\n",
       "      <td>95</td>\n",
       "      <td>864</td>\n",
       "      <td>5.0</td>\n",
       "      <td>14.0</td>\n",
       "    </tr>\n",
       "    <tr>\n",
       "      <th>521</th>\n",
       "      <td>3</td>\n",
       "      <td>3</td>\n",
       "      <td>1</td>\n",
       "      <td>5</td>\n",
       "      <td>399</td>\n",
       "      <td>1</td>\n",
       "      <td>0</td>\n",
       "      <td>605</td>\n",
       "      <td>1004</td>\n",
       "      <td>5.0</td>\n",
       "      <td>12.0</td>\n",
       "    </tr>\n",
       "  </tbody>\n",
       "</table>\n",
       "</div>"
      ],
      "text/plain": [
       "      BsmtQual  BsmtCond  BsmtExposure  BsmtFinType1  BsmtFinSF1  \\\n",
       "856          3         3             2             4         619   \n",
       "590          3         4             1             6         816   \n",
       "46           5         3             1             6        1351   \n",
       "1383         3         3             3             5         769   \n",
       "521          3         3             1             5         399   \n",
       "\n",
       "      BsmtFinType2  BsmtFinSF2  BsmtUnfSF  TotalBsmtSF  BsmtFinGrade  \\\n",
       "856              1           0        435         1054           4.0   \n",
       "590              1           0          0          816           6.0   \n",
       "46               1           0         83         1434           6.0   \n",
       "1383             1           0         95          864           5.0   \n",
       "521              1           0        605         1004           5.0   \n",
       "\n",
       "      BsmtOverallGrade  \n",
       "856               12.0  \n",
       "590               14.0  \n",
       "46                15.0  \n",
       "1383              14.0  \n",
       "521               12.0  "
      ]
     },
     "execution_count": 239,
     "metadata": {},
     "output_type": "execute_result"
    }
   ],
   "source": [
    "# Lets check what we have made so far\n",
    "df4[df4.columns[df4.columns.str.contains('Bsmt')]].sample(5)"
   ]
  },
  {
   "cell_type": "markdown",
   "id": "85c6a317-6273-4315-bcf9-c63c7474bf16",
   "metadata": {},
   "source": [
    "**Lets drop all unnecessary columns**"
   ]
  },
  {
   "cell_type": "code",
   "execution_count": 240,
   "id": "9f559ac6-bb5b-4be6-a56d-77bbe287e279",
   "metadata": {
    "tags": []
   },
   "outputs": [],
   "source": [
    "df4.drop(columns = ['BsmtQual', 'BsmtCond', 'BsmtExposure', 'BsmtFinType1', 'BsmtFinSF1','BsmtFinType2',\n",
    "                          'BsmtFinSF2','BsmtUnfSF','BsmtFinGrade'], inplace=True)"
   ]
  },
  {
   "cell_type": "code",
   "execution_count": 241,
   "id": "5101a59a-e665-44dd-9c2b-e8117f312cda",
   "metadata": {
    "tags": []
   },
   "outputs": [],
   "source": [
    "# We can NOW also drop TotalBsmtSF because this value is already in the Total Sqf feature\n",
    "df5 = df4.drop(columns = ['TotalBsmtSF'])"
   ]
  },
  {
   "cell_type": "code",
   "execution_count": 242,
   "id": "06e68c0d-32d0-48fc-a14e-02c6d7173372",
   "metadata": {
    "tags": []
   },
   "outputs": [
    {
     "data": {
      "text/html": [
       "<div>\n",
       "<style scoped>\n",
       "    .dataframe tbody tr th:only-of-type {\n",
       "        vertical-align: middle;\n",
       "    }\n",
       "\n",
       "    .dataframe tbody tr th {\n",
       "        vertical-align: top;\n",
       "    }\n",
       "\n",
       "    .dataframe thead th {\n",
       "        text-align: right;\n",
       "    }\n",
       "</style>\n",
       "<table border=\"1\" class=\"dataframe\">\n",
       "  <thead>\n",
       "    <tr style=\"text-align: right;\">\n",
       "      <th></th>\n",
       "      <th>count</th>\n",
       "      <th>mean</th>\n",
       "      <th>std</th>\n",
       "      <th>min</th>\n",
       "      <th>25%</th>\n",
       "      <th>50%</th>\n",
       "      <th>75%</th>\n",
       "      <th>max</th>\n",
       "    </tr>\n",
       "  </thead>\n",
       "  <tbody>\n",
       "    <tr>\n",
       "      <th>BsmtOverallGrade</th>\n",
       "      <td>1451.0</td>\n",
       "      <td>11.592464</td>\n",
       "      <td>3.460897</td>\n",
       "      <td>0.0</td>\n",
       "      <td>9.0</td>\n",
       "      <td>11.56</td>\n",
       "      <td>14.0</td>\n",
       "      <td>18.0</td>\n",
       "    </tr>\n",
       "  </tbody>\n",
       "</table>\n",
       "</div>"
      ],
      "text/plain": [
       "                   count       mean       std  min  25%    50%   75%   max\n",
       "BsmtOverallGrade  1451.0  11.592464  3.460897  0.0  9.0  11.56  14.0  18.0"
      ]
     },
     "execution_count": 242,
     "metadata": {},
     "output_type": "execute_result"
    }
   ],
   "source": [
    "# here is the remaining Basement column\n",
    "df5[df5.columns[df5.columns.str.contains('Bsmt')]].describe().T"
   ]
  },
  {
   "cell_type": "code",
   "execution_count": 243,
   "id": "27ca9b5e-03e7-4fa7-97db-ed38f3674684",
   "metadata": {},
   "outputs": [
    {
     "data": {
      "text/plain": [
       "(1451, 63)"
      ]
     },
     "execution_count": 243,
     "metadata": {},
     "output_type": "execute_result"
    }
   ],
   "source": [
    "df5.shape"
   ]
  },
  {
   "cell_type": "code",
   "execution_count": null,
   "id": "d541c3db-0db1-4968-87a7-21813e6557c5",
   "metadata": {},
   "outputs": [],
   "source": []
  },
  {
   "cell_type": "markdown",
   "id": "941c0d27-144b-4baa-90b1-6c036cd70007",
   "metadata": {},
   "source": [
    "### Visualize the distributions"
   ]
  },
  {
   "cell_type": "code",
   "execution_count": 244,
   "id": "964aaef3-c7af-4dbb-a504-5bf6eef81e8a",
   "metadata": {
    "tags": []
   },
   "outputs": [
    {
     "data": {
      "image/png": "[encoded data removed]",
      "text/plain": [
       "<Figure size 640x480 with 1 Axes>"
      ]
     },
     "metadata": {},
     "output_type": "display_data"
    }
   ],
   "source": [
    "sns.histplot(df5.SalePrice, bins=50)\n",
    "plt.title('Distribution of Sales Prices')\n",
    "plt.xticks(list(range(100_000, 900_000, 100_000)), ['100K', '200K','300K','400K','500K','600K','700K','800K'])\n",
    "plt.xlabel('SalePrice in USD')\n",
    "plt.ylabel('Number of Property Sales')\n",
    "plt.show()"
   ]
  },
  {
   "cell_type": "markdown",
   "id": "343d410b-da23-4be3-a8d4-96dfa8116a0e",
   "metadata": {},
   "source": [
    "__Distribution of all other Numeric variables__"
   ]
  },
  {
   "cell_type": "code",
   "execution_count": 245,
   "id": "d3c8249c-8381-4230-a950-b44191c79e4e",
   "metadata": {
    "tags": []
   },
   "outputs": [
    {
     "data": {
      "image/png": "[encoded data removed]",
      "text/plain": [
       "<Figure size 1600x2000 with 36 Axes>"
      ]
     },
     "metadata": {},
     "output_type": "display_data"
    }
   ],
   "source": [
    "df5.select_dtypes(include='number').hist(figsize=(16, 20), bins=50, xlabelsize=8, ylabelsize=8);"
   ]
  },
  {
   "cell_type": "markdown",
   "id": "e9ce7ef1-325f-48ce-b82f-53fa9274d944",
   "metadata": {
    "tags": []
   },
   "source": [
    "__Visualize distributions of Categorical VAriables__"
   ]
  },
  {
   "cell_type": "code",
   "execution_count": 246,
   "id": "d6058f27-7361-4e3e-97c2-7a070a0ce9ea",
   "metadata": {
    "tags": []
   },
   "outputs": [
    {
     "data": {
      "image/png": "[encoded data removed]",
      "text/plain": [
       "<Figure size 1600x1600 with 32 Axes>"
      ]
     },
     "metadata": {},
     "output_type": "display_data"
    }
   ],
   "source": [
    "object_columns = df5.select_dtypes(include='object').columns\n",
    "n_rows = (len(object_columns) + 1) // 4\n",
    "n_cols = 4\n",
    "\n",
    "# Create subplots\n",
    "fig, axes = plt.subplots(n_rows, n_cols, figsize=(16, 2 * n_rows))\n",
    "\n",
    "# Flatten the axes if there's only one row\n",
    "if n_rows == 1:\n",
    "    axes = axes.reshape(1, -1)\n",
    "\n",
    "# Loop through each object column and create countplots\n",
    "for i, col in enumerate(object_columns):\n",
    "    sns.countplot(x=col, data=df, ax=axes[i//n_cols, i%n_cols])\n",
    "\n",
    "# Adjust layout\n",
    "plt.tight_layout()\n",
    "\n",
    "# Show the plots\n",
    "plt.show()"
   ]
  },
  {
   "cell_type": "code",
   "execution_count": null,
   "id": "05af07d6-f6ed-4ecd-9eca-43f6e3658dff",
   "metadata": {},
   "outputs": [],
   "source": []
  },
  {
   "cell_type": "markdown",
   "id": "cb57905e-5478-4a07-9d07-aa156f83bc85",
   "metadata": {
    "execution": {
     "iopub.execute_input": "2023-10-08T23:06:10.771223Z",
     "iopub.status.busy": "2023-10-08T23:06:10.771223Z",
     "iopub.status.idle": "2023-10-08T23:06:10.778503Z",
     "shell.execute_reply": "2023-10-08T23:06:10.777499Z",
     "shell.execute_reply.started": "2023-10-08T23:06:10.771223Z"
    }
   },
   "source": [
    "### High and Low Cardinality"
   ]
  },
  {
   "cell_type": "markdown",
   "id": "d4a4dd9a-773d-41fa-a0a8-9f2cd509b730",
   "metadata": {},
   "source": [
    "**High Cardinality:** High cardinality features (features with a large number of unique values) can sometimes introduce noise into the model. Dropping or encoding them appropriately can be a good strategy."
   ]
  },
  {
   "cell_type": "markdown",
   "id": "e8250dfa-4d43-4f6e-93ed-2d9c438db203",
   "metadata": {},
   "source": [
    "**Low Cardinality:** Low cardinality features with little variation may not contribute much information. We can Consider dropping or consolidating them."
   ]
  },
  {
   "cell_type": "code",
   "execution_count": 247,
   "id": "901580ea-7aaf-49f0-9451-db4355a3227e",
   "metadata": {
    "scrolled": true,
    "tags": []
   },
   "outputs": [
    {
     "data": {
      "text/plain": [
       "Id                   1451\n",
       "LotArea              1066\n",
       "Total_Area            957\n",
       "GrLivArea             858\n",
       "SalePrice             657\n",
       "GarageArea            438\n",
       "MasVnrArea            327\n",
       "WoodDeckSF            274\n",
       "OpenPorchSF           201\n",
       "BsmtOverallGrade      180\n",
       "EnclosedPorch         119\n",
       "Age_of_Property       112\n",
       "LotFrontage           111\n",
       "ScreenPorch            76\n",
       "Age_of_Renovation      61\n",
       "MedianHousePrice       25\n",
       "LowQualFinSF           24\n",
       "MiscVal                21\n",
       "3SsnPorch              20\n",
       "Exterior2nd            16\n",
       "MSSubClass             15\n",
       "Exterior1st            15\n",
       "MoSold                 12\n",
       "TotRmsAbvGrd           12\n",
       "OverallQual            10\n",
       "Total_Bathrooms        10\n",
       "OverallCond             9\n",
       "Condition1              9\n",
       "SaleType                9\n",
       "RoofMatl                8\n",
       "Condition2              8\n",
       "BedroomAbvGr            8\n",
       "HouseStyle              8\n",
       "Functional              7\n",
       "RoofStyle               6\n",
       "Heating                 6\n",
       "Foundation              6\n",
       "SaleCondition           6\n",
       "FireplaceQu             6\n",
       "YrSold                  5\n",
       "ExterCond               5\n",
       "LotConfig               5\n",
       "MiscFeature             5\n",
       "MSZoning                5\n",
       "BldgType                5\n",
       "Electrical              5\n",
       "HeatingQC               5\n",
       "Fence                   5\n",
       "ExterQual               4\n",
       "MasVnrType              4\n",
       "LotShape                4\n",
       "Fireplaces              4\n",
       "KitchenQual             4\n",
       "KitchenAbvGr            4\n",
       "LandContour             4\n",
       "Alley                   3\n",
       "PavedDrive              3\n",
       "LandSlope               3\n",
       "Utilities               2\n",
       "HasGarage               2\n",
       "HasPool                 2\n",
       "CentralAir              2\n",
       "Street                  2\n",
       "dtype: int64"
      ]
     },
     "execution_count": 247,
     "metadata": {},
     "output_type": "execute_result"
    }
   ],
   "source": [
    "df5.nunique().sort_values(ascending=False)"
   ]
  },
  {
   "cell_type": "markdown",
   "id": "1dd38cf0-4082-4df0-b3db-c33561e51218",
   "metadata": {},
   "source": [
    "**Firstly**, we need to drop ID column, because it has unique values and results in high cardinality  "
   ]
  },
  {
   "cell_type": "code",
   "execution_count": 248,
   "id": "1d80b0b8-e8f3-4a68-a326-8d9b3c699aa7",
   "metadata": {
    "tags": []
   },
   "outputs": [],
   "source": [
    "df5.drop(columns=['Id'], inplace=True)"
   ]
  },
  {
   "cell_type": "markdown",
   "id": "fafd3010-4844-4d93-8aaf-fa67072beafc",
   "metadata": {},
   "source": [
    "Lets observe more on categorical features"
   ]
  },
  {
   "cell_type": "code",
   "execution_count": 249,
   "id": "1812fe7d-1da8-4978-bfff-5fa34f8b5f51",
   "metadata": {
    "scrolled": true,
    "tags": []
   },
   "outputs": [
    {
     "data": {
      "text/html": [
       "<div>\n",
       "<style scoped>\n",
       "    .dataframe tbody tr th:only-of-type {\n",
       "        vertical-align: middle;\n",
       "    }\n",
       "\n",
       "    .dataframe tbody tr th {\n",
       "        vertical-align: top;\n",
       "    }\n",
       "\n",
       "    .dataframe thead th {\n",
       "        text-align: right;\n",
       "    }\n",
       "</style>\n",
       "<table border=\"1\" class=\"dataframe\">\n",
       "  <thead>\n",
       "    <tr style=\"text-align: right;\">\n",
       "      <th></th>\n",
       "      <th>count</th>\n",
       "      <th>unique</th>\n",
       "      <th>top</th>\n",
       "      <th>freq</th>\n",
       "    </tr>\n",
       "  </thead>\n",
       "  <tbody>\n",
       "    <tr>\n",
       "      <th>MSZoning</th>\n",
       "      <td>1451</td>\n",
       "      <td>5</td>\n",
       "      <td>RL</td>\n",
       "      <td>1145</td>\n",
       "    </tr>\n",
       "    <tr>\n",
       "      <th>Street</th>\n",
       "      <td>1451</td>\n",
       "      <td>2</td>\n",
       "      <td>Pave</td>\n",
       "      <td>1445</td>\n",
       "    </tr>\n",
       "    <tr>\n",
       "      <th>Alley</th>\n",
       "      <td>1451</td>\n",
       "      <td>3</td>\n",
       "      <td>No Alley Access</td>\n",
       "      <td>1361</td>\n",
       "    </tr>\n",
       "    <tr>\n",
       "      <th>LotShape</th>\n",
       "      <td>1451</td>\n",
       "      <td>4</td>\n",
       "      <td>Reg</td>\n",
       "      <td>918</td>\n",
       "    </tr>\n",
       "    <tr>\n",
       "      <th>LandContour</th>\n",
       "      <td>1451</td>\n",
       "      <td>4</td>\n",
       "      <td>Lvl</td>\n",
       "      <td>1302</td>\n",
       "    </tr>\n",
       "    <tr>\n",
       "      <th>Utilities</th>\n",
       "      <td>1451</td>\n",
       "      <td>2</td>\n",
       "      <td>AllPub</td>\n",
       "      <td>1450</td>\n",
       "    </tr>\n",
       "    <tr>\n",
       "      <th>LotConfig</th>\n",
       "      <td>1451</td>\n",
       "      <td>5</td>\n",
       "      <td>Inside</td>\n",
       "      <td>1045</td>\n",
       "    </tr>\n",
       "    <tr>\n",
       "      <th>LandSlope</th>\n",
       "      <td>1451</td>\n",
       "      <td>3</td>\n",
       "      <td>Gtl</td>\n",
       "      <td>1373</td>\n",
       "    </tr>\n",
       "    <tr>\n",
       "      <th>Condition1</th>\n",
       "      <td>1451</td>\n",
       "      <td>9</td>\n",
       "      <td>Norm</td>\n",
       "      <td>1251</td>\n",
       "    </tr>\n",
       "    <tr>\n",
       "      <th>Condition2</th>\n",
       "      <td>1451</td>\n",
       "      <td>8</td>\n",
       "      <td>Norm</td>\n",
       "      <td>1436</td>\n",
       "    </tr>\n",
       "    <tr>\n",
       "      <th>BldgType</th>\n",
       "      <td>1451</td>\n",
       "      <td>5</td>\n",
       "      <td>1Fam</td>\n",
       "      <td>1212</td>\n",
       "    </tr>\n",
       "    <tr>\n",
       "      <th>HouseStyle</th>\n",
       "      <td>1451</td>\n",
       "      <td>8</td>\n",
       "      <td>1Story</td>\n",
       "      <td>721</td>\n",
       "    </tr>\n",
       "    <tr>\n",
       "      <th>RoofStyle</th>\n",
       "      <td>1451</td>\n",
       "      <td>6</td>\n",
       "      <td>Gable</td>\n",
       "      <td>1133</td>\n",
       "    </tr>\n",
       "    <tr>\n",
       "      <th>RoofMatl</th>\n",
       "      <td>1451</td>\n",
       "      <td>8</td>\n",
       "      <td>CompShg</td>\n",
       "      <td>1425</td>\n",
       "    </tr>\n",
       "    <tr>\n",
       "      <th>Exterior1st</th>\n",
       "      <td>1451</td>\n",
       "      <td>15</td>\n",
       "      <td>VinylSd</td>\n",
       "      <td>509</td>\n",
       "    </tr>\n",
       "    <tr>\n",
       "      <th>Exterior2nd</th>\n",
       "      <td>1451</td>\n",
       "      <td>16</td>\n",
       "      <td>VinylSd</td>\n",
       "      <td>498</td>\n",
       "    </tr>\n",
       "    <tr>\n",
       "      <th>MasVnrType</th>\n",
       "      <td>1451</td>\n",
       "      <td>4</td>\n",
       "      <td>None</td>\n",
       "      <td>863</td>\n",
       "    </tr>\n",
       "    <tr>\n",
       "      <th>ExterQual</th>\n",
       "      <td>1451</td>\n",
       "      <td>4</td>\n",
       "      <td>TA</td>\n",
       "      <td>905</td>\n",
       "    </tr>\n",
       "    <tr>\n",
       "      <th>ExterCond</th>\n",
       "      <td>1451</td>\n",
       "      <td>5</td>\n",
       "      <td>TA</td>\n",
       "      <td>1273</td>\n",
       "    </tr>\n",
       "    <tr>\n",
       "      <th>Foundation</th>\n",
       "      <td>1451</td>\n",
       "      <td>6</td>\n",
       "      <td>PConc</td>\n",
       "      <td>638</td>\n",
       "    </tr>\n",
       "    <tr>\n",
       "      <th>Heating</th>\n",
       "      <td>1451</td>\n",
       "      <td>6</td>\n",
       "      <td>GasA</td>\n",
       "      <td>1419</td>\n",
       "    </tr>\n",
       "    <tr>\n",
       "      <th>HeatingQC</th>\n",
       "      <td>1451</td>\n",
       "      <td>5</td>\n",
       "      <td>Ex</td>\n",
       "      <td>734</td>\n",
       "    </tr>\n",
       "    <tr>\n",
       "      <th>CentralAir</th>\n",
       "      <td>1451</td>\n",
       "      <td>2</td>\n",
       "      <td>Y</td>\n",
       "      <td>1356</td>\n",
       "    </tr>\n",
       "    <tr>\n",
       "      <th>Electrical</th>\n",
       "      <td>1451</td>\n",
       "      <td>5</td>\n",
       "      <td>SBrkr</td>\n",
       "      <td>1326</td>\n",
       "    </tr>\n",
       "    <tr>\n",
       "      <th>KitchenQual</th>\n",
       "      <td>1451</td>\n",
       "      <td>4</td>\n",
       "      <td>TA</td>\n",
       "      <td>734</td>\n",
       "    </tr>\n",
       "    <tr>\n",
       "      <th>Functional</th>\n",
       "      <td>1451</td>\n",
       "      <td>7</td>\n",
       "      <td>Typ</td>\n",
       "      <td>1352</td>\n",
       "    </tr>\n",
       "    <tr>\n",
       "      <th>FireplaceQu</th>\n",
       "      <td>1451</td>\n",
       "      <td>6</td>\n",
       "      <td>No FirePlace</td>\n",
       "      <td>685</td>\n",
       "    </tr>\n",
       "    <tr>\n",
       "      <th>PavedDrive</th>\n",
       "      <td>1451</td>\n",
       "      <td>3</td>\n",
       "      <td>Y</td>\n",
       "      <td>1331</td>\n",
       "    </tr>\n",
       "    <tr>\n",
       "      <th>Fence</th>\n",
       "      <td>1451</td>\n",
       "      <td>5</td>\n",
       "      <td>No Fence</td>\n",
       "      <td>1170</td>\n",
       "    </tr>\n",
       "    <tr>\n",
       "      <th>MiscFeature</th>\n",
       "      <td>1451</td>\n",
       "      <td>5</td>\n",
       "      <td>No MiscFeatures</td>\n",
       "      <td>1397</td>\n",
       "    </tr>\n",
       "    <tr>\n",
       "      <th>SaleType</th>\n",
       "      <td>1451</td>\n",
       "      <td>9</td>\n",
       "      <td>WD</td>\n",
       "      <td>1261</td>\n",
       "    </tr>\n",
       "    <tr>\n",
       "      <th>SaleCondition</th>\n",
       "      <td>1451</td>\n",
       "      <td>6</td>\n",
       "      <td>Normal</td>\n",
       "      <td>1193</td>\n",
       "    </tr>\n",
       "  </tbody>\n",
       "</table>\n",
       "</div>"
      ],
      "text/plain": [
       "              count unique              top  freq\n",
       "MSZoning       1451      5               RL  1145\n",
       "Street         1451      2             Pave  1445\n",
       "Alley          1451      3  No Alley Access  1361\n",
       "LotShape       1451      4              Reg   918\n",
       "LandContour    1451      4              Lvl  1302\n",
       "Utilities      1451      2           AllPub  1450\n",
       "LotConfig      1451      5           Inside  1045\n",
       "LandSlope      1451      3              Gtl  1373\n",
       "Condition1     1451      9             Norm  1251\n",
       "Condition2     1451      8             Norm  1436\n",
       "BldgType       1451      5             1Fam  1212\n",
       "HouseStyle     1451      8           1Story   721\n",
       "RoofStyle      1451      6            Gable  1133\n",
       "RoofMatl       1451      8          CompShg  1425\n",
       "Exterior1st    1451     15          VinylSd   509\n",
       "Exterior2nd    1451     16          VinylSd   498\n",
       "MasVnrType     1451      4             None   863\n",
       "ExterQual      1451      4               TA   905\n",
       "ExterCond      1451      5               TA  1273\n",
       "Foundation     1451      6            PConc   638\n",
       "Heating        1451      6             GasA  1419\n",
       "HeatingQC      1451      5               Ex   734\n",
       "CentralAir     1451      2                Y  1356\n",
       "Electrical     1451      5            SBrkr  1326\n",
       "KitchenQual    1451      4               TA   734\n",
       "Functional     1451      7              Typ  1352\n",
       "FireplaceQu    1451      6     No FirePlace   685\n",
       "PavedDrive     1451      3                Y  1331\n",
       "Fence          1451      5         No Fence  1170\n",
       "MiscFeature    1451      5  No MiscFeatures  1397\n",
       "SaleType       1451      9               WD  1261\n",
       "SaleCondition  1451      6           Normal  1193"
      ]
     },
     "execution_count": 249,
     "metadata": {},
     "output_type": "execute_result"
    }
   ],
   "source": [
    "df5.describe(include='object').T"
   ]
  },
  {
   "cell_type": "markdown",
   "id": "c2482924-d366-4ecd-b127-a56f5cbe3230",
   "metadata": {},
   "source": [
    "**Secondly,** 'Street', 'Utilities', 'Condition2', 'RoofMatl', 'Heating', 'MiscFeature' columns has too low variations and resulting **Low Cardinalty**  \n",
    "Therefore i consider to drop them"
   ]
  },
  {
   "cell_type": "code",
   "execution_count": 250,
   "id": "215b8ea5-e388-4741-bd85-9b853602df95",
   "metadata": {
    "tags": []
   },
   "outputs": [],
   "source": [
    "df6 = df5.drop(columns = ['Street', 'Utilities', 'Condition2', 'RoofMatl', 'Heating', 'MiscFeature'])"
   ]
  },
  {
   "cell_type": "code",
   "execution_count": 251,
   "id": "fbc777d9-c812-422d-a1af-66824948ea45",
   "metadata": {},
   "outputs": [
    {
     "data": {
      "text/plain": [
       "(1451, 56)"
      ]
     },
     "execution_count": 251,
     "metadata": {},
     "output_type": "execute_result"
    }
   ],
   "source": [
    "df6.shape"
   ]
  },
  {
   "cell_type": "markdown",
   "id": "722134e8-8a20-4744-83c4-585e296842aa",
   "metadata": {
    "tags": []
   },
   "source": [
    "### Multicollinearity"
   ]
  },
  {
   "cell_type": "markdown",
   "id": "9c21c2a0-caba-4a9c-9e49-8a4c3c49979e",
   "metadata": {},
   "source": [
    "**Identifying Correlated Features:** Identifying and addressing multicollinearity is crucial for regression models. Dropping one of a set of highly correlated features is a good strategy. It helps to keep the model more interpretable and efficient.  \n",
    "**VIF (Variance Inflation Factor)**: If you want a more quantitative approach to assess multicollinearity, you can use VIF. A high VIF score indicates a high correlation between a feature and other features in the dataset."
   ]
  },
  {
   "cell_type": "markdown",
   "id": "b1430528-c3de-460a-aca7-531223abca38",
   "metadata": {},
   "source": [
    "Before diving into mathematical calculations, we can check any variables with our domain knowledge\n"
   ]
  },
  {
   "cell_type": "markdown",
   "id": "d20697ac-4a48-4fd9-8db4-0c320a39af7c",
   "metadata": {},
   "source": [
    "'GrLivArea', 'TotRmsAbvGrd', 'Total_Area' are strongly correlated each other. I need to find a balance between dropping and holding  \n",
    "I think Room Number is important along with Total Area  \n",
    "So i can drop Living Area Above the Ground"
   ]
  },
  {
   "cell_type": "code",
   "execution_count": 252,
   "id": "bd777192-9ec4-4783-bfa9-2756507b347d",
   "metadata": {
    "tags": []
   },
   "outputs": [],
   "source": [
    "df6.drop(columns=['GrLivArea'], inplace=True)"
   ]
  },
  {
   "cell_type": "markdown",
   "id": "2255de71-54ff-44c3-88a8-fcaae5068aa9",
   "metadata": {},
   "source": [
    "#### Numeric Features: Correlation Matrix"
   ]
  },
  {
   "cell_type": "code",
   "execution_count": 253,
   "id": "879b597c-009e-4283-83e0-123a0cdc77fe",
   "metadata": {
    "tags": []
   },
   "outputs": [
    {
     "data": {
      "text/html": [
       "<div>\n",
       "<style scoped>\n",
       "    .dataframe tbody tr th:only-of-type {\n",
       "        vertical-align: middle;\n",
       "    }\n",
       "\n",
       "    .dataframe tbody tr th {\n",
       "        vertical-align: top;\n",
       "    }\n",
       "\n",
       "    .dataframe thead th {\n",
       "        text-align: right;\n",
       "    }\n",
       "</style>\n",
       "<table border=\"1\" class=\"dataframe\">\n",
       "  <thead>\n",
       "    <tr style=\"text-align: right;\">\n",
       "      <th></th>\n",
       "      <th>OverallQual</th>\n",
       "      <th>SalePrice</th>\n",
       "      <th>Total_Area</th>\n",
       "      <th>MedianHousePrice</th>\n",
       "    </tr>\n",
       "  </thead>\n",
       "  <tbody>\n",
       "    <tr>\n",
       "      <th>OverallQual</th>\n",
       "      <td>NaN</td>\n",
       "      <td>0.790085</td>\n",
       "      <td>NaN</td>\n",
       "      <td>NaN</td>\n",
       "    </tr>\n",
       "    <tr>\n",
       "      <th>SalePrice</th>\n",
       "      <td>0.790085</td>\n",
       "      <td>NaN</td>\n",
       "      <td>0.783327</td>\n",
       "      <td>0.732735</td>\n",
       "    </tr>\n",
       "    <tr>\n",
       "      <th>Total_Area</th>\n",
       "      <td>NaN</td>\n",
       "      <td>0.783327</td>\n",
       "      <td>NaN</td>\n",
       "      <td>NaN</td>\n",
       "    </tr>\n",
       "    <tr>\n",
       "      <th>MedianHousePrice</th>\n",
       "      <td>NaN</td>\n",
       "      <td>0.732735</td>\n",
       "      <td>NaN</td>\n",
       "      <td>NaN</td>\n",
       "    </tr>\n",
       "  </tbody>\n",
       "</table>\n",
       "</div>"
      ],
      "text/plain": [
       "                  OverallQual  SalePrice  Total_Area  MedianHousePrice\n",
       "OverallQual               NaN   0.790085         NaN               NaN\n",
       "SalePrice            0.790085        NaN    0.783327          0.732735\n",
       "Total_Area                NaN   0.783327         NaN               NaN\n",
       "MedianHousePrice          NaN   0.732735         NaN               NaN"
      ]
     },
     "execution_count": 253,
     "metadata": {},
     "output_type": "execute_result"
    }
   ],
   "source": [
    "corr_matrix = df6.corr()[(df6.corr().abs() > 0.7) & (df6.corr().abs() != 1)]\n",
    "\n",
    "# Drop rows and columns with all NaN values\n",
    "corr_matrix = corr_matrix.dropna(axis=1, how='all').dropna(axis=0, how='all')\n",
    "corr_matrix"
   ]
  },
  {
   "cell_type": "markdown",
   "id": "716fc5b5-7bd4-42a0-adc8-ab0ed9296ec3",
   "metadata": {},
   "source": [
    "I didnt see any issues here"
   ]
  },
  {
   "cell_type": "markdown",
   "id": "0a42a6c4-7f89-41bd-b504-a92bff3e276f",
   "metadata": {},
   "source": [
    "#### Categorical Features: Cramer's V"
   ]
  },
  {
   "cell_type": "code",
   "execution_count": 254,
   "id": "a1f5f479-a882-418d-8a28-0c86a052dc25",
   "metadata": {
    "scrolled": true,
    "tags": []
   },
   "outputs": [
    {
     "data": {
      "text/html": [
       "<div>\n",
       "<style scoped>\n",
       "    .dataframe tbody tr th:only-of-type {\n",
       "        vertical-align: middle;\n",
       "    }\n",
       "\n",
       "    .dataframe tbody tr th {\n",
       "        vertical-align: top;\n",
       "    }\n",
       "\n",
       "    .dataframe thead th {\n",
       "        text-align: right;\n",
       "    }\n",
       "</style>\n",
       "<table border=\"1\" class=\"dataframe\">\n",
       "  <thead>\n",
       "    <tr style=\"text-align: right;\">\n",
       "      <th></th>\n",
       "      <th>count</th>\n",
       "      <th>unique</th>\n",
       "      <th>top</th>\n",
       "      <th>freq</th>\n",
       "    </tr>\n",
       "  </thead>\n",
       "  <tbody>\n",
       "    <tr>\n",
       "      <th>MSZoning</th>\n",
       "      <td>1451</td>\n",
       "      <td>5</td>\n",
       "      <td>RL</td>\n",
       "      <td>1145</td>\n",
       "    </tr>\n",
       "    <tr>\n",
       "      <th>Alley</th>\n",
       "      <td>1451</td>\n",
       "      <td>3</td>\n",
       "      <td>No Alley Access</td>\n",
       "      <td>1361</td>\n",
       "    </tr>\n",
       "    <tr>\n",
       "      <th>LotShape</th>\n",
       "      <td>1451</td>\n",
       "      <td>4</td>\n",
       "      <td>Reg</td>\n",
       "      <td>918</td>\n",
       "    </tr>\n",
       "    <tr>\n",
       "      <th>LandContour</th>\n",
       "      <td>1451</td>\n",
       "      <td>4</td>\n",
       "      <td>Lvl</td>\n",
       "      <td>1302</td>\n",
       "    </tr>\n",
       "    <tr>\n",
       "      <th>LotConfig</th>\n",
       "      <td>1451</td>\n",
       "      <td>5</td>\n",
       "      <td>Inside</td>\n",
       "      <td>1045</td>\n",
       "    </tr>\n",
       "    <tr>\n",
       "      <th>LandSlope</th>\n",
       "      <td>1451</td>\n",
       "      <td>3</td>\n",
       "      <td>Gtl</td>\n",
       "      <td>1373</td>\n",
       "    </tr>\n",
       "    <tr>\n",
       "      <th>Condition1</th>\n",
       "      <td>1451</td>\n",
       "      <td>9</td>\n",
       "      <td>Norm</td>\n",
       "      <td>1251</td>\n",
       "    </tr>\n",
       "    <tr>\n",
       "      <th>BldgType</th>\n",
       "      <td>1451</td>\n",
       "      <td>5</td>\n",
       "      <td>1Fam</td>\n",
       "      <td>1212</td>\n",
       "    </tr>\n",
       "    <tr>\n",
       "      <th>HouseStyle</th>\n",
       "      <td>1451</td>\n",
       "      <td>8</td>\n",
       "      <td>1Story</td>\n",
       "      <td>721</td>\n",
       "    </tr>\n",
       "    <tr>\n",
       "      <th>RoofStyle</th>\n",
       "      <td>1451</td>\n",
       "      <td>6</td>\n",
       "      <td>Gable</td>\n",
       "      <td>1133</td>\n",
       "    </tr>\n",
       "    <tr>\n",
       "      <th>Exterior1st</th>\n",
       "      <td>1451</td>\n",
       "      <td>15</td>\n",
       "      <td>VinylSd</td>\n",
       "      <td>509</td>\n",
       "    </tr>\n",
       "    <tr>\n",
       "      <th>Exterior2nd</th>\n",
       "      <td>1451</td>\n",
       "      <td>16</td>\n",
       "      <td>VinylSd</td>\n",
       "      <td>498</td>\n",
       "    </tr>\n",
       "    <tr>\n",
       "      <th>MasVnrType</th>\n",
       "      <td>1451</td>\n",
       "      <td>4</td>\n",
       "      <td>None</td>\n",
       "      <td>863</td>\n",
       "    </tr>\n",
       "    <tr>\n",
       "      <th>ExterQual</th>\n",
       "      <td>1451</td>\n",
       "      <td>4</td>\n",
       "      <td>TA</td>\n",
       "      <td>905</td>\n",
       "    </tr>\n",
       "    <tr>\n",
       "      <th>ExterCond</th>\n",
       "      <td>1451</td>\n",
       "      <td>5</td>\n",
       "      <td>TA</td>\n",
       "      <td>1273</td>\n",
       "    </tr>\n",
       "    <tr>\n",
       "      <th>Foundation</th>\n",
       "      <td>1451</td>\n",
       "      <td>6</td>\n",
       "      <td>PConc</td>\n",
       "      <td>638</td>\n",
       "    </tr>\n",
       "    <tr>\n",
       "      <th>HeatingQC</th>\n",
       "      <td>1451</td>\n",
       "      <td>5</td>\n",
       "      <td>Ex</td>\n",
       "      <td>734</td>\n",
       "    </tr>\n",
       "    <tr>\n",
       "      <th>CentralAir</th>\n",
       "      <td>1451</td>\n",
       "      <td>2</td>\n",
       "      <td>Y</td>\n",
       "      <td>1356</td>\n",
       "    </tr>\n",
       "    <tr>\n",
       "      <th>Electrical</th>\n",
       "      <td>1451</td>\n",
       "      <td>5</td>\n",
       "      <td>SBrkr</td>\n",
       "      <td>1326</td>\n",
       "    </tr>\n",
       "    <tr>\n",
       "      <th>KitchenQual</th>\n",
       "      <td>1451</td>\n",
       "      <td>4</td>\n",
       "      <td>TA</td>\n",
       "      <td>734</td>\n",
       "    </tr>\n",
       "    <tr>\n",
       "      <th>Functional</th>\n",
       "      <td>1451</td>\n",
       "      <td>7</td>\n",
       "      <td>Typ</td>\n",
       "      <td>1352</td>\n",
       "    </tr>\n",
       "    <tr>\n",
       "      <th>FireplaceQu</th>\n",
       "      <td>1451</td>\n",
       "      <td>6</td>\n",
       "      <td>No FirePlace</td>\n",
       "      <td>685</td>\n",
       "    </tr>\n",
       "    <tr>\n",
       "      <th>PavedDrive</th>\n",
       "      <td>1451</td>\n",
       "      <td>3</td>\n",
       "      <td>Y</td>\n",
       "      <td>1331</td>\n",
       "    </tr>\n",
       "    <tr>\n",
       "      <th>Fence</th>\n",
       "      <td>1451</td>\n",
       "      <td>5</td>\n",
       "      <td>No Fence</td>\n",
       "      <td>1170</td>\n",
       "    </tr>\n",
       "    <tr>\n",
       "      <th>SaleType</th>\n",
       "      <td>1451</td>\n",
       "      <td>9</td>\n",
       "      <td>WD</td>\n",
       "      <td>1261</td>\n",
       "    </tr>\n",
       "    <tr>\n",
       "      <th>SaleCondition</th>\n",
       "      <td>1451</td>\n",
       "      <td>6</td>\n",
       "      <td>Normal</td>\n",
       "      <td>1193</td>\n",
       "    </tr>\n",
       "  </tbody>\n",
       "</table>\n",
       "</div>"
      ],
      "text/plain": [
       "              count unique              top  freq\n",
       "MSZoning       1451      5               RL  1145\n",
       "Alley          1451      3  No Alley Access  1361\n",
       "LotShape       1451      4              Reg   918\n",
       "LandContour    1451      4              Lvl  1302\n",
       "LotConfig      1451      5           Inside  1045\n",
       "LandSlope      1451      3              Gtl  1373\n",
       "Condition1     1451      9             Norm  1251\n",
       "BldgType       1451      5             1Fam  1212\n",
       "HouseStyle     1451      8           1Story   721\n",
       "RoofStyle      1451      6            Gable  1133\n",
       "Exterior1st    1451     15          VinylSd   509\n",
       "Exterior2nd    1451     16          VinylSd   498\n",
       "MasVnrType     1451      4             None   863\n",
       "ExterQual      1451      4               TA   905\n",
       "ExterCond      1451      5               TA  1273\n",
       "Foundation     1451      6            PConc   638\n",
       "HeatingQC      1451      5               Ex   734\n",
       "CentralAir     1451      2                Y  1356\n",
       "Electrical     1451      5            SBrkr  1326\n",
       "KitchenQual    1451      4               TA   734\n",
       "Functional     1451      7              Typ  1352\n",
       "FireplaceQu    1451      6     No FirePlace   685\n",
       "PavedDrive     1451      3                Y  1331\n",
       "Fence          1451      5         No Fence  1170\n",
       "SaleType       1451      9               WD  1261\n",
       "SaleCondition  1451      6           Normal  1193"
      ]
     },
     "execution_count": 254,
     "metadata": {},
     "output_type": "execute_result"
    }
   ],
   "source": [
    "df6.describe(include='object').T"
   ]
  },
  {
   "cell_type": "markdown",
   "id": "2dfbbca0-9407-4fbc-b611-605726532e2e",
   "metadata": {},
   "source": [
    "**Cramér's V**   \n",
    "I can investigate with my domain knowledge, but i will try to measure the dependencies with **Cramér's V**"
   ]
  },
  {
   "cell_type": "markdown",
   "id": "d68dcee2-ce6b-4da4-973b-1d8c05005066",
   "metadata": {},
   "source": [
    "Cramér's V is a suitable measure for associations between categorical variables. It provides a value between 0 and 1, where 0 indicates no association and 1 indicates a perfect association. This metric gives you a good sense of the strength of association between categorical variables."
   ]
  },
  {
   "cell_type": "code",
   "execution_count": 255,
   "id": "4742bead-7f23-4f89-8fce-37d7c60a4a6f",
   "metadata": {
    "scrolled": true,
    "tags": []
   },
   "outputs": [
    {
     "data": {
      "text/plain": [
       "['MSZoning',\n",
       " 'Alley',\n",
       " 'LotShape',\n",
       " 'LandContour',\n",
       " 'LotConfig',\n",
       " 'LandSlope',\n",
       " 'Condition1',\n",
       " 'BldgType',\n",
       " 'HouseStyle',\n",
       " 'RoofStyle',\n",
       " 'Exterior1st',\n",
       " 'Exterior2nd',\n",
       " 'MasVnrType',\n",
       " 'ExterQual',\n",
       " 'ExterCond',\n",
       " 'Foundation',\n",
       " 'HeatingQC',\n",
       " 'CentralAir',\n",
       " 'Electrical',\n",
       " 'KitchenQual',\n",
       " 'Functional',\n",
       " 'FireplaceQu',\n",
       " 'PavedDrive',\n",
       " 'Fence',\n",
       " 'SaleType',\n",
       " 'SaleCondition']"
      ]
     },
     "execution_count": 255,
     "metadata": {},
     "output_type": "execute_result"
    }
   ],
   "source": [
    "categorical_variables = list(df6.columns[df6.dtypes == 'object'])\n",
    "categorical_variables"
   ]
  },
  {
   "cell_type": "code",
   "execution_count": 256,
   "id": "aa4b1607-e7ea-4155-b1ed-92670f74f8ae",
   "metadata": {
    "scrolled": true,
    "tags": []
   },
   "outputs": [],
   "source": [
    "from scipy.stats import chi2_contingency\n",
    "\n",
    "cramer_v_dict = {}\n",
    "\n",
    "for var1 in categorical_variables:\n",
    "    for var2 in categorical_variables:\n",
    "        if var1 != var2:\n",
    "            contingency_table = pd.crosstab(df6[var1], df6[var2])\n",
    "            chi2, _, _, _ = chi2_contingency(contingency_table)\n",
    "            num_obs = contingency_table.sum().sum()\n",
    "            v = np.sqrt(chi2 / (num_obs * (min(contingency_table.shape) - 1)))\n",
    "            cramer_v_dict[(var1, var2)] = v"
   ]
  },
  {
   "cell_type": "code",
   "execution_count": 257,
   "id": "67f37bd1-c00c-45d1-b779-751677b703fe",
   "metadata": {
    "tags": []
   },
   "outputs": [
    {
     "name": "stdout",
     "output_type": "stream",
     "text": [
      "('LandContour', 'LandSlope') 0.45907039576142694\n",
      "('LandSlope', 'LandContour') 0.45907039576142694\n",
      "('Exterior1st', 'Exterior2nd') 0.7635072223512057\n",
      "('Exterior2nd', 'Exterior1st') 0.7635072223512057\n",
      "('ExterQual', 'KitchenQual') 0.5457817373986698\n",
      "('CentralAir', 'Electrical') 0.4241031006995839\n",
      "('Electrical', 'CentralAir') 0.4241031006995839\n",
      "('KitchenQual', 'ExterQual') 0.5457817373986698\n",
      "('SaleType', 'SaleCondition') 0.4756591800261558\n",
      "('SaleCondition', 'SaleType') 0.4756591800261558\n"
     ]
    }
   ],
   "source": [
    "for i, v in cramer_v_dict.items():\n",
    "    if v>0.4:\n",
    "        print(i,v)"
   ]
  },
  {
   "cell_type": "markdown",
   "id": "4191b34c-fc4a-42b8-b085-6258c26d11a4",
   "metadata": {},
   "source": [
    "Here is the measures i will take:\n",
    "- I will drop Landslope over LandContour, because contour has more descriptive data"
   ]
  },
  {
   "cell_type": "code",
   "execution_count": 258,
   "id": "8862fbbb-c9e5-4fa7-89d4-b0e8aeebb036",
   "metadata": {
    "tags": []
   },
   "outputs": [],
   "source": [
    "df6.drop(columns=['LandSlope'], inplace=True)"
   ]
  },
  {
   "cell_type": "markdown",
   "id": "2e871c8c-9770-4631-bd39-97a59bdc7028",
   "metadata": {},
   "source": [
    "- I will drop Exterior2nd. Because, except 212 instances there are no value in Exterior 2nd. Even exist, its not as descriptive as it harms model by multicollinearity"
   ]
  },
  {
   "cell_type": "code",
   "execution_count": 259,
   "id": "692e8dfd-eb46-4fd7-8913-d8f178abbea0",
   "metadata": {
    "tags": []
   },
   "outputs": [],
   "source": [
    "df6.drop(columns=['Exterior2nd'], inplace=True)"
   ]
  },
  {
   "cell_type": "markdown",
   "id": "e736dc04-1e2a-4113-a7ee-dc3390b42dac",
   "metadata": {},
   "source": [
    "* I drop electrical over CentralAir since CentralAir is more easy to interpret with its BinaryClass"
   ]
  },
  {
   "cell_type": "code",
   "execution_count": 260,
   "id": "8f579787-2e1a-42bf-a86c-d1bf3fa8357d",
   "metadata": {
    "tags": []
   },
   "outputs": [],
   "source": [
    "df6.drop(columns=['Electrical'], inplace=True)"
   ]
  },
  {
   "cell_type": "markdown",
   "id": "cf640011-c844-4177-a739-caf9deeeff5c",
   "metadata": {},
   "source": [
    "* I will drop ExterQual ove KitchenQual.\n",
    "* ExterQual somehow is reflected in External material, age, renovation age"
   ]
  },
  {
   "cell_type": "code",
   "execution_count": 261,
   "id": "e3cb9cca-a84f-4653-aa23-e7aa2692722b",
   "metadata": {
    "tags": []
   },
   "outputs": [],
   "source": [
    "df6.drop(columns=['ExterQual'], inplace=True)"
   ]
  },
  {
   "cell_type": "markdown",
   "id": "56e86cc0-959f-4248-9651-09f97c7fa34b",
   "metadata": {},
   "source": [
    "* i will drop SaleType over SaleCondition. because it is less descriptive and also it's data is somehow described in other columns as well"
   ]
  },
  {
   "cell_type": "code",
   "execution_count": 262,
   "id": "099375fc-eedc-4234-b157-52ffb2eefb1b",
   "metadata": {
    "tags": []
   },
   "outputs": [],
   "source": [
    "df6.drop(columns=['SaleType'], inplace=True)"
   ]
  },
  {
   "cell_type": "code",
   "execution_count": 263,
   "id": "b74eaf44-5256-44d7-a4d9-4728649870dd",
   "metadata": {
    "tags": []
   },
   "outputs": [
    {
     "data": {
      "text/plain": [
       "(1451, 50)"
      ]
     },
     "execution_count": 263,
     "metadata": {},
     "output_type": "execute_result"
    }
   ],
   "source": [
    "df7 = df6.copy()\n",
    "df7.shape"
   ]
  },
  {
   "cell_type": "code",
   "execution_count": null,
   "id": "850d27bb-f26c-44f8-9ad6-e347a565053d",
   "metadata": {},
   "outputs": [],
   "source": []
  },
  {
   "cell_type": "markdown",
   "id": "ed025540-cf33-4095-964e-7993ce44c0b1",
   "metadata": {},
   "source": [
    "### Feature Engineering Continued"
   ]
  },
  {
   "cell_type": "code",
   "execution_count": 264,
   "id": "add52ccb-7638-4c80-852f-7a1ed3fc88a6",
   "metadata": {
    "tags": []
   },
   "outputs": [
    {
     "data": {
      "text/plain": [
       "Index(['MSSubClass', 'MSZoning', 'LotFrontage', 'LotArea', 'Alley', 'LotShape',\n",
       "       'LandContour', 'LotConfig', 'Condition1', 'BldgType', 'HouseStyle',\n",
       "       'OverallQual', 'OverallCond', 'RoofStyle', 'Exterior1st', 'MasVnrType',\n",
       "       'MasVnrArea', 'ExterCond', 'Foundation', 'HeatingQC', 'CentralAir',\n",
       "       'LowQualFinSF', 'BedroomAbvGr', 'KitchenAbvGr', 'KitchenQual',\n",
       "       'TotRmsAbvGrd', 'Functional', 'Fireplaces', 'FireplaceQu', 'GarageArea',\n",
       "       'PavedDrive', 'WoodDeckSF', 'OpenPorchSF', 'EnclosedPorch', '3SsnPorch',\n",
       "       'ScreenPorch', 'Fence', 'MiscVal', 'MoSold', 'YrSold', 'SaleCondition',\n",
       "       'SalePrice', 'Total_Area', 'Total_Bathrooms', 'Age_of_Property',\n",
       "       'Age_of_Renovation', 'HasGarage', 'HasPool', 'MedianHousePrice',\n",
       "       'BsmtOverallGrade'],\n",
       "      dtype='object')"
      ]
     },
     "execution_count": 264,
     "metadata": {},
     "output_type": "execute_result"
    }
   ],
   "source": [
    "df7.columns"
   ]
  },
  {
   "cell_type": "markdown",
   "id": "eb2d27f5-8dcf-42bb-bc4c-753f08753c16",
   "metadata": {
    "execution": {
     "iopub.execute_input": "2023-10-10T10:57:18.989580Z",
     "iopub.status.busy": "2023-10-10T10:57:18.989580Z",
     "iopub.status.idle": "2023-10-10T10:57:19.009485Z",
     "shell.execute_reply": "2023-10-10T10:57:19.009485Z",
     "shell.execute_reply.started": "2023-10-10T10:57:18.989580Z"
    }
   },
   "source": [
    "**Rooms**"
   ]
  },
  {
   "cell_type": "code",
   "execution_count": 265,
   "id": "44048996-2a9e-4864-a04c-241c587e1544",
   "metadata": {
    "tags": []
   },
   "outputs": [],
   "source": [
    "# no need to hold both TotRmsAbvGrd and 'BedroomAbvGr'\n",
    "df7.drop(columns = ['BedroomAbvGr'], inplace=True)"
   ]
  },
  {
   "cell_type": "markdown",
   "id": "62bb0181-fe5b-4cd0-8caa-44986b52b90a",
   "metadata": {},
   "source": [
    "**Porch and Deck Columns**"
   ]
  },
  {
   "cell_type": "markdown",
   "id": "ba86f59f-be3b-4b0c-8dd4-ee0114907faf",
   "metadata": {},
   "source": [
    "'WoodDeckSF', 'OpenPorchSF', 'EnclosedPorch', '3SsnPorch', 'ScreenPorch'  \n",
    "i will combine these features into one single one"
   ]
  },
  {
   "cell_type": "code",
   "execution_count": 266,
   "id": "7a514981-5348-4abf-997d-4ef48258144c",
   "metadata": {
    "scrolled": true,
    "tags": []
   },
   "outputs": [],
   "source": [
    "terrace_columns = ['WoodDeckSF', 'OpenPorchSF', 'EnclosedPorch', '3SsnPorch', 'ScreenPorch']\n",
    "terrace_weights = [1, 1, 2, 2, 2]\n",
    "\n",
    "df7['Terrace_Grade'] = (df7[terrace_columns[0]] * terrace_weights[0] +\n",
    "                            df7[terrace_columns[1]] * terrace_weights[1] +\n",
    "                             df7[terrace_columns[2]] * terrace_weights[2] +\n",
    "                             df7[terrace_columns[3]] * terrace_weights[3] +\n",
    "                             df7[terrace_columns[4]] * terrace_weights[4])"
   ]
  },
  {
   "cell_type": "code",
   "execution_count": 267,
   "id": "47ef511c-c9d6-4278-99ca-a18e1ade76cd",
   "metadata": {
    "tags": []
   },
   "outputs": [],
   "source": [
    "df8 = df7.drop(columns=terrace_columns)"
   ]
  },
  {
   "cell_type": "markdown",
   "id": "67841a71-5046-41d9-9970-4a2270d883c9",
   "metadata": {},
   "source": [
    "## Final Issues Feature Engineering"
   ]
  },
  {
   "cell_type": "markdown",
   "id": "9437e3e3-2ef2-4677-a8e4-686518477c47",
   "metadata": {},
   "source": [
    "**this part is the version0.1 of the model with limited features selected by domain knowledge and dataset information**"
   ]
  },
  {
   "cell_type": "code",
   "execution_count": 268,
   "id": "f13f0f75-0eda-4496-9cc4-fc828f642916",
   "metadata": {
    "tags": []
   },
   "outputs": [
    {
     "data": {
      "text/plain": [
       "(1451, 45)"
      ]
     },
     "execution_count": 268,
     "metadata": {},
     "output_type": "execute_result"
    }
   ],
   "source": [
    "df8.shape"
   ]
  },
  {
   "cell_type": "markdown",
   "id": "7bcd6c99-9000-4c6b-8fff-9d0aed9b9bec",
   "metadata": {},
   "source": [
    "For the sake of simplicity i will only select some of the features for the first run of model  \n",
    "Later on, i will come to this part and continue with 46 features again. And make a comparison"
   ]
  },
  {
   "cell_type": "code",
   "execution_count": 269,
   "id": "d8488efb-4250-4e2b-a8bb-9acb915254ee",
   "metadata": {
    "tags": []
   },
   "outputs": [
    {
     "data": {
      "text/plain": [
       "Index(['MSSubClass', 'MSZoning', 'LotFrontage', 'LotArea', 'Alley', 'LotShape',\n",
       "       'LandContour', 'LotConfig', 'Condition1', 'BldgType', 'HouseStyle',\n",
       "       'OverallQual', 'OverallCond', 'RoofStyle', 'Exterior1st', 'MasVnrType',\n",
       "       'MasVnrArea', 'ExterCond', 'Foundation', 'HeatingQC', 'CentralAir',\n",
       "       'LowQualFinSF', 'KitchenAbvGr', 'KitchenQual', 'TotRmsAbvGrd',\n",
       "       'Functional', 'Fireplaces', 'FireplaceQu', 'GarageArea', 'PavedDrive',\n",
       "       'Fence', 'MiscVal', 'MoSold', 'YrSold', 'SaleCondition', 'SalePrice',\n",
       "       'Total_Area', 'Total_Bathrooms', 'Age_of_Property', 'Age_of_Renovation',\n",
       "       'HasGarage', 'HasPool', 'MedianHousePrice', 'BsmtOverallGrade',\n",
       "       'Terrace_Grade'],\n",
       "      dtype='object')"
      ]
     },
     "execution_count": 269,
     "metadata": {},
     "output_type": "execute_result"
    }
   ],
   "source": [
    "df8.columns"
   ]
  },
  {
   "cell_type": "markdown",
   "id": "3fdd996b-1c73-48b4-af59-783989523aef",
   "metadata": {},
   "source": [
    "I will use domain knowledge and intuition from the dataset i gathered, and will drop more features. I want to have around 15-20 features to continue our model"
   ]
  },
  {
   "cell_type": "code",
   "execution_count": 270,
   "id": "72497dfa-1939-41a3-971e-9d3b94759d80",
   "metadata": {
    "scrolled": true,
    "tags": []
   },
   "outputs": [],
   "source": [
    "columns_to_use_v1 = ['BsmtOverallGrade', 'Terrace_Grade', 'ExterCond', 'KitchenQual', 'OverallQual', 'OverallCond','LotArea', \n",
    "                     'Total_Area', 'Total_Bathrooms', 'GarageArea', 'TotRmsAbvGrd','Age_of_Property', 'Age_of_Renovation', \n",
    "                     'MoSold', 'YrSold', 'SaleCondition','MSZoning', 'MedianHousePrice', 'SalePrice', 'Condition1', 'HouseStyle']"
   ]
  },
  {
   "cell_type": "code",
   "execution_count": 271,
   "id": "a558549f-5886-40fa-9722-78c5de95441d",
   "metadata": {
    "scrolled": true,
    "tags": []
   },
   "outputs": [
    {
     "data": {
      "text/plain": [
       "(1451, 21)"
      ]
     },
     "execution_count": 271,
     "metadata": {},
     "output_type": "execute_result"
    }
   ],
   "source": [
    "df9 = df8[columns_to_use_v1]\n",
    "df9.shape"
   ]
  },
  {
   "cell_type": "code",
   "execution_count": 272,
   "id": "297243aa-2dc0-4f06-bb6f-c1bcec9523d3",
   "metadata": {
    "tags": []
   },
   "outputs": [
    {
     "data": {
      "text/html": [
       "<div>\n",
       "<style scoped>\n",
       "    .dataframe tbody tr th:only-of-type {\n",
       "        vertical-align: middle;\n",
       "    }\n",
       "\n",
       "    .dataframe tbody tr th {\n",
       "        vertical-align: top;\n",
       "    }\n",
       "\n",
       "    .dataframe thead th {\n",
       "        text-align: right;\n",
       "    }\n",
       "</style>\n",
       "<table border=\"1\" class=\"dataframe\">\n",
       "  <thead>\n",
       "    <tr style=\"text-align: right;\">\n",
       "      <th></th>\n",
       "      <th>BsmtOverallGrade</th>\n",
       "      <th>Terrace_Grade</th>\n",
       "      <th>ExterCond</th>\n",
       "      <th>KitchenQual</th>\n",
       "      <th>OverallQual</th>\n",
       "      <th>OverallCond</th>\n",
       "      <th>LotArea</th>\n",
       "      <th>Total_Area</th>\n",
       "      <th>Total_Bathrooms</th>\n",
       "      <th>GarageArea</th>\n",
       "      <th>TotRmsAbvGrd</th>\n",
       "      <th>Age_of_Property</th>\n",
       "      <th>Age_of_Renovation</th>\n",
       "      <th>MoSold</th>\n",
       "      <th>YrSold</th>\n",
       "      <th>SaleCondition</th>\n",
       "      <th>MSZoning</th>\n",
       "      <th>MedianHousePrice</th>\n",
       "      <th>SalePrice</th>\n",
       "      <th>Condition1</th>\n",
       "      <th>HouseStyle</th>\n",
       "    </tr>\n",
       "  </thead>\n",
       "  <tbody>\n",
       "    <tr>\n",
       "      <th>494</th>\n",
       "      <td>10.0</td>\n",
       "      <td>753</td>\n",
       "      <td>TA</td>\n",
       "      <td>TA</td>\n",
       "      <td>4</td>\n",
       "      <td>5</td>\n",
       "      <td>7879</td>\n",
       "      <td>1440</td>\n",
       "      <td>1.0</td>\n",
       "      <td>0</td>\n",
       "      <td>4</td>\n",
       "      <td>90</td>\n",
       "      <td>60</td>\n",
       "      <td>11</td>\n",
       "      <td>2009</td>\n",
       "      <td>Abnorml</td>\n",
       "      <td>C (all)</td>\n",
       "      <td>103000.0</td>\n",
       "      <td>34900</td>\n",
       "      <td>Norm</td>\n",
       "      <td>1Story</td>\n",
       "    </tr>\n",
       "    <tr>\n",
       "      <th>544</th>\n",
       "      <td>11.0</td>\n",
       "      <td>326</td>\n",
       "      <td>TA</td>\n",
       "      <td>TA</td>\n",
       "      <td>6</td>\n",
       "      <td>7</td>\n",
       "      <td>8737</td>\n",
       "      <td>2700</td>\n",
       "      <td>1.5</td>\n",
       "      <td>440</td>\n",
       "      <td>6</td>\n",
       "      <td>87</td>\n",
       "      <td>60</td>\n",
       "      <td>5</td>\n",
       "      <td>2007</td>\n",
       "      <td>Normal</td>\n",
       "      <td>RL</td>\n",
       "      <td>124300.0</td>\n",
       "      <td>210000</td>\n",
       "      <td>Norm</td>\n",
       "      <td>1.5Fin</td>\n",
       "    </tr>\n",
       "    <tr>\n",
       "      <th>1097</th>\n",
       "      <td>13.0</td>\n",
       "      <td>384</td>\n",
       "      <td>TA</td>\n",
       "      <td>TA</td>\n",
       "      <td>6</td>\n",
       "      <td>6</td>\n",
       "      <td>8910</td>\n",
       "      <td>1849</td>\n",
       "      <td>1.5</td>\n",
       "      <td>539</td>\n",
       "      <td>6</td>\n",
       "      <td>51</td>\n",
       "      <td>51</td>\n",
       "      <td>7</td>\n",
       "      <td>2006</td>\n",
       "      <td>Normal</td>\n",
       "      <td>RL</td>\n",
       "      <td>140000.0</td>\n",
       "      <td>159500</td>\n",
       "      <td>Norm</td>\n",
       "      <td>1Story</td>\n",
       "    </tr>\n",
       "  </tbody>\n",
       "</table>\n",
       "</div>"
      ],
      "text/plain": [
       "      BsmtOverallGrade  Terrace_Grade ExterCond KitchenQual  OverallQual  \\\n",
       "494               10.0            753        TA          TA            4   \n",
       "544               11.0            326        TA          TA            6   \n",
       "1097              13.0            384        TA          TA            6   \n",
       "\n",
       "      OverallCond  LotArea  Total_Area  Total_Bathrooms  GarageArea  \\\n",
       "494             5     7879        1440              1.0           0   \n",
       "544             7     8737        2700              1.5         440   \n",
       "1097            6     8910        1849              1.5         539   \n",
       "\n",
       "      TotRmsAbvGrd  Age_of_Property  Age_of_Renovation  MoSold  YrSold  \\\n",
       "494              4               90                 60      11    2009   \n",
       "544              6               87                 60       5    2007   \n",
       "1097             6               51                 51       7    2006   \n",
       "\n",
       "     SaleCondition MSZoning  MedianHousePrice  SalePrice Condition1 HouseStyle  \n",
       "494        Abnorml  C (all)          103000.0      34900       Norm     1Story  \n",
       "544         Normal       RL          124300.0     210000       Norm     1.5Fin  \n",
       "1097        Normal       RL          140000.0     159500       Norm     1Story  "
      ]
     },
     "execution_count": 272,
     "metadata": {},
     "output_type": "execute_result"
    }
   ],
   "source": [
    "df9.sample(3)"
   ]
  },
  {
   "cell_type": "markdown",
   "id": "3e4280e7-65fc-4497-a387-7efdbdfbdd9b",
   "metadata": {},
   "source": [
    "## Outliers"
   ]
  },
  {
   "cell_type": "raw",
   "id": "6d8988f8-b846-446f-a601-1d76d2d041ba",
   "metadata": {
    "tags": []
   },
   "source": [
    "def detect_outliers_qty(df, IQR_multi=3):\n",
    "    outlier_rows = []\n",
    "    outlier_features = []\n",
    "    df = df.select_dtypes(include='number')\n",
    "    for col in df.columns:\n",
    "        Q1, Q3 = df[col].quantile([.25, .75])\n",
    "        treshold_low = Q1 - IQR_multi * abs(Q1-Q3)\n",
    "        treshold_high = Q1 + IQR_multi * abs(Q1-Q3)\n",
    "        is_outlier_exist = (df[col] < treshold_low) | (df[col] > treshold_high)\n",
    "        outliers = df[is_outlier_exist]\n",
    "        if is_outlier_exist:\n",
    "            outlier_features.extend(col)\n",
    "    outlier_rows.extend(outliers.index)\n",
    "    return df.iloc[outlier_rows]"
   ]
  },
  {
   "cell_type": "code",
   "execution_count": 273,
   "id": "da669f05-4197-4eb0-906a-dbdf00f7cfd0",
   "metadata": {
    "tags": []
   },
   "outputs": [],
   "source": [
    "class Outliers:\n",
    "    def __init__(self, df, IQR_multi=3):\n",
    "        self.df = df\n",
    "        self.IQR_multi = IQR_multi\n",
    "\n",
    "    def _get_outliers(self, col):\n",
    "        Q1, Q3 = self.df[col].quantile([.25, .75])\n",
    "        threshold_low = Q1 - self.IQR_multi * abs(Q1 - Q3)\n",
    "        threshold_high = Q1 + self.IQR_multi * abs(Q1 - Q3)\n",
    "        return (self.df[col] < threshold_low) | (self.df[col] > threshold_high)\n",
    "\n",
    "    \n",
    "    def detect_outlier_rows(self):\n",
    "        outlier_rows = []\n",
    "        self.df = self.df.select_dtypes(include='number')\n",
    "        for col in self.df.columns:\n",
    "            Q1, Q3 = self.df[col].quantile([.25, .75])\n",
    "            threshold_low = Q1 - self.IQR_multi * abs(Q1-Q3)\n",
    "            threshold_high = Q1 + self.IQR_multi * abs(Q1-Q3)\n",
    "            is_outlier_exist = (self.df[col] < threshold_low) | (self.df[col] > threshold_high)\n",
    "            outliers = self.df[is_outlier_exist]\n",
    "            if not outliers.empty:\n",
    "                outlier_rows.extend(outliers.index)\n",
    "        outlier_rows = list(set(outlier_rows))  # Remove duplicates\n",
    "        return self.df.iloc[outlier_rows]\n",
    "\n",
    "\n",
    "    def detect_outlier_columns(self):\n",
    "        outlier_features = []\n",
    "        numeric_cols = self.df.select_dtypes(include='number').columns\n",
    "        for col in numeric_cols:\n",
    "            if self._get_outliers(col).any():\n",
    "                outlier_features.append(col)\n",
    "        return outlier_features\n",
    "\n",
    "    def outlier_stats(self):\n",
    "        outlier_stats = {'Feature': [], 'Negative Outliers': [], 'Positive Outliers': []}\n",
    "        numeric_cols = self.df.select_dtypes(include='number').columns\n",
    "        for col in numeric_cols:\n",
    "            is_outlier = self._get_outliers(col)\n",
    "            if is_outlier.any():\n",
    "                outlier_stats['Feature'].append(col)\n",
    "                outlier_stats['Negative Outliers'].append((is_outlier & (self.df[col] < self.df[col].median())).sum())\n",
    "                outlier_stats['Positive Outliers'].append((is_outlier & (self.df[col] > self.df[col].median())).sum())\n",
    "        return pd.DataFrame(outlier_stats)"
   ]
  },
  {
   "cell_type": "code",
   "execution_count": 274,
   "id": "4b523037-28a4-41b5-9432-2fad291375e6",
   "metadata": {
    "tags": []
   },
   "outputs": [],
   "source": [
    "outliers = Outliers(df9, 4)"
   ]
  },
  {
   "cell_type": "code",
   "execution_count": 275,
   "id": "86f2f81d-9de2-4254-bb93-21053ad218f5",
   "metadata": {
    "scrolled": true,
    "tags": []
   },
   "outputs": [
    {
     "name": "stdout",
     "output_type": "stream",
     "text": [
      "There are total 51 outliers out of 1451 data\n"
     ]
    }
   ],
   "source": [
    "outliers_df = outliers.detect_outlier_rows()\n",
    "print(f\"There are total {len(outliers_df)} outliers out of {len(df9)} data\")"
   ]
  },
  {
   "cell_type": "code",
   "execution_count": 276,
   "id": "afdad043-5807-4d62-8014-6f6b596ae40d",
   "metadata": {
    "scrolled": true,
    "tags": []
   },
   "outputs": [
    {
     "name": "stdout",
     "output_type": "stream",
     "text": [
      "['Terrace_Grade', 'LotArea', 'Total_Area', 'Total_Bathrooms', 'GarageArea', 'TotRmsAbvGrd', 'SalePrice']\n"
     ]
    }
   ],
   "source": [
    "outlier_columns = outliers.detect_outlier_columns()\n",
    "print(outlier_columns)"
   ]
  },
  {
   "cell_type": "markdown",
   "id": "350e116d-6238-418c-8395-b1adb2887261",
   "metadata": {},
   "source": [
    "__Too much outliers__  \n",
    "Lets try to analyze them"
   ]
  },
  {
   "cell_type": "code",
   "execution_count": 277,
   "id": "d2b7c238-bd26-41a0-b2cb-ba10c1d144fd",
   "metadata": {
    "tags": []
   },
   "outputs": [
    {
     "data": {
      "text/html": [
       "<div>\n",
       "<style scoped>\n",
       "    .dataframe tbody tr th:only-of-type {\n",
       "        vertical-align: middle;\n",
       "    }\n",
       "\n",
       "    .dataframe tbody tr th {\n",
       "        vertical-align: top;\n",
       "    }\n",
       "\n",
       "    .dataframe thead th {\n",
       "        text-align: right;\n",
       "    }\n",
       "</style>\n",
       "<table border=\"1\" class=\"dataframe\">\n",
       "  <thead>\n",
       "    <tr style=\"text-align: right;\">\n",
       "      <th></th>\n",
       "      <th>Feature</th>\n",
       "      <th>Negative Outliers</th>\n",
       "      <th>Positive Outliers</th>\n",
       "    </tr>\n",
       "  </thead>\n",
       "  <tbody>\n",
       "    <tr>\n",
       "      <th>0</th>\n",
       "      <td>Terrace_Grade</td>\n",
       "      <td>0</td>\n",
       "      <td>1</td>\n",
       "    </tr>\n",
       "    <tr>\n",
       "      <th>1</th>\n",
       "      <td>LotArea</td>\n",
       "      <td>0</td>\n",
       "      <td>33</td>\n",
       "    </tr>\n",
       "    <tr>\n",
       "      <th>2</th>\n",
       "      <td>Total_Area</td>\n",
       "      <td>0</td>\n",
       "      <td>5</td>\n",
       "    </tr>\n",
       "    <tr>\n",
       "      <th>3</th>\n",
       "      <td>Total_Bathrooms</td>\n",
       "      <td>0</td>\n",
       "      <td>9</td>\n",
       "    </tr>\n",
       "    <tr>\n",
       "      <th>4</th>\n",
       "      <td>GarageArea</td>\n",
       "      <td>0</td>\n",
       "      <td>3</td>\n",
       "    </tr>\n",
       "    <tr>\n",
       "      <th>5</th>\n",
       "      <td>TotRmsAbvGrd</td>\n",
       "      <td>0</td>\n",
       "      <td>1</td>\n",
       "    </tr>\n",
       "    <tr>\n",
       "      <th>6</th>\n",
       "      <td>SalePrice</td>\n",
       "      <td>0</td>\n",
       "      <td>12</td>\n",
       "    </tr>\n",
       "  </tbody>\n",
       "</table>\n",
       "</div>"
      ],
      "text/plain": [
       "           Feature  Negative Outliers  Positive Outliers\n",
       "0    Terrace_Grade                  0                  1\n",
       "1          LotArea                  0                 33\n",
       "2       Total_Area                  0                  5\n",
       "3  Total_Bathrooms                  0                  9\n",
       "4       GarageArea                  0                  3\n",
       "5     TotRmsAbvGrd                  0                  1\n",
       "6        SalePrice                  0                 12"
      ]
     },
     "execution_count": 277,
     "metadata": {},
     "output_type": "execute_result"
    }
   ],
   "source": [
    "outliers.outlier_stats()"
   ]
  },
  {
   "cell_type": "code",
   "execution_count": 278,
   "id": "07395be0-9a0d-4a87-952a-f65a8ea4125a",
   "metadata": {
    "tags": []
   },
   "outputs": [
    {
     "data": {
      "image/png": "[encoded data removed]",
      "text/plain": [
       "<Figure size 1000x500 with 2 Axes>"
      ]
     },
     "metadata": {},
     "output_type": "display_data"
    }
   ],
   "source": [
    "fig, (ax1, ax2) = plt.subplots(1, 2, figsize=(10, 5))\n",
    "sns.boxplot(df9['SalePrice']   ,ax=ax1, whis=3)\n",
    "ax1.set_title('SalePrice Outliers')\n",
    "\n",
    "sns.boxplot(df9['LotArea']  ,ax=ax2, whis=3)\n",
    "ax2.set_title('Lot Area Outliers')\n",
    "\n",
    "plt.show()"
   ]
  },
  {
   "cell_type": "markdown",
   "id": "d2eaf551-20c6-410c-8267-161a9806c09e",
   "metadata": {},
   "source": [
    "I think We can drop these 51 outliers"
   ]
  },
  {
   "cell_type": "code",
   "execution_count": 279,
   "id": "1d6e9641-060d-440b-bd89-858fc7f6f1d9",
   "metadata": {},
   "outputs": [
    {
     "data": {
      "text/plain": [
       "(1400, 21)"
      ]
     },
     "execution_count": 279,
     "metadata": {},
     "output_type": "execute_result"
    }
   ],
   "source": [
    "df10 = df9.drop(axis=0, index=outliers_df.index)\n",
    "df10.shape"
   ]
  },
  {
   "cell_type": "code",
   "execution_count": null,
   "id": "39f43f8a-671f-4f14-b50a-87aea9139888",
   "metadata": {},
   "outputs": [],
   "source": []
  },
  {
   "cell_type": "markdown",
   "id": "67ca4e8f-11dc-4417-9c0b-d0f2fca2f94c",
   "metadata": {
    "execution": {
     "iopub.execute_input": "2023-10-10T22:07:46.722956Z",
     "iopub.status.busy": "2023-10-10T22:07:46.722956Z",
     "iopub.status.idle": "2023-10-10T22:07:46.732030Z",
     "shell.execute_reply": "2023-10-10T22:07:46.731019Z",
     "shell.execute_reply.started": "2023-10-10T22:07:46.722956Z"
    },
    "tags": []
   },
   "source": [
    "## Log Transformation of SalePrice"
   ]
  },
  {
   "cell_type": "code",
   "execution_count": 280,
   "id": "0d3bdc8f-d311-4d76-bd85-b23b1c824f8b",
   "metadata": {
    "tags": []
   },
   "outputs": [
    {
     "data": {
      "image/png": "[encoded data removed]",
      "text/plain": [
       "<Figure size 640x480 with 1 Axes>"
      ]
     },
     "metadata": {},
     "output_type": "display_data"
    }
   ],
   "source": [
    "sns.distplot(df10['SalePrice']);"
   ]
  },
  {
   "cell_type": "code",
   "execution_count": 281,
   "id": "7574dc4f-20f8-48cf-b004-e486b86d44d4",
   "metadata": {
    "tags": []
   },
   "outputs": [
    {
     "data": {
      "text/plain": [
       "1.140221929777609"
      ]
     },
     "execution_count": 281,
     "metadata": {},
     "output_type": "execute_result"
    }
   ],
   "source": [
    "df10['SalePrice'].skew()"
   ]
  },
  {
   "cell_type": "markdown",
   "id": "09db1cd7-d44e-43c7-9a4a-6aaed8e8acc5",
   "metadata": {},
   "source": [
    "Our SalePrices are slightly positive (right) skewed so we may consider to make a log transformation.  \n",
    "but since skewness is low, thanks to removing the outliers, i will go on without log transformation for this V1 model"
   ]
  },
  {
   "cell_type": "code",
   "execution_count": null,
   "id": "f1d9bb29-a60f-4435-9dad-7937ea6eb734",
   "metadata": {},
   "outputs": [],
   "source": []
  },
  {
   "cell_type": "code",
   "execution_count": null,
   "id": "843afb5e-58d3-4d82-9e74-fab524c291d2",
   "metadata": {},
   "outputs": [],
   "source": []
  },
  {
   "cell_type": "markdown",
   "id": "ed07848b-31f2-4b60-8fa0-112a7d36644a",
   "metadata": {},
   "source": [
    "## Encode categorical variables"
   ]
  },
  {
   "cell_type": "markdown",
   "id": "da21f9fe-3c29-4351-807c-11dbcdfc4143",
   "metadata": {},
   "source": [
    "### Nominal Categories"
   ]
  },
  {
   "cell_type": "code",
   "execution_count": 282,
   "id": "b74c361b-f1ae-4e98-bf83-e667bd73c332",
   "metadata": {
    "tags": []
   },
   "outputs": [
    {
     "data": {
      "text/plain": [
       "BsmtOverallGrade     float64\n",
       "Terrace_Grade          int64\n",
       "ExterCond             object\n",
       "KitchenQual           object\n",
       "OverallQual            int64\n",
       "OverallCond            int64\n",
       "LotArea                int64\n",
       "Total_Area             int64\n",
       "Total_Bathrooms      float64\n",
       "GarageArea             int64\n",
       "TotRmsAbvGrd           int64\n",
       "Age_of_Property        int64\n",
       "Age_of_Renovation      int64\n",
       "MoSold                 int64\n",
       "YrSold                 int64\n",
       "SaleCondition         object\n",
       "MSZoning              object\n",
       "MedianHousePrice     float64\n",
       "SalePrice              int64\n",
       "Condition1            object\n",
       "HouseStyle            object\n",
       "dtype: object"
      ]
     },
     "execution_count": 282,
     "metadata": {},
     "output_type": "execute_result"
    }
   ],
   "source": [
    "df10.dtypes"
   ]
  },
  {
   "cell_type": "code",
   "execution_count": 283,
   "id": "cc9a3c97-b6dc-4335-b30f-55bde177aa93",
   "metadata": {
    "tags": []
   },
   "outputs": [],
   "source": [
    "nominal_categories = ['MSZoning', 'Condition1', 'HouseStyle', 'SaleCondition']"
   ]
  },
  {
   "cell_type": "code",
   "execution_count": 284,
   "id": "b2435dcd-dfb5-46bf-81ed-10e30e73a541",
   "metadata": {
    "tags": []
   },
   "outputs": [],
   "source": [
    "df_encoded = pd.get_dummies(df10[nominal_categories], columns=nominal_categories)"
   ]
  },
  {
   "cell_type": "code",
   "execution_count": 285,
   "id": "5657f65e-c1cb-402a-a4d8-74c3add2a9f1",
   "metadata": {
    "tags": []
   },
   "outputs": [],
   "source": [
    "df10.drop(columns=nominal_categories, inplace=True)"
   ]
  },
  {
   "cell_type": "code",
   "execution_count": 286,
   "id": "79e7e8db-1889-495d-a710-c2fc4377b111",
   "metadata": {
    "tags": []
   },
   "outputs": [],
   "source": [
    "df11 = pd.concat([df10, df_encoded], axis=1)"
   ]
  },
  {
   "cell_type": "code",
   "execution_count": 287,
   "id": "f8565ac5-a2f3-4d43-bbab-30a16f8b746d",
   "metadata": {},
   "outputs": [
    {
     "data": {
      "text/plain": [
       "(1400, 45)"
      ]
     },
     "execution_count": 287,
     "metadata": {},
     "output_type": "execute_result"
    }
   ],
   "source": [
    "df11.shape"
   ]
  },
  {
   "cell_type": "markdown",
   "id": "774da5f9-00d7-40b6-b228-89e7c9d1a464",
   "metadata": {
    "execution": {
     "iopub.execute_input": "2023-10-10T12:05:18.605338Z",
     "iopub.status.busy": "2023-10-10T12:05:18.604337Z",
     "iopub.status.idle": "2023-10-10T12:05:18.627383Z",
     "shell.execute_reply": "2023-10-10T12:05:18.626385Z",
     "shell.execute_reply.started": "2023-10-10T12:05:18.605338Z"
    }
   },
   "source": [
    "### Ordinal Categories"
   ]
  },
  {
   "cell_type": "code",
   "execution_count": 288,
   "id": "b2791b13-fb55-428d-abea-972c037658d7",
   "metadata": {
    "tags": []
   },
   "outputs": [],
   "source": [
    "ordinal_categories = ['ExterCond',\t'KitchenQual']"
   ]
  },
  {
   "cell_type": "code",
   "execution_count": 289,
   "id": "56007eb2-354c-4d8b-8650-f48df183600b",
   "metadata": {
    "tags": []
   },
   "outputs": [],
   "source": [
    "ordinal_mapping = {'Ex':5, 'Gd':4, 'TA':3, 'Fa':2, 'Po':1}"
   ]
  },
  {
   "cell_type": "code",
   "execution_count": 290,
   "id": "b2a218c8-9b30-4b83-8591-5c4025e4c57b",
   "metadata": {
    "tags": []
   },
   "outputs": [],
   "source": [
    "df11['ExterCond'] = df11['ExterCond'].map(ordinal_mapping)"
   ]
  },
  {
   "cell_type": "code",
   "execution_count": 291,
   "id": "47c98a73-aaad-44f2-b205-705783c2b405",
   "metadata": {
    "tags": []
   },
   "outputs": [],
   "source": [
    "df11['KitchenQual'] = df11['KitchenQual'].map(ordinal_mapping)"
   ]
  },
  {
   "cell_type": "code",
   "execution_count": 292,
   "id": "c07dd09b-186c-43f4-a0c8-7b849346d2c3",
   "metadata": {
    "tags": []
   },
   "outputs": [
    {
     "data": {
      "text/html": [
       "<div>\n",
       "<style scoped>\n",
       "    .dataframe tbody tr th:only-of-type {\n",
       "        vertical-align: middle;\n",
       "    }\n",
       "\n",
       "    .dataframe tbody tr th {\n",
       "        vertical-align: top;\n",
       "    }\n",
       "\n",
       "    .dataframe thead th {\n",
       "        text-align: right;\n",
       "    }\n",
       "</style>\n",
       "<table border=\"1\" class=\"dataframe\">\n",
       "  <thead>\n",
       "    <tr style=\"text-align: right;\">\n",
       "      <th></th>\n",
       "      <th>BsmtOverallGrade</th>\n",
       "      <th>Terrace_Grade</th>\n",
       "      <th>ExterCond</th>\n",
       "      <th>KitchenQual</th>\n",
       "      <th>OverallQual</th>\n",
       "      <th>OverallCond</th>\n",
       "      <th>LotArea</th>\n",
       "      <th>Total_Area</th>\n",
       "      <th>Total_Bathrooms</th>\n",
       "      <th>GarageArea</th>\n",
       "      <th>TotRmsAbvGrd</th>\n",
       "      <th>Age_of_Property</th>\n",
       "      <th>Age_of_Renovation</th>\n",
       "      <th>MoSold</th>\n",
       "      <th>YrSold</th>\n",
       "      <th>MedianHousePrice</th>\n",
       "      <th>SalePrice</th>\n",
       "      <th>MSZoning_C (all)</th>\n",
       "      <th>MSZoning_FV</th>\n",
       "      <th>MSZoning_RH</th>\n",
       "      <th>MSZoning_RL</th>\n",
       "      <th>MSZoning_RM</th>\n",
       "      <th>Condition1_Artery</th>\n",
       "      <th>Condition1_Feedr</th>\n",
       "      <th>Condition1_Norm</th>\n",
       "      <th>Condition1_PosA</th>\n",
       "      <th>Condition1_PosN</th>\n",
       "      <th>Condition1_RRAe</th>\n",
       "      <th>Condition1_RRAn</th>\n",
       "      <th>Condition1_RRNe</th>\n",
       "      <th>Condition1_RRNn</th>\n",
       "      <th>HouseStyle_1.5Fin</th>\n",
       "      <th>HouseStyle_1.5Unf</th>\n",
       "      <th>HouseStyle_1Story</th>\n",
       "      <th>HouseStyle_2.5Fin</th>\n",
       "      <th>HouseStyle_2.5Unf</th>\n",
       "      <th>HouseStyle_2Story</th>\n",
       "      <th>HouseStyle_SFoyer</th>\n",
       "      <th>HouseStyle_SLvl</th>\n",
       "      <th>SaleCondition_Abnorml</th>\n",
       "      <th>SaleCondition_AdjLand</th>\n",
       "      <th>SaleCondition_Alloca</th>\n",
       "      <th>SaleCondition_Family</th>\n",
       "      <th>SaleCondition_Normal</th>\n",
       "      <th>SaleCondition_Partial</th>\n",
       "    </tr>\n",
       "  </thead>\n",
       "  <tbody>\n",
       "    <tr>\n",
       "      <th>1019</th>\n",
       "      <td>9.530612</td>\n",
       "      <td>96</td>\n",
       "      <td>3</td>\n",
       "      <td>3</td>\n",
       "      <td>5</td>\n",
       "      <td>5</td>\n",
       "      <td>7700</td>\n",
       "      <td>1764</td>\n",
       "      <td>2.0</td>\n",
       "      <td>461</td>\n",
       "      <td>5</td>\n",
       "      <td>38</td>\n",
       "      <td>38</td>\n",
       "      <td>3</td>\n",
       "      <td>2007</td>\n",
       "      <td>196500.0</td>\n",
       "      <td>112500</td>\n",
       "      <td>0</td>\n",
       "      <td>0</td>\n",
       "      <td>0</td>\n",
       "      <td>1</td>\n",
       "      <td>0</td>\n",
       "      <td>0</td>\n",
       "      <td>0</td>\n",
       "      <td>1</td>\n",
       "      <td>0</td>\n",
       "      <td>0</td>\n",
       "      <td>0</td>\n",
       "      <td>0</td>\n",
       "      <td>0</td>\n",
       "      <td>0</td>\n",
       "      <td>0</td>\n",
       "      <td>0</td>\n",
       "      <td>1</td>\n",
       "      <td>0</td>\n",
       "      <td>0</td>\n",
       "      <td>0</td>\n",
       "      <td>0</td>\n",
       "      <td>0</td>\n",
       "      <td>0</td>\n",
       "      <td>0</td>\n",
       "      <td>0</td>\n",
       "      <td>0</td>\n",
       "      <td>1</td>\n",
       "      <td>0</td>\n",
       "    </tr>\n",
       "    <tr>\n",
       "      <th>603</th>\n",
       "      <td>11.000000</td>\n",
       "      <td>420</td>\n",
       "      <td>3</td>\n",
       "      <td>3</td>\n",
       "      <td>7</td>\n",
       "      <td>6</td>\n",
       "      <td>13600</td>\n",
       "      <td>2754</td>\n",
       "      <td>2.5</td>\n",
       "      <td>486</td>\n",
       "      <td>7</td>\n",
       "      <td>45</td>\n",
       "      <td>20</td>\n",
       "      <td>10</td>\n",
       "      <td>2009</td>\n",
       "      <td>140000.0</td>\n",
       "      <td>205000</td>\n",
       "      <td>0</td>\n",
       "      <td>0</td>\n",
       "      <td>0</td>\n",
       "      <td>1</td>\n",
       "      <td>0</td>\n",
       "      <td>0</td>\n",
       "      <td>0</td>\n",
       "      <td>1</td>\n",
       "      <td>0</td>\n",
       "      <td>0</td>\n",
       "      <td>0</td>\n",
       "      <td>0</td>\n",
       "      <td>0</td>\n",
       "      <td>0</td>\n",
       "      <td>0</td>\n",
       "      <td>0</td>\n",
       "      <td>0</td>\n",
       "      <td>0</td>\n",
       "      <td>0</td>\n",
       "      <td>1</td>\n",
       "      <td>0</td>\n",
       "      <td>0</td>\n",
       "      <td>0</td>\n",
       "      <td>0</td>\n",
       "      <td>0</td>\n",
       "      <td>0</td>\n",
       "      <td>1</td>\n",
       "      <td>0</td>\n",
       "    </tr>\n",
       "    <tr>\n",
       "      <th>1208</th>\n",
       "      <td>13.000000</td>\n",
       "      <td>222</td>\n",
       "      <td>3</td>\n",
       "      <td>3</td>\n",
       "      <td>5</td>\n",
       "      <td>5</td>\n",
       "      <td>10205</td>\n",
       "      <td>1924</td>\n",
       "      <td>2.0</td>\n",
       "      <td>300</td>\n",
       "      <td>6</td>\n",
       "      <td>48</td>\n",
       "      <td>48</td>\n",
       "      <td>5</td>\n",
       "      <td>2006</td>\n",
       "      <td>140000.0</td>\n",
       "      <td>134500</td>\n",
       "      <td>0</td>\n",
       "      <td>0</td>\n",
       "      <td>0</td>\n",
       "      <td>1</td>\n",
       "      <td>0</td>\n",
       "      <td>0</td>\n",
       "      <td>0</td>\n",
       "      <td>1</td>\n",
       "      <td>0</td>\n",
       "      <td>0</td>\n",
       "      <td>0</td>\n",
       "      <td>0</td>\n",
       "      <td>0</td>\n",
       "      <td>0</td>\n",
       "      <td>0</td>\n",
       "      <td>0</td>\n",
       "      <td>0</td>\n",
       "      <td>0</td>\n",
       "      <td>0</td>\n",
       "      <td>0</td>\n",
       "      <td>1</td>\n",
       "      <td>0</td>\n",
       "      <td>0</td>\n",
       "      <td>0</td>\n",
       "      <td>0</td>\n",
       "      <td>0</td>\n",
       "      <td>1</td>\n",
       "      <td>0</td>\n",
       "    </tr>\n",
       "  </tbody>\n",
       "</table>\n",
       "</div>"
      ],
      "text/plain": [
       "      BsmtOverallGrade  Terrace_Grade  ExterCond  KitchenQual  OverallQual  \\\n",
       "1019          9.530612             96          3            3            5   \n",
       "603          11.000000            420          3            3            7   \n",
       "1208         13.000000            222          3            3            5   \n",
       "\n",
       "      OverallCond  LotArea  Total_Area  Total_Bathrooms  GarageArea  \\\n",
       "1019            5     7700        1764              2.0         461   \n",
       "603             6    13600        2754              2.5         486   \n",
       "1208            5    10205        1924              2.0         300   \n",
       "\n",
       "      TotRmsAbvGrd  Age_of_Property  Age_of_Renovation  MoSold  YrSold  \\\n",
       "1019             5               38                 38       3    2007   \n",
       "603              7               45                 20      10    2009   \n",
       "1208             6               48                 48       5    2006   \n",
       "\n",
       "      MedianHousePrice  SalePrice  MSZoning_C (all)  MSZoning_FV  MSZoning_RH  \\\n",
       "1019          196500.0     112500                 0            0            0   \n",
       "603           140000.0     205000                 0            0            0   \n",
       "1208          140000.0     134500                 0            0            0   \n",
       "\n",
       "      MSZoning_RL  MSZoning_RM  Condition1_Artery  Condition1_Feedr  \\\n",
       "1019            1            0                  0                 0   \n",
       "603             1            0                  0                 0   \n",
       "1208            1            0                  0                 0   \n",
       "\n",
       "      Condition1_Norm  Condition1_PosA  Condition1_PosN  Condition1_RRAe  \\\n",
       "1019                1                0                0                0   \n",
       "603                 1                0                0                0   \n",
       "1208                1                0                0                0   \n",
       "\n",
       "      Condition1_RRAn  Condition1_RRNe  Condition1_RRNn  HouseStyle_1.5Fin  \\\n",
       "1019                0                0                0                  0   \n",
       "603                 0                0                0                  0   \n",
       "1208                0                0                0                  0   \n",
       "\n",
       "      HouseStyle_1.5Unf  HouseStyle_1Story  HouseStyle_2.5Fin  \\\n",
       "1019                  0                  1                  0   \n",
       "603                   0                  0                  0   \n",
       "1208                  0                  0                  0   \n",
       "\n",
       "      HouseStyle_2.5Unf  HouseStyle_2Story  HouseStyle_SFoyer  \\\n",
       "1019                  0                  0                  0   \n",
       "603                   0                  1                  0   \n",
       "1208                  0                  0                  1   \n",
       "\n",
       "      HouseStyle_SLvl  SaleCondition_Abnorml  SaleCondition_AdjLand  \\\n",
       "1019                0                      0                      0   \n",
       "603                 0                      0                      0   \n",
       "1208                0                      0                      0   \n",
       "\n",
       "      SaleCondition_Alloca  SaleCondition_Family  SaleCondition_Normal  \\\n",
       "1019                     0                     0                     1   \n",
       "603                      0                     0                     1   \n",
       "1208                     0                     0                     1   \n",
       "\n",
       "      SaleCondition_Partial  \n",
       "1019                      0  \n",
       "603                       0  \n",
       "1208                      0  "
      ]
     },
     "execution_count": 292,
     "metadata": {},
     "output_type": "execute_result"
    }
   ],
   "source": [
    "df11.sample(3)"
   ]
  },
  {
   "cell_type": "markdown",
   "id": "5ea364b6-2c9a-445a-85b6-f4899245528f",
   "metadata": {},
   "source": [
    "## Scale or normalize numerical features"
   ]
  },
  {
   "cell_type": "markdown",
   "id": "f0dc7d70-a024-485c-91fe-b726e5aabc26",
   "metadata": {
    "execution": {
     "iopub.execute_input": "2023-10-10T12:43:12.811998Z",
     "iopub.status.busy": "2023-10-10T12:43:12.811998Z",
     "iopub.status.idle": "2023-10-10T12:43:12.822151Z",
     "shell.execute_reply": "2023-10-10T12:43:12.822151Z",
     "shell.execute_reply.started": "2023-10-10T12:43:12.811998Z"
    }
   },
   "source": [
    "For regression tasks, it's generally a good practice to standardize the features rather than normalizing them.  \n",
    "Standardization (or Z-score scaling) is often preferred because it centers the data around a mean of 0 and scales it based on the standard deviation.  \n",
    "This can be particularly helpful for models like linear regression, support vector machines, and neural networks, as they often assume that the features are normally distributed."
   ]
  },
  {
   "cell_type": "code",
   "execution_count": 293,
   "id": "497c317f-625b-4669-bd10-e9d9a23c27c6",
   "metadata": {},
   "outputs": [],
   "source": [
    "# Before standardization lets seperate SalePrice"
   ]
  },
  {
   "cell_type": "markdown",
   "id": "c51ce1c2-72a0-4040-a133-d0a327b3e004",
   "metadata": {},
   "source": [
    "__V2: log transformation here__"
   ]
  },
  {
   "cell_type": "code",
   "execution_count": 294,
   "id": "c8cb39cd-ee7b-487a-99a2-67ad95a136d7",
   "metadata": {},
   "outputs": [],
   "source": [
    "y = np.log(df11['SalePrice'])\n",
    "df12 = df11.drop(columns=['SalePrice'])"
   ]
  },
  {
   "cell_type": "code",
   "execution_count": 295,
   "id": "3a0d368c-c27b-47c3-986a-1d4cdf39138e",
   "metadata": {
    "tags": []
   },
   "outputs": [],
   "source": [
    "# from sklearn.preprocessing import StandardScaler\n",
    "\n",
    "# scaler = StandardScaler()\n",
    "# X = pd.DataFrame(scaler.fit_transform(df12), columns=df12.columns)"
   ]
  },
  {
   "cell_type": "code",
   "execution_count": 348,
   "id": "f6dfd6f9-ccfa-4ccb-8509-b3b967a84c81",
   "metadata": {
    "tags": []
   },
   "outputs": [
    {
     "data": {
      "text/html": [
       "<div>\n",
       "<style scoped>\n",
       "    .dataframe tbody tr th:only-of-type {\n",
       "        vertical-align: middle;\n",
       "    }\n",
       "\n",
       "    .dataframe tbody tr th {\n",
       "        vertical-align: top;\n",
       "    }\n",
       "\n",
       "    .dataframe thead th {\n",
       "        text-align: right;\n",
       "    }\n",
       "</style>\n",
       "<table border=\"1\" class=\"dataframe\">\n",
       "  <thead>\n",
       "    <tr style=\"text-align: right;\">\n",
       "      <th></th>\n",
       "      <th>BsmtOverallGrade</th>\n",
       "      <th>Terrace_Grade</th>\n",
       "      <th>ExterCond</th>\n",
       "      <th>KitchenQual</th>\n",
       "      <th>OverallQual</th>\n",
       "      <th>OverallCond</th>\n",
       "      <th>LotArea</th>\n",
       "      <th>Total_Area</th>\n",
       "      <th>Total_Bathrooms</th>\n",
       "      <th>GarageArea</th>\n",
       "      <th>TotRmsAbvGrd</th>\n",
       "      <th>Age_of_Property</th>\n",
       "      <th>Age_of_Renovation</th>\n",
       "      <th>MoSold</th>\n",
       "      <th>YrSold</th>\n",
       "      <th>MedianHousePrice</th>\n",
       "      <th>MSZoning_C (all)</th>\n",
       "      <th>MSZoning_FV</th>\n",
       "      <th>MSZoning_RH</th>\n",
       "      <th>MSZoning_RL</th>\n",
       "      <th>MSZoning_RM</th>\n",
       "      <th>Condition1_Artery</th>\n",
       "      <th>Condition1_Feedr</th>\n",
       "      <th>Condition1_Norm</th>\n",
       "      <th>Condition1_PosA</th>\n",
       "      <th>Condition1_PosN</th>\n",
       "      <th>Condition1_RRAe</th>\n",
       "      <th>Condition1_RRAn</th>\n",
       "      <th>Condition1_RRNe</th>\n",
       "      <th>Condition1_RRNn</th>\n",
       "      <th>HouseStyle_1.5Fin</th>\n",
       "      <th>HouseStyle_1.5Unf</th>\n",
       "      <th>HouseStyle_1Story</th>\n",
       "      <th>HouseStyle_2.5Fin</th>\n",
       "      <th>HouseStyle_2.5Unf</th>\n",
       "      <th>HouseStyle_2Story</th>\n",
       "      <th>HouseStyle_SFoyer</th>\n",
       "      <th>HouseStyle_SLvl</th>\n",
       "      <th>SaleCondition_Abnorml</th>\n",
       "      <th>SaleCondition_AdjLand</th>\n",
       "      <th>SaleCondition_Alloca</th>\n",
       "      <th>SaleCondition_Family</th>\n",
       "      <th>SaleCondition_Normal</th>\n",
       "      <th>SaleCondition_Partial</th>\n",
       "    </tr>\n",
       "  </thead>\n",
       "  <tbody>\n",
       "    <tr>\n",
       "      <th>1447</th>\n",
       "      <td>12.788586</td>\n",
       "      <td>349</td>\n",
       "      <td>3</td>\n",
       "      <td>3</td>\n",
       "      <td>6</td>\n",
       "      <td>6</td>\n",
       "      <td>13175</td>\n",
       "      <td>3615</td>\n",
       "      <td>3.0</td>\n",
       "      <td>500</td>\n",
       "      <td>7</td>\n",
       "      <td>32</td>\n",
       "      <td>22</td>\n",
       "      <td>2</td>\n",
       "      <td>2010</td>\n",
       "      <td>182900.0</td>\n",
       "      <td>0</td>\n",
       "      <td>0</td>\n",
       "      <td>0</td>\n",
       "      <td>1</td>\n",
       "      <td>0</td>\n",
       "      <td>0</td>\n",
       "      <td>0</td>\n",
       "      <td>1</td>\n",
       "      <td>0</td>\n",
       "      <td>0</td>\n",
       "      <td>0</td>\n",
       "      <td>0</td>\n",
       "      <td>0</td>\n",
       "      <td>0</td>\n",
       "      <td>0</td>\n",
       "      <td>0</td>\n",
       "      <td>1</td>\n",
       "      <td>0</td>\n",
       "      <td>0</td>\n",
       "      <td>0</td>\n",
       "      <td>0</td>\n",
       "      <td>0</td>\n",
       "      <td>0</td>\n",
       "      <td>0</td>\n",
       "      <td>0</td>\n",
       "      <td>0</td>\n",
       "      <td>1</td>\n",
       "      <td>0</td>\n",
       "    </tr>\n",
       "    <tr>\n",
       "      <th>1115</th>\n",
       "      <td>16.000000</td>\n",
       "      <td>164</td>\n",
       "      <td>3</td>\n",
       "      <td>4</td>\n",
       "      <td>7</td>\n",
       "      <td>5</td>\n",
       "      <td>10084</td>\n",
       "      <td>3104</td>\n",
       "      <td>2.0</td>\n",
       "      <td>782</td>\n",
       "      <td>7</td>\n",
       "      <td>5</td>\n",
       "      <td>4</td>\n",
       "      <td>7</td>\n",
       "      <td>2006</td>\n",
       "      <td>196500.0</td>\n",
       "      <td>0</td>\n",
       "      <td>0</td>\n",
       "      <td>0</td>\n",
       "      <td>1</td>\n",
       "      <td>0</td>\n",
       "      <td>0</td>\n",
       "      <td>0</td>\n",
       "      <td>1</td>\n",
       "      <td>0</td>\n",
       "      <td>0</td>\n",
       "      <td>0</td>\n",
       "      <td>0</td>\n",
       "      <td>0</td>\n",
       "      <td>0</td>\n",
       "      <td>0</td>\n",
       "      <td>0</td>\n",
       "      <td>1</td>\n",
       "      <td>0</td>\n",
       "      <td>0</td>\n",
       "      <td>0</td>\n",
       "      <td>0</td>\n",
       "      <td>0</td>\n",
       "      <td>0</td>\n",
       "      <td>0</td>\n",
       "      <td>0</td>\n",
       "      <td>0</td>\n",
       "      <td>0</td>\n",
       "      <td>1</td>\n",
       "    </tr>\n",
       "    <tr>\n",
       "      <th>420</th>\n",
       "      <td>13.000000</td>\n",
       "      <td>240</td>\n",
       "      <td>3</td>\n",
       "      <td>4</td>\n",
       "      <td>6</td>\n",
       "      <td>7</td>\n",
       "      <td>16635</td>\n",
       "      <td>3204</td>\n",
       "      <td>2.5</td>\n",
       "      <td>529</td>\n",
       "      <td>8</td>\n",
       "      <td>33</td>\n",
       "      <td>10</td>\n",
       "      <td>6</td>\n",
       "      <td>2009</td>\n",
       "      <td>182900.0</td>\n",
       "      <td>0</td>\n",
       "      <td>0</td>\n",
       "      <td>0</td>\n",
       "      <td>1</td>\n",
       "      <td>0</td>\n",
       "      <td>0</td>\n",
       "      <td>0</td>\n",
       "      <td>1</td>\n",
       "      <td>0</td>\n",
       "      <td>0</td>\n",
       "      <td>0</td>\n",
       "      <td>0</td>\n",
       "      <td>0</td>\n",
       "      <td>0</td>\n",
       "      <td>0</td>\n",
       "      <td>0</td>\n",
       "      <td>1</td>\n",
       "      <td>0</td>\n",
       "      <td>0</td>\n",
       "      <td>0</td>\n",
       "      <td>0</td>\n",
       "      <td>0</td>\n",
       "      <td>0</td>\n",
       "      <td>0</td>\n",
       "      <td>0</td>\n",
       "      <td>0</td>\n",
       "      <td>1</td>\n",
       "      <td>0</td>\n",
       "    </tr>\n",
       "    <tr>\n",
       "      <th>1029</th>\n",
       "      <td>0.000000</td>\n",
       "      <td>186</td>\n",
       "      <td>4</td>\n",
       "      <td>3</td>\n",
       "      <td>4</td>\n",
       "      <td>3</td>\n",
       "      <td>11500</td>\n",
       "      <td>845</td>\n",
       "      <td>1.0</td>\n",
       "      <td>290</td>\n",
       "      <td>5</td>\n",
       "      <td>53</td>\n",
       "      <td>53</td>\n",
       "      <td>1</td>\n",
       "      <td>2009</td>\n",
       "      <td>121750.0</td>\n",
       "      <td>0</td>\n",
       "      <td>0</td>\n",
       "      <td>0</td>\n",
       "      <td>1</td>\n",
       "      <td>0</td>\n",
       "      <td>0</td>\n",
       "      <td>0</td>\n",
       "      <td>1</td>\n",
       "      <td>0</td>\n",
       "      <td>0</td>\n",
       "      <td>0</td>\n",
       "      <td>0</td>\n",
       "      <td>0</td>\n",
       "      <td>0</td>\n",
       "      <td>0</td>\n",
       "      <td>0</td>\n",
       "      <td>1</td>\n",
       "      <td>0</td>\n",
       "      <td>0</td>\n",
       "      <td>0</td>\n",
       "      <td>0</td>\n",
       "      <td>0</td>\n",
       "      <td>0</td>\n",
       "      <td>0</td>\n",
       "      <td>0</td>\n",
       "      <td>0</td>\n",
       "      <td>1</td>\n",
       "      <td>0</td>\n",
       "    </tr>\n",
       "    <tr>\n",
       "      <th>79</th>\n",
       "      <td>8.000000</td>\n",
       "      <td>330</td>\n",
       "      <td>3</td>\n",
       "      <td>3</td>\n",
       "      <td>5</td>\n",
       "      <td>6</td>\n",
       "      <td>10440</td>\n",
       "      <td>1670</td>\n",
       "      <td>1.5</td>\n",
       "      <td>440</td>\n",
       "      <td>5</td>\n",
       "      <td>100</td>\n",
       "      <td>29</td>\n",
       "      <td>5</td>\n",
       "      <td>2009</td>\n",
       "      <td>119000.0</td>\n",
       "      <td>0</td>\n",
       "      <td>0</td>\n",
       "      <td>0</td>\n",
       "      <td>0</td>\n",
       "      <td>1</td>\n",
       "      <td>0</td>\n",
       "      <td>0</td>\n",
       "      <td>1</td>\n",
       "      <td>0</td>\n",
       "      <td>0</td>\n",
       "      <td>0</td>\n",
       "      <td>0</td>\n",
       "      <td>0</td>\n",
       "      <td>0</td>\n",
       "      <td>0</td>\n",
       "      <td>0</td>\n",
       "      <td>0</td>\n",
       "      <td>0</td>\n",
       "      <td>0</td>\n",
       "      <td>1</td>\n",
       "      <td>0</td>\n",
       "      <td>0</td>\n",
       "      <td>0</td>\n",
       "      <td>0</td>\n",
       "      <td>0</td>\n",
       "      <td>0</td>\n",
       "      <td>1</td>\n",
       "      <td>0</td>\n",
       "    </tr>\n",
       "    <tr>\n",
       "      <th>880</th>\n",
       "      <td>7.000000</td>\n",
       "      <td>188</td>\n",
       "      <td>3</td>\n",
       "      <td>3</td>\n",
       "      <td>4</td>\n",
       "      <td>5</td>\n",
       "      <td>6204</td>\n",
       "      <td>2544</td>\n",
       "      <td>2.0</td>\n",
       "      <td>440</td>\n",
       "      <td>10</td>\n",
       "      <td>98</td>\n",
       "      <td>60</td>\n",
       "      <td>3</td>\n",
       "      <td>2006</td>\n",
       "      <td>139500.0</td>\n",
       "      <td>0</td>\n",
       "      <td>0</td>\n",
       "      <td>0</td>\n",
       "      <td>1</td>\n",
       "      <td>0</td>\n",
       "      <td>0</td>\n",
       "      <td>0</td>\n",
       "      <td>1</td>\n",
       "      <td>0</td>\n",
       "      <td>0</td>\n",
       "      <td>0</td>\n",
       "      <td>0</td>\n",
       "      <td>0</td>\n",
       "      <td>0</td>\n",
       "      <td>0</td>\n",
       "      <td>0</td>\n",
       "      <td>0</td>\n",
       "      <td>1</td>\n",
       "      <td>0</td>\n",
       "      <td>0</td>\n",
       "      <td>0</td>\n",
       "      <td>0</td>\n",
       "      <td>0</td>\n",
       "      <td>0</td>\n",
       "      <td>0</td>\n",
       "      <td>0</td>\n",
       "      <td>1</td>\n",
       "      <td>0</td>\n",
       "    </tr>\n",
       "    <tr>\n",
       "      <th>347</th>\n",
       "      <td>14.000000</td>\n",
       "      <td>27</td>\n",
       "      <td>3</td>\n",
       "      <td>4</td>\n",
       "      <td>7</td>\n",
       "      <td>5</td>\n",
       "      <td>2448</td>\n",
       "      <td>2390</td>\n",
       "      <td>3.5</td>\n",
       "      <td>474</td>\n",
       "      <td>6</td>\n",
       "      <td>7</td>\n",
       "      <td>6</td>\n",
       "      <td>10</td>\n",
       "      <td>2008</td>\n",
       "      <td>314906.5</td>\n",
       "      <td>0</td>\n",
       "      <td>0</td>\n",
       "      <td>0</td>\n",
       "      <td>1</td>\n",
       "      <td>0</td>\n",
       "      <td>0</td>\n",
       "      <td>0</td>\n",
       "      <td>1</td>\n",
       "      <td>0</td>\n",
       "      <td>0</td>\n",
       "      <td>0</td>\n",
       "      <td>0</td>\n",
       "      <td>0</td>\n",
       "      <td>0</td>\n",
       "      <td>0</td>\n",
       "      <td>0</td>\n",
       "      <td>0</td>\n",
       "      <td>0</td>\n",
       "      <td>0</td>\n",
       "      <td>1</td>\n",
       "      <td>0</td>\n",
       "      <td>0</td>\n",
       "      <td>0</td>\n",
       "      <td>0</td>\n",
       "      <td>0</td>\n",
       "      <td>0</td>\n",
       "      <td>1</td>\n",
       "      <td>0</td>\n",
       "    </tr>\n",
       "    <tr>\n",
       "      <th>1076</th>\n",
       "      <td>9.000000</td>\n",
       "      <td>231</td>\n",
       "      <td>3</td>\n",
       "      <td>4</td>\n",
       "      <td>7</td>\n",
       "      <td>5</td>\n",
       "      <td>8749</td>\n",
       "      <td>2918</td>\n",
       "      <td>2.0</td>\n",
       "      <td>527</td>\n",
       "      <td>6</td>\n",
       "      <td>8</td>\n",
       "      <td>8</td>\n",
       "      <td>9</td>\n",
       "      <td>2007</td>\n",
       "      <td>196500.0</td>\n",
       "      <td>0</td>\n",
       "      <td>0</td>\n",
       "      <td>0</td>\n",
       "      <td>1</td>\n",
       "      <td>0</td>\n",
       "      <td>0</td>\n",
       "      <td>0</td>\n",
       "      <td>1</td>\n",
       "      <td>0</td>\n",
       "      <td>0</td>\n",
       "      <td>0</td>\n",
       "      <td>0</td>\n",
       "      <td>0</td>\n",
       "      <td>0</td>\n",
       "      <td>0</td>\n",
       "      <td>0</td>\n",
       "      <td>1</td>\n",
       "      <td>0</td>\n",
       "      <td>0</td>\n",
       "      <td>0</td>\n",
       "      <td>0</td>\n",
       "      <td>0</td>\n",
       "      <td>0</td>\n",
       "      <td>0</td>\n",
       "      <td>0</td>\n",
       "      <td>0</td>\n",
       "      <td>1</td>\n",
       "      <td>0</td>\n",
       "    </tr>\n",
       "    <tr>\n",
       "      <th>742</th>\n",
       "      <td>13.929947</td>\n",
       "      <td>204</td>\n",
       "      <td>4</td>\n",
       "      <td>4</td>\n",
       "      <td>8</td>\n",
       "      <td>9</td>\n",
       "      <td>8963</td>\n",
       "      <td>3857</td>\n",
       "      <td>4.0</td>\n",
       "      <td>831</td>\n",
       "      <td>11</td>\n",
       "      <td>34</td>\n",
       "      <td>14</td>\n",
       "      <td>7</td>\n",
       "      <td>2008</td>\n",
       "      <td>182900.0</td>\n",
       "      <td>0</td>\n",
       "      <td>0</td>\n",
       "      <td>0</td>\n",
       "      <td>1</td>\n",
       "      <td>0</td>\n",
       "      <td>0</td>\n",
       "      <td>0</td>\n",
       "      <td>1</td>\n",
       "      <td>0</td>\n",
       "      <td>0</td>\n",
       "      <td>0</td>\n",
       "      <td>0</td>\n",
       "      <td>0</td>\n",
       "      <td>0</td>\n",
       "      <td>0</td>\n",
       "      <td>0</td>\n",
       "      <td>0</td>\n",
       "      <td>0</td>\n",
       "      <td>0</td>\n",
       "      <td>1</td>\n",
       "      <td>0</td>\n",
       "      <td>0</td>\n",
       "      <td>0</td>\n",
       "      <td>0</td>\n",
       "      <td>0</td>\n",
       "      <td>0</td>\n",
       "      <td>1</td>\n",
       "      <td>0</td>\n",
       "    </tr>\n",
       "    <tr>\n",
       "      <th>1230</th>\n",
       "      <td>9.000000</td>\n",
       "      <td>27</td>\n",
       "      <td>3</td>\n",
       "      <td>4</td>\n",
       "      <td>7</td>\n",
       "      <td>5</td>\n",
       "      <td>2628</td>\n",
       "      <td>2390</td>\n",
       "      <td>2.5</td>\n",
       "      <td>474</td>\n",
       "      <td>6</td>\n",
       "      <td>7</td>\n",
       "      <td>7</td>\n",
       "      <td>6</td>\n",
       "      <td>2010</td>\n",
       "      <td>314906.5</td>\n",
       "      <td>0</td>\n",
       "      <td>0</td>\n",
       "      <td>0</td>\n",
       "      <td>1</td>\n",
       "      <td>0</td>\n",
       "      <td>0</td>\n",
       "      <td>0</td>\n",
       "      <td>1</td>\n",
       "      <td>0</td>\n",
       "      <td>0</td>\n",
       "      <td>0</td>\n",
       "      <td>0</td>\n",
       "      <td>0</td>\n",
       "      <td>0</td>\n",
       "      <td>0</td>\n",
       "      <td>0</td>\n",
       "      <td>0</td>\n",
       "      <td>0</td>\n",
       "      <td>0</td>\n",
       "      <td>1</td>\n",
       "      <td>0</td>\n",
       "      <td>0</td>\n",
       "      <td>0</td>\n",
       "      <td>0</td>\n",
       "      <td>0</td>\n",
       "      <td>0</td>\n",
       "      <td>1</td>\n",
       "      <td>0</td>\n",
       "    </tr>\n",
       "  </tbody>\n",
       "</table>\n",
       "</div>"
      ],
      "text/plain": [
       "      BsmtOverallGrade  Terrace_Grade  ExterCond  KitchenQual  OverallQual  \\\n",
       "1447         12.788586            349          3            3            6   \n",
       "1115         16.000000            164          3            4            7   \n",
       "420          13.000000            240          3            4            6   \n",
       "1029          0.000000            186          4            3            4   \n",
       "79            8.000000            330          3            3            5   \n",
       "880           7.000000            188          3            3            4   \n",
       "347          14.000000             27          3            4            7   \n",
       "1076          9.000000            231          3            4            7   \n",
       "742          13.929947            204          4            4            8   \n",
       "1230          9.000000             27          3            4            7   \n",
       "\n",
       "      OverallCond  LotArea  Total_Area  Total_Bathrooms  GarageArea  \\\n",
       "1447            6    13175        3615              3.0         500   \n",
       "1115            5    10084        3104              2.0         782   \n",
       "420             7    16635        3204              2.5         529   \n",
       "1029            3    11500         845              1.0         290   \n",
       "79              6    10440        1670              1.5         440   \n",
       "880             5     6204        2544              2.0         440   \n",
       "347             5     2448        2390              3.5         474   \n",
       "1076            5     8749        2918              2.0         527   \n",
       "742             9     8963        3857              4.0         831   \n",
       "1230            5     2628        2390              2.5         474   \n",
       "\n",
       "      TotRmsAbvGrd  Age_of_Property  Age_of_Renovation  MoSold  YrSold  \\\n",
       "1447             7               32                 22       2    2010   \n",
       "1115             7                5                  4       7    2006   \n",
       "420              8               33                 10       6    2009   \n",
       "1029             5               53                 53       1    2009   \n",
       "79               5              100                 29       5    2009   \n",
       "880             10               98                 60       3    2006   \n",
       "347              6                7                  6      10    2008   \n",
       "1076             6                8                  8       9    2007   \n",
       "742             11               34                 14       7    2008   \n",
       "1230             6                7                  7       6    2010   \n",
       "\n",
       "      MedianHousePrice  MSZoning_C (all)  MSZoning_FV  MSZoning_RH  \\\n",
       "1447          182900.0                 0            0            0   \n",
       "1115          196500.0                 0            0            0   \n",
       "420           182900.0                 0            0            0   \n",
       "1029          121750.0                 0            0            0   \n",
       "79            119000.0                 0            0            0   \n",
       "880           139500.0                 0            0            0   \n",
       "347           314906.5                 0            0            0   \n",
       "1076          196500.0                 0            0            0   \n",
       "742           182900.0                 0            0            0   \n",
       "1230          314906.5                 0            0            0   \n",
       "\n",
       "      MSZoning_RL  MSZoning_RM  Condition1_Artery  Condition1_Feedr  \\\n",
       "1447            1            0                  0                 0   \n",
       "1115            1            0                  0                 0   \n",
       "420             1            0                  0                 0   \n",
       "1029            1            0                  0                 0   \n",
       "79              0            1                  0                 0   \n",
       "880             1            0                  0                 0   \n",
       "347             1            0                  0                 0   \n",
       "1076            1            0                  0                 0   \n",
       "742             1            0                  0                 0   \n",
       "1230            1            0                  0                 0   \n",
       "\n",
       "      Condition1_Norm  Condition1_PosA  Condition1_PosN  Condition1_RRAe  \\\n",
       "1447                1                0                0                0   \n",
       "1115                1                0                0                0   \n",
       "420                 1                0                0                0   \n",
       "1029                1                0                0                0   \n",
       "79                  1                0                0                0   \n",
       "880                 1                0                0                0   \n",
       "347                 1                0                0                0   \n",
       "1076                1                0                0                0   \n",
       "742                 1                0                0                0   \n",
       "1230                1                0                0                0   \n",
       "\n",
       "      Condition1_RRAn  Condition1_RRNe  Condition1_RRNn  HouseStyle_1.5Fin  \\\n",
       "1447                0                0                0                  0   \n",
       "1115                0                0                0                  0   \n",
       "420                 0                0                0                  0   \n",
       "1029                0                0                0                  0   \n",
       "79                  0                0                0                  0   \n",
       "880                 0                0                0                  0   \n",
       "347                 0                0                0                  0   \n",
       "1076                0                0                0                  0   \n",
       "742                 0                0                0                  0   \n",
       "1230                0                0                0                  0   \n",
       "\n",
       "      HouseStyle_1.5Unf  HouseStyle_1Story  HouseStyle_2.5Fin  \\\n",
       "1447                  0                  1                  0   \n",
       "1115                  0                  1                  0   \n",
       "420                   0                  1                  0   \n",
       "1029                  0                  1                  0   \n",
       "79                    0                  0                  0   \n",
       "880                   0                  0                  1   \n",
       "347                   0                  0                  0   \n",
       "1076                  0                  1                  0   \n",
       "742                   0                  0                  0   \n",
       "1230                  0                  0                  0   \n",
       "\n",
       "      HouseStyle_2.5Unf  HouseStyle_2Story  HouseStyle_SFoyer  \\\n",
       "1447                  0                  0                  0   \n",
       "1115                  0                  0                  0   \n",
       "420                   0                  0                  0   \n",
       "1029                  0                  0                  0   \n",
       "79                    0                  1                  0   \n",
       "880                   0                  0                  0   \n",
       "347                   0                  1                  0   \n",
       "1076                  0                  0                  0   \n",
       "742                   0                  1                  0   \n",
       "1230                  0                  1                  0   \n",
       "\n",
       "      HouseStyle_SLvl  SaleCondition_Abnorml  SaleCondition_AdjLand  \\\n",
       "1447                0                      0                      0   \n",
       "1115                0                      0                      0   \n",
       "420                 0                      0                      0   \n",
       "1029                0                      0                      0   \n",
       "79                  0                      0                      0   \n",
       "880                 0                      0                      0   \n",
       "347                 0                      0                      0   \n",
       "1076                0                      0                      0   \n",
       "742                 0                      0                      0   \n",
       "1230                0                      0                      0   \n",
       "\n",
       "      SaleCondition_Alloca  SaleCondition_Family  SaleCondition_Normal  \\\n",
       "1447                     0                     0                     1   \n",
       "1115                     0                     0                     0   \n",
       "420                      0                     0                     1   \n",
       "1029                     0                     0                     1   \n",
       "79                       0                     0                     1   \n",
       "880                      0                     0                     1   \n",
       "347                      0                     0                     1   \n",
       "1076                     0                     0                     1   \n",
       "742                      0                     0                     1   \n",
       "1230                     0                     0                     1   \n",
       "\n",
       "      SaleCondition_Partial  \n",
       "1447                      0  \n",
       "1115                      1  \n",
       "420                       0  \n",
       "1029                      0  \n",
       "79                        0  \n",
       "880                       0  \n",
       "347                       0  \n",
       "1076                      0  \n",
       "742                       0  \n",
       "1230                      0  "
      ]
     },
     "execution_count": 348,
     "metadata": {},
     "output_type": "execute_result"
    }
   ],
   "source": [
    "\n",
    "X = df12\n",
    "X.sample(10)"
   ]
  },
  {
   "cell_type": "markdown",
   "id": "6bb88401-365f-4525-9ca2-ae8cbeaf3c16",
   "metadata": {},
   "source": [
    "__Test data doesnt include some categories, so i want to remove them from train data__"
   ]
  },
  {
   "cell_type": "code",
   "execution_count": 297,
   "id": "691d0e93-8533-4c17-b56b-66bddfcafd42",
   "metadata": {},
   "outputs": [],
   "source": [
    "X.drop(columns=['HouseStyle_2.5Fin'], inplace=True)"
   ]
  },
  {
   "cell_type": "code",
   "execution_count": null,
   "id": "1a4fe3f3-2b27-4b81-97f5-79ac16dad608",
   "metadata": {},
   "outputs": [],
   "source": []
  },
  {
   "cell_type": "code",
   "execution_count": null,
   "id": "198d84d5-78e4-46fb-a0d6-023f11e9bb09",
   "metadata": {},
   "outputs": [],
   "source": []
  },
  {
   "cell_type": "markdown",
   "id": "ff8819ad-f39b-4923-a581-d138c05cb953",
   "metadata": {},
   "source": [
    "# 3. Data Splitting"
   ]
  },
  {
   "cell_type": "code",
   "execution_count": 298,
   "id": "c790cfa0-c72f-4734-bb9b-d2ccf996e8c6",
   "metadata": {
    "tags": []
   },
   "outputs": [],
   "source": [
    "from sklearn.model_selection import train_test_split"
   ]
  },
  {
   "cell_type": "code",
   "execution_count": 299,
   "id": "93dae8c3-1960-4563-b355-129898e7377a",
   "metadata": {
    "tags": []
   },
   "outputs": [
    {
     "name": "stdout",
     "output_type": "stream",
     "text": [
      "(1400,)\n",
      "(1400, 43)\n"
     ]
    }
   ],
   "source": [
    "print(y.shape)\n",
    "print(X.shape)"
   ]
  },
  {
   "cell_type": "code",
   "execution_count": 300,
   "id": "15ebf1a1-3dae-4205-885c-3bc139c714d8",
   "metadata": {
    "tags": []
   },
   "outputs": [],
   "source": [
    "X_train, X_test, y_train, y_test = train_test_split(X, y, test_size=0.2, random_state=42)"
   ]
  },
  {
   "cell_type": "code",
   "execution_count": 301,
   "id": "ebfc0627-e291-4287-a3a4-03fa0ba437c4",
   "metadata": {
    "tags": []
   },
   "outputs": [
    {
     "name": "stdout",
     "output_type": "stream",
     "text": [
      "1120\n",
      "1120\n",
      "280\n",
      "280\n"
     ]
    }
   ],
   "source": [
    "print(len(X_train))\n",
    "print(len(y_train))\n",
    "print(len(X_test))\n",
    "print(len(y_test))"
   ]
  },
  {
   "cell_type": "markdown",
   "id": "4b5b59c5-6349-4b45-b23d-2aa736c2728a",
   "metadata": {},
   "source": [
    "# 4. Model Selection and Training"
   ]
  },
  {
   "cell_type": "markdown",
   "id": "c10a0517-4597-4260-a207-6323a600ab84",
   "metadata": {},
   "source": [
    "## Create and Fit the Model"
   ]
  },
  {
   "cell_type": "code",
   "execution_count": 302,
   "id": "559c30fb-1d9d-4b3c-8ac3-a0f2c06e1fda",
   "metadata": {
    "tags": []
   },
   "outputs": [],
   "source": [
    "from sklearn.linear_model import LinearRegression \n",
    "from sklearn.metrics import mean_squared_error"
   ]
  },
  {
   "cell_type": "code",
   "execution_count": 303,
   "id": "ad85a0f6-ff1f-49ac-85b5-b1deca11e340",
   "metadata": {
    "tags": []
   },
   "outputs": [],
   "source": [
    "# Lets instantiate the model\n",
    "model = LinearRegression()"
   ]
  },
  {
   "cell_type": "code",
   "execution_count": 304,
   "id": "8d7b9b75-1b1a-46f9-a0bb-c0559a44ea27",
   "metadata": {
    "tags": []
   },
   "outputs": [
    {
     "data": {
      "text/html": [
       "<style>#sk-container-id-2 {color: black;}#sk-container-id-2 pre{padding: 0;}#sk-container-id-2 div.sk-toggleable {background-color: white;}#sk-container-id-2 label.sk-toggleable__label {cursor: pointer;display: block;width: 100%;margin-bottom: 0;padding: 0.3em;box-sizing: border-box;text-align: center;}#sk-container-id-2 label.sk-toggleable__label-arrow:before {content: \"▸\";float: left;margin-right: 0.25em;color: #696969;}#sk-container-id-2 label.sk-toggleable__label-arrow:hover:before {color: black;}#sk-container-id-2 div.sk-estimator:hover label.sk-toggleable__label-arrow:before {color: black;}#sk-container-id-2 div.sk-toggleable__content {max-height: 0;max-width: 0;overflow: hidden;text-align: left;background-color: #f0f8ff;}#sk-container-id-2 div.sk-toggleable__content pre {margin: 0.2em;color: black;border-radius: 0.25em;background-color: #f0f8ff;}#sk-container-id-2 input.sk-toggleable__control:checked~div.sk-toggleable__content {max-height: 200px;max-width: 100%;overflow: auto;}#sk-container-id-2 input.sk-toggleable__control:checked~label.sk-toggleable__label-arrow:before {content: \"▾\";}#sk-container-id-2 div.sk-estimator input.sk-toggleable__control:checked~label.sk-toggleable__label {background-color: #d4ebff;}#sk-container-id-2 div.sk-label input.sk-toggleable__control:checked~label.sk-toggleable__label {background-color: #d4ebff;}#sk-container-id-2 input.sk-hidden--visually {border: 0;clip: rect(1px 1px 1px 1px);clip: rect(1px, 1px, 1px, 1px);height: 1px;margin: -1px;overflow: hidden;padding: 0;position: absolute;width: 1px;}#sk-container-id-2 div.sk-estimator {font-family: monospace;background-color: #f0f8ff;border: 1px dotted black;border-radius: 0.25em;box-sizing: border-box;margin-bottom: 0.5em;}#sk-container-id-2 div.sk-estimator:hover {background-color: #d4ebff;}#sk-container-id-2 div.sk-parallel-item::after {content: \"\";width: 100%;border-bottom: 1px solid gray;flex-grow: 1;}#sk-container-id-2 div.sk-label:hover label.sk-toggleable__label {background-color: #d4ebff;}#sk-container-id-2 div.sk-serial::before {content: \"\";position: absolute;border-left: 1px solid gray;box-sizing: border-box;top: 0;bottom: 0;left: 50%;z-index: 0;}#sk-container-id-2 div.sk-serial {display: flex;flex-direction: column;align-items: center;background-color: white;padding-right: 0.2em;padding-left: 0.2em;position: relative;}#sk-container-id-2 div.sk-item {position: relative;z-index: 1;}#sk-container-id-2 div.sk-parallel {display: flex;align-items: stretch;justify-content: center;background-color: white;position: relative;}#sk-container-id-2 div.sk-item::before, #sk-container-id-2 div.sk-parallel-item::before {content: \"\";position: absolute;border-left: 1px solid gray;box-sizing: border-box;top: 0;bottom: 0;left: 50%;z-index: -1;}#sk-container-id-2 div.sk-parallel-item {display: flex;flex-direction: column;z-index: 1;position: relative;background-color: white;}#sk-container-id-2 div.sk-parallel-item:first-child::after {align-self: flex-end;width: 50%;}#sk-container-id-2 div.sk-parallel-item:last-child::after {align-self: flex-start;width: 50%;}#sk-container-id-2 div.sk-parallel-item:only-child::after {width: 0;}#sk-container-id-2 div.sk-dashed-wrapped {border: 1px dashed gray;margin: 0 0.4em 0.5em 0.4em;box-sizing: border-box;padding-bottom: 0.4em;background-color: white;}#sk-container-id-2 div.sk-label label {font-family: monospace;font-weight: bold;display: inline-block;line-height: 1.2em;}#sk-container-id-2 div.sk-label-container {text-align: center;}#sk-container-id-2 div.sk-container {/* jupyter's `normalize.less` sets `[hidden] { display: none; }` but bootstrap.min.css set `[hidden] { display: none !important; }` so we also need the `!important` here to be able to override the default hidden behavior on the sphinx rendered scikit-learn.org. See: https://github.com/scikit-learn/scikit-learn/issues/21755 */display: inline-block !important;position: relative;}#sk-container-id-2 div.sk-text-repr-fallback {display: none;}</style><div id=\"sk-container-id-2\" class=\"sk-top-container\"><div class=\"sk-text-repr-fallback\"><pre>LinearRegression()</pre><b>In a Jupyter environment, please rerun this cell to show the HTML representation or trust the notebook. <br />On GitHub, the HTML representation is unable to render, please try loading this page with nbviewer.org.</b></div><div class=\"sk-container\" hidden><div class=\"sk-item\"><div class=\"sk-estimator sk-toggleable\"><input class=\"sk-toggleable__control sk-hidden--visually\" id=\"sk-estimator-id-2\" type=\"checkbox\" checked><label for=\"sk-estimator-id-2\" class=\"sk-toggleable__label sk-toggleable__label-arrow\">LinearRegression</label><div class=\"sk-toggleable__content\"><pre>LinearRegression()</pre></div></div></div></div></div>"
      ],
      "text/plain": [
       "LinearRegression()"
      ]
     },
     "execution_count": 304,
     "metadata": {},
     "output_type": "execute_result"
    }
   ],
   "source": [
    "# Lets train the model\n",
    "model.fit(X_train, y_train)"
   ]
  },
  {
   "cell_type": "markdown",
   "id": "ee001f7e-b377-4348-a511-723f481b1c6b",
   "metadata": {},
   "source": [
    "## Creating a Baseline Model"
   ]
  },
  {
   "cell_type": "markdown",
   "id": "f905735e-5fdc-4157-a673-1e604ff5e545",
   "metadata": {},
   "source": [
    "Lets start by building a simple baseline model.  \n",
    "This can be a very basic model, such as predicting the mean or median of the target variable for every observation.  \n",
    "This provides a starting point for comparison with more complex models."
   ]
  },
  {
   "cell_type": "code",
   "execution_count": 305,
   "id": "250d76ec-336a-472a-b255-1c8639b13c79",
   "metadata": {
    "tags": []
   },
   "outputs": [
    {
     "data": {
      "text/plain": [
       "12.008964070174752"
      ]
     },
     "execution_count": 305,
     "metadata": {},
     "output_type": "execute_result"
    }
   ],
   "source": [
    "# Baseline model: Predicting the mean of y_train for all observations\n",
    "baseline_prediction = y_train.mean()\n",
    "baseline_prediction"
   ]
  },
  {
   "cell_type": "code",
   "execution_count": 306,
   "id": "84e67b2e-0fd2-4d57-b103-e9c1e0b0e78d",
   "metadata": {
    "tags": []
   },
   "outputs": [
    {
     "data": {
      "text/plain": [
       "0.3759503057908066"
      ]
     },
     "execution_count": 306,
     "metadata": {},
     "output_type": "execute_result"
    }
   ],
   "source": [
    "baseline_mse = mean_squared_error(y_test, [baseline_prediction] * len(y_test))\n",
    "baseline_rmse = baseline_mse**0.5\n",
    "baseline_rmse"
   ]
  },
  {
   "cell_type": "markdown",
   "id": "11648c42-cdda-4226-836b-1f3732aa0cfc",
   "metadata": {},
   "source": [
    "## Predictions and Evaluation"
   ]
  },
  {
   "cell_type": "markdown",
   "id": "dea7356e-2bd1-4fdd-b806-de5a7b00e9ec",
   "metadata": {},
   "source": [
    "Lets use the baseline model to make predictions on the test data.  \n",
    "We need to calculate the evaluation metric (e.g., RMSE) for the baseline model.  \n",
    "This will serve as our initial benchmark like in many Kaggle Competitions"
   ]
  },
  {
   "cell_type": "code",
   "execution_count": 307,
   "id": "d0c69bbb-f6d2-472b-b0a0-1f80c1863a19",
   "metadata": {
    "tags": []
   },
   "outputs": [],
   "source": [
    "y_pred = model.predict(X_test)"
   ]
  },
  {
   "cell_type": "code",
   "execution_count": 308,
   "id": "042636cd-4603-4e10-b932-c6ec49ea5586",
   "metadata": {
    "tags": []
   },
   "outputs": [
    {
     "name": "stdout",
     "output_type": "stream",
     "text": [
      "Linear Regression RMSE: 0.11166146887419193\n"
     ]
    }
   ],
   "source": [
    "mse = mean_squared_error(y_test, y_pred)\n",
    "rmse = np.sqrt(mse)\n",
    "print(f\"Linear Regression RMSE: {rmse}\")"
   ]
  },
  {
   "cell_type": "code",
   "execution_count": null,
   "id": "ad91cff2-1db3-47cc-b1f4-96c3d0e0ca92",
   "metadata": {},
   "outputs": [],
   "source": []
  },
  {
   "cell_type": "code",
   "execution_count": null,
   "id": "3abbed3c-82d5-401e-8ae0-93ebf3809874",
   "metadata": {},
   "outputs": [],
   "source": []
  },
  {
   "cell_type": "markdown",
   "id": "31e4ac76-a989-4883-a047-7f2e97fa62ca",
   "metadata": {},
   "source": [
    "# 6. Model Evaluation"
   ]
  },
  {
   "cell_type": "markdown",
   "id": "89e0e95a-0f64-4ca7-b47f-23484d86042a",
   "metadata": {},
   "source": [
    "# 7. Hyperparameter Tuning (Optional)"
   ]
  },
  {
   "cell_type": "markdown",
   "id": "e8c7bce0-32b4-43cf-a61d-2caa88e834e5",
   "metadata": {},
   "source": [
    "# 8. Final Model Training and Predictions"
   ]
  },
  {
   "cell_type": "code",
   "execution_count": 309,
   "id": "b51e4bca-6c38-4341-8829-9a7ab51316ff",
   "metadata": {
    "tags": []
   },
   "outputs": [
    {
     "data": {
      "text/html": [
       "<div>\n",
       "<style scoped>\n",
       "    .dataframe tbody tr th:only-of-type {\n",
       "        vertical-align: middle;\n",
       "    }\n",
       "\n",
       "    .dataframe tbody tr th {\n",
       "        vertical-align: top;\n",
       "    }\n",
       "\n",
       "    .dataframe thead th {\n",
       "        text-align: right;\n",
       "    }\n",
       "</style>\n",
       "<table border=\"1\" class=\"dataframe\">\n",
       "  <thead>\n",
       "    <tr style=\"text-align: right;\">\n",
       "      <th></th>\n",
       "      <th>Id</th>\n",
       "      <th>MSSubClass</th>\n",
       "      <th>MSZoning</th>\n",
       "      <th>LotFrontage</th>\n",
       "      <th>LotArea</th>\n",
       "      <th>Street</th>\n",
       "      <th>Alley</th>\n",
       "      <th>LotShape</th>\n",
       "      <th>LandContour</th>\n",
       "      <th>Utilities</th>\n",
       "      <th>LotConfig</th>\n",
       "      <th>LandSlope</th>\n",
       "      <th>Neighborhood</th>\n",
       "      <th>Condition1</th>\n",
       "      <th>Condition2</th>\n",
       "      <th>BldgType</th>\n",
       "      <th>HouseStyle</th>\n",
       "      <th>OverallQual</th>\n",
       "      <th>OverallCond</th>\n",
       "      <th>YearBuilt</th>\n",
       "      <th>YearRemodAdd</th>\n",
       "      <th>RoofStyle</th>\n",
       "      <th>RoofMatl</th>\n",
       "      <th>Exterior1st</th>\n",
       "      <th>Exterior2nd</th>\n",
       "      <th>MasVnrType</th>\n",
       "      <th>MasVnrArea</th>\n",
       "      <th>ExterQual</th>\n",
       "      <th>ExterCond</th>\n",
       "      <th>Foundation</th>\n",
       "      <th>BsmtQual</th>\n",
       "      <th>BsmtCond</th>\n",
       "      <th>BsmtExposure</th>\n",
       "      <th>BsmtFinType1</th>\n",
       "      <th>BsmtFinSF1</th>\n",
       "      <th>BsmtFinType2</th>\n",
       "      <th>BsmtFinSF2</th>\n",
       "      <th>BsmtUnfSF</th>\n",
       "      <th>TotalBsmtSF</th>\n",
       "      <th>Heating</th>\n",
       "      <th>HeatingQC</th>\n",
       "      <th>CentralAir</th>\n",
       "      <th>Electrical</th>\n",
       "      <th>1stFlrSF</th>\n",
       "      <th>2ndFlrSF</th>\n",
       "      <th>LowQualFinSF</th>\n",
       "      <th>GrLivArea</th>\n",
       "      <th>BsmtFullBath</th>\n",
       "      <th>BsmtHalfBath</th>\n",
       "      <th>FullBath</th>\n",
       "      <th>HalfBath</th>\n",
       "      <th>BedroomAbvGr</th>\n",
       "      <th>KitchenAbvGr</th>\n",
       "      <th>KitchenQual</th>\n",
       "      <th>TotRmsAbvGrd</th>\n",
       "      <th>Functional</th>\n",
       "      <th>Fireplaces</th>\n",
       "      <th>FireplaceQu</th>\n",
       "      <th>GarageType</th>\n",
       "      <th>GarageYrBlt</th>\n",
       "      <th>GarageFinish</th>\n",
       "      <th>GarageCars</th>\n",
       "      <th>GarageArea</th>\n",
       "      <th>GarageQual</th>\n",
       "      <th>GarageCond</th>\n",
       "      <th>PavedDrive</th>\n",
       "      <th>WoodDeckSF</th>\n",
       "      <th>OpenPorchSF</th>\n",
       "      <th>EnclosedPorch</th>\n",
       "      <th>3SsnPorch</th>\n",
       "      <th>ScreenPorch</th>\n",
       "      <th>PoolArea</th>\n",
       "      <th>PoolQC</th>\n",
       "      <th>Fence</th>\n",
       "      <th>MiscFeature</th>\n",
       "      <th>MiscVal</th>\n",
       "      <th>MoSold</th>\n",
       "      <th>YrSold</th>\n",
       "      <th>SaleType</th>\n",
       "      <th>SaleCondition</th>\n",
       "    </tr>\n",
       "  </thead>\n",
       "  <tbody>\n",
       "    <tr>\n",
       "      <th>0</th>\n",
       "      <td>1461</td>\n",
       "      <td>20</td>\n",
       "      <td>RH</td>\n",
       "      <td>80.0</td>\n",
       "      <td>11622</td>\n",
       "      <td>Pave</td>\n",
       "      <td>NaN</td>\n",
       "      <td>Reg</td>\n",
       "      <td>Lvl</td>\n",
       "      <td>AllPub</td>\n",
       "      <td>Inside</td>\n",
       "      <td>Gtl</td>\n",
       "      <td>NAmes</td>\n",
       "      <td>Feedr</td>\n",
       "      <td>Norm</td>\n",
       "      <td>1Fam</td>\n",
       "      <td>1Story</td>\n",
       "      <td>5</td>\n",
       "      <td>6</td>\n",
       "      <td>1961</td>\n",
       "      <td>1961</td>\n",
       "      <td>Gable</td>\n",
       "      <td>CompShg</td>\n",
       "      <td>VinylSd</td>\n",
       "      <td>VinylSd</td>\n",
       "      <td>None</td>\n",
       "      <td>0.0</td>\n",
       "      <td>TA</td>\n",
       "      <td>TA</td>\n",
       "      <td>CBlock</td>\n",
       "      <td>TA</td>\n",
       "      <td>TA</td>\n",
       "      <td>No</td>\n",
       "      <td>Rec</td>\n",
       "      <td>468.0</td>\n",
       "      <td>LwQ</td>\n",
       "      <td>144.0</td>\n",
       "      <td>270.0</td>\n",
       "      <td>882.0</td>\n",
       "      <td>GasA</td>\n",
       "      <td>TA</td>\n",
       "      <td>Y</td>\n",
       "      <td>SBrkr</td>\n",
       "      <td>896</td>\n",
       "      <td>0</td>\n",
       "      <td>0</td>\n",
       "      <td>896</td>\n",
       "      <td>0.0</td>\n",
       "      <td>0.0</td>\n",
       "      <td>1</td>\n",
       "      <td>0</td>\n",
       "      <td>2</td>\n",
       "      <td>1</td>\n",
       "      <td>TA</td>\n",
       "      <td>5</td>\n",
       "      <td>Typ</td>\n",
       "      <td>0</td>\n",
       "      <td>NaN</td>\n",
       "      <td>Attchd</td>\n",
       "      <td>1961.0</td>\n",
       "      <td>Unf</td>\n",
       "      <td>1.0</td>\n",
       "      <td>730.0</td>\n",
       "      <td>TA</td>\n",
       "      <td>TA</td>\n",
       "      <td>Y</td>\n",
       "      <td>140</td>\n",
       "      <td>0</td>\n",
       "      <td>0</td>\n",
       "      <td>0</td>\n",
       "      <td>120</td>\n",
       "      <td>0</td>\n",
       "      <td>NaN</td>\n",
       "      <td>MnPrv</td>\n",
       "      <td>NaN</td>\n",
       "      <td>0</td>\n",
       "      <td>6</td>\n",
       "      <td>2010</td>\n",
       "      <td>WD</td>\n",
       "      <td>Normal</td>\n",
       "    </tr>\n",
       "    <tr>\n",
       "      <th>1</th>\n",
       "      <td>1462</td>\n",
       "      <td>20</td>\n",
       "      <td>RL</td>\n",
       "      <td>81.0</td>\n",
       "      <td>14267</td>\n",
       "      <td>Pave</td>\n",
       "      <td>NaN</td>\n",
       "      <td>IR1</td>\n",
       "      <td>Lvl</td>\n",
       "      <td>AllPub</td>\n",
       "      <td>Corner</td>\n",
       "      <td>Gtl</td>\n",
       "      <td>NAmes</td>\n",
       "      <td>Norm</td>\n",
       "      <td>Norm</td>\n",
       "      <td>1Fam</td>\n",
       "      <td>1Story</td>\n",
       "      <td>6</td>\n",
       "      <td>6</td>\n",
       "      <td>1958</td>\n",
       "      <td>1958</td>\n",
       "      <td>Hip</td>\n",
       "      <td>CompShg</td>\n",
       "      <td>Wd Sdng</td>\n",
       "      <td>Wd Sdng</td>\n",
       "      <td>BrkFace</td>\n",
       "      <td>108.0</td>\n",
       "      <td>TA</td>\n",
       "      <td>TA</td>\n",
       "      <td>CBlock</td>\n",
       "      <td>TA</td>\n",
       "      <td>TA</td>\n",
       "      <td>No</td>\n",
       "      <td>ALQ</td>\n",
       "      <td>923.0</td>\n",
       "      <td>Unf</td>\n",
       "      <td>0.0</td>\n",
       "      <td>406.0</td>\n",
       "      <td>1329.0</td>\n",
       "      <td>GasA</td>\n",
       "      <td>TA</td>\n",
       "      <td>Y</td>\n",
       "      <td>SBrkr</td>\n",
       "      <td>1329</td>\n",
       "      <td>0</td>\n",
       "      <td>0</td>\n",
       "      <td>1329</td>\n",
       "      <td>0.0</td>\n",
       "      <td>0.0</td>\n",
       "      <td>1</td>\n",
       "      <td>1</td>\n",
       "      <td>3</td>\n",
       "      <td>1</td>\n",
       "      <td>Gd</td>\n",
       "      <td>6</td>\n",
       "      <td>Typ</td>\n",
       "      <td>0</td>\n",
       "      <td>NaN</td>\n",
       "      <td>Attchd</td>\n",
       "      <td>1958.0</td>\n",
       "      <td>Unf</td>\n",
       "      <td>1.0</td>\n",
       "      <td>312.0</td>\n",
       "      <td>TA</td>\n",
       "      <td>TA</td>\n",
       "      <td>Y</td>\n",
       "      <td>393</td>\n",
       "      <td>36</td>\n",
       "      <td>0</td>\n",
       "      <td>0</td>\n",
       "      <td>0</td>\n",
       "      <td>0</td>\n",
       "      <td>NaN</td>\n",
       "      <td>NaN</td>\n",
       "      <td>Gar2</td>\n",
       "      <td>12500</td>\n",
       "      <td>6</td>\n",
       "      <td>2010</td>\n",
       "      <td>WD</td>\n",
       "      <td>Normal</td>\n",
       "    </tr>\n",
       "    <tr>\n",
       "      <th>2</th>\n",
       "      <td>1463</td>\n",
       "      <td>60</td>\n",
       "      <td>RL</td>\n",
       "      <td>74.0</td>\n",
       "      <td>13830</td>\n",
       "      <td>Pave</td>\n",
       "      <td>NaN</td>\n",
       "      <td>IR1</td>\n",
       "      <td>Lvl</td>\n",
       "      <td>AllPub</td>\n",
       "      <td>Inside</td>\n",
       "      <td>Gtl</td>\n",
       "      <td>Gilbert</td>\n",
       "      <td>Norm</td>\n",
       "      <td>Norm</td>\n",
       "      <td>1Fam</td>\n",
       "      <td>2Story</td>\n",
       "      <td>5</td>\n",
       "      <td>5</td>\n",
       "      <td>1997</td>\n",
       "      <td>1998</td>\n",
       "      <td>Gable</td>\n",
       "      <td>CompShg</td>\n",
       "      <td>VinylSd</td>\n",
       "      <td>VinylSd</td>\n",
       "      <td>None</td>\n",
       "      <td>0.0</td>\n",
       "      <td>TA</td>\n",
       "      <td>TA</td>\n",
       "      <td>PConc</td>\n",
       "      <td>Gd</td>\n",
       "      <td>TA</td>\n",
       "      <td>No</td>\n",
       "      <td>GLQ</td>\n",
       "      <td>791.0</td>\n",
       "      <td>Unf</td>\n",
       "      <td>0.0</td>\n",
       "      <td>137.0</td>\n",
       "      <td>928.0</td>\n",
       "      <td>GasA</td>\n",
       "      <td>Gd</td>\n",
       "      <td>Y</td>\n",
       "      <td>SBrkr</td>\n",
       "      <td>928</td>\n",
       "      <td>701</td>\n",
       "      <td>0</td>\n",
       "      <td>1629</td>\n",
       "      <td>0.0</td>\n",
       "      <td>0.0</td>\n",
       "      <td>2</td>\n",
       "      <td>1</td>\n",
       "      <td>3</td>\n",
       "      <td>1</td>\n",
       "      <td>TA</td>\n",
       "      <td>6</td>\n",
       "      <td>Typ</td>\n",
       "      <td>1</td>\n",
       "      <td>TA</td>\n",
       "      <td>Attchd</td>\n",
       "      <td>1997.0</td>\n",
       "      <td>Fin</td>\n",
       "      <td>2.0</td>\n",
       "      <td>482.0</td>\n",
       "      <td>TA</td>\n",
       "      <td>TA</td>\n",
       "      <td>Y</td>\n",
       "      <td>212</td>\n",
       "      <td>34</td>\n",
       "      <td>0</td>\n",
       "      <td>0</td>\n",
       "      <td>0</td>\n",
       "      <td>0</td>\n",
       "      <td>NaN</td>\n",
       "      <td>MnPrv</td>\n",
       "      <td>NaN</td>\n",
       "      <td>0</td>\n",
       "      <td>3</td>\n",
       "      <td>2010</td>\n",
       "      <td>WD</td>\n",
       "      <td>Normal</td>\n",
       "    </tr>\n",
       "    <tr>\n",
       "      <th>3</th>\n",
       "      <td>1464</td>\n",
       "      <td>60</td>\n",
       "      <td>RL</td>\n",
       "      <td>78.0</td>\n",
       "      <td>9978</td>\n",
       "      <td>Pave</td>\n",
       "      <td>NaN</td>\n",
       "      <td>IR1</td>\n",
       "      <td>Lvl</td>\n",
       "      <td>AllPub</td>\n",
       "      <td>Inside</td>\n",
       "      <td>Gtl</td>\n",
       "      <td>Gilbert</td>\n",
       "      <td>Norm</td>\n",
       "      <td>Norm</td>\n",
       "      <td>1Fam</td>\n",
       "      <td>2Story</td>\n",
       "      <td>6</td>\n",
       "      <td>6</td>\n",
       "      <td>1998</td>\n",
       "      <td>1998</td>\n",
       "      <td>Gable</td>\n",
       "      <td>CompShg</td>\n",
       "      <td>VinylSd</td>\n",
       "      <td>VinylSd</td>\n",
       "      <td>BrkFace</td>\n",
       "      <td>20.0</td>\n",
       "      <td>TA</td>\n",
       "      <td>TA</td>\n",
       "      <td>PConc</td>\n",
       "      <td>TA</td>\n",
       "      <td>TA</td>\n",
       "      <td>No</td>\n",
       "      <td>GLQ</td>\n",
       "      <td>602.0</td>\n",
       "      <td>Unf</td>\n",
       "      <td>0.0</td>\n",
       "      <td>324.0</td>\n",
       "      <td>926.0</td>\n",
       "      <td>GasA</td>\n",
       "      <td>Ex</td>\n",
       "      <td>Y</td>\n",
       "      <td>SBrkr</td>\n",
       "      <td>926</td>\n",
       "      <td>678</td>\n",
       "      <td>0</td>\n",
       "      <td>1604</td>\n",
       "      <td>0.0</td>\n",
       "      <td>0.0</td>\n",
       "      <td>2</td>\n",
       "      <td>1</td>\n",
       "      <td>3</td>\n",
       "      <td>1</td>\n",
       "      <td>Gd</td>\n",
       "      <td>7</td>\n",
       "      <td>Typ</td>\n",
       "      <td>1</td>\n",
       "      <td>Gd</td>\n",
       "      <td>Attchd</td>\n",
       "      <td>1998.0</td>\n",
       "      <td>Fin</td>\n",
       "      <td>2.0</td>\n",
       "      <td>470.0</td>\n",
       "      <td>TA</td>\n",
       "      <td>TA</td>\n",
       "      <td>Y</td>\n",
       "      <td>360</td>\n",
       "      <td>36</td>\n",
       "      <td>0</td>\n",
       "      <td>0</td>\n",
       "      <td>0</td>\n",
       "      <td>0</td>\n",
       "      <td>NaN</td>\n",
       "      <td>NaN</td>\n",
       "      <td>NaN</td>\n",
       "      <td>0</td>\n",
       "      <td>6</td>\n",
       "      <td>2010</td>\n",
       "      <td>WD</td>\n",
       "      <td>Normal</td>\n",
       "    </tr>\n",
       "    <tr>\n",
       "      <th>4</th>\n",
       "      <td>1465</td>\n",
       "      <td>120</td>\n",
       "      <td>RL</td>\n",
       "      <td>43.0</td>\n",
       "      <td>5005</td>\n",
       "      <td>Pave</td>\n",
       "      <td>NaN</td>\n",
       "      <td>IR1</td>\n",
       "      <td>HLS</td>\n",
       "      <td>AllPub</td>\n",
       "      <td>Inside</td>\n",
       "      <td>Gtl</td>\n",
       "      <td>StoneBr</td>\n",
       "      <td>Norm</td>\n",
       "      <td>Norm</td>\n",
       "      <td>TwnhsE</td>\n",
       "      <td>1Story</td>\n",
       "      <td>8</td>\n",
       "      <td>5</td>\n",
       "      <td>1992</td>\n",
       "      <td>1992</td>\n",
       "      <td>Gable</td>\n",
       "      <td>CompShg</td>\n",
       "      <td>HdBoard</td>\n",
       "      <td>HdBoard</td>\n",
       "      <td>None</td>\n",
       "      <td>0.0</td>\n",
       "      <td>Gd</td>\n",
       "      <td>TA</td>\n",
       "      <td>PConc</td>\n",
       "      <td>Gd</td>\n",
       "      <td>TA</td>\n",
       "      <td>No</td>\n",
       "      <td>ALQ</td>\n",
       "      <td>263.0</td>\n",
       "      <td>Unf</td>\n",
       "      <td>0.0</td>\n",
       "      <td>1017.0</td>\n",
       "      <td>1280.0</td>\n",
       "      <td>GasA</td>\n",
       "      <td>Ex</td>\n",
       "      <td>Y</td>\n",
       "      <td>SBrkr</td>\n",
       "      <td>1280</td>\n",
       "      <td>0</td>\n",
       "      <td>0</td>\n",
       "      <td>1280</td>\n",
       "      <td>0.0</td>\n",
       "      <td>0.0</td>\n",
       "      <td>2</td>\n",
       "      <td>0</td>\n",
       "      <td>2</td>\n",
       "      <td>1</td>\n",
       "      <td>Gd</td>\n",
       "      <td>5</td>\n",
       "      <td>Typ</td>\n",
       "      <td>0</td>\n",
       "      <td>NaN</td>\n",
       "      <td>Attchd</td>\n",
       "      <td>1992.0</td>\n",
       "      <td>RFn</td>\n",
       "      <td>2.0</td>\n",
       "      <td>506.0</td>\n",
       "      <td>TA</td>\n",
       "      <td>TA</td>\n",
       "      <td>Y</td>\n",
       "      <td>0</td>\n",
       "      <td>82</td>\n",
       "      <td>0</td>\n",
       "      <td>0</td>\n",
       "      <td>144</td>\n",
       "      <td>0</td>\n",
       "      <td>NaN</td>\n",
       "      <td>NaN</td>\n",
       "      <td>NaN</td>\n",
       "      <td>0</td>\n",
       "      <td>1</td>\n",
       "      <td>2010</td>\n",
       "      <td>WD</td>\n",
       "      <td>Normal</td>\n",
       "    </tr>\n",
       "  </tbody>\n",
       "</table>\n",
       "</div>"
      ],
      "text/plain": [
       "     Id  MSSubClass MSZoning  LotFrontage  LotArea Street Alley LotShape  \\\n",
       "0  1461          20       RH         80.0    11622   Pave   NaN      Reg   \n",
       "1  1462          20       RL         81.0    14267   Pave   NaN      IR1   \n",
       "2  1463          60       RL         74.0    13830   Pave   NaN      IR1   \n",
       "3  1464          60       RL         78.0     9978   Pave   NaN      IR1   \n",
       "4  1465         120       RL         43.0     5005   Pave   NaN      IR1   \n",
       "\n",
       "  LandContour Utilities LotConfig LandSlope Neighborhood Condition1  \\\n",
       "0         Lvl    AllPub    Inside       Gtl        NAmes      Feedr   \n",
       "1         Lvl    AllPub    Corner       Gtl        NAmes       Norm   \n",
       "2         Lvl    AllPub    Inside       Gtl      Gilbert       Norm   \n",
       "3         Lvl    AllPub    Inside       Gtl      Gilbert       Norm   \n",
       "4         HLS    AllPub    Inside       Gtl      StoneBr       Norm   \n",
       "\n",
       "  Condition2 BldgType HouseStyle  OverallQual  OverallCond  YearBuilt  \\\n",
       "0       Norm     1Fam     1Story            5            6       1961   \n",
       "1       Norm     1Fam     1Story            6            6       1958   \n",
       "2       Norm     1Fam     2Story            5            5       1997   \n",
       "3       Norm     1Fam     2Story            6            6       1998   \n",
       "4       Norm   TwnhsE     1Story            8            5       1992   \n",
       "\n",
       "   YearRemodAdd RoofStyle RoofMatl Exterior1st Exterior2nd MasVnrType  \\\n",
       "0          1961     Gable  CompShg     VinylSd     VinylSd       None   \n",
       "1          1958       Hip  CompShg     Wd Sdng     Wd Sdng    BrkFace   \n",
       "2          1998     Gable  CompShg     VinylSd     VinylSd       None   \n",
       "3          1998     Gable  CompShg     VinylSd     VinylSd    BrkFace   \n",
       "4          1992     Gable  CompShg     HdBoard     HdBoard       None   \n",
       "\n",
       "   MasVnrArea ExterQual ExterCond Foundation BsmtQual BsmtCond BsmtExposure  \\\n",
       "0         0.0        TA        TA     CBlock       TA       TA           No   \n",
       "1       108.0        TA        TA     CBlock       TA       TA           No   \n",
       "2         0.0        TA        TA      PConc       Gd       TA           No   \n",
       "3        20.0        TA        TA      PConc       TA       TA           No   \n",
       "4         0.0        Gd        TA      PConc       Gd       TA           No   \n",
       "\n",
       "  BsmtFinType1  BsmtFinSF1 BsmtFinType2  BsmtFinSF2  BsmtUnfSF  TotalBsmtSF  \\\n",
       "0          Rec       468.0          LwQ       144.0      270.0        882.0   \n",
       "1          ALQ       923.0          Unf         0.0      406.0       1329.0   \n",
       "2          GLQ       791.0          Unf         0.0      137.0        928.0   \n",
       "3          GLQ       602.0          Unf         0.0      324.0        926.0   \n",
       "4          ALQ       263.0          Unf         0.0     1017.0       1280.0   \n",
       "\n",
       "  Heating HeatingQC CentralAir Electrical  1stFlrSF  2ndFlrSF  LowQualFinSF  \\\n",
       "0    GasA        TA          Y      SBrkr       896         0             0   \n",
       "1    GasA        TA          Y      SBrkr      1329         0             0   \n",
       "2    GasA        Gd          Y      SBrkr       928       701             0   \n",
       "3    GasA        Ex          Y      SBrkr       926       678             0   \n",
       "4    GasA        Ex          Y      SBrkr      1280         0             0   \n",
       "\n",
       "   GrLivArea  BsmtFullBath  BsmtHalfBath  FullBath  HalfBath  BedroomAbvGr  \\\n",
       "0        896           0.0           0.0         1         0             2   \n",
       "1       1329           0.0           0.0         1         1             3   \n",
       "2       1629           0.0           0.0         2         1             3   \n",
       "3       1604           0.0           0.0         2         1             3   \n",
       "4       1280           0.0           0.0         2         0             2   \n",
       "\n",
       "   KitchenAbvGr KitchenQual  TotRmsAbvGrd Functional  Fireplaces FireplaceQu  \\\n",
       "0             1          TA             5        Typ           0         NaN   \n",
       "1             1          Gd             6        Typ           0         NaN   \n",
       "2             1          TA             6        Typ           1          TA   \n",
       "3             1          Gd             7        Typ           1          Gd   \n",
       "4             1          Gd             5        Typ           0         NaN   \n",
       "\n",
       "  GarageType  GarageYrBlt GarageFinish  GarageCars  GarageArea GarageQual  \\\n",
       "0     Attchd       1961.0          Unf         1.0       730.0         TA   \n",
       "1     Attchd       1958.0          Unf         1.0       312.0         TA   \n",
       "2     Attchd       1997.0          Fin         2.0       482.0         TA   \n",
       "3     Attchd       1998.0          Fin         2.0       470.0         TA   \n",
       "4     Attchd       1992.0          RFn         2.0       506.0         TA   \n",
       "\n",
       "  GarageCond PavedDrive  WoodDeckSF  OpenPorchSF  EnclosedPorch  3SsnPorch  \\\n",
       "0         TA          Y         140            0              0          0   \n",
       "1         TA          Y         393           36              0          0   \n",
       "2         TA          Y         212           34              0          0   \n",
       "3         TA          Y         360           36              0          0   \n",
       "4         TA          Y           0           82              0          0   \n",
       "\n",
       "   ScreenPorch  PoolArea PoolQC  Fence MiscFeature  MiscVal  MoSold  YrSold  \\\n",
       "0          120         0    NaN  MnPrv         NaN        0       6    2010   \n",
       "1            0         0    NaN    NaN        Gar2    12500       6    2010   \n",
       "2            0         0    NaN  MnPrv         NaN        0       3    2010   \n",
       "3            0         0    NaN    NaN         NaN        0       6    2010   \n",
       "4          144         0    NaN    NaN         NaN        0       1    2010   \n",
       "\n",
       "  SaleType SaleCondition  \n",
       "0       WD        Normal  \n",
       "1       WD        Normal  \n",
       "2       WD        Normal  \n",
       "3       WD        Normal  \n",
       "4       WD        Normal  "
      ]
     },
     "execution_count": 309,
     "metadata": {},
     "output_type": "execute_result"
    }
   ],
   "source": [
    "df_test = pd.read_csv('data_downloaded/test.csv')\n",
    "df_test.head()"
   ]
  },
  {
   "cell_type": "code",
   "execution_count": 310,
   "id": "dd9c1a5d-70a3-48e8-bc88-a5245557f667",
   "metadata": {
    "tags": []
   },
   "outputs": [],
   "source": [
    "for col in replacement_columns:\n",
    "    df_test[col].fillna(replacement_dictionary[col], inplace=True)"
   ]
  },
  {
   "cell_type": "code",
   "execution_count": 311,
   "id": "aa0c77be-cd23-4258-b1cd-40f04996e627",
   "metadata": {
    "tags": []
   },
   "outputs": [],
   "source": [
    "for col in ['LotFrontage', 'GarageYrBlt']:\n",
    "    df_test[col].fillna(replacement_dictionary_numeric[col], inplace=True)"
   ]
  },
  {
   "cell_type": "code",
   "execution_count": 312,
   "id": "d40485a6-8be6-416f-bbd0-e17eb4541326",
   "metadata": {
    "tags": []
   },
   "outputs": [],
   "source": [
    "df_test['Total_Area'] = df_test['TotalBsmtSF'] + df_test['1stFlrSF'] + df_test['2ndFlrSF']"
   ]
  },
  {
   "cell_type": "code",
   "execution_count": 313,
   "id": "6291d472-98be-4b34-bf08-332bb30305a5",
   "metadata": {
    "tags": []
   },
   "outputs": [],
   "source": [
    "df_test['Total_Bathrooms'] = df_test['BsmtFullBath'] + df_test['FullBath'] + 0.5*(df_test['BsmtHalfBath'] + df_test['HalfBath'])"
   ]
  },
  {
   "cell_type": "code",
   "execution_count": 314,
   "id": "992ff4f3-ba88-4c82-8a56-1b5265137bda",
   "metadata": {
    "tags": []
   },
   "outputs": [],
   "source": [
    "newest_blt = df_test['YearBuilt'].max()\n",
    "df_test['Age_of_Property'] = newest_blt - df_test['YearBuilt']"
   ]
  },
  {
   "cell_type": "code",
   "execution_count": 315,
   "id": "ee7a6842-baf3-432e-8a72-4868b2997c56",
   "metadata": {
    "tags": []
   },
   "outputs": [],
   "source": [
    "df_test['Age_of_Renovation'] = newest_blt - df_test['YearRemodAdd']"
   ]
  },
  {
   "cell_type": "code",
   "execution_count": 316,
   "id": "6de37982-936a-4dab-a922-4f4f6c7712ba",
   "metadata": {
    "tags": []
   },
   "outputs": [],
   "source": [
    "df_test['HasGarage'] = (df_test['GarageType'] != 'No Garage').astype(int)"
   ]
  },
  {
   "cell_type": "code",
   "execution_count": 317,
   "id": "756efcfd-6e54-4f84-9325-dfba3ead337f",
   "metadata": {
    "tags": []
   },
   "outputs": [],
   "source": [
    "df_test['HasPool'] = (df_test['PoolQC'] != 'No Pool').astype(int)"
   ]
  },
  {
   "cell_type": "code",
   "execution_count": 318,
   "id": "ebf3c3af-5b86-4843-b121-206eb7ce473d",
   "metadata": {
    "tags": []
   },
   "outputs": [
    {
     "data": {
      "text/html": [
       "<div>\n",
       "<style scoped>\n",
       "    .dataframe tbody tr th:only-of-type {\n",
       "        vertical-align: middle;\n",
       "    }\n",
       "\n",
       "    .dataframe tbody tr th {\n",
       "        vertical-align: top;\n",
       "    }\n",
       "\n",
       "    .dataframe thead th {\n",
       "        text-align: right;\n",
       "    }\n",
       "</style>\n",
       "<table border=\"1\" class=\"dataframe\">\n",
       "  <thead>\n",
       "    <tr style=\"text-align: right;\">\n",
       "      <th></th>\n",
       "      <th>Id</th>\n",
       "      <th>MSSubClass</th>\n",
       "      <th>MSZoning</th>\n",
       "      <th>LotFrontage</th>\n",
       "      <th>LotArea</th>\n",
       "      <th>Street</th>\n",
       "      <th>Alley</th>\n",
       "      <th>LotShape</th>\n",
       "      <th>LandContour</th>\n",
       "      <th>Utilities</th>\n",
       "      <th>LotConfig</th>\n",
       "      <th>LandSlope</th>\n",
       "      <th>Neighborhood</th>\n",
       "      <th>Condition1</th>\n",
       "      <th>Condition2</th>\n",
       "      <th>BldgType</th>\n",
       "      <th>HouseStyle</th>\n",
       "      <th>OverallQual</th>\n",
       "      <th>OverallCond</th>\n",
       "      <th>YearBuilt</th>\n",
       "      <th>YearRemodAdd</th>\n",
       "      <th>RoofStyle</th>\n",
       "      <th>RoofMatl</th>\n",
       "      <th>Exterior1st</th>\n",
       "      <th>Exterior2nd</th>\n",
       "      <th>MasVnrType</th>\n",
       "      <th>MasVnrArea</th>\n",
       "      <th>ExterQual</th>\n",
       "      <th>ExterCond</th>\n",
       "      <th>Foundation</th>\n",
       "      <th>BsmtQual</th>\n",
       "      <th>BsmtCond</th>\n",
       "      <th>BsmtExposure</th>\n",
       "      <th>BsmtFinType1</th>\n",
       "      <th>BsmtFinSF1</th>\n",
       "      <th>BsmtFinType2</th>\n",
       "      <th>BsmtFinSF2</th>\n",
       "      <th>BsmtUnfSF</th>\n",
       "      <th>TotalBsmtSF</th>\n",
       "      <th>Heating</th>\n",
       "      <th>HeatingQC</th>\n",
       "      <th>CentralAir</th>\n",
       "      <th>Electrical</th>\n",
       "      <th>1stFlrSF</th>\n",
       "      <th>2ndFlrSF</th>\n",
       "      <th>LowQualFinSF</th>\n",
       "      <th>GrLivArea</th>\n",
       "      <th>BsmtFullBath</th>\n",
       "      <th>BsmtHalfBath</th>\n",
       "      <th>FullBath</th>\n",
       "      <th>HalfBath</th>\n",
       "      <th>BedroomAbvGr</th>\n",
       "      <th>KitchenAbvGr</th>\n",
       "      <th>KitchenQual</th>\n",
       "      <th>TotRmsAbvGrd</th>\n",
       "      <th>Functional</th>\n",
       "      <th>Fireplaces</th>\n",
       "      <th>FireplaceQu</th>\n",
       "      <th>GarageType</th>\n",
       "      <th>GarageYrBlt</th>\n",
       "      <th>GarageFinish</th>\n",
       "      <th>GarageCars</th>\n",
       "      <th>GarageArea</th>\n",
       "      <th>GarageQual</th>\n",
       "      <th>GarageCond</th>\n",
       "      <th>PavedDrive</th>\n",
       "      <th>WoodDeckSF</th>\n",
       "      <th>OpenPorchSF</th>\n",
       "      <th>EnclosedPorch</th>\n",
       "      <th>3SsnPorch</th>\n",
       "      <th>ScreenPorch</th>\n",
       "      <th>PoolArea</th>\n",
       "      <th>PoolQC</th>\n",
       "      <th>Fence</th>\n",
       "      <th>MiscFeature</th>\n",
       "      <th>MiscVal</th>\n",
       "      <th>MoSold</th>\n",
       "      <th>YrSold</th>\n",
       "      <th>SaleType</th>\n",
       "      <th>SaleCondition</th>\n",
       "      <th>Total_Area</th>\n",
       "      <th>Total_Bathrooms</th>\n",
       "      <th>Age_of_Property</th>\n",
       "      <th>Age_of_Renovation</th>\n",
       "      <th>HasGarage</th>\n",
       "      <th>HasPool</th>\n",
       "      <th>MedianHousePrice</th>\n",
       "    </tr>\n",
       "  </thead>\n",
       "  <tbody>\n",
       "    <tr>\n",
       "      <th>338</th>\n",
       "      <td>1799</td>\n",
       "      <td>20</td>\n",
       "      <td>RL</td>\n",
       "      <td>60.0</td>\n",
       "      <td>7200</td>\n",
       "      <td>Pave</td>\n",
       "      <td>No Alley Access</td>\n",
       "      <td>Reg</td>\n",
       "      <td>Lvl</td>\n",
       "      <td>AllPub</td>\n",
       "      <td>Corner</td>\n",
       "      <td>Gtl</td>\n",
       "      <td>NAmes</td>\n",
       "      <td>Norm</td>\n",
       "      <td>Norm</td>\n",
       "      <td>1Fam</td>\n",
       "      <td>1Story</td>\n",
       "      <td>5</td>\n",
       "      <td>7</td>\n",
       "      <td>1952</td>\n",
       "      <td>1952</td>\n",
       "      <td>Gable</td>\n",
       "      <td>CompShg</td>\n",
       "      <td>MetalSd</td>\n",
       "      <td>MetalSd</td>\n",
       "      <td>None</td>\n",
       "      <td>0.0</td>\n",
       "      <td>TA</td>\n",
       "      <td>Gd</td>\n",
       "      <td>CBlock</td>\n",
       "      <td>TA</td>\n",
       "      <td>Gd</td>\n",
       "      <td>No</td>\n",
       "      <td>ALQ</td>\n",
       "      <td>630.0</td>\n",
       "      <td>BLQ</td>\n",
       "      <td>102.0</td>\n",
       "      <td>0.0</td>\n",
       "      <td>732.0</td>\n",
       "      <td>GasA</td>\n",
       "      <td>TA</td>\n",
       "      <td>Y</td>\n",
       "      <td>SBrkr</td>\n",
       "      <td>732</td>\n",
       "      <td>0</td>\n",
       "      <td>0</td>\n",
       "      <td>732</td>\n",
       "      <td>1.0</td>\n",
       "      <td>0.0</td>\n",
       "      <td>1</td>\n",
       "      <td>0</td>\n",
       "      <td>2</td>\n",
       "      <td>1</td>\n",
       "      <td>TA</td>\n",
       "      <td>4</td>\n",
       "      <td>Typ</td>\n",
       "      <td>0</td>\n",
       "      <td>No FirePlace</td>\n",
       "      <td>Detchd</td>\n",
       "      <td>1952.0</td>\n",
       "      <td>Unf</td>\n",
       "      <td>1.0</td>\n",
       "      <td>240.0</td>\n",
       "      <td>TA</td>\n",
       "      <td>TA</td>\n",
       "      <td>Y</td>\n",
       "      <td>0</td>\n",
       "      <td>68</td>\n",
       "      <td>0</td>\n",
       "      <td>0</td>\n",
       "      <td>0</td>\n",
       "      <td>0</td>\n",
       "      <td>No Pool</td>\n",
       "      <td>No Fence</td>\n",
       "      <td>No MiscFeatures</td>\n",
       "      <td>0</td>\n",
       "      <td>9</td>\n",
       "      <td>2009</td>\n",
       "      <td>WD</td>\n",
       "      <td>Normal</td>\n",
       "      <td>1464.0</td>\n",
       "      <td>2.0</td>\n",
       "      <td>58</td>\n",
       "      <td>58</td>\n",
       "      <td>1</td>\n",
       "      <td>0</td>\n",
       "      <td>140000.0</td>\n",
       "    </tr>\n",
       "    <tr>\n",
       "      <th>897</th>\n",
       "      <td>2358</td>\n",
       "      <td>60</td>\n",
       "      <td>RL</td>\n",
       "      <td>0.0</td>\n",
       "      <td>11613</td>\n",
       "      <td>Pave</td>\n",
       "      <td>No Alley Access</td>\n",
       "      <td>IR2</td>\n",
       "      <td>Lvl</td>\n",
       "      <td>AllPub</td>\n",
       "      <td>Corner</td>\n",
       "      <td>Gtl</td>\n",
       "      <td>SawyerW</td>\n",
       "      <td>Norm</td>\n",
       "      <td>Norm</td>\n",
       "      <td>1Fam</td>\n",
       "      <td>2Story</td>\n",
       "      <td>6</td>\n",
       "      <td>5</td>\n",
       "      <td>1993</td>\n",
       "      <td>1997</td>\n",
       "      <td>Gable</td>\n",
       "      <td>CompShg</td>\n",
       "      <td>VinylSd</td>\n",
       "      <td>VinylSd</td>\n",
       "      <td>None</td>\n",
       "      <td>0.0</td>\n",
       "      <td>Gd</td>\n",
       "      <td>TA</td>\n",
       "      <td>PConc</td>\n",
       "      <td>Gd</td>\n",
       "      <td>TA</td>\n",
       "      <td>No</td>\n",
       "      <td>ALQ</td>\n",
       "      <td>480.0</td>\n",
       "      <td>Unf</td>\n",
       "      <td>0.0</td>\n",
       "      <td>384.0</td>\n",
       "      <td>864.0</td>\n",
       "      <td>GasA</td>\n",
       "      <td>Ex</td>\n",
       "      <td>Y</td>\n",
       "      <td>SBrkr</td>\n",
       "      <td>920</td>\n",
       "      <td>900</td>\n",
       "      <td>0</td>\n",
       "      <td>1820</td>\n",
       "      <td>0.0</td>\n",
       "      <td>0.0</td>\n",
       "      <td>2</td>\n",
       "      <td>1</td>\n",
       "      <td>3</td>\n",
       "      <td>1</td>\n",
       "      <td>Gd</td>\n",
       "      <td>7</td>\n",
       "      <td>Typ</td>\n",
       "      <td>0</td>\n",
       "      <td>No FirePlace</td>\n",
       "      <td>Attchd</td>\n",
       "      <td>1993.0</td>\n",
       "      <td>RFn</td>\n",
       "      <td>2.0</td>\n",
       "      <td>492.0</td>\n",
       "      <td>TA</td>\n",
       "      <td>TA</td>\n",
       "      <td>Y</td>\n",
       "      <td>144</td>\n",
       "      <td>85</td>\n",
       "      <td>0</td>\n",
       "      <td>0</td>\n",
       "      <td>0</td>\n",
       "      <td>0</td>\n",
       "      <td>No Pool</td>\n",
       "      <td>GdPrv</td>\n",
       "      <td>No MiscFeatures</td>\n",
       "      <td>0</td>\n",
       "      <td>5</td>\n",
       "      <td>2007</td>\n",
       "      <td>WD</td>\n",
       "      <td>Normal</td>\n",
       "      <td>2684.0</td>\n",
       "      <td>2.5</td>\n",
       "      <td>17</td>\n",
       "      <td>13</td>\n",
       "      <td>1</td>\n",
       "      <td>0</td>\n",
       "      <td>179550.0</td>\n",
       "    </tr>\n",
       "    <tr>\n",
       "      <th>1350</th>\n",
       "      <td>2811</td>\n",
       "      <td>20</td>\n",
       "      <td>RL</td>\n",
       "      <td>0.0</td>\n",
       "      <td>9535</td>\n",
       "      <td>Pave</td>\n",
       "      <td>No Alley Access</td>\n",
       "      <td>IR1</td>\n",
       "      <td>Lvl</td>\n",
       "      <td>AllPub</td>\n",
       "      <td>Inside</td>\n",
       "      <td>Gtl</td>\n",
       "      <td>Sawyer</td>\n",
       "      <td>Norm</td>\n",
       "      <td>Norm</td>\n",
       "      <td>1Fam</td>\n",
       "      <td>1Story</td>\n",
       "      <td>5</td>\n",
       "      <td>5</td>\n",
       "      <td>1967</td>\n",
       "      <td>1967</td>\n",
       "      <td>Gable</td>\n",
       "      <td>CompShg</td>\n",
       "      <td>HdBoard</td>\n",
       "      <td>HdBoard</td>\n",
       "      <td>BrkFace</td>\n",
       "      <td>450.0</td>\n",
       "      <td>TA</td>\n",
       "      <td>TA</td>\n",
       "      <td>CBlock</td>\n",
       "      <td>TA</td>\n",
       "      <td>TA</td>\n",
       "      <td>No</td>\n",
       "      <td>BLQ</td>\n",
       "      <td>194.0</td>\n",
       "      <td>LwQ</td>\n",
       "      <td>982.0</td>\n",
       "      <td>0.0</td>\n",
       "      <td>1176.0</td>\n",
       "      <td>GasA</td>\n",
       "      <td>TA</td>\n",
       "      <td>Y</td>\n",
       "      <td>SBrkr</td>\n",
       "      <td>1458</td>\n",
       "      <td>0</td>\n",
       "      <td>0</td>\n",
       "      <td>1458</td>\n",
       "      <td>1.0</td>\n",
       "      <td>0.0</td>\n",
       "      <td>1</td>\n",
       "      <td>1</td>\n",
       "      <td>3</td>\n",
       "      <td>1</td>\n",
       "      <td>TA</td>\n",
       "      <td>7</td>\n",
       "      <td>Typ</td>\n",
       "      <td>1</td>\n",
       "      <td>TA</td>\n",
       "      <td>Attchd</td>\n",
       "      <td>1967.0</td>\n",
       "      <td>Unf</td>\n",
       "      <td>2.0</td>\n",
       "      <td>512.0</td>\n",
       "      <td>TA</td>\n",
       "      <td>TA</td>\n",
       "      <td>Y</td>\n",
       "      <td>284</td>\n",
       "      <td>0</td>\n",
       "      <td>0</td>\n",
       "      <td>0</td>\n",
       "      <td>0</td>\n",
       "      <td>0</td>\n",
       "      <td>No Pool</td>\n",
       "      <td>MnPrv</td>\n",
       "      <td>No MiscFeatures</td>\n",
       "      <td>0</td>\n",
       "      <td>7</td>\n",
       "      <td>2006</td>\n",
       "      <td>WD</td>\n",
       "      <td>Normal</td>\n",
       "      <td>2634.0</td>\n",
       "      <td>2.5</td>\n",
       "      <td>43</td>\n",
       "      <td>43</td>\n",
       "      <td>1</td>\n",
       "      <td>0</td>\n",
       "      <td>135000.0</td>\n",
       "    </tr>\n",
       "    <tr>\n",
       "      <th>265</th>\n",
       "      <td>1726</td>\n",
       "      <td>60</td>\n",
       "      <td>RL</td>\n",
       "      <td>70.0</td>\n",
       "      <td>7703</td>\n",
       "      <td>Pave</td>\n",
       "      <td>No Alley Access</td>\n",
       "      <td>Reg</td>\n",
       "      <td>Lvl</td>\n",
       "      <td>AllPub</td>\n",
       "      <td>Inside</td>\n",
       "      <td>Gtl</td>\n",
       "      <td>SawyerW</td>\n",
       "      <td>Norm</td>\n",
       "      <td>Norm</td>\n",
       "      <td>1Fam</td>\n",
       "      <td>2Story</td>\n",
       "      <td>6</td>\n",
       "      <td>6</td>\n",
       "      <td>1992</td>\n",
       "      <td>1992</td>\n",
       "      <td>Gable</td>\n",
       "      <td>CompShg</td>\n",
       "      <td>HdBoard</td>\n",
       "      <td>HdBoard</td>\n",
       "      <td>None</td>\n",
       "      <td>0.0</td>\n",
       "      <td>Gd</td>\n",
       "      <td>Gd</td>\n",
       "      <td>PConc</td>\n",
       "      <td>Gd</td>\n",
       "      <td>Gd</td>\n",
       "      <td>No</td>\n",
       "      <td>GLQ</td>\n",
       "      <td>52.0</td>\n",
       "      <td>Rec</td>\n",
       "      <td>364.0</td>\n",
       "      <td>400.0</td>\n",
       "      <td>816.0</td>\n",
       "      <td>GasA</td>\n",
       "      <td>Ex</td>\n",
       "      <td>Y</td>\n",
       "      <td>SBrkr</td>\n",
       "      <td>833</td>\n",
       "      <td>897</td>\n",
       "      <td>0</td>\n",
       "      <td>1730</td>\n",
       "      <td>0.0</td>\n",
       "      <td>0.0</td>\n",
       "      <td>2</td>\n",
       "      <td>1</td>\n",
       "      <td>3</td>\n",
       "      <td>1</td>\n",
       "      <td>Gd</td>\n",
       "      <td>6</td>\n",
       "      <td>Typ</td>\n",
       "      <td>0</td>\n",
       "      <td>No FirePlace</td>\n",
       "      <td>Attchd</td>\n",
       "      <td>1992.0</td>\n",
       "      <td>RFn</td>\n",
       "      <td>2.0</td>\n",
       "      <td>528.0</td>\n",
       "      <td>TA</td>\n",
       "      <td>TA</td>\n",
       "      <td>Y</td>\n",
       "      <td>0</td>\n",
       "      <td>91</td>\n",
       "      <td>0</td>\n",
       "      <td>0</td>\n",
       "      <td>168</td>\n",
       "      <td>0</td>\n",
       "      <td>No Pool</td>\n",
       "      <td>No Fence</td>\n",
       "      <td>No MiscFeatures</td>\n",
       "      <td>0</td>\n",
       "      <td>11</td>\n",
       "      <td>2009</td>\n",
       "      <td>WD</td>\n",
       "      <td>Normal</td>\n",
       "      <td>2546.0</td>\n",
       "      <td>2.5</td>\n",
       "      <td>18</td>\n",
       "      <td>18</td>\n",
       "      <td>1</td>\n",
       "      <td>0</td>\n",
       "      <td>179550.0</td>\n",
       "    </tr>\n",
       "    <tr>\n",
       "      <th>330</th>\n",
       "      <td>1791</td>\n",
       "      <td>90</td>\n",
       "      <td>RL</td>\n",
       "      <td>81.0</td>\n",
       "      <td>9671</td>\n",
       "      <td>Pave</td>\n",
       "      <td>No Alley Access</td>\n",
       "      <td>Reg</td>\n",
       "      <td>Lvl</td>\n",
       "      <td>AllPub</td>\n",
       "      <td>Corner</td>\n",
       "      <td>Gtl</td>\n",
       "      <td>NAmes</td>\n",
       "      <td>Artery</td>\n",
       "      <td>Norm</td>\n",
       "      <td>Duplex</td>\n",
       "      <td>2Story</td>\n",
       "      <td>6</td>\n",
       "      <td>5</td>\n",
       "      <td>1969</td>\n",
       "      <td>1969</td>\n",
       "      <td>Gable</td>\n",
       "      <td>CompShg</td>\n",
       "      <td>MetalSd</td>\n",
       "      <td>MetalSd</td>\n",
       "      <td>Stone</td>\n",
       "      <td>480.0</td>\n",
       "      <td>TA</td>\n",
       "      <td>TA</td>\n",
       "      <td>CBlock</td>\n",
       "      <td>TA</td>\n",
       "      <td>TA</td>\n",
       "      <td>No</td>\n",
       "      <td>Unf</td>\n",
       "      <td>0.0</td>\n",
       "      <td>Unf</td>\n",
       "      <td>0.0</td>\n",
       "      <td>1248.0</td>\n",
       "      <td>1248.0</td>\n",
       "      <td>GasA</td>\n",
       "      <td>TA</td>\n",
       "      <td>Y</td>\n",
       "      <td>SBrkr</td>\n",
       "      <td>1248</td>\n",
       "      <td>1296</td>\n",
       "      <td>0</td>\n",
       "      <td>2544</td>\n",
       "      <td>0.0</td>\n",
       "      <td>0.0</td>\n",
       "      <td>2</td>\n",
       "      <td>2</td>\n",
       "      <td>6</td>\n",
       "      <td>2</td>\n",
       "      <td>TA</td>\n",
       "      <td>12</td>\n",
       "      <td>Typ</td>\n",
       "      <td>0</td>\n",
       "      <td>No FirePlace</td>\n",
       "      <td>Attchd</td>\n",
       "      <td>1969.0</td>\n",
       "      <td>RFn</td>\n",
       "      <td>3.0</td>\n",
       "      <td>907.0</td>\n",
       "      <td>TA</td>\n",
       "      <td>TA</td>\n",
       "      <td>Y</td>\n",
       "      <td>0</td>\n",
       "      <td>0</td>\n",
       "      <td>0</td>\n",
       "      <td>0</td>\n",
       "      <td>0</td>\n",
       "      <td>0</td>\n",
       "      <td>No Pool</td>\n",
       "      <td>No Fence</td>\n",
       "      <td>No MiscFeatures</td>\n",
       "      <td>0</td>\n",
       "      <td>8</td>\n",
       "      <td>2009</td>\n",
       "      <td>WD</td>\n",
       "      <td>Normal</td>\n",
       "      <td>3792.0</td>\n",
       "      <td>3.0</td>\n",
       "      <td>41</td>\n",
       "      <td>41</td>\n",
       "      <td>1</td>\n",
       "      <td>0</td>\n",
       "      <td>140000.0</td>\n",
       "    </tr>\n",
       "  </tbody>\n",
       "</table>\n",
       "</div>"
      ],
      "text/plain": [
       "        Id  MSSubClass MSZoning  LotFrontage  LotArea Street            Alley  \\\n",
       "338   1799          20       RL         60.0     7200   Pave  No Alley Access   \n",
       "897   2358          60       RL          0.0    11613   Pave  No Alley Access   \n",
       "1350  2811          20       RL          0.0     9535   Pave  No Alley Access   \n",
       "265   1726          60       RL         70.0     7703   Pave  No Alley Access   \n",
       "330   1791          90       RL         81.0     9671   Pave  No Alley Access   \n",
       "\n",
       "     LotShape LandContour Utilities LotConfig LandSlope Neighborhood  \\\n",
       "338       Reg         Lvl    AllPub    Corner       Gtl        NAmes   \n",
       "897       IR2         Lvl    AllPub    Corner       Gtl      SawyerW   \n",
       "1350      IR1         Lvl    AllPub    Inside       Gtl       Sawyer   \n",
       "265       Reg         Lvl    AllPub    Inside       Gtl      SawyerW   \n",
       "330       Reg         Lvl    AllPub    Corner       Gtl        NAmes   \n",
       "\n",
       "     Condition1 Condition2 BldgType HouseStyle  OverallQual  OverallCond  \\\n",
       "338        Norm       Norm     1Fam     1Story            5            7   \n",
       "897        Norm       Norm     1Fam     2Story            6            5   \n",
       "1350       Norm       Norm     1Fam     1Story            5            5   \n",
       "265        Norm       Norm     1Fam     2Story            6            6   \n",
       "330      Artery       Norm   Duplex     2Story            6            5   \n",
       "\n",
       "      YearBuilt  YearRemodAdd RoofStyle RoofMatl Exterior1st Exterior2nd  \\\n",
       "338        1952          1952     Gable  CompShg     MetalSd     MetalSd   \n",
       "897        1993          1997     Gable  CompShg     VinylSd     VinylSd   \n",
       "1350       1967          1967     Gable  CompShg     HdBoard     HdBoard   \n",
       "265        1992          1992     Gable  CompShg     HdBoard     HdBoard   \n",
       "330        1969          1969     Gable  CompShg     MetalSd     MetalSd   \n",
       "\n",
       "     MasVnrType  MasVnrArea ExterQual ExterCond Foundation BsmtQual BsmtCond  \\\n",
       "338        None         0.0        TA        Gd     CBlock       TA       Gd   \n",
       "897        None         0.0        Gd        TA      PConc       Gd       TA   \n",
       "1350    BrkFace       450.0        TA        TA     CBlock       TA       TA   \n",
       "265        None         0.0        Gd        Gd      PConc       Gd       Gd   \n",
       "330       Stone       480.0        TA        TA     CBlock       TA       TA   \n",
       "\n",
       "     BsmtExposure BsmtFinType1  BsmtFinSF1 BsmtFinType2  BsmtFinSF2  \\\n",
       "338            No          ALQ       630.0          BLQ       102.0   \n",
       "897            No          ALQ       480.0          Unf         0.0   \n",
       "1350           No          BLQ       194.0          LwQ       982.0   \n",
       "265            No          GLQ        52.0          Rec       364.0   \n",
       "330            No          Unf         0.0          Unf         0.0   \n",
       "\n",
       "      BsmtUnfSF  TotalBsmtSF Heating HeatingQC CentralAir Electrical  \\\n",
       "338         0.0        732.0    GasA        TA          Y      SBrkr   \n",
       "897       384.0        864.0    GasA        Ex          Y      SBrkr   \n",
       "1350        0.0       1176.0    GasA        TA          Y      SBrkr   \n",
       "265       400.0        816.0    GasA        Ex          Y      SBrkr   \n",
       "330      1248.0       1248.0    GasA        TA          Y      SBrkr   \n",
       "\n",
       "      1stFlrSF  2ndFlrSF  LowQualFinSF  GrLivArea  BsmtFullBath  BsmtHalfBath  \\\n",
       "338        732         0             0        732           1.0           0.0   \n",
       "897        920       900             0       1820           0.0           0.0   \n",
       "1350      1458         0             0       1458           1.0           0.0   \n",
       "265        833       897             0       1730           0.0           0.0   \n",
       "330       1248      1296             0       2544           0.0           0.0   \n",
       "\n",
       "      FullBath  HalfBath  BedroomAbvGr  KitchenAbvGr KitchenQual  \\\n",
       "338          1         0             2             1          TA   \n",
       "897          2         1             3             1          Gd   \n",
       "1350         1         1             3             1          TA   \n",
       "265          2         1             3             1          Gd   \n",
       "330          2         2             6             2          TA   \n",
       "\n",
       "      TotRmsAbvGrd Functional  Fireplaces   FireplaceQu GarageType  \\\n",
       "338              4        Typ           0  No FirePlace     Detchd   \n",
       "897              7        Typ           0  No FirePlace     Attchd   \n",
       "1350             7        Typ           1            TA     Attchd   \n",
       "265              6        Typ           0  No FirePlace     Attchd   \n",
       "330             12        Typ           0  No FirePlace     Attchd   \n",
       "\n",
       "      GarageYrBlt GarageFinish  GarageCars  GarageArea GarageQual GarageCond  \\\n",
       "338        1952.0          Unf         1.0       240.0         TA         TA   \n",
       "897        1993.0          RFn         2.0       492.0         TA         TA   \n",
       "1350       1967.0          Unf         2.0       512.0         TA         TA   \n",
       "265        1992.0          RFn         2.0       528.0         TA         TA   \n",
       "330        1969.0          RFn         3.0       907.0         TA         TA   \n",
       "\n",
       "     PavedDrive  WoodDeckSF  OpenPorchSF  EnclosedPorch  3SsnPorch  \\\n",
       "338           Y           0           68              0          0   \n",
       "897           Y         144           85              0          0   \n",
       "1350          Y         284            0              0          0   \n",
       "265           Y           0           91              0          0   \n",
       "330           Y           0            0              0          0   \n",
       "\n",
       "      ScreenPorch  PoolArea   PoolQC     Fence      MiscFeature  MiscVal  \\\n",
       "338             0         0  No Pool  No Fence  No MiscFeatures        0   \n",
       "897             0         0  No Pool     GdPrv  No MiscFeatures        0   \n",
       "1350            0         0  No Pool     MnPrv  No MiscFeatures        0   \n",
       "265           168         0  No Pool  No Fence  No MiscFeatures        0   \n",
       "330             0         0  No Pool  No Fence  No MiscFeatures        0   \n",
       "\n",
       "      MoSold  YrSold SaleType SaleCondition  Total_Area  Total_Bathrooms  \\\n",
       "338        9    2009       WD        Normal      1464.0              2.0   \n",
       "897        5    2007       WD        Normal      2684.0              2.5   \n",
       "1350       7    2006       WD        Normal      2634.0              2.5   \n",
       "265       11    2009       WD        Normal      2546.0              2.5   \n",
       "330        8    2009       WD        Normal      3792.0              3.0   \n",
       "\n",
       "      Age_of_Property  Age_of_Renovation  HasGarage  HasPool  MedianHousePrice  \n",
       "338                58                 58          1        0          140000.0  \n",
       "897                17                 13          1        0          179550.0  \n",
       "1350               43                 43          1        0          135000.0  \n",
       "265                18                 18          1        0          179550.0  \n",
       "330                41                 41          1        0          140000.0  "
      ]
     },
     "execution_count": 318,
     "metadata": {},
     "output_type": "execute_result"
    }
   ],
   "source": [
    "df_test = pd.merge(df_test, neighborhood_median_price, on='Neighborhood', how='left')\n",
    "df_test.sample(5)"
   ]
  },
  {
   "cell_type": "code",
   "execution_count": null,
   "id": "a1c420a0-4a20-4915-b12b-ab3a511d5900",
   "metadata": {},
   "outputs": [],
   "source": []
  },
  {
   "cell_type": "code",
   "execution_count": 319,
   "id": "b05ef20a-a203-4a73-89ab-a326dd13fe1e",
   "metadata": {
    "tags": []
   },
   "outputs": [],
   "source": [
    "df_test['BsmtFinType1'] = df_test['BsmtFinType1'].map(bsmt_fintype_mapping)\n",
    "df_test['BsmtFinType2'] = df_test['BsmtFinType2'].map(bsmt_fintype_mapping)"
   ]
  },
  {
   "cell_type": "code",
   "execution_count": 320,
   "id": "191c2014-2168-4ba7-880a-b1861fecb67a",
   "metadata": {
    "tags": []
   },
   "outputs": [],
   "source": [
    "df_test['BsmtFinGrade'] = (df_test['BsmtFinType1'] * df_test.BsmtFinSF1 / df_test.TotalBsmtSF) + \\\n",
    "                            (df_test['BsmtFinType2'] * df_test.BsmtFinSF2 / df_test.TotalBsmtSF) + \\\n",
    "                            (df_test['BsmtFinType1'] * df_test.BsmtUnfSF / df_test.TotalBsmtSF)"
   ]
  },
  {
   "cell_type": "code",
   "execution_count": 321,
   "id": "da657713-4da7-4464-93ea-8cb65011f61d",
   "metadata": {
    "tags": []
   },
   "outputs": [],
   "source": [
    "df_test['BsmtFinGrade'].fillna(0.0, inplace=True)"
   ]
  },
  {
   "cell_type": "code",
   "execution_count": 322,
   "id": "1bca90d2-8b54-4e2c-8f11-657f07b7652b",
   "metadata": {
    "tags": []
   },
   "outputs": [],
   "source": [
    "df_test['BsmtQual'] = df_test['BsmtQual'].map(bsmt_qual_mapping)\n",
    "df_test['BsmtCond'] = df_test['BsmtCond'].map(bsmt_cond_mapping)\n",
    "df_test['BsmtExposure'] = df_test['BsmtExposure'].map(bsmt_exposure_mapping)"
   ]
  },
  {
   "cell_type": "code",
   "execution_count": 323,
   "id": "8c392c28-f922-4657-89c1-1337f40313ea",
   "metadata": {
    "tags": []
   },
   "outputs": [],
   "source": [
    "df_test['BsmtOverallGrade'] = df_test['BsmtQual'] + df_test['BsmtCond'] + df_test['BsmtExposure'] + df_test['BsmtFinGrade']"
   ]
  },
  {
   "cell_type": "code",
   "execution_count": 324,
   "id": "37b4af95-3e6a-46ed-b53c-8579ff5dd021",
   "metadata": {
    "tags": []
   },
   "outputs": [],
   "source": [
    "terrace_columns = ['WoodDeckSF', 'OpenPorchSF', 'EnclosedPorch', '3SsnPorch', 'ScreenPorch']\n",
    "terrace_weights = [1, 1, 2, 2, 2]\n",
    "\n",
    "df_test['Terrace_Grade'] = (df_test[terrace_columns[0]] * terrace_weights[0] +\n",
    "                            df_test[terrace_columns[1]] * terrace_weights[1] +\n",
    "                             df_test[terrace_columns[2]] * terrace_weights[2] +\n",
    "                             df_test[terrace_columns[3]] * terrace_weights[3] +\n",
    "                             df_test[terrace_columns[4]] * terrace_weights[4])"
   ]
  },
  {
   "cell_type": "code",
   "execution_count": 325,
   "id": "5aed5343-5ae4-4048-85a9-cb5b2229a5a7",
   "metadata": {
    "tags": []
   },
   "outputs": [],
   "source": [
    "columns_to_use_v1_test = ['BsmtOverallGrade', 'Terrace_Grade', 'ExterCond', 'KitchenQual', 'OverallQual', 'OverallCond','LotArea', \n",
    "                     'Total_Area', 'Total_Bathrooms', 'GarageArea', 'TotRmsAbvGrd','Age_of_Property', 'Age_of_Renovation', \n",
    "                     'MoSold', 'YrSold', 'SaleCondition','MSZoning', 'MedianHousePrice', 'Condition1', 'HouseStyle']"
   ]
  },
  {
   "cell_type": "code",
   "execution_count": 326,
   "id": "b3eee94e-e2e0-4030-90fe-eddcdc51dc6a",
   "metadata": {
    "tags": []
   },
   "outputs": [],
   "source": [
    "df_test_2 = df_test[columns_to_use_v1_test]"
   ]
  },
  {
   "cell_type": "code",
   "execution_count": 327,
   "id": "e90c3045-ac6f-4cca-856b-47619b9f31ee",
   "metadata": {
    "tags": []
   },
   "outputs": [],
   "source": [
    "df_encoded_test = pd.get_dummies(df_test_2[nominal_categories], columns=nominal_categories)"
   ]
  },
  {
   "cell_type": "code",
   "execution_count": 328,
   "id": "0771086f-0623-437b-b135-2c6e3e49bedb",
   "metadata": {
    "tags": []
   },
   "outputs": [],
   "source": [
    "df_test_2.drop(columns=nominal_categories, inplace=True)"
   ]
  },
  {
   "cell_type": "code",
   "execution_count": 329,
   "id": "73ea2cb3-5c78-4e12-90e5-043d4cfd5b70",
   "metadata": {
    "tags": []
   },
   "outputs": [],
   "source": [
    "df_test_3 = pd.concat([df_test_2, df_encoded_test], axis=1)"
   ]
  },
  {
   "cell_type": "code",
   "execution_count": 330,
   "id": "2cec3f03-9193-4ab3-9e51-061c4c42f1f5",
   "metadata": {
    "tags": []
   },
   "outputs": [],
   "source": [
    "df_test_3['ExterCond'] = df_test_3['ExterCond'].map(ordinal_mapping)"
   ]
  },
  {
   "cell_type": "code",
   "execution_count": 331,
   "id": "cd76d441-1429-4c17-94b4-88e2c65c12cd",
   "metadata": {
    "tags": []
   },
   "outputs": [],
   "source": [
    "df_test_3['KitchenQual'] = df_test_3['KitchenQual'].map(ordinal_mapping)"
   ]
  },
  {
   "cell_type": "code",
   "execution_count": 332,
   "id": "d9ca4217-efaa-47f0-9292-43418c8644db",
   "metadata": {
    "tags": []
   },
   "outputs": [],
   "source": [
    "scaler = StandardScaler()\n",
    "X_test = pd.DataFrame(scaler.fit_transform(df_test_3), columns=df_test_3.columns)"
   ]
  },
  {
   "cell_type": "code",
   "execution_count": 335,
   "id": "29f51ea3-3de3-49ca-8e49-85c4fe9354aa",
   "metadata": {
    "scrolled": true,
    "tags": []
   },
   "outputs": [
    {
     "data": {
      "text/plain": [
       "Total_Bathrooms          2\n",
       "KitchenQual              1\n",
       "Total_Area               1\n",
       "GarageArea               1\n",
       "BsmtOverallGrade         0\n",
       "HouseStyle_2.5Unf        0\n",
       "Condition1_RRAe          0\n",
       "Condition1_RRAn          0\n",
       "Condition1_RRNe          0\n",
       "Condition1_RRNn          0\n",
       "HouseStyle_1.5Fin        0\n",
       "HouseStyle_1.5Unf        0\n",
       "HouseStyle_1Story        0\n",
       "HouseStyle_SLvl          0\n",
       "HouseStyle_2Story        0\n",
       "HouseStyle_SFoyer        0\n",
       "Condition1_PosA          0\n",
       "SaleCondition_Abnorml    0\n",
       "SaleCondition_AdjLand    0\n",
       "SaleCondition_Alloca     0\n",
       "SaleCondition_Family     0\n",
       "SaleCondition_Normal     0\n",
       "Condition1_PosN          0\n",
       "Condition1_Artery        0\n",
       "Condition1_Norm          0\n",
       "MoSold                   0\n",
       "ExterCond                0\n",
       "OverallQual              0\n",
       "OverallCond              0\n",
       "LotArea                  0\n",
       "TotRmsAbvGrd             0\n",
       "Age_of_Property          0\n",
       "Age_of_Renovation        0\n",
       "YrSold                   0\n",
       "Condition1_Feedr         0\n",
       "MedianHousePrice         0\n",
       "MSZoning_C (all)         0\n",
       "MSZoning_FV              0\n",
       "MSZoning_RH              0\n",
       "MSZoning_RL              0\n",
       "MSZoning_RM              0\n",
       "Terrace_Grade            0\n",
       "SaleCondition_Partial    0\n",
       "dtype: int64"
      ]
     },
     "execution_count": 335,
     "metadata": {},
     "output_type": "execute_result"
    }
   ],
   "source": [
    "X_test.isnull().sum().sort_values(ascending=False)"
   ]
  },
  {
   "cell_type": "code",
   "execution_count": 337,
   "id": "96a18637-84bd-467e-993f-89974a671987",
   "metadata": {
    "tags": []
   },
   "outputs": [],
   "source": [
    "X_test = X_test.fillna(X_train.mean())"
   ]
  },
  {
   "cell_type": "code",
   "execution_count": null,
   "id": "f78513de-9838-4fe8-a337-ffc8023c53a7",
   "metadata": {},
   "outputs": [],
   "source": []
  },
  {
   "cell_type": "code",
   "execution_count": 333,
   "id": "9cf0a530-6924-44b8-ac9b-d068e844628e",
   "metadata": {
    "scrolled": true,
    "tags": []
   },
   "outputs": [
    {
     "data": {
      "text/html": [
       "<div>\n",
       "<style scoped>\n",
       "    .dataframe tbody tr th:only-of-type {\n",
       "        vertical-align: middle;\n",
       "    }\n",
       "\n",
       "    .dataframe tbody tr th {\n",
       "        vertical-align: top;\n",
       "    }\n",
       "\n",
       "    .dataframe thead th {\n",
       "        text-align: right;\n",
       "    }\n",
       "</style>\n",
       "<table border=\"1\" class=\"dataframe\">\n",
       "  <thead>\n",
       "    <tr style=\"text-align: right;\">\n",
       "      <th></th>\n",
       "      <th>BsmtOverallGrade</th>\n",
       "      <th>Terrace_Grade</th>\n",
       "      <th>ExterCond</th>\n",
       "      <th>KitchenQual</th>\n",
       "      <th>OverallQual</th>\n",
       "      <th>OverallCond</th>\n",
       "      <th>LotArea</th>\n",
       "      <th>Total_Area</th>\n",
       "      <th>Total_Bathrooms</th>\n",
       "      <th>GarageArea</th>\n",
       "      <th>TotRmsAbvGrd</th>\n",
       "      <th>Age_of_Property</th>\n",
       "      <th>Age_of_Renovation</th>\n",
       "      <th>MoSold</th>\n",
       "      <th>YrSold</th>\n",
       "      <th>MedianHousePrice</th>\n",
       "      <th>MSZoning_C (all)</th>\n",
       "      <th>MSZoning_FV</th>\n",
       "      <th>MSZoning_RH</th>\n",
       "      <th>MSZoning_RL</th>\n",
       "      <th>MSZoning_RM</th>\n",
       "      <th>Condition1_Artery</th>\n",
       "      <th>Condition1_Feedr</th>\n",
       "      <th>Condition1_Norm</th>\n",
       "      <th>Condition1_PosA</th>\n",
       "      <th>Condition1_PosN</th>\n",
       "      <th>Condition1_RRAe</th>\n",
       "      <th>Condition1_RRAn</th>\n",
       "      <th>Condition1_RRNe</th>\n",
       "      <th>Condition1_RRNn</th>\n",
       "      <th>HouseStyle_1.5Fin</th>\n",
       "      <th>HouseStyle_1.5Unf</th>\n",
       "      <th>HouseStyle_1Story</th>\n",
       "      <th>HouseStyle_2.5Unf</th>\n",
       "      <th>HouseStyle_2Story</th>\n",
       "      <th>HouseStyle_SFoyer</th>\n",
       "      <th>HouseStyle_SLvl</th>\n",
       "      <th>SaleCondition_Abnorml</th>\n",
       "      <th>SaleCondition_AdjLand</th>\n",
       "      <th>SaleCondition_Alloca</th>\n",
       "      <th>SaleCondition_Family</th>\n",
       "      <th>SaleCondition_Normal</th>\n",
       "      <th>SaleCondition_Partial</th>\n",
       "    </tr>\n",
       "  </thead>\n",
       "  <tbody>\n",
       "    <tr>\n",
       "      <th>0</th>\n",
       "      <td>-0.468902</td>\n",
       "      <td>0.701159</td>\n",
       "      <td>-0.223518</td>\n",
       "      <td>-0.772410</td>\n",
       "      <td>-0.751101</td>\n",
       "      <td>0.400766</td>\n",
       "      <td>0.363929</td>\n",
       "      <td>-0.954527</td>\n",
       "      <td>-1.475814</td>\n",
       "      <td>1.185538</td>\n",
       "      <td>-0.918335</td>\n",
       "      <td>0.340945</td>\n",
       "      <td>1.072885</td>\n",
       "      <td>-0.038281</td>\n",
       "      <td>1.713905</td>\n",
       "      <td>-0.580866</td>\n",
       "      <td>-0.101921</td>\n",
       "      <td>-0.231148</td>\n",
       "      <td>12.037442</td>\n",
       "      <td>-1.796938</td>\n",
       "      <td>-0.445926</td>\n",
       "      <td>-0.176339</td>\n",
       "      <td>4.071647</td>\n",
       "      <td>-2.452432</td>\n",
       "      <td>-0.091066</td>\n",
       "      <td>-0.117892</td>\n",
       "      <td>-0.108578</td>\n",
       "      <td>-0.129324</td>\n",
       "      <td>-0.052432</td>\n",
       "      <td>-0.052432</td>\n",
       "      <td>-0.350958</td>\n",
       "      <td>-0.058641</td>\n",
       "      <td>0.978974</td>\n",
       "      <td>-0.094817</td>\n",
       "      <td>-0.643242</td>\n",
       "      <td>-0.18043</td>\n",
       "      <td>-0.212436</td>\n",
       "      <td>-0.254879</td>\n",
       "      <td>-0.074253</td>\n",
       "      <td>-0.091066</td>\n",
       "      <td>-0.134699</td>\n",
       "      <td>0.460211</td>\n",
       "      <td>-0.299365</td>\n",
       "    </tr>\n",
       "    <tr>\n",
       "      <th>1</th>\n",
       "      <td>0.125412</td>\n",
       "      <td>0.926734</td>\n",
       "      <td>-0.223518</td>\n",
       "      <td>0.741264</td>\n",
       "      <td>-0.054877</td>\n",
       "      <td>0.400766</td>\n",
       "      <td>0.897861</td>\n",
       "      <td>0.163926</td>\n",
       "      <td>-0.874006</td>\n",
       "      <td>-0.740959</td>\n",
       "      <td>-0.255371</td>\n",
       "      <td>0.439695</td>\n",
       "      <td>1.214908</td>\n",
       "      <td>-0.038281</td>\n",
       "      <td>1.713905</td>\n",
       "      <td>-0.580866</td>\n",
       "      <td>-0.101921</td>\n",
       "      <td>-0.231148</td>\n",
       "      <td>-0.083074</td>\n",
       "      <td>0.556502</td>\n",
       "      <td>-0.445926</td>\n",
       "      <td>-0.176339</td>\n",
       "      <td>-0.245601</td>\n",
       "      <td>0.407758</td>\n",
       "      <td>-0.091066</td>\n",
       "      <td>-0.117892</td>\n",
       "      <td>-0.108578</td>\n",
       "      <td>-0.129324</td>\n",
       "      <td>-0.052432</td>\n",
       "      <td>-0.052432</td>\n",
       "      <td>-0.350958</td>\n",
       "      <td>-0.058641</td>\n",
       "      <td>0.978974</td>\n",
       "      <td>-0.094817</td>\n",
       "      <td>-0.643242</td>\n",
       "      <td>-0.18043</td>\n",
       "      <td>-0.212436</td>\n",
       "      <td>-0.254879</td>\n",
       "      <td>-0.074253</td>\n",
       "      <td>-0.091066</td>\n",
       "      <td>-0.134699</td>\n",
       "      <td>0.460211</td>\n",
       "      <td>-0.299365</td>\n",
       "    </tr>\n",
       "    <tr>\n",
       "      <th>2</th>\n",
       "      <td>0.674873</td>\n",
       "      <td>0.084278</td>\n",
       "      <td>-0.223518</td>\n",
       "      <td>-0.772410</td>\n",
       "      <td>-0.751101</td>\n",
       "      <td>-0.497418</td>\n",
       "      <td>0.809646</td>\n",
       "      <td>0.035558</td>\n",
       "      <td>0.329611</td>\n",
       "      <td>0.042545</td>\n",
       "      <td>-0.255371</td>\n",
       "      <td>-0.844059</td>\n",
       "      <td>-0.678742</td>\n",
       "      <td>-1.140614</td>\n",
       "      <td>1.713905</td>\n",
       "      <td>0.135618</td>\n",
       "      <td>-0.101921</td>\n",
       "      <td>-0.231148</td>\n",
       "      <td>-0.083074</td>\n",
       "      <td>0.556502</td>\n",
       "      <td>-0.445926</td>\n",
       "      <td>-0.176339</td>\n",
       "      <td>-0.245601</td>\n",
       "      <td>0.407758</td>\n",
       "      <td>-0.091066</td>\n",
       "      <td>-0.117892</td>\n",
       "      <td>-0.108578</td>\n",
       "      <td>-0.129324</td>\n",
       "      <td>-0.052432</td>\n",
       "      <td>-0.052432</td>\n",
       "      <td>-0.350958</td>\n",
       "      <td>-0.058641</td>\n",
       "      <td>-1.021478</td>\n",
       "      <td>-0.094817</td>\n",
       "      <td>1.554626</td>\n",
       "      <td>-0.18043</td>\n",
       "      <td>-0.212436</td>\n",
       "      <td>-0.254879</td>\n",
       "      <td>-0.074253</td>\n",
       "      <td>-0.091066</td>\n",
       "      <td>-0.134699</td>\n",
       "      <td>0.460211</td>\n",
       "      <td>-0.299365</td>\n",
       "    </tr>\n",
       "    <tr>\n",
       "      <th>3</th>\n",
       "      <td>0.400142</td>\n",
       "      <td>0.774816</td>\n",
       "      <td>-0.223518</td>\n",
       "      <td>0.741264</td>\n",
       "      <td>-0.054877</td>\n",
       "      <td>0.400766</td>\n",
       "      <td>0.032064</td>\n",
       "      <td>0.001242</td>\n",
       "      <td>0.329611</td>\n",
       "      <td>-0.012761</td>\n",
       "      <td>0.407593</td>\n",
       "      <td>-0.876976</td>\n",
       "      <td>-0.678742</td>\n",
       "      <td>-0.038281</td>\n",
       "      <td>1.713905</td>\n",
       "      <td>0.135618</td>\n",
       "      <td>-0.101921</td>\n",
       "      <td>-0.231148</td>\n",
       "      <td>-0.083074</td>\n",
       "      <td>0.556502</td>\n",
       "      <td>-0.445926</td>\n",
       "      <td>-0.176339</td>\n",
       "      <td>-0.245601</td>\n",
       "      <td>0.407758</td>\n",
       "      <td>-0.091066</td>\n",
       "      <td>-0.117892</td>\n",
       "      <td>-0.108578</td>\n",
       "      <td>-0.129324</td>\n",
       "      <td>-0.052432</td>\n",
       "      <td>-0.052432</td>\n",
       "      <td>-0.350958</td>\n",
       "      <td>-0.058641</td>\n",
       "      <td>-1.021478</td>\n",
       "      <td>-0.094817</td>\n",
       "      <td>1.554626</td>\n",
       "      <td>-0.18043</td>\n",
       "      <td>-0.212436</td>\n",
       "      <td>-0.254879</td>\n",
       "      <td>-0.074253</td>\n",
       "      <td>-0.091066</td>\n",
       "      <td>-0.134699</td>\n",
       "      <td>0.460211</td>\n",
       "      <td>-0.299365</td>\n",
       "    </tr>\n",
       "    <tr>\n",
       "      <th>4</th>\n",
       "      <td>0.400142</td>\n",
       "      <td>0.655123</td>\n",
       "      <td>-0.223518</td>\n",
       "      <td>0.741264</td>\n",
       "      <td>1.337571</td>\n",
       "      <td>-0.497418</td>\n",
       "      <td>-0.971808</td>\n",
       "      <td>0.039371</td>\n",
       "      <td>-0.272198</td>\n",
       "      <td>0.153157</td>\n",
       "      <td>-0.918335</td>\n",
       "      <td>-0.679475</td>\n",
       "      <td>-0.394694</td>\n",
       "      <td>-1.875504</td>\n",
       "      <td>1.713905</td>\n",
       "      <td>1.830714</td>\n",
       "      <td>-0.101921</td>\n",
       "      <td>-0.231148</td>\n",
       "      <td>-0.083074</td>\n",
       "      <td>0.556502</td>\n",
       "      <td>-0.445926</td>\n",
       "      <td>-0.176339</td>\n",
       "      <td>-0.245601</td>\n",
       "      <td>0.407758</td>\n",
       "      <td>-0.091066</td>\n",
       "      <td>-0.117892</td>\n",
       "      <td>-0.108578</td>\n",
       "      <td>-0.129324</td>\n",
       "      <td>-0.052432</td>\n",
       "      <td>-0.052432</td>\n",
       "      <td>-0.350958</td>\n",
       "      <td>-0.058641</td>\n",
       "      <td>0.978974</td>\n",
       "      <td>-0.094817</td>\n",
       "      <td>-0.643242</td>\n",
       "      <td>-0.18043</td>\n",
       "      <td>-0.212436</td>\n",
       "      <td>-0.254879</td>\n",
       "      <td>-0.074253</td>\n",
       "      <td>-0.091066</td>\n",
       "      <td>-0.134699</td>\n",
       "      <td>0.460211</td>\n",
       "      <td>-0.299365</td>\n",
       "    </tr>\n",
       "  </tbody>\n",
       "</table>\n",
       "</div>"
      ],
      "text/plain": [
       "   BsmtOverallGrade  Terrace_Grade  ExterCond  KitchenQual  OverallQual  \\\n",
       "0         -0.468902       0.701159  -0.223518    -0.772410    -0.751101   \n",
       "1          0.125412       0.926734  -0.223518     0.741264    -0.054877   \n",
       "2          0.674873       0.084278  -0.223518    -0.772410    -0.751101   \n",
       "3          0.400142       0.774816  -0.223518     0.741264    -0.054877   \n",
       "4          0.400142       0.655123  -0.223518     0.741264     1.337571   \n",
       "\n",
       "   OverallCond   LotArea  Total_Area  Total_Bathrooms  GarageArea  \\\n",
       "0     0.400766  0.363929   -0.954527        -1.475814    1.185538   \n",
       "1     0.400766  0.897861    0.163926        -0.874006   -0.740959   \n",
       "2    -0.497418  0.809646    0.035558         0.329611    0.042545   \n",
       "3     0.400766  0.032064    0.001242         0.329611   -0.012761   \n",
       "4    -0.497418 -0.971808    0.039371        -0.272198    0.153157   \n",
       "\n",
       "   TotRmsAbvGrd  Age_of_Property  Age_of_Renovation    MoSold    YrSold  \\\n",
       "0     -0.918335         0.340945           1.072885 -0.038281  1.713905   \n",
       "1     -0.255371         0.439695           1.214908 -0.038281  1.713905   \n",
       "2     -0.255371        -0.844059          -0.678742 -1.140614  1.713905   \n",
       "3      0.407593        -0.876976          -0.678742 -0.038281  1.713905   \n",
       "4     -0.918335        -0.679475          -0.394694 -1.875504  1.713905   \n",
       "\n",
       "   MedianHousePrice  MSZoning_C (all)  MSZoning_FV  MSZoning_RH  MSZoning_RL  \\\n",
       "0         -0.580866         -0.101921    -0.231148    12.037442    -1.796938   \n",
       "1         -0.580866         -0.101921    -0.231148    -0.083074     0.556502   \n",
       "2          0.135618         -0.101921    -0.231148    -0.083074     0.556502   \n",
       "3          0.135618         -0.101921    -0.231148    -0.083074     0.556502   \n",
       "4          1.830714         -0.101921    -0.231148    -0.083074     0.556502   \n",
       "\n",
       "   MSZoning_RM  Condition1_Artery  Condition1_Feedr  Condition1_Norm  \\\n",
       "0    -0.445926          -0.176339          4.071647        -2.452432   \n",
       "1    -0.445926          -0.176339         -0.245601         0.407758   \n",
       "2    -0.445926          -0.176339         -0.245601         0.407758   \n",
       "3    -0.445926          -0.176339         -0.245601         0.407758   \n",
       "4    -0.445926          -0.176339         -0.245601         0.407758   \n",
       "\n",
       "   Condition1_PosA  Condition1_PosN  Condition1_RRAe  Condition1_RRAn  \\\n",
       "0        -0.091066        -0.117892        -0.108578        -0.129324   \n",
       "1        -0.091066        -0.117892        -0.108578        -0.129324   \n",
       "2        -0.091066        -0.117892        -0.108578        -0.129324   \n",
       "3        -0.091066        -0.117892        -0.108578        -0.129324   \n",
       "4        -0.091066        -0.117892        -0.108578        -0.129324   \n",
       "\n",
       "   Condition1_RRNe  Condition1_RRNn  HouseStyle_1.5Fin  HouseStyle_1.5Unf  \\\n",
       "0        -0.052432        -0.052432          -0.350958          -0.058641   \n",
       "1        -0.052432        -0.052432          -0.350958          -0.058641   \n",
       "2        -0.052432        -0.052432          -0.350958          -0.058641   \n",
       "3        -0.052432        -0.052432          -0.350958          -0.058641   \n",
       "4        -0.052432        -0.052432          -0.350958          -0.058641   \n",
       "\n",
       "   HouseStyle_1Story  HouseStyle_2.5Unf  HouseStyle_2Story  HouseStyle_SFoyer  \\\n",
       "0           0.978974          -0.094817          -0.643242           -0.18043   \n",
       "1           0.978974          -0.094817          -0.643242           -0.18043   \n",
       "2          -1.021478          -0.094817           1.554626           -0.18043   \n",
       "3          -1.021478          -0.094817           1.554626           -0.18043   \n",
       "4           0.978974          -0.094817          -0.643242           -0.18043   \n",
       "\n",
       "   HouseStyle_SLvl  SaleCondition_Abnorml  SaleCondition_AdjLand  \\\n",
       "0        -0.212436              -0.254879              -0.074253   \n",
       "1        -0.212436              -0.254879              -0.074253   \n",
       "2        -0.212436              -0.254879              -0.074253   \n",
       "3        -0.212436              -0.254879              -0.074253   \n",
       "4        -0.212436              -0.254879              -0.074253   \n",
       "\n",
       "   SaleCondition_Alloca  SaleCondition_Family  SaleCondition_Normal  \\\n",
       "0             -0.091066             -0.134699              0.460211   \n",
       "1             -0.091066             -0.134699              0.460211   \n",
       "2             -0.091066             -0.134699              0.460211   \n",
       "3             -0.091066             -0.134699              0.460211   \n",
       "4             -0.091066             -0.134699              0.460211   \n",
       "\n",
       "   SaleCondition_Partial  \n",
       "0              -0.299365  \n",
       "1              -0.299365  \n",
       "2              -0.299365  \n",
       "3              -0.299365  \n",
       "4              -0.299365  "
      ]
     },
     "execution_count": 333,
     "metadata": {},
     "output_type": "execute_result"
    }
   ],
   "source": [
    "X_test.head()"
   ]
  },
  {
   "cell_type": "code",
   "execution_count": 338,
   "id": "206b65d4-1f94-4e56-a606-9a91ac803010",
   "metadata": {
    "tags": []
   },
   "outputs": [],
   "source": [
    "y_pred = model.predict(X_test)"
   ]
  },
  {
   "cell_type": "code",
   "execution_count": 346,
   "id": "10fac380-2262-4fbe-a4d3-07aebbbc11b6",
   "metadata": {
    "tags": []
   },
   "outputs": [
    {
     "data": {
      "text/plain": [
       "array([-1.72973182e+10, -3.38040664e+08, -3.38040664e+08, ...,\n",
       "       -3.71353394e+08, -3.38040664e+08, -3.38040663e+08])"
      ]
     },
     "execution_count": 346,
     "metadata": {},
     "output_type": "execute_result"
    }
   ],
   "source": [
    "y_pred"
   ]
  },
  {
   "cell_type": "code",
   "execution_count": 347,
   "id": "39bc77fe-0f1e-4465-9ebf-6ead08cdd989",
   "metadata": {
    "tags": []
   },
   "outputs": [
    {
     "ename": "ValueError",
     "evalue": "non-broadcastable output operand with shape (1459,1) doesn't match the broadcast shape (1459,43)",
     "output_type": "error",
     "traceback": [
      "\u001b[1;31m---------------------------------------------------------------------------\u001b[0m",
      "\u001b[1;31mValueError\u001b[0m                                Traceback (most recent call last)",
      "Cell \u001b[1;32mIn[347], line 1\u001b[0m\n\u001b[1;32m----> 1\u001b[0m predicted_prices \u001b[38;5;241m=\u001b[39m \u001b[43mscaler\u001b[49m\u001b[38;5;241;43m.\u001b[39;49m\u001b[43minverse_transform\u001b[49m\u001b[43m(\u001b[49m\u001b[43my_pred\u001b[49m\u001b[38;5;241;43m.\u001b[39;49m\u001b[43mreshape\u001b[49m\u001b[43m(\u001b[49m\u001b[38;5;241;43m-\u001b[39;49m\u001b[38;5;241;43m1\u001b[39;49m\u001b[43m,\u001b[49m\u001b[38;5;241;43m1\u001b[39;49m\u001b[43m)\u001b[49m\u001b[43m)\u001b[49m\n\u001b[0;32m      2\u001b[0m predicted_prices\n",
      "File \u001b[1;32m~\\anaconda3\\envs\\techpro\\lib\\site-packages\\sklearn\\preprocessing\\_data.py:1066\u001b[0m, in \u001b[0;36mStandardScaler.inverse_transform\u001b[1;34m(self, X, copy)\u001b[0m\n\u001b[0;32m   1064\u001b[0m \u001b[38;5;28;01melse\u001b[39;00m:\n\u001b[0;32m   1065\u001b[0m     \u001b[38;5;28;01mif\u001b[39;00m \u001b[38;5;28mself\u001b[39m\u001b[38;5;241m.\u001b[39mwith_std:\n\u001b[1;32m-> 1066\u001b[0m         X \u001b[38;5;241m*\u001b[39m\u001b[38;5;241m=\u001b[39m \u001b[38;5;28mself\u001b[39m\u001b[38;5;241m.\u001b[39mscale_\n\u001b[0;32m   1067\u001b[0m     \u001b[38;5;28;01mif\u001b[39;00m \u001b[38;5;28mself\u001b[39m\u001b[38;5;241m.\u001b[39mwith_mean:\n\u001b[0;32m   1068\u001b[0m         X \u001b[38;5;241m+\u001b[39m\u001b[38;5;241m=\u001b[39m \u001b[38;5;28mself\u001b[39m\u001b[38;5;241m.\u001b[39mmean_\n",
      "\u001b[1;31mValueError\u001b[0m: non-broadcastable output operand with shape (1459,1) doesn't match the broadcast shape (1459,43)"
     ]
    }
   ],
   "source": [
    "predicted_prices = scaler.inverse_transform(y_pred.reshape(-1,1))\n",
    "predicted_prices"
   ]
  },
  {
   "cell_type": "code",
   "execution_count": null,
   "id": "8598da0a-be6a-4f23-9a74-7f7132089363",
   "metadata": {},
   "outputs": [],
   "source": []
  },
  {
   "cell_type": "markdown",
   "id": "fa47587f-6b8e-4e7b-adf9-8e51e8a7f0b6",
   "metadata": {},
   "source": [
    "# 9. Submitting to Kaggle"
   ]
  },
  {
   "cell_type": "code",
   "execution_count": null,
   "id": "1a8fe9a6-3aef-4785-b094-c1cbe61eafc1",
   "metadata": {
    "tags": []
   },
   "outputs": [],
   "source": [
    "id_list = list(df_test['Id'])"
   ]
  },
  {
   "cell_type": "code",
   "execution_count": null,
   "id": "119b197a-3096-4b3f-a242-ed6700e8aa41",
   "metadata": {
    "tags": []
   },
   "outputs": [],
   "source": [
    "prediction_list = []"
   ]
  },
  {
   "cell_type": "code",
   "execution_count": null,
   "id": "49673394-a0c0-4adb-b26c-2bacfd1a3c09",
   "metadata": {},
   "outputs": [],
   "source": []
  }
 ],
 "metadata": {
  "kernelspec": {
   "display_name": "Python 3 (ipykernel)",
   "language": "python",
   "name": "python3"
  },
  "language_info": {
   "codemirror_mode": {
    "name": "ipython",
    "version": 3
   },
   "file_extension": ".py",
   "mimetype": "text/x-python",
   "name": "python",
   "nbconvert_exporter": "python",
   "pygments_lexer": "ipython3",
   "version": "3.10.8"
  },
  "toc-autonumbering": false,
  "toc-showcode": false,
  "toc-showtags": false
 },
 "nbformat": 4,
 "nbformat_minor": 5
}
